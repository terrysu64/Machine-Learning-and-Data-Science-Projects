{
  "nbformat": 4,
  "nbformat_minor": 0,
  "metadata": {
    "colab": {
      "name": "tf-fundamentals-00.ipynb",
      "provenance": [],
      "collapsed_sections": [],
      "mount_file_id": "1gH0UUH5v1q24xIwtmxziYK4UCfsnEYbu",
      "authorship_tag": "ABX9TyPkpjusYboBC0BdQ370rVKm",
      "include_colab_link": true
    },
    "kernelspec": {
      "name": "python3",
      "display_name": "Python 3"
    },
    "language_info": {
      "name": "python"
    },
    "accelerator": "GPU",
    "gpuClass": "standard"
  },
  "cells": [
    {
      "cell_type": "markdown",
      "metadata": {
        "id": "view-in-github",
        "colab_type": "text"
      },
      "source": [
        "<a href=\"https://colab.research.google.com/github/terrysu64/Machine-Learning-and-Data-Science-Projects/blob/main/tf_fundamentals_00.ipynb\" target=\"_parent\"><img src=\"https://colab.research.google.com/assets/colab-badge.svg\" alt=\"Open In Colab\"/></a>"
      ]
    },
    {
      "cell_type": "markdown",
      "source": [
        "# Tensorflow Fundamentals\n"
      ],
      "metadata": {
        "id": "nNWMbLMBZ_4x"
      }
    },
    {
      "cell_type": "markdown",
      "source": [
        "### Intro to tensors"
      ],
      "metadata": {
        "id": "a9La6FCDaSmJ"
      }
    },
    {
      "cell_type": "code",
      "source": [
        "import tensorflow as tf\n",
        "print(tf.__version__)"
      ],
      "metadata": {
        "colab": {
          "base_uri": "https://localhost:8080/"
        },
        "id": "63WucQU7Zf1I",
        "outputId": "9ca4ab97-f7b4-4536-d89d-b0d62efe401a"
      },
      "execution_count": null,
      "outputs": [
        {
          "output_type": "stream",
          "name": "stdout",
          "text": [
            "2.8.2\n"
          ]
        }
      ]
    },
    {
      "cell_type": "code",
      "source": [
        "#creating tensors with tf.constant()\n",
        "scalar = tf.constant(7)\n",
        "scalar, scalar.ndim"
      ],
      "metadata": {
        "colab": {
          "base_uri": "https://localhost:8080/"
        },
        "id": "uPlmDSnqacfI",
        "outputId": "767a3505-d9dc-4385-c28e-5536752414ef"
      },
      "execution_count": null,
      "outputs": [
        {
          "output_type": "execute_result",
          "data": {
            "text/plain": [
              "(<tf.Tensor: shape=(), dtype=int32, numpy=7>, 0)"
            ]
          },
          "metadata": {},
          "execution_count": 2
        }
      ]
    },
    {
      "cell_type": "code",
      "source": [
        "vector = tf.constant([10,10])\n",
        "vector, vector.ndim #vector dimensions"
      ],
      "metadata": {
        "colab": {
          "base_uri": "https://localhost:8080/"
        },
        "id": "1QlvY7fSbWvf",
        "outputId": "7c697f28-a308-43cc-c8f7-fb72f72a0042"
      },
      "execution_count": null,
      "outputs": [
        {
          "output_type": "execute_result",
          "data": {
            "text/plain": [
              "(<tf.Tensor: shape=(2,), dtype=int32, numpy=array([10, 10], dtype=int32)>, 1)"
            ]
          },
          "metadata": {},
          "execution_count": 3
        }
      ]
    },
    {
      "cell_type": "code",
      "source": [
        "#creating tensors with tf.variable\n",
        "var_tensor = tf.Variable([10,7]) #mutable\n",
        "const_tensor = tf.constant([11,11])\n",
        "var_tensor,const_tensor"
      ],
      "metadata": {
        "colab": {
          "base_uri": "https://localhost:8080/"
        },
        "id": "QEQ4GHRIbnyn",
        "outputId": "f4d8b406-8bee-4e83-9a33-cdf19d4e2346"
      },
      "execution_count": null,
      "outputs": [
        {
          "output_type": "execute_result",
          "data": {
            "text/plain": [
              "(<tf.Variable 'Variable:0' shape=(2,) dtype=int32, numpy=array([10,  7], dtype=int32)>,\n",
              " <tf.Tensor: shape=(2,), dtype=int32, numpy=array([11, 11], dtype=int32)>)"
            ]
          },
          "metadata": {},
          "execution_count": 4
        }
      ]
    },
    {
      "cell_type": "code",
      "source": [
        "var_tensor[1].assign(3)"
      ],
      "metadata": {
        "colab": {
          "base_uri": "https://localhost:8080/"
        },
        "id": "ltypxIWNhQVr",
        "outputId": "18212cda-5ede-421d-a6a1-dda90aaf824b"
      },
      "execution_count": null,
      "outputs": [
        {
          "output_type": "execute_result",
          "data": {
            "text/plain": [
              "<tf.Variable 'UnreadVariable' shape=(2,) dtype=int32, numpy=array([10,  3], dtype=int32)>"
            ]
          },
          "metadata": {},
          "execution_count": 5
        }
      ]
    },
    {
      "cell_type": "code",
      "source": [
        "#create random tensors (arbitrary size and numbers)\n",
        "#could be normal distribution or uniform distribution\n",
        "tf.random.set_seed(42)\n",
        "rand_tensor0 = tf.random.Generator.from_seed(42).normal(shape=(3,2))\n",
        "rand_tensor0"
      ],
      "metadata": {
        "colab": {
          "base_uri": "https://localhost:8080/"
        },
        "id": "IciSK4lMhbQj",
        "outputId": "9bdfdaba-6e5a-41a7-b126-1312dfa98dbe"
      },
      "execution_count": null,
      "outputs": [
        {
          "output_type": "execute_result",
          "data": {
            "text/plain": [
              "<tf.Tensor: shape=(3, 2), dtype=float32, numpy=\n",
              "array([[-0.7565803 , -0.06854702],\n",
              "       [ 0.07595026, -1.2573844 ],\n",
              "       [-0.23193765, -1.8107855 ]], dtype=float32)>"
            ]
          },
          "metadata": {},
          "execution_count": 6
        }
      ]
    },
    {
      "cell_type": "code",
      "source": [
        "#shuffle order of elements in tensor\n",
        "const_tensor = tf.constant([1,2,3,4])\n",
        "tf.random.shuffle(const_tensor)"
      ],
      "metadata": {
        "colab": {
          "base_uri": "https://localhost:8080/"
        },
        "id": "fOAWO6uGm3Q9",
        "outputId": "9b7cb27c-9e5a-4f31-94f2-39a6409a6914"
      },
      "execution_count": null,
      "outputs": [
        {
          "output_type": "execute_result",
          "data": {
            "text/plain": [
              "<tf.Tensor: shape=(4,), dtype=int32, numpy=array([4, 1, 2, 3], dtype=int32)>"
            ]
          },
          "metadata": {},
          "execution_count": 7
        }
      ]
    },
    {
      "cell_type": "markdown",
      "source": [
        "### Alternative ways to make tensors"
      ],
      "metadata": {
        "id": "MVmFa215uXYO"
      }
    },
    {
      "cell_type": "code",
      "source": [
        "tf.ones([10,7])"
      ],
      "metadata": {
        "colab": {
          "base_uri": "https://localhost:8080/"
        },
        "id": "1s7O3r_Ru3YC",
        "outputId": "3faaaa55-d132-46da-ed26-8b4d9f5aeb42"
      },
      "execution_count": null,
      "outputs": [
        {
          "output_type": "execute_result",
          "data": {
            "text/plain": [
              "<tf.Tensor: shape=(10, 7), dtype=float32, numpy=\n",
              "array([[1., 1., 1., 1., 1., 1., 1.],\n",
              "       [1., 1., 1., 1., 1., 1., 1.],\n",
              "       [1., 1., 1., 1., 1., 1., 1.],\n",
              "       [1., 1., 1., 1., 1., 1., 1.],\n",
              "       [1., 1., 1., 1., 1., 1., 1.],\n",
              "       [1., 1., 1., 1., 1., 1., 1.],\n",
              "       [1., 1., 1., 1., 1., 1., 1.],\n",
              "       [1., 1., 1., 1., 1., 1., 1.],\n",
              "       [1., 1., 1., 1., 1., 1., 1.],\n",
              "       [1., 1., 1., 1., 1., 1., 1.]], dtype=float32)>"
            ]
          },
          "metadata": {},
          "execution_count": 8
        }
      ]
    },
    {
      "cell_type": "code",
      "source": [
        "#numpy\n",
        "import numpy as np\n",
        "arr = np.arange(1,25)\n",
        "tf.constant(arr)"
      ],
      "metadata": {
        "colab": {
          "base_uri": "https://localhost:8080/"
        },
        "id": "e1Pgpg5Xu8LD",
        "outputId": "5bf15da1-e590-43b5-c496-2c1d2c544d3a"
      },
      "execution_count": null,
      "outputs": [
        {
          "output_type": "execute_result",
          "data": {
            "text/plain": [
              "<tf.Tensor: shape=(24,), dtype=int64, numpy=\n",
              "array([ 1,  2,  3,  4,  5,  6,  7,  8,  9, 10, 11, 12, 13, 14, 15, 16, 17,\n",
              "       18, 19, 20, 21, 22, 23, 24])>"
            ]
          },
          "metadata": {},
          "execution_count": 9
        }
      ]
    },
    {
      "cell_type": "code",
      "source": [
        "tf.constant(arr,shape=(6,4))"
      ],
      "metadata": {
        "colab": {
          "base_uri": "https://localhost:8080/"
        },
        "id": "Ll9Wp-5XvcoT",
        "outputId": "63dbfafe-84bb-434e-d1bd-7bdeebcc05c9"
      },
      "execution_count": null,
      "outputs": [
        {
          "output_type": "execute_result",
          "data": {
            "text/plain": [
              "<tf.Tensor: shape=(6, 4), dtype=int64, numpy=\n",
              "array([[ 1,  2,  3,  4],\n",
              "       [ 5,  6,  7,  8],\n",
              "       [ 9, 10, 11, 12],\n",
              "       [13, 14, 15, 16],\n",
              "       [17, 18, 19, 20],\n",
              "       [21, 22, 23, 24]])>"
            ]
          },
          "metadata": {},
          "execution_count": 10
        }
      ]
    },
    {
      "cell_type": "code",
      "source": [
        ""
      ],
      "metadata": {
        "id": "MFyT3c63vkQy"
      },
      "execution_count": null,
      "outputs": []
    },
    {
      "cell_type": "markdown",
      "source": [
        "### Getting information from tensors"
      ],
      "metadata": {
        "id": "MgAwnKXI0qZE"
      }
    },
    {
      "cell_type": "code",
      "source": [
        "#shape, rank, axis, size\n",
        "tensor = tf.zeros(shape=[2,3,4])"
      ],
      "metadata": {
        "id": "GR5VYSdj0wfh"
      },
      "execution_count": null,
      "outputs": []
    },
    {
      "cell_type": "code",
      "source": [
        "tensor.shape, tensor.ndim, tf.size(tensor)"
      ],
      "metadata": {
        "colab": {
          "base_uri": "https://localhost:8080/"
        },
        "id": "7ymI_Bf606e_",
        "outputId": "5d262591-dc69-4b58-bc73-c7de9297d795"
      },
      "execution_count": null,
      "outputs": [
        {
          "output_type": "execute_result",
          "data": {
            "text/plain": [
              "(TensorShape([2, 3, 4]), 3, <tf.Tensor: shape=(), dtype=int32, numpy=24>)"
            ]
          },
          "metadata": {},
          "execution_count": 12
        }
      ]
    },
    {
      "cell_type": "markdown",
      "source": [
        "### Indexing tensors"
      ],
      "metadata": {
        "id": "NmAY9sHGpdrk"
      }
    },
    {
      "cell_type": "code",
      "source": [
        "tensor[:2,:2,:2]"
      ],
      "metadata": {
        "colab": {
          "base_uri": "https://localhost:8080/"
        },
        "id": "xoLB3kqnpfiG",
        "outputId": "bac0b4ec-d3ff-4935-fa9a-b7c0a1cbb8f9"
      },
      "execution_count": null,
      "outputs": [
        {
          "output_type": "execute_result",
          "data": {
            "text/plain": [
              "<tf.Tensor: shape=(2, 2, 2), dtype=float32, numpy=\n",
              "array([[[0., 0.],\n",
              "        [0., 0.]],\n",
              "\n",
              "       [[0., 0.],\n",
              "        [0., 0.]]], dtype=float32)>"
            ]
          },
          "metadata": {},
          "execution_count": 13
        }
      ]
    },
    {
      "cell_type": "code",
      "source": [
        "tensor[:2,:,:2]"
      ],
      "metadata": {
        "colab": {
          "base_uri": "https://localhost:8080/"
        },
        "id": "vPZ9goTRprUH",
        "outputId": "f61acb5b-fc67-424c-ff87-a9529a1f6c84"
      },
      "execution_count": null,
      "outputs": [
        {
          "output_type": "execute_result",
          "data": {
            "text/plain": [
              "<tf.Tensor: shape=(2, 3, 2), dtype=float32, numpy=\n",
              "array([[[0., 0.],\n",
              "        [0., 0.],\n",
              "        [0., 0.]],\n",
              "\n",
              "       [[0., 0.],\n",
              "        [0., 0.],\n",
              "        [0., 0.]]], dtype=float32)>"
            ]
          },
          "metadata": {},
          "execution_count": 14
        }
      ]
    },
    {
      "cell_type": "code",
      "source": [
        "rank2 = tf.constant([[1,1],[1,1]])\n",
        "rank2.shape"
      ],
      "metadata": {
        "colab": {
          "base_uri": "https://localhost:8080/"
        },
        "id": "yPLp_8GRp9rp",
        "outputId": "a97c2cdc-2c06-4529-e179-1fd981995119"
      },
      "execution_count": null,
      "outputs": [
        {
          "output_type": "execute_result",
          "data": {
            "text/plain": [
              "TensorShape([2, 2])"
            ]
          },
          "metadata": {},
          "execution_count": 15
        }
      ]
    },
    {
      "cell_type": "code",
      "source": [
        "#add extra dimention\n",
        "rank3 = rank2[..., tf.newaxis] #wrap individual indices\n",
        "rank3"
      ],
      "metadata": {
        "colab": {
          "base_uri": "https://localhost:8080/"
        },
        "id": "N_hK-8ERqJSI",
        "outputId": "2d4a9a0b-0d68-4bf6-bf3e-8a7a3b7366e9"
      },
      "execution_count": null,
      "outputs": [
        {
          "output_type": "execute_result",
          "data": {
            "text/plain": [
              "<tf.Tensor: shape=(2, 2, 1), dtype=int32, numpy=\n",
              "array([[[1],\n",
              "        [1]],\n",
              "\n",
              "       [[1],\n",
              "        [1]]], dtype=int32)>"
            ]
          },
          "metadata": {},
          "execution_count": 16
        }
      ]
    },
    {
      "cell_type": "code",
      "source": [
        "tf.expand_dims(rank2, axis=0) #i.e wrap which axis"
      ],
      "metadata": {
        "colab": {
          "base_uri": "https://localhost:8080/"
        },
        "id": "SaXG5xaZqZ0_",
        "outputId": "0e16c294-464a-45a9-9683-9146539e3289"
      },
      "execution_count": null,
      "outputs": [
        {
          "output_type": "execute_result",
          "data": {
            "text/plain": [
              "<tf.Tensor: shape=(1, 2, 2), dtype=int32, numpy=\n",
              "array([[[1, 1],\n",
              "        [1, 1]]], dtype=int32)>"
            ]
          },
          "metadata": {},
          "execution_count": 17
        }
      ]
    },
    {
      "cell_type": "markdown",
      "source": [
        "### Tensor operations"
      ],
      "metadata": {
        "id": "4ydrllXMtEho"
      }
    },
    {
      "cell_type": "code",
      "source": [
        "tensor"
      ],
      "metadata": {
        "colab": {
          "base_uri": "https://localhost:8080/"
        },
        "id": "zM2OlT3_tFzh",
        "outputId": "32d0382d-a67b-488d-e3fd-4fabcc0c8ea7"
      },
      "execution_count": null,
      "outputs": [
        {
          "output_type": "execute_result",
          "data": {
            "text/plain": [
              "<tf.Tensor: shape=(2, 3, 4), dtype=float32, numpy=\n",
              "array([[[0., 0., 0., 0.],\n",
              "        [0., 0., 0., 0.],\n",
              "        [0., 0., 0., 0.]],\n",
              "\n",
              "       [[0., 0., 0., 0.],\n",
              "        [0., 0., 0., 0.],\n",
              "        [0., 0., 0., 0.]]], dtype=float32)>"
            ]
          },
          "metadata": {},
          "execution_count": 18
        }
      ]
    },
    {
      "cell_type": "code",
      "source": [
        "tensor+=10 #any basic arithmetic works\n",
        "tensor"
      ],
      "metadata": {
        "colab": {
          "base_uri": "https://localhost:8080/"
        },
        "id": "trm9hegStH5F",
        "outputId": "8a61963b-3edb-4c1e-9fcc-4ac24c1aaa0e"
      },
      "execution_count": null,
      "outputs": [
        {
          "output_type": "execute_result",
          "data": {
            "text/plain": [
              "<tf.Tensor: shape=(2, 3, 4), dtype=float32, numpy=\n",
              "array([[[10., 10., 10., 10.],\n",
              "        [10., 10., 10., 10.],\n",
              "        [10., 10., 10., 10.]],\n",
              "\n",
              "       [[10., 10., 10., 10.],\n",
              "        [10., 10., 10., 10.],\n",
              "        [10., 10., 10., 10.]]], dtype=float32)>"
            ]
          },
          "metadata": {},
          "execution_count": 19
        }
      ]
    },
    {
      "cell_type": "code",
      "source": [
        "#matrix multiplication/dot product\n",
        "tf.matmul(rank2,rank2)"
      ],
      "metadata": {
        "id": "SBpUFAeFtLl0",
        "colab": {
          "base_uri": "https://localhost:8080/"
        },
        "outputId": "996497d2-4236-49ff-a0d2-2d4f5f9b4e4a"
      },
      "execution_count": null,
      "outputs": [
        {
          "output_type": "execute_result",
          "data": {
            "text/plain": [
              "<tf.Tensor: shape=(2, 2), dtype=int32, numpy=\n",
              "array([[2, 2],\n",
              "       [2, 2]], dtype=int32)>"
            ]
          },
          "metadata": {},
          "execution_count": 20
        }
      ]
    },
    {
      "cell_type": "code",
      "source": [
        "rank2 @ rank2 #when dims dont match use transpose() over reshape()"
      ],
      "metadata": {
        "colab": {
          "base_uri": "https://localhost:8080/"
        },
        "id": "qx4fZ8kZvsHH",
        "outputId": "5bdaaa9f-1894-4e53-cc6f-045b59657714"
      },
      "execution_count": null,
      "outputs": [
        {
          "output_type": "execute_result",
          "data": {
            "text/plain": [
              "<tf.Tensor: shape=(2, 2), dtype=int32, numpy=\n",
              "array([[2, 2],\n",
              "       [2, 2]], dtype=int32)>"
            ]
          },
          "metadata": {},
          "execution_count": 21
        }
      ]
    },
    {
      "cell_type": "markdown",
      "source": [
        "###Changing datatypes of tensors"
      ],
      "metadata": {
        "id": "AsvhrfLC0Kv9"
      }
    },
    {
      "cell_type": "code",
      "source": [
        "tensor = tf.constant([2.2,3.5])\n",
        "tensor.dtype"
      ],
      "metadata": {
        "colab": {
          "base_uri": "https://localhost:8080/"
        },
        "id": "q2MgT3nS0ND-",
        "outputId": "858068c2-fe53-4f27-e427-fb1aed461310"
      },
      "execution_count": null,
      "outputs": [
        {
          "output_type": "execute_result",
          "data": {
            "text/plain": [
              "tf.float32"
            ]
          },
          "metadata": {},
          "execution_count": 22
        }
      ]
    },
    {
      "cell_type": "code",
      "source": [
        "tf.cast(tensor,dtype=tf.float16)"
      ],
      "metadata": {
        "colab": {
          "base_uri": "https://localhost:8080/"
        },
        "id": "Me5vXvzk0R5l",
        "outputId": "784b2079-f0a7-43cd-8d04-2591327c089f"
      },
      "execution_count": null,
      "outputs": [
        {
          "output_type": "execute_result",
          "data": {
            "text/plain": [
              "<tf.Tensor: shape=(2,), dtype=float16, numpy=array([2.2, 3.5], dtype=float16)>"
            ]
          },
          "metadata": {},
          "execution_count": 23
        }
      ]
    },
    {
      "cell_type": "markdown",
      "source": [
        "### Aggregating tensors"
      ],
      "metadata": {
        "id": "QyDTtpT24_VW"
      }
    },
    {
      "cell_type": "code",
      "source": [
        "tensor = tf.constant([[1,-3],[44,2]])\n",
        "tf.abs(tensor)"
      ],
      "metadata": {
        "colab": {
          "base_uri": "https://localhost:8080/"
        },
        "id": "CbaCDBt45A1v",
        "outputId": "b71d0fe8-9ea0-4d19-99f7-5d8d0bd79f66"
      },
      "execution_count": null,
      "outputs": [
        {
          "output_type": "execute_result",
          "data": {
            "text/plain": [
              "<tf.Tensor: shape=(2, 2), dtype=int32, numpy=\n",
              "array([[ 1,  3],\n",
              "       [44,  2]], dtype=int32)>"
            ]
          },
          "metadata": {},
          "execution_count": 24
        }
      ]
    },
    {
      "cell_type": "code",
      "source": [
        "tf.reduce_min(tensor),tf.reduce_max(tensor),tf.reduce_mean(tensor),tf.reduce_sum(tensor)"
      ],
      "metadata": {
        "colab": {
          "base_uri": "https://localhost:8080/"
        },
        "id": "hyFoxW8c56A-",
        "outputId": "e86176d0-3552-4e72-f4dd-1a435bc368d7"
      },
      "execution_count": null,
      "outputs": [
        {
          "output_type": "execute_result",
          "data": {
            "text/plain": [
              "(<tf.Tensor: shape=(), dtype=int32, numpy=-3>,\n",
              " <tf.Tensor: shape=(), dtype=int32, numpy=44>,\n",
              " <tf.Tensor: shape=(), dtype=int32, numpy=11>,\n",
              " <tf.Tensor: shape=(), dtype=int32, numpy=44>)"
            ]
          },
          "metadata": {},
          "execution_count": 25
        }
      ]
    },
    {
      "cell_type": "markdown",
      "source": [
        "### Position max/min"
      ],
      "metadata": {
        "id": "9KkcLPnK690V"
      }
    },
    {
      "cell_type": "code",
      "source": [
        "tf.random.set_seed(42)\n",
        "tensor = tf.random.uniform(shape=[50])\n",
        "tensor"
      ],
      "metadata": {
        "colab": {
          "base_uri": "https://localhost:8080/"
        },
        "id": "X0aKjpPN6IsI",
        "outputId": "f29a38f2-ed74-458a-d873-462f51d2e839"
      },
      "execution_count": null,
      "outputs": [
        {
          "output_type": "execute_result",
          "data": {
            "text/plain": [
              "<tf.Tensor: shape=(50,), dtype=float32, numpy=\n",
              "array([0.6645621 , 0.44100678, 0.3528825 , 0.46448255, 0.03366041,\n",
              "       0.68467236, 0.74011743, 0.8724445 , 0.22632635, 0.22319686,\n",
              "       0.3103881 , 0.7223358 , 0.13318717, 0.5480639 , 0.5746088 ,\n",
              "       0.8996835 , 0.00946367, 0.5212307 , 0.6345445 , 0.1993283 ,\n",
              "       0.72942245, 0.54583454, 0.10756552, 0.6767061 , 0.6602763 ,\n",
              "       0.33695042, 0.60141766, 0.21062577, 0.8527372 , 0.44062173,\n",
              "       0.9485276 , 0.23752594, 0.81179297, 0.5263394 , 0.494308  ,\n",
              "       0.21612847, 0.8457197 , 0.8718841 , 0.3083862 , 0.6868038 ,\n",
              "       0.23764038, 0.7817228 , 0.9671384 , 0.06870162, 0.79873943,\n",
              "       0.66028714, 0.5871513 , 0.16461694, 0.7381023 , 0.32054043],\n",
              "      dtype=float32)>"
            ]
          },
          "metadata": {},
          "execution_count": 26
        }
      ]
    },
    {
      "cell_type": "code",
      "source": [
        "tf.argmax(tensor), tensor[tf.argmax(tensor)]"
      ],
      "metadata": {
        "colab": {
          "base_uri": "https://localhost:8080/"
        },
        "id": "29k3jtF873_7",
        "outputId": "c25dccff-291f-490a-cb09-b28612e192a9"
      },
      "execution_count": null,
      "outputs": [
        {
          "output_type": "execute_result",
          "data": {
            "text/plain": [
              "(<tf.Tensor: shape=(), dtype=int64, numpy=42>,\n",
              " <tf.Tensor: shape=(), dtype=float32, numpy=0.9671384>)"
            ]
          },
          "metadata": {},
          "execution_count": 27
        }
      ]
    },
    {
      "cell_type": "code",
      "source": [
        "tf.argmin(tensor), tensor[tf.argmin(tensor)]"
      ],
      "metadata": {
        "colab": {
          "base_uri": "https://localhost:8080/"
        },
        "id": "lkbhTQEC8KM-",
        "outputId": "b42f3ad4-5204-4a5f-929e-b04efe02771f"
      },
      "execution_count": null,
      "outputs": [
        {
          "output_type": "execute_result",
          "data": {
            "text/plain": [
              "(<tf.Tensor: shape=(), dtype=int64, numpy=16>,\n",
              " <tf.Tensor: shape=(), dtype=float32, numpy=0.009463668>)"
            ]
          },
          "metadata": {},
          "execution_count": 28
        }
      ]
    },
    {
      "cell_type": "markdown",
      "source": [
        "###Squeezing tensors"
      ],
      "metadata": {
        "id": "6DrqcvTq-q4Y"
      }
    },
    {
      "cell_type": "code",
      "source": [
        "tensor = tf.constant(tf.random.uniform(shape=[50]), shape=(1,1,1,50))\n",
        "tensor"
      ],
      "metadata": {
        "colab": {
          "base_uri": "https://localhost:8080/"
        },
        "id": "S3IPDt6v8OkW",
        "outputId": "6f8827fe-876b-4931-e8c7-ea64f2bce382"
      },
      "execution_count": null,
      "outputs": [
        {
          "output_type": "execute_result",
          "data": {
            "text/plain": [
              "<tf.Tensor: shape=(1, 1, 1, 50), dtype=float32, numpy=\n",
              "array([[[[0.68789124, 0.48447883, 0.9309944 , 0.252187  , 0.73115396,\n",
              "          0.89256823, 0.94674826, 0.7493341 , 0.34925628, 0.54718256,\n",
              "          0.26160395, 0.69734323, 0.11962581, 0.53484344, 0.7148968 ,\n",
              "          0.87501776, 0.33967495, 0.17377627, 0.4418521 , 0.9008261 ,\n",
              "          0.13803864, 0.12217975, 0.5754491 , 0.9417181 , 0.9186585 ,\n",
              "          0.59708476, 0.6109482 , 0.82086265, 0.83269787, 0.8915849 ,\n",
              "          0.01377225, 0.49807465, 0.57503664, 0.6856195 , 0.75972784,\n",
              "          0.908944  , 0.40900218, 0.8765154 , 0.53890026, 0.42733097,\n",
              "          0.401173  , 0.66623247, 0.16348064, 0.18220246, 0.97040176,\n",
              "          0.06139731, 0.53034747, 0.9869994 , 0.4746945 , 0.8646754 ]]]],\n",
              "      dtype=float32)>"
            ]
          },
          "metadata": {},
          "execution_count": 29
        }
      ]
    },
    {
      "cell_type": "code",
      "source": [
        "tf.squeeze(tensor) #remove dimensions of 1"
      ],
      "metadata": {
        "colab": {
          "base_uri": "https://localhost:8080/"
        },
        "id": "WA2PEaLf-65a",
        "outputId": "97db13c6-9b79-48c2-eea1-a257b8c79300"
      },
      "execution_count": null,
      "outputs": [
        {
          "output_type": "execute_result",
          "data": {
            "text/plain": [
              "<tf.Tensor: shape=(50,), dtype=float32, numpy=\n",
              "array([0.68789124, 0.48447883, 0.9309944 , 0.252187  , 0.73115396,\n",
              "       0.89256823, 0.94674826, 0.7493341 , 0.34925628, 0.54718256,\n",
              "       0.26160395, 0.69734323, 0.11962581, 0.53484344, 0.7148968 ,\n",
              "       0.87501776, 0.33967495, 0.17377627, 0.4418521 , 0.9008261 ,\n",
              "       0.13803864, 0.12217975, 0.5754491 , 0.9417181 , 0.9186585 ,\n",
              "       0.59708476, 0.6109482 , 0.82086265, 0.83269787, 0.8915849 ,\n",
              "       0.01377225, 0.49807465, 0.57503664, 0.6856195 , 0.75972784,\n",
              "       0.908944  , 0.40900218, 0.8765154 , 0.53890026, 0.42733097,\n",
              "       0.401173  , 0.66623247, 0.16348064, 0.18220246, 0.97040176,\n",
              "       0.06139731, 0.53034747, 0.9869994 , 0.4746945 , 0.8646754 ],\n",
              "      dtype=float32)>"
            ]
          },
          "metadata": {},
          "execution_count": 30
        }
      ]
    },
    {
      "cell_type": "markdown",
      "source": [
        "### one-hot encoding tensors"
      ],
      "metadata": {
        "id": "wcKh9RX9_M15"
      }
    },
    {
      "cell_type": "code",
      "source": [
        "tensor = [1,2,3,4]\n",
        "tf.one_hot(tensor, depth=4, on_value=1, off_value=0)"
      ],
      "metadata": {
        "colab": {
          "base_uri": "https://localhost:8080/"
        },
        "id": "4yRdZTr1_Fki",
        "outputId": "0918b05b-f316-4387-d8ed-13f60b91e704"
      },
      "execution_count": null,
      "outputs": [
        {
          "output_type": "execute_result",
          "data": {
            "text/plain": [
              "<tf.Tensor: shape=(4, 4), dtype=int32, numpy=\n",
              "array([[0, 1, 0, 0],\n",
              "       [0, 0, 1, 0],\n",
              "       [0, 0, 0, 1],\n",
              "       [0, 0, 0, 0]], dtype=int32)>"
            ]
          },
          "metadata": {},
          "execution_count": 31
        }
      ]
    },
    {
      "cell_type": "markdown",
      "source": [
        "### tensors and numpy"
      ],
      "metadata": {
        "id": "rxfQ9FWIBF_a"
      }
    },
    {
      "cell_type": "code",
      "source": [
        "tensor = tf.constant(np.array([3,3,4]))\n",
        "np.array(tensor), type(np.array(tensor))"
      ],
      "metadata": {
        "colab": {
          "base_uri": "https://localhost:8080/"
        },
        "id": "gBpP9S4A_s1n",
        "outputId": "66c18504-ae39-4d9b-fb05-c02539f0c328"
      },
      "execution_count": null,
      "outputs": [
        {
          "output_type": "execute_result",
          "data": {
            "text/plain": [
              "(array([3, 3, 4]), numpy.ndarray)"
            ]
          },
          "metadata": {},
          "execution_count": 32
        }
      ]
    },
    {
      "cell_type": "markdown",
      "source": [
        "### Finding access to GPU"
      ],
      "metadata": {
        "id": "yfvEH2ulD7re"
      }
    },
    {
      "cell_type": "code",
      "source": [
        "tf.config.list_physical_devices()"
      ],
      "metadata": {
        "colab": {
          "base_uri": "https://localhost:8080/"
        },
        "id": "uUuiOVGuBJmT",
        "outputId": "760a78b8-93e3-43e2-a844-12093d1bb983"
      },
      "execution_count": null,
      "outputs": [
        {
          "output_type": "execute_result",
          "data": {
            "text/plain": [
              "[PhysicalDevice(name='/physical_device:CPU:0', device_type='CPU'),\n",
              " PhysicalDevice(name='/physical_device:GPU:0', device_type='GPU')]"
            ]
          },
          "metadata": {},
          "execution_count": 33
        }
      ]
    },
    {
      "cell_type": "code",
      "source": [
        "tf.config.list_physical_devices(\"GPU\")"
      ],
      "metadata": {
        "colab": {
          "base_uri": "https://localhost:8080/"
        },
        "id": "JwipGV5wEGOy",
        "outputId": "459175c2-c85b-48e7-abe2-891c5763237d"
      },
      "execution_count": null,
      "outputs": [
        {
          "output_type": "execute_result",
          "data": {
            "text/plain": [
              "[PhysicalDevice(name='/physical_device:GPU:0', device_type='GPU')]"
            ]
          },
          "metadata": {},
          "execution_count": 34
        }
      ]
    },
    {
      "cell_type": "code",
      "source": [
        "!nvidia-smi"
      ],
      "metadata": {
        "colab": {
          "base_uri": "https://localhost:8080/"
        },
        "id": "kP_t2_OXEWXT",
        "outputId": "52ca04fb-5fa0-44d2-c9fd-ac3d99e724c5"
      },
      "execution_count": null,
      "outputs": [
        {
          "output_type": "stream",
          "name": "stdout",
          "text": [
            "Mon Jul 18 16:12:14 2022       \n",
            "+-----------------------------------------------------------------------------+\n",
            "| NVIDIA-SMI 460.32.03    Driver Version: 460.32.03    CUDA Version: 11.2     |\n",
            "|-------------------------------+----------------------+----------------------+\n",
            "| GPU  Name        Persistence-M| Bus-Id        Disp.A | Volatile Uncorr. ECC |\n",
            "| Fan  Temp  Perf  Pwr:Usage/Cap|         Memory-Usage | GPU-Util  Compute M. |\n",
            "|                               |                      |               MIG M. |\n",
            "|===============================+======================+======================|\n",
            "|   0  Tesla T4            Off  | 00000000:00:04.0 Off |                    0 |\n",
            "| N/A   55C    P0    28W /  70W |    286MiB / 15109MiB |      0%      Default |\n",
            "|                               |                      |                  N/A |\n",
            "+-------------------------------+----------------------+----------------------+\n",
            "                                                                               \n",
            "+-----------------------------------------------------------------------------+\n",
            "| Processes:                                                                  |\n",
            "|  GPU   GI   CI        PID   Type   Process name                  GPU Memory |\n",
            "|        ID   ID                                                   Usage      |\n",
            "|=============================================================================|\n",
            "+-----------------------------------------------------------------------------+\n"
          ]
        }
      ]
    },
    {
      "cell_type": "code",
      "source": [
        ""
      ],
      "metadata": {
        "id": "WudiHNjzEy8c"
      },
      "execution_count": null,
      "outputs": []
    }
  ]
}