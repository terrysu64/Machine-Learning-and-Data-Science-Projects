{
 "cells": [
  {
   "cell_type": "markdown",
   "id": "d07cdf4e",
   "metadata": {},
   "source": [
    "## Tensorflow Exploration "
   ]
  },
  {
   "cell_type": "markdown",
   "id": "e45cd0f0",
   "metadata": {},
   "source": [
    "### Importing + splitting data"
   ]
  },
  {
   "cell_type": "code",
   "execution_count": 6,
   "id": "41861df3",
   "metadata": {},
   "outputs": [],
   "source": [
    "import tensorflow as tf\n",
    "from tensorflow import keras\n",
    "import numpy as np\n",
    "import matplotlib.pyplot as plt"
   ]
  },
  {
   "cell_type": "code",
   "execution_count": 7,
   "id": "fc15c8f9",
   "metadata": {},
   "outputs": [],
   "source": [
    "#sample dataset: https://keras.io/api/datasets/fashion_mnist/\n",
    "data = keras.datasets.fashion_mnist\n",
    "class_names = ['T-shirt/top', 'Trouser', 'Pullover', 'Dress', 'Coat', \n",
    "               'Sandal', 'Shirt', 'Sneaker', 'Bag', 'Ankle Boot']"
   ]
  },
  {
   "cell_type": "code",
   "execution_count": 33,
   "id": "c6c27263",
   "metadata": {},
   "outputs": [],
   "source": [
    "(X_train, y_train), (X_test, y_test) = data.load_data()\n",
    "X_train = X_train/250; X_test = X_train/250 #compress images"
   ]
  },
  {
   "cell_type": "markdown",
   "id": "960f2508",
   "metadata": {},
   "source": [
    "### Exploring data"
   ]
  },
  {
   "cell_type": "code",
   "execution_count": 34,
   "id": "f278c919",
   "metadata": {},
   "outputs": [
    {
     "data": {
      "text/plain": [
       "(numpy.ndarray, numpy.ndarray)"
      ]
     },
     "execution_count": 34,
     "metadata": {},
     "output_type": "execute_result"
    }
   ],
   "source": [
    "type(X_train), type(y_train)"
   ]
  },
  {
   "cell_type": "code",
   "execution_count": 35,
   "id": "c14dd23c",
   "metadata": {},
   "outputs": [
    {
     "data": {
      "text/plain": [
       "((60000, 28, 28), (60000,))"
      ]
     },
     "execution_count": 35,
     "metadata": {},
     "output_type": "execute_result"
    }
   ],
   "source": [
    "#images are 28x28 with each grayscale value represented by image[i][j]\n",
    "np.shape(X_train), np.shape(y_train)"
   ]
  },
  {
   "cell_type": "code",
   "execution_count": 36,
   "id": "fa99ba55",
   "metadata": {},
   "outputs": [
    {
     "data": {
      "image/png": "[encoded data removed]",
      "text/plain": [
       "<Figure size 432x288 with 1 Axes>"
      ]
     },
     "metadata": {
      "needs_background": "light"
     },
     "output_type": "display_data"
    }
   ],
   "source": [
    "plt.imshow(X_train[0], cmap=plt.cm.binary)\n",
    "plt.show()"
   ]
  },
  {
   "cell_type": "markdown",
   "id": "11c53d6a",
   "metadata": {},
   "source": [
    "### Model training + evaluation"
   ]
  },
  {
   "cell_type": "code",
   "execution_count": 37,
   "id": "83baeb04",
   "metadata": {},
   "outputs": [],
   "source": [
    "#softmax -> makes sure output layer is a probability\n",
    "#epoch -> how many times the network iterates through the dataset\n",
    "#Keras.sequential -> layers definition\n",
    "#cross-entropy is used when true labels are one-hot encoded\n",
    "\n",
    "model = keras.Sequential([\n",
    "    keras.layers.Flatten(input_shape=np.shape(X_train[0])),\n",
    "    keras.layers.Dense(128,activation=\"relu\"), #tot pixels\n",
    "    keras.layers.Dense(10,activation=\"softmax\") #tot outcomes\n",
    "])\n",
    "\n",
    "model.compile(optimizer=\"adam\", loss=\"sparse_categorical_crossentropy\", metrics=[\"accuracy\"])"
   ]
  },
  {
   "cell_type": "code",
   "execution_count": 38,
   "id": "f927021e",
   "metadata": {},
   "outputs": [
    {
     "name": "stdout",
     "output_type": "stream",
     "text": [
      "Epoch 1/4\n",
      "1875/1875 [==============================] - 4s 2ms/step - loss: 0.4955 - accuracy: 0.8256\n",
      "Epoch 2/4\n",
      "1875/1875 [==============================] - 4s 2ms/step - loss: 0.3722 - accuracy: 0.8674\n",
      "Epoch 3/4\n",
      "1875/1875 [==============================] - 4s 2ms/step - loss: 0.3355 - accuracy: 0.8772\n",
      "Epoch 4/4\n",
      "1875/1875 [==============================] - 4s 2ms/step - loss: 0.3120 - accuracy: 0.8864\n"
     ]
    },
    {
     "data": {
      "text/plain": [
       "<keras.callbacks.History at 0x1f1001d1a90>"
      ]
     },
     "execution_count": 38,
     "metadata": {},
     "output_type": "execute_result"
    }
   ],
   "source": [
    "model.fit(X_train, y_train, epochs=4)"
   ]
  },
  {
   "cell_type": "code",
   "execution_count": 44,
   "id": "aa42af8a",
   "metadata": {},
   "outputs": [
    {
     "name": "stdout",
     "output_type": "stream",
     "text": [
      "313/313 [==============================] - 1s 2ms/step - loss: 3.3715 - accuracy: 0.1000\n",
      "Accuracy: 0.10000000149011612\n"
     ]
    }
   ],
   "source": [
    "lost, acc = model.evaluate(X_test[-10000:], y_test)\n",
    "print(f'Accuracy: {acc}') #most likely due to data being mixed up"
   ]
  },
  {
   "cell_type": "code",
   "execution_count": 47,
   "id": "db1c703a",
   "metadata": {},
   "outputs": [
    {
     "name": "stdout",
     "output_type": "stream",
     "text": [
      "1875/1875 [==============================] - 3s 2ms/step\n"
     ]
    },
    {
     "data": {
      "text/plain": [
       "array([0.07625948, 0.00595636, 0.04536819, 0.04542431, 0.01308424,\n",
       "       0.69784695, 0.06035765, 0.03487037, 0.01782346, 0.00300902],\n",
       "      dtype=float32)"
      ]
     },
     "execution_count": 47,
     "metadata": {},
     "output_type": "execute_result"
    }
   ],
   "source": [
    "model.predict(X_test)[0]"
   ]
  },
  {
   "cell_type": "code",
   "execution_count": null,
   "id": "a0a99e4d",
   "metadata": {},
   "outputs": [],
   "source": []
  }
 ],
 "metadata": {
  "kernelspec": {
   "display_name": "Python 3",
   "language": "python",
   "name": "python3"
  },
  "language_info": {
   "codemirror_mode": {
    "name": "ipython",
    "version": 3
   },
   "file_extension": ".py",
   "mimetype": "text/x-python",
   "name": "python",
   "nbconvert_exporter": "python",
   "pygments_lexer": "ipython3",
   "version": "3.8.8"
  }
 },
 "nbformat": 4,
 "nbformat_minor": 5
}
