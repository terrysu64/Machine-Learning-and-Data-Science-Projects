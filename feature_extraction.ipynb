{
  "nbformat": 4,
  "nbformat_minor": 0,
  "metadata": {
    "colab": {
      "name": "feature-extraction.ipynb",
      "provenance": [],
      "authorship_tag": "ABX9TyPjL4rpmAPfZPk5/l5pOgS0",
      "include_colab_link": true
    },
    "kernelspec": {
      "name": "python3",
      "display_name": "Python 3"
    },
    "language_info": {
      "name": "python"
    },
    "accelerator": "GPU",
    "gpuClass": "standard"
  },
  "cells": [
    {
      "cell_type": "markdown",
      "metadata": {
        "id": "view-in-github",
        "colab_type": "text"
      },
      "source": [
        "<a href=\"https://colab.research.google.com/github/terrysu64/Machine-Learning-and-Data-Science-Projects/blob/main/feature_extraction.ipynb\" target=\"_parent\"><img src=\"https://colab.research.google.com/assets/colab-badge.svg\" alt=\"Open In Colab\"/></a>"
      ]
    },
    {
      "cell_type": "markdown",
      "source": [
        "# Transfer learning - feature extraction"
      ],
      "metadata": {
        "id": "In5zpWnjvZGh"
      }
    },
    {
      "cell_type": "markdown",
      "source": [
        "### inspect data"
      ],
      "metadata": {
        "id": "vDn1zawEvp4b"
      }
    },
    {
      "cell_type": "code",
      "execution_count": null,
      "metadata": {
        "colab": {
          "base_uri": "https://localhost:8080/"
        },
        "id": "AyAbFwXbvVCY",
        "outputId": "eb08db28-2f1f-4b01-99a3-fadf32580900"
      },
      "outputs": [
        {
          "output_type": "stream",
          "name": "stdout",
          "text": [
            "--2022-07-31 15:24:20--  https://storage.googleapis.com/ztm_tf_course/food_vision/10_food_classes_10_percent.zip\n",
            "Resolving storage.googleapis.com (storage.googleapis.com)... 108.177.11.128, 108.177.12.128, 74.125.26.128, ...\n",
            "Connecting to storage.googleapis.com (storage.googleapis.com)|108.177.11.128|:443... connected.\n",
            "HTTP request sent, awaiting response... 200 OK\n",
            "Length: 168546183 (161M) [application/zip]\n",
            "Saving to: ‘10_food_classes_10_percent.zip.1’\n",
            "\n",
            "10_food_classes_10_ 100%[===================>] 160.74M   237MB/s    in 0.7s    \n",
            "\n",
            "2022-07-31 15:24:21 (237 MB/s) - ‘10_food_classes_10_percent.zip.1’ saved [168546183/168546183]\n",
            "\n"
          ]
        }
      ],
      "source": [
        "import zipfile\n",
        "\n",
        "!wget https://storage.googleapis.com/ztm_tf_course/food_vision/10_food_classes_10_percent.zip\n",
        "\n",
        "zip_ref = zipfile.ZipFile(\"10_food_classes_10_percent.zip\")\n",
        "zip_ref.extractall()\n",
        "zip_ref.close()"
      ]
    },
    {
      "cell_type": "code",
      "source": [
        "import os \n",
        "\n",
        "for dirpath,dirname,filenames in os.walk(\"10_food_classes_10_percent\"):\n",
        "  print(dirpath,len(dirname),len(filenames))"
      ],
      "metadata": {
        "colab": {
          "base_uri": "https://localhost:8080/"
        },
        "id": "ePAR729YvmyZ",
        "outputId": "e967025e-9116-4e67-dbb6-566f92417b02"
      },
      "execution_count": null,
      "outputs": [
        {
          "output_type": "stream",
          "name": "stdout",
          "text": [
            "10_food_classes_10_percent 2 0\n",
            "10_food_classes_10_percent/test 10 0\n",
            "10_food_classes_10_percent/test/grilled_salmon 0 250\n",
            "10_food_classes_10_percent/test/hamburger 0 250\n",
            "10_food_classes_10_percent/test/ramen 0 250\n",
            "10_food_classes_10_percent/test/ice_cream 0 250\n",
            "10_food_classes_10_percent/test/chicken_wings 0 250\n",
            "10_food_classes_10_percent/test/pizza 0 250\n",
            "10_food_classes_10_percent/test/fried_rice 0 250\n",
            "10_food_classes_10_percent/test/sushi 0 250\n",
            "10_food_classes_10_percent/test/chicken_curry 0 250\n",
            "10_food_classes_10_percent/test/steak 0 250\n",
            "10_food_classes_10_percent/train 10 0\n",
            "10_food_classes_10_percent/train/grilled_salmon 0 75\n",
            "10_food_classes_10_percent/train/hamburger 0 75\n",
            "10_food_classes_10_percent/train/ramen 0 75\n",
            "10_food_classes_10_percent/train/ice_cream 0 75\n",
            "10_food_classes_10_percent/train/chicken_wings 0 75\n",
            "10_food_classes_10_percent/train/pizza 0 75\n",
            "10_food_classes_10_percent/train/fried_rice 0 75\n",
            "10_food_classes_10_percent/train/sushi 0 75\n",
            "10_food_classes_10_percent/train/chicken_curry 0 75\n",
            "10_food_classes_10_percent/train/steak 0 75\n"
          ]
        }
      ]
    },
    {
      "cell_type": "code",
      "source": [
        "from tensorflow.keras.preprocessing.image import ImageDataGenerator as IDG\n",
        "\n",
        "#preprocess data\n",
        "train_datagen = IDG(rescale=1./224,\n",
        "                    rotation_range=0.2,\n",
        "                    zoom_range=0.2,\n",
        "                    horizontal_flip=True)\n",
        "\n",
        "valid_datagen = IDG(rescale=1./224)\n",
        "\n",
        "#paths\n",
        "train_dir = \"10_food_classes_10_percent/train\"\n",
        "test_dir = \"10_food_classes_10_percent/test\"\n",
        "\n",
        "#import data and turn to batches\n",
        "train_data = train_datagen.flow_from_directory(directory=train_dir,\n",
        "                                               batch_size=32,\n",
        "                                               target_size=(224,224),\n",
        "                                               class_mode=\"categorical\",\n",
        "                                               seed=42)\n",
        "\n",
        "valid_data = valid_datagen.flow_from_directory(directory=test_dir,\n",
        "                                               batch_size=32,\n",
        "                                               target_size=(224,224),\n",
        "                                               class_mode=\"categorical\",\n",
        "                                               seed=42)"
      ],
      "metadata": {
        "colab": {
          "base_uri": "https://localhost:8080/"
        },
        "id": "a1YoT_E_wYw8",
        "outputId": "dab467a2-bd87-45f7-a2c7-e247af2aaea1"
      },
      "execution_count": null,
      "outputs": [
        {
          "output_type": "stream",
          "name": "stdout",
          "text": [
            "Found 750 images belonging to 10 classes.\n",
            "Found 2500 images belonging to 10 classes.\n"
          ]
        }
      ]
    },
    {
      "cell_type": "markdown",
      "source": [
        "### setting up callbacks\n",
        "\n",
        "e.g:\n",
        "* tracking experiments via TensorBoard\n",
        "* Model checkpoint \n",
        "* Stopping model before overfitting"
      ],
      "metadata": {
        "id": "jrXplHT-xmg4"
      }
    },
    {
      "cell_type": "code",
      "source": [
        "#tensorboard\n",
        "import datetime\n",
        "import tensorflow as tf\n",
        "\n",
        "def tensorboard_callback(dir_name, exp_name):\n",
        "  log_dir = f\"{dir_name}/{exp_name}/{datetime.datetime.now().strftime('%Y%m%d-%H%M%S')}\"\n",
        "  callback = tf.keras.callbacks.TensorBoard(log_dir=log_dir)\n",
        "  print(f\"saving tensorboard to: {log_dir}\")\n",
        "  return callback"
      ],
      "metadata": {
        "id": "cXGgPZhfw6dg"
      },
      "execution_count": null,
      "outputs": []
    },
    {
      "cell_type": "markdown",
      "source": [
        "### using tensorflow hub"
      ],
      "metadata": {
        "id": "Rs8d3IQIyBGe"
      }
    },
    {
      "cell_type": "code",
      "source": [
        "import tensorflow_hub as hub\n",
        "\n",
        "def create_model(url,num_classes=10):\n",
        "  \n",
        "  \"\"\"\n",
        "  uses tfhub url to create uncompiled sequential model\n",
        "  url -> feature extraction url\n",
        "  \"\"\"\n",
        "\n",
        "  extractor_layer = hub.KerasLayer(url,\n",
        "                                   trainable=False,\n",
        "                                   name=\"feature_extraction_layer\",\n",
        "                                   input_shape=(224,224,3))\n",
        "    \n",
        "  model = tf.keras.Sequential([\n",
        "      extractor_layer,\n",
        "      tf.keras.layers.Dense(num_classes, activation=\"softmax\", name=\"output_layer\")\n",
        "  ])\n",
        "\n",
        "  return model\n",
        "\n",
        "effnet = \"https://tfhub.dev/tensorflow/efficientnet/b0/feature-vector/1\"\n",
        "resnet = \"https://tfhub.dev/tensorflow/resnet_50/classification/1\""
      ],
      "metadata": {
        "id": "aZ-nqW22zMi8"
      },
      "execution_count": null,
      "outputs": []
    },
    {
      "cell_type": "markdown",
      "source": [
        "### ResNet model"
      ],
      "metadata": {
        "id": "eK_kpJZd2NNb"
      }
    },
    {
      "cell_type": "code",
      "source": [
        "resnet_model = create_model(resnet)"
      ],
      "metadata": {
        "id": "54KpD5Eb2Hnl"
      },
      "execution_count": null,
      "outputs": []
    },
    {
      "cell_type": "code",
      "source": [
        "resnet_model.summary()"
      ],
      "metadata": {
        "colab": {
          "base_uri": "https://localhost:8080/"
        },
        "id": "P5enSte32p7O",
        "outputId": "d4dd8f4e-aba8-4522-cf42-9f1bba14554c"
      },
      "execution_count": null,
      "outputs": [
        {
          "output_type": "stream",
          "name": "stdout",
          "text": [
            "Model: \"sequential\"\n",
            "_________________________________________________________________\n",
            " Layer (type)                Output Shape              Param #   \n",
            "=================================================================\n",
            " feature_extraction_layer (K  (None, 1001)             25612201  \n",
            " erasLayer)                                                      \n",
            "                                                                 \n",
            " output_layer (Dense)        (None, 10)                10020     \n",
            "                                                                 \n",
            "=================================================================\n",
            "Total params: 25,622,221\n",
            "Trainable params: 10,020\n",
            "Non-trainable params: 25,612,201\n",
            "_________________________________________________________________\n"
          ]
        }
      ]
    },
    {
      "cell_type": "code",
      "source": [
        "resnet_model.compile(loss=\"categorical_crossentropy\",\n",
        "                     optimizer=tf.keras.optimizers.Adam(),\n",
        "                     metrics=[\"accuracy\"])\n",
        "\n",
        "resnet_tfboard = tensorboard_callback(\"tensorflow_hub\",\"resnet50V2\")\n",
        "resnet_history = resnet_model.fit(train_data,\n",
        "                    epochs=5,\n",
        "                    steps_per_epoch=len(train_data),\n",
        "                    validation_data=valid_data,\n",
        "                    validation_steps=len(valid_data),\n",
        "                    callbacks=[resnet_tfboard]\n",
        "                    )"
      ],
      "metadata": {
        "colab": {
          "base_uri": "https://localhost:8080/"
        },
        "id": "47_gRPHT3CTj",
        "outputId": "6b47f6db-ce3e-448a-cd00-663c4418eab2"
      },
      "execution_count": null,
      "outputs": [
        {
          "output_type": "stream",
          "name": "stdout",
          "text": [
            "saving tensorboard to: tensorflow_hub/resnet50V2/20220731-153011\n",
            "Epoch 1/5\n",
            "24/24 [==============================] - 26s 1s/step - loss: 2.2808 - accuracy: 0.3147 - val_loss: 2.2664 - val_accuracy: 0.4304\n",
            "Epoch 2/5\n",
            "24/24 [==============================] - 23s 987ms/step - loss: 2.2663 - accuracy: 0.4573 - val_loss: 2.2501 - val_accuracy: 0.5384\n",
            "Epoch 3/5\n",
            "24/24 [==============================] - 23s 956ms/step - loss: 2.2515 - accuracy: 0.5093 - val_loss: 2.2342 - val_accuracy: 0.5680\n",
            "Epoch 4/5\n",
            "24/24 [==============================] - 23s 966ms/step - loss: 2.2389 - accuracy: 0.5227 - val_loss: 2.2180 - val_accuracy: 0.5892\n",
            "Epoch 5/5\n",
            "24/24 [==============================] - 23s 966ms/step - loss: 2.2246 - accuracy: 0.5467 - val_loss: 2.2027 - val_accuracy: 0.5988\n"
          ]
        }
      ]
    },
    {
      "cell_type": "code",
      "source": [
        "import matplotlib.pyplot as plt\n",
        "def plot_loss_curves(history):\n",
        "\n",
        "  loss = history.history['loss']\n",
        "  val_loss = history.history['val_loss']\n",
        "\n",
        "  accuracy = history.history['accuracy']\n",
        "  val_accuracy = history.history['val_accuracy']\n",
        "\n",
        "  epochs = range(len(history.history['loss']))\n",
        "\n",
        "  # Plot loss\n",
        "  plt.plot(epochs, loss, label='training_loss')\n",
        "  plt.plot(epochs, val_loss, label='val_loss')\n",
        "  plt.title('Loss')\n",
        "  plt.xlabel('Epochs')\n",
        "  plt.legend()\n",
        "\n",
        "  # Plot accuracy\n",
        "  plt.figure()\n",
        "  plt.plot(epochs, accuracy, label='training_accuracy')\n",
        "  plt.plot(epochs, val_accuracy, label='val_accuracy')\n",
        "  plt.title('Accuracy')\n",
        "  plt.xlabel('Epochs')\n",
        "  plt.legend();\n",
        "\n",
        "plot_loss_curves(resnet_history)"
      ],
      "metadata": {
        "colab": {
          "base_uri": "https://localhost:8080/",
          "height": 573
        },
        "id": "AWqGbAFo3g1T",
        "outputId": "4d9b411f-73af-4ef9-f59e-53adbe573e56"
      },
      "execution_count": null,
      "outputs": [
        {
          "output_type": "display_data",
          "data": {
            "text/plain": [
              "<Figure size 432x288 with 1 Axes>"
            ],
            "image/png": "[encoded data removed]"
          },
          "metadata": {
            "needs_background": "light"
          }
        },
        {
          "output_type": "display_data",
          "data": {
            "text/plain": [
              "<Figure size 432x288 with 1 Axes>"
            ],
            "image/png": "[encoded data removed]"
          },
          "metadata": {
            "needs_background": "light"
          }
        }
      ]
    },
    {
      "cell_type": "markdown",
      "source": [
        "### EfficientNetB0 model"
      ],
      "metadata": {
        "id": "zqH6WNEs7AJP"
      }
    },
    {
      "cell_type": "code",
      "source": [
        "effnet_model = create_model(effnet)"
      ],
      "metadata": {
        "id": "sVpdYgbA5iw_"
      },
      "execution_count": null,
      "outputs": []
    },
    {
      "cell_type": "code",
      "source": [
        "effnet_model.compile(loss=\"categorical_crossentropy\",\n",
        "                     optimizer=tf.keras.optimizers.Adam(learning_rate=0.02),\n",
        "                     metrics=[\"accuracy\"])\n",
        "\n",
        "effnet_tfboard = tensorboard_callback(\"tensorflow_hub\",\"efficientnetB0\")\n",
        "effnet_history = resnet_model.fit(train_data,\n",
        "                    epochs=5,\n",
        "                    steps_per_epoch=len(train_data),\n",
        "                    validation_data=valid_data,\n",
        "                    validation_steps=len(valid_data),\n",
        "                    callbacks=[resnet_tfboard]\n",
        "                    )"
      ],
      "metadata": {
        "colab": {
          "base_uri": "https://localhost:8080/"
        },
        "id": "fs88eR0L6WSg",
        "outputId": "1a754b88-7153-409e-ab0c-56380f33cd4b"
      },
      "execution_count": 17,
      "outputs": [
        {
          "output_type": "stream",
          "name": "stdout",
          "text": [
            "saving tensorboard to: tensorflow_hub/efficientnetB0/20220731-155317\n",
            "Epoch 1/5\n",
            "24/24 [==============================] - 27s 1s/step - loss: 2.1457 - accuracy: 0.6027 - val_loss: 2.1115 - val_accuracy: 0.6288\n",
            "Epoch 2/5\n",
            "24/24 [==============================] - 23s 976ms/step - loss: 2.1296 - accuracy: 0.6160 - val_loss: 2.0968 - val_accuracy: 0.6244\n",
            "Epoch 3/5\n",
            "24/24 [==============================] - 31s 1s/step - loss: 2.1189 - accuracy: 0.6160 - val_loss: 2.0820 - val_accuracy: 0.6324\n",
            "Epoch 4/5\n",
            "24/24 [==============================] - 23s 956ms/step - loss: 2.1047 - accuracy: 0.6307 - val_loss: 2.0676 - val_accuracy: 0.6304\n",
            "Epoch 5/5\n",
            "24/24 [==============================] - 23s 960ms/step - loss: 2.0939 - accuracy: 0.6320 - val_loss: 2.0532 - val_accuracy: 0.6300\n"
          ]
        }
      ]
    },
    {
      "cell_type": "code",
      "source": [
        "plot_loss_curves(effnet_history)"
      ],
      "metadata": {
        "colab": {
          "base_uri": "https://localhost:8080/",
          "height": 573
        },
        "id": "RYguXiSb7WqQ",
        "outputId": "f87226e9-a923-477f-ccee-f6d033b2446c"
      },
      "execution_count": 18,
      "outputs": [
        {
          "output_type": "display_data",
          "data": {
            "text/plain": [
              "<Figure size 432x288 with 1 Axes>"
            ],
            "image/png": "[encoded data removed]"
          },
          "metadata": {
            "needs_background": "light"
          }
        },
        {
          "output_type": "display_data",
          "data": {
            "text/plain": [
              "<Figure size 432x288 with 1 Axes>"
            ],
            "image/png": "[encoded data removed]"
          },
          "metadata": {
            "needs_background": "light"
          }
        }
      ]
    },
    {
      "cell_type": "markdown",
      "source": [
        "**different types of transfer learning** 🧐:\n",
        "\n",
        "\n",
        "*  As is -> use existing model with no changes\n",
        "*  Feature extraction\n",
        "*  Fine tuning -> fine tune layers of existing model\n",
        "\n",
        "\n",
        "\n"
      ],
      "metadata": {
        "id": "MLOxXKu38-eQ"
      }
    },
    {
      "cell_type": "markdown",
      "source": [
        "### comparing results via TensorBoard"
      ],
      "metadata": {
        "id": "4YgszwEd-MW2"
      }
    },
    {
      "cell_type": "code",
      "source": [
        "!tensorboard dev upload --logdir ./tensorflow_hub/ \\\n",
        "--name \"Efficientnet vs Resnet\" \\\n",
        "--description \"comparing two models for feature extraction\" \\\n",
        "--one_shot\n"
      ],
      "metadata": {
        "colab": {
          "base_uri": "https://localhost:8080/"
        },
        "id": "fbcE7jN_A1Ue",
        "outputId": "26ba28a1-af54-42f1-d406-2d0ac924a141"
      },
      "execution_count": 21,
      "outputs": [
        {
          "output_type": "stream",
          "name": "stdout",
          "text": [
            "\n",
            "***** TensorBoard Uploader *****\n",
            "\n",
            "This will upload your TensorBoard logs to https://tensorboard.dev/ from\n",
            "the following directory:\n",
            "\n",
            "./tensorflow_hub/\n",
            "\n",
            "This TensorBoard will be visible to everyone. Do not upload sensitive\n",
            "data.\n",
            "\n",
            "Your use of this service is subject to Google's Terms of Service\n",
            "<https://policies.google.com/terms> and Privacy Policy\n",
            "<https://policies.google.com/privacy>, and TensorBoard.dev's Terms of Service\n",
            "<https://tensorboard.dev/policy/terms/>.\n",
            "\n",
            "This notice will not be shown again while you are logged into the uploader.\n",
            "To log out, run `tensorboard dev auth revoke`.\n",
            "\n",
            "Continue? (yes/NO) yes\n",
            "\n",
            "Please visit this URL to authorize this application: https://accounts.google.com/o/oauth2/auth?response_type=code&client_id=373649185512-8v619h5kft38l4456nm2dj4ubeqsrvh6.apps.googleusercontent.com&redirect_uri=urn%3Aietf%3Awg%3Aoauth%3A2.0%3Aoob&scope=openid+https%3A%2F%2Fwww.googleapis.com%2Fauth%2Fuserinfo.email&state=WDuiK78DmQ4PDMV9nqMbQXfHnm24BN&prompt=consent&access_type=offline\n",
            "Enter the authorization code: 4/1AdQt8qjQPY1p-LUhGGbIGDKt-sGQCDZ_ZZ8AO9e5D_GF1fceUHB0hCII1Cs\n",
            "\n",
            "\n",
            "New experiment created. View your TensorBoard at: https://tensorboard.dev/experiment/66sGNQIjRpOXUDRL3XBCvA/\n",
            "\n",
            "\u001b[1m[2022-07-31T16:37:14]\u001b[0m Started scanning logdir.\n",
            "E0731 16:37:15.738547 139862080956288 uploader.py:1122] Attempted to re-upload existing blob.  Skipping.\n",
            "E0731 16:37:16.593204 139862080956288 uploader.py:1122] Attempted to re-upload existing blob.  Skipping.\n",
            "\u001b[1m[2022-07-31T16:37:16]\u001b[0m Total uploaded: 90 scalars, 0 tensors, 1 binary objects (2.5 MB)\n",
            "\u001b[90mTotal skipped: 2 binary objects (5.0 MB)\n",
            "\u001b[0m\u001b[1m[2022-07-31T16:37:16]\u001b[0m Done scanning logdir.\n",
            "\n",
            "\n",
            "Done. View your TensorBoard at https://tensorboard.dev/experiment/66sGNQIjRpOXUDRL3XBCvA/\n"
          ]
        }
      ]
    },
    {
      "cell_type": "markdown",
      "source": [
        " https://tensorboard.dev/experiment/66sGNQIjRpOXUDRL3XBCvA/"
      ],
      "metadata": {
        "id": "563G1FQlHyni"
      }
    },
    {
      "cell_type": "code",
      "source": [
        "!tensorboard dev list"
      ],
      "metadata": {
        "colab": {
          "base_uri": "https://localhost:8080/"
        },
        "id": "5sWWXxaMHap7",
        "outputId": "7bd064c4-b217-4a1b-9dba-5ba6f56d059b"
      },
      "execution_count": 24,
      "outputs": [
        {
          "output_type": "stream",
          "name": "stdout",
          "text": [
            "https://tensorboard.dev/experiment/66sGNQIjRpOXUDRL3XBCvA/\n",
            "\tName                 Efficientnet vs Resnet\n",
            "\tDescription          comparing two models for feature extraction\n",
            "\tId                   66sGNQIjRpOXUDRL3XBCvA\n",
            "\tCreated              2022-07-31 16:37:14 (3 minutes ago)\n",
            "\tUpdated              2022-07-31 16:37:16 (3 minutes ago)\n",
            "\tRuns                 2\n",
            "\tTags                 5\n",
            "\tScalars              90\n",
            "\tTensor bytes         0\n",
            "\tBinary object bytes  2601153\n",
            "Total: 1 experiment(s)\n"
          ]
        }
      ]
    },
    {
      "cell_type": "code",
      "source": [
        ""
      ],
      "metadata": {
        "id": "-Oz8lV86IXq0"
      },
      "execution_count": null,
      "outputs": []
    }
  ]
}