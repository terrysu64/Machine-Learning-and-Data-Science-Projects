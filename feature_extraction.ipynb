{
  "nbformat": 4,
  "nbformat_minor": 0,
  "metadata": {
    "colab": {
      "name": "feature-extraction.ipynb",
      "provenance": [],
      "authorship_tag": "ABX9TyMHBninTX2KtPWIo/3OHF7z",
      "include_colab_link": true
    },
    "kernelspec": {
      "name": "python3",
      "display_name": "Python 3"
    },
    "language_info": {
      "name": "python"
    },
    "accelerator": "GPU",
    "gpuClass": "standard"
  },
  "cells": [
    {
      "cell_type": "markdown",
      "metadata": {
        "id": "view-in-github",
        "colab_type": "text"
      },
      "source": [
        "<a href=\"https://colab.research.google.com/github/terrysu64/Machine-Learning-and-Data-Science-Projects/blob/main/feature_extraction.ipynb\" target=\"_parent\"><img src=\"https://colab.research.google.com/assets/colab-badge.svg\" alt=\"Open In Colab\"/></a>"
      ]
    },
    {
      "cell_type": "markdown",
      "source": [
        "# Transfer learning - feature extraction"
      ],
      "metadata": {
        "id": "In5zpWnjvZGh"
      }
    },
    {
      "cell_type": "markdown",
      "source": [
        "### inspect data"
      ],
      "metadata": {
        "id": "vDn1zawEvp4b"
      }
    },
    {
      "cell_type": "code",
      "execution_count": 3,
      "metadata": {
        "colab": {
          "base_uri": "https://localhost:8080/"
        },
        "id": "AyAbFwXbvVCY",
        "outputId": "6eaed03b-0e13-43c6-b898-8c48ba9c1acc"
      },
      "outputs": [
        {
          "output_type": "stream",
          "name": "stdout",
          "text": [
            "--2022-07-29 20:58:20--  https://storage.googleapis.com/ztm_tf_course/food_vision/10_food_classes_10_percent.zip\n",
            "Resolving storage.googleapis.com (storage.googleapis.com)... 173.194.202.128, 173.194.203.128, 74.125.199.128, ...\n",
            "Connecting to storage.googleapis.com (storage.googleapis.com)|173.194.202.128|:443... connected.\n",
            "HTTP request sent, awaiting response... 200 OK\n",
            "Length: 168546183 (161M) [application/zip]\n",
            "Saving to: ‘10_food_classes_10_percent.zip.1’\n",
            "\n",
            "10_food_classes_10_ 100%[===================>] 160.74M   256MB/s    in 0.6s    \n",
            "\n",
            "2022-07-29 20:58:20 (256 MB/s) - ‘10_food_classes_10_percent.zip.1’ saved [168546183/168546183]\n",
            "\n"
          ]
        }
      ],
      "source": [
        "import zipfile\n",
        "\n",
        "!wget https://storage.googleapis.com/ztm_tf_course/food_vision/10_food_classes_10_percent.zip\n",
        "\n",
        "zip_ref = zipfile.ZipFile(\"10_food_classes_10_percent.zip\")\n",
        "zip_ref.extractall()\n",
        "zip_ref.close()"
      ]
    },
    {
      "cell_type": "code",
      "source": [
        "import os \n",
        "\n",
        "for dirpath,dirname,filenames in os.walk(\"10_food_classes_10_percent\"):\n",
        "  print(dirpath,len(dirname),len(filenames))"
      ],
      "metadata": {
        "colab": {
          "base_uri": "https://localhost:8080/"
        },
        "id": "ePAR729YvmyZ",
        "outputId": "1c8bcf3f-841e-481c-d08f-f62270f75c6c"
      },
      "execution_count": 5,
      "outputs": [
        {
          "output_type": "stream",
          "name": "stdout",
          "text": [
            "10_food_classes_10_percent 2 0\n",
            "10_food_classes_10_percent/test 10 0\n",
            "10_food_classes_10_percent/test/grilled_salmon 0 250\n",
            "10_food_classes_10_percent/test/hamburger 0 250\n",
            "10_food_classes_10_percent/test/ramen 0 250\n",
            "10_food_classes_10_percent/test/ice_cream 0 250\n",
            "10_food_classes_10_percent/test/chicken_wings 0 250\n",
            "10_food_classes_10_percent/test/pizza 0 250\n",
            "10_food_classes_10_percent/test/fried_rice 0 250\n",
            "10_food_classes_10_percent/test/sushi 0 250\n",
            "10_food_classes_10_percent/test/chicken_curry 0 250\n",
            "10_food_classes_10_percent/test/steak 0 250\n",
            "10_food_classes_10_percent/train 10 0\n",
            "10_food_classes_10_percent/train/grilled_salmon 0 75\n",
            "10_food_classes_10_percent/train/hamburger 0 75\n",
            "10_food_classes_10_percent/train/ramen 0 75\n",
            "10_food_classes_10_percent/train/ice_cream 0 75\n",
            "10_food_classes_10_percent/train/chicken_wings 0 75\n",
            "10_food_classes_10_percent/train/pizza 0 75\n",
            "10_food_classes_10_percent/train/fried_rice 0 75\n",
            "10_food_classes_10_percent/train/sushi 0 75\n",
            "10_food_classes_10_percent/train/chicken_curry 0 75\n",
            "10_food_classes_10_percent/train/steak 0 75\n"
          ]
        }
      ]
    },
    {
      "cell_type": "code",
      "source": [
        "from tensorflow.keras.preprocessing.image import ImageDataGenerator as IDG\n",
        "\n",
        "#preprocess data\n",
        "train_datagen = IDG(rescale=1./225,\n",
        "                    rotation_range=0.2,\n",
        "                    zoom_range=0.2,\n",
        "                    horizontal_flip=True)\n",
        "\n",
        "valid_datagen = IDG(rescale=1./225)\n",
        "\n",
        "#paths\n",
        "train_dir = \"10_food_classes_10_percent/train\"\n",
        "test_dir = \"10_food_classes_10_percent/test\"\n",
        "\n",
        "#import data and turn to batches\n",
        "train_data = train_datagen.flow_from_directory(directory=train_dir,\n",
        "                                               batch_size=32,\n",
        "                                               target_size=(225,225),\n",
        "                                               class_mode=\"categorical\",\n",
        "                                               seed=42)\n",
        "\n",
        "valid_data = valid_datagen.flow_from_directory(directory=test_dir,\n",
        "                                               batch_size=32,\n",
        "                                               target_size=(225,225),\n",
        "                                               class_mode=\"categorical\",\n",
        "                                               seed=42)"
      ],
      "metadata": {
        "colab": {
          "base_uri": "https://localhost:8080/"
        },
        "id": "a1YoT_E_wYw8",
        "outputId": "d21ef17f-990e-4a49-8dc8-087dee940708"
      },
      "execution_count": 7,
      "outputs": [
        {
          "output_type": "stream",
          "name": "stdout",
          "text": [
            "Found 750 images belonging to 10 classes.\n",
            "Found 2500 images belonging to 10 classes.\n"
          ]
        }
      ]
    },
    {
      "cell_type": "markdown",
      "source": [
        "### setting up callbacks\n",
        "\n",
        "e.g:\n",
        "* tracking experiments via TensorBoard\n",
        "* Model checkpoint \n",
        "* Stopping model before overfitting"
      ],
      "metadata": {
        "id": "jrXplHT-xmg4"
      }
    },
    {
      "cell_type": "code",
      "source": [
        "#tensorboard\n",
        "import datetime\n",
        "import tensorflow as tf\n",
        "\n",
        "def tensorboard_callback(dir_name, exp_name):\n",
        "  log_dir = f\"{dir_name}/{exp_name}/{datetime.datetime.now().strftime('%Y%m%d-%H%M%S')}\"\n",
        "  callback = tf.keras.callbacks.TensorBoard(log_dir=log_dir)\n",
        "  print(f\"saving tensorboard to: {log_dir}\")\n",
        "  return callback"
      ],
      "metadata": {
        "id": "cXGgPZhfw6dg"
      },
      "execution_count": 9,
      "outputs": []
    },
    {
      "cell_type": "code",
      "source": [
        ""
      ],
      "metadata": {
        "id": "aZ-nqW22zMi8"
      },
      "execution_count": null,
      "outputs": []
    }
  ]
}