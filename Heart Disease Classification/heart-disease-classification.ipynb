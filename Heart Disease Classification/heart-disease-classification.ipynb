{
 "cells": [
  {
   "cell_type": "markdown",
   "id": "dfd6fd2a",
   "metadata": {},
   "source": [
    "# Heart Disease Binary Classification\n",
    "\n",
    "This notebook looks into using various Python-based machine learning and data science libraries in an attempt to build a machine learning model capable of predicting the heart disease of an individual based on their medical attributes.\n",
    "\n",
    "The following approach is to be taken:\n",
    "1. Problem definition\n",
    "2. Data\n",
    "3. Evaluation\n",
    "4. Features\n",
    "5. Modelling\n",
    "6. Experimentation\n",
    "\n",
    "## 1. Problem Definition\n",
    "\n",
    "> Given clinical parameters about a patient, can the model correctly predict whether or not they have heart disease?\n",
    "\n",
    "## 2. Data\n",
    "\n",
    "> Kaggle: https://www.kaggle.com/datasets/rishidamarla/heart-disease-prediction?resource=download\n",
    "\n",
    "> This data is sourced from the University of California Irvine's Machine Learning Repository: https://archive.ics.uci.edu/ml/datasets/Heart+Disease\n",
    "\n",
    "## 3. Evalutation\n",
    "\n",
    "> The project will be pursued if a 95% accuracy at predicting whether or not a patient has heart disease during the proof of concept.\n",
    "\n",
    "## 4. Features\n",
    "\n",
    "### Data Dictionary\n",
    "a) Age: age of patient\n",
    "\n",
    "b) Sex: binary classification of male/female (1 or 0 respectively)\n",
    "\n",
    "c) Chest pain type: \n",
    "* 1: Typical angina: chest pain related decrease blood supply to the heart\n",
    "* 2: Atypical angina: chest pain not related to heart\n",
    "* 3: Non-anginal pain: typically esophageal spasms (non heart related)\n",
    "* 4: Asymptomatic: chest pain not showing signs of disease\n",
    "\n",
    "d) BP: resting blood pressure (in mm Hg on admission to the hospital) anything above 130-140 is typically cause for concern\n",
    "\n",
    "e) Cholesterol: serum cholestoral in mg/dl\n",
    "* serum = LDL + HDL + .2 * triglycerides\n",
    "* above 200 is cause for concern\n",
    "\n",
    "f) FBS over 120: A test that measures blood sugar levels; elevated levels are associated with diabetes and insulin resistance, in which the body cannot properly handle sugar (binary classification, 0 or 1)\n",
    "\n",
    "g) EKG results: electrocardiographic results\n",
    "* 0: Nothing to note\n",
    "* 1: ST-T Wave abnormality\n",
    "    * can range from mild symptoms to severe problems\n",
    "* 2: Possible or definite left ventricular hypertrophy \n",
    "    * Enlarged heart's main pumping chamber\n",
    "\n",
    "h) Max HR: maximum heart rate in bpm\n",
    "\n",
    "i) Exercise Angina: chest pain or discomfort caused when your heart muscle doesn't get enough oxygen-rich blood (binary classification, 0 or 1).\n",
    "\n",
    "j) ST Depression: ST segment depression may be determined by measuring the vertical distance between the patient's trace and the isoelectric line at a location 2-3 millimeters from the QRS complex. It is significant if it is more than 1 mm in V5-V6, or 1.5 mm in AVF or III\n",
    "\n",
    "k) Slope of ST:\n",
    "* 1: Upsloping: better heart rate with excercise (uncommon)\n",
    "* 2: Flatsloping: minimal change (typical healthy heart)\n",
    "* 3: Downslopins: signs of unhealthy heart\n",
    "\n",
    "l) Number of vessels fluro: number of major vessels (0-3) colored by flourosopy\n",
    "* colored vessel means the doctor can see the blood passing through\n",
    "* the more blood movement the better (no clots)\n",
    "\n",
    "m) Thallium: thalium stress result\n",
    "* 1,3: normal\n",
    "* 6: fixed defect: used to be defect but ok now\n",
    "* 7: reversable defect: no proper blood movement when excercising\n",
    "\n",
    "n) Heart Disease: \"Presence\" or \"Absence\" "
   ]
  },
  {
   "cell_type": "markdown",
   "id": "f6d82526",
   "metadata": {},
   "source": [
    "## Preparing Tools"
   ]
  },
  {
   "cell_type": "code",
   "execution_count": 1,
   "id": "d5e389d7",
   "metadata": {},
   "outputs": [],
   "source": [
    "#regular EDA and plotting modules\n",
    "import numpy as np\n",
    "import pandas as pd\n",
    "import matplotlib.pyplot as plt\n",
    "%matplotlib inline \n",
    "import seaborn as sns\n",
    "\n",
    "#Sklearn models\n",
    "from sklearn.linear_model import LogisticRegression\n",
    "from sklearn.neighbors import KNeighborsClassifier\n",
    "from sklearn.ensemble import RandomForestClassifier\n",
    "\n",
    "#model evaluations\n",
    "from sklearn.model_selection import train_test_split, cross_val_score\n",
    "from sklearn.model_selection import RandomizedSearchCV, GridSearchCV\n",
    "from sklearn.metrics import confusion_matrix, classification_report\n",
    "from sklearn.metrics import precision_score, recall_score, f1_score\n",
    "from sklearn.metrics import plot_roc_curve"
   ]
  },
  {
   "cell_type": "markdown",
   "id": "e4bceb7a",
   "metadata": {},
   "source": [
    "## Load Data"
   ]
  },
  {
   "cell_type": "code",
   "execution_count": 2,
   "id": "b6ff1712",
   "metadata": {},
   "outputs": [
    {
     "data": {
      "text/plain": [
       "(270, 14)"
      ]
     },
     "execution_count": 2,
     "metadata": {},
     "output_type": "execute_result"
    }
   ],
   "source": [
    "df = pd.read_csv(\"Heart_Disease_Prediction.csv\")\n",
    "df.shape #rows,columns"
   ]
  },
  {
   "cell_type": "markdown",
   "id": "8cb040ee",
   "metadata": {},
   "source": [
    "## EDA\n",
    "\n",
    "1. what questions are to be answered?\n",
    "2. what type of data do we have and how are distinct types to be treated?\n",
    "3. what is missing from the data and how are missing values to be resolved?\n",
    "4. what are the outliers and how are they to be resolved?\n",
    "5. how to add/change/remove features to get more out of the data?"
   ]
  },
  {
   "cell_type": "code",
   "execution_count": 3,
   "id": "c906d39d",
   "metadata": {},
   "outputs": [
    {
     "data": {
      "text/html": [
       "<div>\n",
       "<style scoped>\n",
       "    .dataframe tbody tr th:only-of-type {\n",
       "        vertical-align: middle;\n",
       "    }\n",
       "\n",
       "    .dataframe tbody tr th {\n",
       "        vertical-align: top;\n",
       "    }\n",
       "\n",
       "    .dataframe thead th {\n",
       "        text-align: right;\n",
       "    }\n",
       "</style>\n",
       "<table border=\"1\" class=\"dataframe\">\n",
       "  <thead>\n",
       "    <tr style=\"text-align: right;\">\n",
       "      <th></th>\n",
       "      <th>Age</th>\n",
       "      <th>Sex</th>\n",
       "      <th>Chest pain type</th>\n",
       "      <th>BP</th>\n",
       "      <th>Cholesterol</th>\n",
       "      <th>FBS over 120</th>\n",
       "      <th>EKG results</th>\n",
       "      <th>Max HR</th>\n",
       "      <th>Exercise angina</th>\n",
       "      <th>ST depression</th>\n",
       "      <th>Slope of ST</th>\n",
       "      <th>Number of vessels fluro</th>\n",
       "      <th>Thallium</th>\n",
       "      <th>Heart Disease</th>\n",
       "    </tr>\n",
       "  </thead>\n",
       "  <tbody>\n",
       "    <tr>\n",
       "      <th>0</th>\n",
       "      <td>70</td>\n",
       "      <td>1</td>\n",
       "      <td>4</td>\n",
       "      <td>130</td>\n",
       "      <td>322</td>\n",
       "      <td>0</td>\n",
       "      <td>2</td>\n",
       "      <td>109</td>\n",
       "      <td>0</td>\n",
       "      <td>2.4</td>\n",
       "      <td>2</td>\n",
       "      <td>3</td>\n",
       "      <td>3</td>\n",
       "      <td>Presence</td>\n",
       "    </tr>\n",
       "    <tr>\n",
       "      <th>1</th>\n",
       "      <td>67</td>\n",
       "      <td>0</td>\n",
       "      <td>3</td>\n",
       "      <td>115</td>\n",
       "      <td>564</td>\n",
       "      <td>0</td>\n",
       "      <td>2</td>\n",
       "      <td>160</td>\n",
       "      <td>0</td>\n",
       "      <td>1.6</td>\n",
       "      <td>2</td>\n",
       "      <td>0</td>\n",
       "      <td>7</td>\n",
       "      <td>Absence</td>\n",
       "    </tr>\n",
       "    <tr>\n",
       "      <th>2</th>\n",
       "      <td>57</td>\n",
       "      <td>1</td>\n",
       "      <td>2</td>\n",
       "      <td>124</td>\n",
       "      <td>261</td>\n",
       "      <td>0</td>\n",
       "      <td>0</td>\n",
       "      <td>141</td>\n",
       "      <td>0</td>\n",
       "      <td>0.3</td>\n",
       "      <td>1</td>\n",
       "      <td>0</td>\n",
       "      <td>7</td>\n",
       "      <td>Presence</td>\n",
       "    </tr>\n",
       "    <tr>\n",
       "      <th>3</th>\n",
       "      <td>64</td>\n",
       "      <td>1</td>\n",
       "      <td>4</td>\n",
       "      <td>128</td>\n",
       "      <td>263</td>\n",
       "      <td>0</td>\n",
       "      <td>0</td>\n",
       "      <td>105</td>\n",
       "      <td>1</td>\n",
       "      <td>0.2</td>\n",
       "      <td>2</td>\n",
       "      <td>1</td>\n",
       "      <td>7</td>\n",
       "      <td>Absence</td>\n",
       "    </tr>\n",
       "    <tr>\n",
       "      <th>4</th>\n",
       "      <td>74</td>\n",
       "      <td>0</td>\n",
       "      <td>2</td>\n",
       "      <td>120</td>\n",
       "      <td>269</td>\n",
       "      <td>0</td>\n",
       "      <td>2</td>\n",
       "      <td>121</td>\n",
       "      <td>1</td>\n",
       "      <td>0.2</td>\n",
       "      <td>1</td>\n",
       "      <td>1</td>\n",
       "      <td>3</td>\n",
       "      <td>Absence</td>\n",
       "    </tr>\n",
       "  </tbody>\n",
       "</table>\n",
       "</div>"
      ],
      "text/plain": [
       "   Age  Sex  Chest pain type   BP  Cholesterol  FBS over 120  EKG results  \\\n",
       "0   70    1                4  130          322             0            2   \n",
       "1   67    0                3  115          564             0            2   \n",
       "2   57    1                2  124          261             0            0   \n",
       "3   64    1                4  128          263             0            0   \n",
       "4   74    0                2  120          269             0            2   \n",
       "\n",
       "   Max HR  Exercise angina  ST depression  Slope of ST  \\\n",
       "0     109                0            2.4            2   \n",
       "1     160                0            1.6            2   \n",
       "2     141                0            0.3            1   \n",
       "3     105                1            0.2            2   \n",
       "4     121                1            0.2            1   \n",
       "\n",
       "   Number of vessels fluro  Thallium Heart Disease  \n",
       "0                        3         3      Presence  \n",
       "1                        0         7       Absence  \n",
       "2                        0         7      Presence  \n",
       "3                        1         7       Absence  \n",
       "4                        1         3       Absence  "
      ]
     },
     "execution_count": 3,
     "metadata": {},
     "output_type": "execute_result"
    }
   ],
   "source": [
    "df.head()"
   ]
  },
  {
   "cell_type": "code",
   "execution_count": 4,
   "id": "e3a382d2",
   "metadata": {},
   "outputs": [
    {
     "data": {
      "text/html": [
       "<div>\n",
       "<style scoped>\n",
       "    .dataframe tbody tr th:only-of-type {\n",
       "        vertical-align: middle;\n",
       "    }\n",
       "\n",
       "    .dataframe tbody tr th {\n",
       "        vertical-align: top;\n",
       "    }\n",
       "\n",
       "    .dataframe thead th {\n",
       "        text-align: right;\n",
       "    }\n",
       "</style>\n",
       "<table border=\"1\" class=\"dataframe\">\n",
       "  <thead>\n",
       "    <tr style=\"text-align: right;\">\n",
       "      <th></th>\n",
       "      <th>Age</th>\n",
       "      <th>Sex</th>\n",
       "      <th>Chest pain type</th>\n",
       "      <th>BP</th>\n",
       "      <th>Cholesterol</th>\n",
       "      <th>FBS over 120</th>\n",
       "      <th>EKG results</th>\n",
       "      <th>Max HR</th>\n",
       "      <th>Exercise angina</th>\n",
       "      <th>ST depression</th>\n",
       "      <th>Slope of ST</th>\n",
       "      <th>Number of vessels fluro</th>\n",
       "      <th>Thallium</th>\n",
       "      <th>Heart Disease</th>\n",
       "    </tr>\n",
       "  </thead>\n",
       "  <tbody>\n",
       "    <tr>\n",
       "      <th>265</th>\n",
       "      <td>52</td>\n",
       "      <td>1</td>\n",
       "      <td>3</td>\n",
       "      <td>172</td>\n",
       "      <td>199</td>\n",
       "      <td>1</td>\n",
       "      <td>0</td>\n",
       "      <td>162</td>\n",
       "      <td>0</td>\n",
       "      <td>0.5</td>\n",
       "      <td>1</td>\n",
       "      <td>0</td>\n",
       "      <td>7</td>\n",
       "      <td>Absence</td>\n",
       "    </tr>\n",
       "    <tr>\n",
       "      <th>266</th>\n",
       "      <td>44</td>\n",
       "      <td>1</td>\n",
       "      <td>2</td>\n",
       "      <td>120</td>\n",
       "      <td>263</td>\n",
       "      <td>0</td>\n",
       "      <td>0</td>\n",
       "      <td>173</td>\n",
       "      <td>0</td>\n",
       "      <td>0.0</td>\n",
       "      <td>1</td>\n",
       "      <td>0</td>\n",
       "      <td>7</td>\n",
       "      <td>Absence</td>\n",
       "    </tr>\n",
       "    <tr>\n",
       "      <th>267</th>\n",
       "      <td>56</td>\n",
       "      <td>0</td>\n",
       "      <td>2</td>\n",
       "      <td>140</td>\n",
       "      <td>294</td>\n",
       "      <td>0</td>\n",
       "      <td>2</td>\n",
       "      <td>153</td>\n",
       "      <td>0</td>\n",
       "      <td>1.3</td>\n",
       "      <td>2</td>\n",
       "      <td>0</td>\n",
       "      <td>3</td>\n",
       "      <td>Absence</td>\n",
       "    </tr>\n",
       "    <tr>\n",
       "      <th>268</th>\n",
       "      <td>57</td>\n",
       "      <td>1</td>\n",
       "      <td>4</td>\n",
       "      <td>140</td>\n",
       "      <td>192</td>\n",
       "      <td>0</td>\n",
       "      <td>0</td>\n",
       "      <td>148</td>\n",
       "      <td>0</td>\n",
       "      <td>0.4</td>\n",
       "      <td>2</td>\n",
       "      <td>0</td>\n",
       "      <td>6</td>\n",
       "      <td>Absence</td>\n",
       "    </tr>\n",
       "    <tr>\n",
       "      <th>269</th>\n",
       "      <td>67</td>\n",
       "      <td>1</td>\n",
       "      <td>4</td>\n",
       "      <td>160</td>\n",
       "      <td>286</td>\n",
       "      <td>0</td>\n",
       "      <td>2</td>\n",
       "      <td>108</td>\n",
       "      <td>1</td>\n",
       "      <td>1.5</td>\n",
       "      <td>2</td>\n",
       "      <td>3</td>\n",
       "      <td>3</td>\n",
       "      <td>Presence</td>\n",
       "    </tr>\n",
       "  </tbody>\n",
       "</table>\n",
       "</div>"
      ],
      "text/plain": [
       "     Age  Sex  Chest pain type   BP  Cholesterol  FBS over 120  EKG results  \\\n",
       "265   52    1                3  172          199             1            0   \n",
       "266   44    1                2  120          263             0            0   \n",
       "267   56    0                2  140          294             0            2   \n",
       "268   57    1                4  140          192             0            0   \n",
       "269   67    1                4  160          286             0            2   \n",
       "\n",
       "     Max HR  Exercise angina  ST depression  Slope of ST  \\\n",
       "265     162                0            0.5            1   \n",
       "266     173                0            0.0            1   \n",
       "267     153                0            1.3            2   \n",
       "268     148                0            0.4            2   \n",
       "269     108                1            1.5            2   \n",
       "\n",
       "     Number of vessels fluro  Thallium Heart Disease  \n",
       "265                        0         7       Absence  \n",
       "266                        0         7       Absence  \n",
       "267                        0         3       Absence  \n",
       "268                        0         6       Absence  \n",
       "269                        3         3      Presence  "
      ]
     },
     "execution_count": 4,
     "metadata": {},
     "output_type": "execute_result"
    }
   ],
   "source": [
    "df.tail()"
   ]
  },
  {
   "cell_type": "code",
   "execution_count": 5,
   "id": "e63151e4",
   "metadata": {},
   "outputs": [
    {
     "data": {
      "text/plain": [
       "Absence     150\n",
       "Presence    120\n",
       "Name: Heart Disease, dtype: int64"
      ]
     },
     "execution_count": 5,
     "metadata": {},
     "output_type": "execute_result"
    }
   ],
   "source": [
    "#number of each classification\n",
    "df[\"Heart Disease\"].value_counts()"
   ]
  },
  {
   "cell_type": "code",
   "execution_count": 6,
   "id": "8783c87e",
   "metadata": {},
   "outputs": [
    {
     "data": {
      "text/plain": [
       "Text(0, 0.5, 'Frequency')"
      ]
     },
     "execution_count": 6,
     "metadata": {},
     "output_type": "execute_result"
    },
    {
     "data": {
      "image/png": "[encoded data removed]",
      "text/plain": [
       "<Figure size 432x288 with 1 Axes>"
      ]
     },
     "metadata": {
      "needs_background": "light"
     },
     "output_type": "display_data"
    }
   ],
   "source": [
    "df[\"Heart Disease\"].value_counts().plot(kind=\"bar\", color=[\"limegreen\",\"red\"]);\n",
    "plt.title(\"Heart Disease Classification\")\n",
    "plt.xlabel(\"0 = Disease, 1 = No Disease\")\n",
    "plt.ylabel(\"Frequency\")"
   ]
  },
  {
   "cell_type": "code",
   "execution_count": 7,
   "id": "3b3d587a",
   "metadata": {},
   "outputs": [
    {
     "name": "stdout",
     "output_type": "stream",
     "text": [
      "<class 'pandas.core.frame.DataFrame'>\n",
      "RangeIndex: 270 entries, 0 to 269\n",
      "Data columns (total 14 columns):\n",
      " #   Column                   Non-Null Count  Dtype  \n",
      "---  ------                   --------------  -----  \n",
      " 0   Age                      270 non-null    int64  \n",
      " 1   Sex                      270 non-null    int64  \n",
      " 2   Chest pain type          270 non-null    int64  \n",
      " 3   BP                       270 non-null    int64  \n",
      " 4   Cholesterol              270 non-null    int64  \n",
      " 5   FBS over 120             270 non-null    int64  \n",
      " 6   EKG results              270 non-null    int64  \n",
      " 7   Max HR                   270 non-null    int64  \n",
      " 8   Exercise angina          270 non-null    int64  \n",
      " 9   ST depression            270 non-null    float64\n",
      " 10  Slope of ST              270 non-null    int64  \n",
      " 11  Number of vessels fluro  270 non-null    int64  \n",
      " 12  Thallium                 270 non-null    int64  \n",
      " 13  Heart Disease            270 non-null    object \n",
      "dtypes: float64(1), int64(12), object(1)\n",
      "memory usage: 29.7+ KB\n"
     ]
    }
   ],
   "source": [
    "df.info()"
   ]
  },
  {
   "cell_type": "code",
   "execution_count": 8,
   "id": "41f1b9c1",
   "metadata": {},
   "outputs": [
    {
     "data": {
      "text/plain": [
       "Age                        0\n",
       "Sex                        0\n",
       "Chest pain type            0\n",
       "BP                         0\n",
       "Cholesterol                0\n",
       "FBS over 120               0\n",
       "EKG results                0\n",
       "Max HR                     0\n",
       "Exercise angina            0\n",
       "ST depression              0\n",
       "Slope of ST                0\n",
       "Number of vessels fluro    0\n",
       "Thallium                   0\n",
       "Heart Disease              0\n",
       "dtype: int64"
      ]
     },
     "execution_count": 8,
     "metadata": {},
     "output_type": "execute_result"
    }
   ],
   "source": [
    "df.isna().sum()"
   ]
  },
  {
   "cell_type": "code",
   "execution_count": 9,
   "id": "29ef51b8",
   "metadata": {},
   "outputs": [],
   "source": [
    "#convert target column to int64\n",
    "df[\"Heart Disease\"] = [1 if status==\"Presence\" else 0 for status in df[\"Heart Disease\"]]"
   ]
  },
  {
   "cell_type": "code",
   "execution_count": 10,
   "id": "f3d7c9da",
   "metadata": {},
   "outputs": [
    {
     "data": {
      "text/html": [
       "<div>\n",
       "<style scoped>\n",
       "    .dataframe tbody tr th:only-of-type {\n",
       "        vertical-align: middle;\n",
       "    }\n",
       "\n",
       "    .dataframe tbody tr th {\n",
       "        vertical-align: top;\n",
       "    }\n",
       "\n",
       "    .dataframe thead th {\n",
       "        text-align: right;\n",
       "    }\n",
       "</style>\n",
       "<table border=\"1\" class=\"dataframe\">\n",
       "  <thead>\n",
       "    <tr style=\"text-align: right;\">\n",
       "      <th></th>\n",
       "      <th>Age</th>\n",
       "      <th>Sex</th>\n",
       "      <th>Chest pain type</th>\n",
       "      <th>BP</th>\n",
       "      <th>Cholesterol</th>\n",
       "      <th>FBS over 120</th>\n",
       "      <th>EKG results</th>\n",
       "      <th>Max HR</th>\n",
       "      <th>Exercise angina</th>\n",
       "      <th>ST depression</th>\n",
       "      <th>Slope of ST</th>\n",
       "      <th>Number of vessels fluro</th>\n",
       "      <th>Thallium</th>\n",
       "      <th>Heart Disease</th>\n",
       "    </tr>\n",
       "  </thead>\n",
       "  <tbody>\n",
       "    <tr>\n",
       "      <th>0</th>\n",
       "      <td>70</td>\n",
       "      <td>1</td>\n",
       "      <td>4</td>\n",
       "      <td>130</td>\n",
       "      <td>322</td>\n",
       "      <td>0</td>\n",
       "      <td>2</td>\n",
       "      <td>109</td>\n",
       "      <td>0</td>\n",
       "      <td>2.4</td>\n",
       "      <td>2</td>\n",
       "      <td>3</td>\n",
       "      <td>3</td>\n",
       "      <td>1</td>\n",
       "    </tr>\n",
       "    <tr>\n",
       "      <th>1</th>\n",
       "      <td>67</td>\n",
       "      <td>0</td>\n",
       "      <td>3</td>\n",
       "      <td>115</td>\n",
       "      <td>564</td>\n",
       "      <td>0</td>\n",
       "      <td>2</td>\n",
       "      <td>160</td>\n",
       "      <td>0</td>\n",
       "      <td>1.6</td>\n",
       "      <td>2</td>\n",
       "      <td>0</td>\n",
       "      <td>7</td>\n",
       "      <td>0</td>\n",
       "    </tr>\n",
       "    <tr>\n",
       "      <th>2</th>\n",
       "      <td>57</td>\n",
       "      <td>1</td>\n",
       "      <td>2</td>\n",
       "      <td>124</td>\n",
       "      <td>261</td>\n",
       "      <td>0</td>\n",
       "      <td>0</td>\n",
       "      <td>141</td>\n",
       "      <td>0</td>\n",
       "      <td>0.3</td>\n",
       "      <td>1</td>\n",
       "      <td>0</td>\n",
       "      <td>7</td>\n",
       "      <td>1</td>\n",
       "    </tr>\n",
       "    <tr>\n",
       "      <th>3</th>\n",
       "      <td>64</td>\n",
       "      <td>1</td>\n",
       "      <td>4</td>\n",
       "      <td>128</td>\n",
       "      <td>263</td>\n",
       "      <td>0</td>\n",
       "      <td>0</td>\n",
       "      <td>105</td>\n",
       "      <td>1</td>\n",
       "      <td>0.2</td>\n",
       "      <td>2</td>\n",
       "      <td>1</td>\n",
       "      <td>7</td>\n",
       "      <td>0</td>\n",
       "    </tr>\n",
       "    <tr>\n",
       "      <th>4</th>\n",
       "      <td>74</td>\n",
       "      <td>0</td>\n",
       "      <td>2</td>\n",
       "      <td>120</td>\n",
       "      <td>269</td>\n",
       "      <td>0</td>\n",
       "      <td>2</td>\n",
       "      <td>121</td>\n",
       "      <td>1</td>\n",
       "      <td>0.2</td>\n",
       "      <td>1</td>\n",
       "      <td>1</td>\n",
       "      <td>3</td>\n",
       "      <td>0</td>\n",
       "    </tr>\n",
       "  </tbody>\n",
       "</table>\n",
       "</div>"
      ],
      "text/plain": [
       "   Age  Sex  Chest pain type   BP  Cholesterol  FBS over 120  EKG results  \\\n",
       "0   70    1                4  130          322             0            2   \n",
       "1   67    0                3  115          564             0            2   \n",
       "2   57    1                2  124          261             0            0   \n",
       "3   64    1                4  128          263             0            0   \n",
       "4   74    0                2  120          269             0            2   \n",
       "\n",
       "   Max HR  Exercise angina  ST depression  Slope of ST  \\\n",
       "0     109                0            2.4            2   \n",
       "1     160                0            1.6            2   \n",
       "2     141                0            0.3            1   \n",
       "3     105                1            0.2            2   \n",
       "4     121                1            0.2            1   \n",
       "\n",
       "   Number of vessels fluro  Thallium  Heart Disease  \n",
       "0                        3         3              1  \n",
       "1                        0         7              0  \n",
       "2                        0         7              1  \n",
       "3                        1         7              0  \n",
       "4                        1         3              0  "
      ]
     },
     "execution_count": 10,
     "metadata": {},
     "output_type": "execute_result"
    }
   ],
   "source": [
    "df.head()"
   ]
  },
  {
   "cell_type": "code",
   "execution_count": 11,
   "id": "bf554f2a",
   "metadata": {},
   "outputs": [
    {
     "data": {
      "text/html": [
       "<div>\n",
       "<style scoped>\n",
       "    .dataframe tbody tr th:only-of-type {\n",
       "        vertical-align: middle;\n",
       "    }\n",
       "\n",
       "    .dataframe tbody tr th {\n",
       "        vertical-align: top;\n",
       "    }\n",
       "\n",
       "    .dataframe thead th {\n",
       "        text-align: right;\n",
       "    }\n",
       "</style>\n",
       "<table border=\"1\" class=\"dataframe\">\n",
       "  <thead>\n",
       "    <tr style=\"text-align: right;\">\n",
       "      <th></th>\n",
       "      <th>Age</th>\n",
       "      <th>Sex</th>\n",
       "      <th>Chest pain type</th>\n",
       "      <th>BP</th>\n",
       "      <th>Cholesterol</th>\n",
       "      <th>FBS over 120</th>\n",
       "      <th>EKG results</th>\n",
       "      <th>Max HR</th>\n",
       "      <th>Exercise angina</th>\n",
       "      <th>ST depression</th>\n",
       "      <th>Slope of ST</th>\n",
       "      <th>Number of vessels fluro</th>\n",
       "      <th>Thallium</th>\n",
       "      <th>Heart Disease</th>\n",
       "    </tr>\n",
       "  </thead>\n",
       "  <tbody>\n",
       "    <tr>\n",
       "      <th>count</th>\n",
       "      <td>270.000000</td>\n",
       "      <td>270.000000</td>\n",
       "      <td>270.000000</td>\n",
       "      <td>270.000000</td>\n",
       "      <td>270.000000</td>\n",
       "      <td>270.000000</td>\n",
       "      <td>270.000000</td>\n",
       "      <td>270.000000</td>\n",
       "      <td>270.000000</td>\n",
       "      <td>270.00000</td>\n",
       "      <td>270.000000</td>\n",
       "      <td>270.000000</td>\n",
       "      <td>270.000000</td>\n",
       "      <td>270.000000</td>\n",
       "    </tr>\n",
       "    <tr>\n",
       "      <th>mean</th>\n",
       "      <td>54.433333</td>\n",
       "      <td>0.677778</td>\n",
       "      <td>3.174074</td>\n",
       "      <td>131.344444</td>\n",
       "      <td>249.659259</td>\n",
       "      <td>0.148148</td>\n",
       "      <td>1.022222</td>\n",
       "      <td>149.677778</td>\n",
       "      <td>0.329630</td>\n",
       "      <td>1.05000</td>\n",
       "      <td>1.585185</td>\n",
       "      <td>0.670370</td>\n",
       "      <td>4.696296</td>\n",
       "      <td>0.444444</td>\n",
       "    </tr>\n",
       "    <tr>\n",
       "      <th>std</th>\n",
       "      <td>9.109067</td>\n",
       "      <td>0.468195</td>\n",
       "      <td>0.950090</td>\n",
       "      <td>17.861608</td>\n",
       "      <td>51.686237</td>\n",
       "      <td>0.355906</td>\n",
       "      <td>0.997891</td>\n",
       "      <td>23.165717</td>\n",
       "      <td>0.470952</td>\n",
       "      <td>1.14521</td>\n",
       "      <td>0.614390</td>\n",
       "      <td>0.943896</td>\n",
       "      <td>1.940659</td>\n",
       "      <td>0.497827</td>\n",
       "    </tr>\n",
       "    <tr>\n",
       "      <th>min</th>\n",
       "      <td>29.000000</td>\n",
       "      <td>0.000000</td>\n",
       "      <td>1.000000</td>\n",
       "      <td>94.000000</td>\n",
       "      <td>126.000000</td>\n",
       "      <td>0.000000</td>\n",
       "      <td>0.000000</td>\n",
       "      <td>71.000000</td>\n",
       "      <td>0.000000</td>\n",
       "      <td>0.00000</td>\n",
       "      <td>1.000000</td>\n",
       "      <td>0.000000</td>\n",
       "      <td>3.000000</td>\n",
       "      <td>0.000000</td>\n",
       "    </tr>\n",
       "    <tr>\n",
       "      <th>25%</th>\n",
       "      <td>48.000000</td>\n",
       "      <td>0.000000</td>\n",
       "      <td>3.000000</td>\n",
       "      <td>120.000000</td>\n",
       "      <td>213.000000</td>\n",
       "      <td>0.000000</td>\n",
       "      <td>0.000000</td>\n",
       "      <td>133.000000</td>\n",
       "      <td>0.000000</td>\n",
       "      <td>0.00000</td>\n",
       "      <td>1.000000</td>\n",
       "      <td>0.000000</td>\n",
       "      <td>3.000000</td>\n",
       "      <td>0.000000</td>\n",
       "    </tr>\n",
       "    <tr>\n",
       "      <th>50%</th>\n",
       "      <td>55.000000</td>\n",
       "      <td>1.000000</td>\n",
       "      <td>3.000000</td>\n",
       "      <td>130.000000</td>\n",
       "      <td>245.000000</td>\n",
       "      <td>0.000000</td>\n",
       "      <td>2.000000</td>\n",
       "      <td>153.500000</td>\n",
       "      <td>0.000000</td>\n",
       "      <td>0.80000</td>\n",
       "      <td>2.000000</td>\n",
       "      <td>0.000000</td>\n",
       "      <td>3.000000</td>\n",
       "      <td>0.000000</td>\n",
       "    </tr>\n",
       "    <tr>\n",
       "      <th>75%</th>\n",
       "      <td>61.000000</td>\n",
       "      <td>1.000000</td>\n",
       "      <td>4.000000</td>\n",
       "      <td>140.000000</td>\n",
       "      <td>280.000000</td>\n",
       "      <td>0.000000</td>\n",
       "      <td>2.000000</td>\n",
       "      <td>166.000000</td>\n",
       "      <td>1.000000</td>\n",
       "      <td>1.60000</td>\n",
       "      <td>2.000000</td>\n",
       "      <td>1.000000</td>\n",
       "      <td>7.000000</td>\n",
       "      <td>1.000000</td>\n",
       "    </tr>\n",
       "    <tr>\n",
       "      <th>max</th>\n",
       "      <td>77.000000</td>\n",
       "      <td>1.000000</td>\n",
       "      <td>4.000000</td>\n",
       "      <td>200.000000</td>\n",
       "      <td>564.000000</td>\n",
       "      <td>1.000000</td>\n",
       "      <td>2.000000</td>\n",
       "      <td>202.000000</td>\n",
       "      <td>1.000000</td>\n",
       "      <td>6.20000</td>\n",
       "      <td>3.000000</td>\n",
       "      <td>3.000000</td>\n",
       "      <td>7.000000</td>\n",
       "      <td>1.000000</td>\n",
       "    </tr>\n",
       "  </tbody>\n",
       "</table>\n",
       "</div>"
      ],
      "text/plain": [
       "              Age         Sex  Chest pain type          BP  Cholesterol  \\\n",
       "count  270.000000  270.000000       270.000000  270.000000   270.000000   \n",
       "mean    54.433333    0.677778         3.174074  131.344444   249.659259   \n",
       "std      9.109067    0.468195         0.950090   17.861608    51.686237   \n",
       "min     29.000000    0.000000         1.000000   94.000000   126.000000   \n",
       "25%     48.000000    0.000000         3.000000  120.000000   213.000000   \n",
       "50%     55.000000    1.000000         3.000000  130.000000   245.000000   \n",
       "75%     61.000000    1.000000         4.000000  140.000000   280.000000   \n",
       "max     77.000000    1.000000         4.000000  200.000000   564.000000   \n",
       "\n",
       "       FBS over 120  EKG results      Max HR  Exercise angina  ST depression  \\\n",
       "count    270.000000   270.000000  270.000000       270.000000      270.00000   \n",
       "mean       0.148148     1.022222  149.677778         0.329630        1.05000   \n",
       "std        0.355906     0.997891   23.165717         0.470952        1.14521   \n",
       "min        0.000000     0.000000   71.000000         0.000000        0.00000   \n",
       "25%        0.000000     0.000000  133.000000         0.000000        0.00000   \n",
       "50%        0.000000     2.000000  153.500000         0.000000        0.80000   \n",
       "75%        0.000000     2.000000  166.000000         1.000000        1.60000   \n",
       "max        1.000000     2.000000  202.000000         1.000000        6.20000   \n",
       "\n",
       "       Slope of ST  Number of vessels fluro    Thallium  Heart Disease  \n",
       "count   270.000000               270.000000  270.000000     270.000000  \n",
       "mean      1.585185                 0.670370    4.696296       0.444444  \n",
       "std       0.614390                 0.943896    1.940659       0.497827  \n",
       "min       1.000000                 0.000000    3.000000       0.000000  \n",
       "25%       1.000000                 0.000000    3.000000       0.000000  \n",
       "50%       2.000000                 0.000000    3.000000       0.000000  \n",
       "75%       2.000000                 1.000000    7.000000       1.000000  \n",
       "max       3.000000                 3.000000    7.000000       1.000000  "
      ]
     },
     "execution_count": 11,
     "metadata": {},
     "output_type": "execute_result"
    }
   ],
   "source": [
    "df.describe()"
   ]
  },
  {
   "cell_type": "markdown",
   "id": "15ad088e",
   "metadata": {},
   "source": [
    "## Sex vs Heart Disease Frequency"
   ]
  },
  {
   "cell_type": "code",
   "execution_count": 12,
   "id": "be0be19c",
   "metadata": {},
   "outputs": [
    {
     "data": {
      "text/plain": [
       "1    183\n",
       "0     87\n",
       "Name: Sex, dtype: int64"
      ]
     },
     "execution_count": 12,
     "metadata": {},
     "output_type": "execute_result"
    }
   ],
   "source": [
    "df[\"Sex\"].value_counts()"
   ]
  },
  {
   "cell_type": "code",
   "execution_count": 13,
   "id": "84be4073",
   "metadata": {},
   "outputs": [
    {
     "data": {
      "text/html": [
       "<div>\n",
       "<style scoped>\n",
       "    .dataframe tbody tr th:only-of-type {\n",
       "        vertical-align: middle;\n",
       "    }\n",
       "\n",
       "    .dataframe tbody tr th {\n",
       "        vertical-align: top;\n",
       "    }\n",
       "\n",
       "    .dataframe thead th {\n",
       "        text-align: right;\n",
       "    }\n",
       "</style>\n",
       "<table border=\"1\" class=\"dataframe\">\n",
       "  <thead>\n",
       "    <tr style=\"text-align: right;\">\n",
       "      <th>Sex</th>\n",
       "      <th>0</th>\n",
       "      <th>1</th>\n",
       "    </tr>\n",
       "    <tr>\n",
       "      <th>Heart Disease</th>\n",
       "      <th></th>\n",
       "      <th></th>\n",
       "    </tr>\n",
       "  </thead>\n",
       "  <tbody>\n",
       "    <tr>\n",
       "      <th>0</th>\n",
       "      <td>67</td>\n",
       "      <td>83</td>\n",
       "    </tr>\n",
       "    <tr>\n",
       "      <th>1</th>\n",
       "      <td>20</td>\n",
       "      <td>100</td>\n",
       "    </tr>\n",
       "  </tbody>\n",
       "</table>\n",
       "</div>"
      ],
      "text/plain": [
       "Sex             0    1\n",
       "Heart Disease         \n",
       "0              67   83\n",
       "1              20  100"
      ]
     },
     "execution_count": 13,
     "metadata": {},
     "output_type": "execute_result"
    }
   ],
   "source": [
    "#illustrate heuristic of predicting heart disease based on sex\n",
    "pd.crosstab(df[\"Heart Disease\"],df[\"Sex\"])"
   ]
  },
  {
   "cell_type": "code",
   "execution_count": 14,
   "id": "25ba6244",
   "metadata": {},
   "outputs": [
    {
     "data": {
      "text/plain": [
       "(array([0, 1]), [Text(0, 0, '0'), Text(1, 0, '1')])"
      ]
     },
     "execution_count": 14,
     "metadata": {},
     "output_type": "execute_result"
    },
    {
     "data": {
      "image/png": "[encoded data removed]",
      "text/plain": [
       "<Figure size 576x432 with 1 Axes>"
      ]
     },
     "metadata": {
      "needs_background": "light"
     },
     "output_type": "display_data"
    }
   ],
   "source": [
    "pd.crosstab(df[\"Heart Disease\"],df[\"Sex\"]).plot(kind=\"bar\",\n",
    "                                                figsize=(8,6),\n",
    "                                                color=[\"cyan\", \"violet\"])\n",
    "plt.title(\"Heart Disease vs Sex\")\n",
    "plt.xlabel(\"0 = Disease, 1 = No Disease\")\n",
    "plt.ylabel(\"Frequency\")\n",
    "plt.legend([\"Male\",\"Female\"])\n",
    "plt.xticks(rotation=0)"
   ]
  },
  {
   "cell_type": "markdown",
   "id": "23446cba",
   "metadata": {},
   "source": [
    "## Age and Max HR vs Heart Disease Frequency"
   ]
  },
  {
   "cell_type": "code",
   "execution_count": 15,
   "id": "7fccce85",
   "metadata": {},
   "outputs": [
    {
     "data": {
      "text/plain": [
       "162    10\n",
       "160     9\n",
       "163     8\n",
       "125     7\n",
       "172     7\n",
       "       ..\n",
       "134     1\n",
       "136     1\n",
       "137     1\n",
       "88      1\n",
       "202     1\n",
       "Name: Max HR, Length: 90, dtype: int64"
      ]
     },
     "execution_count": 15,
     "metadata": {},
     "output_type": "execute_result"
    }
   ],
   "source": [
    "df[\"Max HR\"].value_counts()"
   ]
  },
  {
   "cell_type": "code",
   "execution_count": 16,
   "id": "8eaf4ea5",
   "metadata": {},
   "outputs": [
    {
     "data": {
      "text/plain": [
       "41"
      ]
     },
     "execution_count": 16,
     "metadata": {},
     "output_type": "execute_result"
    }
   ],
   "source": [
    "len(df[\"Age\"].value_counts())"
   ]
  },
  {
   "cell_type": "code",
   "execution_count": 17,
   "id": "0c04a16c",
   "metadata": {},
   "outputs": [
    {
     "data": {
      "text/plain": [
       "Text(0, 0.5, 'Max HR')"
      ]
     },
     "execution_count": 17,
     "metadata": {},
     "output_type": "execute_result"
    },
    {
     "data": {
      "image/png": "[encoded data removed]",
      "text/plain": [
       "<Figure size 648x432 with 1 Axes>"
      ]
     },
     "metadata": {
      "needs_background": "light"
     },
     "output_type": "display_data"
    }
   ],
   "source": [
    "positive_disease = df.loc[df['Heart Disease']==1] \n",
    "plt.figure(figsize=(9,6))\n",
    "plt.scatter(positive_disease[\"Age\"],\n",
    "            positive_disease[\"Max HR\"],\n",
    "            color=\"salmon\"\n",
    "           )\n",
    "plt.title(\"Age vs Max HR (Heart Disease)\")\n",
    "plt.xlabel(\"Age\")\n",
    "plt.ylabel(\"Max HR\")"
   ]
  },
  {
   "cell_type": "code",
   "execution_count": 18,
   "id": "10749521",
   "metadata": {},
   "outputs": [
    {
     "data": {
      "text/plain": [
       "Text(0, 0.5, 'Max HR')"
      ]
     },
     "execution_count": 18,
     "metadata": {},
     "output_type": "execute_result"
    },
    {
     "data": {
      "image/png": "[encoded data removed]",
      "text/plain": [
       "<Figure size 648x432 with 1 Axes>"
      ]
     },
     "metadata": {
      "needs_background": "light"
     },
     "output_type": "display_data"
    }
   ],
   "source": [
    "positive_disease = df.loc[df['Heart Disease']==0] \n",
    "plt.figure(figsize=(9,6))\n",
    "plt.scatter(positive_disease[\"Age\"],\n",
    "            positive_disease[\"Max HR\"],\n",
    "            color=\"turquoise\"\n",
    "           )\n",
    "plt.title(\"Age vs Max HR (No Heart Disease)\")\n",
    "plt.xlabel(\"Age\")\n",
    "plt.ylabel(\"Max HR\")"
   ]
  },
  {
   "cell_type": "code",
   "execution_count": 19,
   "id": "dd5c5efa",
   "metadata": {},
   "outputs": [
    {
     "data": {
      "text/plain": [
       "Text(0.5, 1.0, 'Age spread')"
      ]
     },
     "execution_count": 19,
     "metadata": {},
     "output_type": "execute_result"
    },
    {
     "data": {
      "image/png": "[encoded data removed]",
      "text/plain": [
       "<Figure size 432x288 with 1 Axes>"
      ]
     },
     "metadata": {
      "needs_background": "light"
     },
     "output_type": "display_data"
    }
   ],
   "source": [
    "#age distribution\n",
    "df[\"Age\"].plot.hist()\n",
    "plt.title(\"Age spread\")"
   ]
  },
  {
   "cell_type": "markdown",
   "id": "229baef0",
   "metadata": {},
   "source": [
    "## Chest Pain Type vs Heart Disease Frequency\n"
   ]
  },
  {
   "cell_type": "code",
   "execution_count": 20,
   "id": "7a13c07c",
   "metadata": {},
   "outputs": [
    {
     "data": {
      "text/html": [
       "<div>\n",
       "<style scoped>\n",
       "    .dataframe tbody tr th:only-of-type {\n",
       "        vertical-align: middle;\n",
       "    }\n",
       "\n",
       "    .dataframe tbody tr th {\n",
       "        vertical-align: top;\n",
       "    }\n",
       "\n",
       "    .dataframe thead th {\n",
       "        text-align: right;\n",
       "    }\n",
       "</style>\n",
       "<table border=\"1\" class=\"dataframe\">\n",
       "  <thead>\n",
       "    <tr style=\"text-align: right;\">\n",
       "      <th>Heart Disease</th>\n",
       "      <th>0</th>\n",
       "      <th>1</th>\n",
       "    </tr>\n",
       "    <tr>\n",
       "      <th>Chest pain type</th>\n",
       "      <th></th>\n",
       "      <th></th>\n",
       "    </tr>\n",
       "  </thead>\n",
       "  <tbody>\n",
       "    <tr>\n",
       "      <th>1</th>\n",
       "      <td>15</td>\n",
       "      <td>5</td>\n",
       "    </tr>\n",
       "    <tr>\n",
       "      <th>2</th>\n",
       "      <td>35</td>\n",
       "      <td>7</td>\n",
       "    </tr>\n",
       "    <tr>\n",
       "      <th>3</th>\n",
       "      <td>62</td>\n",
       "      <td>17</td>\n",
       "    </tr>\n",
       "    <tr>\n",
       "      <th>4</th>\n",
       "      <td>38</td>\n",
       "      <td>91</td>\n",
       "    </tr>\n",
       "  </tbody>\n",
       "</table>\n",
       "</div>"
      ],
      "text/plain": [
       "Heart Disease     0   1\n",
       "Chest pain type        \n",
       "1                15   5\n",
       "2                35   7\n",
       "3                62  17\n",
       "4                38  91"
      ]
     },
     "execution_count": 20,
     "metadata": {},
     "output_type": "execute_result"
    }
   ],
   "source": [
    "pd.crosstab(df[\"Chest pain type\"], df[\"Heart Disease\"])"
   ]
  },
  {
   "cell_type": "code",
   "execution_count": 21,
   "id": "a3f0275b",
   "metadata": {},
   "outputs": [
    {
     "data": {
      "text/plain": [
       "(array([0, 1, 2, 3]),\n",
       " [Text(0, 0, '1'), Text(1, 0, '2'), Text(2, 0, '3'), Text(3, 0, '4')])"
      ]
     },
     "execution_count": 21,
     "metadata": {},
     "output_type": "execute_result"
    },
    {
     "data": {
      "image/png": "[encoded data removed]",
      "text/plain": [
       "<Figure size 576x432 with 1 Axes>"
      ]
     },
     "metadata": {
      "needs_background": "light"
     },
     "output_type": "display_data"
    }
   ],
   "source": [
    "pd.crosstab(df[\"Chest pain type\"],df[\"Heart Disease\"]).plot(kind=\"bar\",\n",
    "                                                figsize=(8,6),)\n",
    "\n",
    "plt.title(\"Heart Disease vs Sex\")\n",
    "plt.xlabel(\"Chest pain type\")\n",
    "plt.ylabel(\"Frequency\")\n",
    "plt.legend(['No Disease','Disease'])\n",
    "plt.xticks(rotation=0)"
   ]
  },
  {
   "cell_type": "markdown",
   "id": "d3e985e8",
   "metadata": {},
   "source": [
    "## General Variable Correlations "
   ]
  },
  {
   "cell_type": "code",
   "execution_count": 22,
   "id": "3d35a16b",
   "metadata": {},
   "outputs": [
    {
     "data": {
      "text/html": [
       "<div>\n",
       "<style scoped>\n",
       "    .dataframe tbody tr th:only-of-type {\n",
       "        vertical-align: middle;\n",
       "    }\n",
       "\n",
       "    .dataframe tbody tr th {\n",
       "        vertical-align: top;\n",
       "    }\n",
       "\n",
       "    .dataframe thead th {\n",
       "        text-align: right;\n",
       "    }\n",
       "</style>\n",
       "<table border=\"1\" class=\"dataframe\">\n",
       "  <thead>\n",
       "    <tr style=\"text-align: right;\">\n",
       "      <th></th>\n",
       "      <th>Age</th>\n",
       "      <th>Sex</th>\n",
       "      <th>Chest pain type</th>\n",
       "      <th>BP</th>\n",
       "      <th>Cholesterol</th>\n",
       "      <th>FBS over 120</th>\n",
       "      <th>EKG results</th>\n",
       "      <th>Max HR</th>\n",
       "      <th>Exercise angina</th>\n",
       "      <th>ST depression</th>\n",
       "      <th>Slope of ST</th>\n",
       "      <th>Number of vessels fluro</th>\n",
       "      <th>Thallium</th>\n",
       "      <th>Heart Disease</th>\n",
       "    </tr>\n",
       "  </thead>\n",
       "  <tbody>\n",
       "    <tr>\n",
       "      <th>Age</th>\n",
       "      <td>1.000000</td>\n",
       "      <td>-0.094401</td>\n",
       "      <td>0.096920</td>\n",
       "      <td>0.273053</td>\n",
       "      <td>0.220056</td>\n",
       "      <td>0.123458</td>\n",
       "      <td>0.128171</td>\n",
       "      <td>-0.402215</td>\n",
       "      <td>0.098297</td>\n",
       "      <td>0.194234</td>\n",
       "      <td>0.159774</td>\n",
       "      <td>0.356081</td>\n",
       "      <td>0.106100</td>\n",
       "      <td>0.212322</td>\n",
       "    </tr>\n",
       "    <tr>\n",
       "      <th>Sex</th>\n",
       "      <td>-0.094401</td>\n",
       "      <td>1.000000</td>\n",
       "      <td>0.034636</td>\n",
       "      <td>-0.062693</td>\n",
       "      <td>-0.201647</td>\n",
       "      <td>0.042140</td>\n",
       "      <td>0.039253</td>\n",
       "      <td>-0.076101</td>\n",
       "      <td>0.180022</td>\n",
       "      <td>0.097412</td>\n",
       "      <td>0.050545</td>\n",
       "      <td>0.086830</td>\n",
       "      <td>0.391046</td>\n",
       "      <td>0.297721</td>\n",
       "    </tr>\n",
       "    <tr>\n",
       "      <th>Chest pain type</th>\n",
       "      <td>0.096920</td>\n",
       "      <td>0.034636</td>\n",
       "      <td>1.000000</td>\n",
       "      <td>-0.043196</td>\n",
       "      <td>0.090465</td>\n",
       "      <td>-0.098537</td>\n",
       "      <td>0.074325</td>\n",
       "      <td>-0.317682</td>\n",
       "      <td>0.353160</td>\n",
       "      <td>0.167244</td>\n",
       "      <td>0.136900</td>\n",
       "      <td>0.225890</td>\n",
       "      <td>0.262659</td>\n",
       "      <td>0.417436</td>\n",
       "    </tr>\n",
       "    <tr>\n",
       "      <th>BP</th>\n",
       "      <td>0.273053</td>\n",
       "      <td>-0.062693</td>\n",
       "      <td>-0.043196</td>\n",
       "      <td>1.000000</td>\n",
       "      <td>0.173019</td>\n",
       "      <td>0.155681</td>\n",
       "      <td>0.116157</td>\n",
       "      <td>-0.039136</td>\n",
       "      <td>0.082793</td>\n",
       "      <td>0.222800</td>\n",
       "      <td>0.142472</td>\n",
       "      <td>0.085697</td>\n",
       "      <td>0.132045</td>\n",
       "      <td>0.155383</td>\n",
       "    </tr>\n",
       "    <tr>\n",
       "      <th>Cholesterol</th>\n",
       "      <td>0.220056</td>\n",
       "      <td>-0.201647</td>\n",
       "      <td>0.090465</td>\n",
       "      <td>0.173019</td>\n",
       "      <td>1.000000</td>\n",
       "      <td>0.025186</td>\n",
       "      <td>0.167652</td>\n",
       "      <td>-0.018739</td>\n",
       "      <td>0.078243</td>\n",
       "      <td>0.027709</td>\n",
       "      <td>-0.005755</td>\n",
       "      <td>0.126541</td>\n",
       "      <td>0.028836</td>\n",
       "      <td>0.118021</td>\n",
       "    </tr>\n",
       "    <tr>\n",
       "      <th>FBS over 120</th>\n",
       "      <td>0.123458</td>\n",
       "      <td>0.042140</td>\n",
       "      <td>-0.098537</td>\n",
       "      <td>0.155681</td>\n",
       "      <td>0.025186</td>\n",
       "      <td>1.000000</td>\n",
       "      <td>0.053499</td>\n",
       "      <td>0.022494</td>\n",
       "      <td>-0.004107</td>\n",
       "      <td>-0.025538</td>\n",
       "      <td>0.044076</td>\n",
       "      <td>0.123774</td>\n",
       "      <td>0.049237</td>\n",
       "      <td>-0.016319</td>\n",
       "    </tr>\n",
       "    <tr>\n",
       "      <th>EKG results</th>\n",
       "      <td>0.128171</td>\n",
       "      <td>0.039253</td>\n",
       "      <td>0.074325</td>\n",
       "      <td>0.116157</td>\n",
       "      <td>0.167652</td>\n",
       "      <td>0.053499</td>\n",
       "      <td>1.000000</td>\n",
       "      <td>-0.074628</td>\n",
       "      <td>0.095098</td>\n",
       "      <td>0.120034</td>\n",
       "      <td>0.160614</td>\n",
       "      <td>0.114368</td>\n",
       "      <td>0.007337</td>\n",
       "      <td>0.182091</td>\n",
       "    </tr>\n",
       "    <tr>\n",
       "      <th>Max HR</th>\n",
       "      <td>-0.402215</td>\n",
       "      <td>-0.076101</td>\n",
       "      <td>-0.317682</td>\n",
       "      <td>-0.039136</td>\n",
       "      <td>-0.018739</td>\n",
       "      <td>0.022494</td>\n",
       "      <td>-0.074628</td>\n",
       "      <td>1.000000</td>\n",
       "      <td>-0.380719</td>\n",
       "      <td>-0.349045</td>\n",
       "      <td>-0.386847</td>\n",
       "      <td>-0.265333</td>\n",
       "      <td>-0.253397</td>\n",
       "      <td>-0.418514</td>\n",
       "    </tr>\n",
       "    <tr>\n",
       "      <th>Exercise angina</th>\n",
       "      <td>0.098297</td>\n",
       "      <td>0.180022</td>\n",
       "      <td>0.353160</td>\n",
       "      <td>0.082793</td>\n",
       "      <td>0.078243</td>\n",
       "      <td>-0.004107</td>\n",
       "      <td>0.095098</td>\n",
       "      <td>-0.380719</td>\n",
       "      <td>1.000000</td>\n",
       "      <td>0.274672</td>\n",
       "      <td>0.255908</td>\n",
       "      <td>0.153347</td>\n",
       "      <td>0.321449</td>\n",
       "      <td>0.419303</td>\n",
       "    </tr>\n",
       "    <tr>\n",
       "      <th>ST depression</th>\n",
       "      <td>0.194234</td>\n",
       "      <td>0.097412</td>\n",
       "      <td>0.167244</td>\n",
       "      <td>0.222800</td>\n",
       "      <td>0.027709</td>\n",
       "      <td>-0.025538</td>\n",
       "      <td>0.120034</td>\n",
       "      <td>-0.349045</td>\n",
       "      <td>0.274672</td>\n",
       "      <td>1.000000</td>\n",
       "      <td>0.609712</td>\n",
       "      <td>0.255005</td>\n",
       "      <td>0.324333</td>\n",
       "      <td>0.417967</td>\n",
       "    </tr>\n",
       "    <tr>\n",
       "      <th>Slope of ST</th>\n",
       "      <td>0.159774</td>\n",
       "      <td>0.050545</td>\n",
       "      <td>0.136900</td>\n",
       "      <td>0.142472</td>\n",
       "      <td>-0.005755</td>\n",
       "      <td>0.044076</td>\n",
       "      <td>0.160614</td>\n",
       "      <td>-0.386847</td>\n",
       "      <td>0.255908</td>\n",
       "      <td>0.609712</td>\n",
       "      <td>1.000000</td>\n",
       "      <td>0.109498</td>\n",
       "      <td>0.283678</td>\n",
       "      <td>0.337616</td>\n",
       "    </tr>\n",
       "    <tr>\n",
       "      <th>Number of vessels fluro</th>\n",
       "      <td>0.356081</td>\n",
       "      <td>0.086830</td>\n",
       "      <td>0.225890</td>\n",
       "      <td>0.085697</td>\n",
       "      <td>0.126541</td>\n",
       "      <td>0.123774</td>\n",
       "      <td>0.114368</td>\n",
       "      <td>-0.265333</td>\n",
       "      <td>0.153347</td>\n",
       "      <td>0.255005</td>\n",
       "      <td>0.109498</td>\n",
       "      <td>1.000000</td>\n",
       "      <td>0.255648</td>\n",
       "      <td>0.455336</td>\n",
       "    </tr>\n",
       "    <tr>\n",
       "      <th>Thallium</th>\n",
       "      <td>0.106100</td>\n",
       "      <td>0.391046</td>\n",
       "      <td>0.262659</td>\n",
       "      <td>0.132045</td>\n",
       "      <td>0.028836</td>\n",
       "      <td>0.049237</td>\n",
       "      <td>0.007337</td>\n",
       "      <td>-0.253397</td>\n",
       "      <td>0.321449</td>\n",
       "      <td>0.324333</td>\n",
       "      <td>0.283678</td>\n",
       "      <td>0.255648</td>\n",
       "      <td>1.000000</td>\n",
       "      <td>0.525020</td>\n",
       "    </tr>\n",
       "    <tr>\n",
       "      <th>Heart Disease</th>\n",
       "      <td>0.212322</td>\n",
       "      <td>0.297721</td>\n",
       "      <td>0.417436</td>\n",
       "      <td>0.155383</td>\n",
       "      <td>0.118021</td>\n",
       "      <td>-0.016319</td>\n",
       "      <td>0.182091</td>\n",
       "      <td>-0.418514</td>\n",
       "      <td>0.419303</td>\n",
       "      <td>0.417967</td>\n",
       "      <td>0.337616</td>\n",
       "      <td>0.455336</td>\n",
       "      <td>0.525020</td>\n",
       "      <td>1.000000</td>\n",
       "    </tr>\n",
       "  </tbody>\n",
       "</table>\n",
       "</div>"
      ],
      "text/plain": [
       "                              Age       Sex  Chest pain type        BP  \\\n",
       "Age                      1.000000 -0.094401         0.096920  0.273053   \n",
       "Sex                     -0.094401  1.000000         0.034636 -0.062693   \n",
       "Chest pain type          0.096920  0.034636         1.000000 -0.043196   \n",
       "BP                       0.273053 -0.062693        -0.043196  1.000000   \n",
       "Cholesterol              0.220056 -0.201647         0.090465  0.173019   \n",
       "FBS over 120             0.123458  0.042140        -0.098537  0.155681   \n",
       "EKG results              0.128171  0.039253         0.074325  0.116157   \n",
       "Max HR                  -0.402215 -0.076101        -0.317682 -0.039136   \n",
       "Exercise angina          0.098297  0.180022         0.353160  0.082793   \n",
       "ST depression            0.194234  0.097412         0.167244  0.222800   \n",
       "Slope of ST              0.159774  0.050545         0.136900  0.142472   \n",
       "Number of vessels fluro  0.356081  0.086830         0.225890  0.085697   \n",
       "Thallium                 0.106100  0.391046         0.262659  0.132045   \n",
       "Heart Disease            0.212322  0.297721         0.417436  0.155383   \n",
       "\n",
       "                         Cholesterol  FBS over 120  EKG results    Max HR  \\\n",
       "Age                         0.220056      0.123458     0.128171 -0.402215   \n",
       "Sex                        -0.201647      0.042140     0.039253 -0.076101   \n",
       "Chest pain type             0.090465     -0.098537     0.074325 -0.317682   \n",
       "BP                          0.173019      0.155681     0.116157 -0.039136   \n",
       "Cholesterol                 1.000000      0.025186     0.167652 -0.018739   \n",
       "FBS over 120                0.025186      1.000000     0.053499  0.022494   \n",
       "EKG results                 0.167652      0.053499     1.000000 -0.074628   \n",
       "Max HR                     -0.018739      0.022494    -0.074628  1.000000   \n",
       "Exercise angina             0.078243     -0.004107     0.095098 -0.380719   \n",
       "ST depression               0.027709     -0.025538     0.120034 -0.349045   \n",
       "Slope of ST                -0.005755      0.044076     0.160614 -0.386847   \n",
       "Number of vessels fluro     0.126541      0.123774     0.114368 -0.265333   \n",
       "Thallium                    0.028836      0.049237     0.007337 -0.253397   \n",
       "Heart Disease               0.118021     -0.016319     0.182091 -0.418514   \n",
       "\n",
       "                         Exercise angina  ST depression  Slope of ST  \\\n",
       "Age                             0.098297       0.194234     0.159774   \n",
       "Sex                             0.180022       0.097412     0.050545   \n",
       "Chest pain type                 0.353160       0.167244     0.136900   \n",
       "BP                              0.082793       0.222800     0.142472   \n",
       "Cholesterol                     0.078243       0.027709    -0.005755   \n",
       "FBS over 120                   -0.004107      -0.025538     0.044076   \n",
       "EKG results                     0.095098       0.120034     0.160614   \n",
       "Max HR                         -0.380719      -0.349045    -0.386847   \n",
       "Exercise angina                 1.000000       0.274672     0.255908   \n",
       "ST depression                   0.274672       1.000000     0.609712   \n",
       "Slope of ST                     0.255908       0.609712     1.000000   \n",
       "Number of vessels fluro         0.153347       0.255005     0.109498   \n",
       "Thallium                        0.321449       0.324333     0.283678   \n",
       "Heart Disease                   0.419303       0.417967     0.337616   \n",
       "\n",
       "                         Number of vessels fluro  Thallium  Heart Disease  \n",
       "Age                                     0.356081  0.106100       0.212322  \n",
       "Sex                                     0.086830  0.391046       0.297721  \n",
       "Chest pain type                         0.225890  0.262659       0.417436  \n",
       "BP                                      0.085697  0.132045       0.155383  \n",
       "Cholesterol                             0.126541  0.028836       0.118021  \n",
       "FBS over 120                            0.123774  0.049237      -0.016319  \n",
       "EKG results                             0.114368  0.007337       0.182091  \n",
       "Max HR                                 -0.265333 -0.253397      -0.418514  \n",
       "Exercise angina                         0.153347  0.321449       0.419303  \n",
       "ST depression                           0.255005  0.324333       0.417967  \n",
       "Slope of ST                             0.109498  0.283678       0.337616  \n",
       "Number of vessels fluro                 1.000000  0.255648       0.455336  \n",
       "Thallium                                0.255648  1.000000       0.525020  \n",
       "Heart Disease                           0.455336  0.525020       1.000000  "
      ]
     },
     "execution_count": 22,
     "metadata": {},
     "output_type": "execute_result"
    }
   ],
   "source": [
    "df.corr() #correlation matrix"
   ]
  },
  {
   "cell_type": "code",
   "execution_count": 23,
   "id": "f3ca54bf",
   "metadata": {},
   "outputs": [
    {
     "data": {
      "image/png": "[encoded data removed]",
      "text/plain": [
       "<Figure size 648x720 with 2 Axes>"
      ]
     },
     "metadata": {
      "needs_background": "light"
     },
     "output_type": "display_data"
    }
   ],
   "source": [
    "corr_matrix = df.corr() #magnitude = more correlated positively/negatively\n",
    "fig,ax = plt.subplots(figsize=(9,10))\n",
    "ax = sns.heatmap(corr_matrix,\n",
    "                 annot=True,\n",
    "                 linewidths=0.5,\n",
    "                 fmt=\".2f\",\n",
    "                 cmap=\"YlGnBu\")\n",
    "# bottom, top = ax.get_ylim()\n",
    "# ax.set_ylim(bottom+0.5,top-0.5)"
   ]
  },
  {
   "cell_type": "markdown",
   "id": "006e3155",
   "metadata": {},
   "source": [
    "## Modelling"
   ]
  },
  {
   "cell_type": "code",
   "execution_count": 24,
   "id": "76a90282",
   "metadata": {},
   "outputs": [
    {
     "data": {
      "text/html": [
       "<div>\n",
       "<style scoped>\n",
       "    .dataframe tbody tr th:only-of-type {\n",
       "        vertical-align: middle;\n",
       "    }\n",
       "\n",
       "    .dataframe tbody tr th {\n",
       "        vertical-align: top;\n",
       "    }\n",
       "\n",
       "    .dataframe thead th {\n",
       "        text-align: right;\n",
       "    }\n",
       "</style>\n",
       "<table border=\"1\" class=\"dataframe\">\n",
       "  <thead>\n",
       "    <tr style=\"text-align: right;\">\n",
       "      <th></th>\n",
       "      <th>Age</th>\n",
       "      <th>Sex</th>\n",
       "      <th>Chest pain type</th>\n",
       "      <th>BP</th>\n",
       "      <th>Cholesterol</th>\n",
       "      <th>FBS over 120</th>\n",
       "      <th>EKG results</th>\n",
       "      <th>Max HR</th>\n",
       "      <th>Exercise angina</th>\n",
       "      <th>ST depression</th>\n",
       "      <th>Slope of ST</th>\n",
       "      <th>Number of vessels fluro</th>\n",
       "      <th>Thallium</th>\n",
       "      <th>Heart Disease</th>\n",
       "    </tr>\n",
       "  </thead>\n",
       "  <tbody>\n",
       "    <tr>\n",
       "      <th>0</th>\n",
       "      <td>70</td>\n",
       "      <td>1</td>\n",
       "      <td>4</td>\n",
       "      <td>130</td>\n",
       "      <td>322</td>\n",
       "      <td>0</td>\n",
       "      <td>2</td>\n",
       "      <td>109</td>\n",
       "      <td>0</td>\n",
       "      <td>2.4</td>\n",
       "      <td>2</td>\n",
       "      <td>3</td>\n",
       "      <td>3</td>\n",
       "      <td>1</td>\n",
       "    </tr>\n",
       "    <tr>\n",
       "      <th>1</th>\n",
       "      <td>67</td>\n",
       "      <td>0</td>\n",
       "      <td>3</td>\n",
       "      <td>115</td>\n",
       "      <td>564</td>\n",
       "      <td>0</td>\n",
       "      <td>2</td>\n",
       "      <td>160</td>\n",
       "      <td>0</td>\n",
       "      <td>1.6</td>\n",
       "      <td>2</td>\n",
       "      <td>0</td>\n",
       "      <td>7</td>\n",
       "      <td>0</td>\n",
       "    </tr>\n",
       "    <tr>\n",
       "      <th>2</th>\n",
       "      <td>57</td>\n",
       "      <td>1</td>\n",
       "      <td>2</td>\n",
       "      <td>124</td>\n",
       "      <td>261</td>\n",
       "      <td>0</td>\n",
       "      <td>0</td>\n",
       "      <td>141</td>\n",
       "      <td>0</td>\n",
       "      <td>0.3</td>\n",
       "      <td>1</td>\n",
       "      <td>0</td>\n",
       "      <td>7</td>\n",
       "      <td>1</td>\n",
       "    </tr>\n",
       "    <tr>\n",
       "      <th>3</th>\n",
       "      <td>64</td>\n",
       "      <td>1</td>\n",
       "      <td>4</td>\n",
       "      <td>128</td>\n",
       "      <td>263</td>\n",
       "      <td>0</td>\n",
       "      <td>0</td>\n",
       "      <td>105</td>\n",
       "      <td>1</td>\n",
       "      <td>0.2</td>\n",
       "      <td>2</td>\n",
       "      <td>1</td>\n",
       "      <td>7</td>\n",
       "      <td>0</td>\n",
       "    </tr>\n",
       "    <tr>\n",
       "      <th>4</th>\n",
       "      <td>74</td>\n",
       "      <td>0</td>\n",
       "      <td>2</td>\n",
       "      <td>120</td>\n",
       "      <td>269</td>\n",
       "      <td>0</td>\n",
       "      <td>2</td>\n",
       "      <td>121</td>\n",
       "      <td>1</td>\n",
       "      <td>0.2</td>\n",
       "      <td>1</td>\n",
       "      <td>1</td>\n",
       "      <td>3</td>\n",
       "      <td>0</td>\n",
       "    </tr>\n",
       "  </tbody>\n",
       "</table>\n",
       "</div>"
      ],
      "text/plain": [
       "   Age  Sex  Chest pain type   BP  Cholesterol  FBS over 120  EKG results  \\\n",
       "0   70    1                4  130          322             0            2   \n",
       "1   67    0                3  115          564             0            2   \n",
       "2   57    1                2  124          261             0            0   \n",
       "3   64    1                4  128          263             0            0   \n",
       "4   74    0                2  120          269             0            2   \n",
       "\n",
       "   Max HR  Exercise angina  ST depression  Slope of ST  \\\n",
       "0     109                0            2.4            2   \n",
       "1     160                0            1.6            2   \n",
       "2     141                0            0.3            1   \n",
       "3     105                1            0.2            2   \n",
       "4     121                1            0.2            1   \n",
       "\n",
       "   Number of vessels fluro  Thallium  Heart Disease  \n",
       "0                        3         3              1  \n",
       "1                        0         7              0  \n",
       "2                        0         7              1  \n",
       "3                        1         7              0  \n",
       "4                        1         3              0  "
      ]
     },
     "execution_count": 24,
     "metadata": {},
     "output_type": "execute_result"
    }
   ],
   "source": [
    "df.head()"
   ]
  },
  {
   "cell_type": "code",
   "execution_count": 25,
   "id": "4f638616",
   "metadata": {},
   "outputs": [],
   "source": [
    "#split X and y\n",
    "X = df.drop(\"Heart Disease\", axis=1)\n",
    "y = df[\"Heart Disease\"]\n"
   ]
  },
  {
   "cell_type": "code",
   "execution_count": 26,
   "id": "444a6016",
   "metadata": {},
   "outputs": [
    {
     "data": {
      "text/html": [
       "<div>\n",
       "<style scoped>\n",
       "    .dataframe tbody tr th:only-of-type {\n",
       "        vertical-align: middle;\n",
       "    }\n",
       "\n",
       "    .dataframe tbody tr th {\n",
       "        vertical-align: top;\n",
       "    }\n",
       "\n",
       "    .dataframe thead th {\n",
       "        text-align: right;\n",
       "    }\n",
       "</style>\n",
       "<table border=\"1\" class=\"dataframe\">\n",
       "  <thead>\n",
       "    <tr style=\"text-align: right;\">\n",
       "      <th></th>\n",
       "      <th>Age</th>\n",
       "      <th>Sex</th>\n",
       "      <th>Chest pain type</th>\n",
       "      <th>BP</th>\n",
       "      <th>Cholesterol</th>\n",
       "      <th>FBS over 120</th>\n",
       "      <th>EKG results</th>\n",
       "      <th>Max HR</th>\n",
       "      <th>Exercise angina</th>\n",
       "      <th>ST depression</th>\n",
       "      <th>Slope of ST</th>\n",
       "      <th>Number of vessels fluro</th>\n",
       "      <th>Thallium</th>\n",
       "    </tr>\n",
       "  </thead>\n",
       "  <tbody>\n",
       "    <tr>\n",
       "      <th>0</th>\n",
       "      <td>70</td>\n",
       "      <td>1</td>\n",
       "      <td>4</td>\n",
       "      <td>130</td>\n",
       "      <td>322</td>\n",
       "      <td>0</td>\n",
       "      <td>2</td>\n",
       "      <td>109</td>\n",
       "      <td>0</td>\n",
       "      <td>2.4</td>\n",
       "      <td>2</td>\n",
       "      <td>3</td>\n",
       "      <td>3</td>\n",
       "    </tr>\n",
       "    <tr>\n",
       "      <th>1</th>\n",
       "      <td>67</td>\n",
       "      <td>0</td>\n",
       "      <td>3</td>\n",
       "      <td>115</td>\n",
       "      <td>564</td>\n",
       "      <td>0</td>\n",
       "      <td>2</td>\n",
       "      <td>160</td>\n",
       "      <td>0</td>\n",
       "      <td>1.6</td>\n",
       "      <td>2</td>\n",
       "      <td>0</td>\n",
       "      <td>7</td>\n",
       "    </tr>\n",
       "    <tr>\n",
       "      <th>2</th>\n",
       "      <td>57</td>\n",
       "      <td>1</td>\n",
       "      <td>2</td>\n",
       "      <td>124</td>\n",
       "      <td>261</td>\n",
       "      <td>0</td>\n",
       "      <td>0</td>\n",
       "      <td>141</td>\n",
       "      <td>0</td>\n",
       "      <td>0.3</td>\n",
       "      <td>1</td>\n",
       "      <td>0</td>\n",
       "      <td>7</td>\n",
       "    </tr>\n",
       "    <tr>\n",
       "      <th>3</th>\n",
       "      <td>64</td>\n",
       "      <td>1</td>\n",
       "      <td>4</td>\n",
       "      <td>128</td>\n",
       "      <td>263</td>\n",
       "      <td>0</td>\n",
       "      <td>0</td>\n",
       "      <td>105</td>\n",
       "      <td>1</td>\n",
       "      <td>0.2</td>\n",
       "      <td>2</td>\n",
       "      <td>1</td>\n",
       "      <td>7</td>\n",
       "    </tr>\n",
       "    <tr>\n",
       "      <th>4</th>\n",
       "      <td>74</td>\n",
       "      <td>0</td>\n",
       "      <td>2</td>\n",
       "      <td>120</td>\n",
       "      <td>269</td>\n",
       "      <td>0</td>\n",
       "      <td>2</td>\n",
       "      <td>121</td>\n",
       "      <td>1</td>\n",
       "      <td>0.2</td>\n",
       "      <td>1</td>\n",
       "      <td>1</td>\n",
       "      <td>3</td>\n",
       "    </tr>\n",
       "    <tr>\n",
       "      <th>...</th>\n",
       "      <td>...</td>\n",
       "      <td>...</td>\n",
       "      <td>...</td>\n",
       "      <td>...</td>\n",
       "      <td>...</td>\n",
       "      <td>...</td>\n",
       "      <td>...</td>\n",
       "      <td>...</td>\n",
       "      <td>...</td>\n",
       "      <td>...</td>\n",
       "      <td>...</td>\n",
       "      <td>...</td>\n",
       "      <td>...</td>\n",
       "    </tr>\n",
       "    <tr>\n",
       "      <th>265</th>\n",
       "      <td>52</td>\n",
       "      <td>1</td>\n",
       "      <td>3</td>\n",
       "      <td>172</td>\n",
       "      <td>199</td>\n",
       "      <td>1</td>\n",
       "      <td>0</td>\n",
       "      <td>162</td>\n",
       "      <td>0</td>\n",
       "      <td>0.5</td>\n",
       "      <td>1</td>\n",
       "      <td>0</td>\n",
       "      <td>7</td>\n",
       "    </tr>\n",
       "    <tr>\n",
       "      <th>266</th>\n",
       "      <td>44</td>\n",
       "      <td>1</td>\n",
       "      <td>2</td>\n",
       "      <td>120</td>\n",
       "      <td>263</td>\n",
       "      <td>0</td>\n",
       "      <td>0</td>\n",
       "      <td>173</td>\n",
       "      <td>0</td>\n",
       "      <td>0.0</td>\n",
       "      <td>1</td>\n",
       "      <td>0</td>\n",
       "      <td>7</td>\n",
       "    </tr>\n",
       "    <tr>\n",
       "      <th>267</th>\n",
       "      <td>56</td>\n",
       "      <td>0</td>\n",
       "      <td>2</td>\n",
       "      <td>140</td>\n",
       "      <td>294</td>\n",
       "      <td>0</td>\n",
       "      <td>2</td>\n",
       "      <td>153</td>\n",
       "      <td>0</td>\n",
       "      <td>1.3</td>\n",
       "      <td>2</td>\n",
       "      <td>0</td>\n",
       "      <td>3</td>\n",
       "    </tr>\n",
       "    <tr>\n",
       "      <th>268</th>\n",
       "      <td>57</td>\n",
       "      <td>1</td>\n",
       "      <td>4</td>\n",
       "      <td>140</td>\n",
       "      <td>192</td>\n",
       "      <td>0</td>\n",
       "      <td>0</td>\n",
       "      <td>148</td>\n",
       "      <td>0</td>\n",
       "      <td>0.4</td>\n",
       "      <td>2</td>\n",
       "      <td>0</td>\n",
       "      <td>6</td>\n",
       "    </tr>\n",
       "    <tr>\n",
       "      <th>269</th>\n",
       "      <td>67</td>\n",
       "      <td>1</td>\n",
       "      <td>4</td>\n",
       "      <td>160</td>\n",
       "      <td>286</td>\n",
       "      <td>0</td>\n",
       "      <td>2</td>\n",
       "      <td>108</td>\n",
       "      <td>1</td>\n",
       "      <td>1.5</td>\n",
       "      <td>2</td>\n",
       "      <td>3</td>\n",
       "      <td>3</td>\n",
       "    </tr>\n",
       "  </tbody>\n",
       "</table>\n",
       "<p>270 rows × 13 columns</p>\n",
       "</div>"
      ],
      "text/plain": [
       "     Age  Sex  Chest pain type   BP  Cholesterol  FBS over 120  EKG results  \\\n",
       "0     70    1                4  130          322             0            2   \n",
       "1     67    0                3  115          564             0            2   \n",
       "2     57    1                2  124          261             0            0   \n",
       "3     64    1                4  128          263             0            0   \n",
       "4     74    0                2  120          269             0            2   \n",
       "..   ...  ...              ...  ...          ...           ...          ...   \n",
       "265   52    1                3  172          199             1            0   \n",
       "266   44    1                2  120          263             0            0   \n",
       "267   56    0                2  140          294             0            2   \n",
       "268   57    1                4  140          192             0            0   \n",
       "269   67    1                4  160          286             0            2   \n",
       "\n",
       "     Max HR  Exercise angina  ST depression  Slope of ST  \\\n",
       "0       109                0            2.4            2   \n",
       "1       160                0            1.6            2   \n",
       "2       141                0            0.3            1   \n",
       "3       105                1            0.2            2   \n",
       "4       121                1            0.2            1   \n",
       "..      ...              ...            ...          ...   \n",
       "265     162                0            0.5            1   \n",
       "266     173                0            0.0            1   \n",
       "267     153                0            1.3            2   \n",
       "268     148                0            0.4            2   \n",
       "269     108                1            1.5            2   \n",
       "\n",
       "     Number of vessels fluro  Thallium  \n",
       "0                          3         3  \n",
       "1                          0         7  \n",
       "2                          0         7  \n",
       "3                          1         7  \n",
       "4                          1         3  \n",
       "..                       ...       ...  \n",
       "265                        0         7  \n",
       "266                        0         7  \n",
       "267                        0         3  \n",
       "268                        0         6  \n",
       "269                        3         3  \n",
       "\n",
       "[270 rows x 13 columns]"
      ]
     },
     "execution_count": 26,
     "metadata": {},
     "output_type": "execute_result"
    }
   ],
   "source": [
    "X"
   ]
  },
  {
   "cell_type": "code",
   "execution_count": 27,
   "id": "7d32eb54",
   "metadata": {},
   "outputs": [
    {
     "data": {
      "text/plain": [
       "0      1\n",
       "1      0\n",
       "2      1\n",
       "3      0\n",
       "4      0\n",
       "      ..\n",
       "265    0\n",
       "266    0\n",
       "267    0\n",
       "268    0\n",
       "269    1\n",
       "Name: Heart Disease, Length: 270, dtype: int64"
      ]
     },
     "execution_count": 27,
     "metadata": {},
     "output_type": "execute_result"
    }
   ],
   "source": [
    "y"
   ]
  },
  {
   "cell_type": "code",
   "execution_count": 28,
   "id": "5eb628fc",
   "metadata": {},
   "outputs": [],
   "source": [
    "#split -> train/test sets\n",
    "np.random.seed(33)\n",
    "\n",
    "X_train, X_test, y_train, y_test = train_test_split(X, y, test_size=0.2)"
   ]
  },
  {
   "cell_type": "code",
   "execution_count": 29,
   "id": "4752ab49",
   "metadata": {},
   "outputs": [
    {
     "data": {
      "text/plain": [
       "(216, 54, 270)"
      ]
     },
     "execution_count": 29,
     "metadata": {},
     "output_type": "execute_result"
    }
   ],
   "source": [
    "len(X_train), len(X_test), len(df)"
   ]
  },
  {
   "cell_type": "markdown",
   "id": "364c5145",
   "metadata": {},
   "source": [
    "## Model Comparison"
   ]
  },
  {
   "cell_type": "code",
   "execution_count": 30,
   "id": "c93e94c9",
   "metadata": {},
   "outputs": [],
   "source": [
    "#3 models will be tested\n",
    "# a) logistic regression\n",
    "# b) k-nearest neighbours\n",
    "# c) random forest classifier\n",
    "\n",
    "models = {\n",
    "            \"Logistic Regression\": LogisticRegression(max_iter=1000),\n",
    "            \"KNN\": KNeighborsClassifier(),\n",
    "            \"Random Forest\": RandomForestClassifier()\n",
    "         }\n",
    "\n",
    "#scoring of models\n",
    "def score(model,X_train,X_test,y_train,y_test):\n",
    "    np.random.seed(33)\n",
    "    model.fit(X_train,y_train)\n",
    "    return model.score(X_test,y_test)"
   ]
  },
  {
   "cell_type": "code",
   "execution_count": 31,
   "id": "30fa2b2a",
   "metadata": {},
   "outputs": [
    {
     "name": "stdout",
     "output_type": "stream",
     "text": [
      "Logistic Regression: 87.04%\n",
      "KNN: 53.7%\n",
      "Random Forest: 81.48%\n"
     ]
    }
   ],
   "source": [
    "scores = []\n",
    "\n",
    "for model in models: \n",
    "    model_score = score(models[model],X_train,X_test,y_train,y_test)*100\n",
    "    scores += [model_score]\n",
    "    print(f'{model}: {round(model_score,2)}%')"
   ]
  },
  {
   "cell_type": "code",
   "execution_count": 32,
   "id": "043ffd6b",
   "metadata": {},
   "outputs": [
    {
     "data": {
      "image/png": "[encoded data removed]",
      "text/plain": [
       "<Figure size 432x288 with 1 Axes>"
      ]
     },
     "metadata": {
      "needs_background": "light"
     },
     "output_type": "display_data"
    }
   ],
   "source": [
    "fig = plt.figure()\n",
    "ax = fig.add_axes([0,0,1,1])\n",
    "ax.bar(models.keys(),scores)\n",
    "plt.title(\"Models vs Accuracy\")\n",
    "plt.xlabel(\"ML Model\")\n",
    "plt.ylabel(\"Accuracy (%)\")\n",
    "plt.show()"
   ]
  },
  {
   "cell_type": "markdown",
   "id": "adcc6389",
   "metadata": {},
   "source": [
    "## Hyperparameter Tuning (via Hand)"
   ]
  },
  {
   "cell_type": "code",
   "execution_count": 33,
   "id": "1019f1c6",
   "metadata": {},
   "outputs": [],
   "source": [
    "#KNN\n",
    "train_scores = []\n",
    "test_scores = []\n",
    "\n",
    "for i in range(1,50):\n",
    "    models[\"KNN\"].set_params(n_neighbors=i)\n",
    "    train_scores += [score(models[\"KNN\"],X_train,X_train,y_train,y_train)*100]\n",
    "    test_scores += [score(models[\"KNN\"],X_train,X_test,y_train,y_test)*100]"
   ]
  },
  {
   "cell_type": "code",
   "execution_count": 34,
   "id": "f4e86568",
   "metadata": {},
   "outputs": [
    {
     "data": {
      "text/plain": [
       "[100.0,\n",
       " 81.48148148148148,\n",
       " 82.4074074074074,\n",
       " 78.24074074074075,\n",
       " 80.55555555555556]"
      ]
     },
     "execution_count": 34,
     "metadata": {},
     "output_type": "execute_result"
    }
   ],
   "source": [
    "train_scores[:5]"
   ]
  },
  {
   "cell_type": "code",
   "execution_count": 35,
   "id": "37672d85",
   "metadata": {},
   "outputs": [
    {
     "data": {
      "text/plain": [
       "[48.148148148148145, 50.0, 50.0, 48.148148148148145, 53.70370370370371]"
      ]
     },
     "execution_count": 35,
     "metadata": {},
     "output_type": "execute_result"
    }
   ],
   "source": [
    "test_scores[:5]"
   ]
  },
  {
   "cell_type": "code",
   "execution_count": 36,
   "id": "0fc4fffc",
   "metadata": {
    "scrolled": true
   },
   "outputs": [
    {
     "data": {
      "text/plain": [
       "<matplotlib.legend.Legend at 0x1d1aacaa5b0>"
      ]
     },
     "execution_count": 36,
     "metadata": {},
     "output_type": "execute_result"
    },
    {
     "data": {
      "image/png": "[encoded data removed]",
      "text/plain": [
       "<Figure size 432x288 with 1 Axes>"
      ]
     },
     "metadata": {
      "needs_background": "light"
     },
     "output_type": "display_data"
    }
   ],
   "source": [
    "plt.plot(range(1,50),train_scores,label=\"Train Score\")\n",
    "plt.plot(range(1,50),test_scores,label=\"Test Score\")\n",
    "plt.title(\"Number of Neighbors vs Model Score\")\n",
    "plt.xlabel(\"Number of Neighbors\")\n",
    "plt.ylabel(\"Model Score (%)\")\n",
    "plt.legend()"
   ]
  },
  {
   "cell_type": "code",
   "execution_count": 37,
   "id": "e47f62ab",
   "metadata": {},
   "outputs": [
    {
     "name": "stdout",
     "output_type": "stream",
     "text": [
      "max test score: 62.96296296296296%\n"
     ]
    }
   ],
   "source": [
    "print(f'max test score: {max(test_scores)}%')"
   ]
  },
  {
   "cell_type": "markdown",
   "id": "4b6fd6c4",
   "metadata": {},
   "source": [
    "## Hyperparameter Tuning (via RandomSearch)"
   ]
  },
  {
   "cell_type": "code",
   "execution_count": 38,
   "id": "36fc722d",
   "metadata": {},
   "outputs": [],
   "source": [
    "#Logistic regression hyperparam grid\n",
    "logistic_grid = {\n",
    "    \"C\": np.logspace(-4,4,20), #even spacing on a logarithmic scale\n",
    "    \"solver\": [\"liblinear\"]\n",
    "}\n",
    "\n",
    "#Random forest hyperparam grid\n",
    "rf_grid = {\n",
    "    \"n_estimators\": np.arange(10,1000,50),\n",
    "    \"max_depth\": [None,3,5,10],\n",
    "    \"min_samples_split\": np.arange(2,20,2),\n",
    "    \"min_samples_leaf\": np.arange(1,20,2)\n",
    "}"
   ]
  },
  {
   "cell_type": "code",
   "execution_count": 39,
   "id": "cb0665b4",
   "metadata": {},
   "outputs": [
    {
     "name": "stdout",
     "output_type": "stream",
     "text": [
      "Fitting 5 folds for each of 20 candidates, totalling 100 fits\n"
     ]
    },
    {
     "data": {
      "text/plain": [
       "RandomizedSearchCV(cv=5, estimator=LogisticRegression(max_iter=1000), n_iter=20,\n",
       "                   param_distributions={'C': array([1.00000000e-04, 2.63665090e-04, 6.95192796e-04, 1.83298071e-03,\n",
       "       4.83293024e-03, 1.27427499e-02, 3.35981829e-02, 8.85866790e-02,\n",
       "       2.33572147e-01, 6.15848211e-01, 1.62377674e+00, 4.28133240e+00,\n",
       "       1.12883789e+01, 2.97635144e+01, 7.84759970e+01, 2.06913808e+02,\n",
       "       5.45559478e+02, 1.43844989e+03, 3.79269019e+03, 1.00000000e+04]),\n",
       "                                        'solver': ['liblinear']},\n",
       "                   verbose=True)"
      ]
     },
     "execution_count": 39,
     "metadata": {},
     "output_type": "execute_result"
    }
   ],
   "source": [
    "#Logistic regression search\n",
    "np.random.seed(33)\n",
    "\n",
    "rs_logistic = RandomizedSearchCV(models[\"Logistic Regression\"],\n",
    "                                 param_distributions=logistic_grid,\n",
    "                                 cv=5,\n",
    "                                 n_iter=20,\n",
    "                                 verbose=True\n",
    "                                )\n",
    "\n",
    "rs_logistic.fit(X_train,y_train)"
   ]
  },
  {
   "cell_type": "code",
   "execution_count": 40,
   "id": "c92a4b87",
   "metadata": {},
   "outputs": [
    {
     "data": {
      "text/plain": [
       "{'solver': 'liblinear', 'C': 0.615848211066026}"
      ]
     },
     "execution_count": 40,
     "metadata": {},
     "output_type": "execute_result"
    }
   ],
   "source": [
    "rs_logistic.best_params_"
   ]
  },
  {
   "cell_type": "code",
   "execution_count": 41,
   "id": "458c3eb4",
   "metadata": {},
   "outputs": [
    {
     "data": {
      "text/plain": [
       "85.18518518518519"
      ]
     },
     "execution_count": 41,
     "metadata": {},
     "output_type": "execute_result"
    }
   ],
   "source": [
    "models[\"Logistic Regression\"].set_params(solver=\"liblinear\",C=0.615848211066026)\n",
    "score(models[\"Logistic Regression\"],X_train,X_train,y_train,y_train)*100"
   ]
  },
  {
   "cell_type": "code",
   "execution_count": 42,
   "id": "0e1e3eef",
   "metadata": {},
   "outputs": [
    {
     "name": "stdout",
     "output_type": "stream",
     "text": [
      "Fitting 5 folds for each of 20 candidates, totalling 100 fits\n"
     ]
    },
    {
     "data": {
      "text/plain": [
       "RandomizedSearchCV(cv=5, estimator=RandomForestClassifier(), n_iter=20,\n",
       "                   param_distributions={'max_depth': [None, 3, 5, 10],\n",
       "                                        'min_samples_leaf': array([ 1,  3,  5,  7,  9, 11, 13, 15, 17, 19]),\n",
       "                                        'min_samples_split': array([ 2,  4,  6,  8, 10, 12, 14, 16, 18]),\n",
       "                                        'n_estimators': array([ 10,  60, 110, 160, 210, 260, 310, 360, 410, 460, 510, 560, 610,\n",
       "       660, 710, 760, 810, 860, 910, 960])},\n",
       "                   verbose=True)"
      ]
     },
     "execution_count": 42,
     "metadata": {},
     "output_type": "execute_result"
    }
   ],
   "source": [
    "#Random Forest search\n",
    "np.random.seed(33)\n",
    "\n",
    "rs_rf = RandomizedSearchCV(models[\"Random Forest\"],\n",
    "                           param_distributions=rf_grid,\n",
    "                           cv=5,\n",
    "                           n_iter=20,\n",
    "                           verbose=True\n",
    "                          )\n",
    "\n",
    "rs_rf.fit(X_train,y_train)"
   ]
  },
  {
   "cell_type": "code",
   "execution_count": 43,
   "id": "af372ae4",
   "metadata": {},
   "outputs": [
    {
     "data": {
      "text/plain": [
       "{'n_estimators': 360,\n",
       " 'min_samples_split': 14,\n",
       " 'min_samples_leaf': 19,\n",
       " 'max_depth': None}"
      ]
     },
     "execution_count": 43,
     "metadata": {},
     "output_type": "execute_result"
    }
   ],
   "source": [
    "rs_rf.best_params_"
   ]
  },
  {
   "cell_type": "code",
   "execution_count": 44,
   "id": "a2755b5d",
   "metadata": {},
   "outputs": [
    {
     "data": {
      "text/plain": [
       "87.96296296296296"
      ]
     },
     "execution_count": 44,
     "metadata": {},
     "output_type": "execute_result"
    }
   ],
   "source": [
    "models[\"Random Forest\"].set_params(n_estimators=360,\n",
    "                                   min_samples_split=14,\n",
    "                                   min_samples_leaf=19,\n",
    "                                   max_depth=None)\n",
    "score(models[\"Random Forest\"],X_train,X_train,y_train,y_train)*100"
   ]
  },
  {
   "cell_type": "markdown",
   "id": "07fa3b93",
   "metadata": {},
   "source": [
    "## Hyperparameter Tuning (via GridSearch)\n",
    "\n",
    "LogisticRegression will be further tuned due to stable accuracy it has produced"
   ]
  },
  {
   "cell_type": "code",
   "execution_count": 66,
   "id": "bb00c86c",
   "metadata": {},
   "outputs": [
    {
     "name": "stdout",
     "output_type": "stream",
     "text": [
      "Fitting 5 folds for each of 60 candidates, totalling 300 fits\n"
     ]
    },
    {
     "data": {
      "text/plain": [
       "GridSearchCV(cv=5,\n",
       "             estimator=LogisticRegression(C=0.49238826317067363, max_iter=1000,\n",
       "                                          solver='liblinear'),\n",
       "             param_grid={'C': array([1.00000000e-04, 1.88739182e-04, 3.56224789e-04, 6.72335754e-04,\n",
       "       1.26896100e-03, 2.39502662e-03, 4.52035366e-03, 8.53167852e-03,\n",
       "       1.61026203e-02, 3.03919538e-02, 5.73615251e-02, 1.08263673e-01,\n",
       "       2.04335972e-01, 3.85662042e-01, 7.27895384e-01, 1.37382380e+00,\n",
       "       2.59294380e+00, 4.89390092e+00, 9.23670857e+00, 1.74332882e+01,\n",
       "       3.29034456e+01, 6.21016942e+01, 1.17210230e+02, 2.21221629e+02,\n",
       "       4.17531894e+02, 7.88046282e+02, 1.48735211e+03, 2.80721620e+03,\n",
       "       5.29831691e+03, 1.00000000e+04]),\n",
       "                         'max_iter': [10000],\n",
       "                         'solver': ['liblinear', 'lbfgs']},\n",
       "             verbose=True)"
      ]
     },
     "execution_count": 66,
     "metadata": {},
     "output_type": "execute_result"
    }
   ],
   "source": [
    "logistic_grid = {\n",
    "    \"C\": np.logspace(-4,4,30), \n",
    "    \"solver\": [\"liblinear\",\"lbfgs\"],\n",
    "    'max_iter': [10000],\n",
    "}\n",
    "\n",
    "gs_logistic = GridSearchCV(models[\"Logistic Regression\"],\n",
    "                           param_grid=logistic_grid,\n",
    "                           cv=5,\n",
    "                           verbose=True\n",
    "                          )\n",
    "\n",
    "gs_logistic.fit(X_train,y_train)"
   ]
  },
  {
   "cell_type": "code",
   "execution_count": 67,
   "id": "930959fe",
   "metadata": {},
   "outputs": [
    {
     "data": {
      "text/plain": [
       "{'C': 0.20433597178569418, 'max_iter': 10000, 'solver': 'lbfgs'}"
      ]
     },
     "execution_count": 67,
     "metadata": {},
     "output_type": "execute_result"
    }
   ],
   "source": [
    "gs_logistic.best_params_"
   ]
  },
  {
   "cell_type": "code",
   "execution_count": 68,
   "id": "2e258267",
   "metadata": {},
   "outputs": [
    {
     "data": {
      "text/plain": [
       "86.11111111111111"
      ]
     },
     "execution_count": 68,
     "metadata": {},
     "output_type": "execute_result"
    }
   ],
   "source": [
    "models[\"Logistic Regression\"].set_params(solver=\"lbfgs\",C=0.20433597178569418,max_iter=10000)\n",
    "score(models[\"Logistic Regression\"],X_train,X_train,y_train,y_train)*100"
   ]
  },
  {
   "cell_type": "markdown",
   "id": "6a6caa4b",
   "metadata": {},
   "source": [
    "## Evaluation of Model (Logistic Regression)"
   ]
  },
  {
   "cell_type": "code",
   "execution_count": 69,
   "id": "275792e5",
   "metadata": {},
   "outputs": [],
   "source": [
    "y_preds = models[\"Logistic Regression\"].predict(X_test)"
   ]
  },
  {
   "cell_type": "code",
   "execution_count": 70,
   "id": "b3c1c2ee",
   "metadata": {},
   "outputs": [
    {
     "data": {
      "text/plain": [
       "array([0, 1, 0, 0, 1], dtype=int64)"
      ]
     },
     "execution_count": 70,
     "metadata": {},
     "output_type": "execute_result"
    }
   ],
   "source": [
    "y_preds[:5]"
   ]
  },
  {
   "cell_type": "code",
   "execution_count": 71,
   "id": "a227f759",
   "metadata": {},
   "outputs": [
    {
     "data": {
      "text/plain": [
       "169    1\n",
       "237    1\n",
       "268    0\n",
       "167    0\n",
       "249    1\n",
       "Name: Heart Disease, dtype: int64"
      ]
     },
     "execution_count": 71,
     "metadata": {},
     "output_type": "execute_result"
    }
   ],
   "source": [
    "y_test[:5]"
   ]
  },
  {
   "cell_type": "code",
   "execution_count": 73,
   "id": "476d63a1",
   "metadata": {},
   "outputs": [
    {
     "data": {
      "text/plain": [
       "<sklearn.metrics._plot.roc_curve.RocCurveDisplay at 0x1d1acdbfd30>"
      ]
     },
     "execution_count": 73,
     "metadata": {},
     "output_type": "execute_result"
    },
    {
     "data": {
      "image/png": "[encoded data removed]",
      "text/plain": [
       "<Figure size 432x288 with 1 Axes>"
      ]
     },
     "metadata": {
      "needs_background": "light"
     },
     "output_type": "display_data"
    }
   ],
   "source": [
    "#ROC curve + AUC score\n",
    "plot_roc_curve(models[\"Logistic Regression\"],X_test,y_test)"
   ]
  },
  {
   "cell_type": "code",
   "execution_count": 75,
   "id": "5f4beddc",
   "metadata": {},
   "outputs": [
    {
     "name": "stdout",
     "output_type": "stream",
     "text": [
      "[[25  3]\n",
      " [ 4 22]]\n"
     ]
    }
   ],
   "source": [
    "#Confusion Matrix\n",
    "print(confusion_matrix(y_test,y_preds))"
   ]
  },
  {
   "cell_type": "code",
   "execution_count": 77,
   "id": "132b0fa9",
   "metadata": {},
   "outputs": [
    {
     "data": {
      "image/png": "[encoded data removed]",
      "text/plain": [
       "<Figure size 144x144 with 1 Axes>"
      ]
     },
     "metadata": {},
     "output_type": "display_data"
    }
   ],
   "source": [
    "sns.set(font_scale=1.5) # Increase font size\n",
    " \n",
    "def show_matrix(y_test, y_preds):\n",
    "    fig, ax = plt.subplots(figsize=(2, 2))\n",
    "    ax = sns.heatmap(confusion_matrix(y_test, y_preds),\n",
    "                     annot=True, #\n",
    "                     cbar=False)\n",
    "    plt.xlabel(\"Predicted label\") \n",
    "    plt.ylabel(\"True label\") \n",
    "    \n",
    "show_matrix(y_test, y_preds)"
   ]
  },
  {
   "cell_type": "code",
   "execution_count": null,
   "id": "543b7d80",
   "metadata": {},
   "outputs": [],
   "source": []
  }
 ],
 "metadata": {
  "kernelspec": {
   "display_name": "Python 3",
   "language": "python",
   "name": "python3"
  },
  "language_info": {
   "codemirror_mode": {
    "name": "ipython",
    "version": 3
   },
   "file_extension": ".py",
   "mimetype": "text/x-python",
   "name": "python",
   "nbconvert_exporter": "python",
   "pygments_lexer": "ipython3",
   "version": "3.8.8"
  }
 },
 "nbformat": 4,
 "nbformat_minor": 5
}
