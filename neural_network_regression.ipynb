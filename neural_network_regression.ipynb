{
  "nbformat": 4,
  "nbformat_minor": 0,
  "metadata": {
    "colab": {
      "name": "neural-network-regression.ipynb",
      "provenance": [],
      "authorship_tag": "ABX9TyOIhOGfZqrzbmZKuW+0WSmm",
      "include_colab_link": true
    },
    "kernelspec": {
      "name": "python3",
      "display_name": "Python 3"
    },
    "language_info": {
      "name": "python"
    },
    "accelerator": "GPU",
    "gpuClass": "standard"
  },
  "cells": [
    {
      "cell_type": "markdown",
      "metadata": {
        "id": "view-in-github",
        "colab_type": "text"
      },
      "source": [
        "<a href=\"https://colab.research.google.com/github/terrysu64/Machine-Learning-and-Data-Science-Projects/blob/main/neural_network_regression.ipynb\" target=\"_parent\"><img src=\"https://colab.research.google.com/assets/colab-badge.svg\" alt=\"Open In Colab\"/></a>"
      ]
    },
    {
      "cell_type": "markdown",
      "source": [
        "# Introduction to neural network regression \n",
        "\n",
        "Steps\n",
        "1.   **Create model** - define i/o + hidden layers\n",
        "2.   **Complile model** - define loss function + optimizer + eval. metrics\n",
        "3.   **Fittting model** - let model find patterns\n",
        "\n"
      ],
      "metadata": {
        "id": "m_Qoti5TDz_M"
      }
    },
    {
      "cell_type": "code",
      "source": [
        "import numpy as np\n",
        "import matplotlib.pyplot as plt\n",
        "import tensorflow as tf \n",
        "tf.__version__"
      ],
      "metadata": {
        "colab": {
          "base_uri": "https://localhost:8080/",
          "height": 35
        },
        "id": "qgNq7GNtCNo_",
        "outputId": "79043fd5-ccc5-496d-c1e0-cb4a643a67f5"
      },
      "execution_count": 2,
      "outputs": [
        {
          "output_type": "execute_result",
          "data": {
            "text/plain": [
              "'2.8.2'"
            ],
            "application/vnd.google.colaboratory.intrinsic+json": {
              "type": "string"
            }
          },
          "metadata": {},
          "execution_count": 2
        }
      ]
    },
    {
      "cell_type": "markdown",
      "source": [
        "### manually create data and fit"
      ],
      "metadata": {
        "id": "pMy1X89yEVBB"
      }
    },
    {
      "cell_type": "code",
      "source": [
        "X = np.array([float(i) for i in range(-7,15,3)])\n",
        "y = np.array([float(i) for i in range(3,25,3)])\n",
        "X,y"
      ],
      "metadata": {
        "colab": {
          "base_uri": "https://localhost:8080/"
        },
        "id": "RiPwxR7gEEV1",
        "outputId": "22e4bb27-cf11-422e-815a-0a8d13d084c8"
      },
      "execution_count": 3,
      "outputs": [
        {
          "output_type": "execute_result",
          "data": {
            "text/plain": [
              "(array([-7., -4., -1.,  2.,  5.,  8., 11., 14.]),\n",
              " array([ 3.,  6.,  9., 12., 15., 18., 21., 24.]))"
            ]
          },
          "metadata": {},
          "execution_count": 3
        }
      ]
    },
    {
      "cell_type": "code",
      "source": [
        "plt.scatter(X,y)"
      ],
      "metadata": {
        "colab": {
          "base_uri": "https://localhost:8080/",
          "height": 286
        },
        "id": "rwQkcynuEsnH",
        "outputId": "d2f8cd2a-1e71-437a-fcbc-5c9d6565b2b3"
      },
      "execution_count": 4,
      "outputs": [
        {
          "output_type": "execute_result",
          "data": {
            "text/plain": [
              "<matplotlib.collections.PathCollection at 0x7fa28261b910>"
            ]
          },
          "metadata": {},
          "execution_count": 4
        },
        {
          "output_type": "display_data",
          "data": {
            "text/plain": [
              "<Figure size 432x288 with 1 Axes>"
            ],
            "image/png": "[encoded data removed]"
          },
          "metadata": {
            "needs_background": "light"
          }
        }
      ]
    },
    {
      "cell_type": "markdown",
      "source": [
        "### i/o shapes"
      ],
      "metadata": {
        "id": "8-fIL5ATFrk7"
      }
    },
    {
      "cell_type": "code",
      "source": [
        "X = tf.constant(X, dtype=tf.float32)\n",
        "y = tf.constant(y, dtype=tf.float32)\n",
        "X,y"
      ],
      "metadata": {
        "colab": {
          "base_uri": "https://localhost:8080/"
        },
        "id": "o5ewzeRbEuwG",
        "outputId": "5156df19-b4e3-4ee9-bceb-93b6630f23eb"
      },
      "execution_count": 5,
      "outputs": [
        {
          "output_type": "execute_result",
          "data": {
            "text/plain": [
              "(<tf.Tensor: shape=(8,), dtype=float32, numpy=array([-7., -4., -1.,  2.,  5.,  8., 11., 14.], dtype=float32)>,\n",
              " <tf.Tensor: shape=(8,), dtype=float32, numpy=array([ 3.,  6.,  9., 12., 15., 18., 21., 24.], dtype=float32)>)"
            ]
          },
          "metadata": {},
          "execution_count": 5
        }
      ]
    },
    {
      "cell_type": "code",
      "source": [
        "X[0].shape\n",
        "tf.expand_dims(X, axis=-1)[0].shape"
      ],
      "metadata": {
        "colab": {
          "base_uri": "https://localhost:8080/"
        },
        "id": "Zs8o5UdQHG-B",
        "outputId": "b1dbc10f-464f-4b10-806d-0028cad24503"
      },
      "execution_count": 6,
      "outputs": [
        {
          "output_type": "execute_result",
          "data": {
            "text/plain": [
              "TensorShape([1])"
            ]
          },
          "metadata": {},
          "execution_count": 6
        }
      ]
    },
    {
      "cell_type": "markdown",
      "source": [
        "### make neural network"
      ],
      "metadata": {
        "id": "UjMC6-FZIFwr"
      }
    },
    {
      "cell_type": "code",
      "source": [
        "tf.random.set_seed(42)\n",
        "\n",
        "#1.\n",
        "model = tf.keras.Sequential([\n",
        "  tf.keras.layers.Dense(1)                      \n",
        "])\n",
        "\n",
        "#2.\n",
        "model.compile(loss=tf.keras.losses.mae,\n",
        "              optimizer=tf.keras.optimizers.SGD(),\n",
        "              metrics=[\"mae\"])\n",
        "\n",
        "#3. \n",
        "model.fit(tf.expand_dims(X, axis=-1), y, epochs=5)"
      ],
      "metadata": {
        "colab": {
          "base_uri": "https://localhost:8080/"
        },
        "id": "9udJaLlOHL1o",
        "outputId": "c7c80286-830f-470c-c8f4-f34d3334bea8"
      },
      "execution_count": 7,
      "outputs": [
        {
          "output_type": "stream",
          "name": "stdout",
          "text": [
            "Epoch 1/5\n",
            "1/1 [==============================] - 7s 7s/step - loss: 11.5048 - mae: 11.5048\n",
            "Epoch 2/5\n",
            "1/1 [==============================] - 0s 14ms/step - loss: 11.3723 - mae: 11.3723\n",
            "Epoch 3/5\n",
            "1/1 [==============================] - 0s 19ms/step - loss: 11.2398 - mae: 11.2398\n",
            "Epoch 4/5\n",
            "1/1 [==============================] - 0s 17ms/step - loss: 11.1073 - mae: 11.1073\n",
            "Epoch 5/5\n",
            "1/1 [==============================] - 0s 20ms/step - loss: 10.9748 - mae: 10.9748\n"
          ]
        },
        {
          "output_type": "execute_result",
          "data": {
            "text/plain": [
              "<keras.callbacks.History at 0x7fa2067abdd0>"
            ]
          },
          "metadata": {},
          "execution_count": 7
        }
      ]
    },
    {
      "cell_type": "code",
      "source": [
        "#predictions\n",
        "model.predict([1,2.4]) #predicts mae = 10 to 11"
      ],
      "metadata": {
        "colab": {
          "base_uri": "https://localhost:8080/"
        },
        "id": "PJBQdIsqJSt9",
        "outputId": "c8bb78d4-e9d8-40e0-e622-b7e6dfddf024"
      },
      "execution_count": 8,
      "outputs": [
        {
          "output_type": "execute_result",
          "data": {
            "text/plain": [
              "array([[0.79506004],\n",
              "       [1.8381441 ]], dtype=float32)"
            ]
          },
          "metadata": {},
          "execution_count": 8
        }
      ]
    },
    {
      "cell_type": "markdown",
      "source": [
        "### improving a model"
      ],
      "metadata": {
        "id": "mE8f0i-jSQGs"
      }
    },
    {
      "cell_type": "code",
      "source": [
        " #alter previous steps \n",
        " #1. more layers, more hidden units, activation function...\n",
        " #2. learning rate, optimization function...\n",
        " #3. more epochs, more data....\n",
        "\n",
        "model.fit(tf.expand_dims(X, axis=-1), y, epochs=100) #more epochs"
      ],
      "metadata": {
        "id": "RzryU0ENMBQj"
      },
      "execution_count": null,
      "outputs": []
    },
    {
      "cell_type": "code",
      "source": [
        "model.predict([1,2.4])"
      ],
      "metadata": {
        "colab": {
          "base_uri": "https://localhost:8080/"
        },
        "id": "QfTMc-n8RfN9",
        "outputId": "88e439c6-7a07-4ff2-d0cf-9cfe8535d210"
      },
      "execution_count": 10,
      "outputs": [
        {
          "output_type": "execute_result",
          "data": {
            "text/plain": [
              "array([[2.595059 ],\n",
              "       [5.0101423]], dtype=float32)"
            ]
          },
          "metadata": {},
          "execution_count": 10
        }
      ]
    },
    {
      "cell_type": "code",
      "source": [
        "X = tf.constant([float(i) for i in range(-7,85,3)])\n",
        "y = tf.constant([float(i) for i in range(3,95,3)])\n",
        "                                                                                 \n",
        "#1.\n",
        "model = tf.keras.Sequential([\n",
        "  tf.keras.layers.Dense(50, activation=\"relu\"),\n",
        "  tf.keras.layers.Dense(1)                     \n",
        "])\n",
        "\n",
        "#2. \n",
        "model.compile(loss=\"mae\",\n",
        "              optimizer=tf.keras.optimizers.Adam(lr=0.01), #learning rate most important***\n",
        "              metrics=[\"mae\"])\n",
        "\n",
        "#3.\n",
        "model.fit(tf.expand_dims(X, axis=-1), tf.expand_dims(y, axis=-1), epochs=100)\n"
      ],
      "metadata": {
        "colab": {
          "base_uri": "https://localhost:8080/"
        },
        "id": "CLdcHC8yRwL7",
        "outputId": "3e369c71-8691-418b-86d8-0be33885ba0b"
      },
      "execution_count": 21,
      "outputs": [
        {
          "output_type": "stream",
          "name": "stdout",
          "text": [
            "Epoch 1/100\n"
          ]
        },
        {
          "output_type": "stream",
          "name": "stderr",
          "text": [
            "/usr/local/lib/python3.7/dist-packages/keras/optimizer_v2/adam.py:105: UserWarning: The `lr` argument is deprecated, use `learning_rate` instead.\n",
            "  super(Adam, self).__init__(name, **kwargs)\n"
          ]
        },
        {
          "output_type": "stream",
          "name": "stdout",
          "text": [
            "1/1 [==============================] - 0s 319ms/step - loss: 38.0841 - mae: 38.0841\n",
            "Epoch 2/100\n",
            "1/1 [==============================] - 0s 10ms/step - loss: 34.9815 - mae: 34.9815\n",
            "Epoch 3/100\n",
            "1/1 [==============================] - 0s 7ms/step - loss: 31.7579 - mae: 31.7579\n",
            "Epoch 4/100\n",
            "1/1 [==============================] - 0s 10ms/step - loss: 28.5215 - mae: 28.5215\n",
            "Epoch 5/100\n",
            "1/1 [==============================] - 0s 10ms/step - loss: 25.3555 - mae: 25.3555\n",
            "Epoch 6/100\n",
            "1/1 [==============================] - 0s 10ms/step - loss: 22.1464 - mae: 22.1464\n",
            "Epoch 7/100\n",
            "1/1 [==============================] - 0s 16ms/step - loss: 18.8426 - mae: 18.8426\n",
            "Epoch 8/100\n",
            "1/1 [==============================] - 0s 10ms/step - loss: 15.4987 - mae: 15.4987\n",
            "Epoch 9/100\n",
            "1/1 [==============================] - 0s 11ms/step - loss: 12.0660 - mae: 12.0660\n",
            "Epoch 10/100\n",
            "1/1 [==============================] - 0s 10ms/step - loss: 8.4956 - mae: 8.4956\n",
            "Epoch 11/100\n",
            "1/1 [==============================] - 0s 9ms/step - loss: 4.7969 - mae: 4.7969\n",
            "Epoch 12/100\n",
            "1/1 [==============================] - 0s 12ms/step - loss: 4.3709 - mae: 4.3709\n",
            "Epoch 13/100\n",
            "1/1 [==============================] - 0s 12ms/step - loss: 6.2562 - mae: 6.2562\n",
            "Epoch 14/100\n",
            "1/1 [==============================] - 0s 7ms/step - loss: 8.0644 - mae: 8.0644\n",
            "Epoch 15/100\n",
            "1/1 [==============================] - 0s 7ms/step - loss: 9.3295 - mae: 9.3295\n",
            "Epoch 16/100\n",
            "1/1 [==============================] - 0s 8ms/step - loss: 9.9821 - mae: 9.9821\n",
            "Epoch 17/100\n",
            "1/1 [==============================] - 0s 7ms/step - loss: 10.0576 - mae: 10.0576\n",
            "Epoch 18/100\n",
            "1/1 [==============================] - 0s 9ms/step - loss: 9.6476 - mae: 9.6476\n",
            "Epoch 19/100\n",
            "1/1 [==============================] - 0s 8ms/step - loss: 8.8727 - mae: 8.8727\n",
            "Epoch 20/100\n",
            "1/1 [==============================] - 0s 8ms/step - loss: 7.8221 - mae: 7.8221\n",
            "Epoch 21/100\n",
            "1/1 [==============================] - 0s 10ms/step - loss: 6.6268 - mae: 6.6268\n",
            "Epoch 22/100\n",
            "1/1 [==============================] - 0s 7ms/step - loss: 5.4135 - mae: 5.4135\n",
            "Epoch 23/100\n",
            "1/1 [==============================] - 0s 8ms/step - loss: 4.3789 - mae: 4.3789\n",
            "Epoch 24/100\n",
            "1/1 [==============================] - 0s 7ms/step - loss: 3.8414 - mae: 3.8414\n",
            "Epoch 25/100\n",
            "1/1 [==============================] - 0s 9ms/step - loss: 4.2608 - mae: 4.2608\n",
            "Epoch 26/100\n",
            "1/1 [==============================] - 0s 11ms/step - loss: 5.3438 - mae: 5.3438\n",
            "Epoch 27/100\n",
            "1/1 [==============================] - 0s 10ms/step - loss: 5.8875 - mae: 5.8875\n",
            "Epoch 28/100\n",
            "1/1 [==============================] - 0s 9ms/step - loss: 5.9298 - mae: 5.9298\n",
            "Epoch 29/100\n",
            "1/1 [==============================] - 0s 9ms/step - loss: 5.5361 - mae: 5.5361\n",
            "Epoch 30/100\n",
            "1/1 [==============================] - 0s 9ms/step - loss: 4.7548 - mae: 4.7548\n",
            "Epoch 31/100\n",
            "1/1 [==============================] - 0s 10ms/step - loss: 3.9055 - mae: 3.9055\n",
            "Epoch 32/100\n",
            "1/1 [==============================] - 0s 12ms/step - loss: 3.7533 - mae: 3.7533\n",
            "Epoch 33/100\n",
            "1/1 [==============================] - 0s 7ms/step - loss: 3.9852 - mae: 3.9852\n",
            "Epoch 34/100\n",
            "1/1 [==============================] - 0s 7ms/step - loss: 4.3191 - mae: 4.3191\n",
            "Epoch 35/100\n",
            "1/1 [==============================] - 0s 7ms/step - loss: 4.5503 - mae: 4.5503\n",
            "Epoch 36/100\n",
            "1/1 [==============================] - 0s 11ms/step - loss: 4.6152 - mae: 4.6152\n",
            "Epoch 37/100\n",
            "1/1 [==============================] - 0s 7ms/step - loss: 4.5395 - mae: 4.5395\n",
            "Epoch 38/100\n",
            "1/1 [==============================] - 0s 8ms/step - loss: 4.3234 - mae: 4.3234\n",
            "Epoch 39/100\n",
            "1/1 [==============================] - 0s 9ms/step - loss: 4.0187 - mae: 4.0187\n",
            "Epoch 40/100\n",
            "1/1 [==============================] - 0s 9ms/step - loss: 3.7868 - mae: 3.7868\n",
            "Epoch 41/100\n",
            "1/1 [==============================] - 0s 11ms/step - loss: 3.5279 - mae: 3.5279\n",
            "Epoch 42/100\n",
            "1/1 [==============================] - 0s 9ms/step - loss: 3.4445 - mae: 3.4445\n",
            "Epoch 43/100\n",
            "1/1 [==============================] - 0s 8ms/step - loss: 3.5315 - mae: 3.5315\n",
            "Epoch 44/100\n",
            "1/1 [==============================] - 0s 7ms/step - loss: 3.5074 - mae: 3.5074\n",
            "Epoch 45/100\n",
            "1/1 [==============================] - 0s 11ms/step - loss: 3.3309 - mae: 3.3309\n",
            "Epoch 46/100\n",
            "1/1 [==============================] - 0s 8ms/step - loss: 3.2441 - mae: 3.2441\n",
            "Epoch 47/100\n",
            "1/1 [==============================] - 0s 8ms/step - loss: 3.2587 - mae: 3.2587\n",
            "Epoch 48/100\n",
            "1/1 [==============================] - 0s 7ms/step - loss: 3.2880 - mae: 3.2880\n",
            "Epoch 49/100\n",
            "1/1 [==============================] - 0s 8ms/step - loss: 3.2001 - mae: 3.2001\n",
            "Epoch 50/100\n",
            "1/1 [==============================] - 0s 9ms/step - loss: 3.0012 - mae: 3.0012\n",
            "Epoch 51/100\n",
            "1/1 [==============================] - 0s 8ms/step - loss: 3.0125 - mae: 3.0125\n",
            "Epoch 52/100\n",
            "1/1 [==============================] - 0s 11ms/step - loss: 3.0761 - mae: 3.0761\n",
            "Epoch 53/100\n",
            "1/1 [==============================] - 0s 11ms/step - loss: 2.8834 - mae: 2.8834\n",
            "Epoch 54/100\n",
            "1/1 [==============================] - 0s 10ms/step - loss: 2.8247 - mae: 2.8247\n",
            "Epoch 55/100\n",
            "1/1 [==============================] - 0s 10ms/step - loss: 2.8935 - mae: 2.8935\n",
            "Epoch 56/100\n",
            "1/1 [==============================] - 0s 9ms/step - loss: 2.8155 - mae: 2.8155\n",
            "Epoch 57/100\n",
            "1/1 [==============================] - 0s 7ms/step - loss: 2.6453 - mae: 2.6453\n",
            "Epoch 58/100\n",
            "1/1 [==============================] - 0s 8ms/step - loss: 2.6340 - mae: 2.6340\n",
            "Epoch 59/100\n",
            "1/1 [==============================] - 0s 7ms/step - loss: 2.6051 - mae: 2.6051\n",
            "Epoch 60/100\n",
            "1/1 [==============================] - 0s 8ms/step - loss: 2.4244 - mae: 2.4244\n",
            "Epoch 61/100\n",
            "1/1 [==============================] - 0s 7ms/step - loss: 2.4201 - mae: 2.4201\n",
            "Epoch 62/100\n",
            "1/1 [==============================] - 0s 7ms/step - loss: 2.3811 - mae: 2.3811\n",
            "Epoch 63/100\n",
            "1/1 [==============================] - 0s 9ms/step - loss: 2.2388 - mae: 2.2388\n",
            "Epoch 64/100\n",
            "1/1 [==============================] - 0s 9ms/step - loss: 2.2061 - mae: 2.2061\n",
            "Epoch 65/100\n",
            "1/1 [==============================] - 0s 8ms/step - loss: 2.1340 - mae: 2.1340\n",
            "Epoch 66/100\n",
            "1/1 [==============================] - 0s 8ms/step - loss: 2.0044 - mae: 2.0044\n",
            "Epoch 67/100\n",
            "1/1 [==============================] - 0s 9ms/step - loss: 1.9697 - mae: 1.9697\n",
            "Epoch 68/100\n",
            "1/1 [==============================] - 0s 10ms/step - loss: 1.8539 - mae: 1.8539\n",
            "Epoch 69/100\n",
            "1/1 [==============================] - 0s 7ms/step - loss: 1.8066 - mae: 1.8066\n",
            "Epoch 70/100\n",
            "1/1 [==============================] - 0s 9ms/step - loss: 1.7057 - mae: 1.7057\n",
            "Epoch 71/100\n",
            "1/1 [==============================] - 0s 10ms/step - loss: 1.6208 - mae: 1.6208\n",
            "Epoch 72/100\n",
            "1/1 [==============================] - 0s 9ms/step - loss: 1.5295 - mae: 1.5295\n",
            "Epoch 73/100\n",
            "1/1 [==============================] - 0s 9ms/step - loss: 1.4050 - mae: 1.4050\n",
            "Epoch 74/100\n",
            "1/1 [==============================] - 0s 11ms/step - loss: 1.2478 - mae: 1.2478\n",
            "Epoch 75/100\n",
            "1/1 [==============================] - 0s 12ms/step - loss: 1.2270 - mae: 1.2270\n",
            "Epoch 76/100\n",
            "1/1 [==============================] - 0s 14ms/step - loss: 1.0158 - mae: 1.0158\n",
            "Epoch 77/100\n",
            "1/1 [==============================] - 0s 10ms/step - loss: 1.0541 - mae: 1.0541\n",
            "Epoch 78/100\n",
            "1/1 [==============================] - 0s 7ms/step - loss: 1.3936 - mae: 1.3936\n",
            "Epoch 79/100\n",
            "1/1 [==============================] - 0s 8ms/step - loss: 1.2256 - mae: 1.2256\n",
            "Epoch 80/100\n",
            "1/1 [==============================] - 0s 10ms/step - loss: 0.8155 - mae: 0.8155\n",
            "Epoch 81/100\n",
            "1/1 [==============================] - 0s 9ms/step - loss: 0.5108 - mae: 0.5108\n",
            "Epoch 82/100\n",
            "1/1 [==============================] - 0s 7ms/step - loss: 0.3349 - mae: 0.3349\n",
            "Epoch 83/100\n",
            "1/1 [==============================] - 0s 11ms/step - loss: 0.3289 - mae: 0.3289\n",
            "Epoch 84/100\n",
            "1/1 [==============================] - 0s 9ms/step - loss: 1.5025 - mae: 1.5025\n",
            "Epoch 85/100\n",
            "1/1 [==============================] - 0s 9ms/step - loss: 1.1368 - mae: 1.1368\n",
            "Epoch 86/100\n",
            "1/1 [==============================] - 0s 9ms/step - loss: 0.9279 - mae: 0.9279\n",
            "Epoch 87/100\n",
            "1/1 [==============================] - 0s 8ms/step - loss: 1.0793 - mae: 1.0793\n",
            "Epoch 88/100\n",
            "1/1 [==============================] - 0s 7ms/step - loss: 0.3730 - mae: 0.3730\n",
            "Epoch 89/100\n",
            "1/1 [==============================] - 0s 7ms/step - loss: 0.1345 - mae: 0.1345\n",
            "Epoch 90/100\n",
            "1/1 [==============================] - 0s 10ms/step - loss: 0.1695 - mae: 0.1695\n",
            "Epoch 91/100\n",
            "1/1 [==============================] - 0s 11ms/step - loss: 1.2983 - mae: 1.2983\n",
            "Epoch 92/100\n",
            "1/1 [==============================] - 0s 12ms/step - loss: 1.1449 - mae: 1.1449\n",
            "Epoch 93/100\n",
            "1/1 [==============================] - 0s 7ms/step - loss: 0.4014 - mae: 0.4014\n",
            "Epoch 94/100\n",
            "1/1 [==============================] - 0s 10ms/step - loss: 0.3314 - mae: 0.3314\n",
            "Epoch 95/100\n",
            "1/1 [==============================] - 0s 10ms/step - loss: 1.1170 - mae: 1.1170\n",
            "Epoch 96/100\n",
            "1/1 [==============================] - 0s 10ms/step - loss: 1.0892 - mae: 1.0892\n",
            "Epoch 97/100\n",
            "1/1 [==============================] - 0s 10ms/step - loss: 0.2290 - mae: 0.2290\n",
            "Epoch 98/100\n",
            "1/1 [==============================] - 0s 7ms/step - loss: 0.1192 - mae: 0.1192\n",
            "Epoch 99/100\n",
            "1/1 [==============================] - 0s 8ms/step - loss: 0.1878 - mae: 0.1878\n",
            "Epoch 100/100\n",
            "1/1 [==============================] - 0s 8ms/step - loss: 0.6839 - mae: 0.6839\n"
          ]
        },
        {
          "output_type": "execute_result",
          "data": {
            "text/plain": [
              "<keras.callbacks.History at 0x7fa1ecfdaf50>"
            ]
          },
          "metadata": {},
          "execution_count": 21
        }
      ]
    },
    {
      "cell_type": "code",
      "source": [
        "model.predict([1,2.4,20,-2])"
      ],
      "metadata": {
        "colab": {
          "base_uri": "https://localhost:8080/"
        },
        "id": "-0DBfAnSTU2h",
        "outputId": "c4794d3f-c271-4bf2-b17f-2c671594cac5"
      },
      "execution_count": 23,
      "outputs": [
        {
          "output_type": "execute_result",
          "data": {
            "text/plain": [
              "array([[11.3378935],\n",
              "       [12.635631 ],\n",
              "       [30.127302 ],\n",
              "       [ 7.7699943]], dtype=float32)"
            ]
          },
          "metadata": {},
          "execution_count": 23
        }
      ]
    },
    {
      "cell_type": "markdown",
      "source": [
        "### Evaluating a model\n",
        "\n",
        "> visualisation is key\n",
        "\n",
        "good idea to visualize:\n",
        "* the data\n",
        "* the model itself\n",
        "* the training of a model\n",
        "* the predictions of a model"
      ],
      "metadata": {
        "id": "fCNdGKStV3-o"
      }
    },
    {
      "cell_type": "code",
      "source": [
        "X = tf.range(-100,100,4)\n",
        "y=X+20\n",
        "X"
      ],
      "metadata": {
        "colab": {
          "base_uri": "https://localhost:8080/"
        },
        "id": "tAkMZ7cjTmyb",
        "outputId": "b3cc7fbe-b85c-4579-c88d-0c6fecb28757"
      },
      "execution_count": 36,
      "outputs": [
        {
          "output_type": "execute_result",
          "data": {
            "text/plain": [
              "<tf.Tensor: shape=(50,), dtype=int32, numpy=\n",
              "array([-100,  -96,  -92,  -88,  -84,  -80,  -76,  -72,  -68,  -64,  -60,\n",
              "        -56,  -52,  -48,  -44,  -40,  -36,  -32,  -28,  -24,  -20,  -16,\n",
              "        -12,   -8,   -4,    0,    4,    8,   12,   16,   20,   24,   28,\n",
              "         32,   36,   40,   44,   48,   52,   56,   60,   64,   68,   72,\n",
              "         76,   80,   84,   88,   92,   96], dtype=int32)>"
            ]
          },
          "metadata": {},
          "execution_count": 36
        }
      ]
    },
    {
      "cell_type": "code",
      "source": [
        "#visualize data\n",
        "plt.scatter(X,y)"
      ],
      "metadata": {
        "colab": {
          "base_uri": "https://localhost:8080/",
          "height": 286
        },
        "id": "8f28tqEcYyzy",
        "outputId": "14a0a035-0d7f-4d05-f66c-04fede64d50d"
      },
      "execution_count": 27,
      "outputs": [
        {
          "output_type": "execute_result",
          "data": {
            "text/plain": [
              "<matplotlib.collections.PathCollection at 0x7fa1dabec450>"
            ]
          },
          "metadata": {},
          "execution_count": 27
        },
        {
          "output_type": "display_data",
          "data": {
            "text/plain": [
              "<Figure size 432x288 with 1 Axes>"
            ],
            "image/png": "[encoded data removed]"
          },
          "metadata": {
            "needs_background": "light"
          }
        }
      ]
    },
    {
      "cell_type": "code",
      "source": [
        "X_train = X[:40]\n",
        "y_train = y[:40]\n",
        "X_test = X[40:]\n",
        "y_test = y[40:]\n",
        "\n",
        "len(X_train),len(X_test),len(y_train),len(y_test)"
      ],
      "metadata": {
        "colab": {
          "base_uri": "https://localhost:8080/"
        },
        "id": "oYimytXRY9Nx",
        "outputId": "46cdb76d-41f3-48e7-cd9c-f16fad0517a4"
      },
      "execution_count": 37,
      "outputs": [
        {
          "output_type": "execute_result",
          "data": {
            "text/plain": [
              "(40, 10, 40, 10)"
            ]
          },
          "metadata": {},
          "execution_count": 37
        }
      ]
    },
    {
      "cell_type": "code",
      "source": [
        "#visualize split data\n",
        "plt.scatter(X_train,y_train,c=\"b\",label=\"train\")\n",
        "plt.scatter(X_test,y_test,c=\"r\",label=\"test\")\n",
        "plt.show()"
      ],
      "metadata": {
        "colab": {
          "base_uri": "https://localhost:8080/",
          "height": 269
        },
        "id": "YN54EBATaNuf",
        "outputId": "1f42d20a-c46e-4de9-a299-b6edc9df9f4d"
      },
      "execution_count": 31,
      "outputs": [
        {
          "output_type": "display_data",
          "data": {
            "text/plain": [
              "<Figure size 432x288 with 1 Axes>"
            ],
            "image/png": "[encoded data removed]"
          },
          "metadata": {
            "needs_background": "light"
          }
        }
      ]
    },
    {
      "cell_type": "code",
      "source": [
        "tf.random.set_seed(42)\n",
        "\n",
        "model = tf.keras.Sequential([\n",
        "  tf.keras.layers.Dense(1, input_shape=[1])\n",
        "])\n",
        "\n",
        "model.compile(loss=tf.keras.losses.mae,\n",
        "              optimizer=tf.keras.optimizers.SGD(),\n",
        "              metrics=[\"mae\"])\n",
        "\n",
        "model.summary() \n",
        "print(\"params = weight and bias in this case\")"
      ],
      "metadata": {
        "colab": {
          "base_uri": "https://localhost:8080/"
        },
        "id": "JRF_4DvRa89W",
        "outputId": "e10afe6b-2197-4a72-f4a2-afc49f2d465c"
      },
      "execution_count": 43,
      "outputs": [
        {
          "output_type": "stream",
          "name": "stdout",
          "text": [
            "Model: \"sequential_13\"\n",
            "_________________________________________________________________\n",
            " Layer (type)                Output Shape              Param #   \n",
            "=================================================================\n",
            " dense_31 (Dense)            (None, 1)                 2         \n",
            "                                                                 \n",
            "=================================================================\n",
            "Total params: 2\n",
            "Trainable params: 2\n",
            "Non-trainable params: 0\n",
            "_________________________________________________________________\n",
            "params = weight and bias in this case\n"
          ]
        }
      ]
    },
    {
      "cell_type": "code",
      "source": [
        ""
      ],
      "metadata": {
        "id": "-wx-30OFfBV1"
      },
      "execution_count": null,
      "outputs": []
    }
  ]
}