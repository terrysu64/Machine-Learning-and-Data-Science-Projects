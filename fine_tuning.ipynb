{
  "nbformat": 4,
  "nbformat_minor": 0,
  "metadata": {
    "colab": {
      "name": "fine-tuning.ipynb",
      "provenance": [],
      "collapsed_sections": [],
      "authorship_tag": "ABX9TyOn2HIqVcoML4lEqR61uODZ",
      "include_colab_link": true
    },
    "kernelspec": {
      "name": "python3",
      "display_name": "Python 3"
    },
    "language_info": {
      "name": "python"
    },
    "accelerator": "GPU",
    "gpuClass": "standard"
  },
  "cells": [
    {
      "cell_type": "markdown",
      "metadata": {
        "id": "view-in-github",
        "colab_type": "text"
      },
      "source": [
        "<a href=\"https://colab.research.google.com/github/terrysu64/Machine-Learning-and-Data-Science-Projects/blob/main/fine_tuning.ipynb\" target=\"_parent\"><img src=\"https://colab.research.google.com/assets/colab-badge.svg\" alt=\"Open In Colab\"/></a>"
      ]
    },
    {
      "cell_type": "markdown",
      "source": [
        "# Transfer Learning - fine-tuning"
      ],
      "metadata": {
        "id": "lYASeTr98MbL"
      }
    },
    {
      "cell_type": "code",
      "execution_count": null,
      "metadata": {
        "colab": {
          "base_uri": "https://localhost:8080/"
        },
        "id": "xd0zmfgz8JAd",
        "outputId": "b92191b5-a182-412f-ac67-ad7e164706ff"
      },
      "outputs": [
        {
          "output_type": "stream",
          "name": "stdout",
          "text": [
            "Sun Aug  7 00:24:01 2022       \n",
            "+-----------------------------------------------------------------------------+\n",
            "| NVIDIA-SMI 460.32.03    Driver Version: 460.32.03    CUDA Version: 11.2     |\n",
            "|-------------------------------+----------------------+----------------------+\n",
            "| GPU  Name        Persistence-M| Bus-Id        Disp.A | Volatile Uncorr. ECC |\n",
            "| Fan  Temp  Perf  Pwr:Usage/Cap|         Memory-Usage | GPU-Util  Compute M. |\n",
            "|                               |                      |               MIG M. |\n",
            "|===============================+======================+======================|\n",
            "|   0  Tesla T4            Off  | 00000000:00:04.0 Off |                    0 |\n",
            "| N/A   55C    P8    10W /  70W |      0MiB / 15109MiB |      0%      Default |\n",
            "|                               |                      |                  N/A |\n",
            "+-------------------------------+----------------------+----------------------+\n",
            "                                                                               \n",
            "+-----------------------------------------------------------------------------+\n",
            "| Processes:                                                                  |\n",
            "|  GPU   GI   CI        PID   Type   Process name                  GPU Memory |\n",
            "|        ID   ID                                                   Usage      |\n",
            "|=============================================================================|\n",
            "|  No running processes found                                                 |\n",
            "+-----------------------------------------------------------------------------+\n"
          ]
        }
      ],
      "source": [
        "!nvidia-smi"
      ]
    },
    {
      "cell_type": "markdown",
      "source": [
        "### import helper functions"
      ],
      "metadata": {
        "id": "9S4nL7NI9GfD"
      }
    },
    {
      "cell_type": "code",
      "source": [
        "!wget https://raw.githubusercontent.com/mrdbourke/tensorflow-deep-learning/main/extras/helper_functions.py"
      ],
      "metadata": {
        "colab": {
          "base_uri": "https://localhost:8080/"
        },
        "id": "iKN0pYAu8UF6",
        "outputId": "124bb9ff-cba2-4750-92e9-f2d4d65eb7d6"
      },
      "execution_count": null,
      "outputs": [
        {
          "output_type": "stream",
          "name": "stdout",
          "text": [
            "--2022-08-07 00:24:01--  https://raw.githubusercontent.com/mrdbourke/tensorflow-deep-learning/main/extras/helper_functions.py\n",
            "Resolving raw.githubusercontent.com (raw.githubusercontent.com)... 185.199.111.133, 185.199.109.133, 185.199.110.133, ...\n",
            "Connecting to raw.githubusercontent.com (raw.githubusercontent.com)|185.199.111.133|:443... connected.\n",
            "HTTP request sent, awaiting response... 200 OK\n",
            "Length: 10246 (10K) [text/plain]\n",
            "Saving to: ‘helper_functions.py’\n",
            "\n",
            "helper_functions.py 100%[===================>]  10.01K  --.-KB/s    in 0s      \n",
            "\n",
            "2022-08-07 00:24:02 (83.7 MB/s) - ‘helper_functions.py’ saved [10246/10246]\n",
            "\n"
          ]
        }
      ]
    },
    {
      "cell_type": "code",
      "source": [
        "from helper_functions import create_tensorboard_callback, plot_loss_curves, unzip_data, walk_through_dir"
      ],
      "metadata": {
        "id": "THWyiI7s9Bis"
      },
      "execution_count": null,
      "outputs": []
    },
    {
      "cell_type": "markdown",
      "source": [
        "### get data"
      ],
      "metadata": {
        "id": "176RHEWr-C7W"
      }
    },
    {
      "cell_type": "code",
      "source": [
        "!wget https://storage.googleapis.com/ztm_tf_course/food_vision/10_food_classes_10_percent.zip\n",
        "\n",
        "unzip_data(\"10_food_classes_10_percent.zip\")"
      ],
      "metadata": {
        "colab": {
          "base_uri": "https://localhost:8080/"
        },
        "id": "aMMtIjnO9w7S",
        "outputId": "8f27ea32-0659-4eb7-ecab-cce21342a6ab"
      },
      "execution_count": null,
      "outputs": [
        {
          "output_type": "stream",
          "name": "stdout",
          "text": [
            "--2022-08-07 00:24:05--  https://storage.googleapis.com/ztm_tf_course/food_vision/10_food_classes_10_percent.zip\n",
            "Resolving storage.googleapis.com (storage.googleapis.com)... 74.125.200.128, 74.125.130.128, 74.125.24.128, ...\n",
            "Connecting to storage.googleapis.com (storage.googleapis.com)|74.125.200.128|:443... connected.\n",
            "HTTP request sent, awaiting response... 200 OK\n",
            "Length: 168546183 (161M) [application/zip]\n",
            "Saving to: ‘10_food_classes_10_percent.zip’\n",
            "\n",
            "10_food_classes_10_ 100%[===================>] 160.74M   113MB/s    in 1.4s    \n",
            "\n",
            "2022-08-07 00:24:07 (113 MB/s) - ‘10_food_classes_10_percent.zip’ saved [168546183/168546183]\n",
            "\n"
          ]
        }
      ]
    },
    {
      "cell_type": "code",
      "source": [
        "walk_through_dir(\"10_food_classes_10_percent\")"
      ],
      "metadata": {
        "colab": {
          "base_uri": "https://localhost:8080/"
        },
        "id": "uzbJxufD-RBO",
        "outputId": "9f558215-9545-465a-d9eb-a5074eb7b5df"
      },
      "execution_count": null,
      "outputs": [
        {
          "output_type": "stream",
          "name": "stdout",
          "text": [
            "There are 2 directories and 0 images in '10_food_classes_10_percent'.\n",
            "There are 10 directories and 0 images in '10_food_classes_10_percent/train'.\n",
            "There are 0 directories and 75 images in '10_food_classes_10_percent/train/pizza'.\n",
            "There are 0 directories and 75 images in '10_food_classes_10_percent/train/grilled_salmon'.\n",
            "There are 0 directories and 75 images in '10_food_classes_10_percent/train/hamburger'.\n",
            "There are 0 directories and 75 images in '10_food_classes_10_percent/train/steak'.\n",
            "There are 0 directories and 75 images in '10_food_classes_10_percent/train/chicken_curry'.\n",
            "There are 0 directories and 75 images in '10_food_classes_10_percent/train/ramen'.\n",
            "There are 0 directories and 75 images in '10_food_classes_10_percent/train/sushi'.\n",
            "There are 0 directories and 75 images in '10_food_classes_10_percent/train/fried_rice'.\n",
            "There are 0 directories and 75 images in '10_food_classes_10_percent/train/chicken_wings'.\n",
            "There are 0 directories and 75 images in '10_food_classes_10_percent/train/ice_cream'.\n",
            "There are 10 directories and 0 images in '10_food_classes_10_percent/test'.\n",
            "There are 0 directories and 250 images in '10_food_classes_10_percent/test/pizza'.\n",
            "There are 0 directories and 250 images in '10_food_classes_10_percent/test/grilled_salmon'.\n",
            "There are 0 directories and 250 images in '10_food_classes_10_percent/test/hamburger'.\n",
            "There are 0 directories and 250 images in '10_food_classes_10_percent/test/steak'.\n",
            "There are 0 directories and 250 images in '10_food_classes_10_percent/test/chicken_curry'.\n",
            "There are 0 directories and 250 images in '10_food_classes_10_percent/test/ramen'.\n",
            "There are 0 directories and 250 images in '10_food_classes_10_percent/test/sushi'.\n",
            "There are 0 directories and 250 images in '10_food_classes_10_percent/test/fried_rice'.\n",
            "There are 0 directories and 250 images in '10_food_classes_10_percent/test/chicken_wings'.\n",
            "There are 0 directories and 250 images in '10_food_classes_10_percent/test/ice_cream'.\n"
          ]
        }
      ]
    },
    {
      "cell_type": "code",
      "source": [
        "train_dir = \"10_food_classes_10_percent/train\"\n",
        "test_dir = \"10_food_classes_10_percent/test\""
      ],
      "metadata": {
        "id": "SlhVkRN7-Xkg"
      },
      "execution_count": null,
      "outputs": []
    },
    {
      "cell_type": "code",
      "source": [
        "import tensorflow as tf\n",
        "IMG_SIZE = (225,225); BATCH_SIZE = 32\n",
        "train_data = tf.keras.preprocessing.image_dataset_from_directory(directory=train_dir,\n",
        "                                                                 image_size=IMG_SIZE,\n",
        "                                                                 label_mode=\"categorical\",\n",
        "                                                                 batch_size=BATCH_SIZE)\n",
        "test_data = tf.keras.preprocessing.image_dataset_from_directory(directory=test_dir,\n",
        "                                                                 image_size=IMG_SIZE,\n",
        "                                                                 label_mode=\"categorical\",\n",
        "                                                                 batch_size=BATCH_SIZE)"
      ],
      "metadata": {
        "colab": {
          "base_uri": "https://localhost:8080/"
        },
        "id": "86Jre-Fb-3IJ",
        "outputId": "c66d7ac9-77cd-45bd-feb9-b29a3c2f1b44"
      },
      "execution_count": null,
      "outputs": [
        {
          "output_type": "stream",
          "name": "stdout",
          "text": [
            "Found 750 files belonging to 10 classes.\n",
            "Found 2500 files belonging to 10 classes.\n"
          ]
        }
      ]
    },
    {
      "cell_type": "code",
      "source": [
        "train_data, train_data.class_names"
      ],
      "metadata": {
        "colab": {
          "base_uri": "https://localhost:8080/"
        },
        "id": "g7JWyQe7_QT0",
        "outputId": "4a74090d-5666-4d67-b0b9-d04322b84fd6"
      },
      "execution_count": null,
      "outputs": [
        {
          "output_type": "execute_result",
          "data": {
            "text/plain": [
              "(<BatchDataset element_spec=(TensorSpec(shape=(None, 225, 225, 3), dtype=tf.float32, name=None), TensorSpec(shape=(None, 10), dtype=tf.float32, name=None))>,\n",
              " ['chicken_curry',\n",
              "  'chicken_wings',\n",
              "  'fried_rice',\n",
              "  'grilled_salmon',\n",
              "  'hamburger',\n",
              "  'ice_cream',\n",
              "  'pizza',\n",
              "  'ramen',\n",
              "  'steak',\n",
              "  'sushi'])"
            ]
          },
          "metadata": {},
          "execution_count": 8
        }
      ]
    },
    {
      "cell_type": "code",
      "source": [
        "#visualize a batch\n",
        "for imgs, labels in train_data.take(1):\n",
        "  print(imgs, labels)"
      ],
      "metadata": {
        "colab": {
          "base_uri": "https://localhost:8080/"
        },
        "id": "6OjZttuo_Wlf",
        "outputId": "2dcb6929-b719-472f-86d1-9fb0034c5050"
      },
      "execution_count": null,
      "outputs": [
        {
          "output_type": "stream",
          "name": "stdout",
          "text": [
            "tf.Tensor(\n",
            "[[[[1.26509262e+02 7.42782440e+01 2.77402802e+01]\n",
            "   [1.58242523e+02 1.03321693e+02 4.89753036e+01]\n",
            "   [1.59428772e+02 1.01171455e+02 3.67963676e+01]\n",
            "   ...\n",
            "   [5.59288750e+01 1.42409344e+01 7.82666683e+00]\n",
            "   [5.03224983e+01 1.09372158e+01 4.04694319e+00]\n",
            "   [4.97268486e+01 1.08688307e+01 3.45129299e+00]]\n",
            "\n",
            "  [[7.63947067e+01 2.68591537e+01 1.10548049e-01]\n",
            "   [1.17834183e+02 6.69133377e+01 1.99924889e+01]\n",
            "   [1.40675323e+02 8.53834076e+01 2.81789627e+01]\n",
            "   ...\n",
            "   [9.04400024e+01 3.59599991e+01 2.91005955e+01]\n",
            "   [8.41649704e+01 3.17075062e+01 2.38583050e+01]\n",
            "   [8.12905426e+01 2.89047279e+01 2.21488476e+01]]\n",
            "\n",
            "  [[7.52457352e+01 2.59884224e+01 8.59654963e-01]\n",
            "   [1.15723038e+02 6.38963737e+01 2.41563740e+01]\n",
            "   [1.44277161e+02 9.00619736e+01 3.92707405e+01]\n",
            "   ...\n",
            "   [1.13224548e+02 4.56578827e+01 3.64689941e+01]\n",
            "   [1.09291931e+02 4.45363731e+01 3.55363731e+01]\n",
            "   [1.13910713e+02 4.91551552e+01 4.01551552e+01]]\n",
            "\n",
            "  ...\n",
            "\n",
            "  [[2.13607742e+02 1.73775620e+02 1.48500061e+02]\n",
            "   [2.27165985e+02 1.90488968e+02 1.63678665e+02]\n",
            "   [2.42980072e+02 2.08960129e+02 1.80735580e+02]\n",
            "   ...\n",
            "   [1.51526703e+02 7.39044418e+01 5.33378258e+01]\n",
            "   [1.57595398e+02 7.65954056e+01 5.95954056e+01]\n",
            "   [1.73455292e+02 9.14552917e+01 7.74552917e+01]]\n",
            "\n",
            "  [[1.62588577e+02 1.12407722e+02 8.52657776e+01]\n",
            "   [1.95862457e+02 1.50263275e+02 1.21500748e+02]\n",
            "   [2.23823639e+02 1.80270889e+02 1.51098373e+02]\n",
            "   ...\n",
            "   [1.47196732e+02 6.91967316e+01 4.88189812e+01]\n",
            "   [1.75040039e+02 9.60400391e+01 7.93716965e+01]\n",
            "   [1.94029388e+02 1.12029388e+02 1.00029388e+02]]\n",
            "\n",
            "  [[1.50674988e+02 9.49504929e+01 6.53127365e+01]\n",
            "   [1.48997940e+02 9.52421188e+01 6.60762405e+01]\n",
            "   [1.71727127e+02 1.23345840e+02 9.36031494e+01]\n",
            "   ...\n",
            "   [1.56633102e+02 7.86331100e+01 5.82553596e+01]\n",
            "   [1.63669037e+02 8.46690292e+01 6.96690292e+01]\n",
            "   [1.69563828e+02 8.75638199e+01 7.55638199e+01]]]\n",
            "\n",
            "\n",
            " [[[2.63444443e+01 1.83444443e+01 5.34444475e+00]\n",
            "   [2.90382671e+01 2.10382671e+01 8.03826618e+00]\n",
            "   [2.96377773e+01 2.16377773e+01 8.63777733e+00]\n",
            "   ...\n",
            "   [2.22595566e+02 2.26362228e+02 2.08895554e+02]\n",
            "   [2.23621246e+02 2.26621246e+02 2.07621246e+02]\n",
            "   [2.19092422e+02 2.22092422e+02 2.03092422e+02]]\n",
            "\n",
            "  [[2.73533325e+01 1.93533325e+01 6.35333347e+00]\n",
            "   [3.00051994e+01 2.20051994e+01 9.00520039e+00]\n",
            "   [3.00202217e+01 2.20202217e+01 9.02022266e+00]\n",
            "   ...\n",
            "   [2.23146667e+02 2.26913330e+02 2.09446655e+02]\n",
            "   [2.25793335e+02 2.28793335e+02 2.09793335e+02]\n",
            "   [2.23116043e+02 2.26116043e+02 2.07116043e+02]]\n",
            "\n",
            "  [[2.77311096e+01 1.93533325e+01 8.54222298e+00]\n",
            "   [2.93664455e+01 2.09886665e+01 1.01775560e+01]\n",
            "   [2.85670376e+01 2.01892586e+01 9.37814808e+00]\n",
            "   ...\n",
            "   [2.26855179e+02 2.30621841e+02 2.13155167e+02]\n",
            "   [2.26237549e+02 2.29237549e+02 2.10237549e+02]\n",
            "   [2.20266586e+02 2.23266586e+02 2.04266586e+02]]\n",
            "\n",
            "  ...\n",
            "\n",
            "  [[3.63694763e+01 3.06004391e+01 1.51670599e+01]\n",
            "   [2.56165981e+01 2.05520897e+01 6.68096352e+00]\n",
            "   [1.43230314e+01 1.28451920e+01 1.89262718e-01]\n",
            "   ...\n",
            "   [1.09010384e+02 8.07770462e+01 4.06889038e+01]\n",
            "   [1.04535072e+02 7.55350723e+01 3.51573296e+01]\n",
            "   [1.06902275e+02 7.38532181e+01 3.50000000e+01]]\n",
            "\n",
            "  [[7.01933594e+01 5.35839691e+01 3.31439629e+01]\n",
            "   [5.95541725e+01 4.64089622e+01 2.70178795e+01]\n",
            "   [4.79333801e+01 3.67860413e+01 1.80333652e+01]\n",
            "   ...\n",
            "   [1.14634445e+02 8.63404312e+01 4.71273193e+01]\n",
            "   [1.10694809e+02 7.88592072e+01 3.98044090e+01]\n",
            "   [1.07140015e+02 7.31400146e+01 3.51400146e+01]]\n",
            "\n",
            "  [[7.96338425e+01 5.71653404e+01 3.38030968e+01]\n",
            "   [7.58199997e+01 5.52589798e+01 3.16760235e+01]\n",
            "   [7.25775452e+01 5.55554390e+01 3.28974457e+01]\n",
            "   ...\n",
            "   [1.10355469e+02 8.14221191e+01 4.26554565e+01]\n",
            "   [1.13589287e+02 8.15892868e+01 4.35892906e+01]\n",
            "   [1.09014526e+02 7.50145264e+01 3.80145264e+01]]]\n",
            "\n",
            "\n",
            " [[[1.07494194e+02 7.22186356e+01 5.89430809e+01]\n",
            "   [1.05236771e+02 7.03234406e+01 5.46856575e+01]\n",
            "   [1.10194122e+02 7.51377792e+01 5.51325417e+01]\n",
            "   ...\n",
            "   [8.56169739e+01 6.32547531e+01 4.98925323e+01]\n",
            "   [8.69319534e+01 6.32941780e+01 5.05697327e+01]\n",
            "   [8.67564163e+01 6.27177696e+01 5.01269493e+01]]\n",
            "\n",
            "  [[1.20383583e+02 7.95569229e+01 5.98169174e+01]\n",
            "   [1.19354843e+02 8.14415131e+01 6.06148453e+01]\n",
            "   [1.15293922e+02 7.98025208e+01 5.81641464e+01]\n",
            "   ...\n",
            "   [7.76023636e+01 5.74290276e+01 4.64290276e+01]\n",
            "   [7.88030853e+01 5.84348640e+01 4.74348640e+01]\n",
            "   [8.10546951e+01 5.90546951e+01 4.80546951e+01]]\n",
            "\n",
            "  [[1.15968094e+02 7.59125443e+01 5.39125443e+01]\n",
            "   [1.08080002e+02 7.18817749e+01 5.26020737e+01]\n",
            "   [1.02462715e+02 7.07817307e+01 5.21261711e+01]\n",
            "   ...\n",
            "   [8.74444580e+01 6.28777924e+01 5.26889038e+01]\n",
            "   [8.67555542e+01 6.21888885e+01 5.20000000e+01]\n",
            "   [8.71244507e+01 6.24881058e+01 5.22992172e+01]]\n",
            "\n",
            "  ...\n",
            "\n",
            "  [[2.29814804e+02 2.31625931e+02 2.17248184e+02]\n",
            "   [2.34704468e+02 2.36346863e+02 2.24944641e+02]\n",
            "   [2.32404007e+02 2.32962784e+02 2.25022308e+02]\n",
            "   ...\n",
            "   [2.09159622e+02 2.08622375e+02 2.05531113e+02]\n",
            "   [2.06749100e+02 2.08136230e+02 2.06809082e+02]\n",
            "   [2.06823639e+02 2.08811127e+02 2.09826080e+02]]\n",
            "\n",
            "  [[2.35086670e+02 2.41260010e+02 2.29346680e+02]\n",
            "   [2.35980011e+02 2.41250763e+02 2.33949249e+02]\n",
            "   [2.37830963e+02 2.40090973e+02 2.35177643e+02]\n",
            "   ...\n",
            "   [2.03535522e+02 2.08535522e+02 2.12535522e+02]\n",
            "   [2.04729218e+02 2.09729218e+02 2.13729218e+02]\n",
            "   [2.03945297e+02 2.08945297e+02 2.12945297e+02]]\n",
            "\n",
            "  [[2.35368896e+02 2.45731140e+02 2.37093384e+02]\n",
            "   [2.36255585e+02 2.45893341e+02 2.38980072e+02]\n",
            "   [2.37020752e+02 2.43740021e+02 2.40456238e+02]\n",
            "   ...\n",
            "   [2.04021317e+02 2.08659073e+02 2.10934586e+02]\n",
            "   [2.03110214e+02 2.08753876e+02 2.10676407e+02]\n",
            "   [2.02100037e+02 2.10100037e+02 2.12100037e+02]]]\n",
            "\n",
            "\n",
            " ...\n",
            "\n",
            "\n",
            " [[[2.10000000e+01 1.30000000e+01 1.10000000e+01]\n",
            "   [2.20000000e+01 1.40000000e+01 1.20000000e+01]\n",
            "   [2.30000000e+01 1.50000000e+01 1.30000000e+01]\n",
            "   ...\n",
            "   [2.00000000e+00 2.00000000e+00 2.00000000e+00]\n",
            "   [1.08666992e+00 1.08666992e+00 1.08666992e+00]\n",
            "   [2.00000000e+00 2.00000000e+00 2.00000000e+00]]\n",
            "\n",
            "  [[2.20000000e+01 1.40000000e+01 1.20000000e+01]\n",
            "   [2.29173775e+01 1.49173784e+01 1.29173784e+01]\n",
            "   [2.32267399e+01 1.52267408e+01 1.32267408e+01]\n",
            "   ...\n",
            "   [2.00000000e+00 2.00000000e+00 1.62225342e+00]\n",
            "   [1.08666992e+00 1.08666992e+00 1.08666992e+00]\n",
            "   [2.00000000e+00 2.00000000e+00 2.00000000e+00]]\n",
            "\n",
            "  [[2.27444439e+01 1.47444439e+01 1.27444439e+01]\n",
            "   [2.36799259e+01 1.56799259e+01 1.36799259e+01]\n",
            "   [2.41406174e+01 1.61406174e+01 1.41406174e+01]\n",
            "   ...\n",
            "   [2.00000000e+00 2.00000000e+00 4.14575994e-01]\n",
            "   [3.42225552e-01 1.83111429e+00 2.77704626e-01]\n",
            "   [1.25555563e+00 2.74444437e+00 2.00000000e+00]]\n",
            "\n",
            "  ...\n",
            "\n",
            "  [[5.75854635e+00 3.75854635e+00 7.26965475e+00]\n",
            "   [3.32007289e+00 2.80896449e+00 5.57562685e+00]\n",
            "   [3.44444323e+00 2.49271464e+00 7.34790039e+00]\n",
            "   ...\n",
            "   [8.84149628e+01 8.14149628e+01 7.34149628e+01]\n",
            "   [8.70132370e+01 7.80132370e+01 7.10132370e+01]\n",
            "   [7.99578781e+01 7.09578781e+01 6.39578781e+01]]\n",
            "\n",
            "  [[4.60801840e+00 2.60801816e+00 7.60801840e+00]\n",
            "   [5.90667725e+00 3.90667725e+00 8.90667725e+00]\n",
            "   [5.91549110e+00 5.10438013e+00 9.53771305e+00]\n",
            "   ...\n",
            "   [8.79911880e+01 8.09911880e+01 7.29911880e+01]\n",
            "   [9.05559540e+01 8.15559540e+01 7.45559540e+01]\n",
            "   [8.21990891e+01 7.31990891e+01 6.61990891e+01]]\n",
            "\n",
            "  [[6.00000000e+00 3.00000000e+00 1.00000000e+01]\n",
            "   [6.66757631e+00 4.66757631e+00 9.66757679e+00]\n",
            "   [5.44302130e+00 4.82079935e+00 9.25413227e+00]\n",
            "   ...\n",
            "   [8.80659027e+01 8.10659027e+01 7.30659027e+01]\n",
            "   [9.03511353e+01 8.13511353e+01 7.43511353e+01]\n",
            "   [8.09733276e+01 7.19733276e+01 6.49733276e+01]]]\n",
            "\n",
            "\n",
            " [[[3.60000000e+01 2.62463212e+00 1.72444439e+00]\n",
            "   [4.42202835e+01 6.27851188e-02 4.80281353e-01]\n",
            "   [4.78293571e+01 3.15158105e+00 2.20713592e+00]\n",
            "   ...\n",
            "   [9.12453079e+01 1.88675575e+01 5.12672901e+00]\n",
            "   [9.68416901e+01 2.58416862e+01 7.84168625e+00]\n",
            "   [9.25378952e+01 2.15378952e+01 1.99995708e+00]]\n",
            "\n",
            "  [[3.48191566e+01 4.09471130e+00 4.29111147e+00]\n",
            "   [4.20791550e+01 1.58310980e-01 2.44977564e-01]\n",
            "   [4.63450356e+01 2.03029728e+00 5.33926368e-01]\n",
            "   ...\n",
            "   [9.77989960e+01 2.47989960e+01 9.79899693e+00]\n",
            "   [1.00452408e+02 2.94524097e+01 1.14524107e+01]\n",
            "   [9.34569092e+01 2.24569073e+01 2.51969528e+00]]\n",
            "\n",
            "  [[3.27453842e+01 6.39953041e+00 5.69333267e+00]\n",
            "   [4.01389656e+01 0.00000000e+00 1.40592441e-01]\n",
            "   [5.34397545e+01 5.55728483e+00 3.14382792e+00]\n",
            "   ...\n",
            "   [9.27198486e+01 1.88824787e+01 1.65789807e+00]\n",
            "   [8.74805527e+01 1.44805527e+01 4.92092460e-01]\n",
            "   [9.12739258e+01 1.98961449e+01 6.02325857e-01]]\n",
            "\n",
            "  ...\n",
            "\n",
            "  [[1.20706192e+02 9.17061920e+01 2.53284454e+01]\n",
            "   [1.23085838e+02 9.40858383e+01 2.60858383e+01]\n",
            "   [1.24342087e+02 9.53420868e+01 2.69643097e+01]\n",
            "   ...\n",
            "   [1.14592842e+02 6.77617569e+01 1.83620338e+01]\n",
            "   [9.90923309e+01 4.63131104e+01 1.09926701e+01]\n",
            "   [8.05263977e+01 2.30930176e+01 4.81820554e-01]]\n",
            "\n",
            "  [[1.17968605e+02 9.09686050e+01 2.39686069e+01]\n",
            "   [1.19913330e+02 9.29133301e+01 2.59133339e+01]\n",
            "   [1.21913330e+02 9.49133301e+01 2.59133301e+01]\n",
            "   ...\n",
            "   [9.30595932e+01 3.90211983e+01 1.05813169e+01]\n",
            "   [7.83291779e+01 1.93216648e+01 1.84919524e+00]\n",
            "   [7.37872162e+01 1.43696995e+01 1.77171457e+00]]\n",
            "\n",
            "  [[1.16637779e+02 8.96377792e+01 2.26377773e+01]\n",
            "   [1.18913330e+02 9.19133301e+01 2.49133339e+01]\n",
            "   [1.20120468e+02 9.31204681e+01 2.41204643e+01]\n",
            "   ...\n",
            "   [7.40145340e+01 1.65127354e+01 2.67148042e+00]\n",
            "   [7.05510254e+01 1.01887817e+01 2.11054850e+00]\n",
            "   [7.06953201e+01 9.69531727e+00 5.41980505e+00]]]\n",
            "\n",
            "\n",
            " [[[5.58977776e+01 2.47112999e+01 1.91092336e+00]\n",
            "   [5.89841652e+01 3.17241631e+01 4.87361526e+00]\n",
            "   [5.23777771e+01 2.89444447e+01 1.63696325e+00]\n",
            "   ...\n",
            "   [3.80155106e+01 2.06377621e+01 2.82663536e+00]\n",
            "   [3.65041656e+01 1.95041656e+01 7.24444389e-01]\n",
            "   [3.73176994e+01 2.23176975e+01 1.31769753e+00]]\n",
            "\n",
            "  [[5.88655701e+01 2.88655701e+01 2.97611856e+00]\n",
            "   [5.61583099e+01 2.99699554e+01 2.97746682e+00]\n",
            "   [5.78594093e+01 3.44260750e+01 6.23718548e+00]\n",
            "   ...\n",
            "   [4.02207832e+01 2.28430367e+01 5.40965557e+00]\n",
            "   [3.79924965e+01 2.09924946e+01 1.07165051e+00]\n",
            "   [4.33778229e+01 2.63778210e+01 6.37782097e+00]]\n",
            "\n",
            "  [[6.51067886e+01 3.73458519e+01 1.06396551e+01]\n",
            "   [5.60555573e+01 2.99852581e+01 2.98525858e+00]\n",
            "   [5.76777763e+01 3.41374054e+01 5.98419666e+00]\n",
            "   ...\n",
            "   [4.04953308e+01 2.28111572e+01 5.53099108e+00]\n",
            "   [3.98422241e+01 2.24644470e+01 3.03111506e+00]\n",
            "   [4.48422852e+01 2.74645081e+01 8.03117561e+00]]\n",
            "\n",
            "  ...\n",
            "\n",
            "  [[1.03458376e+01 1.11752319e+01 6.56030297e-01]\n",
            "   [1.09943495e+01 1.24269009e+01 1.84303582e+00]\n",
            "   [8.66840744e+00 1.03620129e+01 0.00000000e+00]\n",
            "   ...\n",
            "   [2.14719818e+02 2.24719818e+02 2.26306396e+02]\n",
            "   [2.10071167e+02 2.21071167e+02 2.23071167e+02]\n",
            "   [1.87753281e+02 1.98753281e+02 2.02375534e+02]]\n",
            "\n",
            "  [[1.46691685e+01 1.86691685e+01 4.66916847e+00]\n",
            "   [1.09849701e+01 1.49849701e+01 1.07164049e+00]\n",
            "   [1.17423897e+01 1.47423897e+01 3.74238968e+00]\n",
            "   ...\n",
            "   [2.11118576e+02 2.21085831e+02 2.22913330e+02]\n",
            "   [2.09464951e+02 2.18464951e+02 2.23464951e+02]\n",
            "   [1.90455856e+02 1.99455856e+02 2.04455856e+02]]\n",
            "\n",
            "  [[1.09503412e+01 1.76748276e+01 3.70622301e+00]\n",
            "   [6.86588192e+00 1.28658819e+01 3.61699700e-01]\n",
            "   [1.96807251e+01 2.51140575e+01 1.16807251e+01]\n",
            "   ...\n",
            "   [2.12170654e+02 2.21792908e+02 2.23792908e+02]\n",
            "   [2.09810883e+02 2.18810883e+02 2.23810883e+02]\n",
            "   [1.84028397e+02 1.93028397e+02 2.00028397e+02]]]], shape=(32, 225, 225, 3), dtype=float32) tf.Tensor(\n",
            "[[0. 0. 1. 0. 0. 0. 0. 0. 0. 0.]\n",
            " [0. 0. 0. 0. 0. 0. 0. 0. 1. 0.]\n",
            " [0. 0. 1. 0. 0. 0. 0. 0. 0. 0.]\n",
            " [1. 0. 0. 0. 0. 0. 0. 0. 0. 0.]\n",
            " [0. 0. 0. 0. 1. 0. 0. 0. 0. 0.]\n",
            " [0. 0. 0. 0. 0. 0. 0. 0. 1. 0.]\n",
            " [0. 1. 0. 0. 0. 0. 0. 0. 0. 0.]\n",
            " [0. 0. 0. 1. 0. 0. 0. 0. 0. 0.]\n",
            " [0. 0. 0. 0. 0. 0. 0. 0. 0. 1.]\n",
            " [0. 0. 0. 0. 0. 0. 1. 0. 0. 0.]\n",
            " [0. 0. 0. 0. 0. 0. 0. 1. 0. 0.]\n",
            " [0. 0. 0. 1. 0. 0. 0. 0. 0. 0.]\n",
            " [0. 0. 0. 0. 0. 0. 1. 0. 0. 0.]\n",
            " [0. 1. 0. 0. 0. 0. 0. 0. 0. 0.]\n",
            " [0. 0. 0. 1. 0. 0. 0. 0. 0. 0.]\n",
            " [0. 0. 0. 0. 0. 0. 0. 0. 1. 0.]\n",
            " [0. 0. 0. 0. 1. 0. 0. 0. 0. 0.]\n",
            " [0. 0. 0. 1. 0. 0. 0. 0. 0. 0.]\n",
            " [0. 0. 0. 0. 0. 0. 0. 0. 0. 1.]\n",
            " [0. 1. 0. 0. 0. 0. 0. 0. 0. 0.]\n",
            " [0. 0. 0. 1. 0. 0. 0. 0. 0. 0.]\n",
            " [0. 0. 0. 1. 0. 0. 0. 0. 0. 0.]\n",
            " [0. 0. 0. 0. 0. 1. 0. 0. 0. 0.]\n",
            " [0. 0. 0. 1. 0. 0. 0. 0. 0. 0.]\n",
            " [0. 0. 0. 0. 0. 0. 0. 1. 0. 0.]\n",
            " [0. 0. 0. 0. 0. 1. 0. 0. 0. 0.]\n",
            " [0. 0. 0. 0. 0. 0. 0. 0. 0. 1.]\n",
            " [0. 1. 0. 0. 0. 0. 0. 0. 0. 0.]\n",
            " [0. 0. 0. 0. 0. 0. 0. 1. 0. 0.]\n",
            " [0. 0. 1. 0. 0. 0. 0. 0. 0. 0.]\n",
            " [0. 0. 1. 0. 0. 0. 0. 0. 0. 0.]\n",
            " [0. 0. 0. 0. 0. 0. 0. 0. 0. 1.]], shape=(32, 10), dtype=float32)\n"
          ]
        }
      ]
    },
    {
      "cell_type": "markdown",
      "source": [
        "### experiment 1: pure feature extraction + data augmentation"
      ],
      "metadata": {
        "id": "9Agb_E56G7OI"
      }
    },
    {
      "cell_type": "code",
      "source": [
        "from tensorflow.keras.layers.experimental import preprocessing as pre #augments on gpu and only during train\n",
        "import matplotlib.image as mpimg\n",
        "import matplotlib.pyplot as plt\n",
        "import random\n",
        "import os\n",
        "\n",
        "data_aug = tf.keras.Sequential([\n",
        "    pre.RandomFlip(\"horizontal\"),\n",
        "    pre.RandomRotation(0.2),\n",
        "    pre.RandomZoom(0.2)\n",
        "], name=\"data_augmentation\")\n",
        "\n",
        "target_class = random.choice(train_data.class_names)\n",
        "target_dir = ''.join([train_dir,'/',target_class])\n",
        "img = ''.join([target_dir,\n",
        "               '/',\n",
        "               random.choice(os.listdir(target_dir))])\n",
        "\n",
        "aug_img = data_aug(mpimg.imread(img))\n",
        "plt.title('augmented random image')\n",
        "plt.imshow(aug_img/255)"
      ],
      "metadata": {
        "id": "9godg4bojD4O",
        "colab": {
          "base_uri": "https://localhost:8080/",
          "height": 298
        },
        "outputId": "1841ff41-7c42-49b7-bdc0-666c0994a014"
      },
      "execution_count": null,
      "outputs": [
        {
          "output_type": "execute_result",
          "data": {
            "text/plain": [
              "<matplotlib.image.AxesImage at 0x7f0f95cde410>"
            ]
          },
          "metadata": {},
          "execution_count": 10
        },
        {
          "output_type": "display_data",
          "data": {
            "text/plain": [
              "<Figure size 432x288 with 1 Axes>"
            ],
            "image/png": "[encoded data removed]"
          },
          "metadata": {
            "needs_background": "light"
          }
        }
      ]
    },
    {
      "cell_type": "code",
      "source": [
        "base_model = tf.keras.applications.EfficientNetB0(include_top=False)\n",
        "base_model.trainable = False\n",
        "\n",
        "inputs = tf.keras.layers.Input(shape=(IMG_SIZE)+(3,), name=\"input_layer\") #normalizing not needed for efficientnet\n",
        "#x = data_aug(inputs, training=True)\n",
        "x = base_model(inputs)\n",
        "print(x.shape)\n",
        "x = tf.keras.layers.GlobalAveragePooling2D(name=\"pooling_layer\")(x)\n",
        "print(x.shape)\n",
        "x = tf.keras.layers.Flatten()(x)\n",
        "outputs = tf.keras.layers.Dense(10, activation=\"softmax\", name=\"output_layer\")(x)\n",
        "\n",
        "model = tf.keras.Model(inputs, outputs)"
      ],
      "metadata": {
        "colab": {
          "base_uri": "https://localhost:8080/"
        },
        "id": "8fwkF-myAAtY",
        "outputId": "3001a4ca-0583-4b62-b9d8-17d4c3683063"
      },
      "execution_count": null,
      "outputs": [
        {
          "output_type": "stream",
          "name": "stdout",
          "text": [
            "Downloading data from https://storage.googleapis.com/keras-applications/efficientnetb0_notop.h5\n",
            "16711680/16705208 [==============================] - 0s 0us/step\n",
            "16719872/16705208 [==============================] - 0s 0us/step\n",
            "(None, 7, 7, 1280)\n",
            "(None, 1280)\n"
          ]
        }
      ]
    },
    {
      "cell_type": "code",
      "source": [
        "model.compile(loss=\"categorical_crossentropy\",\n",
        "              optimizer=tf.keras.optimizers.Adam(),\n",
        "              metrics=[\"accuracy\"])"
      ],
      "metadata": {
        "id": "fwuAwoHPDYXZ"
      },
      "execution_count": null,
      "outputs": []
    },
    {
      "cell_type": "code",
      "source": [
        "#model checkpoint callback\n",
        "save_path = \"model_checkpoints/checkpoint.ckpt\"\n",
        "checkpoint_callback = tf.keras.callbacks.ModelCheckpoint(filepath=save_path,\n",
        "                                                         save_weights_only=True,\n",
        "                                                         save_best_only=False,\n",
        "                                                         save_freq=\"epoch\",\n",
        "                                                         verbose=1)"
      ],
      "metadata": {
        "id": "gfb3lNTpu--e"
      },
      "execution_count": null,
      "outputs": []
    },
    {
      "cell_type": "code",
      "source": [
        "history = model.fit(train_data,\n",
        "                    epochs=3,\n",
        "                    steps_per_epoch=len(train_data),\n",
        "                    validation_data=test_data,\n",
        "                    validation_steps=int(len(test_data)/4),\n",
        "                    callbacks=[checkpoint_callback,\n",
        "                               create_tensorboard_callback(dir_name=\"models\",\n",
        "                                                           experiment_name=\"feature_extraction\")])"
      ],
      "metadata": {
        "colab": {
          "base_uri": "https://localhost:8080/"
        },
        "id": "xDXWQVL7EhPf",
        "outputId": "ff863933-1f08-47de-b008-f8a46332bba8"
      },
      "execution_count": null,
      "outputs": [
        {
          "output_type": "stream",
          "name": "stdout",
          "text": [
            "Saving TensorBoard log files to: models/feature_extraction/20220807-002426\n",
            "Epoch 1/3\n",
            "24/24 [==============================] - ETA: 0s - loss: 1.8659 - accuracy: 0.4080\n",
            "Epoch 1: saving model to model_checkpoints/checkpoint.ckpt\n",
            "24/24 [==============================] - 24s 277ms/step - loss: 1.8659 - accuracy: 0.4080 - val_loss: 1.3223 - val_accuracy: 0.7204\n",
            "Epoch 2/3\n",
            "23/24 [===========================>..] - ETA: 0s - loss: 1.1289 - accuracy: 0.7296\n",
            "Epoch 2: saving model to model_checkpoints/checkpoint.ckpt\n",
            "24/24 [==============================] - 4s 164ms/step - loss: 1.1313 - accuracy: 0.7267 - val_loss: 0.9023 - val_accuracy: 0.7993\n",
            "Epoch 3/3\n",
            "23/24 [===========================>..] - ETA: 0s - loss: 0.8225 - accuracy: 0.8030\n",
            "Epoch 3: saving model to model_checkpoints/checkpoint.ckpt\n",
            "24/24 [==============================] - 5s 196ms/step - loss: 0.8255 - accuracy: 0.8000 - val_loss: 0.7400 - val_accuracy: 0.8174\n"
          ]
        }
      ]
    },
    {
      "cell_type": "code",
      "source": [
        "model.evaluate(test_data)"
      ],
      "metadata": {
        "colab": {
          "base_uri": "https://localhost:8080/"
        },
        "id": "OqS-rE5YFMaJ",
        "outputId": "3b2843fa-5a14-48e2-810b-e9fbd6e9b699"
      },
      "execution_count": null,
      "outputs": [
        {
          "output_type": "stream",
          "name": "stdout",
          "text": [
            "79/79 [==============================] - 7s 78ms/step - loss: 0.7484 - accuracy: 0.8204\n"
          ]
        },
        {
          "output_type": "execute_result",
          "data": {
            "text/plain": [
              "[0.7484008073806763, 0.8203999996185303]"
            ]
          },
          "metadata": {},
          "execution_count": 15
        }
      ]
    },
    {
      "cell_type": "code",
      "source": [
        "for i,layer in enumerate(base_model.layers): print(i, layer.name)"
      ],
      "metadata": {
        "id": "b7YP6FdAFqg-",
        "colab": {
          "base_uri": "https://localhost:8080/"
        },
        "outputId": "b709507f-8800-4af7-d86e-147385ecbc23"
      },
      "execution_count": null,
      "outputs": [
        {
          "output_type": "stream",
          "name": "stdout",
          "text": [
            "0 input_1\n",
            "1 rescaling\n",
            "2 normalization\n",
            "3 stem_conv_pad\n",
            "4 stem_conv\n",
            "5 stem_bn\n",
            "6 stem_activation\n",
            "7 block1a_dwconv\n",
            "8 block1a_bn\n",
            "9 block1a_activation\n",
            "10 block1a_se_squeeze\n",
            "11 block1a_se_reshape\n",
            "12 block1a_se_reduce\n",
            "13 block1a_se_expand\n",
            "14 block1a_se_excite\n",
            "15 block1a_project_conv\n",
            "16 block1a_project_bn\n",
            "17 block2a_expand_conv\n",
            "18 block2a_expand_bn\n",
            "19 block2a_expand_activation\n",
            "20 block2a_dwconv_pad\n",
            "21 block2a_dwconv\n",
            "22 block2a_bn\n",
            "23 block2a_activation\n",
            "24 block2a_se_squeeze\n",
            "25 block2a_se_reshape\n",
            "26 block2a_se_reduce\n",
            "27 block2a_se_expand\n",
            "28 block2a_se_excite\n",
            "29 block2a_project_conv\n",
            "30 block2a_project_bn\n",
            "31 block2b_expand_conv\n",
            "32 block2b_expand_bn\n",
            "33 block2b_expand_activation\n",
            "34 block2b_dwconv\n",
            "35 block2b_bn\n",
            "36 block2b_activation\n",
            "37 block2b_se_squeeze\n",
            "38 block2b_se_reshape\n",
            "39 block2b_se_reduce\n",
            "40 block2b_se_expand\n",
            "41 block2b_se_excite\n",
            "42 block2b_project_conv\n",
            "43 block2b_project_bn\n",
            "44 block2b_drop\n",
            "45 block2b_add\n",
            "46 block3a_expand_conv\n",
            "47 block3a_expand_bn\n",
            "48 block3a_expand_activation\n",
            "49 block3a_dwconv_pad\n",
            "50 block3a_dwconv\n",
            "51 block3a_bn\n",
            "52 block3a_activation\n",
            "53 block3a_se_squeeze\n",
            "54 block3a_se_reshape\n",
            "55 block3a_se_reduce\n",
            "56 block3a_se_expand\n",
            "57 block3a_se_excite\n",
            "58 block3a_project_conv\n",
            "59 block3a_project_bn\n",
            "60 block3b_expand_conv\n",
            "61 block3b_expand_bn\n",
            "62 block3b_expand_activation\n",
            "63 block3b_dwconv\n",
            "64 block3b_bn\n",
            "65 block3b_activation\n",
            "66 block3b_se_squeeze\n",
            "67 block3b_se_reshape\n",
            "68 block3b_se_reduce\n",
            "69 block3b_se_expand\n",
            "70 block3b_se_excite\n",
            "71 block3b_project_conv\n",
            "72 block3b_project_bn\n",
            "73 block3b_drop\n",
            "74 block3b_add\n",
            "75 block4a_expand_conv\n",
            "76 block4a_expand_bn\n",
            "77 block4a_expand_activation\n",
            "78 block4a_dwconv_pad\n",
            "79 block4a_dwconv\n",
            "80 block4a_bn\n",
            "81 block4a_activation\n",
            "82 block4a_se_squeeze\n",
            "83 block4a_se_reshape\n",
            "84 block4a_se_reduce\n",
            "85 block4a_se_expand\n",
            "86 block4a_se_excite\n",
            "87 block4a_project_conv\n",
            "88 block4a_project_bn\n",
            "89 block4b_expand_conv\n",
            "90 block4b_expand_bn\n",
            "91 block4b_expand_activation\n",
            "92 block4b_dwconv\n",
            "93 block4b_bn\n",
            "94 block4b_activation\n",
            "95 block4b_se_squeeze\n",
            "96 block4b_se_reshape\n",
            "97 block4b_se_reduce\n",
            "98 block4b_se_expand\n",
            "99 block4b_se_excite\n",
            "100 block4b_project_conv\n",
            "101 block4b_project_bn\n",
            "102 block4b_drop\n",
            "103 block4b_add\n",
            "104 block4c_expand_conv\n",
            "105 block4c_expand_bn\n",
            "106 block4c_expand_activation\n",
            "107 block4c_dwconv\n",
            "108 block4c_bn\n",
            "109 block4c_activation\n",
            "110 block4c_se_squeeze\n",
            "111 block4c_se_reshape\n",
            "112 block4c_se_reduce\n",
            "113 block4c_se_expand\n",
            "114 block4c_se_excite\n",
            "115 block4c_project_conv\n",
            "116 block4c_project_bn\n",
            "117 block4c_drop\n",
            "118 block4c_add\n",
            "119 block5a_expand_conv\n",
            "120 block5a_expand_bn\n",
            "121 block5a_expand_activation\n",
            "122 block5a_dwconv\n",
            "123 block5a_bn\n",
            "124 block5a_activation\n",
            "125 block5a_se_squeeze\n",
            "126 block5a_se_reshape\n",
            "127 block5a_se_reduce\n",
            "128 block5a_se_expand\n",
            "129 block5a_se_excite\n",
            "130 block5a_project_conv\n",
            "131 block5a_project_bn\n",
            "132 block5b_expand_conv\n",
            "133 block5b_expand_bn\n",
            "134 block5b_expand_activation\n",
            "135 block5b_dwconv\n",
            "136 block5b_bn\n",
            "137 block5b_activation\n",
            "138 block5b_se_squeeze\n",
            "139 block5b_se_reshape\n",
            "140 block5b_se_reduce\n",
            "141 block5b_se_expand\n",
            "142 block5b_se_excite\n",
            "143 block5b_project_conv\n",
            "144 block5b_project_bn\n",
            "145 block5b_drop\n",
            "146 block5b_add\n",
            "147 block5c_expand_conv\n",
            "148 block5c_expand_bn\n",
            "149 block5c_expand_activation\n",
            "150 block5c_dwconv\n",
            "151 block5c_bn\n",
            "152 block5c_activation\n",
            "153 block5c_se_squeeze\n",
            "154 block5c_se_reshape\n",
            "155 block5c_se_reduce\n",
            "156 block5c_se_expand\n",
            "157 block5c_se_excite\n",
            "158 block5c_project_conv\n",
            "159 block5c_project_bn\n",
            "160 block5c_drop\n",
            "161 block5c_add\n",
            "162 block6a_expand_conv\n",
            "163 block6a_expand_bn\n",
            "164 block6a_expand_activation\n",
            "165 block6a_dwconv_pad\n",
            "166 block6a_dwconv\n",
            "167 block6a_bn\n",
            "168 block6a_activation\n",
            "169 block6a_se_squeeze\n",
            "170 block6a_se_reshape\n",
            "171 block6a_se_reduce\n",
            "172 block6a_se_expand\n",
            "173 block6a_se_excite\n",
            "174 block6a_project_conv\n",
            "175 block6a_project_bn\n",
            "176 block6b_expand_conv\n",
            "177 block6b_expand_bn\n",
            "178 block6b_expand_activation\n",
            "179 block6b_dwconv\n",
            "180 block6b_bn\n",
            "181 block6b_activation\n",
            "182 block6b_se_squeeze\n",
            "183 block6b_se_reshape\n",
            "184 block6b_se_reduce\n",
            "185 block6b_se_expand\n",
            "186 block6b_se_excite\n",
            "187 block6b_project_conv\n",
            "188 block6b_project_bn\n",
            "189 block6b_drop\n",
            "190 block6b_add\n",
            "191 block6c_expand_conv\n",
            "192 block6c_expand_bn\n",
            "193 block6c_expand_activation\n",
            "194 block6c_dwconv\n",
            "195 block6c_bn\n",
            "196 block6c_activation\n",
            "197 block6c_se_squeeze\n",
            "198 block6c_se_reshape\n",
            "199 block6c_se_reduce\n",
            "200 block6c_se_expand\n",
            "201 block6c_se_excite\n",
            "202 block6c_project_conv\n",
            "203 block6c_project_bn\n",
            "204 block6c_drop\n",
            "205 block6c_add\n",
            "206 block6d_expand_conv\n",
            "207 block6d_expand_bn\n",
            "208 block6d_expand_activation\n",
            "209 block6d_dwconv\n",
            "210 block6d_bn\n",
            "211 block6d_activation\n",
            "212 block6d_se_squeeze\n",
            "213 block6d_se_reshape\n",
            "214 block6d_se_reduce\n",
            "215 block6d_se_expand\n",
            "216 block6d_se_excite\n",
            "217 block6d_project_conv\n",
            "218 block6d_project_bn\n",
            "219 block6d_drop\n",
            "220 block6d_add\n",
            "221 block7a_expand_conv\n",
            "222 block7a_expand_bn\n",
            "223 block7a_expand_activation\n",
            "224 block7a_dwconv\n",
            "225 block7a_bn\n",
            "226 block7a_activation\n",
            "227 block7a_se_squeeze\n",
            "228 block7a_se_reshape\n",
            "229 block7a_se_reduce\n",
            "230 block7a_se_expand\n",
            "231 block7a_se_excite\n",
            "232 block7a_project_conv\n",
            "233 block7a_project_bn\n",
            "234 top_conv\n",
            "235 top_bn\n",
            "236 top_activation\n"
          ]
        }
      ]
    },
    {
      "cell_type": "code",
      "source": [
        "plot_loss_curves(history)"
      ],
      "metadata": {
        "colab": {
          "base_uri": "https://localhost:8080/",
          "height": 573
        },
        "id": "QzTmJqzIGhSq",
        "outputId": "726bb9d2-ce13-4d87-9962-14c8602ddf14"
      },
      "execution_count": null,
      "outputs": [
        {
          "output_type": "display_data",
          "data": {
            "text/plain": [
              "<Figure size 432x288 with 1 Axes>"
            ],
            "image/png": "[encoded data removed]"
          },
          "metadata": {
            "needs_background": "light"
          }
        },
        {
          "output_type": "display_data",
          "data": {
            "text/plain": [
              "<Figure size 432x288 with 1 Axes>"
            ],
            "image/png": "[encoded data removed]"
          },
          "metadata": {
            "needs_background": "light"
          }
        }
      ]
    },
    {
      "cell_type": "markdown",
      "source": [
        "### getting a feature vector"
      ],
      "metadata": {
        "id": "W9YPO-r-Jcxp"
      }
    },
    {
      "cell_type": "code",
      "source": [
        "#globalavgpool2d compresses 4-d to 2-d via averaging middle 2 axis to make a feature vector\n",
        "\n",
        "tf.random.set_seed(42)\n",
        "\n",
        "input_shape = (1,4,4,3)\n",
        "tensor = tf.random.normal(input_shape)\n",
        "\n",
        "pooled_tensor = tf.keras.layers.GlobalAvgPool2D()(tensor)\n",
        "tensor.shape,pooled_tensor.shape\n"
      ],
      "metadata": {
        "colab": {
          "base_uri": "https://localhost:8080/"
        },
        "id": "0ORKHCuWHBkY",
        "outputId": "d3a0382c-f736-4ead-a1e6-d8d55bf4b8e1"
      },
      "execution_count": null,
      "outputs": [
        {
          "output_type": "execute_result",
          "data": {
            "text/plain": [
              "(TensorShape([1, 4, 4, 3]), TensorShape([1, 3]))"
            ]
          },
          "metadata": {},
          "execution_count": 18
        }
      ]
    },
    {
      "cell_type": "markdown",
      "source": [
        "### loading checkpoints and weights"
      ],
      "metadata": {
        "id": "LZi1PAf-woFY"
      }
    },
    {
      "cell_type": "code",
      "source": [
        "#load and evaluate\n",
        "\n",
        "model.load_weights(save_path)"
      ],
      "metadata": {
        "id": "uOjuxAKSKBNo",
        "colab": {
          "base_uri": "https://localhost:8080/"
        },
        "outputId": "d972c176-fcaf-42c9-cbed-9e70f55d1e50"
      },
      "execution_count": null,
      "outputs": [
        {
          "output_type": "execute_result",
          "data": {
            "text/plain": [
              "<tensorflow.python.training.tracking.util.CheckpointLoadStatus at 0x7f0f842a2190>"
            ]
          },
          "metadata": {},
          "execution_count": 19
        }
      ]
    },
    {
      "cell_type": "code",
      "source": [
        "model.evaluate(test_data)"
      ],
      "metadata": {
        "colab": {
          "base_uri": "https://localhost:8080/"
        },
        "id": "kUyaJKQsxDcM",
        "outputId": "7a7f314a-fa36-49cd-a2c6-47ab72f4f849"
      },
      "execution_count": null,
      "outputs": [
        {
          "output_type": "stream",
          "name": "stdout",
          "text": [
            "79/79 [==============================] - 7s 74ms/step - loss: 0.7484 - accuracy: 0.8204\n"
          ]
        },
        {
          "output_type": "execute_result",
          "data": {
            "text/plain": [
              "[0.7484009265899658, 0.8203999996185303]"
            ]
          },
          "metadata": {},
          "execution_count": 20
        }
      ]
    },
    {
      "cell_type": "markdown",
      "source": [
        "### experiment 2: fine-tuning \n",
        "\n",
        "**note**: usually works best after training for a few epochs fist"
      ],
      "metadata": {
        "id": "Fa28D1HSYeOE"
      }
    },
    {
      "cell_type": "code",
      "source": [
        "model.layers"
      ],
      "metadata": {
        "colab": {
          "base_uri": "https://localhost:8080/"
        },
        "id": "AuFGOodwY63J",
        "outputId": "0a8064ec-0489-42fa-95e1-7337cdf47e43"
      },
      "execution_count": null,
      "outputs": [
        {
          "output_type": "execute_result",
          "data": {
            "text/plain": [
              "[<keras.engine.input_layer.InputLayer at 0x7f0f95c9d150>,\n",
              " <keras.engine.functional.Functional at 0x7f0f80779dd0>,\n",
              " <keras.layers.pooling.GlobalAveragePooling2D at 0x7f0f807af7d0>,\n",
              " <keras.layers.core.flatten.Flatten at 0x7f0f95c9d750>,\n",
              " <keras.layers.core.dense.Dense at 0x7f0f95c4f850>]"
            ]
          },
          "metadata": {},
          "execution_count": 21
        }
      ]
    },
    {
      "cell_type": "code",
      "source": [
        "[(layer,layer.trainable )for layer in model.layers[1].layers] #layers in borrowed model"
      ],
      "metadata": {
        "colab": {
          "base_uri": "https://localhost:8080/"
        },
        "id": "H8cAnU5hZHxt",
        "outputId": "1bb4c68b-98ec-435f-a562-de0a1bbe3b4a"
      },
      "execution_count": null,
      "outputs": [
        {
          "output_type": "execute_result",
          "data": {
            "text/plain": [
              "[(<keras.engine.input_layer.InputLayer at 0x7f0f95c56c90>, False),\n",
              " (<keras.layers.preprocessing.image_preprocessing.Rescaling at 0x7f0f95c56910>,\n",
              "  False),\n",
              " (<keras.layers.preprocessing.normalization.Normalization at 0x7f0f974af850>,\n",
              "  False),\n",
              " (<keras.layers.convolutional.ZeroPadding2D at 0x7f0f95ce8690>, False),\n",
              " (<keras.layers.convolutional.Conv2D at 0x7f0f95d49990>, False),\n",
              " (<keras.layers.normalization.batch_normalization.BatchNormalization at 0x7f0f95d96d90>,\n",
              "  False),\n",
              " (<keras.layers.core.activation.Activation at 0x7f0f95cde990>, False),\n",
              " (<keras.layers.convolutional.DepthwiseConv2D at 0x7f0f8445b410>, False),\n",
              " (<keras.layers.normalization.batch_normalization.BatchNormalization at 0x7f0f84404d10>,\n",
              "  False),\n",
              " (<keras.layers.core.activation.Activation at 0x7f0f95c3bd10>, False),\n",
              " (<keras.layers.pooling.GlobalAveragePooling2D at 0x7f0f844143d0>, False),\n",
              " (<keras.layers.core.reshape.Reshape at 0x7f0f84412e50>, False),\n",
              " (<keras.layers.convolutional.Conv2D at 0x7f0f95cde450>, False),\n",
              " (<keras.layers.convolutional.Conv2D at 0x7f0f95d51510>, False),\n",
              " (<keras.layers.merge.Multiply at 0x7f0f84422890>, False),\n",
              " (<keras.layers.convolutional.Conv2D at 0x7f0f95d51e90>, False),\n",
              " (<keras.layers.normalization.batch_normalization.BatchNormalization at 0x7f0f84427290>,\n",
              "  False),\n",
              " (<keras.layers.convolutional.Conv2D at 0x7f0f84432290>, False),\n",
              " (<keras.layers.normalization.batch_normalization.BatchNormalization at 0x7f0f8442ce50>,\n",
              "  False),\n",
              " (<keras.layers.core.activation.Activation at 0x7f0f95cde510>, False),\n",
              " (<keras.layers.convolutional.ZeroPadding2D at 0x7f0f8443cf90>, False),\n",
              " (<keras.layers.convolutional.DepthwiseConv2D at 0x7f0f843c1e90>, False),\n",
              " (<keras.layers.normalization.batch_normalization.BatchNormalization at 0x7f0f8443d190>,\n",
              "  False),\n",
              " (<keras.layers.core.activation.Activation at 0x7f0f95cde9d0>, False),\n",
              " (<keras.layers.pooling.GlobalAveragePooling2D at 0x7f0f843cf810>, False),\n",
              " (<keras.layers.core.reshape.Reshape at 0x7f0f843dd710>, False),\n",
              " (<keras.layers.convolutional.Conv2D at 0x7f0f843e2c90>, False),\n",
              " (<keras.layers.convolutional.Conv2D at 0x7f0f843ede90>, False),\n",
              " (<keras.layers.merge.Multiply at 0x7f0f843f3dd0>, False),\n",
              " (<keras.layers.convolutional.Conv2D at 0x7f0f843f8990>, False),\n",
              " (<keras.layers.normalization.batch_normalization.BatchNormalization at 0x7f0f84383110>,\n",
              "  False),\n",
              " (<keras.layers.convolutional.Conv2D at 0x7f0f843fdc10>, False),\n",
              " (<keras.layers.normalization.batch_normalization.BatchNormalization at 0x7f0f84388c90>,\n",
              "  False),\n",
              " (<keras.layers.core.activation.Activation at 0x7f0f84398150>, False),\n",
              " (<keras.layers.convolutional.DepthwiseConv2D at 0x7f0f84391950>, False),\n",
              " (<keras.layers.normalization.batch_normalization.BatchNormalization at 0x7f0f843a1a10>,\n",
              "  False),\n",
              " (<keras.layers.core.activation.Activation at 0x7f0f843aa650>, False),\n",
              " (<keras.layers.pooling.GlobalAveragePooling2D at 0x7f0f843b0050>, False),\n",
              " (<keras.layers.core.reshape.Reshape at 0x7f0f843abb10>, False),\n",
              " (<keras.layers.convolutional.Conv2D at 0x7f0f84345710>, False),\n",
              " (<keras.layers.convolutional.Conv2D at 0x7f0f84340550>, False),\n",
              " (<keras.layers.merge.Multiply at 0x7f0f84354a50>, False),\n",
              " (<keras.layers.convolutional.Conv2D at 0x7f0f8434da10>, False),\n",
              " (<keras.layers.normalization.batch_normalization.BatchNormalization at 0x7f0f8435e790>,\n",
              "  False),\n",
              " (<keras.layers.core.dropout.Dropout at 0x7f0f84365d90>, False),\n",
              " (<keras.layers.merge.Add at 0x7f0f8436a490>, False),\n",
              " (<keras.layers.convolutional.Conv2D at 0x7f0f84373590>, False),\n",
              " (<keras.layers.normalization.batch_normalization.BatchNormalization at 0x7f0f8436ab90>,\n",
              "  False),\n",
              " (<keras.layers.core.activation.Activation at 0x7f0f84378910>, False),\n",
              " (<keras.layers.convolutional.ZeroPadding2D at 0x7f0f84304790>, False),\n",
              " (<keras.layers.convolutional.DepthwiseConv2D at 0x7f0f84300c50>, False),\n",
              " (<keras.layers.normalization.batch_normalization.BatchNormalization at 0x7f0f84378d90>,\n",
              "  False),\n",
              " (<keras.layers.core.activation.Activation at 0x7f0f84340e50>, False),\n",
              " (<keras.layers.pooling.GlobalAveragePooling2D at 0x7f0f843ab4d0>, False),\n",
              " (<keras.layers.core.reshape.Reshape at 0x7f0f843730d0>, False),\n",
              " (<keras.layers.convolutional.Conv2D at 0x7f0f84388210>, False),\n",
              " (<keras.layers.convolutional.Conv2D at 0x7f0f844389d0>, False),\n",
              " (<keras.layers.merge.Multiply at 0x7f0f972488d0>, False),\n",
              " (<keras.layers.convolutional.Conv2D at 0x7f0f84423290>, False),\n",
              " (<keras.layers.normalization.batch_normalization.BatchNormalization at 0x7f0f8430c790>,\n",
              "  False),\n",
              " (<keras.layers.convolutional.Conv2D at 0x7f0f8430be90>, False),\n",
              " (<keras.layers.normalization.batch_normalization.BatchNormalization at 0x7f0f8430ef10>,\n",
              "  False),\n",
              " (<keras.layers.core.activation.Activation at 0x7f0f8431e190>, False),\n",
              " (<keras.layers.convolutional.DepthwiseConv2D at 0x7f0f843134d0>, False),\n",
              " (<keras.layers.normalization.batch_normalization.BatchNormalization at 0x7f0f84325ad0>,\n",
              "  False),\n",
              " (<keras.layers.core.activation.Activation at 0x7f0f8432da10>, False),\n",
              " (<keras.layers.pooling.GlobalAveragePooling2D at 0x7f0f8432d190>, False),\n",
              " (<keras.layers.core.reshape.Reshape at 0x7f0f8433d790>, False),\n",
              " (<keras.layers.convolutional.Conv2D at 0x7f0f842c7a90>, False),\n",
              " (<keras.layers.convolutional.Conv2D at 0x7f0f842c1650>, False),\n",
              " (<keras.layers.merge.Multiply at 0x7f0f842d14d0>, False),\n",
              " (<keras.layers.convolutional.Conv2D at 0x7f0f842dfa10>, False),\n",
              " (<keras.layers.normalization.batch_normalization.BatchNormalization at 0x7f0f842d8650>,\n",
              "  False),\n",
              " (<keras.layers.core.dropout.Dropout at 0x7f0f842e8110>, False),\n",
              " (<keras.layers.merge.Add at 0x7f0f842ed110>, False),\n",
              " (<keras.layers.convolutional.Conv2D at 0x7f0f842ed750>, False),\n",
              " (<keras.layers.normalization.batch_normalization.BatchNormalization at 0x7f0f842d1bd0>,\n",
              "  False),\n",
              " (<keras.layers.core.activation.Activation at 0x7f0f84282110>, False),\n",
              " (<keras.layers.convolutional.ZeroPadding2D at 0x7f0f84282dd0>, False),\n",
              " (<keras.layers.convolutional.DepthwiseConv2D at 0x7f0f8428b210>, False),\n",
              " (<keras.layers.normalization.batch_normalization.BatchNormalization at 0x7f0f8428f7d0>,\n",
              "  False),\n",
              " (<keras.layers.core.activation.Activation at 0x7f0f84294510>, False),\n",
              " (<keras.layers.pooling.GlobalAveragePooling2D at 0x7f0f8429ab10>, False),\n",
              " (<keras.layers.core.reshape.Reshape at 0x7f0f842a3390>, False),\n",
              " (<keras.layers.convolutional.Conv2D at 0x7f0f842a2fd0>, False),\n",
              " (<keras.layers.convolutional.Conv2D at 0x7f0f842ba490>, False),\n",
              " (<keras.layers.merge.Multiply at 0x7f0f84248290>, False),\n",
              " (<keras.layers.convolutional.Conv2D at 0x7f0f84248cd0>, False),\n",
              " (<keras.layers.normalization.batch_normalization.BatchNormalization at 0x7f0f8429aa10>,\n",
              "  False),\n",
              " (<keras.layers.convolutional.Conv2D at 0x7f0f842ecad0>, False),\n",
              " (<keras.layers.normalization.batch_normalization.BatchNormalization at 0x7f0f842c1b50>,\n",
              "  False),\n",
              " (<keras.layers.core.activation.Activation at 0x7f0f84332dd0>, False),\n",
              " (<keras.layers.convolutional.DepthwiseConv2D at 0x7f0f84345990>, False),\n",
              " (<keras.layers.normalization.batch_normalization.BatchNormalization at 0x7f0f8430ca50>,\n",
              "  False),\n",
              " (<keras.layers.core.activation.Activation at 0x7f0f842a2150>, False),\n",
              " (<keras.layers.pooling.GlobalAveragePooling2D at 0x7f0f842b4b90>, False),\n",
              " (<keras.layers.core.reshape.Reshape at 0x7f0f842b4510>, False),\n",
              " (<keras.layers.convolutional.Conv2D at 0x7f0f8424c3d0>, False),\n",
              " (<keras.layers.convolutional.Conv2D at 0x7f0f84254590>, False),\n",
              " (<keras.layers.merge.Multiply at 0x7f0f84339590>, False),\n",
              " (<keras.layers.convolutional.Conv2D at 0x7f0f84251350>, False),\n",
              " (<keras.layers.normalization.batch_normalization.BatchNormalization at 0x7f0f84261e90>,\n",
              "  False),\n",
              " (<keras.layers.core.dropout.Dropout at 0x7f0f8426ef50>, False),\n",
              " (<keras.layers.merge.Add at 0x7f0f84263310>, False),\n",
              " (<keras.layers.convolutional.Conv2D at 0x7f0f84275690>, False),\n",
              " (<keras.layers.normalization.batch_normalization.BatchNormalization at 0x7f0f8427b190>,\n",
              "  False),\n",
              " (<keras.layers.core.activation.Activation at 0x7f0f8427bed0>, False),\n",
              " (<keras.layers.convolutional.DepthwiseConv2D at 0x7f0f84200510>, False),\n",
              " (<keras.layers.normalization.batch_normalization.BatchNormalization at 0x7f0f8420f5d0>,\n",
              "  False),\n",
              " (<keras.layers.core.activation.Activation at 0x7f0f84213e10>, False),\n",
              " (<keras.layers.pooling.GlobalAveragePooling2D at 0x7f0f84213910>, False),\n",
              " (<keras.layers.core.reshape.Reshape at 0x7f0f8421d6d0>, False),\n",
              " (<keras.layers.convolutional.Conv2D at 0x7f0f84227f90>, False),\n",
              " (<keras.layers.convolutional.Conv2D at 0x7f0f84236890>, False),\n",
              " (<keras.layers.merge.Multiply at 0x7f0f8423bd10>, False),\n",
              " (<keras.layers.convolutional.Conv2D at 0x7f0f841c3610>, False),\n",
              " (<keras.layers.normalization.batch_normalization.BatchNormalization at 0x7f0f841ca390>,\n",
              "  False),\n",
              " (<keras.layers.core.dropout.Dropout at 0x7f0f841cf990>, False),\n",
              " (<keras.layers.merge.Add at 0x7f0f841d4850>, False),\n",
              " (<keras.layers.convolutional.Conv2D at 0x7f0f841cf810>, False),\n",
              " (<keras.layers.normalization.batch_normalization.BatchNormalization at 0x7f0f841dd490>,\n",
              "  False),\n",
              " (<keras.layers.core.activation.Activation at 0x7f0f841e1bd0>, False),\n",
              " (<keras.layers.convolutional.DepthwiseConv2D at 0x7f0f841e8950>, False),\n",
              " (<keras.layers.normalization.batch_normalization.BatchNormalization at 0x7f0f841f7150>,\n",
              "  False),\n",
              " (<keras.layers.core.activation.Activation at 0x7f0f841811d0>, False),\n",
              " (<keras.layers.pooling.GlobalAveragePooling2D at 0x7f0f84181750>, False),\n",
              " (<keras.layers.core.reshape.Reshape at 0x7f0f841e1d10>, False),\n",
              " (<keras.layers.convolutional.Conv2D at 0x7f0f84232590>, False),\n",
              " (<keras.layers.convolutional.Conv2D at 0x7f0f8421b210>, False),\n",
              " (<keras.layers.merge.Multiply at 0x7f0f84205d50>, False),\n",
              " (<keras.layers.convolutional.Conv2D at 0x7f0f84261650>, False),\n",
              " (<keras.layers.normalization.batch_normalization.BatchNormalization at 0x7f0f84339950>,\n",
              "  False),\n",
              " (<keras.layers.convolutional.Conv2D at 0x7f0f84251d50>, False),\n",
              " (<keras.layers.normalization.batch_normalization.BatchNormalization at 0x7f0f84186cd0>,\n",
              "  False),\n",
              " (<keras.layers.core.activation.Activation at 0x7f0f8418f110>, False),\n",
              " (<keras.layers.convolutional.DepthwiseConv2D at 0x7f0f8426a590>, False),\n",
              " (<keras.layers.normalization.batch_normalization.BatchNormalization at 0x7f0f84197890>,\n",
              "  False),\n",
              " (<keras.layers.core.activation.Activation at 0x7f0f841a0750>, False),\n",
              " (<keras.layers.pooling.GlobalAveragePooling2D at 0x7f0f841a0dd0>, False),\n",
              " (<keras.layers.core.reshape.Reshape at 0x7f0f841a8c50>, False),\n",
              " (<keras.layers.convolutional.Conv2D at 0x7f0f841b8850>, False),\n",
              " (<keras.layers.convolutional.Conv2D at 0x7f0f841b2410>, False),\n",
              " (<keras.layers.merge.Multiply at 0x7f0f84144050>, False),\n",
              " (<keras.layers.convolutional.Conv2D at 0x7f0f841507d0>, False),\n",
              " (<keras.layers.normalization.batch_normalization.BatchNormalization at 0x7f0f8414b850>,\n",
              "  False),\n",
              " (<keras.layers.core.dropout.Dropout at 0x7f0f84155ed0>, False),\n",
              " (<keras.layers.merge.Add at 0x7f0f84160cd0>, False),\n",
              " (<keras.layers.convolutional.Conv2D at 0x7f0f84160f10>, False),\n",
              " (<keras.layers.normalization.batch_normalization.BatchNormalization at 0x7f0f84155610>,\n",
              "  False),\n",
              " (<keras.layers.core.activation.Activation at 0x7f0f84171150>, False),\n",
              " (<keras.layers.convolutional.DepthwiseConv2D at 0x7f0f841747d0>, False),\n",
              " (<keras.layers.normalization.batch_normalization.BatchNormalization at 0x7f0f8417a810>,\n",
              "  False),\n",
              " (<keras.layers.core.activation.Activation at 0x7f0f84101450>, False),\n",
              " (<keras.layers.pooling.GlobalAveragePooling2D at 0x7f0f84101ad0>, False),\n",
              " (<keras.layers.core.reshape.Reshape at 0x7f0f8410e950>, False),\n",
              " (<keras.layers.convolutional.Conv2D at 0x7f0f84115c50>, False),\n",
              " (<keras.layers.convolutional.Conv2D at 0x7f0f84121d50>, False),\n",
              " (<keras.layers.merge.Multiply at 0x7f0f84126bd0>, False),\n",
              " (<keras.layers.convolutional.Conv2D at 0x7f0f8412ba90>, False),\n",
              " (<keras.layers.normalization.batch_normalization.BatchNormalization at 0x7f0f84139410>,\n",
              "  False),\n",
              " (<keras.layers.core.dropout.Dropout at 0x7f0f8412d810>, False),\n",
              " (<keras.layers.merge.Add at 0x7f0f8413e1d0>, False),\n",
              " (<keras.layers.convolutional.Conv2D at 0x7f0f840c4390>, False),\n",
              " (<keras.layers.normalization.batch_normalization.BatchNormalization at 0x7f0f840cced0>,\n",
              "  False),\n",
              " (<keras.layers.core.activation.Activation at 0x7f0f84132e90>, False),\n",
              " (<keras.layers.convolutional.ZeroPadding2D at 0x7f0f8413e150>, False),\n",
              " (<keras.layers.convolutional.DepthwiseConv2D at 0x7f0f8416d550>, False),\n",
              " (<keras.layers.normalization.batch_normalization.BatchNormalization at 0x7f0f8417ea10>,\n",
              "  False),\n",
              " (<keras.layers.core.activation.Activation at 0x7f0f841b8210>, False),\n",
              " (<keras.layers.pooling.GlobalAveragePooling2D at 0x7f0f841920d0>, False),\n",
              " (<keras.layers.core.reshape.Reshape at 0x7f0f84189ad0>, False),\n",
              " (<keras.layers.convolutional.Conv2D at 0x7f0f841a8590>, False),\n",
              " (<keras.layers.convolutional.Conv2D at 0x7f0f840d0810>, False),\n",
              " (<keras.layers.merge.Multiply at 0x7f0f840d8590>, False),\n",
              " (<keras.layers.convolutional.Conv2D at 0x7f0f840d0bd0>, False),\n",
              " (<keras.layers.normalization.batch_normalization.BatchNormalization at 0x7f0f840de350>,\n",
              "  False),\n",
              " (<keras.layers.convolutional.Conv2D at 0x7f0f840e8250>, False),\n",
              " (<keras.layers.normalization.batch_normalization.BatchNormalization at 0x7f0f840de690>,\n",
              "  False),\n",
              " (<keras.layers.core.activation.Activation at 0x7f0f840ef510>, False),\n",
              " (<keras.layers.convolutional.DepthwiseConv2D at 0x7f0f840f63d0>, False),\n",
              " (<keras.layers.normalization.batch_normalization.BatchNormalization at 0x7f0f840fe310>,\n",
              "  False),\n",
              " (<keras.layers.core.activation.Activation at 0x7f0f84092d10>, False),\n",
              " (<keras.layers.pooling.GlobalAveragePooling2D at 0x7f0f8424c750>, False),\n",
              " (<keras.layers.core.reshape.Reshape at 0x7f0f840a1650>, False),\n",
              " (<keras.layers.convolutional.Conv2D at 0x7f0f840ae490>, False),\n",
              " (<keras.layers.convolutional.Conv2D at 0x7f0f840deb10>, False),\n",
              " (<keras.layers.merge.Multiply at 0x7f0f840eff90>, False),\n",
              " (<keras.layers.convolutional.Conv2D at 0x7f0f840b42d0>, False),\n",
              " (<keras.layers.normalization.batch_normalization.BatchNormalization at 0x7f0f840b4b90>,\n",
              "  False),\n",
              " (<keras.layers.core.dropout.Dropout at 0x7f0f8403f9d0>, False),\n",
              " (<keras.layers.merge.Add at 0x7f0f8412bdd0>, False),\n",
              " (<keras.layers.convolutional.Conv2D at 0x7f0f84048050>, False),\n",
              " (<keras.layers.normalization.batch_normalization.BatchNormalization at 0x7f0f8405d0d0>,\n",
              "  False),\n",
              " (<keras.layers.core.activation.Activation at 0x7f0f8403f050>, False),\n",
              " (<keras.layers.convolutional.DepthwiseConv2D at 0x7f0f8406db50>, False),\n",
              " (<keras.layers.normalization.batch_normalization.BatchNormalization at 0x7f0f84092dd0>,\n",
              "  False),\n",
              " (<keras.layers.core.activation.Activation at 0x7f0f8406d950>, False),\n",
              " (<keras.layers.pooling.GlobalAveragePooling2D at 0x7f0f8404e950>, False),\n",
              " (<keras.layers.core.reshape.Reshape at 0x7f0f840eb910>, False),\n",
              " (<keras.layers.convolutional.Conv2D at 0x7f0f807bfc10>, False),\n",
              " (<keras.layers.convolutional.Conv2D at 0x7f0f97285d90>, False),\n",
              " (<keras.layers.merge.Multiply at 0x7f0f807d2050>, False),\n",
              " (<keras.layers.convolutional.Conv2D at 0x7f0f807cf0d0>, False),\n",
              " (<keras.layers.normalization.batch_normalization.BatchNormalization at 0x7f0f840481d0>,\n",
              "  False),\n",
              " (<keras.layers.core.dropout.Dropout at 0x7f0f840a1090>, False),\n",
              " (<keras.layers.merge.Add at 0x7f0f8404f7d0>, False),\n",
              " (<keras.layers.convolutional.Conv2D at 0x7f0f8409aed0>, False),\n",
              " (<keras.layers.normalization.batch_normalization.BatchNormalization at 0x7f0f8407cf90>,\n",
              "  False),\n",
              " (<keras.layers.core.activation.Activation at 0x7f0f840d5190>, False),\n",
              " (<keras.layers.convolutional.DepthwiseConv2D at 0x7f0f84150f90>, False),\n",
              " (<keras.layers.normalization.batch_normalization.BatchNormalization at 0x7f0f841b8bd0>,\n",
              "  False),\n",
              " (<keras.layers.core.activation.Activation at 0x7f0f841b8510>, False),\n",
              " (<keras.layers.pooling.GlobalAveragePooling2D at 0x7f0f807e0450>, False),\n",
              " (<keras.layers.core.reshape.Reshape at 0x7f0f807e50d0>, False),\n",
              " (<keras.layers.convolutional.Conv2D at 0x7f0f807e52d0>, False),\n",
              " (<keras.layers.convolutional.Conv2D at 0x7f0f8409a850>, False),\n",
              " (<keras.layers.merge.Multiply at 0x7f0f807f4d50>, False),\n",
              " (<keras.layers.convolutional.Conv2D at 0x7f0f807f41d0>, False),\n",
              " (<keras.layers.normalization.batch_normalization.BatchNormalization at 0x7f0f807f4b90>,\n",
              "  False),\n",
              " (<keras.layers.core.dropout.Dropout at 0x7f0f8078ea50>, False),\n",
              " (<keras.layers.merge.Add at 0x7f0f8409ac10>, False),\n",
              " (<keras.layers.convolutional.Conv2D at 0x7f0f80785890>, False),\n",
              " (<keras.layers.normalization.batch_normalization.BatchNormalization at 0x7f0f807810d0>,\n",
              "  False),\n",
              " (<keras.layers.core.activation.Activation at 0x7f0f807aab50>, False),\n",
              " (<keras.layers.convolutional.DepthwiseConv2D at 0x7f0f807aa490>, False),\n",
              " (<keras.layers.normalization.batch_normalization.BatchNormalization at 0x7f0f807b8e10>,\n",
              "  False),\n",
              " (<keras.layers.core.activation.Activation at 0x7f0f807b8bd0>, False),\n",
              " (<keras.layers.pooling.GlobalAveragePooling2D at 0x7f0f807b8b50>, False),\n",
              " (<keras.layers.core.reshape.Reshape at 0x7f0f807a1410>, False),\n",
              " (<keras.layers.convolutional.Conv2D at 0x7f0f807e5390>, False),\n",
              " (<keras.layers.convolutional.Conv2D at 0x7f0f80794d50>, False),\n",
              " (<keras.layers.merge.Multiply at 0x7f0f80743c90>, False),\n",
              " (<keras.layers.convolutional.Conv2D at 0x7f0f8075ec50>, False),\n",
              " (<keras.layers.normalization.batch_normalization.BatchNormalization at 0x7f0f8074df10>,\n",
              "  False),\n",
              " (<keras.layers.convolutional.Conv2D at 0x7f0f95c4f450>, False),\n",
              " (<keras.layers.normalization.batch_normalization.BatchNormalization at 0x7f0f807797d0>,\n",
              "  False),\n",
              " (<keras.layers.core.activation.Activation at 0x7f0f80779ad0>, False)]"
            ]
          },
          "metadata": {},
          "execution_count": 22
        }
      ]
    },
    {
      "cell_type": "code",
      "source": [
        "#unfreeze last 10 layers\n",
        "\n",
        "base_model.trainable = True\n",
        "for layer in base_model.layers[:-10]: layer.trainable=False\n",
        "\n"
      ],
      "metadata": {
        "id": "dgJOeELMZNC2"
      },
      "execution_count": null,
      "outputs": []
    },
    {
      "cell_type": "code",
      "source": [
        "model.compile(loss=\"categorical_crossentropy\",\n",
        "              optimizer=tf.keras.optimizers.Adam(learning_rate=0.0001), #rule of thumb is to lower lr for fine-tuning\n",
        "              metrics=[\"accuracy\"])"
      ],
      "metadata": {
        "id": "Zy1Ae4pvaQbR"
      },
      "execution_count": null,
      "outputs": []
    },
    {
      "cell_type": "code",
      "source": [
        "len(model.trainable_variables)"
      ],
      "metadata": {
        "colab": {
          "base_uri": "https://localhost:8080/"
        },
        "id": "agcanAFmab-t",
        "outputId": "86b849a3-02c6-429c-e4d0-8391380fc0aa"
      },
      "execution_count": null,
      "outputs": [
        {
          "output_type": "execute_result",
          "data": {
            "text/plain": [
              "12"
            ]
          },
          "metadata": {},
          "execution_count": 25
        }
      ]
    },
    {
      "cell_type": "code",
      "source": [
        "history = model.fit(train_data,\n",
        "                    epochs=3+5,\n",
        "                    steps_per_epoch=len(train_data),\n",
        "                    validation_data=test_data,\n",
        "                    validation_steps=int(len(test_data)/4),\n",
        "                    initial_epoch=history.epoch[-1], #start training where last model left off\n",
        "                    callbacks=[checkpoint_callback,\n",
        "                               create_tensorboard_callback(dir_name=\"models\",\n",
        "                                                           experiment_name=\"fine_tuning\")])"
      ],
      "metadata": {
        "id": "NLCDGgdAbPHc",
        "colab": {
          "base_uri": "https://localhost:8080/"
        },
        "outputId": "23837942-a95e-459b-cb59-d8671670d6e9"
      },
      "execution_count": null,
      "outputs": [
        {
          "output_type": "stream",
          "name": "stdout",
          "text": [
            "Saving TensorBoard log files to: models/fine_tuning/20220807-002721\n",
            "Epoch 3/8\n",
            "24/24 [==============================] - ETA: 0s - loss: 0.7951 - accuracy: 0.8093\n",
            "Epoch 3: saving model to model_checkpoints/checkpoint.ckpt\n",
            "24/24 [==============================] - 14s 260ms/step - loss: 0.7951 - accuracy: 0.8093 - val_loss: 0.6259 - val_accuracy: 0.8158\n",
            "Epoch 4/8\n",
            "23/24 [===========================>..] - ETA: 0s - loss: 0.6444 - accuracy: 0.8370\n",
            "Epoch 4: saving model to model_checkpoints/checkpoint.ckpt\n",
            "24/24 [==============================] - 4s 170ms/step - loss: 0.6443 - accuracy: 0.8387 - val_loss: 0.5618 - val_accuracy: 0.8339\n",
            "Epoch 5/8\n",
            "23/24 [===========================>..] - ETA: 0s - loss: 0.5174 - accuracy: 0.8859\n",
            "Epoch 5: saving model to model_checkpoints/checkpoint.ckpt\n",
            "24/24 [==============================] - 5s 201ms/step - loss: 0.5116 - accuracy: 0.8880 - val_loss: 0.5334 - val_accuracy: 0.8438\n",
            "Epoch 6/8\n",
            "23/24 [===========================>..] - ETA: 0s - loss: 0.4424 - accuracy: 0.9049\n",
            "Epoch 6: saving model to model_checkpoints/checkpoint.ckpt\n",
            "24/24 [==============================] - 5s 188ms/step - loss: 0.4411 - accuracy: 0.9053 - val_loss: 0.4804 - val_accuracy: 0.8618\n",
            "Epoch 7/8\n",
            "23/24 [===========================>..] - ETA: 0s - loss: 0.3979 - accuracy: 0.9212\n",
            "Epoch 7: saving model to model_checkpoints/checkpoint.ckpt\n",
            "24/24 [==============================] - 7s 250ms/step - loss: 0.4005 - accuracy: 0.9200 - val_loss: 0.4797 - val_accuracy: 0.8487\n",
            "Epoch 8/8\n",
            "23/24 [===========================>..] - ETA: 0s - loss: 0.3570 - accuracy: 0.9226\n",
            "Epoch 8: saving model to model_checkpoints/checkpoint.ckpt\n",
            "24/24 [==============================] - 5s 194ms/step - loss: 0.3604 - accuracy: 0.9227 - val_loss: 0.4532 - val_accuracy: 0.8602\n"
          ]
        }
      ]
    },
    {
      "cell_type": "code",
      "source": [
        "results = model.evaluate(test_data)"
      ],
      "metadata": {
        "colab": {
          "base_uri": "https://localhost:8080/"
        },
        "id": "DaWkfbQTsthr",
        "outputId": "5249ef2c-dcd6-4eb2-c390-e0ac64412894"
      },
      "execution_count": null,
      "outputs": [
        {
          "output_type": "stream",
          "name": "stdout",
          "text": [
            "79/79 [==============================] - 8s 88ms/step - loss: 0.4650 - accuracy: 0.8556\n"
          ]
        }
      ]
    },
    {
      "cell_type": "code",
      "source": [
        "plot_loss_curves(history) #need to reduce overfitting"
      ],
      "metadata": {
        "colab": {
          "base_uri": "https://localhost:8080/",
          "height": 573
        },
        "id": "mhH3YWk7tKT-",
        "outputId": "49f89ed8-d433-49e3-aac8-eb188fce9bc5"
      },
      "execution_count": null,
      "outputs": [
        {
          "output_type": "display_data",
          "data": {
            "text/plain": [
              "<Figure size 432x288 with 1 Axes>"
            ],
            "image/png": "[encoded data removed]"
          },
          "metadata": {
            "needs_background": "light"
          }
        },
        {
          "output_type": "display_data",
          "data": {
            "text/plain": [
              "<Figure size 432x288 with 1 Axes>"
            ],
            "image/png": "[encoded data removed]"
          },
          "metadata": {
            "needs_background": "light"
          }
        }
      ]
    },
    {
      "cell_type": "code",
      "source": [
        "#can revert back the fine tuning via loading the checkpoint weights"
      ],
      "metadata": {
        "id": "0bMCrcsutr9F"
      },
      "execution_count": null,
      "outputs": []
    }
  ]
}