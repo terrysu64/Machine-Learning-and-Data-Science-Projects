{
  "nbformat": 4,
  "nbformat_minor": 0,
  "metadata": {
    "colab": {
      "name": "fine-tuning.ipynb",
      "provenance": [],
      "collapsed_sections": [],
      "authorship_tag": "ABX9TyMtVaeiR758ln2qnaZveOSx",
      "include_colab_link": true
    },
    "kernelspec": {
      "name": "python3",
      "display_name": "Python 3"
    },
    "language_info": {
      "name": "python"
    },
    "accelerator": "GPU",
    "gpuClass": "standard"
  },
  "cells": [
    {
      "cell_type": "markdown",
      "metadata": {
        "id": "view-in-github",
        "colab_type": "text"
      },
      "source": [
        "<a href=\"https://colab.research.google.com/github/terrysu64/Machine-Learning-and-Data-Science-Projects/blob/main/fine_tuning.ipynb\" target=\"_parent\"><img src=\"https://colab.research.google.com/assets/colab-badge.svg\" alt=\"Open In Colab\"/></a>"
      ]
    },
    {
      "cell_type": "markdown",
      "source": [
        "# Transfer Learning - fine-tuning"
      ],
      "metadata": {
        "id": "lYASeTr98MbL"
      }
    },
    {
      "cell_type": "code",
      "execution_count": null,
      "metadata": {
        "colab": {
          "base_uri": "https://localhost:8080/"
        },
        "id": "xd0zmfgz8JAd",
        "outputId": "99a091bc-23e3-492c-8f34-6d96c948b824"
      },
      "outputs": [
        {
          "output_type": "stream",
          "name": "stdout",
          "text": [
            "Tue Aug  2 14:24:09 2022       \n",
            "+-----------------------------------------------------------------------------+\n",
            "| NVIDIA-SMI 460.32.03    Driver Version: 460.32.03    CUDA Version: 11.2     |\n",
            "|-------------------------------+----------------------+----------------------+\n",
            "| GPU  Name        Persistence-M| Bus-Id        Disp.A | Volatile Uncorr. ECC |\n",
            "| Fan  Temp  Perf  Pwr:Usage/Cap|         Memory-Usage | GPU-Util  Compute M. |\n",
            "|                               |                      |               MIG M. |\n",
            "|===============================+======================+======================|\n",
            "|   0  Tesla T4            Off  | 00000000:00:04.0 Off |                    0 |\n",
            "| N/A   57C    P8    10W /  70W |      0MiB / 15109MiB |      0%      Default |\n",
            "|                               |                      |                  N/A |\n",
            "+-------------------------------+----------------------+----------------------+\n",
            "                                                                               \n",
            "+-----------------------------------------------------------------------------+\n",
            "| Processes:                                                                  |\n",
            "|  GPU   GI   CI        PID   Type   Process name                  GPU Memory |\n",
            "|        ID   ID                                                   Usage      |\n",
            "|=============================================================================|\n",
            "|  No running processes found                                                 |\n",
            "+-----------------------------------------------------------------------------+\n"
          ]
        }
      ],
      "source": [
        "!nvidia-smi"
      ]
    },
    {
      "cell_type": "markdown",
      "source": [
        "### import helper functions"
      ],
      "metadata": {
        "id": "9S4nL7NI9GfD"
      }
    },
    {
      "cell_type": "code",
      "source": [
        "!wget https://raw.githubusercontent.com/mrdbourke/tensorflow-deep-learning/main/extras/helper_functions.py"
      ],
      "metadata": {
        "colab": {
          "base_uri": "https://localhost:8080/"
        },
        "id": "iKN0pYAu8UF6",
        "outputId": "07f0dd67-d598-474c-eafb-d79431ea809f"
      },
      "execution_count": null,
      "outputs": [
        {
          "output_type": "stream",
          "name": "stdout",
          "text": [
            "--2022-08-03 20:34:13--  https://raw.githubusercontent.com/mrdbourke/tensorflow-deep-learning/main/extras/helper_functions.py\n",
            "Resolving raw.githubusercontent.com (raw.githubusercontent.com)... 185.199.108.133, 185.199.109.133, 185.199.110.133, ...\n",
            "Connecting to raw.githubusercontent.com (raw.githubusercontent.com)|185.199.108.133|:443... connected.\n",
            "HTTP request sent, awaiting response... 200 OK\n",
            "Length: 10246 (10K) [text/plain]\n",
            "Saving to: ‘helper_functions.py’\n",
            "\n",
            "\rhelper_functions.py   0%[                    ]       0  --.-KB/s               \rhelper_functions.py 100%[===================>]  10.01K  --.-KB/s    in 0s      \n",
            "\n",
            "2022-08-03 20:34:13 (113 MB/s) - ‘helper_functions.py’ saved [10246/10246]\n",
            "\n"
          ]
        }
      ]
    },
    {
      "cell_type": "code",
      "source": [
        "from helper_functions import create_tensorboard_callback, plot_loss_curves, unzip_data, walk_through_dir"
      ],
      "metadata": {
        "id": "THWyiI7s9Bis"
      },
      "execution_count": null,
      "outputs": []
    },
    {
      "cell_type": "markdown",
      "source": [
        "### get data"
      ],
      "metadata": {
        "id": "176RHEWr-C7W"
      }
    },
    {
      "cell_type": "code",
      "source": [
        "!wget https://storage.googleapis.com/ztm_tf_course/food_vision/10_food_classes_10_percent.zip\n",
        "\n",
        "unzip_data(\"10_food_classes_10_percent.zip\")"
      ],
      "metadata": {
        "colab": {
          "base_uri": "https://localhost:8080/"
        },
        "id": "aMMtIjnO9w7S",
        "outputId": "eeba1374-3902-4cc1-ebd2-8088534b3f10"
      },
      "execution_count": null,
      "outputs": [
        {
          "output_type": "stream",
          "name": "stdout",
          "text": [
            "--2022-08-03 20:34:21--  https://storage.googleapis.com/ztm_tf_course/food_vision/10_food_classes_10_percent.zip\n",
            "Resolving storage.googleapis.com (storage.googleapis.com)... 74.125.124.128, 172.217.214.128, 108.177.111.128, ...\n",
            "Connecting to storage.googleapis.com (storage.googleapis.com)|74.125.124.128|:443... connected.\n",
            "HTTP request sent, awaiting response... 200 OK\n",
            "Length: 168546183 (161M) [application/zip]\n",
            "Saving to: ‘10_food_classes_10_percent.zip’\n",
            "\n",
            "10_food_classes_10_ 100%[===================>] 160.74M   204MB/s    in 0.8s    \n",
            "\n",
            "2022-08-03 20:34:22 (204 MB/s) - ‘10_food_classes_10_percent.zip’ saved [168546183/168546183]\n",
            "\n"
          ]
        }
      ]
    },
    {
      "cell_type": "code",
      "source": [
        "walk_through_dir(\"10_food_classes_10_percent\")"
      ],
      "metadata": {
        "colab": {
          "base_uri": "https://localhost:8080/"
        },
        "id": "uzbJxufD-RBO",
        "outputId": "df241d3d-7bec-4a2c-e593-ad5e43046189"
      },
      "execution_count": null,
      "outputs": [
        {
          "output_type": "stream",
          "name": "stdout",
          "text": [
            "There are 2 directories and 0 images in '10_food_classes_10_percent'.\n",
            "There are 10 directories and 0 images in '10_food_classes_10_percent/test'.\n",
            "There are 0 directories and 250 images in '10_food_classes_10_percent/test/grilled_salmon'.\n",
            "There are 0 directories and 250 images in '10_food_classes_10_percent/test/ramen'.\n",
            "There are 0 directories and 250 images in '10_food_classes_10_percent/test/chicken_wings'.\n",
            "There are 0 directories and 250 images in '10_food_classes_10_percent/test/hamburger'.\n",
            "There are 0 directories and 250 images in '10_food_classes_10_percent/test/pizza'.\n",
            "There are 0 directories and 250 images in '10_food_classes_10_percent/test/ice_cream'.\n",
            "There are 0 directories and 250 images in '10_food_classes_10_percent/test/chicken_curry'.\n",
            "There are 0 directories and 250 images in '10_food_classes_10_percent/test/steak'.\n",
            "There are 0 directories and 250 images in '10_food_classes_10_percent/test/fried_rice'.\n",
            "There are 0 directories and 250 images in '10_food_classes_10_percent/test/sushi'.\n",
            "There are 10 directories and 0 images in '10_food_classes_10_percent/train'.\n",
            "There are 0 directories and 75 images in '10_food_classes_10_percent/train/grilled_salmon'.\n",
            "There are 0 directories and 75 images in '10_food_classes_10_percent/train/ramen'.\n",
            "There are 0 directories and 75 images in '10_food_classes_10_percent/train/chicken_wings'.\n",
            "There are 0 directories and 75 images in '10_food_classes_10_percent/train/hamburger'.\n",
            "There are 0 directories and 75 images in '10_food_classes_10_percent/train/pizza'.\n",
            "There are 0 directories and 75 images in '10_food_classes_10_percent/train/ice_cream'.\n",
            "There are 0 directories and 75 images in '10_food_classes_10_percent/train/chicken_curry'.\n",
            "There are 0 directories and 75 images in '10_food_classes_10_percent/train/steak'.\n",
            "There are 0 directories and 75 images in '10_food_classes_10_percent/train/fried_rice'.\n",
            "There are 0 directories and 75 images in '10_food_classes_10_percent/train/sushi'.\n"
          ]
        }
      ]
    },
    {
      "cell_type": "code",
      "source": [
        "train_dir = \"10_food_classes_10_percent/train\"\n",
        "test_dir = \"10_food_classes_10_percent/test\""
      ],
      "metadata": {
        "id": "SlhVkRN7-Xkg"
      },
      "execution_count": null,
      "outputs": []
    },
    {
      "cell_type": "code",
      "source": [
        "import tensorflow as tf\n",
        "IMG_SIZE = (225,225); BATCH_SIZE = 32\n",
        "train_data = tf.keras.preprocessing.image_dataset_from_directory(directory=train_dir,\n",
        "                                                                 image_size=IMG_SIZE,\n",
        "                                                                 label_mode=\"categorical\",\n",
        "                                                                 batch_size=BATCH_SIZE)\n",
        "test_data = tf.keras.preprocessing.image_dataset_from_directory(directory=test_dir,\n",
        "                                                                 image_size=IMG_SIZE,\n",
        "                                                                 label_mode=\"categorical\",\n",
        "                                                                 batch_size=BATCH_SIZE)"
      ],
      "metadata": {
        "colab": {
          "base_uri": "https://localhost:8080/"
        },
        "id": "86Jre-Fb-3IJ",
        "outputId": "376282af-43e8-4a89-d7f5-21899ac234f6"
      },
      "execution_count": 41,
      "outputs": [
        {
          "output_type": "stream",
          "name": "stdout",
          "text": [
            "Found 750 files belonging to 10 classes.\n",
            "Found 2500 files belonging to 10 classes.\n"
          ]
        }
      ]
    },
    {
      "cell_type": "code",
      "source": [
        "train_data, train_data.class_names"
      ],
      "metadata": {
        "colab": {
          "base_uri": "https://localhost:8080/"
        },
        "id": "g7JWyQe7_QT0",
        "outputId": "76b239c0-aa0a-4785-9d21-739c6fac70e7"
      },
      "execution_count": 42,
      "outputs": [
        {
          "output_type": "execute_result",
          "data": {
            "text/plain": [
              "(<BatchDataset element_spec=(TensorSpec(shape=(None, 225, 225, 3), dtype=tf.float32, name=None), TensorSpec(shape=(None, 10), dtype=tf.float32, name=None))>,\n",
              " ['chicken_curry',\n",
              "  'chicken_wings',\n",
              "  'fried_rice',\n",
              "  'grilled_salmon',\n",
              "  'hamburger',\n",
              "  'ice_cream',\n",
              "  'pizza',\n",
              "  'ramen',\n",
              "  'steak',\n",
              "  'sushi'])"
            ]
          },
          "metadata": {},
          "execution_count": 42
        }
      ]
    },
    {
      "cell_type": "code",
      "source": [
        "#visualize a batch\n",
        "for imgs, labels in train_data.take(1):\n",
        "  print(imgs, labels)"
      ],
      "metadata": {
        "colab": {
          "base_uri": "https://localhost:8080/"
        },
        "id": "6OjZttuo_Wlf",
        "outputId": "c27d346b-2c22-405d-b675-13f640b2ac99"
      },
      "execution_count": 43,
      "outputs": [
        {
          "output_type": "stream",
          "name": "stdout",
          "text": [
            "tf.Tensor(\n",
            "[[[[7.22977066e+01 5.42977028e+01 3.05536728e+01]\n",
            "   [7.39296036e+01 5.68989792e+01 3.09602242e+01]\n",
            "   [9.71676331e+01 7.69787445e+01 4.97344475e+01]\n",
            "   ...\n",
            "   [2.31020908e+01 1.57243452e+01 5.91321802e+00]\n",
            "   [2.37054195e+01 1.67054195e+01 6.70542002e+00]\n",
            "   [1.88541870e+01 1.18541870e+01 1.85418665e+00]]\n",
            "\n",
            "  [[5.80148888e+01 4.16143990e+01 1.98593311e+01]\n",
            "   [1.04901466e+02 8.88962708e+01 6.41948013e+01]\n",
            "   [9.91771088e+01 8.16104431e+01 5.39193306e+01]\n",
            "   ...\n",
            "   [2.69513321e+01 2.09513321e+01 8.95133209e+00]\n",
            "   [2.67014599e+01 1.97014599e+01 9.70145988e+00]\n",
            "   [1.84910259e+01 1.14910259e+01 1.87500370e+00]]\n",
            "\n",
            "  [[8.61937103e+01 6.99603806e+01 5.31960793e+01]\n",
            "   [8.05915527e+01 6.52715530e+01 4.55982246e+01]\n",
            "   [1.04092964e+02 8.74377747e+01 6.36370354e+01]\n",
            "   ...\n",
            "   [2.71003437e+01 2.11003437e+01 8.81073761e+00]\n",
            "   [2.40397701e+01 1.78064365e+01 6.27310324e+00]\n",
            "   [1.96397991e+01 1.34064665e+01 2.04217958e+00]]\n",
            "\n",
            "  ...\n",
            "\n",
            "  [[7.84021225e+01 6.21223602e+01 3.59289742e+01]\n",
            "   [8.68292618e+01 6.76159439e+01 3.54632912e+01]\n",
            "   [1.23091446e+02 9.79910812e+01 5.82696114e+01]\n",
            "   ...\n",
            "   [6.64873505e+01 4.34765739e+01 1.73766289e+01]\n",
            "   [6.16997490e+01 3.81664238e+01 1.43997593e+01]\n",
            "   [5.85338326e+01 3.42338448e+01 1.24671803e+01]]\n",
            "\n",
            "  [[3.20916939e+01 2.05764141e+01 2.97913742e+00]\n",
            "   [5.43556824e+01 3.83823509e+01 1.36734314e+01]\n",
            "   [1.01437073e+02 7.80106277e+01 4.27686348e+01]\n",
            "   ...\n",
            "   [5.54413757e+01 3.38191223e+01 9.60758400e+00]\n",
            "   [6.58422623e+01 4.38422585e+01 2.27222652e+01]\n",
            "   [5.48983574e+01 3.19583549e+01 1.37783623e+01]]\n",
            "\n",
            "  [[4.21010284e+01 3.36197090e+01 2.07654724e+01]\n",
            "   [2.73838158e+01 1.44463062e+01 7.84622490e-01]\n",
            "   [7.96660690e+01 5.89772530e+01 2.48325882e+01]\n",
            "   ...\n",
            "   [5.85505295e+01 3.80260010e+01 1.54107161e+01]\n",
            "   [5.57300606e+01 3.47300606e+01 1.50846405e+01]\n",
            "   [6.24407349e+01 4.14407349e+01 2.44407330e+01]]]\n",
            "\n",
            "\n",
            " [[[0.00000000e+00 0.00000000e+00 0.00000000e+00]\n",
            "   [0.00000000e+00 0.00000000e+00 0.00000000e+00]\n",
            "   [0.00000000e+00 0.00000000e+00 0.00000000e+00]\n",
            "   ...\n",
            "   [0.00000000e+00 0.00000000e+00 0.00000000e+00]\n",
            "   [0.00000000e+00 0.00000000e+00 0.00000000e+00]\n",
            "   [0.00000000e+00 0.00000000e+00 0.00000000e+00]]\n",
            "\n",
            "  [[0.00000000e+00 0.00000000e+00 0.00000000e+00]\n",
            "   [0.00000000e+00 0.00000000e+00 0.00000000e+00]\n",
            "   [0.00000000e+00 0.00000000e+00 0.00000000e+00]\n",
            "   ...\n",
            "   [0.00000000e+00 0.00000000e+00 0.00000000e+00]\n",
            "   [0.00000000e+00 0.00000000e+00 0.00000000e+00]\n",
            "   [0.00000000e+00 0.00000000e+00 0.00000000e+00]]\n",
            "\n",
            "  [[0.00000000e+00 0.00000000e+00 0.00000000e+00]\n",
            "   [0.00000000e+00 0.00000000e+00 0.00000000e+00]\n",
            "   [0.00000000e+00 0.00000000e+00 0.00000000e+00]\n",
            "   ...\n",
            "   [0.00000000e+00 0.00000000e+00 0.00000000e+00]\n",
            "   [0.00000000e+00 0.00000000e+00 0.00000000e+00]\n",
            "   [0.00000000e+00 0.00000000e+00 0.00000000e+00]]\n",
            "\n",
            "  ...\n",
            "\n",
            "  [[0.00000000e+00 0.00000000e+00 0.00000000e+00]\n",
            "   [0.00000000e+00 0.00000000e+00 0.00000000e+00]\n",
            "   [0.00000000e+00 0.00000000e+00 0.00000000e+00]\n",
            "   ...\n",
            "   [0.00000000e+00 0.00000000e+00 0.00000000e+00]\n",
            "   [0.00000000e+00 0.00000000e+00 0.00000000e+00]\n",
            "   [0.00000000e+00 0.00000000e+00 0.00000000e+00]]\n",
            "\n",
            "  [[0.00000000e+00 0.00000000e+00 0.00000000e+00]\n",
            "   [0.00000000e+00 0.00000000e+00 0.00000000e+00]\n",
            "   [0.00000000e+00 0.00000000e+00 0.00000000e+00]\n",
            "   ...\n",
            "   [0.00000000e+00 0.00000000e+00 0.00000000e+00]\n",
            "   [0.00000000e+00 0.00000000e+00 0.00000000e+00]\n",
            "   [0.00000000e+00 0.00000000e+00 0.00000000e+00]]\n",
            "\n",
            "  [[0.00000000e+00 0.00000000e+00 0.00000000e+00]\n",
            "   [0.00000000e+00 0.00000000e+00 0.00000000e+00]\n",
            "   [0.00000000e+00 0.00000000e+00 0.00000000e+00]\n",
            "   ...\n",
            "   [0.00000000e+00 0.00000000e+00 0.00000000e+00]\n",
            "   [0.00000000e+00 0.00000000e+00 0.00000000e+00]\n",
            "   [0.00000000e+00 0.00000000e+00 0.00000000e+00]]]\n",
            "\n",
            "\n",
            " [[[0.00000000e+00 9.72444439e+00 3.17244453e+01]\n",
            "   [0.00000000e+00 9.91333389e+00 3.19133339e+01]\n",
            "   [1.88889027e-01 7.81111097e+00 3.10000000e+01]\n",
            "   ...\n",
            "   [1.04644289e+01 1.02755556e+01 9.89780903e+00]\n",
            "   [8.22027969e+00 9.22027969e+00 1.12202797e+01]\n",
            "   [7.27555561e+00 8.27555561e+00 1.02755556e+01]]\n",
            "\n",
            "  [[0.00000000e+00 9.72444439e+00 3.17244453e+01]\n",
            "   [0.00000000e+00 9.91333389e+00 3.19133339e+01]\n",
            "   [1.88889027e-01 7.81111097e+00 3.10000000e+01]\n",
            "   ...\n",
            "   [1.22052422e+01 1.20163689e+01 1.16386223e+01]\n",
            "   [1.10791550e+01 1.10791550e+01 1.10791550e+01]\n",
            "   [1.00000000e+01 1.10000000e+01 1.30000000e+01]]\n",
            "\n",
            "  [[0.00000000e+00 9.72444439e+00 2.97244453e+01]\n",
            "   [0.00000000e+00 9.91333389e+00 2.99133339e+01]\n",
            "   [1.88889027e-01 7.81111097e+00 2.93064194e+01]\n",
            "   ...\n",
            "   [9.71984863e+00 9.37776184e+00 8.69359016e+00]\n",
            "   [8.00000000e+00 8.00000000e+00 8.00000000e+00]\n",
            "   [8.55113220e+00 8.55113220e+00 1.01733551e+01]]\n",
            "\n",
            "  ...\n",
            "\n",
            "  [[2.06241760e+02 2.26241760e+02 2.26864014e+02]\n",
            "   [2.08551132e+02 2.28551132e+02 2.29173386e+02]\n",
            "   [2.09188904e+02 2.29188904e+02 2.29811157e+02]\n",
            "   ...\n",
            "   [1.82071350e+02 2.02964325e+02 1.86306396e+02]\n",
            "   [1.82259171e+02 2.03070297e+02 1.88636917e+02]\n",
            "   [1.83000000e+02 2.03000000e+02 1.91000000e+02]]\n",
            "\n",
            "  [[2.06023880e+02 2.27023880e+02 2.28023880e+02]\n",
            "   [2.06007507e+02 2.27007507e+02 2.28007507e+02]\n",
            "   [2.08275558e+02 2.29275558e+02 2.30275558e+02]\n",
            "   ...\n",
            "   [1.81810287e+02 2.02810287e+02 1.85432541e+02]\n",
            "   [1.81007507e+02 2.02007507e+02 1.87007507e+02]\n",
            "   [1.79173340e+02 2.02173340e+02 1.86173340e+02]]\n",
            "\n",
            "  [[2.07637802e+02 2.28637802e+02 2.31637802e+02]\n",
            "   [2.06535583e+02 2.27535583e+02 2.30535583e+02]\n",
            "   [2.10362244e+02 2.31362244e+02 2.32362244e+02]\n",
            "   ...\n",
            "   [1.79241791e+02 2.00241791e+02 1.82864044e+02]\n",
            "   [1.79637756e+02 2.02637756e+02 1.86637756e+02]\n",
            "   [1.80275513e+02 2.03275513e+02 1.87275513e+02]]]\n",
            "\n",
            "\n",
            " ...\n",
            "\n",
            "\n",
            " [[[1.14782127e+02 5.77821274e+01 4.95065727e+01]\n",
            "   [1.09315277e+02 5.71419411e+01 4.42286072e+01]\n",
            "   [1.01554619e+02 5.16066666e+01 5.16195297e+01]\n",
            "   ...\n",
            "   [1.22724442e+02 3.77244453e+01 6.07244453e+01]\n",
            "   [1.17905823e+02 3.29058228e+01 5.59058228e+01]\n",
            "   [1.22275642e+02 3.72756424e+01 6.02756424e+01]]\n",
            "\n",
            "  [[1.10346664e+02 5.29844437e+01 4.70711136e+01]\n",
            "   [1.05520004e+02 5.33466644e+01 4.24333305e+01]\n",
            "   [1.00968887e+02 5.11577797e+01 5.14472580e+01]\n",
            "   ...\n",
            "   [1.21464417e+02 3.64644127e+01 5.94644127e+01]\n",
            "   [1.21000000e+02 3.60000000e+01 5.90000000e+01]\n",
            "   [1.20787209e+02 3.57872124e+01 5.87872124e+01]]\n",
            "\n",
            "  [[1.12467133e+02 5.63968391e+01 5.44990616e+01]\n",
            "   [1.05330292e+02 5.50702972e+01 4.65347404e+01]\n",
            "   [1.02055557e+02 5.36777763e+01 5.53777771e+01]\n",
            "   ...\n",
            "   [1.20602325e+02 3.56023293e+01 5.86023293e+01]\n",
            "   [1.22692520e+02 3.76925201e+01 6.06925201e+01]\n",
            "   [1.22882202e+02 3.78822021e+01 6.08822021e+01]]\n",
            "\n",
            "  ...\n",
            "\n",
            "  [[1.05346695e+02 8.03466949e+01 7.55355682e+01]\n",
            "   [1.03794754e+02 7.87947540e+01 7.37947540e+01]\n",
            "   [1.06602325e+02 8.12245483e+01 7.58467712e+01]\n",
            "   ...\n",
            "   [1.94690533e+01 1.04690533e+01 3.98467979e+01]\n",
            "   [2.20319023e+01 1.30319033e+01 4.24096489e+01]\n",
            "   [1.97399902e+01 1.07399902e+01 4.01177368e+01]]\n",
            "\n",
            "  [[1.05826660e+02 8.08266602e+01 7.58266602e+01]\n",
            "   [1.04086670e+02 7.90866699e+01 7.20866699e+01]\n",
            "   [1.03307480e+02 7.79297028e+01 7.09297028e+01]\n",
            "   ...\n",
            "   [2.43786125e+01 1.56377869e+01 4.18602676e+01]\n",
            "   [2.46683445e+01 1.58341722e+01 4.23366890e+01]\n",
            "   [2.29058132e+01 1.43233309e+01 4.00707779e+01]]\n",
            "\n",
            "  [[9.80575943e+01 7.30575943e+01 6.60575943e+01]\n",
            "   [9.99685440e+01 7.49685440e+01 6.79685440e+01]\n",
            "   [9.94799347e+01 7.41021576e+01 6.71021576e+01]\n",
            "   ...\n",
            "   [2.20501976e+01 1.40501966e+01 3.80501976e+01]\n",
            "   [2.30158920e+01 1.50158930e+01 3.90158920e+01]\n",
            "   [2.27375584e+01 1.47375593e+01 3.87375603e+01]]]\n",
            "\n",
            "\n",
            " [[[2.38000000e+02 2.41000000e+02 2.46000000e+02]\n",
            "   [2.38000000e+02 2.41000000e+02 2.46000000e+02]\n",
            "   [2.38000000e+02 2.41000000e+02 2.46000000e+02]\n",
            "   ...\n",
            "   [2.33000000e+02 2.36000000e+02 2.41000000e+02]\n",
            "   [2.33000000e+02 2.36000000e+02 2.41000000e+02]\n",
            "   [2.33000000e+02 2.36000000e+02 2.41000000e+02]]\n",
            "\n",
            "  [[2.38000000e+02 2.41000000e+02 2.46000000e+02]\n",
            "   [2.38000000e+02 2.41000000e+02 2.46000000e+02]\n",
            "   [2.38000000e+02 2.41000000e+02 2.46000000e+02]\n",
            "   ...\n",
            "   [2.33000000e+02 2.36000000e+02 2.41000000e+02]\n",
            "   [2.33000000e+02 2.36000000e+02 2.41000000e+02]\n",
            "   [2.33000000e+02 2.36000000e+02 2.41000000e+02]]\n",
            "\n",
            "  [[2.38000000e+02 2.41000000e+02 2.46000000e+02]\n",
            "   [2.38000000e+02 2.41000000e+02 2.46000000e+02]\n",
            "   [2.38000000e+02 2.41000000e+02 2.46000000e+02]\n",
            "   ...\n",
            "   [2.33000000e+02 2.36000000e+02 2.41000000e+02]\n",
            "   [2.33000000e+02 2.36000000e+02 2.41000000e+02]\n",
            "   [2.33000000e+02 2.36000000e+02 2.41000000e+02]]\n",
            "\n",
            "  ...\n",
            "\n",
            "  [[2.30000000e+02 2.33000000e+02 2.38000000e+02]\n",
            "   [2.30000000e+02 2.33000000e+02 2.38000000e+02]\n",
            "   [2.30000000e+02 2.33000000e+02 2.38000000e+02]\n",
            "   ...\n",
            "   [2.34811127e+02 2.34811127e+02 2.36811127e+02]\n",
            "   [2.35000000e+02 2.35000000e+02 2.37000000e+02]\n",
            "   [2.34000000e+02 2.34000000e+02 2.36000000e+02]]\n",
            "\n",
            "  [[2.30000000e+02 2.33000000e+02 2.38000000e+02]\n",
            "   [2.30000000e+02 2.33000000e+02 2.38000000e+02]\n",
            "   [2.30000000e+02 2.33000000e+02 2.38000000e+02]\n",
            "   ...\n",
            "   [2.34811127e+02 2.34811127e+02 2.36811127e+02]\n",
            "   [2.35000000e+02 2.35000000e+02 2.37000000e+02]\n",
            "   [2.34000000e+02 2.34000000e+02 2.36000000e+02]]\n",
            "\n",
            "  [[2.29257782e+02 2.32257782e+02 2.37257782e+02]\n",
            "   [2.29257782e+02 2.32257782e+02 2.37257782e+02]\n",
            "   [2.29257782e+02 2.32257782e+02 2.37257782e+02]\n",
            "   ...\n",
            "   [2.34811127e+02 2.34811127e+02 2.36811127e+02]\n",
            "   [2.35000000e+02 2.35000000e+02 2.37000000e+02]\n",
            "   [2.34000000e+02 2.34000000e+02 2.36000000e+02]]]\n",
            "\n",
            "\n",
            " [[[1.45985962e+02 7.71852722e+01 7.02741623e+01]\n",
            "   [1.51620407e+02 9.31074677e+01 8.60408020e+01]\n",
            "   [1.54679703e+02 1.08218147e+02 1.03834000e+02]\n",
            "   ...\n",
            "   [1.40601608e+02 1.20246292e+02 9.90539780e+01]\n",
            "   [1.29781265e+02 1.05038368e+02 8.80025406e+01]\n",
            "   [1.20512100e+02 9.42859802e+01 7.12013855e+01]]\n",
            "\n",
            "  [[1.57479996e+02 1.43591644e+02 1.28915558e+02]\n",
            "   [1.56293732e+02 1.46394943e+02 1.33254929e+02]\n",
            "   [1.51380005e+02 1.46767105e+02 1.36553116e+02]\n",
            "   ...\n",
            "   [1.42945328e+02 1.22304192e+02 1.02782898e+02]\n",
            "   [1.29415298e+02 9.51258011e+01 7.33241806e+01]\n",
            "   [1.25436920e+02 7.05341721e+01 3.44336739e+01]]\n",
            "\n",
            "  [[1.59642517e+02 1.43199997e+02 1.32933334e+02]\n",
            "   [1.59697113e+02 1.41403778e+02 1.34927551e+02]\n",
            "   [1.59657043e+02 1.39077774e+02 1.36182587e+02]\n",
            "   ...\n",
            "   [1.43393707e+02 1.17647827e+02 9.67464066e+01]\n",
            "   [1.05930679e+02 7.29099655e+01 5.15519524e+01]\n",
            "   [1.19384354e+02 5.94727936e+01 2.10736504e+01]]\n",
            "\n",
            "  ...\n",
            "\n",
            "  [[1.50614105e+02 2.36474514e+01 3.05473843e+01]\n",
            "   [1.57184906e+02 2.81181850e+01 3.31515388e+01]\n",
            "   [1.54997086e+02 2.92936993e+01 3.21318665e+01]\n",
            "   ...\n",
            "   [1.21577881e+02 1.05445251e+01 3.37951279e+00]\n",
            "   [1.25149712e+02 1.39992208e+01 7.55654097e+00]\n",
            "   [1.24221405e+02 1.21880512e+01 8.45489693e+00]]\n",
            "\n",
            "  [[1.50641724e+02 2.32287865e+01 3.06417255e+01]\n",
            "   [1.57012131e+02 3.12725391e+01 3.55325394e+01]\n",
            "   [1.53657104e+02 2.96570988e+01 3.15135422e+01]\n",
            "   ...\n",
            "   [1.25657776e+02 1.35177612e+01 8.94359398e+00]\n",
            "   [1.25160423e+02 1.30204096e+01 8.30043888e+00]\n",
            "   [1.22504616e+02 1.03646040e+01 5.64463329e+00]]\n",
            "\n",
            "  [[1.52811249e+02 2.47245712e+01 3.38231850e+01]\n",
            "   [1.50964157e+02 2.73775005e+01 3.08441658e+01]\n",
            "   [1.50413635e+02 2.77005901e+01 2.73923626e+01]\n",
            "   ...\n",
            "   [1.32251404e+02 1.74580727e+01 2.17244263e+01]\n",
            "   [1.34311249e+02 1.95179119e+01 2.31404057e+01]\n",
            "   [1.31047394e+02 1.62540550e+01 1.84273949e+01]]]], shape=(32, 225, 225, 3), dtype=float32) tf.Tensor(\n",
            "[[0. 0. 0. 1. 0. 0. 0. 0. 0. 0.]\n",
            " [0. 0. 0. 0. 0. 0. 0. 0. 0. 1.]\n",
            " [0. 0. 0. 1. 0. 0. 0. 0. 0. 0.]\n",
            " [0. 0. 0. 0. 0. 1. 0. 0. 0. 0.]\n",
            " [0. 0. 0. 1. 0. 0. 0. 0. 0. 0.]\n",
            " [0. 0. 0. 0. 1. 0. 0. 0. 0. 0.]\n",
            " [0. 0. 0. 0. 0. 0. 0. 0. 1. 0.]\n",
            " [0. 0. 0. 0. 0. 0. 0. 0. 0. 1.]\n",
            " [0. 0. 0. 1. 0. 0. 0. 0. 0. 0.]\n",
            " [1. 0. 0. 0. 0. 0. 0. 0. 0. 0.]\n",
            " [0. 0. 0. 0. 0. 0. 0. 0. 1. 0.]\n",
            " [0. 0. 0. 0. 0. 0. 0. 0. 1. 0.]\n",
            " [0. 0. 0. 0. 0. 0. 1. 0. 0. 0.]\n",
            " [1. 0. 0. 0. 0. 0. 0. 0. 0. 0.]\n",
            " [0. 0. 0. 0. 0. 0. 0. 0. 1. 0.]\n",
            " [0. 1. 0. 0. 0. 0. 0. 0. 0. 0.]\n",
            " [0. 0. 0. 0. 0. 0. 1. 0. 0. 0.]\n",
            " [0. 0. 1. 0. 0. 0. 0. 0. 0. 0.]\n",
            " [0. 0. 0. 0. 0. 0. 1. 0. 0. 0.]\n",
            " [0. 0. 0. 1. 0. 0. 0. 0. 0. 0.]\n",
            " [0. 1. 0. 0. 0. 0. 0. 0. 0. 0.]\n",
            " [0. 0. 0. 0. 0. 0. 0. 1. 0. 0.]\n",
            " [0. 0. 0. 0. 0. 1. 0. 0. 0. 0.]\n",
            " [0. 0. 0. 0. 0. 0. 0. 1. 0. 0.]\n",
            " [1. 0. 0. 0. 0. 0. 0. 0. 0. 0.]\n",
            " [0. 0. 0. 0. 1. 0. 0. 0. 0. 0.]\n",
            " [0. 0. 1. 0. 0. 0. 0. 0. 0. 0.]\n",
            " [0. 0. 0. 0. 1. 0. 0. 0. 0. 0.]\n",
            " [0. 0. 0. 0. 0. 0. 0. 0. 1. 0.]\n",
            " [0. 0. 0. 0. 0. 0. 0. 0. 0. 1.]\n",
            " [0. 0. 0. 0. 1. 0. 0. 0. 0. 0.]\n",
            " [0. 0. 0. 0. 0. 0. 1. 0. 0. 0.]], shape=(32, 10), dtype=float32)\n"
          ]
        }
      ]
    },
    {
      "cell_type": "markdown",
      "source": [
        "### experiment 1: pure feature extraction + data augmentation"
      ],
      "metadata": {
        "id": "9Agb_E56G7OI"
      }
    },
    {
      "cell_type": "code",
      "source": [
        "from tensorflow.keras.layers.experimental import preprocessing as pre #augments on gpu and only during train\n",
        "import matplotlib.image as mpimg\n",
        "import matplotlib.pyplot as plt\n",
        "import random\n",
        "import os\n",
        "\n",
        "data_aug = tf.keras.Sequential([\n",
        "    pre.RandomFlip(\"horizontal\"),\n",
        "    pre.RandomRotation(0.2),\n",
        "    pre.RandomZoom(0.2)\n",
        "], name=\"data_augmentation\")\n",
        "\n",
        "target_class = random.choice(train_data.class_names)\n",
        "target_dir = ''.join([train_dir,'/',target_class])\n",
        "img = ''.join([target_dir,\n",
        "               '/',\n",
        "               random.choice(os.listdir(target_dir))])\n",
        "\n",
        "aug_img = data_aug(mpimg.imread(img))\n",
        "plt.title('augmented random image')\n",
        "plt.imshow(aug_img/255)"
      ],
      "metadata": {
        "id": "9godg4bojD4O",
        "colab": {
          "base_uri": "https://localhost:8080/",
          "height": 269
        },
        "outputId": "a2ce0cc6-ba95-48e4-ec19-a849c1d02100"
      },
      "execution_count": 46,
      "outputs": [
        {
          "output_type": "execute_result",
          "data": {
            "text/plain": [
              "<matplotlib.image.AxesImage at 0x7ff55e8dc4d0>"
            ]
          },
          "metadata": {},
          "execution_count": 46
        },
        {
          "output_type": "display_data",
          "data": {
            "text/plain": [
              "<Figure size 432x288 with 1 Axes>"
            ],
            "image/png": "[encoded data removed]"
          },
          "metadata": {
            "needs_background": "light"
          }
        }
      ]
    },
    {
      "cell_type": "code",
      "source": [
        "base_model = tf.keras.applications.EfficientNetB0(include_top=False)\n",
        "base_model.trainable = False\n",
        "\n",
        "inputs = tf.keras.layers.Input(shape=(IMG_SIZE)+(3,), name=\"input_layer\") #normalizing not needed for efficientnet\n",
        "#x = data_aug(inputs, training=True)\n",
        "x = base_model(inputs)\n",
        "print(x.shape)\n",
        "x = tf.keras.layers.GlobalAveragePooling2D(name=\"pooling_layer\")(x)\n",
        "print(x.shape)\n",
        "x = tf.keras.layers.Flatten()(x)\n",
        "outputs = tf.keras.layers.Dense(10, activation=\"softmax\", name=\"output_layer\")(x)\n",
        "\n",
        "model = tf.keras.Model(inputs, outputs)"
      ],
      "metadata": {
        "colab": {
          "base_uri": "https://localhost:8080/"
        },
        "id": "8fwkF-myAAtY",
        "outputId": "e6721b1d-327d-4de8-afdc-18e3617b88d3"
      },
      "execution_count": 61,
      "outputs": [
        {
          "output_type": "stream",
          "name": "stdout",
          "text": [
            "(None, 7, 7, 1280)\n",
            "(None, 1280)\n"
          ]
        }
      ]
    },
    {
      "cell_type": "code",
      "source": [
        "model.compile(loss=\"categorical_crossentropy\",\n",
        "              optimizer=tf.keras.optimizers.Adam(),\n",
        "              metrics=[\"accuracy\"])"
      ],
      "metadata": {
        "id": "fwuAwoHPDYXZ"
      },
      "execution_count": 62,
      "outputs": []
    },
    {
      "cell_type": "code",
      "source": [
        "#model checkpoint callback\n",
        "save_path = \"model_checkpoints/checkpoint.ckpt\"\n",
        "checkpoint_callback = tf.keras.callbacks.ModelCheckpoint(filepath=save_path,\n",
        "                                                         save_weights_only=True,\n",
        "                                                         save_best_only=False,\n",
        "                                                         save_freq=\"epoch\",\n",
        "                                                         verbose=1)"
      ],
      "metadata": {
        "id": "gfb3lNTpu--e"
      },
      "execution_count": 63,
      "outputs": []
    },
    {
      "cell_type": "code",
      "source": [
        "history = model.fit(train_data,\n",
        "                    epochs=3,\n",
        "                    steps_per_epoch=len(train_data),\n",
        "                    validation_data=test_data,\n",
        "                    validation_steps=int(len(test_data)/4),\n",
        "                    callbacks=[checkpoint_callback,\n",
        "                               create_tensorboard_callback(dir_name=\"models\",\n",
        "                                                           experiment_name=\"feature_extraction\")])"
      ],
      "metadata": {
        "colab": {
          "base_uri": "https://localhost:8080/"
        },
        "id": "xDXWQVL7EhPf",
        "outputId": "ac1c9ce9-c0ef-40ad-9fef-7913a6600aab"
      },
      "execution_count": 64,
      "outputs": [
        {
          "output_type": "stream",
          "name": "stdout",
          "text": [
            "Saving TensorBoard log files to: models/feature_extraction/20220803-220801\n",
            "Epoch 1/3\n",
            "23/24 [===========================>..] - ETA: 0s - loss: 1.8967 - accuracy: 0.4212\n",
            "Epoch 1: saving model to model_checkpoints/checkpoint.ckpt\n",
            "24/24 [==============================] - 13s 259ms/step - loss: 1.8905 - accuracy: 0.4213 - val_loss: 1.3476 - val_accuracy: 0.6941\n",
            "Epoch 2/3\n",
            "23/24 [===========================>..] - ETA: 0s - loss: 1.1370 - accuracy: 0.7622\n",
            "Epoch 2: saving model to model_checkpoints/checkpoint.ckpt\n",
            "24/24 [==============================] - 4s 167ms/step - loss: 1.1354 - accuracy: 0.7613 - val_loss: 0.8989 - val_accuracy: 0.7993\n",
            "Epoch 3/3\n",
            "23/24 [===========================>..] - ETA: 0s - loss: 0.8429 - accuracy: 0.8043\n",
            "Epoch 3: saving model to model_checkpoints/checkpoint.ckpt\n",
            "24/24 [==============================] - 5s 202ms/step - loss: 0.8411 - accuracy: 0.8040 - val_loss: 0.7388 - val_accuracy: 0.8141\n"
          ]
        }
      ]
    },
    {
      "cell_type": "code",
      "source": [
        "model.evaluate(test_data)"
      ],
      "metadata": {
        "colab": {
          "base_uri": "https://localhost:8080/"
        },
        "id": "OqS-rE5YFMaJ",
        "outputId": "81febe6a-e145-4e2e-eb2f-d1d207129fdf"
      },
      "execution_count": 65,
      "outputs": [
        {
          "output_type": "stream",
          "name": "stdout",
          "text": [
            "79/79 [==============================] - 6s 73ms/step - loss: 0.7489 - accuracy: 0.8132\n"
          ]
        },
        {
          "output_type": "execute_result",
          "data": {
            "text/plain": [
              "[0.7488507032394409, 0.8131999969482422]"
            ]
          },
          "metadata": {},
          "execution_count": 65
        }
      ]
    },
    {
      "cell_type": "code",
      "source": [
        "for i,layer in enumerate(base_model.layers): print(i, layer.name)"
      ],
      "metadata": {
        "id": "b7YP6FdAFqg-",
        "colab": {
          "base_uri": "https://localhost:8080/"
        },
        "outputId": "adf994f2-b823-4158-908e-26cc64672959"
      },
      "execution_count": 66,
      "outputs": [
        {
          "output_type": "stream",
          "name": "stdout",
          "text": [
            "0 input_18\n",
            "1 rescaling_15\n",
            "2 normalization_15\n",
            "3 stem_conv_pad\n",
            "4 stem_conv\n",
            "5 stem_bn\n",
            "6 stem_activation\n",
            "7 block1a_dwconv\n",
            "8 block1a_bn\n",
            "9 block1a_activation\n",
            "10 block1a_se_squeeze\n",
            "11 block1a_se_reshape\n",
            "12 block1a_se_reduce\n",
            "13 block1a_se_expand\n",
            "14 block1a_se_excite\n",
            "15 block1a_project_conv\n",
            "16 block1a_project_bn\n",
            "17 block2a_expand_conv\n",
            "18 block2a_expand_bn\n",
            "19 block2a_expand_activation\n",
            "20 block2a_dwconv_pad\n",
            "21 block2a_dwconv\n",
            "22 block2a_bn\n",
            "23 block2a_activation\n",
            "24 block2a_se_squeeze\n",
            "25 block2a_se_reshape\n",
            "26 block2a_se_reduce\n",
            "27 block2a_se_expand\n",
            "28 block2a_se_excite\n",
            "29 block2a_project_conv\n",
            "30 block2a_project_bn\n",
            "31 block2b_expand_conv\n",
            "32 block2b_expand_bn\n",
            "33 block2b_expand_activation\n",
            "34 block2b_dwconv\n",
            "35 block2b_bn\n",
            "36 block2b_activation\n",
            "37 block2b_se_squeeze\n",
            "38 block2b_se_reshape\n",
            "39 block2b_se_reduce\n",
            "40 block2b_se_expand\n",
            "41 block2b_se_excite\n",
            "42 block2b_project_conv\n",
            "43 block2b_project_bn\n",
            "44 block2b_drop\n",
            "45 block2b_add\n",
            "46 block3a_expand_conv\n",
            "47 block3a_expand_bn\n",
            "48 block3a_expand_activation\n",
            "49 block3a_dwconv_pad\n",
            "50 block3a_dwconv\n",
            "51 block3a_bn\n",
            "52 block3a_activation\n",
            "53 block3a_se_squeeze\n",
            "54 block3a_se_reshape\n",
            "55 block3a_se_reduce\n",
            "56 block3a_se_expand\n",
            "57 block3a_se_excite\n",
            "58 block3a_project_conv\n",
            "59 block3a_project_bn\n",
            "60 block3b_expand_conv\n",
            "61 block3b_expand_bn\n",
            "62 block3b_expand_activation\n",
            "63 block3b_dwconv\n",
            "64 block3b_bn\n",
            "65 block3b_activation\n",
            "66 block3b_se_squeeze\n",
            "67 block3b_se_reshape\n",
            "68 block3b_se_reduce\n",
            "69 block3b_se_expand\n",
            "70 block3b_se_excite\n",
            "71 block3b_project_conv\n",
            "72 block3b_project_bn\n",
            "73 block3b_drop\n",
            "74 block3b_add\n",
            "75 block4a_expand_conv\n",
            "76 block4a_expand_bn\n",
            "77 block4a_expand_activation\n",
            "78 block4a_dwconv_pad\n",
            "79 block4a_dwconv\n",
            "80 block4a_bn\n",
            "81 block4a_activation\n",
            "82 block4a_se_squeeze\n",
            "83 block4a_se_reshape\n",
            "84 block4a_se_reduce\n",
            "85 block4a_se_expand\n",
            "86 block4a_se_excite\n",
            "87 block4a_project_conv\n",
            "88 block4a_project_bn\n",
            "89 block4b_expand_conv\n",
            "90 block4b_expand_bn\n",
            "91 block4b_expand_activation\n",
            "92 block4b_dwconv\n",
            "93 block4b_bn\n",
            "94 block4b_activation\n",
            "95 block4b_se_squeeze\n",
            "96 block4b_se_reshape\n",
            "97 block4b_se_reduce\n",
            "98 block4b_se_expand\n",
            "99 block4b_se_excite\n",
            "100 block4b_project_conv\n",
            "101 block4b_project_bn\n",
            "102 block4b_drop\n",
            "103 block4b_add\n",
            "104 block4c_expand_conv\n",
            "105 block4c_expand_bn\n",
            "106 block4c_expand_activation\n",
            "107 block4c_dwconv\n",
            "108 block4c_bn\n",
            "109 block4c_activation\n",
            "110 block4c_se_squeeze\n",
            "111 block4c_se_reshape\n",
            "112 block4c_se_reduce\n",
            "113 block4c_se_expand\n",
            "114 block4c_se_excite\n",
            "115 block4c_project_conv\n",
            "116 block4c_project_bn\n",
            "117 block4c_drop\n",
            "118 block4c_add\n",
            "119 block5a_expand_conv\n",
            "120 block5a_expand_bn\n",
            "121 block5a_expand_activation\n",
            "122 block5a_dwconv\n",
            "123 block5a_bn\n",
            "124 block5a_activation\n",
            "125 block5a_se_squeeze\n",
            "126 block5a_se_reshape\n",
            "127 block5a_se_reduce\n",
            "128 block5a_se_expand\n",
            "129 block5a_se_excite\n",
            "130 block5a_project_conv\n",
            "131 block5a_project_bn\n",
            "132 block5b_expand_conv\n",
            "133 block5b_expand_bn\n",
            "134 block5b_expand_activation\n",
            "135 block5b_dwconv\n",
            "136 block5b_bn\n",
            "137 block5b_activation\n",
            "138 block5b_se_squeeze\n",
            "139 block5b_se_reshape\n",
            "140 block5b_se_reduce\n",
            "141 block5b_se_expand\n",
            "142 block5b_se_excite\n",
            "143 block5b_project_conv\n",
            "144 block5b_project_bn\n",
            "145 block5b_drop\n",
            "146 block5b_add\n",
            "147 block5c_expand_conv\n",
            "148 block5c_expand_bn\n",
            "149 block5c_expand_activation\n",
            "150 block5c_dwconv\n",
            "151 block5c_bn\n",
            "152 block5c_activation\n",
            "153 block5c_se_squeeze\n",
            "154 block5c_se_reshape\n",
            "155 block5c_se_reduce\n",
            "156 block5c_se_expand\n",
            "157 block5c_se_excite\n",
            "158 block5c_project_conv\n",
            "159 block5c_project_bn\n",
            "160 block5c_drop\n",
            "161 block5c_add\n",
            "162 block6a_expand_conv\n",
            "163 block6a_expand_bn\n",
            "164 block6a_expand_activation\n",
            "165 block6a_dwconv_pad\n",
            "166 block6a_dwconv\n",
            "167 block6a_bn\n",
            "168 block6a_activation\n",
            "169 block6a_se_squeeze\n",
            "170 block6a_se_reshape\n",
            "171 block6a_se_reduce\n",
            "172 block6a_se_expand\n",
            "173 block6a_se_excite\n",
            "174 block6a_project_conv\n",
            "175 block6a_project_bn\n",
            "176 block6b_expand_conv\n",
            "177 block6b_expand_bn\n",
            "178 block6b_expand_activation\n",
            "179 block6b_dwconv\n",
            "180 block6b_bn\n",
            "181 block6b_activation\n",
            "182 block6b_se_squeeze\n",
            "183 block6b_se_reshape\n",
            "184 block6b_se_reduce\n",
            "185 block6b_se_expand\n",
            "186 block6b_se_excite\n",
            "187 block6b_project_conv\n",
            "188 block6b_project_bn\n",
            "189 block6b_drop\n",
            "190 block6b_add\n",
            "191 block6c_expand_conv\n",
            "192 block6c_expand_bn\n",
            "193 block6c_expand_activation\n",
            "194 block6c_dwconv\n",
            "195 block6c_bn\n",
            "196 block6c_activation\n",
            "197 block6c_se_squeeze\n",
            "198 block6c_se_reshape\n",
            "199 block6c_se_reduce\n",
            "200 block6c_se_expand\n",
            "201 block6c_se_excite\n",
            "202 block6c_project_conv\n",
            "203 block6c_project_bn\n",
            "204 block6c_drop\n",
            "205 block6c_add\n",
            "206 block6d_expand_conv\n",
            "207 block6d_expand_bn\n",
            "208 block6d_expand_activation\n",
            "209 block6d_dwconv\n",
            "210 block6d_bn\n",
            "211 block6d_activation\n",
            "212 block6d_se_squeeze\n",
            "213 block6d_se_reshape\n",
            "214 block6d_se_reduce\n",
            "215 block6d_se_expand\n",
            "216 block6d_se_excite\n",
            "217 block6d_project_conv\n",
            "218 block6d_project_bn\n",
            "219 block6d_drop\n",
            "220 block6d_add\n",
            "221 block7a_expand_conv\n",
            "222 block7a_expand_bn\n",
            "223 block7a_expand_activation\n",
            "224 block7a_dwconv\n",
            "225 block7a_bn\n",
            "226 block7a_activation\n",
            "227 block7a_se_squeeze\n",
            "228 block7a_se_reshape\n",
            "229 block7a_se_reduce\n",
            "230 block7a_se_expand\n",
            "231 block7a_se_excite\n",
            "232 block7a_project_conv\n",
            "233 block7a_project_bn\n",
            "234 top_conv\n",
            "235 top_bn\n",
            "236 top_activation\n"
          ]
        }
      ]
    },
    {
      "cell_type": "code",
      "source": [
        "plot_loss_curves(history)"
      ],
      "metadata": {
        "colab": {
          "base_uri": "https://localhost:8080/",
          "height": 573
        },
        "id": "QzTmJqzIGhSq",
        "outputId": "627fe905-0177-47cb-9d65-5764a785c11b"
      },
      "execution_count": 67,
      "outputs": [
        {
          "output_type": "display_data",
          "data": {
            "text/plain": [
              "<Figure size 432x288 with 1 Axes>"
            ],
            "image/png": "[encoded data removed]"
          },
          "metadata": {
            "needs_background": "light"
          }
        },
        {
          "output_type": "display_data",
          "data": {
            "text/plain": [
              "<Figure size 432x288 with 1 Axes>"
            ],
            "image/png": "[encoded data removed]"
          },
          "metadata": {
            "needs_background": "light"
          }
        }
      ]
    },
    {
      "cell_type": "markdown",
      "source": [
        "### getting a feature vector"
      ],
      "metadata": {
        "id": "W9YPO-r-Jcxp"
      }
    },
    {
      "cell_type": "code",
      "source": [
        "#globalavgpool2d compresses 4-d to 2-d via averaging middle 2 axis to make a feature vector\n",
        "\n",
        "tf.random.set_seed(42)\n",
        "\n",
        "input_shape = (1,4,4,3)\n",
        "tensor = tf.random.normal(input_shape)\n",
        "\n",
        "pooled_tensor = tf.keras.layers.GlobalAvgPool2D()(tensor)\n",
        "tensor.shape,pooled_tensor.shape\n"
      ],
      "metadata": {
        "colab": {
          "base_uri": "https://localhost:8080/"
        },
        "id": "0ORKHCuWHBkY",
        "outputId": "7c3f0da9-5ae7-4520-edda-bfdef4108a69"
      },
      "execution_count": 68,
      "outputs": [
        {
          "output_type": "execute_result",
          "data": {
            "text/plain": [
              "(TensorShape([1, 4, 4, 3]), TensorShape([1, 3]))"
            ]
          },
          "metadata": {},
          "execution_count": 68
        }
      ]
    },
    {
      "cell_type": "markdown",
      "source": [
        "### loading checkpoints and weights"
      ],
      "metadata": {
        "id": "LZi1PAf-woFY"
      }
    },
    {
      "cell_type": "code",
      "source": [
        "#load and evaluate\n",
        "\n",
        "model.load_weights(save_path)"
      ],
      "metadata": {
        "id": "uOjuxAKSKBNo",
        "colab": {
          "base_uri": "https://localhost:8080/"
        },
        "outputId": "7b17a089-0c8c-4b85-8285-91a9c84661f4"
      },
      "execution_count": 69,
      "outputs": [
        {
          "output_type": "execute_result",
          "data": {
            "text/plain": [
              "<tensorflow.python.training.tracking.util.CheckpointLoadStatus at 0x7ff4c4fb0cd0>"
            ]
          },
          "metadata": {},
          "execution_count": 69
        }
      ]
    },
    {
      "cell_type": "code",
      "source": [
        "model.evaluate(test_data)"
      ],
      "metadata": {
        "colab": {
          "base_uri": "https://localhost:8080/"
        },
        "id": "kUyaJKQsxDcM",
        "outputId": "6c3eeeed-9d1b-4c74-99f6-27562658c0f8"
      },
      "execution_count": 71,
      "outputs": [
        {
          "output_type": "stream",
          "name": "stdout",
          "text": [
            "79/79 [==============================] - 8s 87ms/step - loss: 0.7489 - accuracy: 0.8132\n"
          ]
        },
        {
          "output_type": "execute_result",
          "data": {
            "text/plain": [
              "[0.7488508224487305, 0.8131999969482422]"
            ]
          },
          "metadata": {},
          "execution_count": 71
        }
      ]
    }
  ]
}