{
  "nbformat": 4,
  "nbformat_minor": 0,
  "metadata": {
    "colab": {
      "name": "fine-tuning.ipynb",
      "provenance": [],
      "authorship_tag": "ABX9TyNoCy7cIxfaNCv1PXcgjMC1",
      "include_colab_link": true
    },
    "kernelspec": {
      "name": "python3",
      "display_name": "Python 3"
    },
    "language_info": {
      "name": "python"
    },
    "accelerator": "GPU",
    "gpuClass": "standard"
  },
  "cells": [
    {
      "cell_type": "markdown",
      "metadata": {
        "id": "view-in-github",
        "colab_type": "text"
      },
      "source": [
        "<a href=\"https://colab.research.google.com/github/terrysu64/Machine-Learning-and-Data-Science-Projects/blob/main/fine_tuning.ipynb\" target=\"_parent\"><img src=\"https://colab.research.google.com/assets/colab-badge.svg\" alt=\"Open In Colab\"/></a>"
      ]
    },
    {
      "cell_type": "markdown",
      "source": [
        "# Transfer Learning - fine-tuning"
      ],
      "metadata": {
        "id": "lYASeTr98MbL"
      }
    },
    {
      "cell_type": "code",
      "execution_count": 1,
      "metadata": {
        "colab": {
          "base_uri": "https://localhost:8080/"
        },
        "id": "xd0zmfgz8JAd",
        "outputId": "99a091bc-23e3-492c-8f34-6d96c948b824"
      },
      "outputs": [
        {
          "output_type": "stream",
          "name": "stdout",
          "text": [
            "Tue Aug  2 14:24:09 2022       \n",
            "+-----------------------------------------------------------------------------+\n",
            "| NVIDIA-SMI 460.32.03    Driver Version: 460.32.03    CUDA Version: 11.2     |\n",
            "|-------------------------------+----------------------+----------------------+\n",
            "| GPU  Name        Persistence-M| Bus-Id        Disp.A | Volatile Uncorr. ECC |\n",
            "| Fan  Temp  Perf  Pwr:Usage/Cap|         Memory-Usage | GPU-Util  Compute M. |\n",
            "|                               |                      |               MIG M. |\n",
            "|===============================+======================+======================|\n",
            "|   0  Tesla T4            Off  | 00000000:00:04.0 Off |                    0 |\n",
            "| N/A   57C    P8    10W /  70W |      0MiB / 15109MiB |      0%      Default |\n",
            "|                               |                      |                  N/A |\n",
            "+-------------------------------+----------------------+----------------------+\n",
            "                                                                               \n",
            "+-----------------------------------------------------------------------------+\n",
            "| Processes:                                                                  |\n",
            "|  GPU   GI   CI        PID   Type   Process name                  GPU Memory |\n",
            "|        ID   ID                                                   Usage      |\n",
            "|=============================================================================|\n",
            "|  No running processes found                                                 |\n",
            "+-----------------------------------------------------------------------------+\n"
          ]
        }
      ],
      "source": [
        "!nvidia-smi"
      ]
    },
    {
      "cell_type": "markdown",
      "source": [
        "### import helper functions"
      ],
      "metadata": {
        "id": "9S4nL7NI9GfD"
      }
    },
    {
      "cell_type": "code",
      "source": [
        "!wget https://raw.githubusercontent.com/mrdbourke/tensorflow-deep-learning/main/extras/helper_functions.py"
      ],
      "metadata": {
        "colab": {
          "base_uri": "https://localhost:8080/"
        },
        "id": "iKN0pYAu8UF6",
        "outputId": "d6c8028d-e538-4cd8-9bac-43b6493419b3"
      },
      "execution_count": 2,
      "outputs": [
        {
          "output_type": "stream",
          "name": "stdout",
          "text": [
            "--2022-08-02 14:27:11--  https://raw.githubusercontent.com/mrdbourke/tensorflow-deep-learning/main/extras/helper_functions.py\n",
            "Resolving raw.githubusercontent.com (raw.githubusercontent.com)... 185.199.108.133, 185.199.109.133, 185.199.110.133, ...\n",
            "Connecting to raw.githubusercontent.com (raw.githubusercontent.com)|185.199.108.133|:443... connected.\n",
            "HTTP request sent, awaiting response... 200 OK\n",
            "Length: 10246 (10K) [text/plain]\n",
            "Saving to: ‘helper_functions.py’\n",
            "\n",
            "\rhelper_functions.py   0%[                    ]       0  --.-KB/s               \rhelper_functions.py 100%[===================>]  10.01K  --.-KB/s    in 0s      \n",
            "\n",
            "2022-08-02 14:27:12 (99.4 MB/s) - ‘helper_functions.py’ saved [10246/10246]\n",
            "\n"
          ]
        }
      ]
    },
    {
      "cell_type": "code",
      "source": [
        "from helper_functions import create_tensorboard_callback, plot_loss_curves, unzip_data, walk_through_dir"
      ],
      "metadata": {
        "id": "THWyiI7s9Bis"
      },
      "execution_count": 4,
      "outputs": []
    },
    {
      "cell_type": "markdown",
      "source": [
        "### get data"
      ],
      "metadata": {
        "id": "176RHEWr-C7W"
      }
    },
    {
      "cell_type": "code",
      "source": [
        "!wget https://storage.googleapis.com/ztm_tf_course/food_vision/10_food_classes_10_percent.zip\n",
        "\n",
        "unzip_data(\"10_food_classes_10_percent.zip\")"
      ],
      "metadata": {
        "colab": {
          "base_uri": "https://localhost:8080/"
        },
        "id": "aMMtIjnO9w7S",
        "outputId": "65185dec-16ee-4df1-b73a-c4c95e4bd5ff"
      },
      "execution_count": 6,
      "outputs": [
        {
          "output_type": "stream",
          "name": "stdout",
          "text": [
            "--2022-08-02 14:32:45--  https://storage.googleapis.com/ztm_tf_course/food_vision/10_food_classes_10_percent.zip\n",
            "Resolving storage.googleapis.com (storage.googleapis.com)... 74.125.197.128, 74.125.135.128, 74.125.142.128, ...\n",
            "Connecting to storage.googleapis.com (storage.googleapis.com)|74.125.197.128|:443... connected.\n",
            "HTTP request sent, awaiting response... 200 OK\n",
            "Length: 168546183 (161M) [application/zip]\n",
            "Saving to: ‘10_food_classes_10_percent.zip.1’\n",
            "\n",
            "10_food_classes_10_ 100%[===================>] 160.74M   233MB/s    in 0.7s    \n",
            "\n",
            "2022-08-02 14:32:46 (233 MB/s) - ‘10_food_classes_10_percent.zip.1’ saved [168546183/168546183]\n",
            "\n"
          ]
        }
      ]
    },
    {
      "cell_type": "code",
      "source": [
        "walk_through_dir(\"10_food_classes_10_percent\")"
      ],
      "metadata": {
        "colab": {
          "base_uri": "https://localhost:8080/"
        },
        "id": "uzbJxufD-RBO",
        "outputId": "2b9ce868-876d-4461-a8e9-17dc19519aca"
      },
      "execution_count": 7,
      "outputs": [
        {
          "output_type": "stream",
          "name": "stdout",
          "text": [
            "There are 2 directories and 0 images in '10_food_classes_10_percent'.\n",
            "There are 10 directories and 0 images in '10_food_classes_10_percent/train'.\n",
            "There are 0 directories and 75 images in '10_food_classes_10_percent/train/hamburger'.\n",
            "There are 0 directories and 75 images in '10_food_classes_10_percent/train/sushi'.\n",
            "There are 0 directories and 75 images in '10_food_classes_10_percent/train/steak'.\n",
            "There are 0 directories and 75 images in '10_food_classes_10_percent/train/chicken_wings'.\n",
            "There are 0 directories and 75 images in '10_food_classes_10_percent/train/ice_cream'.\n",
            "There are 0 directories and 75 images in '10_food_classes_10_percent/train/chicken_curry'.\n",
            "There are 0 directories and 75 images in '10_food_classes_10_percent/train/fried_rice'.\n",
            "There are 0 directories and 75 images in '10_food_classes_10_percent/train/pizza'.\n",
            "There are 0 directories and 75 images in '10_food_classes_10_percent/train/grilled_salmon'.\n",
            "There are 0 directories and 75 images in '10_food_classes_10_percent/train/ramen'.\n",
            "There are 10 directories and 0 images in '10_food_classes_10_percent/test'.\n",
            "There are 0 directories and 250 images in '10_food_classes_10_percent/test/hamburger'.\n",
            "There are 0 directories and 250 images in '10_food_classes_10_percent/test/sushi'.\n",
            "There are 0 directories and 250 images in '10_food_classes_10_percent/test/steak'.\n",
            "There are 0 directories and 250 images in '10_food_classes_10_percent/test/chicken_wings'.\n",
            "There are 0 directories and 250 images in '10_food_classes_10_percent/test/ice_cream'.\n",
            "There are 0 directories and 250 images in '10_food_classes_10_percent/test/chicken_curry'.\n",
            "There are 0 directories and 250 images in '10_food_classes_10_percent/test/fried_rice'.\n",
            "There are 0 directories and 250 images in '10_food_classes_10_percent/test/pizza'.\n",
            "There are 0 directories and 250 images in '10_food_classes_10_percent/test/grilled_salmon'.\n",
            "There are 0 directories and 250 images in '10_food_classes_10_percent/test/ramen'.\n"
          ]
        }
      ]
    },
    {
      "cell_type": "code",
      "source": [
        "train_dir = \"10_food_classes_10_percent/train\"\n",
        "test_dir = \"10_food_classes_10_percent/test\""
      ],
      "metadata": {
        "id": "SlhVkRN7-Xkg"
      },
      "execution_count": 8,
      "outputs": []
    },
    {
      "cell_type": "code",
      "source": [
        "import tensorflow as tf\n",
        "IMG_SIZE = (225,225); BATCH_SIZE = 32\n",
        "train_data = tf.keras.preprocessing.image_dataset_from_directory(directory=train_dir,\n",
        "                                                                 image_size=IMG_SIZE,\n",
        "                                                                 label_mode=\"categorical\",\n",
        "                                                                 batch_size=BATCH_SIZE)\n",
        "test_data = tf.keras.preprocessing.image_dataset_from_directory(directory=test_dir,\n",
        "                                                                 image_size=IMG_SIZE,\n",
        "                                                                 label_mode=\"categorical\",\n",
        "                                                                 batch_size=BATCH_SIZE)"
      ],
      "metadata": {
        "colab": {
          "base_uri": "https://localhost:8080/"
        },
        "id": "86Jre-Fb-3IJ",
        "outputId": "9a1dec7f-17f1-43bd-e5db-1926cedf1340"
      },
      "execution_count": 34,
      "outputs": [
        {
          "output_type": "stream",
          "name": "stdout",
          "text": [
            "Found 750 files belonging to 10 classes.\n",
            "Found 2500 files belonging to 10 classes.\n"
          ]
        }
      ]
    },
    {
      "cell_type": "code",
      "source": [
        "train_data, train_data.class_names"
      ],
      "metadata": {
        "colab": {
          "base_uri": "https://localhost:8080/"
        },
        "id": "g7JWyQe7_QT0",
        "outputId": "a5b100d5-7627-4326-ccdf-f489ee850a84"
      },
      "execution_count": 35,
      "outputs": [
        {
          "output_type": "execute_result",
          "data": {
            "text/plain": [
              "(<BatchDataset element_spec=(TensorSpec(shape=(None, 225, 225, 3), dtype=tf.float32, name=None), TensorSpec(shape=(None, 10), dtype=tf.float32, name=None))>,\n",
              " ['chicken_curry',\n",
              "  'chicken_wings',\n",
              "  'fried_rice',\n",
              "  'grilled_salmon',\n",
              "  'hamburger',\n",
              "  'ice_cream',\n",
              "  'pizza',\n",
              "  'ramen',\n",
              "  'steak',\n",
              "  'sushi'])"
            ]
          },
          "metadata": {},
          "execution_count": 35
        }
      ]
    },
    {
      "cell_type": "markdown",
      "source": [
        ""
      ],
      "metadata": {
        "id": "GDOGifUCF0KX"
      }
    },
    {
      "cell_type": "code",
      "source": [
        "#visualize a batch\n",
        "for imgs, labels in train_data.take(1):\n",
        "  print(imgs, labels)"
      ],
      "metadata": {
        "colab": {
          "base_uri": "https://localhost:8080/"
        },
        "id": "6OjZttuo_Wlf",
        "outputId": "f6fa37e8-8b20-4329-977a-ffa570d0f804"
      },
      "execution_count": 21,
      "outputs": [
        {
          "output_type": "stream",
          "name": "stdout",
          "text": [
            "tf.Tensor(\n",
            "[[[[2.13120484e+00 3.13120484e+00 0.00000000e+00]\n",
            "   [4.16500759e+00 5.16500759e+00 5.82503796e-01]\n",
            "   [5.58572817e+00 6.58572817e+00 1.58572841e+00]\n",
            "   ...\n",
            "   [3.13458538e+01 3.55347252e+01 3.85347252e+01]\n",
            "   [3.42600060e+01 3.52600060e+01 4.02600060e+01]\n",
            "   [3.23621368e+01 3.26376915e+01 3.79999161e+01]]\n",
            "\n",
            "  [[3.46444464e+00 4.46444464e+00 0.00000000e+00]\n",
            "   [5.90582228e+00 6.90582228e+00 1.90582228e+00]\n",
            "   [6.72444439e+00 7.72444439e+00 2.72444439e+00]\n",
            "   ...\n",
            "   [3.00327377e+01 3.50327377e+01 3.88438644e+01]\n",
            "   [2.44333363e+01 2.74333363e+01 3.44333344e+01]\n",
            "   [2.78191509e+01 3.08191509e+01 3.78191490e+01]]\n",
            "\n",
            "  [[8.17333317e+00 9.17333412e+00 4.17333317e+00]\n",
            "   [5.25918531e+00 6.25918531e+00 1.25918519e+00]\n",
            "   [7.15321016e+00 8.15320969e+00 3.15320992e+00]\n",
            "   ...\n",
            "   [2.57292824e+01 3.28824806e+01 3.87293129e+01]\n",
            "   [2.29991951e+01 3.00319366e+01 3.80155640e+01]\n",
            "   [3.15218811e+01 3.71068535e+01 4.59335022e+01]]\n",
            "\n",
            "  ...\n",
            "\n",
            "  [[2.02975418e+02 1.44975418e+02 1.19754152e+01]\n",
            "   [1.95858490e+02 1.38685974e+02 1.00301571e+01]\n",
            "   [1.92459549e+02 1.34495239e+02 1.36904736e+01]\n",
            "   ...\n",
            "   [1.78550903e+02 9.09842911e+01 1.34890137e+01]\n",
            "   [1.70928833e+02 8.32919159e+01 6.34667969e+00]\n",
            "   [1.72863251e+02 8.26926956e+01 8.95270443e+00]]\n",
            "\n",
            "  [[2.05275558e+02 1.49275558e+02 1.42755527e+01]\n",
            "   [1.93514954e+02 1.36514954e+02 5.18331671e+00]\n",
            "   [1.87580414e+02 1.30958191e+02 2.36788225e+00]\n",
            "   ...\n",
            "   [1.73714615e+02 8.87637177e+01 8.55847740e+00]\n",
            "   [1.72591660e+02 8.65916672e+01 1.15916662e+01]\n",
            "   [1.69496796e+02 8.34967957e+01 1.04967928e+01]]\n",
            "\n",
            "  [[2.08088943e+02 1.52088943e+02 1.70889416e+01]\n",
            "   [2.12723984e+02 1.56723984e+02 2.17239895e+01]\n",
            "   [2.13848358e+02 1.57142181e+02 2.39323177e+01]\n",
            "   ...\n",
            "   [1.73600266e+02 9.07891312e+01 1.02745504e+01]\n",
            "   [1.73385147e+02 9.03851395e+01 1.43851414e+01]\n",
            "   [1.66118149e+02 8.21181488e+01 9.71141529e+00]]]\n",
            "\n",
            "\n",
            " [[[2.71733322e+01 1.41733332e+01 2.41733322e+01]\n",
            "   [3.17908459e+01 1.87908459e+01 2.87908459e+01]\n",
            "   [3.37265167e+01 1.73487415e+01 2.85376301e+01]\n",
            "   ...\n",
            "   [8.50051956e+01 7.59074707e+01 7.21450119e+01]\n",
            "   [9.51757355e+01 8.61757355e+01 8.11757355e+01]\n",
            "   [1.25693192e+02 1.16693192e+02 1.10143867e+02]]\n",
            "\n",
            "  [[2.30513783e+01 1.10513773e+01 2.10513783e+01]\n",
            "   [3.24799995e+01 1.94799995e+01 2.94799995e+01]\n",
            "   [2.80226669e+01 1.16448889e+01 2.28337784e+01]\n",
            "   ...\n",
            "   [5.97669678e+01 5.01447144e+01 4.80158386e+01]\n",
            "   [6.06481209e+01 5.07295914e+01 4.84851799e+01]\n",
            "   [5.20819435e+01 4.30436783e+01 3.81584740e+01]]\n",
            "\n",
            "  [[2.76179256e+01 1.63845921e+01 2.48512592e+01]\n",
            "   [3.25464439e+01 1.95464458e+01 2.87797775e+01]\n",
            "   [3.06777782e+01 1.45896301e+01 2.48670368e+01]\n",
            "   ...\n",
            "   [5.96570511e+01 4.97451935e+01 5.02344589e+01]\n",
            "   [5.89004211e+01 4.89004211e+01 4.76670914e+01]\n",
            "   [5.40243149e+01 4.41088371e+01 4.23442154e+01]]\n",
            "\n",
            "  ...\n",
            "\n",
            "  [[1.42112579e+01 1.72112579e+01 2.46779327e+01]\n",
            "   [7.52020550e+00 1.03070908e+01 1.98135471e+01]\n",
            "   [1.35996017e+01 1.55996017e+01 2.80659027e+01]\n",
            "   ...\n",
            "   [1.53103714e+01 1.23103714e+01 2.93985138e+01]\n",
            "   [2.62130527e+01 2.32130527e+01 4.02130547e+01]\n",
            "   [1.37890892e+01 1.07890892e+01 2.77890892e+01]]\n",
            "\n",
            "  [[1.09209700e+01 1.39209700e+01 2.29209709e+01]\n",
            "   [3.41706347e+00 5.42226315e+00 1.74066639e+01]\n",
            "   [1.97531712e+00 3.97531700e+00 1.73530941e+01]\n",
            "   ...\n",
            "   [1.13550825e+01 8.35508251e+00 2.57328300e+01]\n",
            "   [1.39429083e+01 1.09429083e+01 2.79429073e+01]\n",
            "   [9.28051281e+00 6.28051233e+00 2.32805119e+01]]\n",
            "\n",
            "  [[8.85242939e+00 1.08524294e+01 2.28524303e+01]\n",
            "   [1.32158279e+01 1.52158279e+01 2.82158279e+01]\n",
            "   [3.57341027e+00 5.57341003e+00 1.89511890e+01]\n",
            "   ...\n",
            "   [1.69022751e+01 1.39022760e+01 3.23290825e+01]\n",
            "   [1.44654255e+01 1.14654255e+01 2.84654255e+01]\n",
            "   [1.70679951e+01 1.50679951e+01 2.90679951e+01]]]\n",
            "\n",
            "\n",
            " [[[1.14144348e+02 6.61443481e+01 2.81443501e+01]\n",
            "   [1.16582504e+02 6.85825043e+01 3.05825043e+01]\n",
            "   [1.34238251e+02 8.62382431e+01 4.82382469e+01]\n",
            "   ...\n",
            "   [1.60866745e+02 1.66866745e+02 2.02866745e+02]\n",
            "   [1.57196396e+02 1.65196396e+02 2.01196396e+02]\n",
            "   [1.51548660e+02 1.59548660e+02 1.95548660e+02]]\n",
            "\n",
            "  [[1.27291115e+02 7.72911148e+01 4.02911148e+01]\n",
            "   [1.26566666e+02 7.65666656e+01 3.95666656e+01]\n",
            "   [1.39670517e+02 8.98594055e+01 5.22927437e+01]\n",
            "   ...\n",
            "   [1.50590347e+02 1.58935349e+02 1.95762848e+02]\n",
            "   [1.53227478e+02 1.61227478e+02 1.98061661e+02]\n",
            "   [1.44165939e+02 1.54165939e+02 1.89165939e+02]]\n",
            "\n",
            "  [[1.26238243e+02 7.42382431e+01 3.72382469e+01]\n",
            "   [1.31412140e+02 7.94121475e+01 4.07899246e+01]\n",
            "   [1.37615799e+02 8.56157990e+01 4.66158028e+01]\n",
            "   ...\n",
            "   [1.48622253e+02 1.61000031e+02 2.00811142e+02]\n",
            "   [1.51081833e+02 1.60718811e+02 1.99319016e+02]\n",
            "   [1.50172607e+02 1.60739288e+02 1.96550385e+02]]\n",
            "\n",
            "  ...\n",
            "\n",
            "  [[2.47000000e+02 2.55000000e+02 2.55000000e+02]\n",
            "   [2.47000000e+02 2.55000000e+02 2.55000000e+02]\n",
            "   [2.47000000e+02 2.55000000e+02 2.55000000e+02]\n",
            "   ...\n",
            "   [2.47000000e+02 2.55000000e+02 2.55000000e+02]\n",
            "   [2.47000000e+02 2.55000000e+02 2.55000000e+02]\n",
            "   [2.47000000e+02 2.55000000e+02 2.55000000e+02]]\n",
            "\n",
            "  [[2.47000000e+02 2.55000000e+02 2.55000000e+02]\n",
            "   [2.47000000e+02 2.55000000e+02 2.55000000e+02]\n",
            "   [2.47000000e+02 2.55000000e+02 2.55000000e+02]\n",
            "   ...\n",
            "   [2.47000000e+02 2.55000000e+02 2.55000000e+02]\n",
            "   [2.47000000e+02 2.55000000e+02 2.55000000e+02]\n",
            "   [2.47000000e+02 2.55000000e+02 2.55000000e+02]]\n",
            "\n",
            "  [[2.47000000e+02 2.55000000e+02 2.55000000e+02]\n",
            "   [2.47000000e+02 2.55000000e+02 2.55000000e+02]\n",
            "   [2.47000000e+02 2.55000000e+02 2.55000000e+02]\n",
            "   ...\n",
            "   [2.47000000e+02 2.55000000e+02 2.55000000e+02]\n",
            "   [2.47000000e+02 2.55000000e+02 2.55000000e+02]\n",
            "   [2.47000000e+02 2.55000000e+02 2.55000000e+02]]]\n",
            "\n",
            "\n",
            " ...\n",
            "\n",
            "\n",
            " [[[1.93622227e+01 2.53622227e+01 2.53622227e+01]\n",
            "   [1.93622227e+01 2.53622227e+01 2.53622227e+01]\n",
            "   [1.93622227e+01 2.53622227e+01 2.53622227e+01]\n",
            "   ...\n",
            "   [8.20865860e+01 9.50645065e+01 1.06575546e+02]\n",
            "   [7.61750565e+01 8.81750565e+01 1.00175056e+02]\n",
            "   [7.75688934e+01 8.88444443e+01 1.00844444e+02]]\n",
            "\n",
            "  [[1.95039558e+01 2.85039558e+01 2.75039558e+01]\n",
            "   [1.89133339e+01 2.79133339e+01 2.69133339e+01]\n",
            "   [1.89133339e+01 2.79133339e+01 2.69133339e+01]\n",
            "   ...\n",
            "   [9.61537628e+01 1.13939987e+02 1.27853317e+02]\n",
            "   [9.03999939e+01 1.08053329e+02 1.21966660e+02]\n",
            "   [8.99787598e+01 1.07632088e+02 1.20364182e+02]]\n",
            "\n",
            "  [[1.83356304e+01 2.73356304e+01 2.63356304e+01]\n",
            "   [1.77624454e+01 2.67624454e+01 2.57624454e+01]\n",
            "   [1.63781490e+01 2.53781490e+01 2.43781490e+01]\n",
            "   ...\n",
            "   [1.06865921e+02 1.30533325e+02 1.48766296e+02]\n",
            "   [1.07502228e+02 1.31057556e+02 1.47377777e+02]\n",
            "   [1.07853409e+02 1.31420074e+02 1.47608963e+02]]\n",
            "\n",
            "  ...\n",
            "\n",
            "  [[1.52622253e+02 1.82115402e+02 2.03639923e+02]\n",
            "   [1.56255844e+02 1.84822464e+02 2.06633591e+02]\n",
            "   [1.55189651e+02 1.83756271e+02 2.05567398e+02]\n",
            "   ...\n",
            "   [1.46532928e+02 1.67532928e+02 1.86532928e+02]\n",
            "   [1.40795273e+02 1.61795273e+02 1.80795273e+02]\n",
            "   [1.37248871e+02 1.56626617e+02 1.73626617e+02]]\n",
            "\n",
            "  [[1.55029373e+02 1.81029373e+02 2.04029373e+02]\n",
            "   [1.58858536e+02 1.84858536e+02 2.07858536e+02]\n",
            "   [1.56466660e+02 1.82466660e+02 2.05466660e+02]\n",
            "   ...\n",
            "   [1.44593323e+02 1.64893311e+02 1.84126648e+02]\n",
            "   [1.41006653e+02 1.59006653e+02 1.79006653e+02]\n",
            "   [1.36533325e+02 1.55533325e+02 1.72533325e+02]]\n",
            "\n",
            "  [[1.55459595e+02 1.79459595e+02 2.03459595e+02]\n",
            "   [1.56697754e+02 1.80697754e+02 2.04697754e+02]\n",
            "   [1.58193207e+02 1.82193207e+02 2.06193207e+02]\n",
            "   ...\n",
            "   [1.38679932e+02 1.58979919e+02 1.78213257e+02]\n",
            "   [1.34153259e+02 1.52153259e+02 1.72153259e+02]\n",
            "   [1.28611023e+02 1.47611023e+02 1.64611023e+02]]]\n",
            "\n",
            "\n",
            " [[[4.11644058e+01 4.31044426e+01 3.28065491e+01]\n",
            "   [4.37623405e+01 4.05798798e+01 2.86801186e+01]\n",
            "   [5.00561485e+01 4.29622231e+01 2.54559498e+01]\n",
            "   ...\n",
            "   [1.23064651e+01 9.25777817e+00 2.57777750e-01]\n",
            "   [1.18266602e+01 9.08666992e+00 0.00000000e+00]\n",
            "   [1.00000000e+01 1.00000000e+01 0.00000000e+00]]\n",
            "\n",
            "  [[4.16377792e+01 4.22952003e+01 2.96800003e+01]\n",
            "   [4.38936882e+01 4.49592896e+01 2.57133331e+01]\n",
            "   [4.63650360e+01 4.75088882e+01 2.00854816e+01]\n",
            "   ...\n",
            "   [1.45894775e+01 1.07733335e+01 1.77333331e+00]\n",
            "   [1.27340431e+01 9.79297829e+00 7.73333311e-01]\n",
            "   [1.04931984e+01 1.04931984e+01 4.93198216e-01]]\n",
            "\n",
            "  [[4.15868645e+01 4.11959496e+01 2.29177799e+01]\n",
            "   [4.08694839e+01 4.55377808e+01 1.69989643e+01]\n",
            "   [3.72555580e+01 4.70787659e+01 1.05990133e+01]\n",
            "   ...\n",
            "   [1.48202381e+01 1.06565475e+01 1.71111131e+00]\n",
            "   [1.32388124e+01 9.97496223e+00 9.74962056e-01]\n",
            "   [1.20000000e+01 9.00000000e+00 0.00000000e+00]]\n",
            "\n",
            "  ...\n",
            "\n",
            "  [[0.00000000e+00 3.28337250e+01 4.29580231e+01]\n",
            "   [0.00000000e+00 3.64044876e+01 4.77800636e+01]\n",
            "   [0.00000000e+00 3.86666870e+01 5.12445068e+01]\n",
            "   ...\n",
            "   [0.00000000e+00 3.02787762e+01 3.71808090e+01]\n",
            "   [9.13330078e-01 2.95450897e+01 3.38590393e+01]\n",
            "   [1.26924813e+00 2.09642525e+01 2.71422424e+01]]\n",
            "\n",
            "  [[0.00000000e+00 3.06776924e+01 3.92868385e+01]\n",
            "   [1.96433328e-02 3.27537041e+01 4.20263596e+01]\n",
            "   [0.00000000e+00 3.45517387e+01 4.35089264e+01]\n",
            "   ...\n",
            "   [1.46064401e-01 2.69573765e+01 2.94662876e+01]\n",
            "   [0.00000000e+00 1.93604221e+01 2.16134338e+01]\n",
            "   [8.55449915e-01 1.24087944e+01 1.55443840e+01]]\n",
            "\n",
            "  [[0.00000000e+00 2.78955593e+01 3.42243767e+01]\n",
            "   [7.64559090e-01 3.18490086e+01 3.74512405e+01]\n",
            "   [0.00000000e+00 3.16355591e+01 3.89622345e+01]\n",
            "   ...\n",
            "   [0.00000000e+00 1.97866211e+01 1.92332764e+01]\n",
            "   [0.00000000e+00 1.17487764e+01 1.16844482e+01]\n",
            "   [1.10446167e+00 6.80215836e+00 7.14223862e+00]]]\n",
            "\n",
            "\n",
            " [[[5.65376854e+01 3.65376854e+01 1.29312992e+01]\n",
            "   [5.71022224e+01 3.61022224e+01 1.51022224e+01]\n",
            "   [5.80311127e+01 3.60311127e+01 1.50311108e+01]\n",
            "   ...\n",
            "   [5.86505890e+01 3.35137634e+01 1.32044296e+01]\n",
            "   [5.80469513e+01 3.61022263e+01 1.51022263e+01]\n",
            "   [5.59441452e+01 3.49441452e+01 1.42065697e+01]]\n",
            "\n",
            "  [[5.78736153e+01 3.68736153e+01 1.58736153e+01]\n",
            "   [5.90000000e+01 3.80000000e+01 1.70000000e+01]\n",
            "   [6.14799995e+01 3.94799995e+01 1.84800014e+01]\n",
            "   ...\n",
            "   [5.99982948e+01 3.72207832e+01 1.61022072e+01]\n",
            "   [5.98416824e+01 3.90000038e+01 1.79208450e+01]\n",
            "   [5.60077400e+01 3.78419228e+01 1.58971949e+01]]\n",
            "\n",
            "  [[5.67528648e+01 3.47528648e+01 1.37528648e+01]\n",
            "   [5.87555542e+01 3.67555542e+01 1.57555561e+01]\n",
            "   [6.03935814e+01 3.82865410e+01 1.72508659e+01]\n",
            "   ...\n",
            "   [5.83578529e+01 3.63578529e+01 1.50514574e+01]\n",
            "   [5.57555542e+01 3.77555542e+01 1.57555561e+01]\n",
            "   [5.26157227e+01 3.66157227e+01 1.36157207e+01]]\n",
            "\n",
            "  ...\n",
            "\n",
            "  [[5.73559380e+01 3.37893181e+01 1.59781904e+01]\n",
            "   [5.91332397e+01 3.65666199e+01 1.57554932e+01]\n",
            "   [6.06999054e+01 3.81689606e+01 1.51332712e+01]\n",
            "   ...\n",
            "   [6.17554932e+01 3.65666199e+01 1.43777466e+01]\n",
            "   [5.71724739e+01 3.41724739e+01 1.61724739e+01]\n",
            "   [5.64268837e+01 3.54268837e+01 1.84268818e+01]]\n",
            "\n",
            "  [[5.80863762e+01 3.73463860e+01 1.62597179e+01]\n",
            "   [5.99133301e+01 3.89133301e+01 1.79133301e+01]\n",
            "   [6.06525116e+01 4.02747345e+01 1.62747364e+01]\n",
            "   ...\n",
            "   [6.47244568e+01 3.95355835e+01 1.73467102e+01]\n",
            "   [5.90941811e+01 3.61733398e+01 1.79358654e+01]\n",
            "   [5.72908936e+01 3.42908936e+01 1.62908936e+01]]\n",
            "\n",
            "  [[5.31752205e+01 3.71752205e+01 1.44376440e+01]\n",
            "   [5.50705910e+01 3.70705910e+01 1.50705919e+01]\n",
            "   [5.54770546e+01 3.70992775e+01 1.30992775e+01]\n",
            "   ...\n",
            "   [6.13957863e+01 3.60180397e+01 1.42069111e+01]\n",
            "   [5.63619995e+01 3.43619995e+01 1.33619995e+01]\n",
            "   [5.57551270e+01 3.27551270e+01 1.47551270e+01]]]], shape=(32, 225, 225, 3), dtype=float32) tf.Tensor(\n",
            "[[1. 0. 0. 0. 0. 0. 0. 0. 0. 0.]\n",
            " [0. 0. 0. 0. 0. 0. 0. 0. 1. 0.]\n",
            " [0. 1. 0. 0. 0. 0. 0. 0. 0. 0.]\n",
            " [0. 0. 0. 0. 0. 0. 0. 0. 1. 0.]\n",
            " [0. 0. 0. 0. 0. 0. 0. 0. 1. 0.]\n",
            " [0. 1. 0. 0. 0. 0. 0. 0. 0. 0.]\n",
            " [0. 0. 0. 0. 0. 1. 0. 0. 0. 0.]\n",
            " [0. 0. 1. 0. 0. 0. 0. 0. 0. 0.]\n",
            " [1. 0. 0. 0. 0. 0. 0. 0. 0. 0.]\n",
            " [0. 0. 0. 0. 0. 0. 0. 0. 0. 1.]\n",
            " [0. 0. 0. 0. 0. 0. 0. 0. 0. 1.]\n",
            " [0. 0. 1. 0. 0. 0. 0. 0. 0. 0.]\n",
            " [0. 0. 0. 0. 0. 0. 1. 0. 0. 0.]\n",
            " [0. 0. 1. 0. 0. 0. 0. 0. 0. 0.]\n",
            " [1. 0. 0. 0. 0. 0. 0. 0. 0. 0.]\n",
            " [0. 0. 1. 0. 0. 0. 0. 0. 0. 0.]\n",
            " [0. 1. 0. 0. 0. 0. 0. 0. 0. 0.]\n",
            " [0. 0. 1. 0. 0. 0. 0. 0. 0. 0.]\n",
            " [0. 0. 0. 0. 0. 0. 0. 0. 0. 1.]\n",
            " [0. 0. 0. 0. 0. 1. 0. 0. 0. 0.]\n",
            " [0. 0. 0. 0. 0. 0. 0. 0. 0. 1.]\n",
            " [0. 0. 0. 0. 0. 0. 0. 0. 0. 1.]\n",
            " [0. 1. 0. 0. 0. 0. 0. 0. 0. 0.]\n",
            " [0. 0. 0. 0. 0. 0. 1. 0. 0. 0.]\n",
            " [0. 0. 1. 0. 0. 0. 0. 0. 0. 0.]\n",
            " [0. 0. 0. 1. 0. 0. 0. 0. 0. 0.]\n",
            " [0. 1. 0. 0. 0. 0. 0. 0. 0. 0.]\n",
            " [0. 1. 0. 0. 0. 0. 0. 0. 0. 0.]\n",
            " [0. 0. 0. 0. 1. 0. 0. 0. 0. 0.]\n",
            " [0. 0. 0. 0. 0. 0. 0. 0. 0. 1.]\n",
            " [0. 0. 0. 0. 0. 0. 0. 0. 0. 1.]\n",
            " [0. 0. 0. 0. 0. 0. 0. 1. 0. 0.]], shape=(32, 10), dtype=float32)\n"
          ]
        }
      ]
    },
    {
      "cell_type": "markdown",
      "source": [
        "### experiment 1: pure feature extraction"
      ],
      "metadata": {
        "id": "9Agb_E56G7OI"
      }
    },
    {
      "cell_type": "code",
      "source": [
        "base_model = tf.keras.applications.EfficientNetB0(include_top=False)\n",
        "base_model.trainable = False\n",
        "\n",
        "inputs = tf.keras.layers.Input(shape=(IMG_SIZE)+(3,), name=\"input_layer\") #normalizing not needed for efficientnet\n",
        "x = base_model(inputs)\n",
        "print(x.shape)\n",
        "x = tf.keras.layers.GlobalAveragePooling2D(name=\"pooling_layer\")(x)\n",
        "print(x.shape)\n",
        "x = tf.keras.layers.Flatten()(x)\n",
        "outputs = tf.keras.layers.Dense(10, activation=\"softmax\", name=\"output_layer\")(x)\n",
        "\n",
        "model = tf.keras.Model(inputs, outputs)"
      ],
      "metadata": {
        "colab": {
          "base_uri": "https://localhost:8080/"
        },
        "id": "8fwkF-myAAtY",
        "outputId": "852ef146-6629-4489-c78d-a74b23fd8430"
      },
      "execution_count": 25,
      "outputs": [
        {
          "output_type": "stream",
          "name": "stdout",
          "text": [
            "(None, 7, 7, 1280)\n",
            "(None, 1280)\n"
          ]
        }
      ]
    },
    {
      "cell_type": "code",
      "source": [
        "model.compile(loss=\"categorical_crossentropy\",\n",
        "              optimizer=tf.keras.optimizers.Adam(),\n",
        "              metrics=[\"accuracy\"])"
      ],
      "metadata": {
        "id": "fwuAwoHPDYXZ"
      },
      "execution_count": 26,
      "outputs": []
    },
    {
      "cell_type": "code",
      "source": [
        "history = model.fit(train_data,\n",
        "                    epochs=5,\n",
        "                    steps_per_epoch=len(train_data),\n",
        "                    validation_data=test_data,\n",
        "                    validation_steps=int(len(test_data)/4),\n",
        "                    callbacks=[create_tensorboard_callback(dir_name=\"models\",\n",
        "                                                           experiment_name=\"feature_extraction\")])"
      ],
      "metadata": {
        "colab": {
          "base_uri": "https://localhost:8080/"
        },
        "id": "xDXWQVL7EhPf",
        "outputId": "f230b0f6-4b66-488d-9e13-cb5b2d9deea4"
      },
      "execution_count": 29,
      "outputs": [
        {
          "output_type": "stream",
          "name": "stdout",
          "text": [
            "Saving TensorBoard log files to: models/feature_extraction/20220802-150358\n",
            "Epoch 1/5\n",
            "24/24 [==============================] - 5s 189ms/step - loss: 1.1326 - accuracy: 0.7480 - val_loss: 0.9183 - val_accuracy: 0.8174\n",
            "Epoch 2/5\n",
            "24/24 [==============================] - 5s 186ms/step - loss: 0.8381 - accuracy: 0.8120 - val_loss: 0.7505 - val_accuracy: 0.8470\n",
            "Epoch 3/5\n",
            "24/24 [==============================] - 5s 187ms/step - loss: 0.6818 - accuracy: 0.8507 - val_loss: 0.6554 - val_accuracy: 0.8602\n",
            "Epoch 4/5\n",
            "24/24 [==============================] - 5s 187ms/step - loss: 0.5932 - accuracy: 0.8680 - val_loss: 0.6140 - val_accuracy: 0.8503\n",
            "Epoch 5/5\n",
            "24/24 [==============================] - 5s 187ms/step - loss: 0.5088 - accuracy: 0.8880 - val_loss: 0.5481 - val_accuracy: 0.8618\n"
          ]
        }
      ]
    },
    {
      "cell_type": "code",
      "source": [
        "model.evaluate(test_data)"
      ],
      "metadata": {
        "colab": {
          "base_uri": "https://localhost:8080/"
        },
        "id": "OqS-rE5YFMaJ",
        "outputId": "3d5d3efa-3357-4fd7-a156-739f9ef651bd"
      },
      "execution_count": 37,
      "outputs": [
        {
          "output_type": "stream",
          "name": "stdout",
          "text": [
            "79/79 [==============================] - 7s 79ms/step - loss: 0.5757 - accuracy: 0.8452\n"
          ]
        },
        {
          "output_type": "execute_result",
          "data": {
            "text/plain": [
              "[0.5757462382316589, 0.8452000021934509]"
            ]
          },
          "metadata": {},
          "execution_count": 37
        }
      ]
    },
    {
      "cell_type": "code",
      "source": [
        "for i,layer in enumerate(base_model.layers): print(i, layer.name)"
      ],
      "metadata": {
        "id": "b7YP6FdAFqg-"
      },
      "execution_count": null,
      "outputs": []
    },
    {
      "cell_type": "code",
      "source": [
        "plot_loss_curves(history)"
      ],
      "metadata": {
        "colab": {
          "base_uri": "https://localhost:8080/",
          "height": 573
        },
        "id": "QzTmJqzIGhSq",
        "outputId": "c0a5c448-eedb-40ca-9689-95c362f435a8"
      },
      "execution_count": 43,
      "outputs": [
        {
          "output_type": "display_data",
          "data": {
            "text/plain": [
              "<Figure size 432x288 with 1 Axes>"
            ],
            "image/png": "[encoded data removed]"
          },
          "metadata": {
            "needs_background": "light"
          }
        },
        {
          "output_type": "display_data",
          "data": {
            "text/plain": [
              "<Figure size 432x288 with 1 Axes>"
            ],
            "image/png": "[encoded data removed]"
          },
          "metadata": {
            "needs_background": "light"
          }
        }
      ]
    },
    {
      "cell_type": "markdown",
      "source": [
        "### getting a feature vector"
      ],
      "metadata": {
        "id": "W9YPO-r-Jcxp"
      }
    },
    {
      "cell_type": "code",
      "source": [
        "#globalavgpool2d compresses 4-d to 2-d via averaging middle 2 axis to make a feature vector\n",
        "\n",
        "tf.random.set_seed(42)\n",
        "\n",
        "input_shape = (1,4,4,3)\n",
        "tensor = tf.random.normal(input_shape)\n",
        "\n",
        "pooled_tensor = tf.keras.layers.GlobalAvgPool2D()(tensor)\n",
        "tensor.shape,pooled_tensor.shape\n"
      ],
      "metadata": {
        "colab": {
          "base_uri": "https://localhost:8080/"
        },
        "id": "0ORKHCuWHBkY",
        "outputId": "fbce273a-da98-436c-dad0-2acdfb106215"
      },
      "execution_count": 52,
      "outputs": [
        {
          "output_type": "execute_result",
          "data": {
            "text/plain": [
              "(TensorShape([1, 4, 4, 3]), TensorShape([1, 3]))"
            ]
          },
          "metadata": {},
          "execution_count": 52
        }
      ]
    },
    {
      "cell_type": "code",
      "source": [
        ""
      ],
      "metadata": {
        "id": "uOjuxAKSKBNo"
      },
      "execution_count": null,
      "outputs": []
    }
  ]
}