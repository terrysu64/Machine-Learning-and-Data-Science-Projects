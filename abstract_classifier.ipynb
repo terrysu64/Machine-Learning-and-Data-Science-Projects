{
  "cells": [
    {
      "cell_type": "markdown",
      "metadata": {
        "id": "view-in-github",
        "colab_type": "text"
      },
      "source": [
        "<a href=\"https://colab.research.google.com/github/terrysu64/Machine-Learning-and-Data-Science-Projects/blob/main/abstract_classifier.ipynb\" target=\"_parent\"><img src=\"https://colab.research.google.com/assets/colab-badge.svg\" alt=\"Open In Colab\"/></a>"
      ]
    },
    {
      "cell_type": "markdown",
      "metadata": {
        "id": "Qrdo5LEmXgtD"
      },
      "source": [
        "# Abstract Classifier 📝\n",
        "\n",
        "The objective of this notebook is to constrcut an NLP model that identifies sections of medical abstracts to enable easier reading. \n",
        "\n",
        "Dataset source: https://arxiv.org/abs/1710.06071"
      ]
    },
    {
      "cell_type": "code",
      "execution_count": 1,
      "metadata": {
        "colab": {
          "base_uri": "https://localhost:8080/"
        },
        "id": "oQj0xtkQXYIy",
        "outputId": "553f3540-9ce8-4678-b50f-81248da91f6e"
      },
      "outputs": [
        {
          "output_type": "stream",
          "name": "stdout",
          "text": [
            "Sun Dec  4 01:47:04 2022       \n",
            "+-----------------------------------------------------------------------------+\n",
            "| NVIDIA-SMI 460.32.03    Driver Version: 460.32.03    CUDA Version: 11.2     |\n",
            "|-------------------------------+----------------------+----------------------+\n",
            "| GPU  Name        Persistence-M| Bus-Id        Disp.A | Volatile Uncorr. ECC |\n",
            "| Fan  Temp  Perf  Pwr:Usage/Cap|         Memory-Usage | GPU-Util  Compute M. |\n",
            "|                               |                      |               MIG M. |\n",
            "|===============================+======================+======================|\n",
            "|   0  Tesla T4            Off  | 00000000:00:04.0 Off |                    0 |\n",
            "| N/A   57C    P0    29W /  70W |      0MiB / 15109MiB |      0%      Default |\n",
            "|                               |                      |                  N/A |\n",
            "+-------------------------------+----------------------+----------------------+\n",
            "                                                                               \n",
            "+-----------------------------------------------------------------------------+\n",
            "| Processes:                                                                  |\n",
            "|  GPU   GI   CI        PID   Type   Process name                  GPU Memory |\n",
            "|        ID   ID                                                   Usage      |\n",
            "|=============================================================================|\n",
            "|  No running processes found                                                 |\n",
            "+-----------------------------------------------------------------------------+\n"
          ]
        }
      ],
      "source": [
        "#connect to GPU\n",
        "!nvidia-smi"
      ]
    },
    {
      "cell_type": "markdown",
      "metadata": {
        "id": "LPp68R-iZUZ-"
      },
      "source": [
        "### Download Dataset"
      ]
    },
    {
      "cell_type": "code",
      "execution_count": 2,
      "metadata": {
        "colab": {
          "base_uri": "https://localhost:8080/"
        },
        "id": "DjrEAXnSY77f",
        "outputId": "1abf1c8e-da04-49b5-d1e2-8ffe32f2b6d0"
      },
      "outputs": [
        {
          "output_type": "stream",
          "name": "stdout",
          "text": [
            "Cloning into 'pubmed-rct'...\n",
            "remote: Enumerating objects: 33, done.\u001b[K\n",
            "remote: Counting objects: 100% (8/8), done.\u001b[K\n",
            "remote: Compressing objects: 100% (3/3), done.\u001b[K\n",
            "remote: Total 33 (delta 5), reused 5 (delta 5), pack-reused 25\u001b[K\n",
            "Unpacking objects: 100% (33/33), done.\n",
            "Checking out files: 100% (13/13), done.\n",
            "PubMed_200k_RCT\n",
            "PubMed_200k_RCT_numbers_replaced_with_at_sign\n",
            "PubMed_20k_RCT\n",
            "PubMed_20k_RCT_numbers_replaced_with_at_sign\n",
            "README.md\n"
          ]
        }
      ],
      "source": [
        "#can be downloaded from PubMed 200k RCT repository\n",
        "!git clone https://github.com/Franck-Dernoncourt/pubmed-rct\n",
        "!ls pubmed-rct"
      ]
    },
    {
      "cell_type": "code",
      "execution_count": 3,
      "metadata": {
        "colab": {
          "base_uri": "https://localhost:8080/"
        },
        "id": "4o5ZlPO5Zjse",
        "outputId": "ecb6b56d-e038-4ff8-cabd-00e5edb5c3da"
      },
      "outputs": [
        {
          "output_type": "stream",
          "name": "stdout",
          "text": [
            "dev.txt  test.txt  train.txt\n"
          ]
        }
      ],
      "source": [
        "!ls pubmed-rct/PubMed_20k_RCT_numbers_replaced_with_at_sign/\n",
        "\n",
        "#dev.txt = validation set"
      ]
    },
    {
      "cell_type": "code",
      "execution_count": 4,
      "metadata": {
        "id": "tfAkPSwZaWsp"
      },
      "outputs": [],
      "source": [
        "data_dir = '/content/pubmed-rct/PubMed_20k_RCT_numbers_replaced_with_at_sign'"
      ]
    },
    {
      "cell_type": "code",
      "execution_count": 5,
      "metadata": {
        "colab": {
          "base_uri": "https://localhost:8080/"
        },
        "id": "X0M6n1TObG9U",
        "outputId": "bf63aa1d-0cc0-4c47-aaeb-579fa57ce4a2"
      },
      "outputs": [
        {
          "output_type": "execute_result",
          "data": {
            "text/plain": [
              "['/content/pubmed-rct/PubMed_20k_RCT_numbers_replaced_with_at_sign/test.txt',\n",
              " '/content/pubmed-rct/PubMed_20k_RCT_numbers_replaced_with_at_sign/train.txt',\n",
              " '/content/pubmed-rct/PubMed_20k_RCT_numbers_replaced_with_at_sign/dev.txt']"
            ]
          },
          "metadata": {},
          "execution_count": 5
        }
      ],
      "source": [
        "#check filenames in data directory\n",
        "import os \n",
        "filenames = [f\"{data_dir}/{filename}\" for filename in os.listdir(data_dir)]\n",
        "filenames"
      ]
    },
    {
      "cell_type": "markdown",
      "metadata": {
        "id": "n9F0r_00ZhPy"
      },
      "source": [
        "### Preprocessing Data"
      ]
    },
    {
      "cell_type": "code",
      "execution_count": 6,
      "metadata": {
        "id": "aX_AoioKbfrG"
      },
      "outputs": [],
      "source": [
        "#read in all lines of text file\n",
        "def read_lines(file):\n",
        "  \"\"\"\n",
        "  reads file and returns the lines of text via an array\n",
        "  \"\"\"\n",
        "\n",
        "  with open(file, \"r\") as file: \n",
        "    return file.readlines()"
      ]
    },
    {
      "cell_type": "code",
      "execution_count": 7,
      "metadata": {
        "colab": {
          "base_uri": "https://localhost:8080/"
        },
        "id": "Y6Ghw9SQaWXg",
        "outputId": "9f2a780f-38d5-4ca3-bf9c-12074a270e56"
      },
      "outputs": [
        {
          "output_type": "execute_result",
          "data": {
            "text/plain": [
              "['###24293578\\n',\n",
              " 'OBJECTIVE\\tTo investigate the efficacy of @ weeks of daily low-dose oral prednisolone in improving pain , mobility , and systemic low-grade inflammation in the short term and whether the effect would be sustained at @ weeks in older adults with moderate to severe knee osteoarthritis ( OA ) .\\n',\n",
              " 'METHODS\\tA total of @ patients with primary knee OA were randomized @:@ ; @ received @ mg/day of prednisolone and @ received placebo for @ weeks .\\n',\n",
              " 'METHODS\\tOutcome measures included pain reduction and improvement in function scores and systemic inflammation markers .\\n',\n",
              " 'METHODS\\tPain was assessed using the visual analog pain scale ( @-@ mm ) .\\n',\n",
              " 'METHODS\\tSecondary outcome measures included the Western Ontario and McMaster Universities Osteoarthritis Index scores , patient global assessment ( PGA ) of the severity of knee OA , and @-min walk distance ( @MWD ) .\\n',\n",
              " 'METHODS\\tSerum levels of interleukin @ ( IL-@ ) , IL-@ , tumor necrosis factor ( TNF ) - , and high-sensitivity C-reactive protein ( hsCRP ) were measured .\\n',\n",
              " 'RESULTS\\tThere was a clinically relevant reduction in the intervention group compared to the placebo group for knee pain , physical function , PGA , and @MWD at @ weeks .\\n',\n",
              " 'RESULTS\\tThe mean difference between treatment arms ( @ % CI ) was @ ( @-@ @ ) , p < @ ; @ ( @-@ @ ) , p < @ ; @ ( @-@ @ ) , p < @ ; and @ ( @-@ @ ) , p < @ , respectively .\\n',\n",
              " 'RESULTS\\tFurther , there was a clinically relevant reduction in the serum levels of IL-@ , IL-@ , TNF - , and hsCRP at @ weeks in the intervention group when compared to the placebo group .\\n',\n",
              " 'RESULTS\\tThese differences remained significant at @ weeks .\\n',\n",
              " 'RESULTS\\tThe Outcome Measures in Rheumatology Clinical Trials-Osteoarthritis Research Society International responder rate was @ % in the intervention group and @ % in the placebo group ( p < @ ) .\\n',\n",
              " 'CONCLUSIONS\\tLow-dose oral prednisolone had both a short-term and a longer sustained effect resulting in less knee pain , better physical function , and attenuation of systemic inflammation in older patients with knee OA ( ClinicalTrials.gov identifier NCT@ ) .\\n',\n",
              " '\\n',\n",
              " '###24854809\\n']"
            ]
          },
          "metadata": {},
          "execution_count": 7
        }
      ],
      "source": [
        "train_lines = read_lines(f\"{data_dir}/train.txt\")\n",
        "train_lines[:15]"
      ]
    },
    {
      "cell_type": "code",
      "execution_count": 8,
      "metadata": {
        "colab": {
          "base_uri": "https://localhost:8080/"
        },
        "id": "A-LzZVdaakNm",
        "outputId": "fc4dc764-c258-4aff-91d8-3dbf3f78480d"
      },
      "outputs": [
        {
          "output_type": "execute_result",
          "data": {
            "text/plain": [
              "210040"
            ]
          },
          "metadata": {},
          "execution_count": 8
        }
      ],
      "source": [
        "len(train_lines)"
      ]
    },
    {
      "cell_type": "markdown",
      "metadata": {
        "id": "eU1NisucbHkQ"
      },
      "source": [
        "✅ **Ideal Representation**\n",
        "\n",
        "\n",
        "```\n",
        "for each abstract: \n",
        "[\n",
        "  {\n",
        "    line_number: ...,\n",
        "    target: ...,\n",
        "    text: ...,\n",
        "    total_lines: ...,\n",
        "  }\n",
        "]\n",
        "```\n",
        "\n",
        " "
      ]
    },
    {
      "cell_type": "code",
      "execution_count": 9,
      "metadata": {
        "id": "OSF8SIlLa_QV"
      },
      "outputs": [],
      "source": [
        "def preprocess_lines(file):\n",
        "  \"\"\"\n",
        "  returns array of hashmaps, preprocessed in the outlined form\n",
        "  \"\"\"\n",
        "\n",
        "  lines = read_lines(file)\n",
        "  curr_abstract = ''; abstracts = []\n",
        "  abstract_id = None\n",
        "\n",
        "  for line in lines:\n",
        "    if line.startswith('###'): abstract_id = line; curr_abstract = ''\n",
        "    elif line.isspace(): \n",
        "      \n",
        "      line_split = curr_abstract.splitlines()\n",
        "      for i,j in enumerate(line_split):\n",
        "        data={}\n",
        "        target,content = j.split('\\t')\n",
        "        data[\"line_number\"] = i+1\n",
        "        data[\"target\"] = target\n",
        "        data[\"text\"] = content.lower()\n",
        "        data[\"total_lines\"] = len(line_split)\n",
        "        abstracts += [data]\n",
        "        \n",
        "\n",
        "    else: curr_abstract += line\n",
        "\n",
        "\n",
        "  return abstracts"
      ]
    },
    {
      "cell_type": "code",
      "execution_count": 10,
      "metadata": {
        "colab": {
          "base_uri": "https://localhost:8080/"
        },
        "id": "4UsWnEfy_RX6",
        "outputId": "757eb183-684d-4c98-fd84-902f7352e54a"
      },
      "outputs": [
        {
          "output_type": "execute_result",
          "data": {
            "text/plain": [
              "[{'line_number': 1,\n",
              "  'target': 'OBJECTIVE',\n",
              "  'text': 'to investigate the efficacy of @ weeks of daily low-dose oral prednisolone in improving pain , mobility , and systemic low-grade inflammation in the short term and whether the effect would be sustained at @ weeks in older adults with moderate to severe knee osteoarthritis ( oa ) .',\n",
              "  'total_lines': 12},\n",
              " {'line_number': 2,\n",
              "  'target': 'METHODS',\n",
              "  'text': 'a total of @ patients with primary knee oa were randomized @:@ ; @ received @ mg/day of prednisolone and @ received placebo for @ weeks .',\n",
              "  'total_lines': 12},\n",
              " {'line_number': 3,\n",
              "  'target': 'METHODS',\n",
              "  'text': 'outcome measures included pain reduction and improvement in function scores and systemic inflammation markers .',\n",
              "  'total_lines': 12},\n",
              " {'line_number': 4,\n",
              "  'target': 'METHODS',\n",
              "  'text': 'pain was assessed using the visual analog pain scale ( @-@ mm ) .',\n",
              "  'total_lines': 12},\n",
              " {'line_number': 5,\n",
              "  'target': 'METHODS',\n",
              "  'text': 'secondary outcome measures included the western ontario and mcmaster universities osteoarthritis index scores , patient global assessment ( pga ) of the severity of knee oa , and @-min walk distance ( @mwd ) .',\n",
              "  'total_lines': 12},\n",
              " {'line_number': 6,\n",
              "  'target': 'METHODS',\n",
              "  'text': 'serum levels of interleukin @ ( il-@ ) , il-@ , tumor necrosis factor ( tnf ) - , and high-sensitivity c-reactive protein ( hscrp ) were measured .',\n",
              "  'total_lines': 12},\n",
              " {'line_number': 7,\n",
              "  'target': 'RESULTS',\n",
              "  'text': 'there was a clinically relevant reduction in the intervention group compared to the placebo group for knee pain , physical function , pga , and @mwd at @ weeks .',\n",
              "  'total_lines': 12},\n",
              " {'line_number': 8,\n",
              "  'target': 'RESULTS',\n",
              "  'text': 'the mean difference between treatment arms ( @ % ci ) was @ ( @-@ @ ) , p < @ ; @ ( @-@ @ ) , p < @ ; @ ( @-@ @ ) , p < @ ; and @ ( @-@ @ ) , p < @ , respectively .',\n",
              "  'total_lines': 12},\n",
              " {'line_number': 9,\n",
              "  'target': 'RESULTS',\n",
              "  'text': 'further , there was a clinically relevant reduction in the serum levels of il-@ , il-@ , tnf - , and hscrp at @ weeks in the intervention group when compared to the placebo group .',\n",
              "  'total_lines': 12},\n",
              " {'line_number': 10,\n",
              "  'target': 'RESULTS',\n",
              "  'text': 'these differences remained significant at @ weeks .',\n",
              "  'total_lines': 12},\n",
              " {'line_number': 11,\n",
              "  'target': 'RESULTS',\n",
              "  'text': 'the outcome measures in rheumatology clinical trials-osteoarthritis research society international responder rate was @ % in the intervention group and @ % in the placebo group ( p < @ ) .',\n",
              "  'total_lines': 12},\n",
              " {'line_number': 12,\n",
              "  'target': 'CONCLUSIONS',\n",
              "  'text': 'low-dose oral prednisolone had both a short-term and a longer sustained effect resulting in less knee pain , better physical function , and attenuation of systemic inflammation in older patients with knee oa ( clinicaltrials.gov identifier nct@ ) .',\n",
              "  'total_lines': 12},\n",
              " {'line_number': 1,\n",
              "  'target': 'BACKGROUND',\n",
              "  'text': 'emotional eating is associated with overeating and the development of obesity .',\n",
              "  'total_lines': 11},\n",
              " {'line_number': 2,\n",
              "  'target': 'BACKGROUND',\n",
              "  'text': 'yet , empirical evidence for individual ( trait ) differences in emotional eating and cognitive mechanisms that contribute to eating during sad mood remain equivocal .',\n",
              "  'total_lines': 11},\n",
              " {'line_number': 3,\n",
              "  'target': 'OBJECTIVE',\n",
              "  'text': 'the aim of this study was to test if attention bias for food moderates the effect of self-reported emotional eating during sad mood ( vs neutral mood ) on actual food intake .',\n",
              "  'total_lines': 11}]"
            ]
          },
          "metadata": {},
          "execution_count": 10
        }
      ],
      "source": [
        "train_samples = preprocess_lines(f\"{data_dir}/train.txt\")\n",
        "val_samples = preprocess_lines(f\"{data_dir}/dev.txt\")\n",
        "test_samples = preprocess_lines(f\"{data_dir}/test.txt\")\n",
        "train_samples[:15]"
      ]
    },
    {
      "cell_type": "code",
      "execution_count": 11,
      "metadata": {
        "colab": {
          "base_uri": "https://localhost:8080/"
        },
        "id": "ZIRmhkpr_VnK",
        "outputId": "776c91c5-393e-4879-cd24-d6d265727583"
      },
      "outputs": [
        {
          "output_type": "execute_result",
          "data": {
            "text/plain": [
              "(180040, 30212, 30135)"
            ]
          },
          "metadata": {},
          "execution_count": 11
        }
      ],
      "source": [
        "len(train_samples),len(val_samples),len(test_samples)"
      ]
    },
    {
      "cell_type": "markdown",
      "metadata": {
        "id": "C5y1wxToODAj"
      },
      "source": [
        "### Further Visualizing Data"
      ]
    },
    {
      "cell_type": "code",
      "execution_count": 12,
      "metadata": {
        "colab": {
          "base_uri": "https://localhost:8080/",
          "height": 0
        },
        "id": "6hGTsLNEBHEJ",
        "outputId": "2616d6c9-6a33-4a60-a55a-06adb8d2928e"
      },
      "outputs": [
        {
          "output_type": "execute_result",
          "data": {
            "text/plain": [
              "   line_number     target                                               text  \\\n",
              "0            1  OBJECTIVE  to investigate the efficacy of @ weeks of dail...   \n",
              "1            2    METHODS  a total of @ patients with primary knee oa wer...   \n",
              "2            3    METHODS  outcome measures included pain reduction and i...   \n",
              "3            4    METHODS  pain was assessed using the visual analog pain...   \n",
              "4            5    METHODS  secondary outcome measures included the wester...   \n",
              "\n",
              "   total_lines  \n",
              "0           12  \n",
              "1           12  \n",
              "2           12  \n",
              "3           12  \n",
              "4           12  "
            ],
            "text/html": [
              "\n",
              "  <div id=\"df-5a8088a6-a392-4bfe-a4a2-c1e2e361d066\">\n",
              "    <div class=\"colab-df-container\">\n",
              "      <div>\n",
              "<style scoped>\n",
              "    .dataframe tbody tr th:only-of-type {\n",
              "        vertical-align: middle;\n",
              "    }\n",
              "\n",
              "    .dataframe tbody tr th {\n",
              "        vertical-align: top;\n",
              "    }\n",
              "\n",
              "    .dataframe thead th {\n",
              "        text-align: right;\n",
              "    }\n",
              "</style>\n",
              "<table border=\"1\" class=\"dataframe\">\n",
              "  <thead>\n",
              "    <tr style=\"text-align: right;\">\n",
              "      <th></th>\n",
              "      <th>line_number</th>\n",
              "      <th>target</th>\n",
              "      <th>text</th>\n",
              "      <th>total_lines</th>\n",
              "    </tr>\n",
              "  </thead>\n",
              "  <tbody>\n",
              "    <tr>\n",
              "      <th>0</th>\n",
              "      <td>1</td>\n",
              "      <td>OBJECTIVE</td>\n",
              "      <td>to investigate the efficacy of @ weeks of dail...</td>\n",
              "      <td>12</td>\n",
              "    </tr>\n",
              "    <tr>\n",
              "      <th>1</th>\n",
              "      <td>2</td>\n",
              "      <td>METHODS</td>\n",
              "      <td>a total of @ patients with primary knee oa wer...</td>\n",
              "      <td>12</td>\n",
              "    </tr>\n",
              "    <tr>\n",
              "      <th>2</th>\n",
              "      <td>3</td>\n",
              "      <td>METHODS</td>\n",
              "      <td>outcome measures included pain reduction and i...</td>\n",
              "      <td>12</td>\n",
              "    </tr>\n",
              "    <tr>\n",
              "      <th>3</th>\n",
              "      <td>4</td>\n",
              "      <td>METHODS</td>\n",
              "      <td>pain was assessed using the visual analog pain...</td>\n",
              "      <td>12</td>\n",
              "    </tr>\n",
              "    <tr>\n",
              "      <th>4</th>\n",
              "      <td>5</td>\n",
              "      <td>METHODS</td>\n",
              "      <td>secondary outcome measures included the wester...</td>\n",
              "      <td>12</td>\n",
              "    </tr>\n",
              "  </tbody>\n",
              "</table>\n",
              "</div>\n",
              "      <button class=\"colab-df-convert\" onclick=\"convertToInteractive('df-5a8088a6-a392-4bfe-a4a2-c1e2e361d066')\"\n",
              "              title=\"Convert this dataframe to an interactive table.\"\n",
              "              style=\"display:none;\">\n",
              "        \n",
              "  <svg xmlns=\"http://www.w3.org/2000/svg\" height=\"24px\"viewBox=\"0 0 24 24\"\n",
              "       width=\"24px\">\n",
              "    <path d=\"M0 0h24v24H0V0z\" fill=\"none\"/>\n",
              "    <path d=\"M18.56 5.44l.94 2.06.94-2.06 2.06-.94-2.06-.94-.94-2.06-.94 2.06-2.06.94zm-11 1L8.5 8.5l.94-2.06 2.06-.94-2.06-.94L8.5 2.5l-.94 2.06-2.06.94zm10 10l.94 2.06.94-2.06 2.06-.94-2.06-.94-.94-2.06-.94 2.06-2.06.94z\"/><path d=\"M17.41 7.96l-1.37-1.37c-.4-.4-.92-.59-1.43-.59-.52 0-1.04.2-1.43.59L10.3 9.45l-7.72 7.72c-.78.78-.78 2.05 0 2.83L4 21.41c.39.39.9.59 1.41.59.51 0 1.02-.2 1.41-.59l7.78-7.78 2.81-2.81c.8-.78.8-2.07 0-2.86zM5.41 20L4 18.59l7.72-7.72 1.47 1.35L5.41 20z\"/>\n",
              "  </svg>\n",
              "      </button>\n",
              "      \n",
              "  <style>\n",
              "    .colab-df-container {\n",
              "      display:flex;\n",
              "      flex-wrap:wrap;\n",
              "      gap: 12px;\n",
              "    }\n",
              "\n",
              "    .colab-df-convert {\n",
              "      background-color: #E8F0FE;\n",
              "      border: none;\n",
              "      border-radius: 50%;\n",
              "      cursor: pointer;\n",
              "      display: none;\n",
              "      fill: #1967D2;\n",
              "      height: 32px;\n",
              "      padding: 0 0 0 0;\n",
              "      width: 32px;\n",
              "    }\n",
              "\n",
              "    .colab-df-convert:hover {\n",
              "      background-color: #E2EBFA;\n",
              "      box-shadow: 0px 1px 2px rgba(60, 64, 67, 0.3), 0px 1px 3px 1px rgba(60, 64, 67, 0.15);\n",
              "      fill: #174EA6;\n",
              "    }\n",
              "\n",
              "    [theme=dark] .colab-df-convert {\n",
              "      background-color: #3B4455;\n",
              "      fill: #D2E3FC;\n",
              "    }\n",
              "\n",
              "    [theme=dark] .colab-df-convert:hover {\n",
              "      background-color: #434B5C;\n",
              "      box-shadow: 0px 1px 3px 1px rgba(0, 0, 0, 0.15);\n",
              "      filter: drop-shadow(0px 1px 2px rgba(0, 0, 0, 0.3));\n",
              "      fill: #FFFFFF;\n",
              "    }\n",
              "  </style>\n",
              "\n",
              "      <script>\n",
              "        const buttonEl =\n",
              "          document.querySelector('#df-5a8088a6-a392-4bfe-a4a2-c1e2e361d066 button.colab-df-convert');\n",
              "        buttonEl.style.display =\n",
              "          google.colab.kernel.accessAllowed ? 'block' : 'none';\n",
              "\n",
              "        async function convertToInteractive(key) {\n",
              "          const element = document.querySelector('#df-5a8088a6-a392-4bfe-a4a2-c1e2e361d066');\n",
              "          const dataTable =\n",
              "            await google.colab.kernel.invokeFunction('convertToInteractive',\n",
              "                                                     [key], {});\n",
              "          if (!dataTable) return;\n",
              "\n",
              "          const docLinkHtml = 'Like what you see? Visit the ' +\n",
              "            '<a target=\"_blank\" href=https://colab.research.google.com/notebooks/data_table.ipynb>data table notebook</a>'\n",
              "            + ' to learn more about interactive tables.';\n",
              "          element.innerHTML = '';\n",
              "          dataTable['output_type'] = 'display_data';\n",
              "          await google.colab.output.renderOutput(dataTable, element);\n",
              "          const docLink = document.createElement('div');\n",
              "          docLink.innerHTML = docLinkHtml;\n",
              "          element.appendChild(docLink);\n",
              "        }\n",
              "      </script>\n",
              "    </div>\n",
              "  </div>\n",
              "  "
            ]
          },
          "metadata": {},
          "execution_count": 12
        }
      ],
      "source": [
        "import pandas as pd\n",
        "train_df = pd.DataFrame(train_samples)\n",
        "val_df = pd.DataFrame(val_samples)\n",
        "test_df = pd.DataFrame(test_samples)\n",
        "train_df.head()"
      ]
    },
    {
      "cell_type": "code",
      "execution_count": 13,
      "metadata": {
        "colab": {
          "base_uri": "https://localhost:8080/"
        },
        "id": "xCjjIdPUOKtR",
        "outputId": "05dcf6a1-f524-4b18-c938-f3245e9d2fba"
      },
      "outputs": [
        {
          "output_type": "execute_result",
          "data": {
            "text/plain": [
              "METHODS        59353\n",
              "RESULTS        57953\n",
              "CONCLUSIONS    27168\n",
              "BACKGROUND     21727\n",
              "OBJECTIVE      13839\n",
              "Name: target, dtype: int64"
            ]
          },
          "metadata": {},
          "execution_count": 13
        }
      ],
      "source": [
        "train_df.target.value_counts()"
      ]
    },
    {
      "cell_type": "code",
      "execution_count": 14,
      "metadata": {
        "colab": {
          "base_uri": "https://localhost:8080/"
        },
        "id": "P5pZY_d4OWTR",
        "outputId": "a81907f9-8a26-417e-fb1c-d426fc158b60"
      },
      "outputs": [
        {
          "output_type": "execute_result",
          "data": {
            "text/plain": [
              "METHODS        9897\n",
              "RESULTS        9713\n",
              "CONCLUSIONS    4571\n",
              "BACKGROUND     3621\n",
              "OBJECTIVE      2333\n",
              "Name: target, dtype: int64"
            ]
          },
          "metadata": {},
          "execution_count": 14
        }
      ],
      "source": [
        "test_df.target.value_counts()"
      ]
    },
    {
      "cell_type": "code",
      "execution_count": 15,
      "metadata": {
        "colab": {
          "base_uri": "https://localhost:8080/",
          "height": 0
        },
        "id": "ARu7ClQoOcyz",
        "outputId": "42d01d92-5b9f-4d74-dd04-c3dd5695c9b1"
      },
      "outputs": [
        {
          "output_type": "execute_result",
          "data": {
            "text/plain": [
              "<matplotlib.axes._subplots.AxesSubplot at 0x7f02d9cf67f0>"
            ]
          },
          "metadata": {},
          "execution_count": 15
        },
        {
          "output_type": "display_data",
          "data": {
            "text/plain": [
              "<Figure size 432x288 with 1 Axes>"
            ],
            "image/png": "[encoded data removed]"
          },
          "metadata": {
            "needs_background": "light"
          }
        }
      ],
      "source": [
        "# sample length frequency\n",
        "train_df.total_lines.plot.hist()"
      ]
    },
    {
      "cell_type": "markdown",
      "metadata": {
        "id": "s8Yys-m-Os-E"
      },
      "source": [
        "### Convert to Array of Sentences"
      ]
    },
    {
      "cell_type": "code",
      "execution_count": 16,
      "metadata": {
        "colab": {
          "base_uri": "https://localhost:8080/"
        },
        "id": "lTb52QuUOjk8",
        "outputId": "a3d558e0-1ab0-4dfb-807d-07c92607e74f"
      },
      "outputs": [
        {
          "output_type": "execute_result",
          "data": {
            "text/plain": [
              "['to investigate the efficacy of @ weeks of daily low-dose oral prednisolone in improving pain , mobility , and systemic low-grade inflammation in the short term and whether the effect would be sustained at @ weeks in older adults with moderate to severe knee osteoarthritis ( oa ) .',\n",
              " 'a total of @ patients with primary knee oa were randomized @:@ ; @ received @ mg/day of prednisolone and @ received placebo for @ weeks .',\n",
              " 'outcome measures included pain reduction and improvement in function scores and systemic inflammation markers .']"
            ]
          },
          "metadata": {},
          "execution_count": 16
        }
      ],
      "source": [
        "convert = lambda sentences: sentences.tolist()\n",
        "train_sentences = convert(train_df[\"text\"])\n",
        "val_sentences = convert(val_df[\"text\"])\n",
        "test_sentences = convert(test_df[\"text\"])\n",
        "train_sentences[:3]"
      ]
    },
    {
      "cell_type": "markdown",
      "metadata": {
        "id": "QgpVuhvNFUlc"
      },
      "source": [
        "### Creating Numeric Lables"
      ]
    },
    {
      "cell_type": "code",
      "execution_count": 17,
      "metadata": {
        "colab": {
          "base_uri": "https://localhost:8080/"
        },
        "id": "LvQ3bsc4O_Xs",
        "outputId": "6e4c221a-2c69-4dab-eb64-201f00492408"
      },
      "outputs": [
        {
          "output_type": "execute_result",
          "data": {
            "text/plain": [
              "<tf.Tensor: shape=(180040, 5), dtype=float64, numpy=\n",
              "array([[0., 0., 0., 1., 0.],\n",
              "       [0., 0., 1., 0., 0.],\n",
              "       [0., 0., 1., 0., 0.],\n",
              "       ...,\n",
              "       [0., 0., 0., 0., 1.],\n",
              "       [0., 1., 0., 0., 0.],\n",
              "       [0., 1., 0., 0., 0.]])>"
            ]
          },
          "metadata": {},
          "execution_count": 17
        }
      ],
      "source": [
        "#use one-hot encoding (could use label encoding as an alternative as well)\n",
        "from sklearn.preprocessing import OneHotEncoder\n",
        "import tensorflow as tf\n",
        "\n",
        "one_hot_encoder = OneHotEncoder(sparse=False)\n",
        "\n",
        "train_labels_one_hot = one_hot_encoder.fit_transform(train_df[\"target\"] \\\n",
        "                                                     .to_numpy() \\\n",
        "                                                     .reshape(-1, 1))\n",
        "val_labels_one_hot = one_hot_encoder.fit_transform(val_df[\"target\"] \\\n",
        "                                                     .to_numpy() \\\n",
        "                                                     .reshape(-1, 1))\n",
        "test_labels_one_hot = one_hot_encoder.fit_transform(test_df[\"target\"] \\\n",
        "                                                     .to_numpy() \\\n",
        "                                                     .reshape(-1, 1))\n",
        "\n",
        "tf.constant(train_labels_one_hot)"
      ]
    },
    {
      "cell_type": "markdown",
      "metadata": {
        "id": "KRGXGG4GwrjI"
      },
      "source": [
        "### Label Encode Labels"
      ]
    },
    {
      "cell_type": "code",
      "execution_count": 18,
      "metadata": {
        "colab": {
          "base_uri": "https://localhost:8080/"
        },
        "id": "v7jMvuKRwvAG",
        "outputId": "fa221b34-effb-445a-ee67-2c73848b91ab"
      },
      "outputs": [
        {
          "output_type": "execute_result",
          "data": {
            "text/plain": [
              "array([3, 2, 2, 2, 2])"
            ]
          },
          "metadata": {},
          "execution_count": 18
        }
      ],
      "source": [
        "#encode the target columns (labels) into integers\n",
        "from sklearn.preprocessing import LabelEncoder\n",
        "label_encoder = LabelEncoder()\n",
        "train_labels_encoded = label_encoder.fit_transform(train_df[\"target\"].to_numpy())\n",
        "val_labels_encoded = label_encoder.fit_transform(val_df[\"target\"].to_numpy())\n",
        "test_labels_encoded = label_encoder.fit_transform(test_df[\"target\"].to_numpy())\n",
        "\n",
        "train_labels_encoded[:5]"
      ]
    },
    {
      "cell_type": "code",
      "execution_count": 19,
      "metadata": {
        "colab": {
          "base_uri": "https://localhost:8080/"
        },
        "id": "xbqnmSjKxUOF",
        "outputId": "d720a8cc-6f63-430a-85b1-86bee26ce80e"
      },
      "outputs": [
        {
          "output_type": "execute_result",
          "data": {
            "text/plain": [
              "array(['BACKGROUND', 'CONCLUSIONS', 'METHODS', 'OBJECTIVE', 'RESULTS'],\n",
              "      dtype=object)"
            ]
          },
          "metadata": {},
          "execution_count": 19
        }
      ],
      "source": [
        "class_names = label_encoder.classes_\n",
        "num_classes = len(class_names)\n",
        "class_names"
      ]
    },
    {
      "cell_type": "markdown",
      "metadata": {
        "id": "kzYZBcxxvYIn"
      },
      "source": [
        "## Testing Various Model\n"
      ]
    },
    {
      "cell_type": "markdown",
      "source": [
        "### Model 1 🤖: Baseline (TF-IDF multinomial Naive Bayes)"
      ],
      "metadata": {
        "id": "O66li5nR0YOy"
      }
    },
    {
      "cell_type": "code",
      "execution_count": 20,
      "metadata": {
        "colab": {
          "base_uri": "https://localhost:8080/"
        },
        "id": "tfbMBYggGafP",
        "outputId": "46969f6c-e18c-4d9b-ee19-d85bc6ed15ab"
      },
      "outputs": [
        {
          "output_type": "execute_result",
          "data": {
            "text/plain": [
              "Pipeline(steps=[('tf-idf', TfidfVectorizer()), ('clf', MultinomialNB())])"
            ]
          },
          "metadata": {},
          "execution_count": 20
        }
      ],
      "source": [
        "from pandas.core.reshape.merge import MultiIndex\n",
        "from sklearn.feature_extraction.text import TfidfVectorizer\n",
        "from sklearn.naive_bayes import MultinomialNB\n",
        "from sklearn.pipeline import Pipeline\n",
        "\n",
        "model_1 = Pipeline([\n",
        "    (\"tf-idf\", TfidfVectorizer()),\n",
        "    (\"clf\", MultinomialNB())\n",
        "])\n",
        "\n",
        "model_1.fit(X=train_sentences, y=train_labels_encoded)"
      ]
    },
    {
      "cell_type": "code",
      "execution_count": 21,
      "metadata": {
        "colab": {
          "base_uri": "https://localhost:8080/"
        },
        "id": "maOqZysRxsbz",
        "outputId": "d9026e17-7d52-428a-efe9-d4b1bc522918"
      },
      "outputs": [
        {
          "output_type": "execute_result",
          "data": {
            "text/plain": [
              "0.7218323844829869"
            ]
          },
          "metadata": {},
          "execution_count": 21
        }
      ],
      "source": [
        "#evaluate baseline on validation set\n",
        "model_1.score(X=val_sentences, y=val_labels_encoded)"
      ]
    },
    {
      "cell_type": "code",
      "execution_count": 22,
      "metadata": {
        "id": "139mOCKdzA7o"
      },
      "outputs": [],
      "source": [
        "from sklearn.metrics import accuracy_score, precision_recall_fscore_support\n",
        "def calculate_results(y_true, y_pred):\n",
        "  \"\"\"\n",
        "  Calculates model accuracy, precision, recall and f1 score of a binary classification model.\n",
        "  Args:\n",
        "      y_true: true labels in the form of a 1D array\n",
        "      y_pred: predicted labels in the form of a 1D array\n",
        "  Returns a dictionary of accuracy, precision, recall, f1-score.\n",
        "  \"\"\"\n",
        "  # Calculate model accuracy\n",
        "  model_accuracy = accuracy_score(y_true, y_pred) * 100\n",
        "  # Calculate model precision, recall and f1 score using \"weighted average\n",
        "  model_precision, model_recall, model_f1, _ = precision_recall_fscore_support(y_true, y_pred, average=\"weighted\")\n",
        "  model_results = {\"accuracy\": model_accuracy,\n",
        "                  \"precision\": model_precision,\n",
        "                  \"recall\": model_recall,\n",
        "                  \"f1\": model_f1}\n",
        "  return model_results"
      ]
    },
    {
      "cell_type": "code",
      "execution_count": 23,
      "metadata": {
        "colab": {
          "base_uri": "https://localhost:8080/"
        },
        "id": "Q_lLkMniycOB",
        "outputId": "525368dd-f7c8-455b-87fb-2b8d38dd9f88"
      },
      "outputs": [
        {
          "output_type": "execute_result",
          "data": {
            "text/plain": [
              "{'accuracy': 72.1832384482987,\n",
              " 'precision': 0.7186466952323352,\n",
              " 'recall': 0.7218323844829869,\n",
              " 'f1': 0.6989250353450294}"
            ]
          },
          "metadata": {},
          "execution_count": 23
        }
      ],
      "source": [
        "baseline_preds = model_1.predict(val_sentences)\n",
        "baseline_results = calculate_results(y_true=val_labels_encoded, y_pred=baseline_preds)\n",
        "baseline_results"
      ]
    },
    {
      "cell_type": "markdown",
      "metadata": {
        "id": "jo1VWBFZ6fYO"
      },
      "source": [
        "### Preparing the Text for Deep Sequence Models"
      ]
    },
    {
      "cell_type": "code",
      "execution_count": 24,
      "metadata": {
        "colab": {
          "base_uri": "https://localhost:8080/",
          "height": 298
        },
        "id": "kHGmQgbNyhy_",
        "outputId": "df99bb0d-3f80-436e-f513-6dc283725975"
      },
      "outputs": [
        {
          "output_type": "execute_result",
          "data": {
            "text/plain": [
              "Text(0.5, 1.0, 'Sentence Length Distribution')"
            ]
          },
          "metadata": {},
          "execution_count": 24
        },
        {
          "output_type": "display_data",
          "data": {
            "text/plain": [
              "<Figure size 432x288 with 1 Axes>"
            ],
            "image/png": "[encoded data removed]"
          },
          "metadata": {
            "needs_background": "light"
          }
        }
      ],
      "source": [
        "#prepare info for creating embedding and vectorization layers prior to building neural networks\n",
        "\n",
        "import numpy as np\n",
        "import tensorflow as tf\n",
        "from tensorflow.keras import layers\n",
        "import matplotlib.pyplot as plt\n",
        "\n",
        "lengths = [len(x.split(' ')) for x in train_sentences]\n",
        "AVG_SENT_LEN = np.mean(lengths)\n",
        "\n",
        "plt.hist(lengths, bins=20)\n",
        "plt.title(\"Sentence Length Distribution\")"
      ]
    },
    {
      "cell_type": "code",
      "execution_count": 25,
      "metadata": {
        "colab": {
          "base_uri": "https://localhost:8080/"
        },
        "id": "gIb5zeQi8_4P",
        "outputId": "99dd0fc9-0731-4867-8a0e-a7bd19c215d3"
      },
      "outputs": [
        {
          "output_type": "execute_result",
          "data": {
            "text/plain": [
              "55"
            ]
          },
          "metadata": {},
          "execution_count": 25
        }
      ],
      "source": [
        "#determine padding cutoff (enough length to fully cover 95% of sentences)\n",
        "\n",
        "seq_len = int(np.percentile(lengths, 95))\n",
        "seq_len"
      ]
    },
    {
      "cell_type": "code",
      "execution_count": 26,
      "metadata": {
        "id": "8KxP9b8M_TpM"
      },
      "outputs": [],
      "source": [
        "#vectorizer layer\n",
        "\n",
        "from tensorflow.keras.layers.experimental.preprocessing import TextVectorization\n",
        "\n",
        "max_tokens = 68000 #source: https://arxiv.org/pdf/1710.06071.pdf, table 2\n",
        "text_vectorizer = TextVectorization(max_tokens=max_tokens,\n",
        "                                    output_sequence_length=seq_len)\n",
        "\n",
        "#adapt to training sentences only (prevent data leakage)\n",
        "text_vectorizer.adapt(train_sentences)"
      ]
    },
    {
      "cell_type": "code",
      "execution_count": 27,
      "metadata": {
        "colab": {
          "base_uri": "https://localhost:8080/"
        },
        "id": "gbgg0iZ79Qob",
        "outputId": "37df9f30-fe5a-4ea8-eb8d-557bf7fbaf44"
      },
      "outputs": [
        {
          "output_type": "stream",
          "name": "stdout",
          "text": [
            "Top 10 Most Common Words:\n",
            " ['', '[UNK]', 'the', 'and', 'of', 'in', 'to', 'with', 'a', 'were']\n",
            "\n",
            "Top 10 Least Common Words:\n",
            " ['aarm', 'aaqol', 'aaq', 'aanhui', 'aana', 'aainduced', 'aaigroup', 'aachener', 'aachen', 'aaacp']\n"
          ]
        }
      ],
      "source": [
        "rct_20k_vocab = text_vectorizer.get_vocabulary()\n",
        "print(f\"Top 10 Most Common Words:\\n {rct_20k_vocab[:10]}\\n\")\n",
        "print(f\"Top 10 Least Common Words:\\n {rct_20k_vocab[-10:]}\")"
      ]
    },
    {
      "cell_type": "code",
      "execution_count": 28,
      "metadata": {
        "colab": {
          "base_uri": "https://localhost:8080/"
        },
        "id": "dOO9jKlk6g9Y",
        "outputId": "03613d55-1652-45c8-dfdf-657d712d3acd"
      },
      "outputs": [
        {
          "output_type": "stream",
          "name": "stdout",
          "text": [
            "Sentence:\n",
            " to examine whether an efficacious voucher-based incentives intervention for decreasing smoking during pregnancy and increasing fetal growth could be improved without increasing costs .\n",
            "\n",
            "Vectorized Sentence:\n",
            " [[    6   534   180    26  1705 33114  3622    38    11  1795   425    52\n",
            "    540     3   575  2975   621   281    36   170   159   575   577     0\n",
            "      0     0     0     0     0     0     0     0     0     0     0     0\n",
            "      0     0     0     0     0     0     0     0     0     0     0     0\n",
            "      0     0     0     0     0     0     0]]\n"
          ]
        }
      ],
      "source": [
        "import random\n",
        "target_sentence = random.choice(train_sentences)\n",
        "print(f\"Sentence:\\n {target_sentence}\\n\")\n",
        "print(f\"Vectorized Sentence:\\n {text_vectorizer([target_sentence])}\")"
      ]
    },
    {
      "cell_type": "code",
      "execution_count": 29,
      "metadata": {
        "id": "UXSRSFcv69qk"
      },
      "outputs": [],
      "source": [
        "#text embedding \n",
        "token_embed = layers.Embedding(input_dim=len(rct_20k_vocab), #the largest integer in the input should be no larger than the vocab. size\n",
        "                               output_dim=128,\n",
        "                               mask_zero=True, #similar to padding with 0s at the end\n",
        "                               name=\"token_embedding\")"
      ]
    },
    {
      "cell_type": "markdown",
      "metadata": {
        "id": "0nrn8E5sl1tc"
      },
      "source": [
        "### Creating Efficient Data Pipeline\n",
        "\n",
        "https://www.tensorflow.org/guide/data_performance"
      ]
    },
    {
      "cell_type": "code",
      "execution_count": 30,
      "metadata": {
        "colab": {
          "base_uri": "https://localhost:8080/"
        },
        "id": "X0o48tfH4UED",
        "outputId": "9f8ad320-4470-4e5a-b396-ac53aeaefdd7"
      },
      "outputs": [
        {
          "output_type": "execute_result",
          "data": {
            "text/plain": [
              "<TensorSliceDataset element_spec=(TensorSpec(shape=(), dtype=tf.string, name=None), TensorSpec(shape=(5,), dtype=tf.float64, name=None))>"
            ]
          },
          "metadata": {},
          "execution_count": 30
        }
      ],
      "source": [
        "#use tf.data API to turn data to tf datasets (faster via parallel loading at cost of memory)\n",
        "train_dataset = tf.data.Dataset.from_tensor_slices((train_sentences, train_labels_one_hot))\n",
        "val_dataset = tf.data.Dataset.from_tensor_slices((val_sentences, val_labels_one_hot))\n",
        "test_dataset= tf.data.Dataset.from_tensor_slices((test_sentences, test_labels_one_hot))\n",
        "\n",
        "train_dataset"
      ]
    },
    {
      "cell_type": "code",
      "execution_count": 31,
      "metadata": {
        "colab": {
          "base_uri": "https://localhost:8080/"
        },
        "id": "70uqS5IjmLXB",
        "outputId": "d43c58b6-173e-46f2-de3d-8d9a4afb417d"
      },
      "outputs": [
        {
          "output_type": "execute_result",
          "data": {
            "text/plain": [
              "<PrefetchDataset element_spec=(TensorSpec(shape=(None,), dtype=tf.string, name=None), TensorSpec(shape=(None, 5), dtype=tf.float64, name=None))>"
            ]
          },
          "metadata": {},
          "execution_count": 31
        }
      ],
      "source": [
        "train_dataset = train_dataset.batch(32).prefetch(tf.data.AUTOTUNE)\n",
        "val_dataset = val_dataset.batch(32).prefetch(tf.data.AUTOTUNE)\n",
        "test_dataset = test_dataset.batch(32).prefetch(tf.data.AUTOTUNE)\n",
        "\n",
        "train_dataset"
      ]
    },
    {
      "cell_type": "markdown",
      "source": [
        "### Model 2 🤖: Conv1D With Token Embedding"
      ],
      "metadata": {
        "id": "-Mi1J7kAMyhS"
      }
    },
    {
      "cell_type": "code",
      "execution_count": 32,
      "metadata": {
        "colab": {
          "base_uri": "https://localhost:8080/"
        },
        "id": "mU81joOBmma1",
        "outputId": "b7e37a52-5f6a-42bb-b4c9-19dc54426c70"
      },
      "outputs": [
        {
          "output_type": "stream",
          "name": "stdout",
          "text": [
            "Model: \"model\"\n",
            "_________________________________________________________________\n",
            " Layer (type)                Output Shape              Param #   \n",
            "=================================================================\n",
            " input_1 (InputLayer)        [(None, 1)]               0         \n",
            "                                                                 \n",
            " text_vectorization (TextVec  (None, 55)               0         \n",
            " torization)                                                     \n",
            "                                                                 \n",
            " token_embedding (Embedding)  (None, 55, 128)          8299648   \n",
            "                                                                 \n",
            " conv1d (Conv1D)             (None, 55, 64)            41024     \n",
            "                                                                 \n",
            " global_average_pooling1d (G  (None, 64)               0         \n",
            " lobalAveragePooling1D)                                          \n",
            "                                                                 \n",
            " dense (Dense)               (None, 5)                 325       \n",
            "                                                                 \n",
            "=================================================================\n",
            "Total params: 8,340,997\n",
            "Trainable params: 8,340,997\n",
            "Non-trainable params: 0\n",
            "_________________________________________________________________\n"
          ]
        }
      ],
      "source": [
        "#setup model\n",
        "\n",
        "inputs = layers.Input(shape=(1,), dtype=tf.string)\n",
        "text_vectors = text_vectorizer(inputs)\n",
        "token_embedding = token_embed(text_vectors)\n",
        "x = layers.Conv1D(64, kernel_size=5, padding=\"same\", activation=\"relu\")(token_embedding)\n",
        "x = layers.GlobalAveragePooling1D()(x) #condense output of feature vector\n",
        "outputs = layers.Dense(len(class_names), activation=\"softmax\")(x)\n",
        "\n",
        "model_2 = tf.keras.Model(inputs, outputs)\n",
        "model_2.compile(loss=\"categorical_crossentropy\",\n",
        "                optimizer=tf.keras.optimizers.Adam(),\n",
        "                metrics=[\"accuracy\"])\n",
        "\n",
        "model_2.summary()"
      ]
    },
    {
      "cell_type": "code",
      "source": [
        "#fit model (but only look at 10% of batch / epoch)\n",
        "\n",
        "history_model_2 = model_2.fit(train_dataset,\n",
        "                              steps_per_epoch=int(0.1*len(train_dataset)),\n",
        "                              epochs=3,\n",
        "                              validation_data=val_dataset,\n",
        "                              validation_steps=int(0.1*len(val_dataset)))"
      ],
      "metadata": {
        "colab": {
          "base_uri": "https://localhost:8080/"
        },
        "id": "goZ6w6s-NeOa",
        "outputId": "7389e427-21e6-4713-c96e-93da40a16b4d"
      },
      "execution_count": 33,
      "outputs": [
        {
          "output_type": "stream",
          "name": "stdout",
          "text": [
            "Epoch 1/3\n",
            "562/562 [==============================] - 15s 11ms/step - loss: 0.9191 - accuracy: 0.6367 - val_loss: 0.6869 - val_accuracy: 0.7370\n",
            "Epoch 2/3\n",
            "562/562 [==============================] - 5s 9ms/step - loss: 0.6563 - accuracy: 0.7567 - val_loss: 0.6352 - val_accuracy: 0.7670\n",
            "Epoch 3/3\n",
            "562/562 [==============================] - 5s 8ms/step - loss: 0.6181 - accuracy: 0.7741 - val_loss: 0.5990 - val_accuracy: 0.7832\n"
          ]
        }
      ]
    },
    {
      "cell_type": "code",
      "source": [
        "#model evaluation\n",
        "\n",
        "model_2.evaluate(val_dataset)"
      ],
      "metadata": {
        "colab": {
          "base_uri": "https://localhost:8080/"
        },
        "id": "t4zij6-iPE1O",
        "outputId": "48ff110a-bd78-4be2-b90d-7cc67c649cfc"
      },
      "execution_count": 34,
      "outputs": [
        {
          "output_type": "stream",
          "name": "stdout",
          "text": [
            "945/945 [==============================] - 3s 3ms/step - loss: 0.5992 - accuracy: 0.7848\n"
          ]
        },
        {
          "output_type": "execute_result",
          "data": {
            "text/plain": [
              "[0.5991566777229309, 0.7848206162452698]"
            ]
          },
          "metadata": {},
          "execution_count": 34
        }
      ]
    },
    {
      "cell_type": "code",
      "source": [
        "model_2_preds = model_2.predict(val_dataset)\n",
        "conv_model_2_preds = [class_names[max([i for i in range(5)], key=lambda j:pred[j])] for pred in model_2_preds]\n",
        "\n",
        "class_names"
      ],
      "metadata": {
        "colab": {
          "base_uri": "https://localhost:8080/"
        },
        "id": "fieHQ8UnQXST",
        "outputId": "11e5aa06-3c69-48a0-99c6-35cd6d82461d"
      },
      "execution_count": 35,
      "outputs": [
        {
          "output_type": "stream",
          "name": "stdout",
          "text": [
            "945/945 [==============================] - 3s 3ms/step\n"
          ]
        },
        {
          "output_type": "execute_result",
          "data": {
            "text/plain": [
              "array(['BACKGROUND', 'CONCLUSIONS', 'METHODS', 'OBJECTIVE', 'RESULTS'],\n",
              "      dtype=object)"
            ]
          },
          "metadata": {},
          "execution_count": 35
        }
      ]
    },
    {
      "cell_type": "code",
      "source": [
        "conv_model_2_preds[:5]"
      ],
      "metadata": {
        "colab": {
          "base_uri": "https://localhost:8080/"
        },
        "id": "WNGyblsVQoPz",
        "outputId": "afd4f8df-6216-425d-a06f-85d7e556b3ac"
      },
      "execution_count": 36,
      "outputs": [
        {
          "output_type": "execute_result",
          "data": {
            "text/plain": [
              "['BACKGROUND', 'BACKGROUND', 'OBJECTIVE', 'METHODS', 'RESULTS']"
            ]
          },
          "metadata": {},
          "execution_count": 36
        }
      ]
    },
    {
      "cell_type": "code",
      "source": [
        "model_2_results = calculate_results(val_labels_encoded,\n",
        "                                    tf.argmax(model_2_preds, axis=1))\n",
        "\n",
        "model_2_results"
      ],
      "metadata": {
        "colab": {
          "base_uri": "https://localhost:8080/"
        },
        "id": "WymNadRNRFEs",
        "outputId": "61285cbb-1c3e-4505-d548-e47a13c7713c"
      },
      "execution_count": 37,
      "outputs": [
        {
          "output_type": "execute_result",
          "data": {
            "text/plain": [
              "{'accuracy': 78.48206010856613,\n",
              " 'precision': 0.7817089570128514,\n",
              " 'recall': 0.7848206010856613,\n",
              " 'f1': 0.7822401143083333}"
            ]
          },
          "metadata": {},
          "execution_count": 37
        }
      ]
    },
    {
      "cell_type": "markdown",
      "source": [
        "### Model 3 🤖: Pretrained Feature Extractor (Conv1D)\n",
        "\n",
        "*   universal sentence encoder v4\n",
        "\n"
      ],
      "metadata": {
        "id": "GpGX3RlxSIVk"
      }
    },
    {
      "cell_type": "code",
      "source": [
        "import tensorflow_hub as hub\n",
        "\n",
        "extractor_layer = hub.KerasLayer(\"https://tfhub.dev/google/universal-sentence-encoder/4\",\n",
        "                                 trainable=False,\n",
        "                                 name=\"USE\")"
      ],
      "metadata": {
        "id": "-IoFp_4kRnN5"
      },
      "execution_count": 38,
      "outputs": []
    },
    {
      "cell_type": "code",
      "source": [
        "#test on arbitrary sentence\n",
        "sentence = random.choice(train_sentences)\n",
        "embedded_sentence = extractor_layer([sentence])\n",
        "print(sentence)\n",
        "print(embedded_sentence)"
      ],
      "metadata": {
        "id": "GO8c4D08R8L6",
        "colab": {
          "base_uri": "https://localhost:8080/"
        },
        "outputId": "caad60b0-3cd0-45f3-9d4f-f0531f1a4ec3"
      },
      "execution_count": 39,
      "outputs": [
        {
          "output_type": "stream",
          "name": "stdout",
          "text": [
            "no effect of il@b-polymorphism was found on viral kinetic parameters .\n",
            "tf.Tensor(\n",
            "[[ 0.0065609   0.05066941 -0.0107048  -0.07984995  0.00875058  0.06632092\n",
            "   0.08285613  0.0293549  -0.04469498  0.0785825   0.06222668  0.05324581\n",
            "   0.02068379  0.07133219  0.0668347  -0.01852555  0.00813957 -0.05545017\n",
            "  -0.00720738  0.00220671 -0.01166202 -0.040052   -0.03605229  0.05984124\n",
            "  -0.08058037 -0.00238057 -0.04798667  0.05267396  0.01929303 -0.00798064\n",
            "  -0.02852181 -0.00683862 -0.02300689 -0.03067091  0.06142877 -0.03651718\n",
            "  -0.06704829  0.013513   -0.05450334  0.06312983  0.00657695  0.0788372\n",
            "   0.05753923  0.06910249 -0.00459131 -0.0211856   0.04736705 -0.04069711\n",
            "   0.05858809 -0.00963156 -0.05785788 -0.08643468 -0.02150539  0.05236074\n",
            "  -0.03737688 -0.00841762  0.07671922 -0.04786599  0.08361897  0.01984827\n",
            "  -0.03864329  0.07927288  0.0160305   0.03303538  0.01032375 -0.0504223\n",
            "  -0.02070385  0.08852594  0.06817402  0.05814182 -0.03859865  0.03657264\n",
            "  -0.01824188 -0.03065929 -0.01386975  0.0474529  -0.0453262   0.0320908\n",
            "  -0.03600412 -0.01312227  0.03083026 -0.04831625  0.03163919 -0.01323907\n",
            "  -0.00355353  0.0261177   0.04100091  0.08088685  0.01227909  0.04346916\n",
            "   0.00981386  0.08061324  0.0453823   0.04460125 -0.00687068  0.03508256\n",
            "  -0.01877757 -0.05380533  0.00112464 -0.04114766  0.00603582  0.02542359\n",
            "  -0.04805985  0.07165381  0.05087079 -0.0081829  -0.02418122 -0.05562114\n",
            "  -0.01710227 -0.08431182  0.03545073 -0.01837954 -0.04290682  0.03584805\n",
            "   0.04715983  0.0045465   0.00407715 -0.053126    0.02934033 -0.07688248\n",
            "  -0.02637289  0.04458103 -0.01525882 -0.03422416 -0.03835877 -0.04538736\n",
            "  -0.00181643  0.00160516  0.00672712 -0.07766651 -0.03687467  0.05658937\n",
            "  -0.00057814 -0.04590752  0.02451994 -0.05532061  0.02156289  0.08963764\n",
            "  -0.04760046  0.00089794  0.05622726  0.0208182  -0.0492247  -0.03778154\n",
            "   0.02815009 -0.05646731  0.06264277 -0.0544158   0.04020317  0.01647248\n",
            "   0.03611197 -0.04093856 -0.03600301 -0.06830994  0.04532921  0.03557907\n",
            "   0.07641418  0.01626752 -0.06985484 -0.06414995  0.04288372 -0.00173308\n",
            "  -0.02225916 -0.0321326   0.07675079  0.0463688  -0.04961165 -0.00658895\n",
            "  -0.024027   -0.04666186  0.08144333 -0.09496967 -0.02734877  0.02573767\n",
            "  -0.00312234  0.03415316  0.01193647 -0.02232944 -0.01804122 -0.01410479\n",
            "   0.011353    0.0738536  -0.09226544  0.06393135  0.06094698 -0.05671016\n",
            "  -0.01393692  0.01919969  0.02865555  0.06013759  0.02635359  0.04285936\n",
            "  -0.04977463  0.01401033 -0.05496982  0.0016197   0.08245368  0.02953163\n",
            "   0.06217425 -0.01726397  0.03260826  0.03789307  0.01001299  0.01781577\n",
            "  -0.02798958 -0.06155409 -0.09449144 -0.00271719 -0.01204158  0.07397477\n",
            "  -0.03417321 -0.03737496 -0.03108488 -0.05986612 -0.0405585   0.00963029\n",
            "   0.00022145 -0.05923118 -0.01024475 -0.02873477 -0.00043934 -0.03524745\n",
            "   0.02726886  0.01111004 -0.00845278  0.03919023  0.04404229  0.02082974\n",
            "   0.02939821  0.01513188 -0.02476059  0.09670138  0.0483874   0.0014301\n",
            "   0.05235585 -0.04499954  0.01796612  0.0112911  -0.07535222 -0.00965726\n",
            "   0.01365657 -0.02501566  0.0294649   0.03211614  0.04353409 -0.05249552\n",
            "   0.02952374 -0.0887384   0.05947474  0.01717875 -0.07635304  0.07702027\n",
            "  -0.02948568  0.0038751   0.00191323  0.01488842 -0.04007098 -0.0276119\n",
            "   0.03270067 -0.022544   -0.01064773  0.02140827 -0.05841318  0.03295807\n",
            "   0.02025044 -0.07086157 -0.08377456  0.05115195  0.06042139 -0.02522212\n",
            "   0.03075377  0.07161933  0.02335509  0.01767676 -0.05788919 -0.02307401\n",
            "   0.07582456  0.03015146 -0.04799261 -0.06212552 -0.02857902 -0.00850548\n",
            "   0.06030262  0.05627774  0.03388911 -0.02641928 -0.04810249  0.00765212\n",
            "  -0.01006908  0.01618734 -0.03529378 -0.00502671 -0.02785915 -0.01514749\n",
            "  -0.08825912 -0.02586534 -0.01791929 -0.05216719 -0.0012784  -0.02216021\n",
            "   0.01909848 -0.01581617 -0.03833281  0.02026085  0.05906137 -0.01557301\n",
            "   0.01236069 -0.00823933  0.06800865 -0.00539965  0.02853949 -0.01618919\n",
            "  -0.04636706  0.01019212 -0.01903639 -0.06384361  0.02922978 -0.00280588\n",
            "  -0.02343355  0.02776297 -0.00948758 -0.02232732  0.04996843 -0.01628106\n",
            "   0.03921689 -0.01095003  0.02767033  0.02490912 -0.05677126 -0.07629752\n",
            "  -0.09248306 -0.04992012  0.06915432 -0.07141495 -0.00999808 -0.06474275\n",
            "   0.04718558 -0.00687598 -0.00992629 -0.05271135 -0.00551147 -0.03879083\n",
            "  -0.04286702 -0.02682607 -0.0802153   0.03046226 -0.04689975  0.06404792\n",
            "  -0.03007019 -0.0048212  -0.02282325 -0.05439136  0.0472541  -0.00811558\n",
            "   0.05069931  0.03879505 -0.08036397  0.06142395 -0.02531483 -0.01221156\n",
            "   0.01369952 -0.00247547 -0.05104994  0.011871   -0.00275365 -0.01435181\n",
            "  -0.03795003  0.01231199  0.05888377 -0.01587029  0.00204127  0.07488115\n",
            "  -0.05663017 -0.08138628  0.05649902 -0.08201953  0.05698943 -0.03426085\n",
            "   0.04727549 -0.00841274  0.02544657 -0.05396416  0.00736235  0.01068564\n",
            "   0.09842301  0.00358778  0.0864152  -0.02901487 -0.02089519 -0.00944298\n",
            "   0.08990137 -0.01490079  0.06138774 -0.02587092 -0.01570129  0.04956674\n",
            "  -0.02303658 -0.01491389  0.0161391  -0.06645785  0.05159292  0.0689299\n",
            "  -0.00357978  0.08778625  0.0249022  -0.03626028  0.01067842  0.07560819\n",
            "  -0.02913741 -0.02153727 -0.01711977  0.02360005 -0.00154116  0.07250666\n",
            "  -0.01128087 -0.03585884  0.02422951 -0.07124137  0.04786538  0.0083643\n",
            "  -0.06414828 -0.04883793  0.00293859 -0.02834672  0.02024313 -0.04320312\n",
            "  -0.00392773 -0.03269471 -0.07778732  0.00545595 -0.05203579  0.00591489\n",
            "   0.02987392 -0.01757179 -0.09172948  0.01347911 -0.0456817   0.00462828\n",
            "  -0.01949219  0.02624492  0.01470636  0.00282221 -0.06836612  0.08293567\n",
            "   0.05367798 -0.06430059  0.01388898 -0.04900049 -0.03427598 -0.04384802\n",
            "  -0.05172146  0.04669929  0.01479208  0.05327249 -0.02338336 -0.03327098\n",
            "  -0.04211975 -0.03457231 -0.08703297  0.04718041  0.08427069  0.08363199\n",
            "  -0.07448722  0.02446014 -0.01755164 -0.05065728 -0.07240465 -0.0075026\n",
            "   0.00290438 -0.03411843  0.05246146  0.06286477  0.00559144  0.02344464\n",
            "  -0.0361355  -0.03691642 -0.01205258  0.02397308 -0.03467085  0.03926223\n",
            "  -0.02456453 -0.02127833  0.01949195 -0.00693048 -0.0366448  -0.01746523\n",
            "   0.01905866 -0.04060062  0.01675961  0.05344542 -0.04636269  0.03184988\n",
            "  -0.01280677 -0.00418038 -0.05819052 -0.01458492  0.03089836  0.05528013\n",
            "  -0.08067842 -0.08056024 -0.02069558  0.00729364 -0.00386045  0.07375226\n",
            "   0.04701034 -0.08335278  0.00677173  0.04398587  0.00360819 -0.04366593\n",
            "  -0.01431057  0.0043174 ]], shape=(1, 512), dtype=float32)\n"
          ]
        }
      ]
    },
    {
      "cell_type": "code",
      "source": [
        "inputs = layers.Input(shape=[], dtype=tf.string)\n",
        "embedding = extractor_layer(inputs)\n",
        "x = layers.Dense(128, activation=\"relu\")(embedding)\n",
        "x = layers.Dense(64, activation=\"relu\")(x)\n",
        "outputs = layers.Dense(num_classes, activation=\"softmax\")(x)\n",
        "model_3 = tf.keras.Model(inputs=inputs,\n",
        "                         outputs=outputs,\n",
        "                         name=\"USE_feature_extractor\")\n",
        "\n",
        "model_3.compile(loss=\"categorical_crossentropy\",\n",
        "                optimizer=tf.keras.optimizers.Adam(),\n",
        "                metrics=[\"accuracy\"])"
      ],
      "metadata": {
        "id": "1aOkoRzdTolo"
      },
      "execution_count": 40,
      "outputs": []
    },
    {
      "cell_type": "code",
      "source": [
        "history_model_3 = model_3.fit(train_dataset,\n",
        "                              steps_per_epoch=int(0.1*len(train_dataset)),\n",
        "                              epochs=3,\n",
        "                              validation_data=val_dataset,\n",
        "                              validation_steps=int(0.1*len(val_dataset)))"
      ],
      "metadata": {
        "colab": {
          "base_uri": "https://localhost:8080/"
        },
        "id": "lCNENaour5Qm",
        "outputId": "077ad9ed-d008-413d-8b5b-5fc22e746326"
      },
      "execution_count": 41,
      "outputs": [
        {
          "output_type": "stream",
          "name": "stdout",
          "text": [
            "Epoch 1/3\n",
            "562/562 [==============================] - 10s 14ms/step - loss: 0.8836 - accuracy: 0.6565 - val_loss: 0.7788 - val_accuracy: 0.6998\n",
            "Epoch 2/3\n",
            "562/562 [==============================] - 7s 13ms/step - loss: 0.7421 - accuracy: 0.7119 - val_loss: 0.7178 - val_accuracy: 0.7257\n",
            "Epoch 3/3\n",
            "562/562 [==============================] - 7s 12ms/step - loss: 0.7137 - accuracy: 0.7246 - val_loss: 0.6864 - val_accuracy: 0.7380\n"
          ]
        }
      ]
    },
    {
      "cell_type": "code",
      "source": [
        "model_3_preds = model_3.predict(val_dataset)\n",
        "conv_model_3_preds = [class_names[max([i for i in range(5)], key=lambda j:pred[j])] for pred in model_3_preds]\n",
        "model_3_results = calculate_results(val_labels_encoded,\n",
        "                                    tf.argmax(model_3_preds, axis=1))\n",
        "\n",
        "model_3_results"
      ],
      "metadata": {
        "colab": {
          "base_uri": "https://localhost:8080/"
        },
        "id": "Ts_sj8oYuXQ0",
        "outputId": "2d0adb81-aa0d-48de-91c0-50239748d8ca"
      },
      "execution_count": 42,
      "outputs": [
        {
          "output_type": "stream",
          "name": "stdout",
          "text": [
            "945/945 [==============================] - 10s 10ms/step\n"
          ]
        },
        {
          "output_type": "execute_result",
          "data": {
            "text/plain": [
              "{'accuracy': 73.29206937640672,\n",
              " 'precision': 0.7340998566320784,\n",
              " 'recall': 0.7329206937640672,\n",
              " 'f1': 0.7323198233166196}"
            ]
          },
          "metadata": {},
          "execution_count": 42
        }
      ]
    },
    {
      "cell_type": "markdown",
      "source": [
        "### Model 4 🤖: Character Embeddings (Conv1D)\n",
        "\n",
        "*   The paper being replicated used a combination of character and token/word embeddings\n",
        "*   All previously created embeddings were token embeddings\n",
        "\n",
        "\n",
        "\n"
      ],
      "metadata": {
        "id": "C8VAqQY1DHUk"
      }
    },
    {
      "cell_type": "markdown",
      "source": [
        "#### Preparing Necessary Layer"
      ],
      "metadata": {
        "id": "OwsySXUk40_K"
      }
    },
    {
      "cell_type": "code",
      "source": [
        "#first we need to create a character level tokenizer\n",
        "\n",
        "split_chars = lambda text: ' '.join(list(text))\n",
        "train_chars = [split_chars(x) for x in train_sentences]\n",
        "val_chars = [split_chars(x) for x in val_sentences]\n",
        "test_chars = [split_chars(x) for x in test_sentences]\n",
        "train_chars[0]"
      ],
      "metadata": {
        "id": "yjRmTtBtuhWn",
        "colab": {
          "base_uri": "https://localhost:8080/",
          "height": 104
        },
        "outputId": "fd179b75-1f43-46ac-e8a3-e4a0db7cc0a6"
      },
      "execution_count": 43,
      "outputs": [
        {
          "output_type": "execute_result",
          "data": {
            "text/plain": [
              "'t o   i n v e s t i g a t e   t h e   e f f i c a c y   o f   @   w e e k s   o f   d a i l y   l o w - d o s e   o r a l   p r e d n i s o l o n e   i n   i m p r o v i n g   p a i n   ,   m o b i l i t y   ,   a n d   s y s t e m i c   l o w - g r a d e   i n f l a m m a t i o n   i n   t h e   s h o r t   t e r m   a n d   w h e t h e r   t h e   e f f e c t   w o u l d   b e   s u s t a i n e d   a t   @   w e e k s   i n   o l d e r   a d u l t s   w i t h   m o d e r a t e   t o   s e v e r e   k n e e   o s t e o a r t h r i t i s   (   o a   )   .'"
            ],
            "application/vnd.google.colaboratory.intrinsic+json": {
              "type": "string"
            }
          },
          "metadata": {},
          "execution_count": 43
        }
      ]
    },
    {
      "cell_type": "code",
      "source": [
        "#average char length (to cut off sentences or pad with 0s)\n",
        "\n",
        "char_len = [len(x) for x in train_chars]\n",
        "avg_char_len = np.mean(char_len)\n",
        "avg_char_len"
      ],
      "metadata": {
        "colab": {
          "base_uri": "https://localhost:8080/"
        },
        "id": "atwlyqDMEsDL",
        "outputId": "42dc4737-470d-4faf-8b45-0cb01909e058"
      },
      "execution_count": 44,
      "outputs": [
        {
          "output_type": "execute_result",
          "data": {
            "text/plain": [
              "297.7325149966674"
            ]
          },
          "metadata": {},
          "execution_count": 44
        }
      ]
    },
    {
      "cell_type": "code",
      "source": [
        "plt.hist(char_len, bins=20)\n",
        "plt.title(\"Character Length Distribution\")"
      ],
      "metadata": {
        "colab": {
          "base_uri": "https://localhost:8080/",
          "height": 298
        },
        "id": "Hfg3r3KvFdKv",
        "outputId": "49668da8-b0c2-4833-c4e5-5d38f2e96e64"
      },
      "execution_count": 45,
      "outputs": [
        {
          "output_type": "execute_result",
          "data": {
            "text/plain": [
              "Text(0.5, 1.0, 'Character Length Distribution')"
            ]
          },
          "metadata": {},
          "execution_count": 45
        },
        {
          "output_type": "display_data",
          "data": {
            "text/plain": [
              "<Figure size 432x288 with 1 Axes>"
            ],
            "image/png": "[encoded data removed]"
          },
          "metadata": {
            "needs_background": "light"
          }
        }
      ]
    },
    {
      "cell_type": "code",
      "source": [
        "char_len_95 = int(np.percentile(char_len, 95))\n",
        "char_len_95"
      ],
      "metadata": {
        "colab": {
          "base_uri": "https://localhost:8080/"
        },
        "id": "b_3EbKVuFsCb",
        "outputId": "73f716a1-ba7b-4367-8ede-404e01631ace"
      },
      "execution_count": 46,
      "outputs": [
        {
          "output_type": "execute_result",
          "data": {
            "text/plain": [
              "579"
            ]
          },
          "metadata": {},
          "execution_count": 46
        }
      ]
    },
    {
      "cell_type": "code",
      "source": [
        "#all keyboard chars\n",
        "import string\n",
        "all_chars = string.ascii_lowercase + string.digits + string.punctuation + ' ' + 'U' #include space and unkown chars\n",
        "all_chars"
      ],
      "metadata": {
        "colab": {
          "base_uri": "https://localhost:8080/",
          "height": 35
        },
        "id": "nS2eHKCXF1sY",
        "outputId": "592c92f6-48d7-422b-cc19-5451c8e54422"
      },
      "execution_count": 47,
      "outputs": [
        {
          "output_type": "execute_result",
          "data": {
            "text/plain": [
              "'abcdefghijklmnopqrstuvwxyz0123456789!\"#$%&\\'()*+,-./:;<=>?@[\\\\]^_`{|}~ U'"
            ],
            "application/vnd.google.colaboratory.intrinsic+json": {
              "type": "string"
            }
          },
          "metadata": {},
          "execution_count": 47
        }
      ]
    },
    {
      "cell_type": "code",
      "source": [
        "CHAR_TOKENS_LENGTH = len(all_chars)\n",
        "char_vectorizer = TextVectorization(max_tokens=CHAR_TOKENS_LENGTH,\n",
        "                                    output_sequence_length=char_len_95,\n",
        "                                    name=\"char_vectorizer\")\n",
        "char_vectorizer.adapt(train_chars)"
      ],
      "metadata": {
        "id": "ng1KKbIuHbDp"
      },
      "execution_count": 48,
      "outputs": []
    },
    {
      "cell_type": "code",
      "source": [
        "random_train_chars = random.choice(train_chars)\n",
        "vectorized_chars = char_vectorizer([random_train_chars])\n",
        "vectorized_chars"
      ],
      "metadata": {
        "colab": {
          "base_uri": "https://localhost:8080/"
        },
        "id": "hnesQlzXIVlL",
        "outputId": "7c2ec665-1d15-4976-a46d-7fd085cf59ba"
      },
      "execution_count": 49,
      "outputs": [
        {
          "output_type": "execute_result",
          "data": {
            "text/plain": [
              "<tf.Tensor: shape=(1, 579), dtype=int64, numpy=\n",
              "array([[ 4,  6,  3,  8,  5,  5,  8,  3,  2,  8,  4,  5, 12, 10,  2,  6,\n",
              "         9,  4,  3, 19, 17,  7,  8, 14,  8,  7, 24,  4, 15,  5, 12, 12,\n",
              "         5, 10,  5,  6, 10, 14,  8,  7, 24,  4, 15,  5, 12,  8, 11,  5,\n",
              "        17,  7,  8,  3, 13,  2,  6,  5, 25, 14, 19,  5,  8,  5, 16, 15,\n",
              "         2, 14,  5, 15, 16,  2,  6,  5,  9, 18,  8,  7, 16, 14, 20,  2,\n",
              "         8,  2,  9,  4, 18,  6,  4, 17,  4, 11,  5,  6,  3, 12, 19, 12,\n",
              "         7, 20,  2,  8, 14,  3, 13,  5,  6,  3, 13,  7,  9,  2, 21,  5,\n",
              "        12, 16,  2,  9, 17,  7,  8,  3, 13,  2, 18,  8,  7, 16, 14,  0,\n",
              "         0,  0,  0,  0,  0,  0,  0,  0,  0,  0,  0,  0,  0,  0,  0,  0,\n",
              "         0,  0,  0,  0,  0,  0,  0,  0,  0,  0,  0,  0,  0,  0,  0,  0,\n",
              "         0,  0,  0,  0,  0,  0,  0,  0,  0,  0,  0,  0,  0,  0,  0,  0,\n",
              "         0,  0,  0,  0,  0,  0,  0,  0,  0,  0,  0,  0,  0,  0,  0,  0,\n",
              "         0,  0,  0,  0,  0,  0,  0,  0,  0,  0,  0,  0,  0,  0,  0,  0,\n",
              "         0,  0,  0,  0,  0,  0,  0,  0,  0,  0,  0,  0,  0,  0,  0,  0,\n",
              "         0,  0,  0,  0,  0,  0,  0,  0,  0,  0,  0,  0,  0,  0,  0,  0,\n",
              "         0,  0,  0,  0,  0,  0,  0,  0,  0,  0,  0,  0,  0,  0,  0,  0,\n",
              "         0,  0,  0,  0,  0,  0,  0,  0,  0,  0,  0,  0,  0,  0,  0,  0,\n",
              "         0,  0,  0,  0,  0,  0,  0,  0,  0,  0,  0,  0,  0,  0,  0,  0,\n",
              "         0,  0,  0,  0,  0,  0,  0,  0,  0,  0,  0,  0,  0,  0,  0,  0,\n",
              "         0,  0,  0,  0,  0,  0,  0,  0,  0,  0,  0,  0,  0,  0,  0,  0,\n",
              "         0,  0,  0,  0,  0,  0,  0,  0,  0,  0,  0,  0,  0,  0,  0,  0,\n",
              "         0,  0,  0,  0,  0,  0,  0,  0,  0,  0,  0,  0,  0,  0,  0,  0,\n",
              "         0,  0,  0,  0,  0,  0,  0,  0,  0,  0,  0,  0,  0,  0,  0,  0,\n",
              "         0,  0,  0,  0,  0,  0,  0,  0,  0,  0,  0,  0,  0,  0,  0,  0,\n",
              "         0,  0,  0,  0,  0,  0,  0,  0,  0,  0,  0,  0,  0,  0,  0,  0,\n",
              "         0,  0,  0,  0,  0,  0,  0,  0,  0,  0,  0,  0,  0,  0,  0,  0,\n",
              "         0,  0,  0,  0,  0,  0,  0,  0,  0,  0,  0,  0,  0,  0,  0,  0,\n",
              "         0,  0,  0,  0,  0,  0,  0,  0,  0,  0,  0,  0,  0,  0,  0,  0,\n",
              "         0,  0,  0,  0,  0,  0,  0,  0,  0,  0,  0,  0,  0,  0,  0,  0,\n",
              "         0,  0,  0,  0,  0,  0,  0,  0,  0,  0,  0,  0,  0,  0,  0,  0,\n",
              "         0,  0,  0,  0,  0,  0,  0,  0,  0,  0,  0,  0,  0,  0,  0,  0,\n",
              "         0,  0,  0,  0,  0,  0,  0,  0,  0,  0,  0,  0,  0,  0,  0,  0,\n",
              "         0,  0,  0,  0,  0,  0,  0,  0,  0,  0,  0,  0,  0,  0,  0,  0,\n",
              "         0,  0,  0,  0,  0,  0,  0,  0,  0,  0,  0,  0,  0,  0,  0,  0,\n",
              "         0,  0,  0,  0,  0,  0,  0,  0,  0,  0,  0,  0,  0,  0,  0,  0,\n",
              "         0,  0,  0,  0,  0,  0,  0,  0,  0,  0,  0,  0,  0,  0,  0,  0,\n",
              "         0,  0,  0]])>"
            ]
          },
          "metadata": {},
          "execution_count": 49
        }
      ]
    },
    {
      "cell_type": "code",
      "source": [
        "#creating character level embedding\n",
        "char_embed = layers.Embedding(input_dim=len(all_chars),\n",
        "                              output_dim=25, #output dim in paper\n",
        "                              mask_zero=True,\n",
        "                              name=\"char_embed\")"
      ],
      "metadata": {
        "id": "RDITpNyIINs2"
      },
      "execution_count": 50,
      "outputs": []
    },
    {
      "cell_type": "code",
      "source": [
        "print(f\"charified text:\\n {random_train_chars}\\n\")\n",
        "embed = char_embed(char_vectorizer([random_train_chars]))\n",
        "print(f\"embeded text:\\n {embed}\\n\")\n",
        "embed.shape"
      ],
      "metadata": {
        "colab": {
          "base_uri": "https://localhost:8080/"
        },
        "id": "y_C1UYWd7V03",
        "outputId": "41a39429-766b-4cac-ecaa-f6d14d67dfbb"
      },
      "execution_count": 51,
      "outputs": [
        {
          "output_type": "stream",
          "name": "stdout",
          "text": [
            "charified text:\n",
            " i n t r a a r t e r i a l   d e n s i t y   f o r   p r o x i m a l   l a d   a n d   p r o x i m a l   r c a   f o r   t h e   n a z p y a r a   ,   u m e p a m u e n a s   g r o u p   @   w e r e   s i g n i f i c a n t l y   l o w e r   (   p   <   @   )   t h a n   t h o s e   v a l u e s   f o r   t h e   g r o u p   @   .\n",
            "\n",
            "embeded text:\n",
            " [[[-0.03921149 -0.02931062 -0.00595091 ...  0.01552487 -0.0167812\n",
            "   -0.01427753]\n",
            "  [ 0.03836079 -0.00485191  0.01516322 ... -0.04308398 -0.01016607\n",
            "   -0.03246869]\n",
            "  [ 0.03982304  0.02557098 -0.03971595 ...  0.00758703  0.0425829\n",
            "    0.01237992]\n",
            "  ...\n",
            "  [ 0.00305589  0.03770747 -0.03571248 ...  0.00529325  0.00213139\n",
            "   -0.02021306]\n",
            "  [ 0.00305589  0.03770747 -0.03571248 ...  0.00529325  0.00213139\n",
            "   -0.02021306]\n",
            "  [ 0.00305589  0.03770747 -0.03571248 ...  0.00529325  0.00213139\n",
            "   -0.02021306]]]\n",
            "\n"
          ]
        },
        {
          "output_type": "execute_result",
          "data": {
            "text/plain": [
              "TensorShape([1, 579, 25])"
            ]
          },
          "metadata": {},
          "execution_count": 51
        }
      ]
    },
    {
      "cell_type": "markdown",
      "source": [
        "#### Building the Model"
      ],
      "metadata": {
        "id": "J7dY6wB645-K"
      }
    },
    {
      "cell_type": "code",
      "source": [
        "inputs = layers.Input(shape=(1,), dtype=\"string\")\n",
        "char_vectors = char_vectorizer(inputs)\n",
        "char_embeddings = char_embed(char_vectors)\n",
        "x = layers.Conv1D(64, kernel_size=7, padding=\"same\", activation=\"relu\")(char_embeddings)\n",
        "x = layers.GlobalMaxPooling1D()(x)\n",
        "outputs = layers.Dense(num_classes, activation=\"softmax\")(x)\n",
        "\n",
        "model_4 = tf.keras.Model(inputs,outputs)"
      ],
      "metadata": {
        "id": "4H-Y40J67hTt"
      },
      "execution_count": 52,
      "outputs": []
    },
    {
      "cell_type": "code",
      "source": [
        "model_4.compile(loss=\"categorical_crossentropy\",\n",
        "                optimizer=tf.keras.optimizers.Adam(),\n",
        "                metrics=[\"accuracy\"])\n"
      ],
      "metadata": {
        "id": "GOeoUfYk1XS7"
      },
      "execution_count": 53,
      "outputs": []
    },
    {
      "cell_type": "code",
      "source": [
        "model_4.summary()"
      ],
      "metadata": {
        "colab": {
          "base_uri": "https://localhost:8080/"
        },
        "id": "zMy1yc081vGC",
        "outputId": "d3b0dec5-4591-4165-93f9-79c37d8f370b"
      },
      "execution_count": 54,
      "outputs": [
        {
          "output_type": "stream",
          "name": "stdout",
          "text": [
            "Model: \"model_1\"\n",
            "_________________________________________________________________\n",
            " Layer (type)                Output Shape              Param #   \n",
            "=================================================================\n",
            " input_3 (InputLayer)        [(None, 1)]               0         \n",
            "                                                                 \n",
            " char_vectorizer (TextVector  (None, 579)              0         \n",
            " ization)                                                        \n",
            "                                                                 \n",
            " char_embed (Embedding)      (None, 579, 25)           1750      \n",
            "                                                                 \n",
            " conv1d_1 (Conv1D)           (None, 579, 64)           11264     \n",
            "                                                                 \n",
            " global_max_pooling1d (Globa  (None, 64)               0         \n",
            " lMaxPooling1D)                                                  \n",
            "                                                                 \n",
            " dense_4 (Dense)             (None, 5)                 325       \n",
            "                                                                 \n",
            "=================================================================\n",
            "Total params: 13,339\n",
            "Trainable params: 13,339\n",
            "Non-trainable params: 0\n",
            "_________________________________________________________________\n"
          ]
        }
      ]
    },
    {
      "cell_type": "code",
      "source": [
        "#char level datasets\n",
        "train_char_dataset = tf.data.Dataset.from_tensor_slices((train_chars, train_labels_one_hot)).batch(32).prefetch(tf.data.AUTOTUNE)\n",
        "val_char_dataset = tf.data.Dataset.from_tensor_slices((val_chars, val_labels_one_hot)).batch(32).prefetch(tf.data.AUTOTUNE)\n",
        "test_char_dataset = tf.data.Dataset.from_tensor_slices((test_chars, test_labels_one_hot)).batch(32).prefetch(tf.data.AUTOTUNE)\n",
        "\n",
        "train_char_dataset"
      ],
      "metadata": {
        "colab": {
          "base_uri": "https://localhost:8080/"
        },
        "id": "-lUgF28z1wEQ",
        "outputId": "c19a84c4-5477-4b22-db0e-6323923b4bc6"
      },
      "execution_count": 55,
      "outputs": [
        {
          "output_type": "execute_result",
          "data": {
            "text/plain": [
              "<PrefetchDataset element_spec=(TensorSpec(shape=(None,), dtype=tf.string, name=None), TensorSpec(shape=(None, 5), dtype=tf.float64, name=None))>"
            ]
          },
          "metadata": {},
          "execution_count": 55
        }
      ]
    },
    {
      "cell_type": "code",
      "source": [
        "model_4_history = model_4.fit(train_char_dataset,\n",
        "                              steps_per_epoch=int(0.1*(len(train_char_dataset))),\n",
        "                              epochs=3,\n",
        "                              validation_data=val_char_dataset,\n",
        "                              validation_steps=int(0.1*len(val_char_dataset)))"
      ],
      "metadata": {
        "colab": {
          "base_uri": "https://localhost:8080/"
        },
        "id": "2tHjn63X2WZT",
        "outputId": "21ad6750-ad18-4cd1-acd9-98b594fdd714"
      },
      "execution_count": 56,
      "outputs": [
        {
          "output_type": "stream",
          "name": "stdout",
          "text": [
            "Epoch 1/3\n",
            "562/562 [==============================] - 4s 6ms/step - loss: 1.2195 - accuracy: 0.5117 - val_loss: 1.0002 - val_accuracy: 0.6057\n",
            "Epoch 2/3\n",
            "562/562 [==============================] - 3s 6ms/step - loss: 0.9506 - accuracy: 0.6226 - val_loss: 0.8887 - val_accuracy: 0.6496\n",
            "Epoch 3/3\n",
            "562/562 [==============================] - 3s 6ms/step - loss: 0.8736 - accuracy: 0.6595 - val_loss: 0.8190 - val_accuracy: 0.6868\n"
          ]
        }
      ]
    },
    {
      "cell_type": "code",
      "source": [
        "model_4_pred_probs = model_4.predict(val_char_dataset)\n",
        "model_4_preds = tf.argmax(model_4_pred_probs, axis=1)\n",
        "model_4_preds"
      ],
      "metadata": {
        "colab": {
          "base_uri": "https://localhost:8080/"
        },
        "id": "AFfqS8Xq7TZb",
        "outputId": "cc495d8d-e2ae-45ae-c451-cb752c2a8db0"
      },
      "execution_count": 57,
      "outputs": [
        {
          "output_type": "stream",
          "name": "stdout",
          "text": [
            "945/945 [==============================] - 3s 3ms/step\n"
          ]
        },
        {
          "output_type": "execute_result",
          "data": {
            "text/plain": [
              "<tf.Tensor: shape=(30212,), dtype=int64, numpy=array([1, 1, 3, ..., 4, 2, 0])>"
            ]
          },
          "metadata": {},
          "execution_count": 57
        }
      ]
    },
    {
      "cell_type": "code",
      "source": [
        "model_4_results = calculate_results(y_true=val_labels_encoded,\n",
        "                                    y_pred=model_4_preds)\n",
        "\n",
        "model_4_results"
      ],
      "metadata": {
        "colab": {
          "base_uri": "https://localhost:8080/"
        },
        "id": "yXGpQ4Cz4B93",
        "outputId": "309a815e-e4fb-492f-ed20-e9a79ff779c0"
      },
      "execution_count": 58,
      "outputs": [
        {
          "output_type": "execute_result",
          "data": {
            "text/plain": [
              "{'accuracy': 67.99616046603998,\n",
              " 'precision': 0.6779350446193128,\n",
              " 'recall': 0.6799616046603998,\n",
              " 'f1': 0.6734022370114127}"
            ]
          },
          "metadata": {},
          "execution_count": 58
        }
      ]
    },
    {
      "cell_type": "markdown",
      "source": [
        "### Model 5 🤖: Combining Pretrained Token Embeddings and Character Embeddings (hybrid embedding layer)|"
      ],
      "metadata": {
        "id": "8ImdqjJKsUZa"
      }
    },
    {
      "cell_type": "code",
      "source": [
        "#1. Create a token-level embedding model\n",
        "token_inputs = layers.Input(shape=[], dtype=tf.string, name=\"token_input\")\n",
        "token_embeddings = extractor_layer(token_inputs) #from model 3\n",
        "token_outputs = layers.Dense(300, activation=\"relu\")(token_embeddings)\n",
        "token_model = tf.keras.Model(token_inputs, token_outputs)"
      ],
      "metadata": {
        "id": "GNoVTJ9s7RTk"
      },
      "execution_count": 59,
      "outputs": []
    },
    {
      "cell_type": "code",
      "source": [
        "#2. Create a character level-model (similar to model 4 with slight modifications)\n",
        "char_inputs = layers.Input(shape=(1,), dtype=tf.string, name=\"char_inputs\")\n",
        "char_vectors = char_vectorizer(char_inputs)\n",
        "char_embeddings = char_embed(char_vectors)\n",
        "char_bilstm = layers.Bidirectional(layers.LSTM(25))(char_embeddings)\n",
        "char_model = tf.keras.Model(char_inputs, char_bilstm)"
      ],
      "metadata": {
        "id": "JfgYudfAuJC9"
      },
      "execution_count": 60,
      "outputs": []
    },
    {
      "cell_type": "code",
      "source": [
        "#3. we wish to concatenate the output of both models via layers.Concatenate\n",
        "token_char_concat = layers.Concatenate(name=\"token_char_hybrid\")([token_model.output,\n",
        "                                                                  char_model.output])"
      ],
      "metadata": {
        "id": "tdvHMDYWu5Gd"
      },
      "execution_count": 61,
      "outputs": []
    },
    {
      "cell_type": "code",
      "source": [
        "#4. build a sequence of output layers\n",
        "#randomly sets input units to 0 with a frequency of rate at each step during training time, which helps prevent overfitting. \n",
        "combined_dropout = layers.Dropout(0.5)(token_char_concat)\n",
        "combined_dense = layers.Dense(128, activation=\"relu\")(combined_dropout)\n",
        "final_dropout = layers.Dropout(0.5)(combined_dense)\n",
        "output_layer = layers.Dense(num_classes, activation=\"softmax\")(final_dropout)"
      ],
      "metadata": {
        "id": "CXIoSRydwdfe"
      },
      "execution_count": 62,
      "outputs": []
    },
    {
      "cell_type": "code",
      "source": [
        "#5. construct model which takes token and character-level sequences as input and produces sequence label probabilities \n",
        "model_5 = tf.keras.Model(inputs=[token_model.input, char_model.input],\n",
        "                         outputs=output_layer)\n",
        "\n",
        "model_5.summary()"
      ],
      "metadata": {
        "colab": {
          "base_uri": "https://localhost:8080/"
        },
        "id": "kEsBaAGd2FsA",
        "outputId": "24c53b59-23fe-4d9d-8566-8f61e9e15bc3"
      },
      "execution_count": 63,
      "outputs": [
        {
          "output_type": "stream",
          "name": "stdout",
          "text": [
            "Model: \"model_4\"\n",
            "__________________________________________________________________________________________________\n",
            " Layer (type)                   Output Shape         Param #     Connected to                     \n",
            "==================================================================================================\n",
            " char_inputs (InputLayer)       [(None, 1)]          0           []                               \n",
            "                                                                                                  \n",
            " token_input (InputLayer)       [(None,)]            0           []                               \n",
            "                                                                                                  \n",
            " char_vectorizer (TextVectoriza  (None, 579)         0           ['char_inputs[0][0]']            \n",
            " tion)                                                                                            \n",
            "                                                                                                  \n",
            " USE (KerasLayer)               (None, 512)          256797824   ['token_input[0][0]']            \n",
            "                                                                                                  \n",
            " char_embed (Embedding)         (None, 579, 25)      1750        ['char_vectorizer[1][0]']        \n",
            "                                                                                                  \n",
            " dense_5 (Dense)                (None, 300)          153900      ['USE[1][0]']                    \n",
            "                                                                                                  \n",
            " bidirectional (Bidirectional)  (None, 50)           10200       ['char_embed[1][0]']             \n",
            "                                                                                                  \n",
            " token_char_hybrid (Concatenate  (None, 350)         0           ['dense_5[0][0]',                \n",
            " )                                                                'bidirectional[0][0]']          \n",
            "                                                                                                  \n",
            " dropout (Dropout)              (None, 350)          0           ['token_char_hybrid[0][0]']      \n",
            "                                                                                                  \n",
            " dense_6 (Dense)                (None, 128)          44928       ['dropout[0][0]']                \n",
            "                                                                                                  \n",
            " dropout_1 (Dropout)            (None, 128)          0           ['dense_6[0][0]']                \n",
            "                                                                                                  \n",
            " dense_7 (Dense)                (None, 5)            645         ['dropout_1[0][0]']              \n",
            "                                                                                                  \n",
            "==================================================================================================\n",
            "Total params: 257,009,247\n",
            "Trainable params: 211,423\n",
            "Non-trainable params: 256,797,824\n",
            "__________________________________________________________________________________________________\n"
          ]
        }
      ]
    },
    {
      "cell_type": "code",
      "source": [
        "#Plot hybrid model\n",
        "from keras.utils import plot_model\n",
        "plot_model(model_5)"
      ],
      "metadata": {
        "id": "Qf5uWIOe4Fpd",
        "colab": {
          "base_uri": "https://localhost:8080/",
          "height": 856
        },
        "outputId": "2f92d291-9874-4572-f951-661a5893e2e5"
      },
      "execution_count": 64,
      "outputs": [
        {
          "output_type": "execute_result",
          "data": {
            "image/png": "[encoded data removed]",
            "text/plain": [
              "<IPython.core.display.Image object>"
            ]
          },
          "metadata": {},
          "execution_count": 64
        }
      ]
    },
    {
      "cell_type": "code",
      "source": [],
      "metadata": {
        "id": "pzFc5zau0nOH"
      },
      "execution_count": null,
      "outputs": []
    }
  ],
  "metadata": {
    "accelerator": "GPU",
    "colab": {
      "provenance": [],
      "collapsed_sections": [
        "C5y1wxToODAj",
        "s8Yys-m-Os-E",
        "QgpVuhvNFUlc",
        "KRGXGG4GwrjI",
        "GpGX3RlxSIVk"
      ],
      "authorship_tag": "ABX9TyNyn/ABi++eqDZPaYIt19p+",
      "include_colab_link": true
    },
    "gpuClass": "standard",
    "kernelspec": {
      "display_name": "Python 3",
      "name": "python3"
    },
    "language_info": {
      "name": "python"
    }
  },
  "nbformat": 4,
  "nbformat_minor": 0
}