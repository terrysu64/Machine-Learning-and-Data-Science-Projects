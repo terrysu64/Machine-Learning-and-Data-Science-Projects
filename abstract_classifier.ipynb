{
  "cells": [
    {
      "cell_type": "markdown",
      "metadata": {
        "id": "view-in-github",
        "colab_type": "text"
      },
      "source": [
        "<a href=\"https://colab.research.google.com/github/terrysu64/Machine-Learning-and-Data-Science-Projects/blob/main/abstract_classifier.ipynb\" target=\"_parent\"><img src=\"https://colab.research.google.com/assets/colab-badge.svg\" alt=\"Open In Colab\"/></a>"
      ]
    },
    {
      "cell_type": "markdown",
      "metadata": {
        "id": "Qrdo5LEmXgtD"
      },
      "source": [
        "# Abstract Classifier 📝\n",
        "\n",
        "The objective of this notebook is to constrcut an NLP model that identifies sections of medical abstracts to enable easier reading. \n",
        "\n",
        "Dataset source: https://arxiv.org/abs/1710.06071"
      ]
    },
    {
      "cell_type": "code",
      "execution_count": 1,
      "metadata": {
        "colab": {
          "base_uri": "https://localhost:8080/"
        },
        "id": "oQj0xtkQXYIy",
        "outputId": "2cea1925-4e58-4e72-93dd-80d032e26b91"
      },
      "outputs": [
        {
          "output_type": "stream",
          "name": "stdout",
          "text": [
            "Mon Nov 21 01:57:50 2022       \n",
            "+-----------------------------------------------------------------------------+\n",
            "| NVIDIA-SMI 460.32.03    Driver Version: 460.32.03    CUDA Version: 11.2     |\n",
            "|-------------------------------+----------------------+----------------------+\n",
            "| GPU  Name        Persistence-M| Bus-Id        Disp.A | Volatile Uncorr. ECC |\n",
            "| Fan  Temp  Perf  Pwr:Usage/Cap|         Memory-Usage | GPU-Util  Compute M. |\n",
            "|                               |                      |               MIG M. |\n",
            "|===============================+======================+======================|\n",
            "|   0  Tesla T4            Off  | 00000000:00:04.0 Off |                    0 |\n",
            "| N/A   62C    P8    10W /  70W |      0MiB / 15109MiB |      0%      Default |\n",
            "|                               |                      |                  N/A |\n",
            "+-------------------------------+----------------------+----------------------+\n",
            "                                                                               \n",
            "+-----------------------------------------------------------------------------+\n",
            "| Processes:                                                                  |\n",
            "|  GPU   GI   CI        PID   Type   Process name                  GPU Memory |\n",
            "|        ID   ID                                                   Usage      |\n",
            "|=============================================================================|\n",
            "|  No running processes found                                                 |\n",
            "+-----------------------------------------------------------------------------+\n"
          ]
        }
      ],
      "source": [
        "#connect to GPU\n",
        "!nvidia-smi"
      ]
    },
    {
      "cell_type": "markdown",
      "metadata": {
        "id": "LPp68R-iZUZ-"
      },
      "source": [
        "### Download Dataset"
      ]
    },
    {
      "cell_type": "code",
      "execution_count": 2,
      "metadata": {
        "colab": {
          "base_uri": "https://localhost:8080/"
        },
        "id": "DjrEAXnSY77f",
        "outputId": "db96082a-b62d-46e9-9732-f30642c4635b"
      },
      "outputs": [
        {
          "output_type": "stream",
          "name": "stdout",
          "text": [
            "fatal: destination path 'pubmed-rct' already exists and is not an empty directory.\n",
            "PubMed_200k_RCT\n",
            "PubMed_200k_RCT_numbers_replaced_with_at_sign\n",
            "PubMed_20k_RCT\n",
            "PubMed_20k_RCT_numbers_replaced_with_at_sign\n",
            "README.md\n"
          ]
        }
      ],
      "source": [
        "#can be downloaded from PubMed 200k RCT repository\n",
        "!git clone https://github.com/Franck-Dernoncourt/pubmed-rct\n",
        "!ls pubmed-rct"
      ]
    },
    {
      "cell_type": "code",
      "execution_count": 3,
      "metadata": {
        "colab": {
          "base_uri": "https://localhost:8080/"
        },
        "id": "4o5ZlPO5Zjse",
        "outputId": "7b4615de-6493-468b-a97f-7d169851d1da"
      },
      "outputs": [
        {
          "output_type": "stream",
          "name": "stdout",
          "text": [
            "dev.txt  test.txt  train.txt\n"
          ]
        }
      ],
      "source": [
        "!ls pubmed-rct/PubMed_20k_RCT_numbers_replaced_with_at_sign/\n",
        "\n",
        "#dev.txt = validation set"
      ]
    },
    {
      "cell_type": "code",
      "execution_count": 4,
      "metadata": {
        "id": "tfAkPSwZaWsp"
      },
      "outputs": [],
      "source": [
        "data_dir = '/content/pubmed-rct/PubMed_20k_RCT_numbers_replaced_with_at_sign'"
      ]
    },
    {
      "cell_type": "code",
      "execution_count": 5,
      "metadata": {
        "colab": {
          "base_uri": "https://localhost:8080/"
        },
        "id": "X0M6n1TObG9U",
        "outputId": "4354e5ef-3dc9-4f67-8ef2-bae95eeb4483"
      },
      "outputs": [
        {
          "output_type": "execute_result",
          "data": {
            "text/plain": [
              "['/content/pubmed-rct/PubMed_20k_RCT_numbers_replaced_with_at_sign/test.txt',\n",
              " '/content/pubmed-rct/PubMed_20k_RCT_numbers_replaced_with_at_sign/train.txt',\n",
              " '/content/pubmed-rct/PubMed_20k_RCT_numbers_replaced_with_at_sign/dev.txt']"
            ]
          },
          "metadata": {},
          "execution_count": 5
        }
      ],
      "source": [
        "#check filenames in data directory\n",
        "import os \n",
        "filenames = [f\"{data_dir}/{filename}\" for filename in os.listdir(data_dir)]\n",
        "filenames"
      ]
    },
    {
      "cell_type": "markdown",
      "metadata": {
        "id": "n9F0r_00ZhPy"
      },
      "source": [
        "### Preprocessing Data"
      ]
    },
    {
      "cell_type": "code",
      "execution_count": 6,
      "metadata": {
        "id": "aX_AoioKbfrG"
      },
      "outputs": [],
      "source": [
        "#read in all lines of text file\n",
        "def read_lines(file):\n",
        "  \"\"\"\n",
        "  reads file and returns the lines of text via an array\n",
        "  \"\"\"\n",
        "\n",
        "  with open(file, \"r\") as file: \n",
        "    return file.readlines()"
      ]
    },
    {
      "cell_type": "code",
      "execution_count": 7,
      "metadata": {
        "colab": {
          "base_uri": "https://localhost:8080/"
        },
        "id": "Y6Ghw9SQaWXg",
        "outputId": "57d56c7a-f519-432e-b027-b50025202e4a"
      },
      "outputs": [
        {
          "output_type": "execute_result",
          "data": {
            "text/plain": [
              "['###24293578\\n',\n",
              " 'OBJECTIVE\\tTo investigate the efficacy of @ weeks of daily low-dose oral prednisolone in improving pain , mobility , and systemic low-grade inflammation in the short term and whether the effect would be sustained at @ weeks in older adults with moderate to severe knee osteoarthritis ( OA ) .\\n',\n",
              " 'METHODS\\tA total of @ patients with primary knee OA were randomized @:@ ; @ received @ mg/day of prednisolone and @ received placebo for @ weeks .\\n',\n",
              " 'METHODS\\tOutcome measures included pain reduction and improvement in function scores and systemic inflammation markers .\\n',\n",
              " 'METHODS\\tPain was assessed using the visual analog pain scale ( @-@ mm ) .\\n',\n",
              " 'METHODS\\tSecondary outcome measures included the Western Ontario and McMaster Universities Osteoarthritis Index scores , patient global assessment ( PGA ) of the severity of knee OA , and @-min walk distance ( @MWD ) .\\n',\n",
              " 'METHODS\\tSerum levels of interleukin @ ( IL-@ ) , IL-@ , tumor necrosis factor ( TNF ) - , and high-sensitivity C-reactive protein ( hsCRP ) were measured .\\n',\n",
              " 'RESULTS\\tThere was a clinically relevant reduction in the intervention group compared to the placebo group for knee pain , physical function , PGA , and @MWD at @ weeks .\\n',\n",
              " 'RESULTS\\tThe mean difference between treatment arms ( @ % CI ) was @ ( @-@ @ ) , p < @ ; @ ( @-@ @ ) , p < @ ; @ ( @-@ @ ) , p < @ ; and @ ( @-@ @ ) , p < @ , respectively .\\n',\n",
              " 'RESULTS\\tFurther , there was a clinically relevant reduction in the serum levels of IL-@ , IL-@ , TNF - , and hsCRP at @ weeks in the intervention group when compared to the placebo group .\\n',\n",
              " 'RESULTS\\tThese differences remained significant at @ weeks .\\n',\n",
              " 'RESULTS\\tThe Outcome Measures in Rheumatology Clinical Trials-Osteoarthritis Research Society International responder rate was @ % in the intervention group and @ % in the placebo group ( p < @ ) .\\n',\n",
              " 'CONCLUSIONS\\tLow-dose oral prednisolone had both a short-term and a longer sustained effect resulting in less knee pain , better physical function , and attenuation of systemic inflammation in older patients with knee OA ( ClinicalTrials.gov identifier NCT@ ) .\\n',\n",
              " '\\n',\n",
              " '###24854809\\n']"
            ]
          },
          "metadata": {},
          "execution_count": 7
        }
      ],
      "source": [
        "train_lines = read_lines(f\"{data_dir}/train.txt\")\n",
        "train_lines[:15]"
      ]
    },
    {
      "cell_type": "code",
      "execution_count": 8,
      "metadata": {
        "colab": {
          "base_uri": "https://localhost:8080/"
        },
        "id": "A-LzZVdaakNm",
        "outputId": "77003491-e63e-47b0-dfb1-885fceeaa4df"
      },
      "outputs": [
        {
          "output_type": "execute_result",
          "data": {
            "text/plain": [
              "210040"
            ]
          },
          "metadata": {},
          "execution_count": 8
        }
      ],
      "source": [
        "len(train_lines)"
      ]
    },
    {
      "cell_type": "markdown",
      "metadata": {
        "id": "eU1NisucbHkQ"
      },
      "source": [
        "✅ **Ideal Representation**\n",
        "\n",
        "\n",
        "```\n",
        "for each abstract: \n",
        "[\n",
        "  {\n",
        "    line_number: ...,\n",
        "    target: ...,\n",
        "    text: ...,\n",
        "    total_lines: ...,\n",
        "  }\n",
        "]\n",
        "```\n",
        "\n",
        " "
      ]
    },
    {
      "cell_type": "code",
      "execution_count": 9,
      "metadata": {
        "id": "OSF8SIlLa_QV"
      },
      "outputs": [],
      "source": [
        "def preprocess_lines(file):\n",
        "  \"\"\"\n",
        "  returns array of hashmaps, preprocessed in the outlined form\n",
        "  \"\"\"\n",
        "\n",
        "  lines = read_lines(file)\n",
        "  curr_abstract = ''; abstracts = []\n",
        "  abstract_id = None\n",
        "\n",
        "  for line in lines:\n",
        "    if line.startswith('###'): abstract_id = line; curr_abstract = ''\n",
        "    elif line.isspace(): \n",
        "      \n",
        "      line_split = curr_abstract.splitlines()\n",
        "      for i,j in enumerate(line_split):\n",
        "        data={}\n",
        "        target,content = j.split('\\t')\n",
        "        data[\"line_number\"] = i+1\n",
        "        data[\"target\"] = target\n",
        "        data[\"text\"] = content.lower()\n",
        "        data[\"total_lines\"] = len(line_split)\n",
        "        abstracts += [data]\n",
        "        \n",
        "\n",
        "    else: curr_abstract += line\n",
        "\n",
        "\n",
        "  return abstracts"
      ]
    },
    {
      "cell_type": "code",
      "execution_count": 10,
      "metadata": {
        "colab": {
          "base_uri": "https://localhost:8080/"
        },
        "id": "4UsWnEfy_RX6",
        "outputId": "8d3da7a0-274c-45be-bee9-28098b22f2af"
      },
      "outputs": [
        {
          "output_type": "execute_result",
          "data": {
            "text/plain": [
              "[{'line_number': 1,\n",
              "  'target': 'OBJECTIVE',\n",
              "  'text': 'to investigate the efficacy of @ weeks of daily low-dose oral prednisolone in improving pain , mobility , and systemic low-grade inflammation in the short term and whether the effect would be sustained at @ weeks in older adults with moderate to severe knee osteoarthritis ( oa ) .',\n",
              "  'total_lines': 12},\n",
              " {'line_number': 2,\n",
              "  'target': 'METHODS',\n",
              "  'text': 'a total of @ patients with primary knee oa were randomized @:@ ; @ received @ mg/day of prednisolone and @ received placebo for @ weeks .',\n",
              "  'total_lines': 12},\n",
              " {'line_number': 3,\n",
              "  'target': 'METHODS',\n",
              "  'text': 'outcome measures included pain reduction and improvement in function scores and systemic inflammation markers .',\n",
              "  'total_lines': 12},\n",
              " {'line_number': 4,\n",
              "  'target': 'METHODS',\n",
              "  'text': 'pain was assessed using the visual analog pain scale ( @-@ mm ) .',\n",
              "  'total_lines': 12},\n",
              " {'line_number': 5,\n",
              "  'target': 'METHODS',\n",
              "  'text': 'secondary outcome measures included the western ontario and mcmaster universities osteoarthritis index scores , patient global assessment ( pga ) of the severity of knee oa , and @-min walk distance ( @mwd ) .',\n",
              "  'total_lines': 12},\n",
              " {'line_number': 6,\n",
              "  'target': 'METHODS',\n",
              "  'text': 'serum levels of interleukin @ ( il-@ ) , il-@ , tumor necrosis factor ( tnf ) - , and high-sensitivity c-reactive protein ( hscrp ) were measured .',\n",
              "  'total_lines': 12},\n",
              " {'line_number': 7,\n",
              "  'target': 'RESULTS',\n",
              "  'text': 'there was a clinically relevant reduction in the intervention group compared to the placebo group for knee pain , physical function , pga , and @mwd at @ weeks .',\n",
              "  'total_lines': 12},\n",
              " {'line_number': 8,\n",
              "  'target': 'RESULTS',\n",
              "  'text': 'the mean difference between treatment arms ( @ % ci ) was @ ( @-@ @ ) , p < @ ; @ ( @-@ @ ) , p < @ ; @ ( @-@ @ ) , p < @ ; and @ ( @-@ @ ) , p < @ , respectively .',\n",
              "  'total_lines': 12},\n",
              " {'line_number': 9,\n",
              "  'target': 'RESULTS',\n",
              "  'text': 'further , there was a clinically relevant reduction in the serum levels of il-@ , il-@ , tnf - , and hscrp at @ weeks in the intervention group when compared to the placebo group .',\n",
              "  'total_lines': 12},\n",
              " {'line_number': 10,\n",
              "  'target': 'RESULTS',\n",
              "  'text': 'these differences remained significant at @ weeks .',\n",
              "  'total_lines': 12},\n",
              " {'line_number': 11,\n",
              "  'target': 'RESULTS',\n",
              "  'text': 'the outcome measures in rheumatology clinical trials-osteoarthritis research society international responder rate was @ % in the intervention group and @ % in the placebo group ( p < @ ) .',\n",
              "  'total_lines': 12},\n",
              " {'line_number': 12,\n",
              "  'target': 'CONCLUSIONS',\n",
              "  'text': 'low-dose oral prednisolone had both a short-term and a longer sustained effect resulting in less knee pain , better physical function , and attenuation of systemic inflammation in older patients with knee oa ( clinicaltrials.gov identifier nct@ ) .',\n",
              "  'total_lines': 12},\n",
              " {'line_number': 1,\n",
              "  'target': 'BACKGROUND',\n",
              "  'text': 'emotional eating is associated with overeating and the development of obesity .',\n",
              "  'total_lines': 11},\n",
              " {'line_number': 2,\n",
              "  'target': 'BACKGROUND',\n",
              "  'text': 'yet , empirical evidence for individual ( trait ) differences in emotional eating and cognitive mechanisms that contribute to eating during sad mood remain equivocal .',\n",
              "  'total_lines': 11},\n",
              " {'line_number': 3,\n",
              "  'target': 'OBJECTIVE',\n",
              "  'text': 'the aim of this study was to test if attention bias for food moderates the effect of self-reported emotional eating during sad mood ( vs neutral mood ) on actual food intake .',\n",
              "  'total_lines': 11}]"
            ]
          },
          "metadata": {},
          "execution_count": 10
        }
      ],
      "source": [
        "train_samples = preprocess_lines(f\"{data_dir}/train.txt\")\n",
        "val_samples = preprocess_lines(f\"{data_dir}/dev.txt\")\n",
        "test_samples = preprocess_lines(f\"{data_dir}/test.txt\")\n",
        "train_samples[:15]"
      ]
    },
    {
      "cell_type": "code",
      "execution_count": 11,
      "metadata": {
        "colab": {
          "base_uri": "https://localhost:8080/"
        },
        "id": "ZIRmhkpr_VnK",
        "outputId": "82c90999-cffa-4509-97e6-914dc3e5afe3"
      },
      "outputs": [
        {
          "output_type": "execute_result",
          "data": {
            "text/plain": [
              "(180040, 30212, 30135)"
            ]
          },
          "metadata": {},
          "execution_count": 11
        }
      ],
      "source": [
        "len(train_samples),len(val_samples),len(test_samples)"
      ]
    },
    {
      "cell_type": "markdown",
      "metadata": {
        "id": "C5y1wxToODAj"
      },
      "source": [
        "### Further Visualizing Data"
      ]
    },
    {
      "cell_type": "code",
      "execution_count": 12,
      "metadata": {
        "colab": {
          "base_uri": "https://localhost:8080/",
          "height": 0
        },
        "id": "6hGTsLNEBHEJ",
        "outputId": "114085e7-23e1-4d7f-8243-07f34c590174"
      },
      "outputs": [
        {
          "output_type": "execute_result",
          "data": {
            "text/plain": [
              "   line_number     target                                               text  \\\n",
              "0            1  OBJECTIVE  to investigate the efficacy of @ weeks of dail...   \n",
              "1            2    METHODS  a total of @ patients with primary knee oa wer...   \n",
              "2            3    METHODS  outcome measures included pain reduction and i...   \n",
              "3            4    METHODS  pain was assessed using the visual analog pain...   \n",
              "4            5    METHODS  secondary outcome measures included the wester...   \n",
              "\n",
              "   total_lines  \n",
              "0           12  \n",
              "1           12  \n",
              "2           12  \n",
              "3           12  \n",
              "4           12  "
            ],
            "text/html": [
              "\n",
              "  <div id=\"df-94c47328-255a-45c4-87aa-5a33399a9b89\">\n",
              "    <div class=\"colab-df-container\">\n",
              "      <div>\n",
              "<style scoped>\n",
              "    .dataframe tbody tr th:only-of-type {\n",
              "        vertical-align: middle;\n",
              "    }\n",
              "\n",
              "    .dataframe tbody tr th {\n",
              "        vertical-align: top;\n",
              "    }\n",
              "\n",
              "    .dataframe thead th {\n",
              "        text-align: right;\n",
              "    }\n",
              "</style>\n",
              "<table border=\"1\" class=\"dataframe\">\n",
              "  <thead>\n",
              "    <tr style=\"text-align: right;\">\n",
              "      <th></th>\n",
              "      <th>line_number</th>\n",
              "      <th>target</th>\n",
              "      <th>text</th>\n",
              "      <th>total_lines</th>\n",
              "    </tr>\n",
              "  </thead>\n",
              "  <tbody>\n",
              "    <tr>\n",
              "      <th>0</th>\n",
              "      <td>1</td>\n",
              "      <td>OBJECTIVE</td>\n",
              "      <td>to investigate the efficacy of @ weeks of dail...</td>\n",
              "      <td>12</td>\n",
              "    </tr>\n",
              "    <tr>\n",
              "      <th>1</th>\n",
              "      <td>2</td>\n",
              "      <td>METHODS</td>\n",
              "      <td>a total of @ patients with primary knee oa wer...</td>\n",
              "      <td>12</td>\n",
              "    </tr>\n",
              "    <tr>\n",
              "      <th>2</th>\n",
              "      <td>3</td>\n",
              "      <td>METHODS</td>\n",
              "      <td>outcome measures included pain reduction and i...</td>\n",
              "      <td>12</td>\n",
              "    </tr>\n",
              "    <tr>\n",
              "      <th>3</th>\n",
              "      <td>4</td>\n",
              "      <td>METHODS</td>\n",
              "      <td>pain was assessed using the visual analog pain...</td>\n",
              "      <td>12</td>\n",
              "    </tr>\n",
              "    <tr>\n",
              "      <th>4</th>\n",
              "      <td>5</td>\n",
              "      <td>METHODS</td>\n",
              "      <td>secondary outcome measures included the wester...</td>\n",
              "      <td>12</td>\n",
              "    </tr>\n",
              "  </tbody>\n",
              "</table>\n",
              "</div>\n",
              "      <button class=\"colab-df-convert\" onclick=\"convertToInteractive('df-94c47328-255a-45c4-87aa-5a33399a9b89')\"\n",
              "              title=\"Convert this dataframe to an interactive table.\"\n",
              "              style=\"display:none;\">\n",
              "        \n",
              "  <svg xmlns=\"http://www.w3.org/2000/svg\" height=\"24px\"viewBox=\"0 0 24 24\"\n",
              "       width=\"24px\">\n",
              "    <path d=\"M0 0h24v24H0V0z\" fill=\"none\"/>\n",
              "    <path d=\"M18.56 5.44l.94 2.06.94-2.06 2.06-.94-2.06-.94-.94-2.06-.94 2.06-2.06.94zm-11 1L8.5 8.5l.94-2.06 2.06-.94-2.06-.94L8.5 2.5l-.94 2.06-2.06.94zm10 10l.94 2.06.94-2.06 2.06-.94-2.06-.94-.94-2.06-.94 2.06-2.06.94z\"/><path d=\"M17.41 7.96l-1.37-1.37c-.4-.4-.92-.59-1.43-.59-.52 0-1.04.2-1.43.59L10.3 9.45l-7.72 7.72c-.78.78-.78 2.05 0 2.83L4 21.41c.39.39.9.59 1.41.59.51 0 1.02-.2 1.41-.59l7.78-7.78 2.81-2.81c.8-.78.8-2.07 0-2.86zM5.41 20L4 18.59l7.72-7.72 1.47 1.35L5.41 20z\"/>\n",
              "  </svg>\n",
              "      </button>\n",
              "      \n",
              "  <style>\n",
              "    .colab-df-container {\n",
              "      display:flex;\n",
              "      flex-wrap:wrap;\n",
              "      gap: 12px;\n",
              "    }\n",
              "\n",
              "    .colab-df-convert {\n",
              "      background-color: #E8F0FE;\n",
              "      border: none;\n",
              "      border-radius: 50%;\n",
              "      cursor: pointer;\n",
              "      display: none;\n",
              "      fill: #1967D2;\n",
              "      height: 32px;\n",
              "      padding: 0 0 0 0;\n",
              "      width: 32px;\n",
              "    }\n",
              "\n",
              "    .colab-df-convert:hover {\n",
              "      background-color: #E2EBFA;\n",
              "      box-shadow: 0px 1px 2px rgba(60, 64, 67, 0.3), 0px 1px 3px 1px rgba(60, 64, 67, 0.15);\n",
              "      fill: #174EA6;\n",
              "    }\n",
              "\n",
              "    [theme=dark] .colab-df-convert {\n",
              "      background-color: #3B4455;\n",
              "      fill: #D2E3FC;\n",
              "    }\n",
              "\n",
              "    [theme=dark] .colab-df-convert:hover {\n",
              "      background-color: #434B5C;\n",
              "      box-shadow: 0px 1px 3px 1px rgba(0, 0, 0, 0.15);\n",
              "      filter: drop-shadow(0px 1px 2px rgba(0, 0, 0, 0.3));\n",
              "      fill: #FFFFFF;\n",
              "    }\n",
              "  </style>\n",
              "\n",
              "      <script>\n",
              "        const buttonEl =\n",
              "          document.querySelector('#df-94c47328-255a-45c4-87aa-5a33399a9b89 button.colab-df-convert');\n",
              "        buttonEl.style.display =\n",
              "          google.colab.kernel.accessAllowed ? 'block' : 'none';\n",
              "\n",
              "        async function convertToInteractive(key) {\n",
              "          const element = document.querySelector('#df-94c47328-255a-45c4-87aa-5a33399a9b89');\n",
              "          const dataTable =\n",
              "            await google.colab.kernel.invokeFunction('convertToInteractive',\n",
              "                                                     [key], {});\n",
              "          if (!dataTable) return;\n",
              "\n",
              "          const docLinkHtml = 'Like what you see? Visit the ' +\n",
              "            '<a target=\"_blank\" href=https://colab.research.google.com/notebooks/data_table.ipynb>data table notebook</a>'\n",
              "            + ' to learn more about interactive tables.';\n",
              "          element.innerHTML = '';\n",
              "          dataTable['output_type'] = 'display_data';\n",
              "          await google.colab.output.renderOutput(dataTable, element);\n",
              "          const docLink = document.createElement('div');\n",
              "          docLink.innerHTML = docLinkHtml;\n",
              "          element.appendChild(docLink);\n",
              "        }\n",
              "      </script>\n",
              "    </div>\n",
              "  </div>\n",
              "  "
            ]
          },
          "metadata": {},
          "execution_count": 12
        }
      ],
      "source": [
        "import pandas as pd\n",
        "train_df = pd.DataFrame(train_samples)\n",
        "val_df = pd.DataFrame(val_samples)\n",
        "test_df = pd.DataFrame(test_samples)\n",
        "train_df.head()"
      ]
    },
    {
      "cell_type": "code",
      "execution_count": 13,
      "metadata": {
        "colab": {
          "base_uri": "https://localhost:8080/"
        },
        "id": "xCjjIdPUOKtR",
        "outputId": "315e5ec4-e7b7-4d78-fee4-edf8109aa5df"
      },
      "outputs": [
        {
          "output_type": "execute_result",
          "data": {
            "text/plain": [
              "METHODS        59353\n",
              "RESULTS        57953\n",
              "CONCLUSIONS    27168\n",
              "BACKGROUND     21727\n",
              "OBJECTIVE      13839\n",
              "Name: target, dtype: int64"
            ]
          },
          "metadata": {},
          "execution_count": 13
        }
      ],
      "source": [
        "train_df.target.value_counts()"
      ]
    },
    {
      "cell_type": "code",
      "execution_count": 14,
      "metadata": {
        "colab": {
          "base_uri": "https://localhost:8080/"
        },
        "id": "P5pZY_d4OWTR",
        "outputId": "59e7e1d7-52f4-4a07-d3e5-5c4a597b78ea"
      },
      "outputs": [
        {
          "output_type": "execute_result",
          "data": {
            "text/plain": [
              "METHODS        9897\n",
              "RESULTS        9713\n",
              "CONCLUSIONS    4571\n",
              "BACKGROUND     3621\n",
              "OBJECTIVE      2333\n",
              "Name: target, dtype: int64"
            ]
          },
          "metadata": {},
          "execution_count": 14
        }
      ],
      "source": [
        "test_df.target.value_counts()"
      ]
    },
    {
      "cell_type": "code",
      "execution_count": 15,
      "metadata": {
        "colab": {
          "base_uri": "https://localhost:8080/",
          "height": 0
        },
        "id": "ARu7ClQoOcyz",
        "outputId": "2c93b233-5798-4bc3-939c-c8ea590d652f"
      },
      "outputs": [
        {
          "output_type": "execute_result",
          "data": {
            "text/plain": [
              "<matplotlib.axes._subplots.AxesSubplot at 0x7f37fa1e2e50>"
            ]
          },
          "metadata": {},
          "execution_count": 15
        },
        {
          "output_type": "display_data",
          "data": {
            "text/plain": [
              "<Figure size 432x288 with 1 Axes>"
            ],
            "image/png": "[encoded data removed]"
          },
          "metadata": {
            "needs_background": "light"
          }
        }
      ],
      "source": [
        "# sample length frequency\n",
        "train_df.total_lines.plot.hist()"
      ]
    },
    {
      "cell_type": "markdown",
      "metadata": {
        "id": "s8Yys-m-Os-E"
      },
      "source": [
        "### Convert to Array of Sentences"
      ]
    },
    {
      "cell_type": "code",
      "execution_count": 16,
      "metadata": {
        "colab": {
          "base_uri": "https://localhost:8080/"
        },
        "id": "lTb52QuUOjk8",
        "outputId": "9d98a20f-6832-4606-9f7e-b465f5c02a15"
      },
      "outputs": [
        {
          "output_type": "execute_result",
          "data": {
            "text/plain": [
              "['to investigate the efficacy of @ weeks of daily low-dose oral prednisolone in improving pain , mobility , and systemic low-grade inflammation in the short term and whether the effect would be sustained at @ weeks in older adults with moderate to severe knee osteoarthritis ( oa ) .',\n",
              " 'a total of @ patients with primary knee oa were randomized @:@ ; @ received @ mg/day of prednisolone and @ received placebo for @ weeks .',\n",
              " 'outcome measures included pain reduction and improvement in function scores and systemic inflammation markers .']"
            ]
          },
          "metadata": {},
          "execution_count": 16
        }
      ],
      "source": [
        "convert = lambda sentences: sentences.tolist()\n",
        "train_sentences = convert(train_df[\"text\"])\n",
        "val_sentences = convert(val_df[\"text\"])\n",
        "test_sentences = convert(test_df[\"text\"])\n",
        "train_sentences[:3]"
      ]
    },
    {
      "cell_type": "markdown",
      "metadata": {
        "id": "QgpVuhvNFUlc"
      },
      "source": [
        "### Creating Numeric Lables"
      ]
    },
    {
      "cell_type": "code",
      "execution_count": 17,
      "metadata": {
        "colab": {
          "base_uri": "https://localhost:8080/"
        },
        "id": "LvQ3bsc4O_Xs",
        "outputId": "598febb5-0917-48b3-8f22-974cb3959d9e"
      },
      "outputs": [
        {
          "output_type": "execute_result",
          "data": {
            "text/plain": [
              "<tf.Tensor: shape=(180040, 5), dtype=float64, numpy=\n",
              "array([[0., 0., 0., 1., 0.],\n",
              "       [0., 0., 1., 0., 0.],\n",
              "       [0., 0., 1., 0., 0.],\n",
              "       ...,\n",
              "       [0., 0., 0., 0., 1.],\n",
              "       [0., 1., 0., 0., 0.],\n",
              "       [0., 1., 0., 0., 0.]])>"
            ]
          },
          "metadata": {},
          "execution_count": 17
        }
      ],
      "source": [
        "#use one-hot encoding (could use label encoding as an alternative as well)\n",
        "from sklearn.preprocessing import OneHotEncoder\n",
        "import tensorflow as tf\n",
        "\n",
        "one_hot_encoder = OneHotEncoder(sparse=False)\n",
        "\n",
        "train_labels_one_hot = one_hot_encoder.fit_transform(train_df[\"target\"] \\\n",
        "                                                     .to_numpy() \\\n",
        "                                                     .reshape(-1, 1))\n",
        "val_labels_one_hot = one_hot_encoder.fit_transform(val_df[\"target\"] \\\n",
        "                                                     .to_numpy() \\\n",
        "                                                     .reshape(-1, 1))\n",
        "test_labels_one_hot = one_hot_encoder.fit_transform(test_df[\"target\"] \\\n",
        "                                                     .to_numpy() \\\n",
        "                                                     .reshape(-1, 1))\n",
        "\n",
        "tf.constant(train_labels_one_hot)"
      ]
    },
    {
      "cell_type": "markdown",
      "metadata": {
        "id": "KRGXGG4GwrjI"
      },
      "source": [
        "### Label Encode Labels"
      ]
    },
    {
      "cell_type": "code",
      "execution_count": 18,
      "metadata": {
        "colab": {
          "base_uri": "https://localhost:8080/"
        },
        "id": "v7jMvuKRwvAG",
        "outputId": "0bc3bb92-ea1f-446e-a77c-5ca1d697c2d1"
      },
      "outputs": [
        {
          "output_type": "execute_result",
          "data": {
            "text/plain": [
              "array([3, 2, 2, 2, 2])"
            ]
          },
          "metadata": {},
          "execution_count": 18
        }
      ],
      "source": [
        "#encode the target columns (labels) into integers\n",
        "from sklearn.preprocessing import LabelEncoder\n",
        "label_encoder = LabelEncoder()\n",
        "train_labels_encoded = label_encoder.fit_transform(train_df[\"target\"].to_numpy())\n",
        "val_labels_encoded = label_encoder.fit_transform(val_df[\"target\"].to_numpy())\n",
        "test_labels_encoded = label_encoder.fit_transform(test_df[\"target\"].to_numpy())\n",
        "\n",
        "train_labels_encoded[:5]"
      ]
    },
    {
      "cell_type": "code",
      "execution_count": 19,
      "metadata": {
        "colab": {
          "base_uri": "https://localhost:8080/"
        },
        "id": "xbqnmSjKxUOF",
        "outputId": "7dc7c168-382d-4551-dcca-727f812e0fc3"
      },
      "outputs": [
        {
          "output_type": "execute_result",
          "data": {
            "text/plain": [
              "array(['BACKGROUND', 'CONCLUSIONS', 'METHODS', 'OBJECTIVE', 'RESULTS'],\n",
              "      dtype=object)"
            ]
          },
          "metadata": {},
          "execution_count": 19
        }
      ],
      "source": [
        "class_names = label_encoder.classes_\n",
        "num_classes = len(class_names)\n",
        "class_names"
      ]
    },
    {
      "cell_type": "markdown",
      "metadata": {
        "id": "kzYZBcxxvYIn"
      },
      "source": [
        "## Testing Various Model\n",
        "\n",
        "### Model 1 🤖: Baseline (TF-IDF multinomial Naive Bayes)"
      ]
    },
    {
      "cell_type": "code",
      "execution_count": 20,
      "metadata": {
        "colab": {
          "base_uri": "https://localhost:8080/"
        },
        "id": "tfbMBYggGafP",
        "outputId": "52249de7-a974-4476-c2d1-36a613a566d6"
      },
      "outputs": [
        {
          "output_type": "execute_result",
          "data": {
            "text/plain": [
              "Pipeline(steps=[('tf-idf', TfidfVectorizer()), ('clf', MultinomialNB())])"
            ]
          },
          "metadata": {},
          "execution_count": 20
        }
      ],
      "source": [
        "from pandas.core.reshape.merge import MultiIndex\n",
        "from sklearn.feature_extraction.text import TfidfVectorizer\n",
        "from sklearn.naive_bayes import MultinomialNB\n",
        "from sklearn.pipeline import Pipeline\n",
        "\n",
        "model_1 = Pipeline([\n",
        "    (\"tf-idf\", TfidfVectorizer()),\n",
        "    (\"clf\", MultinomialNB())\n",
        "])\n",
        "\n",
        "model_1.fit(X=train_sentences, y=train_labels_encoded)"
      ]
    },
    {
      "cell_type": "code",
      "execution_count": 21,
      "metadata": {
        "colab": {
          "base_uri": "https://localhost:8080/"
        },
        "id": "maOqZysRxsbz",
        "outputId": "64d4dc77-00ec-45cc-ba8f-d6dbbfc41392"
      },
      "outputs": [
        {
          "output_type": "execute_result",
          "data": {
            "text/plain": [
              "0.7218323844829869"
            ]
          },
          "metadata": {},
          "execution_count": 21
        }
      ],
      "source": [
        "#evaluate baseline on validation set\n",
        "model_1.score(X=val_sentences, y=val_labels_encoded)"
      ]
    },
    {
      "cell_type": "code",
      "execution_count": 22,
      "metadata": {
        "id": "139mOCKdzA7o"
      },
      "outputs": [],
      "source": [
        "from sklearn.metrics import accuracy_score, precision_recall_fscore_support\n",
        "def calculate_results(y_true, y_pred):\n",
        "  \"\"\"\n",
        "  Calculates model accuracy, precision, recall and f1 score of a binary classification model.\n",
        "  Args:\n",
        "      y_true: true labels in the form of a 1D array\n",
        "      y_pred: predicted labels in the form of a 1D array\n",
        "  Returns a dictionary of accuracy, precision, recall, f1-score.\n",
        "  \"\"\"\n",
        "  # Calculate model accuracy\n",
        "  model_accuracy = accuracy_score(y_true, y_pred) * 100\n",
        "  # Calculate model precision, recall and f1 score using \"weighted average\n",
        "  model_precision, model_recall, model_f1, _ = precision_recall_fscore_support(y_true, y_pred, average=\"weighted\")\n",
        "  model_results = {\"accuracy\": model_accuracy,\n",
        "                  \"precision\": model_precision,\n",
        "                  \"recall\": model_recall,\n",
        "                  \"f1\": model_f1}\n",
        "  return model_results"
      ]
    },
    {
      "cell_type": "code",
      "execution_count": 23,
      "metadata": {
        "colab": {
          "base_uri": "https://localhost:8080/"
        },
        "id": "Q_lLkMniycOB",
        "outputId": "d2efab06-33bd-4161-9198-55779653588f"
      },
      "outputs": [
        {
          "output_type": "execute_result",
          "data": {
            "text/plain": [
              "{'accuracy': 72.1832384482987,\n",
              " 'precision': 0.7186466952323352,\n",
              " 'recall': 0.7218323844829869,\n",
              " 'f1': 0.6989250353450294}"
            ]
          },
          "metadata": {},
          "execution_count": 23
        }
      ],
      "source": [
        "baseline_preds = model_1.predict(val_sentences)\n",
        "baseline_results = calculate_results(y_true=val_labels_encoded, y_pred=baseline_preds)\n",
        "baseline_results"
      ]
    },
    {
      "cell_type": "markdown",
      "metadata": {
        "id": "jo1VWBFZ6fYO"
      },
      "source": [
        "### Preparing the Text for Deep Sequence Models"
      ]
    },
    {
      "cell_type": "code",
      "execution_count": 24,
      "metadata": {
        "colab": {
          "base_uri": "https://localhost:8080/",
          "height": 298
        },
        "id": "kHGmQgbNyhy_",
        "outputId": "684eb15d-4561-426a-d61d-363725bf8d68"
      },
      "outputs": [
        {
          "output_type": "execute_result",
          "data": {
            "text/plain": [
              "Text(0.5, 1.0, 'Sentence Length Distribution')"
            ]
          },
          "metadata": {},
          "execution_count": 24
        },
        {
          "output_type": "display_data",
          "data": {
            "text/plain": [
              "<Figure size 432x288 with 1 Axes>"
            ],
            "image/png": "[encoded data removed]"
          },
          "metadata": {
            "needs_background": "light"
          }
        }
      ],
      "source": [
        "#prepare info for creating embedding and vectorization layers prior to building neural networks\n",
        "\n",
        "import numpy as np\n",
        "import tensorflow as tf\n",
        "from tensorflow.keras import layers\n",
        "import matplotlib.pyplot as plt\n",
        "\n",
        "lengths = [len(x.split(' ')) for x in train_sentences]\n",
        "AVG_SENT_LEN = np.mean(lengths)\n",
        "\n",
        "plt.hist(lengths, bins=20)\n",
        "plt.title(\"Sentence Length Distribution\")"
      ]
    },
    {
      "cell_type": "code",
      "execution_count": 25,
      "metadata": {
        "colab": {
          "base_uri": "https://localhost:8080/"
        },
        "id": "gIb5zeQi8_4P",
        "outputId": "bd020676-0f6d-4b6b-91ec-36888840b4e1"
      },
      "outputs": [
        {
          "output_type": "execute_result",
          "data": {
            "text/plain": [
              "55"
            ]
          },
          "metadata": {},
          "execution_count": 25
        }
      ],
      "source": [
        "#determine padding cutoff (enough length to fully cover 95% of sentences)\n",
        "\n",
        "seq_len = int(np.percentile(lengths, 95))\n",
        "seq_len"
      ]
    },
    {
      "cell_type": "code",
      "execution_count": 26,
      "metadata": {
        "id": "8KxP9b8M_TpM"
      },
      "outputs": [],
      "source": [
        "#vectorizer layer\n",
        "\n",
        "from tensorflow.keras.layers.experimental.preprocessing import TextVectorization\n",
        "\n",
        "max_tokens = 68000 #source: https://arxiv.org/pdf/1710.06071.pdf, table 2\n",
        "text_vectorizer = TextVectorization(max_tokens=max_tokens,\n",
        "                                    output_sequence_length=seq_len)\n",
        "\n",
        "#adapt to training sentences only (prevent data leakage)\n",
        "text_vectorizer.adapt(train_sentences)"
      ]
    },
    {
      "cell_type": "code",
      "execution_count": 27,
      "metadata": {
        "colab": {
          "base_uri": "https://localhost:8080/"
        },
        "id": "gbgg0iZ79Qob",
        "outputId": "39390238-1f61-4989-9834-988b1bdfd9b5"
      },
      "outputs": [
        {
          "output_type": "stream",
          "name": "stdout",
          "text": [
            "Top 10 Most Common Words:\n",
            " ['', '[UNK]', 'the', 'and', 'of', 'in', 'to', 'with', 'a', 'were']\n",
            "\n",
            "Top 10 Least Common Words:\n",
            " ['aarm', 'aaqol', 'aaq', 'aanhui', 'aana', 'aainduced', 'aaigroup', 'aachener', 'aachen', 'aaacp']\n"
          ]
        }
      ],
      "source": [
        "rct_20k_vocab = text_vectorizer.get_vocabulary()\n",
        "print(f\"Top 10 Most Common Words:\\n {rct_20k_vocab[:10]}\\n\")\n",
        "print(f\"Top 10 Least Common Words:\\n {rct_20k_vocab[-10:]}\")"
      ]
    },
    {
      "cell_type": "code",
      "execution_count": 28,
      "metadata": {
        "colab": {
          "base_uri": "https://localhost:8080/"
        },
        "id": "dOO9jKlk6g9Y",
        "outputId": "18e70dc6-0c21-4b96-e846-198c7ce22c7d"
      },
      "outputs": [
        {
          "output_type": "stream",
          "name": "stdout",
          "text": [
            "Sentence:\n",
            " monitoring hypotension is required for both the sedatives .\n",
            "\n",
            "Vectorized Sentence:\n",
            " [[  607  1963    20   482    11    54     2 11407     0     0     0     0\n",
            "      0     0     0     0     0     0     0     0     0     0     0     0\n",
            "      0     0     0     0     0     0     0     0     0     0     0     0\n",
            "      0     0     0     0     0     0     0     0     0     0     0     0\n",
            "      0     0     0     0     0     0     0]]\n"
          ]
        }
      ],
      "source": [
        "import random\n",
        "target_sentence = random.choice(train_sentences)\n",
        "print(f\"Sentence:\\n {target_sentence}\\n\")\n",
        "print(f\"Vectorized Sentence:\\n {text_vectorizer([target_sentence])}\")"
      ]
    },
    {
      "cell_type": "code",
      "execution_count": 29,
      "metadata": {
        "id": "UXSRSFcv69qk"
      },
      "outputs": [],
      "source": [
        "#text embedding \n",
        "token_embed = layers.Embedding(input_dim=len(rct_20k_vocab), #the largest integer in the input should be no larger than the vocab. size\n",
        "                               output_dim=128,\n",
        "                               mask_zero=True, #similar to padding with 0s at the end\n",
        "                               name=\"token_embedding\")"
      ]
    },
    {
      "cell_type": "markdown",
      "metadata": {
        "id": "0nrn8E5sl1tc"
      },
      "source": [
        "### Creating Efficient Data Pipeline "
      ]
    },
    {
      "cell_type": "code",
      "execution_count": 30,
      "metadata": {
        "colab": {
          "base_uri": "https://localhost:8080/"
        },
        "id": "X0o48tfH4UED",
        "outputId": "c829da54-0ea8-497e-d0b7-f89d877909a3"
      },
      "outputs": [
        {
          "output_type": "execute_result",
          "data": {
            "text/plain": [
              "<TensorSliceDataset element_spec=(TensorSpec(shape=(), dtype=tf.string, name=None), TensorSpec(shape=(5,), dtype=tf.float64, name=None))>"
            ]
          },
          "metadata": {},
          "execution_count": 30
        }
      ],
      "source": [
        "#use tf.data API to turn data to tf datasets\n",
        "train_dataset = tf.data.Dataset.from_tensor_slices((train_sentences, train_labels_one_hot))\n",
        "val_dataset = tf.data.Dataset.from_tensor_slices((val_sentences, val_labels_one_hot))\n",
        "test_dataset= tf.data.Dataset.from_tensor_slices((test_sentences, test_labels_one_hot))\n",
        "\n",
        "train_dataset"
      ]
    },
    {
      "cell_type": "code",
      "execution_count": 31,
      "metadata": {
        "colab": {
          "base_uri": "https://localhost:8080/"
        },
        "id": "70uqS5IjmLXB",
        "outputId": "e05b5727-d32d-4b7b-c5a6-f4729ba11a03"
      },
      "outputs": [
        {
          "output_type": "execute_result",
          "data": {
            "text/plain": [
              "<PrefetchDataset element_spec=(TensorSpec(shape=(None,), dtype=tf.string, name=None), TensorSpec(shape=(None, 5), dtype=tf.float64, name=None))>"
            ]
          },
          "metadata": {},
          "execution_count": 31
        }
      ],
      "source": [
        "train_dataset = train_dataset.batch(32).prefetch(tf.data.AUTOTUNE)\n",
        "val_dataset = val_dataset.batch(32).prefetch(tf.data.AUTOTUNE)\n",
        "test_dataset = test_dataset.batch(32).prefetch(tf.data.AUTOTUNE)\n",
        "\n",
        "train_dataset"
      ]
    },
    {
      "cell_type": "markdown",
      "source": [
        "### Model 2 🤖: Conv1D With Token Embedding"
      ],
      "metadata": {
        "id": "-Mi1J7kAMyhS"
      }
    },
    {
      "cell_type": "code",
      "execution_count": 32,
      "metadata": {
        "colab": {
          "base_uri": "https://localhost:8080/"
        },
        "id": "mU81joOBmma1",
        "outputId": "a5def204-a151-443e-cf45-232dddf252a5"
      },
      "outputs": [
        {
          "output_type": "stream",
          "name": "stdout",
          "text": [
            "Model: \"model\"\n",
            "_________________________________________________________________\n",
            " Layer (type)                Output Shape              Param #   \n",
            "=================================================================\n",
            " input_1 (InputLayer)        [(None, 1)]               0         \n",
            "                                                                 \n",
            " text_vectorization (TextVec  (None, 55)               0         \n",
            " torization)                                                     \n",
            "                                                                 \n",
            " token_embedding (Embedding)  (None, 55, 128)          8299648   \n",
            "                                                                 \n",
            " conv1d (Conv1D)             (None, 55, 64)            41024     \n",
            "                                                                 \n",
            " global_average_pooling1d (G  (None, 64)               0         \n",
            " lobalAveragePooling1D)                                          \n",
            "                                                                 \n",
            " dense (Dense)               (None, 5)                 325       \n",
            "                                                                 \n",
            "=================================================================\n",
            "Total params: 8,340,997\n",
            "Trainable params: 8,340,997\n",
            "Non-trainable params: 0\n",
            "_________________________________________________________________\n"
          ]
        }
      ],
      "source": [
        "#setup model\n",
        "\n",
        "inputs = layers.Input(shape=(1,), dtype=tf.string)\n",
        "text_vectors = text_vectorizer(inputs)\n",
        "token_embedding = token_embed(text_vectors)\n",
        "x = layers.Conv1D(64, kernel_size=5, padding=\"same\", activation=\"relu\")(token_embedding)\n",
        "x = layers.GlobalAveragePooling1D()(x) #condense output of feature vector\n",
        "outputs = layers.Dense(len(class_names), activation=\"softmax\")(x)\n",
        "\n",
        "model_2 = tf.keras.Model(inputs, outputs)\n",
        "model_2.compile(loss=\"categorical_crossentropy\",\n",
        "                optimizer=tf.keras.optimizers.Adam(),\n",
        "                metrics=[\"accuracy\"])\n",
        "\n",
        "model_2.summary()"
      ]
    },
    {
      "cell_type": "code",
      "source": [
        "#fit model (but only look at 10% of batch / epoch)\n",
        "\n",
        "history_model_2 = model_2.fit(train_dataset,\n",
        "                              steps_per_epoch=int(0.1*len(train_dataset)),\n",
        "                              epochs=3,\n",
        "                              validation_data=val_dataset,\n",
        "                              validation_steps=int(0.1*len(val_dataset)))"
      ],
      "metadata": {
        "colab": {
          "base_uri": "https://localhost:8080/"
        },
        "id": "goZ6w6s-NeOa",
        "outputId": "582af6da-5702-4441-f34e-52aa2bed0dd0"
      },
      "execution_count": 33,
      "outputs": [
        {
          "output_type": "stream",
          "name": "stdout",
          "text": [
            "Epoch 1/3\n",
            "562/562 [==============================] - 8s 9ms/step - loss: 0.9192 - accuracy: 0.6362 - val_loss: 0.6796 - val_accuracy: 0.7404\n",
            "Epoch 2/3\n",
            "562/562 [==============================] - 5s 9ms/step - loss: 0.6575 - accuracy: 0.7566 - val_loss: 0.6271 - val_accuracy: 0.7716\n",
            "Epoch 3/3\n",
            "562/562 [==============================] - 5s 9ms/step - loss: 0.6173 - accuracy: 0.7722 - val_loss: 0.5945 - val_accuracy: 0.7879\n"
          ]
        }
      ]
    },
    {
      "cell_type": "code",
      "source": [
        "#model evaluation\n",
        "\n",
        "model_2.evaluate(val_dataset)"
      ],
      "metadata": {
        "colab": {
          "base_uri": "https://localhost:8080/"
        },
        "id": "t4zij6-iPE1O",
        "outputId": "5a4d20cf-fdee-4c4d-c4a5-abc9b7d22c0a"
      },
      "execution_count": 34,
      "outputs": [
        {
          "output_type": "stream",
          "name": "stdout",
          "text": [
            "945/945 [==============================] - 3s 3ms/step - loss: 0.5981 - accuracy: 0.7859\n"
          ]
        },
        {
          "output_type": "execute_result",
          "data": {
            "text/plain": [
              "[0.598078727722168, 0.7858797907829285]"
            ]
          },
          "metadata": {},
          "execution_count": 34
        }
      ]
    },
    {
      "cell_type": "code",
      "source": [
        "model_2_preds = model_2.predict(val_dataset)\n",
        "conv_model_2_preds = [class_names[max([i for i in range(5)], key=lambda j:pred[j])] for pred in model_2_preds]\n",
        "\n",
        "class_names"
      ],
      "metadata": {
        "colab": {
          "base_uri": "https://localhost:8080/"
        },
        "id": "fieHQ8UnQXST",
        "outputId": "d208cfcd-e7ec-4213-c8b5-a0d7b16bb6d2"
      },
      "execution_count": 35,
      "outputs": [
        {
          "output_type": "stream",
          "name": "stdout",
          "text": [
            "945/945 [==============================] - 2s 2ms/step\n"
          ]
        },
        {
          "output_type": "execute_result",
          "data": {
            "text/plain": [
              "array(['BACKGROUND', 'CONCLUSIONS', 'METHODS', 'OBJECTIVE', 'RESULTS'],\n",
              "      dtype=object)"
            ]
          },
          "metadata": {},
          "execution_count": 35
        }
      ]
    },
    {
      "cell_type": "code",
      "source": [
        "conv_model_2_preds[:5]"
      ],
      "metadata": {
        "colab": {
          "base_uri": "https://localhost:8080/"
        },
        "id": "WNGyblsVQoPz",
        "outputId": "b4a1adc7-2434-43c7-8cac-ae66fec8f386"
      },
      "execution_count": 36,
      "outputs": [
        {
          "output_type": "execute_result",
          "data": {
            "text/plain": [
              "['BACKGROUND', 'BACKGROUND', 'OBJECTIVE', 'METHODS', 'RESULTS']"
            ]
          },
          "metadata": {},
          "execution_count": 36
        }
      ]
    },
    {
      "cell_type": "code",
      "source": [
        "model_2_results = calculate_results(val_labels_encoded,\n",
        "                                    tf.argmax(model_2_preds, axis=1))\n",
        "\n",
        "model_2_results"
      ],
      "metadata": {
        "colab": {
          "base_uri": "https://localhost:8080/"
        },
        "id": "WymNadRNRFEs",
        "outputId": "2142cd54-d953-4537-89da-99f355a036b7"
      },
      "execution_count": 37,
      "outputs": [
        {
          "output_type": "execute_result",
          "data": {
            "text/plain": [
              "{'accuracy': 78.58797828677346,\n",
              " 'precision': 0.7827590910542586,\n",
              " 'recall': 0.7858797828677346,\n",
              " 'f1': 0.7834157024256586}"
            ]
          },
          "metadata": {},
          "execution_count": 37
        }
      ]
    },
    {
      "cell_type": "markdown",
      "source": [
        "### Model 3 🤖: Pretrained Feature Extractor (Conv1D)\n",
        "\n",
        "*   universal sentence encoder v4\n",
        "\n"
      ],
      "metadata": {
        "id": "GpGX3RlxSIVk"
      }
    },
    {
      "cell_type": "code",
      "source": [
        "import tensorflow_hub as hub\n",
        "\n",
        "extractor_layer = hub.KerasLayer(\"https://tfhub.dev/google/universal-sentence-encoder/4\",\n",
        "                                 trainable=False,\n",
        "                                 name=\"USE\")"
      ],
      "metadata": {
        "id": "-IoFp_4kRnN5"
      },
      "execution_count": 38,
      "outputs": []
    },
    {
      "cell_type": "code",
      "source": [
        "#test on arbitrary sentence\n",
        "sentence = random.choice(train_sentences)\n",
        "embedded_sentence = extractor_layer([sentence])\n",
        "print(sentence)\n",
        "print(embedded_sentence)"
      ],
      "metadata": {
        "id": "GO8c4D08R8L6",
        "colab": {
          "base_uri": "https://localhost:8080/"
        },
        "outputId": "2bd9e0c7-f34c-41a6-c5a3-7c1c0380b781"
      },
      "execution_count": 39,
      "outputs": [
        {
          "output_type": "stream",
          "name": "stdout",
          "text": [
            "the primary outcome measure will be analyzed using linear regression adjusting for baseline symptom severity measured using the hdrs-@ .\n",
            "tf.Tensor(\n",
            "[[-1.54929990e-02 -2.13175323e-02 -5.01423329e-02 -3.49984020e-02\n",
            "  -2.84357872e-02 -6.46554679e-02 -2.37711575e-02 -3.79439332e-02\n",
            "   2.60724071e-02  8.40865374e-02  4.57933620e-02  4.66852821e-02\n",
            "   2.12403312e-02  1.18801799e-02 -3.84562090e-02 -3.75459790e-02\n",
            "  -3.11232284e-02  3.58857810e-02  2.90896725e-02 -4.08847956e-03\n",
            "  -7.01190606e-02  5.49101382e-02 -5.31265587e-02  5.05557321e-02\n",
            "   6.84080347e-02  5.48986644e-02  2.55372748e-02  6.35502264e-02\n",
            "  -2.27423720e-02  2.57140584e-02  6.66457713e-02  1.29753258e-04\n",
            "   5.26916832e-02  4.87092845e-02 -4.07141820e-02  5.98722175e-02\n",
            "  -7.18120858e-02 -1.98599580e-03 -2.41018590e-02 -5.58538772e-02\n",
            "  -3.62425223e-02  3.91796716e-02 -1.20522380e-02  5.57592837e-03\n",
            "  -2.50958442e-03  7.79723674e-02 -1.40289841e-02  4.31677923e-02\n",
            "   5.83334044e-02 -3.41127999e-02 -5.47206365e-02 -1.13709895e-02\n",
            "   6.04991009e-03  5.39375236e-03  1.02284306e-03 -2.15242300e-02\n",
            "  -1.69248935e-02  3.64804938e-02  7.12243766e-02 -3.72459032e-02\n",
            "   8.22108332e-03 -3.73089351e-02  7.01791421e-02 -4.51105610e-02\n",
            "  -5.39544411e-02 -1.37915770e-02  3.22443657e-02  5.43671027e-02\n",
            "   6.75452501e-02 -2.46355943e-02 -2.11523939e-02  5.52464351e-02\n",
            "  -1.66600831e-02  4.09849435e-02  3.93974893e-02  7.29115754e-02\n",
            "  -2.22468982e-03  3.22615318e-02  2.76085082e-02 -3.72482315e-02\n",
            "  -3.99452932e-02 -1.42495912e-02 -4.51958738e-02 -1.56490114e-02\n",
            "  -7.66688492e-03  4.76429388e-02  9.18097503e-04 -1.27753373e-02\n",
            "  -1.88921411e-02  3.49217318e-02  1.77890584e-02  1.13440184e-02\n",
            "   2.62796339e-02  6.37156283e-03 -8.19246564e-03 -3.91589105e-03\n",
            "  -2.42697783e-02 -3.43391262e-02 -8.31588171e-03 -1.17108095e-02\n",
            "  -3.26998718e-02  8.15217271e-02  5.41645288e-02 -4.64860313e-02\n",
            "   7.92270934e-04 -2.64020655e-02 -7.18411729e-02  2.14453340e-02\n",
            "   1.47613967e-02  6.65265396e-02 -2.62164716e-02 -5.20967878e-02\n",
            "   4.60172072e-02 -8.29573870e-02  7.69838616e-02  3.85419913e-02\n",
            "  -5.09150401e-02  7.21932352e-02  6.11224212e-02 -5.65138943e-02\n",
            "   3.21537852e-02 -4.46603559e-02 -2.94878706e-02  1.37426648e-02\n",
            "  -7.91348219e-02 -1.92122180e-02 -7.77600110e-02  4.40066345e-02\n",
            "   4.43142429e-02  2.34727394e-02 -9.91485547e-03  7.50981644e-02\n",
            "   3.42425443e-02 -3.23271267e-02  4.33699526e-02 -7.75780827e-02\n",
            "  -2.27609724e-02  4.83851396e-02  7.48725887e-03 -6.92386627e-02\n",
            "  -3.38892043e-02 -6.96920753e-02  1.49179408e-02  2.49314029e-02\n",
            "  -2.40102466e-02  5.75823709e-03  3.54201496e-02  3.03436778e-02\n",
            "   4.72439602e-02 -1.63106713e-02  8.05192962e-02  8.37144777e-02\n",
            "  -5.60908057e-02  2.04426087e-02 -4.10472229e-02 -1.96479564e-03\n",
            "   5.74836619e-02  5.62709616e-03  1.71696693e-02 -7.53557906e-02\n",
            "  -4.20368277e-02 -5.01161106e-02  1.90893095e-02 -2.48947702e-02\n",
            "   7.20786378e-02 -7.17376545e-02 -7.49490457e-03  3.57370861e-02\n",
            "   5.16891442e-02  2.99692191e-02  3.15693505e-02 -7.17075542e-02\n",
            "   2.06807535e-02  9.16094985e-03  4.96426784e-03 -7.07228035e-02\n",
            "   6.59871940e-03  1.95088948e-03  5.64172082e-02  5.73649630e-02\n",
            "  -4.27296385e-02 -5.35878204e-02  3.64894159e-02 -5.50714582e-02\n",
            "   6.22672737e-02  4.57836986e-02  1.23352148e-02 -3.16651165e-02\n",
            "  -1.33257583e-02  7.27203935e-02  4.18446735e-02 -4.62486260e-02\n",
            "   4.25092131e-02  4.48790751e-02 -1.71890613e-02 -2.55417507e-02\n",
            "   1.64284166e-02  6.77870587e-02 -5.98465372e-03 -6.34845421e-02\n",
            "   8.22188705e-02 -6.07868619e-02 -4.32897359e-02  8.43813121e-02\n",
            "   7.55785406e-02 -5.28094508e-02 -4.94619869e-02  9.50401591e-04\n",
            "   8.85183271e-03  2.88295057e-02 -1.23826219e-02 -4.37865667e-02\n",
            "  -2.11653057e-02 -3.86208333e-02 -2.49904543e-02  1.20966965e-02\n",
            "   6.25806302e-02  2.07794346e-02  4.55152169e-02  9.53178760e-03\n",
            "  -5.87149039e-02 -2.94228923e-02 -7.08963573e-02  2.20680684e-02\n",
            "   4.27129194e-02  8.25864356e-03 -6.12284876e-02  6.78679124e-02\n",
            "  -5.75253628e-02  8.09419993e-03 -6.13711514e-02 -1.79454368e-02\n",
            "  -4.20550145e-02 -6.62607104e-02  2.80528851e-02 -2.11924799e-02\n",
            "   5.23688532e-02  3.81731614e-02 -7.31805712e-02  5.37962466e-02\n",
            "   5.64355440e-02 -2.78620813e-02  4.37357463e-02 -4.03362624e-02\n",
            "   1.40566519e-02 -5.92632629e-02 -5.80576882e-02 -6.63587153e-02\n",
            "  -1.40184704e-02 -7.85453916e-02  6.84647784e-02 -1.97577998e-02\n",
            "  -2.08768658e-02  3.78842838e-02 -1.90364160e-02 -4.35888954e-02\n",
            "  -7.90744051e-02  3.11403628e-02  6.75406829e-02 -7.77999032e-03\n",
            "  -5.05674593e-02 -6.78693578e-02  2.30762474e-02  5.65137416e-02\n",
            "  -5.16743995e-02 -6.20138347e-02 -3.71398292e-02  1.08276475e-02\n",
            "   5.80231585e-02 -7.39688892e-03 -3.00831422e-02  2.06201039e-02\n",
            "   4.40483429e-02 -2.36576516e-02 -5.49285263e-02 -1.08517101e-02\n",
            "  -7.65541941e-02 -3.72537300e-02  5.38793541e-02 -6.68449700e-02\n",
            "  -8.27827975e-02  6.12626299e-02 -1.80338472e-02  5.31517342e-03\n",
            "   7.62971304e-03  2.99272966e-02  3.30903120e-02  7.08514079e-02\n",
            "  -2.22078636e-02  3.78407235e-03  5.20343110e-02  5.30825034e-02\n",
            "   6.95553469e-03 -4.88125309e-02 -2.28429884e-02 -1.49292629e-02\n",
            "  -4.71660830e-02  7.32837766e-02 -1.50694251e-02 -1.86379328e-02\n",
            "  -1.40282214e-02 -8.55507609e-03 -1.67082567e-02 -7.80173838e-02\n",
            "  -5.28158695e-02  6.54069036e-02  8.00150931e-02 -2.50551198e-02\n",
            "   7.32096657e-02 -2.16974877e-02 -3.37449200e-02  2.68475432e-02\n",
            "   4.34407853e-02 -1.25173805e-02 -6.20317832e-02 -3.40868644e-02\n",
            "   6.62147701e-02 -2.56389882e-02 -5.64118735e-02 -1.67428777e-02\n",
            "  -4.67316695e-02 -4.21461323e-03  4.36860323e-02 -1.30237453e-02\n",
            "  -3.10419519e-02 -1.65543817e-02 -5.25512546e-02 -6.44624531e-02\n",
            "  -8.61005411e-02 -2.47559678e-02  7.73207168e-04  2.42921710e-03\n",
            "   6.63997754e-02  4.33136299e-02  5.34557030e-02  6.72139525e-02\n",
            "   4.12145369e-02 -2.93450244e-02  2.77953465e-02  2.09825635e-02\n",
            "  -3.08321863e-02  3.09059918e-02 -2.47112010e-02  2.02151667e-02\n",
            "  -8.31743479e-02  6.12304471e-02 -5.55104986e-02 -3.12070511e-02\n",
            "  -6.92103878e-02  4.44037206e-02 -3.96558531e-02  6.93002483e-03\n",
            "   2.93158628e-02 -2.65453495e-02  7.15986341e-02  5.30338809e-02\n",
            "   2.00404972e-02 -1.10602174e-02  6.26128400e-04 -8.07021856e-02\n",
            "   6.56592324e-02 -1.74383186e-02 -4.27214839e-02 -6.90704817e-03\n",
            "   4.32044379e-02  3.48213278e-02 -5.63451461e-03  3.35137658e-02\n",
            "   2.76921671e-02 -3.59505328e-04 -4.95815612e-02 -3.95188406e-02\n",
            "  -2.40253881e-02 -3.41949873e-02  6.15209676e-02 -4.89891134e-02\n",
            "  -1.15701621e-02  1.69170219e-02 -6.89412653e-03 -6.33396506e-02\n",
            "   6.05469346e-02  2.29351246e-03  5.69763929e-02  5.91652319e-02\n",
            "  -2.04375647e-02 -2.62988545e-03 -2.74064690e-02 -3.54787447e-02\n",
            "  -5.56957349e-02 -2.46536974e-02 -2.86942348e-02 -4.86099683e-02\n",
            "  -4.07462940e-02 -6.53012097e-02  5.67064658e-02  4.88465652e-02\n",
            "   6.59904405e-02 -5.62404543e-02  4.68441881e-02 -4.99152839e-02\n",
            "   7.00285882e-02 -5.49235605e-02 -5.35316058e-02  3.22402976e-02\n",
            "   8.55699182e-03 -2.26216689e-02  4.79409173e-02  4.67333309e-02\n",
            "   7.26925582e-02  3.42191756e-02  3.18067633e-02  2.20154636e-02\n",
            "   2.63809953e-02  2.43880209e-02 -5.76426834e-02 -1.17887640e-02\n",
            "  -2.84756906e-02  1.95196997e-02 -4.48528789e-02 -4.46795225e-02\n",
            "   5.36462218e-02  3.87861282e-02  4.27895300e-02 -1.24308746e-02\n",
            "   6.01246431e-02 -6.08515134e-03  2.13982561e-03 -4.73245978e-02\n",
            "   3.63991000e-02  5.04636317e-02 -4.45778221e-02 -2.98109110e-02\n",
            "   2.71576480e-03 -2.55201221e-03 -2.69162050e-03  4.50351946e-02\n",
            "  -1.46311847e-02  1.38862133e-02  6.91684708e-02  2.82034930e-02\n",
            "   4.32435237e-02 -9.49893519e-03  5.57179451e-02 -5.58697358e-02\n",
            "  -6.88642338e-02  4.45787124e-02  4.53774333e-02 -7.70049766e-02\n",
            "   2.38706041e-02 -4.66544600e-03  2.43756417e-02 -9.57255531e-03\n",
            "  -6.05753064e-02  2.85030832e-03 -5.00698527e-03 -5.99608086e-02\n",
            "   3.38057764e-02  5.29064387e-02 -3.07101719e-02  7.83627108e-02\n",
            "   4.06719036e-02 -5.51040471e-02 -3.08793187e-02 -2.39682421e-02\n",
            "  -8.91025295e-04 -6.76375628e-02 -2.09184662e-02 -2.99045611e-02\n",
            "   1.37458257e-02 -4.35054861e-02  4.72272411e-02  7.63407052e-02\n",
            "  -5.08563317e-05 -5.45553640e-02  5.89972711e-04  6.27683029e-02\n",
            "  -4.54829931e-02 -5.26952147e-02  3.92171107e-02  3.63034084e-02\n",
            "  -7.60662109e-02  2.52928417e-02  4.28522006e-02  2.15433352e-03\n",
            "  -3.83520350e-02  5.77980690e-02 -7.49631003e-02 -5.83299920e-02\n",
            "  -2.76137907e-02 -3.71423401e-02  3.62174958e-02 -4.70011123e-03\n",
            "  -7.01425597e-02 -2.30128169e-02  6.22086003e-02  2.75238957e-02\n",
            "   2.54714731e-02  5.75116724e-02 -1.82881579e-02 -5.53938337e-02\n",
            "   7.95711651e-02 -3.29057686e-02  4.92454618e-02 -7.32446387e-02\n",
            "   2.79729050e-02 -8.11414048e-02 -1.26609970e-02  2.75905449e-02\n",
            "   3.01420931e-02 -4.78182621e-02  1.16493898e-02  2.13803928e-02]], shape=(1, 512), dtype=float32)\n"
          ]
        }
      ]
    },
    {
      "cell_type": "code",
      "source": [
        "inputs = layers.Input(shape=[], dtype=tf.string)\n",
        "embedding = extractor_layer(inputs)\n",
        "x = layers.Dense(128, activation=\"relu\")(embedding)\n",
        "x = layers.Dense(64, activation=\"relu\")(x)\n",
        "outputs = layers.Dense(num_classes, activation=\"softmax\")(x)\n",
        "model_3 = tf.keras.Model(inputs=inputs,\n",
        "                         outputs=outputs,\n",
        "                         name=\"USE_feature_extractor\")\n",
        "\n",
        "model_3.compile(loss=\"categorical_crossentropy\",\n",
        "                optimizer=tf.keras.optimizers.Adam(),\n",
        "                metrics=[\"accuracy\"])"
      ],
      "metadata": {
        "id": "1aOkoRzdTolo"
      },
      "execution_count": 40,
      "outputs": []
    },
    {
      "cell_type": "code",
      "source": [
        "history_model_3 = model_3.fit(train_dataset,\n",
        "                              steps_per_epoch=int(0.1*len(train_dataset)),\n",
        "                              epochs=3,\n",
        "                              validation_data=val_dataset,\n",
        "                              validation_steps=int(0.1*len(val_dataset)))"
      ],
      "metadata": {
        "colab": {
          "base_uri": "https://localhost:8080/"
        },
        "id": "lCNENaour5Qm",
        "outputId": "5590c9b7-79ad-49cf-c22e-d020fdaf3a57"
      },
      "execution_count": 41,
      "outputs": [
        {
          "output_type": "stream",
          "name": "stdout",
          "text": [
            "Epoch 1/3\n",
            "562/562 [==============================] - 11s 15ms/step - loss: 0.8940 - accuracy: 0.6472 - val_loss: 0.7871 - val_accuracy: 0.6925\n",
            "Epoch 2/3\n",
            "562/562 [==============================] - 9s 16ms/step - loss: 0.7462 - accuracy: 0.7087 - val_loss: 0.7240 - val_accuracy: 0.7158\n",
            "Epoch 3/3\n",
            "562/562 [==============================] - 8s 15ms/step - loss: 0.7179 - accuracy: 0.7234 - val_loss: 0.6925 - val_accuracy: 0.7387\n"
          ]
        }
      ]
    },
    {
      "cell_type": "code",
      "source": [
        "model_3_preds = model_3.predict(val_dataset)\n",
        "conv_model_3_preds = [class_names[max([i for i in range(5)], key=lambda j:pred[j])] for pred in model_3_preds]\n",
        "model_3_results = calculate_results(val_labels_encoded,\n",
        "                                    tf.argmax(model_3_preds, axis=1))\n",
        "\n",
        "model_3_results"
      ],
      "metadata": {
        "colab": {
          "base_uri": "https://localhost:8080/"
        },
        "id": "Ts_sj8oYuXQ0",
        "outputId": "90b3f1c1-d89d-4a4f-d986-2d57ee17b0fd"
      },
      "execution_count": 42,
      "outputs": [
        {
          "output_type": "stream",
          "name": "stdout",
          "text": [
            "945/945 [==============================] - 12s 12ms/step\n"
          ]
        },
        {
          "output_type": "execute_result",
          "data": {
            "text/plain": [
              "{'accuracy': 73.12326227988879,\n",
              " 'precision': 0.7333152884810226,\n",
              " 'recall': 0.7312326227988879,\n",
              " 'f1': 0.7309070728234636}"
            ]
          },
          "metadata": {},
          "execution_count": 42
        }
      ]
    },
    {
      "cell_type": "markdown",
      "source": [
        "### Model 3 🤖: Character Embeddings (Conv1D)\n",
        "\n",
        "*   The paper being replicated used a combination of character and token/word embeddings\n",
        "*   All previously created embeddings were token embeddings\n",
        "\n",
        "\n",
        "\n"
      ],
      "metadata": {
        "id": "C8VAqQY1DHUk"
      }
    },
    {
      "cell_type": "code",
      "source": [
        "#first we need to create a character level tokenizer\n",
        "\n",
        "split_chars = lambda text: ' '.join(list(text))\n",
        "train_chars = [split_chars(x) for x in train_sentences]\n",
        "val_chars = [split_chars(x) for x in val_sentences]\n",
        "test_chars = [split_chars(x) for x in test_sentences]\n",
        "train_chars[0]"
      ],
      "metadata": {
        "id": "yjRmTtBtuhWn",
        "colab": {
          "base_uri": "https://localhost:8080/",
          "height": 104
        },
        "outputId": "6e53f88c-fa15-4750-8799-95360c2ceb3d"
      },
      "execution_count": 43,
      "outputs": [
        {
          "output_type": "execute_result",
          "data": {
            "text/plain": [
              "'t o   i n v e s t i g a t e   t h e   e f f i c a c y   o f   @   w e e k s   o f   d a i l y   l o w - d o s e   o r a l   p r e d n i s o l o n e   i n   i m p r o v i n g   p a i n   ,   m o b i l i t y   ,   a n d   s y s t e m i c   l o w - g r a d e   i n f l a m m a t i o n   i n   t h e   s h o r t   t e r m   a n d   w h e t h e r   t h e   e f f e c t   w o u l d   b e   s u s t a i n e d   a t   @   w e e k s   i n   o l d e r   a d u l t s   w i t h   m o d e r a t e   t o   s e v e r e   k n e e   o s t e o a r t h r i t i s   (   o a   )   .'"
            ],
            "application/vnd.google.colaboratory.intrinsic+json": {
              "type": "string"
            }
          },
          "metadata": {},
          "execution_count": 43
        }
      ]
    },
    {
      "cell_type": "code",
      "source": [
        "#average char length (to cut off sentences or pad with 0s)\n",
        "\n",
        "char_len = [len(x) for x in train_chars]\n",
        "avg_char_len = np.mean(char_len)\n",
        "avg_char_len"
      ],
      "metadata": {
        "colab": {
          "base_uri": "https://localhost:8080/"
        },
        "id": "atwlyqDMEsDL",
        "outputId": "e0f31237-32f8-4b44-f6d4-01ee93e00201"
      },
      "execution_count": 44,
      "outputs": [
        {
          "output_type": "execute_result",
          "data": {
            "text/plain": [
              "297.7325149966674"
            ]
          },
          "metadata": {},
          "execution_count": 44
        }
      ]
    },
    {
      "cell_type": "code",
      "source": [
        "plt.hist(char_len, bins=20)\n",
        "plt.title(\"Character Length Distribution\")"
      ],
      "metadata": {
        "colab": {
          "base_uri": "https://localhost:8080/",
          "height": 298
        },
        "id": "Hfg3r3KvFdKv",
        "outputId": "1c5602cd-2115-458f-d366-deacee5cc58b"
      },
      "execution_count": 45,
      "outputs": [
        {
          "output_type": "execute_result",
          "data": {
            "text/plain": [
              "Text(0.5, 1.0, 'Character Length Distribution')"
            ]
          },
          "metadata": {},
          "execution_count": 45
        },
        {
          "output_type": "display_data",
          "data": {
            "text/plain": [
              "<Figure size 432x288 with 1 Axes>"
            ],
            "image/png": "[encoded data removed]"
          },
          "metadata": {
            "needs_background": "light"
          }
        }
      ]
    },
    {
      "cell_type": "code",
      "source": [
        "char_len_95 = int(np.percentile(char_len, 95))\n",
        "char_len_95"
      ],
      "metadata": {
        "colab": {
          "base_uri": "https://localhost:8080/"
        },
        "id": "b_3EbKVuFsCb",
        "outputId": "1d0f35bd-26bb-4ef3-f62c-145091510719"
      },
      "execution_count": 46,
      "outputs": [
        {
          "output_type": "execute_result",
          "data": {
            "text/plain": [
              "579"
            ]
          },
          "metadata": {},
          "execution_count": 46
        }
      ]
    },
    {
      "cell_type": "code",
      "source": [
        "#all keyboard chars\n",
        "import string\n",
        "all_chars = string.ascii_lowercase + string.digits + string.punctuation + ' ' + 'U' #include space and unkown chars\n",
        "all_chars"
      ],
      "metadata": {
        "colab": {
          "base_uri": "https://localhost:8080/",
          "height": 35
        },
        "id": "nS2eHKCXF1sY",
        "outputId": "110874bf-8e72-4490-8da6-7528e0caea99"
      },
      "execution_count": 47,
      "outputs": [
        {
          "output_type": "execute_result",
          "data": {
            "text/plain": [
              "'abcdefghijklmnopqrstuvwxyz0123456789!\"#$%&\\'()*+,-./:;<=>?@[\\\\]^_`{|}~ U'"
            ],
            "application/vnd.google.colaboratory.intrinsic+json": {
              "type": "string"
            }
          },
          "metadata": {},
          "execution_count": 47
        }
      ]
    },
    {
      "cell_type": "code",
      "source": [
        "CHAR_TOKENS_LENGTH = len(all_chars)\n",
        "char_vectorizer = TextVectorization(max_tokens=CHAR_TOKENS_LENGTH,\n",
        "                                    output_sequence_length=char_len_95,\n",
        "                                    name=\"char_vectorizer\")\n",
        "char_vectorizer.adapt(train_chars)"
      ],
      "metadata": {
        "id": "ng1KKbIuHbDp"
      },
      "execution_count": 48,
      "outputs": []
    },
    {
      "cell_type": "code",
      "source": [
        "random_train_chars = random.choice(train_chars)\n",
        "vectorized_chars = char_vectorizer([random_train_chars])\n",
        "vectorized_chars"
      ],
      "metadata": {
        "colab": {
          "base_uri": "https://localhost:8080/"
        },
        "id": "hnesQlzXIVlL",
        "outputId": "3d466988-2a01-410f-9717-5650df6dcd93"
      },
      "execution_count": 49,
      "outputs": [
        {
          "output_type": "execute_result",
          "data": {
            "text/plain": [
              "<tf.Tensor: shape=(1, 579), dtype=int64, numpy=\n",
              "array([[ 3, 13,  2,  8,  2, 20,  2,  8,  2,  5, 15,  7,  6,  3, 13,  3,\n",
              "         8,  2,  5,  3, 15,  2,  6,  3,  5,  6, 10,  5, 15,  7,  6,  3,\n",
              "        13, 17,  7, 12, 12,  7, 20, 16, 14, 17,  7,  8,  3,  4, 15,  2,\n",
              "         9,  0,  0,  0,  0,  0,  0,  0,  0,  0,  0,  0,  0,  0,  0,  0,\n",
              "         0,  0,  0,  0,  0,  0,  0,  0,  0,  0,  0,  0,  0,  0,  0,  0,\n",
              "         0,  0,  0,  0,  0,  0,  0,  0,  0,  0,  0,  0,  0,  0,  0,  0,\n",
              "         0,  0,  0,  0,  0,  0,  0,  0,  0,  0,  0,  0,  0,  0,  0,  0,\n",
              "         0,  0,  0,  0,  0,  0,  0,  0,  0,  0,  0,  0,  0,  0,  0,  0,\n",
              "         0,  0,  0,  0,  0,  0,  0,  0,  0,  0,  0,  0,  0,  0,  0,  0,\n",
              "         0,  0,  0,  0,  0,  0,  0,  0,  0,  0,  0,  0,  0,  0,  0,  0,\n",
              "         0,  0,  0,  0,  0,  0,  0,  0,  0,  0,  0,  0,  0,  0,  0,  0,\n",
              "         0,  0,  0,  0,  0,  0,  0,  0,  0,  0,  0,  0,  0,  0,  0,  0,\n",
              "         0,  0,  0,  0,  0,  0,  0,  0,  0,  0,  0,  0,  0,  0,  0,  0,\n",
              "         0,  0,  0,  0,  0,  0,  0,  0,  0,  0,  0,  0,  0,  0,  0,  0,\n",
              "         0,  0,  0,  0,  0,  0,  0,  0,  0,  0,  0,  0,  0,  0,  0,  0,\n",
              "         0,  0,  0,  0,  0,  0,  0,  0,  0,  0,  0,  0,  0,  0,  0,  0,\n",
              "         0,  0,  0,  0,  0,  0,  0,  0,  0,  0,  0,  0,  0,  0,  0,  0,\n",
              "         0,  0,  0,  0,  0,  0,  0,  0,  0,  0,  0,  0,  0,  0,  0,  0,\n",
              "         0,  0,  0,  0,  0,  0,  0,  0,  0,  0,  0,  0,  0,  0,  0,  0,\n",
              "         0,  0,  0,  0,  0,  0,  0,  0,  0,  0,  0,  0,  0,  0,  0,  0,\n",
              "         0,  0,  0,  0,  0,  0,  0,  0,  0,  0,  0,  0,  0,  0,  0,  0,\n",
              "         0,  0,  0,  0,  0,  0,  0,  0,  0,  0,  0,  0,  0,  0,  0,  0,\n",
              "         0,  0,  0,  0,  0,  0,  0,  0,  0,  0,  0,  0,  0,  0,  0,  0,\n",
              "         0,  0,  0,  0,  0,  0,  0,  0,  0,  0,  0,  0,  0,  0,  0,  0,\n",
              "         0,  0,  0,  0,  0,  0,  0,  0,  0,  0,  0,  0,  0,  0,  0,  0,\n",
              "         0,  0,  0,  0,  0,  0,  0,  0,  0,  0,  0,  0,  0,  0,  0,  0,\n",
              "         0,  0,  0,  0,  0,  0,  0,  0,  0,  0,  0,  0,  0,  0,  0,  0,\n",
              "         0,  0,  0,  0,  0,  0,  0,  0,  0,  0,  0,  0,  0,  0,  0,  0,\n",
              "         0,  0,  0,  0,  0,  0,  0,  0,  0,  0,  0,  0,  0,  0,  0,  0,\n",
              "         0,  0,  0,  0,  0,  0,  0,  0,  0,  0,  0,  0,  0,  0,  0,  0,\n",
              "         0,  0,  0,  0,  0,  0,  0,  0,  0,  0,  0,  0,  0,  0,  0,  0,\n",
              "         0,  0,  0,  0,  0,  0,  0,  0,  0,  0,  0,  0,  0,  0,  0,  0,\n",
              "         0,  0,  0,  0,  0,  0,  0,  0,  0,  0,  0,  0,  0,  0,  0,  0,\n",
              "         0,  0,  0,  0,  0,  0,  0,  0,  0,  0,  0,  0,  0,  0,  0,  0,\n",
              "         0,  0,  0,  0,  0,  0,  0,  0,  0,  0,  0,  0,  0,  0,  0,  0,\n",
              "         0,  0,  0,  0,  0,  0,  0,  0,  0,  0,  0,  0,  0,  0,  0,  0,\n",
              "         0,  0,  0]])>"
            ]
          },
          "metadata": {},
          "execution_count": 49
        }
      ]
    },
    {
      "cell_type": "code",
      "source": [
        "#creating character level embedding\n",
        "char_embed = layers.Embedding(input_dim=len(all_chars),\n",
        "                              output_dim=25, #output dim in paper\n",
        "                              mask_zero=True,\n",
        "                              name=\"char_embed\")"
      ],
      "metadata": {
        "id": "RDITpNyIINs2"
      },
      "execution_count": 50,
      "outputs": []
    },
    {
      "cell_type": "code",
      "source": [
        "print(f\"charified text:\\n {random_train_chars}\\n\")\n",
        "embed = char_embed(char_vectorizer([random_train_chars]))\n",
        "print(f\"embeded text:\\n {embed}\\n\")\n",
        "embed.shape"
      ],
      "metadata": {
        "colab": {
          "base_uri": "https://localhost:8080/"
        },
        "id": "y_C1UYWd7V03",
        "outputId": "98fcd052-a435-42c4-fb3f-bef24b144aea"
      },
      "execution_count": 55,
      "outputs": [
        {
          "output_type": "stream",
          "name": "stdout",
          "text": [
            "charified text:\n",
            " t h e r e   w e r e   a   @ - m o n t h   t r e a t m e n t   a n d   a   @ - m o n t h   f o l l o w - u p   f o r   @   t i m e s   .\n",
            "\n",
            "embeded text:\n",
            " [[[-0.02673296 -0.01732755  0.01987082 ... -0.04408477 -0.03393026\n",
            "    0.00084971]\n",
            "  [-0.03165673 -0.01040497 -0.03008068 ... -0.03872719  0.02290603\n",
            "    0.03112945]\n",
            "  [-0.00502231  0.02899455  0.04355634 ... -0.01710044 -0.04553758\n",
            "   -0.0086854 ]\n",
            "  ...\n",
            "  [-0.00347149 -0.01420088 -0.02543918 ... -0.01439727 -0.00234009\n",
            "    0.00436855]\n",
            "  [-0.00347149 -0.01420088 -0.02543918 ... -0.01439727 -0.00234009\n",
            "    0.00436855]\n",
            "  [-0.00347149 -0.01420088 -0.02543918 ... -0.01439727 -0.00234009\n",
            "    0.00436855]]]\n"
          ]
        },
        {
          "output_type": "execute_result",
          "data": {
            "text/plain": [
              "TensorShape([1, 579, 25])"
            ]
          },
          "metadata": {},
          "execution_count": 55
        }
      ]
    },
    {
      "cell_type": "code",
      "source": [],
      "metadata": {
        "id": "4H-Y40J67hTt"
      },
      "execution_count": null,
      "outputs": []
    }
  ],
  "metadata": {
    "accelerator": "GPU",
    "colab": {
      "provenance": [],
      "authorship_tag": "ABX9TyPOA6PU9itCW57JjMp3LBaS",
      "include_colab_link": true
    },
    "gpuClass": "standard",
    "kernelspec": {
      "display_name": "Python 3",
      "name": "python3"
    },
    "language_info": {
      "name": "python"
    }
  },
  "nbformat": 4,
  "nbformat_minor": 0
}