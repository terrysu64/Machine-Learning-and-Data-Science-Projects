{
  "cells": [
    {
      "cell_type": "markdown",
      "metadata": {
        "id": "view-in-github",
        "colab_type": "text"
      },
      "source": [
        "<a href=\"https://colab.research.google.com/github/terrysu64/Machine-Learning-and-Data-Science-Projects/blob/main/abstract_classifier.ipynb\" target=\"_parent\"><img src=\"https://colab.research.google.com/assets/colab-badge.svg\" alt=\"Open In Colab\"/></a>"
      ]
    },
    {
      "cell_type": "markdown",
      "metadata": {
        "id": "Qrdo5LEmXgtD"
      },
      "source": [
        "# Abstract Classifier 📝\n",
        "\n",
        "The objective of this notebook is to constrcut an NLP model that identifies sections of medical abstracts to enable easier reading. \n",
        "\n",
        "Dataset source: https://arxiv.org/abs/1710.06071"
      ]
    },
    {
      "cell_type": "code",
      "execution_count": 1,
      "metadata": {
        "colab": {
          "base_uri": "https://localhost:8080/"
        },
        "id": "oQj0xtkQXYIy",
        "outputId": "c8f66ed9-c74d-4eb6-9740-9ccf74ed5d70"
      },
      "outputs": [
        {
          "output_type": "stream",
          "name": "stdout",
          "text": [
            "Sun Nov 13 22:11:13 2022       \n",
            "+-----------------------------------------------------------------------------+\n",
            "| NVIDIA-SMI 460.32.03    Driver Version: 460.32.03    CUDA Version: 11.2     |\n",
            "|-------------------------------+----------------------+----------------------+\n",
            "| GPU  Name        Persistence-M| Bus-Id        Disp.A | Volatile Uncorr. ECC |\n",
            "| Fan  Temp  Perf  Pwr:Usage/Cap|         Memory-Usage | GPU-Util  Compute M. |\n",
            "|                               |                      |               MIG M. |\n",
            "|===============================+======================+======================|\n",
            "|   0  Tesla T4            Off  | 00000000:00:04.0 Off |                    0 |\n",
            "| N/A   41C    P8     9W /  70W |      0MiB / 15109MiB |      0%      Default |\n",
            "|                               |                      |                  N/A |\n",
            "+-------------------------------+----------------------+----------------------+\n",
            "                                                                               \n",
            "+-----------------------------------------------------------------------------+\n",
            "| Processes:                                                                  |\n",
            "|  GPU   GI   CI        PID   Type   Process name                  GPU Memory |\n",
            "|        ID   ID                                                   Usage      |\n",
            "|=============================================================================|\n",
            "|  No running processes found                                                 |\n",
            "+-----------------------------------------------------------------------------+\n"
          ]
        }
      ],
      "source": [
        "#connect to GPU\n",
        "!nvidia-smi"
      ]
    },
    {
      "cell_type": "markdown",
      "metadata": {
        "id": "LPp68R-iZUZ-"
      },
      "source": [
        "### Download Dataset"
      ]
    },
    {
      "cell_type": "code",
      "execution_count": 2,
      "metadata": {
        "colab": {
          "base_uri": "https://localhost:8080/"
        },
        "id": "DjrEAXnSY77f",
        "outputId": "fb1f8d18-2b29-49b7-b075-13e7e2428f0a"
      },
      "outputs": [
        {
          "output_type": "stream",
          "name": "stdout",
          "text": [
            "Cloning into 'pubmed-rct'...\n",
            "remote: Enumerating objects: 33, done.\u001b[K\n",
            "remote: Counting objects: 100% (8/8), done.\u001b[K\n",
            "remote: Compressing objects: 100% (3/3), done.\u001b[K\n",
            "remote: Total 33 (delta 5), reused 5 (delta 5), pack-reused 25\u001b[K\n",
            "Unpacking objects: 100% (33/33), done.\n",
            "PubMed_200k_RCT\n",
            "PubMed_200k_RCT_numbers_replaced_with_at_sign\n",
            "PubMed_20k_RCT\n",
            "PubMed_20k_RCT_numbers_replaced_with_at_sign\n",
            "README.md\n"
          ]
        }
      ],
      "source": [
        "#can be downloaded from PubMed 200k RCT repository\n",
        "!git clone https://github.com/Franck-Dernoncourt/pubmed-rct\n",
        "!ls pubmed-rct"
      ]
    },
    {
      "cell_type": "code",
      "execution_count": 3,
      "metadata": {
        "colab": {
          "base_uri": "https://localhost:8080/"
        },
        "id": "4o5ZlPO5Zjse",
        "outputId": "dac4be35-f948-4531-cdc7-369209d1c394"
      },
      "outputs": [
        {
          "output_type": "stream",
          "name": "stdout",
          "text": [
            "dev.txt  test.txt  train.txt\n"
          ]
        }
      ],
      "source": [
        "!ls pubmed-rct/PubMed_20k_RCT_numbers_replaced_with_at_sign/\n",
        "\n",
        "#dev.txt = validation set"
      ]
    },
    {
      "cell_type": "code",
      "execution_count": 4,
      "metadata": {
        "id": "tfAkPSwZaWsp"
      },
      "outputs": [],
      "source": [
        "data_dir = '/content/pubmed-rct/PubMed_20k_RCT_numbers_replaced_with_at_sign'"
      ]
    },
    {
      "cell_type": "code",
      "execution_count": 5,
      "metadata": {
        "colab": {
          "base_uri": "https://localhost:8080/"
        },
        "id": "X0M6n1TObG9U",
        "outputId": "18efbb3e-1669-4f3d-d794-92baba4870b4"
      },
      "outputs": [
        {
          "output_type": "execute_result",
          "data": {
            "text/plain": [
              "['/content/pubmed-rct/PubMed_20k_RCT_numbers_replaced_with_at_sign/test.txt',\n",
              " '/content/pubmed-rct/PubMed_20k_RCT_numbers_replaced_with_at_sign/train.txt',\n",
              " '/content/pubmed-rct/PubMed_20k_RCT_numbers_replaced_with_at_sign/dev.txt']"
            ]
          },
          "metadata": {},
          "execution_count": 5
        }
      ],
      "source": [
        "#check filenames in data directory\n",
        "import os \n",
        "filenames = [f\"{data_dir}/{filename}\" for filename in os.listdir(data_dir)]\n",
        "filenames"
      ]
    },
    {
      "cell_type": "markdown",
      "metadata": {
        "id": "n9F0r_00ZhPy"
      },
      "source": [
        "### Preprocessing Data"
      ]
    },
    {
      "cell_type": "code",
      "execution_count": 6,
      "metadata": {
        "id": "aX_AoioKbfrG"
      },
      "outputs": [],
      "source": [
        "#read in all lines of text file\n",
        "def read_lines(file):\n",
        "  \"\"\"\n",
        "  reads file and returns the lines of text via an array\n",
        "  \"\"\"\n",
        "\n",
        "  with open(file, \"r\") as file: \n",
        "    return file.readlines()"
      ]
    },
    {
      "cell_type": "code",
      "execution_count": 7,
      "metadata": {
        "colab": {
          "base_uri": "https://localhost:8080/"
        },
        "id": "Y6Ghw9SQaWXg",
        "outputId": "fe8bd6ec-2498-47d2-8eea-bc95fd8173cf"
      },
      "outputs": [
        {
          "output_type": "execute_result",
          "data": {
            "text/plain": [
              "['###24293578\\n',\n",
              " 'OBJECTIVE\\tTo investigate the efficacy of @ weeks of daily low-dose oral prednisolone in improving pain , mobility , and systemic low-grade inflammation in the short term and whether the effect would be sustained at @ weeks in older adults with moderate to severe knee osteoarthritis ( OA ) .\\n',\n",
              " 'METHODS\\tA total of @ patients with primary knee OA were randomized @:@ ; @ received @ mg/day of prednisolone and @ received placebo for @ weeks .\\n',\n",
              " 'METHODS\\tOutcome measures included pain reduction and improvement in function scores and systemic inflammation markers .\\n',\n",
              " 'METHODS\\tPain was assessed using the visual analog pain scale ( @-@ mm ) .\\n',\n",
              " 'METHODS\\tSecondary outcome measures included the Western Ontario and McMaster Universities Osteoarthritis Index scores , patient global assessment ( PGA ) of the severity of knee OA , and @-min walk distance ( @MWD ) .\\n',\n",
              " 'METHODS\\tSerum levels of interleukin @ ( IL-@ ) , IL-@ , tumor necrosis factor ( TNF ) - , and high-sensitivity C-reactive protein ( hsCRP ) were measured .\\n',\n",
              " 'RESULTS\\tThere was a clinically relevant reduction in the intervention group compared to the placebo group for knee pain , physical function , PGA , and @MWD at @ weeks .\\n',\n",
              " 'RESULTS\\tThe mean difference between treatment arms ( @ % CI ) was @ ( @-@ @ ) , p < @ ; @ ( @-@ @ ) , p < @ ; @ ( @-@ @ ) , p < @ ; and @ ( @-@ @ ) , p < @ , respectively .\\n',\n",
              " 'RESULTS\\tFurther , there was a clinically relevant reduction in the serum levels of IL-@ , IL-@ , TNF - , and hsCRP at @ weeks in the intervention group when compared to the placebo group .\\n',\n",
              " 'RESULTS\\tThese differences remained significant at @ weeks .\\n',\n",
              " 'RESULTS\\tThe Outcome Measures in Rheumatology Clinical Trials-Osteoarthritis Research Society International responder rate was @ % in the intervention group and @ % in the placebo group ( p < @ ) .\\n',\n",
              " 'CONCLUSIONS\\tLow-dose oral prednisolone had both a short-term and a longer sustained effect resulting in less knee pain , better physical function , and attenuation of systemic inflammation in older patients with knee OA ( ClinicalTrials.gov identifier NCT@ ) .\\n',\n",
              " '\\n',\n",
              " '###24854809\\n']"
            ]
          },
          "metadata": {},
          "execution_count": 7
        }
      ],
      "source": [
        "train_lines = read_lines(f\"{data_dir}/train.txt\")\n",
        "train_lines[:15]"
      ]
    },
    {
      "cell_type": "code",
      "execution_count": 8,
      "metadata": {
        "colab": {
          "base_uri": "https://localhost:8080/"
        },
        "id": "A-LzZVdaakNm",
        "outputId": "a23b0d60-ca04-4c52-972d-9e312ee9fb31"
      },
      "outputs": [
        {
          "output_type": "execute_result",
          "data": {
            "text/plain": [
              "210040"
            ]
          },
          "metadata": {},
          "execution_count": 8
        }
      ],
      "source": [
        "len(train_lines)"
      ]
    },
    {
      "cell_type": "markdown",
      "metadata": {
        "id": "eU1NisucbHkQ"
      },
      "source": [
        "✅ **Ideal Representation**\n",
        "\n",
        "\n",
        "```\n",
        "for each abstract: \n",
        "[\n",
        "  {\n",
        "    line_number: ...,\n",
        "    target: ...,\n",
        "    text: ...,\n",
        "    total_lines: ...,\n",
        "  }\n",
        "]\n",
        "```\n",
        "\n",
        " "
      ]
    },
    {
      "cell_type": "code",
      "execution_count": 9,
      "metadata": {
        "id": "OSF8SIlLa_QV"
      },
      "outputs": [],
      "source": [
        "def preprocess_lines(file):\n",
        "  \"\"\"\n",
        "  returns array of hashmaps, preprocessed in the outlined form\n",
        "  \"\"\"\n",
        "\n",
        "  lines = read_lines(file)\n",
        "  curr_abstract = ''; abstracts = []\n",
        "  abstract_id = None\n",
        "\n",
        "  for line in lines:\n",
        "    if line.startswith('###'): abstract_id = line; curr_abstract = ''\n",
        "    elif line.isspace(): \n",
        "      \n",
        "      line_split = curr_abstract.splitlines()\n",
        "      for i,j in enumerate(line_split):\n",
        "        data={}\n",
        "        target,content = j.split('\\t')\n",
        "        data[\"line_number\"] = i+1\n",
        "        data[\"target\"] = target\n",
        "        data[\"text\"] = content.lower()\n",
        "        data[\"total_lines\"] = len(line_split)\n",
        "        abstracts += [data]\n",
        "        \n",
        "\n",
        "    else: curr_abstract += line\n",
        "\n",
        "\n",
        "  return abstracts"
      ]
    },
    {
      "cell_type": "code",
      "execution_count": 10,
      "metadata": {
        "colab": {
          "base_uri": "https://localhost:8080/"
        },
        "id": "4UsWnEfy_RX6",
        "outputId": "5e3d41cf-bbf4-4170-abce-9ab67b7d9819"
      },
      "outputs": [
        {
          "output_type": "execute_result",
          "data": {
            "text/plain": [
              "[{'line_number': 1,\n",
              "  'target': 'OBJECTIVE',\n",
              "  'text': 'to investigate the efficacy of @ weeks of daily low-dose oral prednisolone in improving pain , mobility , and systemic low-grade inflammation in the short term and whether the effect would be sustained at @ weeks in older adults with moderate to severe knee osteoarthritis ( oa ) .',\n",
              "  'total_lines': 12},\n",
              " {'line_number': 2,\n",
              "  'target': 'METHODS',\n",
              "  'text': 'a total of @ patients with primary knee oa were randomized @:@ ; @ received @ mg/day of prednisolone and @ received placebo for @ weeks .',\n",
              "  'total_lines': 12},\n",
              " {'line_number': 3,\n",
              "  'target': 'METHODS',\n",
              "  'text': 'outcome measures included pain reduction and improvement in function scores and systemic inflammation markers .',\n",
              "  'total_lines': 12},\n",
              " {'line_number': 4,\n",
              "  'target': 'METHODS',\n",
              "  'text': 'pain was assessed using the visual analog pain scale ( @-@ mm ) .',\n",
              "  'total_lines': 12},\n",
              " {'line_number': 5,\n",
              "  'target': 'METHODS',\n",
              "  'text': 'secondary outcome measures included the western ontario and mcmaster universities osteoarthritis index scores , patient global assessment ( pga ) of the severity of knee oa , and @-min walk distance ( @mwd ) .',\n",
              "  'total_lines': 12},\n",
              " {'line_number': 6,\n",
              "  'target': 'METHODS',\n",
              "  'text': 'serum levels of interleukin @ ( il-@ ) , il-@ , tumor necrosis factor ( tnf ) - , and high-sensitivity c-reactive protein ( hscrp ) were measured .',\n",
              "  'total_lines': 12},\n",
              " {'line_number': 7,\n",
              "  'target': 'RESULTS',\n",
              "  'text': 'there was a clinically relevant reduction in the intervention group compared to the placebo group for knee pain , physical function , pga , and @mwd at @ weeks .',\n",
              "  'total_lines': 12},\n",
              " {'line_number': 8,\n",
              "  'target': 'RESULTS',\n",
              "  'text': 'the mean difference between treatment arms ( @ % ci ) was @ ( @-@ @ ) , p < @ ; @ ( @-@ @ ) , p < @ ; @ ( @-@ @ ) , p < @ ; and @ ( @-@ @ ) , p < @ , respectively .',\n",
              "  'total_lines': 12},\n",
              " {'line_number': 9,\n",
              "  'target': 'RESULTS',\n",
              "  'text': 'further , there was a clinically relevant reduction in the serum levels of il-@ , il-@ , tnf - , and hscrp at @ weeks in the intervention group when compared to the placebo group .',\n",
              "  'total_lines': 12},\n",
              " {'line_number': 10,\n",
              "  'target': 'RESULTS',\n",
              "  'text': 'these differences remained significant at @ weeks .',\n",
              "  'total_lines': 12},\n",
              " {'line_number': 11,\n",
              "  'target': 'RESULTS',\n",
              "  'text': 'the outcome measures in rheumatology clinical trials-osteoarthritis research society international responder rate was @ % in the intervention group and @ % in the placebo group ( p < @ ) .',\n",
              "  'total_lines': 12},\n",
              " {'line_number': 12,\n",
              "  'target': 'CONCLUSIONS',\n",
              "  'text': 'low-dose oral prednisolone had both a short-term and a longer sustained effect resulting in less knee pain , better physical function , and attenuation of systemic inflammation in older patients with knee oa ( clinicaltrials.gov identifier nct@ ) .',\n",
              "  'total_lines': 12},\n",
              " {'line_number': 1,\n",
              "  'target': 'BACKGROUND',\n",
              "  'text': 'emotional eating is associated with overeating and the development of obesity .',\n",
              "  'total_lines': 11},\n",
              " {'line_number': 2,\n",
              "  'target': 'BACKGROUND',\n",
              "  'text': 'yet , empirical evidence for individual ( trait ) differences in emotional eating and cognitive mechanisms that contribute to eating during sad mood remain equivocal .',\n",
              "  'total_lines': 11},\n",
              " {'line_number': 3,\n",
              "  'target': 'OBJECTIVE',\n",
              "  'text': 'the aim of this study was to test if attention bias for food moderates the effect of self-reported emotional eating during sad mood ( vs neutral mood ) on actual food intake .',\n",
              "  'total_lines': 11}]"
            ]
          },
          "metadata": {},
          "execution_count": 10
        }
      ],
      "source": [
        "train_samples = preprocess_lines(f\"{data_dir}/train.txt\")\n",
        "val_samples = preprocess_lines(f\"{data_dir}/dev.txt\")\n",
        "test_samples = preprocess_lines(f\"{data_dir}/test.txt\")\n",
        "train_samples[:15]"
      ]
    },
    {
      "cell_type": "code",
      "execution_count": 11,
      "metadata": {
        "colab": {
          "base_uri": "https://localhost:8080/"
        },
        "id": "ZIRmhkpr_VnK",
        "outputId": "6a306bcf-a78c-4ef6-cb3e-f5018ae223ff"
      },
      "outputs": [
        {
          "output_type": "execute_result",
          "data": {
            "text/plain": [
              "(180040, 30212, 30135)"
            ]
          },
          "metadata": {},
          "execution_count": 11
        }
      ],
      "source": [
        "len(train_samples),len(val_samples),len(test_samples)"
      ]
    },
    {
      "cell_type": "markdown",
      "metadata": {
        "id": "C5y1wxToODAj"
      },
      "source": [
        "### Further Visualizing Data"
      ]
    },
    {
      "cell_type": "code",
      "execution_count": 12,
      "metadata": {
        "colab": {
          "base_uri": "https://localhost:8080/",
          "height": 206
        },
        "id": "6hGTsLNEBHEJ",
        "outputId": "4422bf55-72be-43b0-ed7b-364ef7acf866"
      },
      "outputs": [
        {
          "output_type": "execute_result",
          "data": {
            "text/plain": [
              "   line_number     target                                               text  \\\n",
              "0            1  OBJECTIVE  to investigate the efficacy of @ weeks of dail...   \n",
              "1            2    METHODS  a total of @ patients with primary knee oa wer...   \n",
              "2            3    METHODS  outcome measures included pain reduction and i...   \n",
              "3            4    METHODS  pain was assessed using the visual analog pain...   \n",
              "4            5    METHODS  secondary outcome measures included the wester...   \n",
              "\n",
              "   total_lines  \n",
              "0           12  \n",
              "1           12  \n",
              "2           12  \n",
              "3           12  \n",
              "4           12  "
            ],
            "text/html": [
              "\n",
              "  <div id=\"df-281191d4-9efb-4dd7-9d27-fc90521920fb\">\n",
              "    <div class=\"colab-df-container\">\n",
              "      <div>\n",
              "<style scoped>\n",
              "    .dataframe tbody tr th:only-of-type {\n",
              "        vertical-align: middle;\n",
              "    }\n",
              "\n",
              "    .dataframe tbody tr th {\n",
              "        vertical-align: top;\n",
              "    }\n",
              "\n",
              "    .dataframe thead th {\n",
              "        text-align: right;\n",
              "    }\n",
              "</style>\n",
              "<table border=\"1\" class=\"dataframe\">\n",
              "  <thead>\n",
              "    <tr style=\"text-align: right;\">\n",
              "      <th></th>\n",
              "      <th>line_number</th>\n",
              "      <th>target</th>\n",
              "      <th>text</th>\n",
              "      <th>total_lines</th>\n",
              "    </tr>\n",
              "  </thead>\n",
              "  <tbody>\n",
              "    <tr>\n",
              "      <th>0</th>\n",
              "      <td>1</td>\n",
              "      <td>OBJECTIVE</td>\n",
              "      <td>to investigate the efficacy of @ weeks of dail...</td>\n",
              "      <td>12</td>\n",
              "    </tr>\n",
              "    <tr>\n",
              "      <th>1</th>\n",
              "      <td>2</td>\n",
              "      <td>METHODS</td>\n",
              "      <td>a total of @ patients with primary knee oa wer...</td>\n",
              "      <td>12</td>\n",
              "    </tr>\n",
              "    <tr>\n",
              "      <th>2</th>\n",
              "      <td>3</td>\n",
              "      <td>METHODS</td>\n",
              "      <td>outcome measures included pain reduction and i...</td>\n",
              "      <td>12</td>\n",
              "    </tr>\n",
              "    <tr>\n",
              "      <th>3</th>\n",
              "      <td>4</td>\n",
              "      <td>METHODS</td>\n",
              "      <td>pain was assessed using the visual analog pain...</td>\n",
              "      <td>12</td>\n",
              "    </tr>\n",
              "    <tr>\n",
              "      <th>4</th>\n",
              "      <td>5</td>\n",
              "      <td>METHODS</td>\n",
              "      <td>secondary outcome measures included the wester...</td>\n",
              "      <td>12</td>\n",
              "    </tr>\n",
              "  </tbody>\n",
              "</table>\n",
              "</div>\n",
              "      <button class=\"colab-df-convert\" onclick=\"convertToInteractive('df-281191d4-9efb-4dd7-9d27-fc90521920fb')\"\n",
              "              title=\"Convert this dataframe to an interactive table.\"\n",
              "              style=\"display:none;\">\n",
              "        \n",
              "  <svg xmlns=\"http://www.w3.org/2000/svg\" height=\"24px\"viewBox=\"0 0 24 24\"\n",
              "       width=\"24px\">\n",
              "    <path d=\"M0 0h24v24H0V0z\" fill=\"none\"/>\n",
              "    <path d=\"M18.56 5.44l.94 2.06.94-2.06 2.06-.94-2.06-.94-.94-2.06-.94 2.06-2.06.94zm-11 1L8.5 8.5l.94-2.06 2.06-.94-2.06-.94L8.5 2.5l-.94 2.06-2.06.94zm10 10l.94 2.06.94-2.06 2.06-.94-2.06-.94-.94-2.06-.94 2.06-2.06.94z\"/><path d=\"M17.41 7.96l-1.37-1.37c-.4-.4-.92-.59-1.43-.59-.52 0-1.04.2-1.43.59L10.3 9.45l-7.72 7.72c-.78.78-.78 2.05 0 2.83L4 21.41c.39.39.9.59 1.41.59.51 0 1.02-.2 1.41-.59l7.78-7.78 2.81-2.81c.8-.78.8-2.07 0-2.86zM5.41 20L4 18.59l7.72-7.72 1.47 1.35L5.41 20z\"/>\n",
              "  </svg>\n",
              "      </button>\n",
              "      \n",
              "  <style>\n",
              "    .colab-df-container {\n",
              "      display:flex;\n",
              "      flex-wrap:wrap;\n",
              "      gap: 12px;\n",
              "    }\n",
              "\n",
              "    .colab-df-convert {\n",
              "      background-color: #E8F0FE;\n",
              "      border: none;\n",
              "      border-radius: 50%;\n",
              "      cursor: pointer;\n",
              "      display: none;\n",
              "      fill: #1967D2;\n",
              "      height: 32px;\n",
              "      padding: 0 0 0 0;\n",
              "      width: 32px;\n",
              "    }\n",
              "\n",
              "    .colab-df-convert:hover {\n",
              "      background-color: #E2EBFA;\n",
              "      box-shadow: 0px 1px 2px rgba(60, 64, 67, 0.3), 0px 1px 3px 1px rgba(60, 64, 67, 0.15);\n",
              "      fill: #174EA6;\n",
              "    }\n",
              "\n",
              "    [theme=dark] .colab-df-convert {\n",
              "      background-color: #3B4455;\n",
              "      fill: #D2E3FC;\n",
              "    }\n",
              "\n",
              "    [theme=dark] .colab-df-convert:hover {\n",
              "      background-color: #434B5C;\n",
              "      box-shadow: 0px 1px 3px 1px rgba(0, 0, 0, 0.15);\n",
              "      filter: drop-shadow(0px 1px 2px rgba(0, 0, 0, 0.3));\n",
              "      fill: #FFFFFF;\n",
              "    }\n",
              "  </style>\n",
              "\n",
              "      <script>\n",
              "        const buttonEl =\n",
              "          document.querySelector('#df-281191d4-9efb-4dd7-9d27-fc90521920fb button.colab-df-convert');\n",
              "        buttonEl.style.display =\n",
              "          google.colab.kernel.accessAllowed ? 'block' : 'none';\n",
              "\n",
              "        async function convertToInteractive(key) {\n",
              "          const element = document.querySelector('#df-281191d4-9efb-4dd7-9d27-fc90521920fb');\n",
              "          const dataTable =\n",
              "            await google.colab.kernel.invokeFunction('convertToInteractive',\n",
              "                                                     [key], {});\n",
              "          if (!dataTable) return;\n",
              "\n",
              "          const docLinkHtml = 'Like what you see? Visit the ' +\n",
              "            '<a target=\"_blank\" href=https://colab.research.google.com/notebooks/data_table.ipynb>data table notebook</a>'\n",
              "            + ' to learn more about interactive tables.';\n",
              "          element.innerHTML = '';\n",
              "          dataTable['output_type'] = 'display_data';\n",
              "          await google.colab.output.renderOutput(dataTable, element);\n",
              "          const docLink = document.createElement('div');\n",
              "          docLink.innerHTML = docLinkHtml;\n",
              "          element.appendChild(docLink);\n",
              "        }\n",
              "      </script>\n",
              "    </div>\n",
              "  </div>\n",
              "  "
            ]
          },
          "metadata": {},
          "execution_count": 12
        }
      ],
      "source": [
        "import pandas as pd\n",
        "train_df = pd.DataFrame(train_samples)\n",
        "val_df = pd.DataFrame(val_samples)\n",
        "test_df = pd.DataFrame(test_samples)\n",
        "train_df.head()"
      ]
    },
    {
      "cell_type": "code",
      "execution_count": 13,
      "metadata": {
        "colab": {
          "base_uri": "https://localhost:8080/"
        },
        "id": "xCjjIdPUOKtR",
        "outputId": "76983906-3e3c-497c-dc13-92d1f437bd49"
      },
      "outputs": [
        {
          "output_type": "execute_result",
          "data": {
            "text/plain": [
              "METHODS        59353\n",
              "RESULTS        57953\n",
              "CONCLUSIONS    27168\n",
              "BACKGROUND     21727\n",
              "OBJECTIVE      13839\n",
              "Name: target, dtype: int64"
            ]
          },
          "metadata": {},
          "execution_count": 13
        }
      ],
      "source": [
        "train_df.target.value_counts()"
      ]
    },
    {
      "cell_type": "code",
      "execution_count": 14,
      "metadata": {
        "colab": {
          "base_uri": "https://localhost:8080/"
        },
        "id": "P5pZY_d4OWTR",
        "outputId": "ab5193df-9d35-4a39-9fe0-21c0b9a4011c"
      },
      "outputs": [
        {
          "output_type": "execute_result",
          "data": {
            "text/plain": [
              "METHODS        9897\n",
              "RESULTS        9713\n",
              "CONCLUSIONS    4571\n",
              "BACKGROUND     3621\n",
              "OBJECTIVE      2333\n",
              "Name: target, dtype: int64"
            ]
          },
          "metadata": {},
          "execution_count": 14
        }
      ],
      "source": [
        "test_df.target.value_counts()"
      ]
    },
    {
      "cell_type": "code",
      "execution_count": 15,
      "metadata": {
        "colab": {
          "base_uri": "https://localhost:8080/",
          "height": 284
        },
        "id": "ARu7ClQoOcyz",
        "outputId": "27bb54ab-1a6f-42d3-f1a3-259330f0405b"
      },
      "outputs": [
        {
          "output_type": "execute_result",
          "data": {
            "text/plain": [
              "<matplotlib.axes._subplots.AxesSubplot at 0x7f5c489addd0>"
            ]
          },
          "metadata": {},
          "execution_count": 15
        },
        {
          "output_type": "display_data",
          "data": {
            "text/plain": [
              "<Figure size 432x288 with 1 Axes>"
            ],
            "image/png": "[encoded data removed]"
          },
          "metadata": {
            "needs_background": "light"
          }
        }
      ],
      "source": [
        "# sample length frequency\n",
        "train_df.total_lines.plot.hist()"
      ]
    },
    {
      "cell_type": "markdown",
      "metadata": {
        "id": "s8Yys-m-Os-E"
      },
      "source": [
        "### Convert to Array of Sentences"
      ]
    },
    {
      "cell_type": "code",
      "execution_count": 16,
      "metadata": {
        "colab": {
          "base_uri": "https://localhost:8080/"
        },
        "id": "lTb52QuUOjk8",
        "outputId": "d2281875-b8d9-4abf-9037-3fb1ec753ba9"
      },
      "outputs": [
        {
          "output_type": "execute_result",
          "data": {
            "text/plain": [
              "['to investigate the efficacy of @ weeks of daily low-dose oral prednisolone in improving pain , mobility , and systemic low-grade inflammation in the short term and whether the effect would be sustained at @ weeks in older adults with moderate to severe knee osteoarthritis ( oa ) .',\n",
              " 'a total of @ patients with primary knee oa were randomized @:@ ; @ received @ mg/day of prednisolone and @ received placebo for @ weeks .',\n",
              " 'outcome measures included pain reduction and improvement in function scores and systemic inflammation markers .']"
            ]
          },
          "metadata": {},
          "execution_count": 16
        }
      ],
      "source": [
        "convert = lambda sentences: sentences.tolist()\n",
        "train_sentences = convert(train_df[\"text\"])\n",
        "val_sentences = convert(val_df[\"text\"])\n",
        "test_sentences = convert(test_df[\"text\"])\n",
        "train_sentences[:3]"
      ]
    },
    {
      "cell_type": "markdown",
      "metadata": {
        "id": "QgpVuhvNFUlc"
      },
      "source": [
        "### Creating Numeric Lables"
      ]
    },
    {
      "cell_type": "code",
      "execution_count": 17,
      "metadata": {
        "colab": {
          "base_uri": "https://localhost:8080/"
        },
        "id": "LvQ3bsc4O_Xs",
        "outputId": "bdb8cf35-bc2a-4b93-8ee6-76168b7d2236"
      },
      "outputs": [
        {
          "output_type": "execute_result",
          "data": {
            "text/plain": [
              "<tf.Tensor: shape=(180040, 5), dtype=float64, numpy=\n",
              "array([[0., 0., 0., 1., 0.],\n",
              "       [0., 0., 1., 0., 0.],\n",
              "       [0., 0., 1., 0., 0.],\n",
              "       ...,\n",
              "       [0., 0., 0., 0., 1.],\n",
              "       [0., 1., 0., 0., 0.],\n",
              "       [0., 1., 0., 0., 0.]])>"
            ]
          },
          "metadata": {},
          "execution_count": 17
        }
      ],
      "source": [
        "#use one-hot encoding (could use label encoding as an alternative as well)\n",
        "from sklearn.preprocessing import OneHotEncoder\n",
        "import tensorflow as tf\n",
        "\n",
        "one_hot_encoder = OneHotEncoder(sparse=False)\n",
        "\n",
        "train_labels_one_hot = one_hot_encoder.fit_transform(train_df[\"target\"] \\\n",
        "                                                     .to_numpy() \\\n",
        "                                                     .reshape(-1, 1))\n",
        "val_labels_one_hot = one_hot_encoder.fit_transform(val_df[\"target\"] \\\n",
        "                                                     .to_numpy() \\\n",
        "                                                     .reshape(-1, 1))\n",
        "test_labels_one_hot = one_hot_encoder.fit_transform(test_df[\"target\"] \\\n",
        "                                                     .to_numpy() \\\n",
        "                                                     .reshape(-1, 1))\n",
        "\n",
        "tf.constant(train_labels_one_hot)"
      ]
    },
    {
      "cell_type": "markdown",
      "metadata": {
        "id": "KRGXGG4GwrjI"
      },
      "source": [
        "### Label Encode Labels"
      ]
    },
    {
      "cell_type": "code",
      "execution_count": 18,
      "metadata": {
        "colab": {
          "base_uri": "https://localhost:8080/"
        },
        "id": "v7jMvuKRwvAG",
        "outputId": "3b2e728c-fe31-4234-b524-5eed19f05e7d"
      },
      "outputs": [
        {
          "output_type": "execute_result",
          "data": {
            "text/plain": [
              "array([3, 2, 2, 2, 2])"
            ]
          },
          "metadata": {},
          "execution_count": 18
        }
      ],
      "source": [
        "#encode the target columns (labels) into integers\n",
        "from sklearn.preprocessing import LabelEncoder\n",
        "label_encoder = LabelEncoder()\n",
        "train_labels_encoded = label_encoder.fit_transform(train_df[\"target\"].to_numpy())\n",
        "val_labels_encoded = label_encoder.fit_transform(val_df[\"target\"].to_numpy())\n",
        "test_labels_encoded = label_encoder.fit_transform(test_df[\"target\"].to_numpy())\n",
        "\n",
        "train_labels_encoded[:5]"
      ]
    },
    {
      "cell_type": "code",
      "execution_count": 19,
      "metadata": {
        "colab": {
          "base_uri": "https://localhost:8080/"
        },
        "id": "xbqnmSjKxUOF",
        "outputId": "fa42d4df-8fad-4739-e145-cbb4b0b17ef0"
      },
      "outputs": [
        {
          "output_type": "execute_result",
          "data": {
            "text/plain": [
              "array(['BACKGROUND', 'CONCLUSIONS', 'METHODS', 'OBJECTIVE', 'RESULTS'],\n",
              "      dtype=object)"
            ]
          },
          "metadata": {},
          "execution_count": 19
        }
      ],
      "source": [
        "class_names = label_encoder.classes_\n",
        "num_classes = len(class_names)\n",
        "class_names"
      ]
    },
    {
      "cell_type": "markdown",
      "metadata": {
        "id": "kzYZBcxxvYIn"
      },
      "source": [
        "## Testing Various Model\n",
        "\n",
        "### Model 1 🤖: Baseline (TF-IDF multinomial Naive Bayes)"
      ]
    },
    {
      "cell_type": "code",
      "execution_count": 20,
      "metadata": {
        "colab": {
          "base_uri": "https://localhost:8080/"
        },
        "id": "tfbMBYggGafP",
        "outputId": "59b3a0d9-b4c9-437e-c109-9d9469acb761"
      },
      "outputs": [
        {
          "output_type": "execute_result",
          "data": {
            "text/plain": [
              "Pipeline(steps=[('tf-idf', TfidfVectorizer()), ('clf', MultinomialNB())])"
            ]
          },
          "metadata": {},
          "execution_count": 20
        }
      ],
      "source": [
        "from pandas.core.reshape.merge import MultiIndex\n",
        "from sklearn.feature_extraction.text import TfidfVectorizer\n",
        "from sklearn.naive_bayes import MultinomialNB\n",
        "from sklearn.pipeline import Pipeline\n",
        "\n",
        "model_1 = Pipeline([\n",
        "    (\"tf-idf\", TfidfVectorizer()),\n",
        "    (\"clf\", MultinomialNB())\n",
        "])\n",
        "\n",
        "model_1.fit(X=train_sentences, y=train_labels_encoded)"
      ]
    },
    {
      "cell_type": "code",
      "execution_count": 21,
      "metadata": {
        "colab": {
          "base_uri": "https://localhost:8080/"
        },
        "id": "maOqZysRxsbz",
        "outputId": "10ad48e2-4458-4fc5-b83c-b113276d6d90"
      },
      "outputs": [
        {
          "output_type": "execute_result",
          "data": {
            "text/plain": [
              "0.7218323844829869"
            ]
          },
          "metadata": {},
          "execution_count": 21
        }
      ],
      "source": [
        "#evaluate baseline on validation set\n",
        "model_1.score(X=val_sentences, y=val_labels_encoded)"
      ]
    },
    {
      "cell_type": "code",
      "execution_count": 22,
      "metadata": {
        "id": "139mOCKdzA7o"
      },
      "outputs": [],
      "source": [
        "from sklearn.metrics import accuracy_score, precision_recall_fscore_support\n",
        "def calculate_results(y_true, y_pred):\n",
        "  \"\"\"\n",
        "  Calculates model accuracy, precision, recall and f1 score of a binary classification model.\n",
        "  Args:\n",
        "      y_true: true labels in the form of a 1D array\n",
        "      y_pred: predicted labels in the form of a 1D array\n",
        "  Returns a dictionary of accuracy, precision, recall, f1-score.\n",
        "  \"\"\"\n",
        "  # Calculate model accuracy\n",
        "  model_accuracy = accuracy_score(y_true, y_pred) * 100\n",
        "  # Calculate model precision, recall and f1 score using \"weighted average\n",
        "  model_precision, model_recall, model_f1, _ = precision_recall_fscore_support(y_true, y_pred, average=\"weighted\")\n",
        "  model_results = {\"accuracy\": model_accuracy,\n",
        "                  \"precision\": model_precision,\n",
        "                  \"recall\": model_recall,\n",
        "                  \"f1\": model_f1}\n",
        "  return model_results"
      ]
    },
    {
      "cell_type": "code",
      "execution_count": 23,
      "metadata": {
        "colab": {
          "base_uri": "https://localhost:8080/"
        },
        "id": "Q_lLkMniycOB",
        "outputId": "dc1fe1fb-9188-4a7d-eb3d-311817cafe63"
      },
      "outputs": [
        {
          "output_type": "execute_result",
          "data": {
            "text/plain": [
              "{'accuracy': 72.1832384482987,\n",
              " 'precision': 0.7186466952323352,\n",
              " 'recall': 0.7218323844829869,\n",
              " 'f1': 0.6989250353450294}"
            ]
          },
          "metadata": {},
          "execution_count": 23
        }
      ],
      "source": [
        "baseline_preds = model_1.predict(val_sentences)\n",
        "baseline_results = calculate_results(y_true=val_labels_encoded, y_pred=baseline_preds)\n",
        "baseline_results"
      ]
    },
    {
      "cell_type": "markdown",
      "metadata": {
        "id": "jo1VWBFZ6fYO"
      },
      "source": [
        "### Preparing the Text for Deep Sequence Models"
      ]
    },
    {
      "cell_type": "code",
      "execution_count": 24,
      "metadata": {
        "colab": {
          "base_uri": "https://localhost:8080/",
          "height": 298
        },
        "id": "kHGmQgbNyhy_",
        "outputId": "e07fe1be-19f2-4c30-e5e3-d0c9b3b4a0e7"
      },
      "outputs": [
        {
          "output_type": "execute_result",
          "data": {
            "text/plain": [
              "Text(0.5, 1.0, 'Sentence Length Distribution')"
            ]
          },
          "metadata": {},
          "execution_count": 24
        },
        {
          "output_type": "display_data",
          "data": {
            "text/plain": [
              "<Figure size 432x288 with 1 Axes>"
            ],
            "image/png": "[encoded data removed]"
          },
          "metadata": {
            "needs_background": "light"
          }
        }
      ],
      "source": [
        "#prepare info for creating embedding and vectorization layers prior to building neural networks\n",
        "\n",
        "import numpy as np\n",
        "import tensorflow as tf\n",
        "from tensorflow.keras import layers\n",
        "import matplotlib.pyplot as plt\n",
        "\n",
        "lengths = [len(x.split(' ')) for x in train_sentences]\n",
        "AVG_SENT_LEN = np.mean(lengths)\n",
        "\n",
        "plt.hist(lengths, bins=20)\n",
        "plt.title(\"Sentence Length Distribution\")"
      ]
    },
    {
      "cell_type": "code",
      "execution_count": 25,
      "metadata": {
        "colab": {
          "base_uri": "https://localhost:8080/"
        },
        "id": "gIb5zeQi8_4P",
        "outputId": "4ff8c052-d5de-47a6-be6c-b174acb162a0"
      },
      "outputs": [
        {
          "output_type": "execute_result",
          "data": {
            "text/plain": [
              "55"
            ]
          },
          "metadata": {},
          "execution_count": 25
        }
      ],
      "source": [
        "#determine padding cutoff (enough length to fully cover 95% of sentences)\n",
        "\n",
        "seq_len = int(np.percentile(lengths, 95))\n",
        "seq_len"
      ]
    },
    {
      "cell_type": "code",
      "execution_count": 26,
      "metadata": {
        "id": "8KxP9b8M_TpM"
      },
      "outputs": [],
      "source": [
        "#vectorizer layer\n",
        "\n",
        "from tensorflow.keras.layers.experimental.preprocessing import TextVectorization\n",
        "\n",
        "max_tokens = 68000 #source: https://arxiv.org/pdf/1710.06071.pdf, table 2\n",
        "text_vectorizer = TextVectorization(max_tokens=max_tokens,\n",
        "                                    output_sequence_length=seq_len)\n",
        "\n",
        "#adapt to training sentences only (prevent data leakage)\n",
        "text_vectorizer.adapt(train_sentences)"
      ]
    },
    {
      "cell_type": "code",
      "execution_count": 27,
      "metadata": {
        "colab": {
          "base_uri": "https://localhost:8080/"
        },
        "id": "gbgg0iZ79Qob",
        "outputId": "7be8b8ad-c49b-4b6f-b57c-8f6d9ada6cc2"
      },
      "outputs": [
        {
          "output_type": "stream",
          "name": "stdout",
          "text": [
            "Top 10 Most Common Words:\n",
            " ['', '[UNK]', 'the', 'and', 'of', 'in', 'to', 'with', 'a', 'were']\n",
            "\n",
            "Top 10 Least Common Words:\n",
            " ['aarm', 'aaqol', 'aaq', 'aanhui', 'aana', 'aainduced', 'aaigroup', 'aachener', 'aachen', 'aaacp']\n"
          ]
        }
      ],
      "source": [
        "rct_20k_vocab = text_vectorizer.get_vocabulary()\n",
        "print(f\"Top 10 Most Common Words:\\n {rct_20k_vocab[:10]}\\n\")\n",
        "print(f\"Top 10 Least Common Words:\\n {rct_20k_vocab[-10:]}\")"
      ]
    },
    {
      "cell_type": "code",
      "execution_count": 28,
      "metadata": {
        "colab": {
          "base_uri": "https://localhost:8080/"
        },
        "id": "dOO9jKlk6g9Y",
        "outputId": "8793e385-8809-42fe-9823-7ef4e4cdd260"
      },
      "outputs": [
        {
          "output_type": "stream",
          "name": "stdout",
          "text": [
            "Sentence:\n",
            " the primary outcome will be the proportion of patients who develop aki in the icu .\n",
            "\n",
            "Vectorized Sentence:\n",
            " [[   2   56   86   95   36    2  443    4   12   67 1377 4508    5    2\n",
            "  1208    0    0    0    0    0    0    0    0    0    0    0    0    0\n",
            "     0    0    0    0    0    0    0    0    0    0    0    0    0    0\n",
            "     0    0    0    0    0    0    0    0    0    0    0    0    0]]\n"
          ]
        }
      ],
      "source": [
        "import random\n",
        "target_sentence = random.choice(train_sentences)\n",
        "print(f\"Sentence:\\n {target_sentence}\\n\")\n",
        "print(f\"Vectorized Sentence:\\n {text_vectorizer([target_sentence])}\")"
      ]
    },
    {
      "cell_type": "code",
      "execution_count": 29,
      "metadata": {
        "id": "UXSRSFcv69qk"
      },
      "outputs": [],
      "source": [
        "#text embedding \n",
        "token_embed = layers.Embedding(input_dim=len(rct_20k_vocab), #the largest integer in the input should be no larger than the vocab. size\n",
        "                               output_dim=128,\n",
        "                               mask_zero=True, #similar to padding with 0s at the end\n",
        "                               name=\"token_embedding\")"
      ]
    },
    {
      "cell_type": "markdown",
      "metadata": {
        "id": "0nrn8E5sl1tc"
      },
      "source": [
        "### Creating Efficient Data Pipeline "
      ]
    },
    {
      "cell_type": "code",
      "execution_count": 30,
      "metadata": {
        "colab": {
          "base_uri": "https://localhost:8080/"
        },
        "id": "X0o48tfH4UED",
        "outputId": "875cddbe-bb0c-4f3b-a7b1-d591123c0f51"
      },
      "outputs": [
        {
          "output_type": "execute_result",
          "data": {
            "text/plain": [
              "<TensorSliceDataset element_spec=(TensorSpec(shape=(), dtype=tf.string, name=None), TensorSpec(shape=(5,), dtype=tf.float64, name=None))>"
            ]
          },
          "metadata": {},
          "execution_count": 30
        }
      ],
      "source": [
        "#use tf.data API to turn data to tf datasets\n",
        "train_dataset = tf.data.Dataset.from_tensor_slices((train_sentences, train_labels_one_hot))\n",
        "val_dataset = tf.data.Dataset.from_tensor_slices((val_sentences, val_labels_one_hot))\n",
        "test_dataset= tf.data.Dataset.from_tensor_slices((test_sentences, test_labels_one_hot))\n",
        "\n",
        "train_dataset"
      ]
    },
    {
      "cell_type": "code",
      "execution_count": 31,
      "metadata": {
        "colab": {
          "base_uri": "https://localhost:8080/"
        },
        "id": "70uqS5IjmLXB",
        "outputId": "54f064f5-2762-41b1-be7d-bce85dbf8b46"
      },
      "outputs": [
        {
          "output_type": "execute_result",
          "data": {
            "text/plain": [
              "<PrefetchDataset element_spec=(TensorSpec(shape=(None,), dtype=tf.string, name=None), TensorSpec(shape=(None, 5), dtype=tf.float64, name=None))>"
            ]
          },
          "metadata": {},
          "execution_count": 31
        }
      ],
      "source": [
        "train_dataset = train_dataset.batch(32).prefetch(tf.data.AUTOTUNE)\n",
        "val_dataset = val_dataset.batch(32).prefetch(tf.data.AUTOTUNE)\n",
        "test_dataset = test_dataset.batch(32).prefetch(tf.data.AUTOTUNE)\n",
        "\n",
        "train_dataset"
      ]
    },
    {
      "cell_type": "markdown",
      "source": [
        "### Model 2 🤖: Conv1D With Token Embedding"
      ],
      "metadata": {
        "id": "-Mi1J7kAMyhS"
      }
    },
    {
      "cell_type": "code",
      "execution_count": 32,
      "metadata": {
        "colab": {
          "base_uri": "https://localhost:8080/"
        },
        "id": "mU81joOBmma1",
        "outputId": "1502c548-e095-4bb9-8be0-86782239c60b"
      },
      "outputs": [
        {
          "output_type": "stream",
          "name": "stdout",
          "text": [
            "Model: \"model\"\n",
            "_________________________________________________________________\n",
            " Layer (type)                Output Shape              Param #   \n",
            "=================================================================\n",
            " input_1 (InputLayer)        [(None, 1)]               0         \n",
            "                                                                 \n",
            " text_vectorization (TextVec  (None, 55)               0         \n",
            " torization)                                                     \n",
            "                                                                 \n",
            " token_embedding (Embedding)  (None, 55, 128)          8299648   \n",
            "                                                                 \n",
            " conv1d (Conv1D)             (None, 55, 64)            41024     \n",
            "                                                                 \n",
            " global_average_pooling1d (G  (None, 64)               0         \n",
            " lobalAveragePooling1D)                                          \n",
            "                                                                 \n",
            " dense (Dense)               (None, 5)                 325       \n",
            "                                                                 \n",
            "=================================================================\n",
            "Total params: 8,340,997\n",
            "Trainable params: 8,340,997\n",
            "Non-trainable params: 0\n",
            "_________________________________________________________________\n"
          ]
        }
      ],
      "source": [
        "#setup model\n",
        "\n",
        "inputs = layers.Input(shape=(1,), dtype=tf.string)\n",
        "text_vectors = text_vectorizer(inputs)\n",
        "token_embedding = token_embed(text_vectors)\n",
        "x = layers.Conv1D(64, kernel_size=5, padding=\"same\", activation=\"relu\")(token_embedding)\n",
        "x = layers.GlobalAveragePooling1D()(x) #condense output of feature vector\n",
        "outputs = layers.Dense(len(class_names), activation=\"softmax\")(x)\n",
        "\n",
        "model_2 = tf.keras.Model(inputs, outputs)\n",
        "model_2.compile(loss=\"categorical_crossentropy\",\n",
        "                optimizer=tf.keras.optimizers.Adam(),\n",
        "                metrics=[\"accuracy\"])\n",
        "\n",
        "model_2.summary()"
      ]
    },
    {
      "cell_type": "code",
      "source": [
        "#fit model (but only look at 10% of batch / epoch)\n",
        "\n",
        "history_model_2 = model_2.fit(train_dataset,\n",
        "                              steps_per_epoch=int(0.1*len(train_dataset)),\n",
        "                              epochs=3,\n",
        "                              validation_data=val_dataset,\n",
        "                              validation_steps=int(0.1*len(val_dataset)))"
      ],
      "metadata": {
        "colab": {
          "base_uri": "https://localhost:8080/"
        },
        "id": "goZ6w6s-NeOa",
        "outputId": "d1a6aa7a-b973-4d7d-9bc2-36218bf881a9"
      },
      "execution_count": 33,
      "outputs": [
        {
          "output_type": "stream",
          "name": "stdout",
          "text": [
            "Epoch 1/3\n",
            "562/562 [==============================] - 15s 10ms/step - loss: 0.9156 - accuracy: 0.6369 - val_loss: 0.6884 - val_accuracy: 0.7370\n",
            "Epoch 2/3\n",
            "562/562 [==============================] - 5s 9ms/step - loss: 0.6611 - accuracy: 0.7561 - val_loss: 0.6288 - val_accuracy: 0.7703\n",
            "Epoch 3/3\n",
            "562/562 [==============================] - 6s 10ms/step - loss: 0.6201 - accuracy: 0.7749 - val_loss: 0.5954 - val_accuracy: 0.7836\n"
          ]
        }
      ]
    },
    {
      "cell_type": "code",
      "source": [
        "#model evaluation\n",
        "\n",
        "model_2.evaluate(val_dataset)"
      ],
      "metadata": {
        "colab": {
          "base_uri": "https://localhost:8080/"
        },
        "id": "t4zij6-iPE1O",
        "outputId": "cc06e0b1-e1b0-4dfb-bad2-2a536d956d7e"
      },
      "execution_count": 34,
      "outputs": [
        {
          "output_type": "stream",
          "name": "stdout",
          "text": [
            "945/945 [==============================] - 3s 3ms/step - loss: 0.5986 - accuracy: 0.7853\n"
          ]
        },
        {
          "output_type": "execute_result",
          "data": {
            "text/plain": [
              "[0.598574697971344, 0.7852839827537537]"
            ]
          },
          "metadata": {},
          "execution_count": 34
        }
      ]
    },
    {
      "cell_type": "code",
      "source": [
        "model_2_preds = model_2.predict(val_dataset)\n",
        "conv_model_2_preds = [class_names[max([i for i in range(5)], key=lambda j:pred[j])] for pred in model_2_preds]\n",
        "\n",
        "class_names"
      ],
      "metadata": {
        "colab": {
          "base_uri": "https://localhost:8080/"
        },
        "id": "fieHQ8UnQXST",
        "outputId": "3b3c5893-892c-410f-a7e5-73b3e08adac1"
      },
      "execution_count": 35,
      "outputs": [
        {
          "output_type": "stream",
          "name": "stdout",
          "text": [
            "945/945 [==============================] - 2s 2ms/step\n"
          ]
        },
        {
          "output_type": "execute_result",
          "data": {
            "text/plain": [
              "array(['BACKGROUND', 'CONCLUSIONS', 'METHODS', 'OBJECTIVE', 'RESULTS'],\n",
              "      dtype=object)"
            ]
          },
          "metadata": {},
          "execution_count": 35
        }
      ]
    },
    {
      "cell_type": "code",
      "source": [
        "conv_model_2_preds[:5]"
      ],
      "metadata": {
        "colab": {
          "base_uri": "https://localhost:8080/"
        },
        "id": "WNGyblsVQoPz",
        "outputId": "a5bdabf2-3660-4193-fd04-2dfee06cc1ed"
      },
      "execution_count": 36,
      "outputs": [
        {
          "output_type": "execute_result",
          "data": {
            "text/plain": [
              "['BACKGROUND', 'BACKGROUND', 'OBJECTIVE', 'METHODS', 'RESULTS']"
            ]
          },
          "metadata": {},
          "execution_count": 36
        }
      ]
    },
    {
      "cell_type": "code",
      "source": [
        "model_2_results = calculate_results(val_labels_encoded,\n",
        "                                    tf.argmax(model_2_preds, axis=1))\n",
        "\n",
        "model_2_results"
      ],
      "metadata": {
        "colab": {
          "base_uri": "https://localhost:8080/"
        },
        "id": "WymNadRNRFEs",
        "outputId": "c0986c9d-3a16-4413-816b-14c83651b67b"
      },
      "execution_count": 37,
      "outputs": [
        {
          "output_type": "execute_result",
          "data": {
            "text/plain": [
              "{'accuracy': 78.52839931153184,\n",
              " 'precision': 0.7817311570677572,\n",
              " 'recall': 0.7852839931153184,\n",
              " 'f1': 0.7828072021091129}"
            ]
          },
          "metadata": {},
          "execution_count": 37
        }
      ]
    },
    {
      "cell_type": "markdown",
      "source": [
        "### Model 3 🤖: Pretrained Feature Extractor (Conv1D)\n",
        "\n",
        "*   universal sentence encoder v4\n",
        "\n"
      ],
      "metadata": {
        "id": "GpGX3RlxSIVk"
      }
    },
    {
      "cell_type": "code",
      "source": [
        "import tensorflow_hub as hub\n",
        "\n",
        "extractor_layer = hub.KerasLayer(\"https://tfhub.dev/google/universal-sentence-encoder/4\",\n",
        "                                 trainable=False,\n",
        "                                 name=\"USE\")"
      ],
      "metadata": {
        "id": "-IoFp_4kRnN5"
      },
      "execution_count": 38,
      "outputs": []
    },
    {
      "cell_type": "code",
      "source": [
        "#test on arbitrary sentence\n",
        "sentence = random.choice(train_sentences)\n",
        "embedded_sentence = extractor_layer([sentence])\n",
        "print(sentence)\n",
        "print(embedded_sentence)"
      ],
      "metadata": {
        "id": "GO8c4D08R8L6",
        "colab": {
          "base_uri": "https://localhost:8080/"
        },
        "outputId": "23c3bd31-d71a-4711-8c5d-b6dee899d98f"
      },
      "execution_count": 39,
      "outputs": [
        {
          "output_type": "stream",
          "name": "stdout",
          "text": [
            "participating physicians are part of a primary healthcare research network called target kids !\n",
            "tf.Tensor(\n",
            "[[ 0.00746093  0.05099594 -0.015767   -0.04592917 -0.05736123 -0.03871202\n",
            "   0.02102229 -0.00391258 -0.07230251 -0.07734342  0.09125515 -0.02228613\n",
            "   0.02280515 -0.07357218 -0.02787298 -0.0005244  -0.09365165  0.01073162\n",
            "  -0.0682612  -0.05832427 -0.08447523  0.03453721  0.01505232 -0.04304277\n",
            "   0.03060856 -0.04464311  0.02530198  0.0654874   0.03320565 -0.07581596\n",
            "  -0.04574861  0.09365995  0.04770163  0.06307539  0.0180405  -0.00213565\n",
            "  -0.06333273  0.04069763 -0.06201024 -0.04658128  0.04468174  0.07429375\n",
            "  -0.00602427 -0.00823074  0.0708188  -0.02635339 -0.02761472 -0.0270639\n",
            "  -0.06738401 -0.04717547 -0.06297749 -0.05328356  0.07473543 -0.00411377\n",
            "  -0.03634265 -0.03469611 -0.03211698  0.04923978  0.04367643  0.0243986\n",
            "  -0.08591487 -0.04298907  0.01556185 -0.03156366 -0.08020438 -0.04111384\n",
            "   0.04396211 -0.07399615  0.00074784 -0.05285868 -0.00665204  0.00476594\n",
            "  -0.0836086   0.06839376  0.08758656 -0.04689052  0.00391374  0.02732798\n",
            "  -0.05888601  0.00546116  0.03345197  0.01025429  0.07598785  0.01880834\n",
            "  -0.04584552 -0.00281742  0.00484993 -0.04015465  0.01803439  0.05325478\n",
            "  -0.04854981 -0.01147556  0.05593779 -0.00736619 -0.02468277  0.03182652\n",
            "  -0.03341603 -0.06564306  0.0325323  -0.00043392  0.06100062  0.06825549\n",
            "   0.06144863 -0.00859245  0.00771259  0.03447172  0.03242337 -0.04839179\n",
            "  -0.00623425 -0.05102579  0.0581692   0.0770689   0.03779745  0.02301963\n",
            "  -0.04212049  0.03850993 -0.05607751  0.01342962  0.03839985  0.02151082\n",
            "  -0.0529709   0.0508257  -0.0023536   0.04118949  0.00855741  0.04188547\n",
            "  -0.03786744 -0.02233436 -0.0069399   0.01222082 -0.01294684  0.09339834\n",
            "  -0.01030539  0.07015429  0.05514245  0.05895506  0.00275924  0.06342961\n",
            "  -0.03743783  0.03862162  0.00798248  0.01507315 -0.05313251  0.02228638\n",
            "  -0.05473091 -0.00254395  0.03304733 -0.03359768  0.02076079 -0.04195816\n",
            "  -0.04694678 -0.00180215 -0.03500452  0.03086567  0.05276753 -0.05395934\n",
            "  -0.02520527 -0.02185462  0.00353433 -0.06396685 -0.07309022  0.03897068\n",
            "  -0.0422012   0.00957457  0.03642632 -0.01743986  0.01069765 -0.00557548\n",
            "  -0.07895523  0.0458277   0.05522997 -0.01970732  0.0867288   0.03299972\n",
            "   0.01966315 -0.02138632  0.0339157   0.00674452 -0.07481107  0.06865551\n",
            "   0.01411776 -0.00787952  0.01507469  0.04102499  0.03552384  0.04565921\n",
            "   0.02460831 -0.01398435  0.01998077 -0.02960569 -0.01872019 -0.07387076\n",
            "   0.02537204  0.02641628  0.05432054 -0.04573591  0.02580162  0.05497184\n",
            "  -0.03611743 -0.03700849  0.07460549 -0.05778344  0.00488737 -0.05298926\n",
            "   0.05846692 -0.00459939 -0.03942598  0.02429477 -0.05470296 -0.00736382\n",
            "   0.00825224 -0.08278974  0.00151094  0.01690689  0.04133603 -0.03104921\n",
            "  -0.01094014 -0.01999262  0.02825966  0.0241129   0.02805703  0.06290688\n",
            "   0.03264384 -0.04512602 -0.01709438  0.05294788 -0.04504468  0.05082716\n",
            "   0.03507637  0.07283174  0.04567585 -0.0218366   0.03975482 -0.06442793\n",
            "  -0.01257469  0.08155235  0.01495472  0.00783035  0.01178707 -0.03201001\n",
            "   0.03180143 -0.00153805 -0.00022109 -0.04835091  0.02556631 -0.0546897\n",
            "  -0.04752672  0.08331105 -0.02047804 -0.07672319  0.01669517  0.00475279\n",
            "  -0.0174713  -0.00133621  0.05451106 -0.00371147 -0.02464792 -0.02259861\n",
            "  -0.00306997  0.04712062 -0.04220687 -0.00770228 -0.01063393  0.05486171\n",
            "  -0.05257926  0.0218818   0.06730475 -0.06345778  0.03045314  0.02553752\n",
            "  -0.06653905 -0.02700496  0.0437233  -0.06615762  0.00027637 -0.02139892\n",
            "  -0.01706423  0.04009518 -0.03677177  0.01026109  0.01932663  0.03523694\n",
            "  -0.05184558  0.03598386 -0.07106303  0.00106829 -0.00839766 -0.03599717\n",
            "  -0.04797317 -0.01779943 -0.00145495 -0.01963694  0.0136103  -0.05194937\n",
            "   0.03962024 -0.02735415 -0.0161903  -0.02429274  0.01257612 -0.04796009\n",
            "  -0.02357942  0.06352349 -0.02472959 -0.05500907 -0.06294487 -0.07297175\n",
            "   0.06519069  0.0481195  -0.05809373 -0.05923869  0.02469261 -0.05214317\n",
            "   0.01394056 -0.05157212  0.01729146 -0.0124505  -0.0215261  -0.02149069\n",
            "   0.0908656  -0.00149056  0.04916765  0.00307109  0.03584697  0.00642156\n",
            "   0.01382347  0.06210331  0.0700765   0.04963134  0.04002304  0.06970371\n",
            "   0.04412031  0.00695997 -0.02163164 -0.07196789  0.04804785  0.01319408\n",
            "   0.03267334 -0.06741995 -0.0446839  -0.0365664   0.01194252  0.05532269\n",
            "   0.07487326  0.01120851 -0.00404945 -0.00284669 -0.00056194  0.04666657\n",
            "   0.027048    0.06300306 -0.02270177 -0.00308867 -0.03678801  0.0897033\n",
            "  -0.04388133 -0.06893624 -0.08273139  0.03807318  0.03867272  0.01343981\n",
            "   0.03459999 -0.03853511 -0.05478937 -0.05390558 -0.02391783 -0.04383663\n",
            "   0.00495692 -0.00108183  0.00659048  0.04893201 -0.02992475  0.00522832\n",
            "   0.01515853  0.04220971 -0.02965674  0.00378583  0.06909593  0.00952302\n",
            "   0.02415896  0.01239904  0.02576552 -0.00386807 -0.02959946  0.06496529\n",
            "  -0.00175167  0.01134654  0.05033078 -0.02768455  0.04756179  0.06508569\n",
            "   0.01506271 -0.03398645 -0.07552777 -0.00606637 -0.03703257 -0.05742133\n",
            "  -0.02485095 -0.017696    0.00212236  0.04360957 -0.05316433  0.01603558\n",
            "  -0.02196328  0.04721454  0.06194522 -0.011812   -0.05132911  0.06010429\n",
            "   0.02570315 -0.07857718  0.04869075  0.02070246 -0.03210117 -0.05725462\n",
            "  -0.01078994  0.04988265  0.00064455  0.01044312 -0.03911566 -0.00525027\n",
            "  -0.03600887 -0.02130065 -0.03945261  0.01594692  0.03493636  0.07420143\n",
            "  -0.00156013 -0.02235894  0.00479511  0.03307596  0.01612118 -0.06621462\n",
            "  -0.04864651 -0.08039583 -0.01640508  0.06823754 -0.02512193  0.02752835\n",
            "   0.01179027 -0.02086021 -0.05190216 -0.00505619 -0.02788925 -0.04444269\n",
            "  -0.03201532 -0.06038629 -0.05170254  0.02233625  0.04066935  0.02423703\n",
            "   0.05734871 -0.01661518  0.00102084  0.04359119  0.05364279 -0.03299872\n",
            "   0.08193249 -0.02926494  0.06686693  0.07391302 -0.08442869  0.05541326\n",
            "   0.05374146  0.0502651   0.00181201 -0.07275129  0.06739143  0.01750274\n",
            "  -0.0059309  -0.01867283  0.0573969  -0.02132929 -0.08199558  0.03235519\n",
            "  -0.04795757  0.07515952 -0.04331576  0.08151026 -0.06281704  0.07949106\n",
            "  -0.01550129 -0.07632472 -0.06056747 -0.0427881   0.0065759  -0.00254418\n",
            "  -0.03370468 -0.01324161 -0.08434065 -0.02816603 -0.04287629 -0.0378329\n",
            "   0.05468348 -0.0308305   0.01675124 -0.05896213 -0.02389362  0.02448882\n",
            "  -0.0136395  -0.0563333  -0.01001955  0.04636575  0.08482391  0.07005877\n",
            "  -0.01347856 -0.09365988  0.05308909 -0.07360044 -0.00098035  0.06257674\n",
            "  -0.05544509  0.06587504]], shape=(1, 512), dtype=float32)\n"
          ]
        }
      ]
    },
    {
      "cell_type": "code",
      "source": [
        "inputs = layers.Input(shape=[], dtype=tf.string)\n",
        "embedding = extractor_layer(inputs)\n",
        "x = layers.Dense(128, activation=\"relu\")(embedding)\n",
        "x = layers.Dense(64, activation=\"relu\")(x)\n",
        "outputs = layers.Dense(num_classes, activation=\"softmax\")(x)\n",
        "model_3 = tf.keras.Model(inputs=inputs,\n",
        "                         outputs=outputs,\n",
        "                         name=\"USE_feature_extractor\")\n",
        "\n",
        "model_3.compile(loss=\"categorical_crossentropy\",\n",
        "                optimizer=tf.keras.optimizers.Adam(),\n",
        "                metrics=[\"accuracy\"])"
      ],
      "metadata": {
        "id": "1aOkoRzdTolo"
      },
      "execution_count": 40,
      "outputs": []
    },
    {
      "cell_type": "code",
      "source": [
        "history_model_3 = model_3.fit(train_dataset,\n",
        "                              steps_per_epoch=int(0.1*len(train_dataset)),\n",
        "                              epochs=3,\n",
        "                              validation_data=val_dataset,\n",
        "                              validation_steps=int(0.1*len(val_dataset)))"
      ],
      "metadata": {
        "colab": {
          "base_uri": "https://localhost:8080/"
        },
        "id": "lCNENaour5Qm",
        "outputId": "c3e8bd7d-966b-427f-e84f-93db9bbafcd7"
      },
      "execution_count": 41,
      "outputs": [
        {
          "output_type": "stream",
          "name": "stdout",
          "text": [
            "Epoch 1/3\n",
            "562/562 [==============================] - 10s 14ms/step - loss: 0.8888 - accuracy: 0.6537 - val_loss: 0.7802 - val_accuracy: 0.6958\n",
            "Epoch 2/3\n",
            "562/562 [==============================] - 8s 14ms/step - loss: 0.7408 - accuracy: 0.7123 - val_loss: 0.7144 - val_accuracy: 0.7184\n",
            "Epoch 3/3\n",
            "562/562 [==============================] - 7s 13ms/step - loss: 0.7103 - accuracy: 0.7283 - val_loss: 0.6812 - val_accuracy: 0.7400\n"
          ]
        }
      ]
    },
    {
      "cell_type": "code",
      "source": [
        "model_3_preds = model_3.predict(val_dataset)\n",
        "conv_model_3_preds = [class_names[max([i for i in range(5)], key=lambda j:pred[j])] for pred in model_3_preds]\n",
        "model_3_results = calculate_results(val_labels_encoded,\n",
        "                                    tf.argmax(model_3_preds, axis=1))\n",
        "\n",
        "model_3_results"
      ],
      "metadata": {
        "colab": {
          "base_uri": "https://localhost:8080/"
        },
        "id": "Ts_sj8oYuXQ0",
        "outputId": "f0217083-3b0a-45a9-b75c-04494176af93"
      },
      "execution_count": 42,
      "outputs": [
        {
          "output_type": "stream",
          "name": "stdout",
          "text": [
            "945/945 [==============================] - 10s 10ms/step\n"
          ]
        },
        {
          "output_type": "execute_result",
          "data": {
            "text/plain": [
              "{'accuracy': 73.31523897788958,\n",
              " 'precision': 0.7340778929477326,\n",
              " 'recall': 0.7331523897788959,\n",
              " 'f1': 0.7323298018652972}"
            ]
          },
          "metadata": {},
          "execution_count": 42
        }
      ]
    },
    {
      "cell_type": "markdown",
      "source": [
        "### Model 3 🤖: Character Embeddings (Conv1D)\n",
        "\n",
        "*   The paper being replicated used a combination of character and token/word embeddings\n",
        "*   All previously created embeddings were token embeddings\n",
        "\n",
        "\n",
        "\n"
      ],
      "metadata": {
        "id": "C8VAqQY1DHUk"
      }
    },
    {
      "cell_type": "code",
      "source": [
        "#first we need to create a character level tokenizer\n",
        "\n",
        "split_chars = lambda text: ' '.join(list(text))\n",
        "train_chars = [split_chars(x) for x in train_sentences]\n",
        "val_chars = [split_chars(x) for x in val_sentences]\n",
        "test_chars = [split_chars(x) for x in test_sentences]\n",
        "train_chars[0]"
      ],
      "metadata": {
        "id": "yjRmTtBtuhWn",
        "colab": {
          "base_uri": "https://localhost:8080/",
          "height": 122
        },
        "outputId": "f9e6a6a1-f51e-4300-d7cd-7bd7e306d3db"
      },
      "execution_count": 48,
      "outputs": [
        {
          "output_type": "execute_result",
          "data": {
            "text/plain": [
              "'t o   i n v e s t i g a t e   t h e   e f f i c a c y   o f   @   w e e k s   o f   d a i l y   l o w - d o s e   o r a l   p r e d n i s o l o n e   i n   i m p r o v i n g   p a i n   ,   m o b i l i t y   ,   a n d   s y s t e m i c   l o w - g r a d e   i n f l a m m a t i o n   i n   t h e   s h o r t   t e r m   a n d   w h e t h e r   t h e   e f f e c t   w o u l d   b e   s u s t a i n e d   a t   @   w e e k s   i n   o l d e r   a d u l t s   w i t h   m o d e r a t e   t o   s e v e r e   k n e e   o s t e o a r t h r i t i s   (   o a   )   .'"
            ],
            "application/vnd.google.colaboratory.intrinsic+json": {
              "type": "string"
            }
          },
          "metadata": {},
          "execution_count": 48
        }
      ]
    },
    {
      "cell_type": "code",
      "source": [
        "#average char length (to cut off sentences or pad with 0s)\n",
        "\n",
        "char_len = [len(x) for x in train_chars]\n",
        "avg_char_len = np.mean(char_len)\n",
        "avg_char_len"
      ],
      "metadata": {
        "colab": {
          "base_uri": "https://localhost:8080/"
        },
        "id": "atwlyqDMEsDL",
        "outputId": "4b92bad2-e1a6-43d9-9f4d-ef6b7dbdc365"
      },
      "execution_count": 49,
      "outputs": [
        {
          "output_type": "execute_result",
          "data": {
            "text/plain": [
              "297.7325149966674"
            ]
          },
          "metadata": {},
          "execution_count": 49
        }
      ]
    },
    {
      "cell_type": "code",
      "source": [
        "plt.hist(char_len, bins=20)\n",
        "plt.title(\"Character Length Distribution\")"
      ],
      "metadata": {
        "colab": {
          "base_uri": "https://localhost:8080/",
          "height": 298
        },
        "id": "Hfg3r3KvFdKv",
        "outputId": "34459d5d-57b0-4b02-fb34-9f96de302392"
      },
      "execution_count": 50,
      "outputs": [
        {
          "output_type": "execute_result",
          "data": {
            "text/plain": [
              "Text(0.5, 1.0, 'Character Length Distribution')"
            ]
          },
          "metadata": {},
          "execution_count": 50
        },
        {
          "output_type": "display_data",
          "data": {
            "text/plain": [
              "<Figure size 432x288 with 1 Axes>"
            ],
            "image/png": "[encoded data removed]"
          },
          "metadata": {
            "needs_background": "light"
          }
        }
      ]
    },
    {
      "cell_type": "code",
      "source": [
        "char_len_95 = int(np.percentile(char_len, 95))\n",
        "char_len_95"
      ],
      "metadata": {
        "colab": {
          "base_uri": "https://localhost:8080/"
        },
        "id": "b_3EbKVuFsCb",
        "outputId": "d6748c3b-8484-48a6-f200-4331183dd226"
      },
      "execution_count": 51,
      "outputs": [
        {
          "output_type": "execute_result",
          "data": {
            "text/plain": [
              "579"
            ]
          },
          "metadata": {},
          "execution_count": 51
        }
      ]
    },
    {
      "cell_type": "code",
      "source": [
        "#all keyboard chars\n",
        "import string\n",
        "all_chars = string.ascii_lowercase + string.digits + string.punctuation + ' ' + 'U' #include space and unkown chars\n",
        "all_chars"
      ],
      "metadata": {
        "colab": {
          "base_uri": "https://localhost:8080/",
          "height": 35
        },
        "id": "nS2eHKCXF1sY",
        "outputId": "b5778bbc-1b71-40a2-e930-54b391674a88"
      },
      "execution_count": 54,
      "outputs": [
        {
          "output_type": "execute_result",
          "data": {
            "text/plain": [
              "'abcdefghijklmnopqrstuvwxyz0123456789!\"#$%&\\'()*+,-./:;<=>?@[\\\\]^_`{|}~ U'"
            ],
            "application/vnd.google.colaboratory.intrinsic+json": {
              "type": "string"
            }
          },
          "metadata": {},
          "execution_count": 54
        }
      ]
    },
    {
      "cell_type": "code",
      "source": [
        "CHAR_TOKENS_LENGTH = len(all_chars)\n",
        "char_vectorizer = TextVectorization(max_tokens=CHAR_TOKENS_LENGTH,\n",
        "                                    output_sequence_length=char_len_95,\n",
        "                                    name=\"char_vectorizer\")\n",
        "char_vectorizer.adapt(train_chars)"
      ],
      "metadata": {
        "id": "ng1KKbIuHbDp"
      },
      "execution_count": 56,
      "outputs": []
    },
    {
      "cell_type": "code",
      "source": [
        "random_train_chars = random.choice(train_chars)\n",
        "vectorized_chars = char_vectorizer([random_train_chars])\n",
        "vectorized_chars"
      ],
      "metadata": {
        "colab": {
          "base_uri": "https://localhost:8080/"
        },
        "id": "hnesQlzXIVlL",
        "outputId": "d4ca95e3-a5c0-4958-9970-3f8b27eb7bd6"
      },
      "execution_count": 57,
      "outputs": [
        {
          "output_type": "execute_result",
          "data": {
            "text/plain": [
              "<tf.Tensor: shape=(1, 579), dtype=int64, numpy=\n",
              "array([[ 3,  4, 15,  2,  3,  7, 11,  7, 15, 14, 12,  2,  3,  2,  3, 13,\n",
              "         2, 14,  8,  7, 11,  2, 10, 16,  8,  2,  5,  6, 10,  6, 16, 15,\n",
              "        22,  2,  8,  5,  6, 10,  3, 19, 14,  2,  7, 17,  2,  8,  8,  7,\n",
              "         8, 15,  5, 10,  2, 20,  2,  8,  2,  8,  2, 11,  7,  8, 10,  2,\n",
              "        10,  5,  6, 10, 11,  7, 15, 14,  5,  8,  2, 10, 22,  2,  3, 20,\n",
              "         2,  2,  6, 18,  8,  7, 16, 14,  9,  0,  0,  0,  0,  0,  0,  0,\n",
              "         0,  0,  0,  0,  0,  0,  0,  0,  0,  0,  0,  0,  0,  0,  0,  0,\n",
              "         0,  0,  0,  0,  0,  0,  0,  0,  0,  0,  0,  0,  0,  0,  0,  0,\n",
              "         0,  0,  0,  0,  0,  0,  0,  0,  0,  0,  0,  0,  0,  0,  0,  0,\n",
              "         0,  0,  0,  0,  0,  0,  0,  0,  0,  0,  0,  0,  0,  0,  0,  0,\n",
              "         0,  0,  0,  0,  0,  0,  0,  0,  0,  0,  0,  0,  0,  0,  0,  0,\n",
              "         0,  0,  0,  0,  0,  0,  0,  0,  0,  0,  0,  0,  0,  0,  0,  0,\n",
              "         0,  0,  0,  0,  0,  0,  0,  0,  0,  0,  0,  0,  0,  0,  0,  0,\n",
              "         0,  0,  0,  0,  0,  0,  0,  0,  0,  0,  0,  0,  0,  0,  0,  0,\n",
              "         0,  0,  0,  0,  0,  0,  0,  0,  0,  0,  0,  0,  0,  0,  0,  0,\n",
              "         0,  0,  0,  0,  0,  0,  0,  0,  0,  0,  0,  0,  0,  0,  0,  0,\n",
              "         0,  0,  0,  0,  0,  0,  0,  0,  0,  0,  0,  0,  0,  0,  0,  0,\n",
              "         0,  0,  0,  0,  0,  0,  0,  0,  0,  0,  0,  0,  0,  0,  0,  0,\n",
              "         0,  0,  0,  0,  0,  0,  0,  0,  0,  0,  0,  0,  0,  0,  0,  0,\n",
              "         0,  0,  0,  0,  0,  0,  0,  0,  0,  0,  0,  0,  0,  0,  0,  0,\n",
              "         0,  0,  0,  0,  0,  0,  0,  0,  0,  0,  0,  0,  0,  0,  0,  0,\n",
              "         0,  0,  0,  0,  0,  0,  0,  0,  0,  0,  0,  0,  0,  0,  0,  0,\n",
              "         0,  0,  0,  0,  0,  0,  0,  0,  0,  0,  0,  0,  0,  0,  0,  0,\n",
              "         0,  0,  0,  0,  0,  0,  0,  0,  0,  0,  0,  0,  0,  0,  0,  0,\n",
              "         0,  0,  0,  0,  0,  0,  0,  0,  0,  0,  0,  0,  0,  0,  0,  0,\n",
              "         0,  0,  0,  0,  0,  0,  0,  0,  0,  0,  0,  0,  0,  0,  0,  0,\n",
              "         0,  0,  0,  0,  0,  0,  0,  0,  0,  0,  0,  0,  0,  0,  0,  0,\n",
              "         0,  0,  0,  0,  0,  0,  0,  0,  0,  0,  0,  0,  0,  0,  0,  0,\n",
              "         0,  0,  0,  0,  0,  0,  0,  0,  0,  0,  0,  0,  0,  0,  0,  0,\n",
              "         0,  0,  0,  0,  0,  0,  0,  0,  0,  0,  0,  0,  0,  0,  0,  0,\n",
              "         0,  0,  0,  0,  0,  0,  0,  0,  0,  0,  0,  0,  0,  0,  0,  0,\n",
              "         0,  0,  0,  0,  0,  0,  0,  0,  0,  0,  0,  0,  0,  0,  0,  0,\n",
              "         0,  0,  0,  0,  0,  0,  0,  0,  0,  0,  0,  0,  0,  0,  0,  0,\n",
              "         0,  0,  0,  0,  0,  0,  0,  0,  0,  0,  0,  0,  0,  0,  0,  0,\n",
              "         0,  0,  0,  0,  0,  0,  0,  0,  0,  0,  0,  0,  0,  0,  0,  0,\n",
              "         0,  0,  0,  0,  0,  0,  0,  0,  0,  0,  0,  0,  0,  0,  0,  0,\n",
              "         0,  0,  0]])>"
            ]
          },
          "metadata": {},
          "execution_count": 57
        }
      ]
    },
    {
      "cell_type": "code",
      "source": [],
      "metadata": {
        "id": "RDITpNyIINs2"
      },
      "execution_count": null,
      "outputs": []
    }
  ],
  "metadata": {
    "accelerator": "GPU",
    "colab": {
      "provenance": [],
      "authorship_tag": "ABX9TyO1gklHELPjU7Hq8J4DKVll",
      "include_colab_link": true
    },
    "gpuClass": "standard",
    "kernelspec": {
      "display_name": "Python 3",
      "name": "python3"
    },
    "language_info": {
      "name": "python"
    }
  },
  "nbformat": 4,
  "nbformat_minor": 0
}