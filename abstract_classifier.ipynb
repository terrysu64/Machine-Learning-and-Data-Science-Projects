{
  "cells": [
    {
      "cell_type": "markdown",
      "metadata": {
        "id": "view-in-github",
        "colab_type": "text"
      },
      "source": [
        "<a href=\"https://colab.research.google.com/github/terrysu64/Machine-Learning-and-Data-Science-Projects/blob/main/abstract_classifier.ipynb\" target=\"_parent\"><img src=\"https://colab.research.google.com/assets/colab-badge.svg\" alt=\"Open In Colab\"/></a>"
      ]
    },
    {
      "cell_type": "markdown",
      "metadata": {
        "id": "Qrdo5LEmXgtD"
      },
      "source": [
        "# Abstract Classifier 📝\n",
        "\n",
        "The objective of this notebook is to constrcut an NLP model that identifies sections of medical abstracts to enable easier reading. \n",
        "\n",
        "Dataset source: https://arxiv.org/abs/1710.06071"
      ]
    },
    {
      "cell_type": "code",
      "execution_count": null,
      "metadata": {
        "colab": {
          "base_uri": "https://localhost:8080/"
        },
        "id": "oQj0xtkQXYIy",
        "outputId": "c0e3e3db-82db-4205-90d3-802b31ee57e3"
      },
      "outputs": [
        {
          "name": "stdout",
          "output_type": "stream",
          "text": [
            "Sun Jan  1 19:54:36 2023       \n",
            "+-----------------------------------------------------------------------------+\n",
            "| NVIDIA-SMI 460.32.03    Driver Version: 460.32.03    CUDA Version: 11.2     |\n",
            "|-------------------------------+----------------------+----------------------+\n",
            "| GPU  Name        Persistence-M| Bus-Id        Disp.A | Volatile Uncorr. ECC |\n",
            "| Fan  Temp  Perf  Pwr:Usage/Cap|         Memory-Usage | GPU-Util  Compute M. |\n",
            "|                               |                      |               MIG M. |\n",
            "|===============================+======================+======================|\n",
            "|   0  Tesla T4            Off  | 00000000:00:04.0 Off |                    0 |\n",
            "| N/A   46C    P0    26W /  70W |      0MiB / 15109MiB |      0%      Default |\n",
            "|                               |                      |                  N/A |\n",
            "+-------------------------------+----------------------+----------------------+\n",
            "                                                                               \n",
            "+-----------------------------------------------------------------------------+\n",
            "| Processes:                                                                  |\n",
            "|  GPU   GI   CI        PID   Type   Process name                  GPU Memory |\n",
            "|        ID   ID                                                   Usage      |\n",
            "|=============================================================================|\n",
            "|  No running processes found                                                 |\n",
            "+-----------------------------------------------------------------------------+\n"
          ]
        }
      ],
      "source": [
        "#connect to GPU\n",
        "!nvidia-smi"
      ]
    },
    {
      "cell_type": "markdown",
      "metadata": {
        "id": "LPp68R-iZUZ-"
      },
      "source": [
        "### Download Dataset"
      ]
    },
    {
      "cell_type": "code",
      "execution_count": null,
      "metadata": {
        "colab": {
          "base_uri": "https://localhost:8080/"
        },
        "id": "DjrEAXnSY77f",
        "outputId": "a36c5fab-31bc-4545-ab4e-c19d7487fd10"
      },
      "outputs": [
        {
          "name": "stdout",
          "output_type": "stream",
          "text": [
            "Cloning into 'pubmed-rct'...\n",
            "remote: Enumerating objects: 33, done.\u001b[K\n",
            "remote: Counting objects: 100% (8/8), done.\u001b[K\n",
            "remote: Compressing objects: 100% (3/3), done.\u001b[K\n",
            "remote: Total 33 (delta 5), reused 5 (delta 5), pack-reused 25\u001b[K\n",
            "Unpacking objects: 100% (33/33), done.\n",
            "PubMed_200k_RCT\n",
            "PubMed_200k_RCT_numbers_replaced_with_at_sign\n",
            "PubMed_20k_RCT\n",
            "PubMed_20k_RCT_numbers_replaced_with_at_sign\n",
            "README.md\n"
          ]
        }
      ],
      "source": [
        "#can be downloaded from PubMed 200k RCT repository\n",
        "!git clone https://github.com/Franck-Dernoncourt/pubmed-rct\n",
        "!ls pubmed-rct"
      ]
    },
    {
      "cell_type": "code",
      "execution_count": null,
      "metadata": {
        "colab": {
          "base_uri": "https://localhost:8080/"
        },
        "id": "4o5ZlPO5Zjse",
        "outputId": "34610acf-c918-4398-c98e-db521cdf7f12"
      },
      "outputs": [
        {
          "name": "stdout",
          "output_type": "stream",
          "text": [
            "dev.txt  test.txt  train.txt\n"
          ]
        }
      ],
      "source": [
        "!ls pubmed-rct/PubMed_20k_RCT_numbers_replaced_with_at_sign/\n",
        "\n",
        "#dev.txt = validation set"
      ]
    },
    {
      "cell_type": "code",
      "execution_count": null,
      "metadata": {
        "id": "tfAkPSwZaWsp"
      },
      "outputs": [],
      "source": [
        "data_dir = '/content/pubmed-rct/PubMed_20k_RCT_numbers_replaced_with_at_sign'"
      ]
    },
    {
      "cell_type": "code",
      "execution_count": null,
      "metadata": {
        "colab": {
          "base_uri": "https://localhost:8080/"
        },
        "id": "X0M6n1TObG9U",
        "outputId": "f885218d-90d5-46c9-a4c7-f9a8715708ba"
      },
      "outputs": [
        {
          "data": {
            "text/plain": [
              "['/content/pubmed-rct/PubMed_20k_RCT_numbers_replaced_with_at_sign/train.txt',\n",
              " '/content/pubmed-rct/PubMed_20k_RCT_numbers_replaced_with_at_sign/test.txt',\n",
              " '/content/pubmed-rct/PubMed_20k_RCT_numbers_replaced_with_at_sign/dev.txt']"
            ]
          },
          "execution_count": 5,
          "metadata": {},
          "output_type": "execute_result"
        }
      ],
      "source": [
        "#check filenames in data directory\n",
        "import os \n",
        "filenames = [f\"{data_dir}/{filename}\" for filename in os.listdir(data_dir)]\n",
        "filenames"
      ]
    },
    {
      "cell_type": "markdown",
      "metadata": {
        "id": "n9F0r_00ZhPy"
      },
      "source": [
        "### Preprocessing Data"
      ]
    },
    {
      "cell_type": "code",
      "execution_count": null,
      "metadata": {
        "id": "aX_AoioKbfrG"
      },
      "outputs": [],
      "source": [
        "#read in all lines of text file\n",
        "def read_lines(file):\n",
        "  \"\"\"\n",
        "  reads file and returns the lines of text via an array\n",
        "  \"\"\"\n",
        "\n",
        "  with open(file, \"r\") as file: \n",
        "    return file.readlines()"
      ]
    },
    {
      "cell_type": "code",
      "execution_count": null,
      "metadata": {
        "colab": {
          "base_uri": "https://localhost:8080/"
        },
        "id": "Y6Ghw9SQaWXg",
        "outputId": "a0234852-7556-42d8-c5b1-18207c85dc33"
      },
      "outputs": [
        {
          "data": {
            "text/plain": [
              "['###24293578\\n',\n",
              " 'OBJECTIVE\\tTo investigate the efficacy of @ weeks of daily low-dose oral prednisolone in improving pain , mobility , and systemic low-grade inflammation in the short term and whether the effect would be sustained at @ weeks in older adults with moderate to severe knee osteoarthritis ( OA ) .\\n',\n",
              " 'METHODS\\tA total of @ patients with primary knee OA were randomized @:@ ; @ received @ mg/day of prednisolone and @ received placebo for @ weeks .\\n',\n",
              " 'METHODS\\tOutcome measures included pain reduction and improvement in function scores and systemic inflammation markers .\\n',\n",
              " 'METHODS\\tPain was assessed using the visual analog pain scale ( @-@ mm ) .\\n',\n",
              " 'METHODS\\tSecondary outcome measures included the Western Ontario and McMaster Universities Osteoarthritis Index scores , patient global assessment ( PGA ) of the severity of knee OA , and @-min walk distance ( @MWD ) .\\n',\n",
              " 'METHODS\\tSerum levels of interleukin @ ( IL-@ ) , IL-@ , tumor necrosis factor ( TNF ) - , and high-sensitivity C-reactive protein ( hsCRP ) were measured .\\n',\n",
              " 'RESULTS\\tThere was a clinically relevant reduction in the intervention group compared to the placebo group for knee pain , physical function , PGA , and @MWD at @ weeks .\\n',\n",
              " 'RESULTS\\tThe mean difference between treatment arms ( @ % CI ) was @ ( @-@ @ ) , p < @ ; @ ( @-@ @ ) , p < @ ; @ ( @-@ @ ) , p < @ ; and @ ( @-@ @ ) , p < @ , respectively .\\n',\n",
              " 'RESULTS\\tFurther , there was a clinically relevant reduction in the serum levels of IL-@ , IL-@ , TNF - , and hsCRP at @ weeks in the intervention group when compared to the placebo group .\\n',\n",
              " 'RESULTS\\tThese differences remained significant at @ weeks .\\n',\n",
              " 'RESULTS\\tThe Outcome Measures in Rheumatology Clinical Trials-Osteoarthritis Research Society International responder rate was @ % in the intervention group and @ % in the placebo group ( p < @ ) .\\n',\n",
              " 'CONCLUSIONS\\tLow-dose oral prednisolone had both a short-term and a longer sustained effect resulting in less knee pain , better physical function , and attenuation of systemic inflammation in older patients with knee OA ( ClinicalTrials.gov identifier NCT@ ) .\\n',\n",
              " '\\n',\n",
              " '###24854809\\n']"
            ]
          },
          "execution_count": 7,
          "metadata": {},
          "output_type": "execute_result"
        }
      ],
      "source": [
        "train_lines = read_lines(f\"{data_dir}/train.txt\")\n",
        "train_lines[:15]"
      ]
    },
    {
      "cell_type": "code",
      "execution_count": null,
      "metadata": {
        "colab": {
          "base_uri": "https://localhost:8080/"
        },
        "id": "A-LzZVdaakNm",
        "outputId": "76f44683-8bcc-4767-e1d3-6de0a14f2548"
      },
      "outputs": [
        {
          "data": {
            "text/plain": [
              "210040"
            ]
          },
          "execution_count": 8,
          "metadata": {},
          "output_type": "execute_result"
        }
      ],
      "source": [
        "len(train_lines)"
      ]
    },
    {
      "cell_type": "markdown",
      "metadata": {
        "id": "eU1NisucbHkQ"
      },
      "source": [
        "✅ **Ideal Representation**\n",
        "\n",
        "\n",
        "```\n",
        "for each abstract: \n",
        "[\n",
        "  {\n",
        "    line_number: ...,\n",
        "    target: ...,\n",
        "    text: ...,\n",
        "    total_lines: ...,\n",
        "  }\n",
        "]\n",
        "```\n",
        "\n",
        " "
      ]
    },
    {
      "cell_type": "code",
      "execution_count": null,
      "metadata": {
        "id": "OSF8SIlLa_QV"
      },
      "outputs": [],
      "source": [
        "def preprocess_lines(file):\n",
        "  \"\"\"\n",
        "  returns array of hashmaps, preprocessed in the outlined form\n",
        "  \"\"\"\n",
        "\n",
        "  lines = read_lines(file)\n",
        "  curr_abstract = ''; abstracts = []\n",
        "  abstract_id = None\n",
        "\n",
        "  for line in lines:\n",
        "    if line.startswith('###'): abstract_id = line; curr_abstract = ''\n",
        "    elif line.isspace(): \n",
        "      \n",
        "      line_split = curr_abstract.splitlines()\n",
        "      for i,j in enumerate(line_split):\n",
        "        data={}\n",
        "        target,content = j.split('\\t')\n",
        "        data[\"line_number\"] = i+1\n",
        "        data[\"target\"] = target\n",
        "        data[\"text\"] = content.lower()\n",
        "        data[\"total_lines\"] = len(line_split)\n",
        "        abstracts += [data]\n",
        "        \n",
        "\n",
        "    else: curr_abstract += line\n",
        "\n",
        "\n",
        "  return abstracts"
      ]
    },
    {
      "cell_type": "code",
      "execution_count": null,
      "metadata": {
        "colab": {
          "base_uri": "https://localhost:8080/"
        },
        "id": "4UsWnEfy_RX6",
        "outputId": "72632383-ad16-4cdc-865e-5017c338a4e0"
      },
      "outputs": [
        {
          "data": {
            "text/plain": [
              "[{'line_number': 1,\n",
              "  'target': 'OBJECTIVE',\n",
              "  'text': 'to investigate the efficacy of @ weeks of daily low-dose oral prednisolone in improving pain , mobility , and systemic low-grade inflammation in the short term and whether the effect would be sustained at @ weeks in older adults with moderate to severe knee osteoarthritis ( oa ) .',\n",
              "  'total_lines': 12},\n",
              " {'line_number': 2,\n",
              "  'target': 'METHODS',\n",
              "  'text': 'a total of @ patients with primary knee oa were randomized @:@ ; @ received @ mg/day of prednisolone and @ received placebo for @ weeks .',\n",
              "  'total_lines': 12},\n",
              " {'line_number': 3,\n",
              "  'target': 'METHODS',\n",
              "  'text': 'outcome measures included pain reduction and improvement in function scores and systemic inflammation markers .',\n",
              "  'total_lines': 12},\n",
              " {'line_number': 4,\n",
              "  'target': 'METHODS',\n",
              "  'text': 'pain was assessed using the visual analog pain scale ( @-@ mm ) .',\n",
              "  'total_lines': 12},\n",
              " {'line_number': 5,\n",
              "  'target': 'METHODS',\n",
              "  'text': 'secondary outcome measures included the western ontario and mcmaster universities osteoarthritis index scores , patient global assessment ( pga ) of the severity of knee oa , and @-min walk distance ( @mwd ) .',\n",
              "  'total_lines': 12},\n",
              " {'line_number': 6,\n",
              "  'target': 'METHODS',\n",
              "  'text': 'serum levels of interleukin @ ( il-@ ) , il-@ , tumor necrosis factor ( tnf ) - , and high-sensitivity c-reactive protein ( hscrp ) were measured .',\n",
              "  'total_lines': 12},\n",
              " {'line_number': 7,\n",
              "  'target': 'RESULTS',\n",
              "  'text': 'there was a clinically relevant reduction in the intervention group compared to the placebo group for knee pain , physical function , pga , and @mwd at @ weeks .',\n",
              "  'total_lines': 12},\n",
              " {'line_number': 8,\n",
              "  'target': 'RESULTS',\n",
              "  'text': 'the mean difference between treatment arms ( @ % ci ) was @ ( @-@ @ ) , p < @ ; @ ( @-@ @ ) , p < @ ; @ ( @-@ @ ) , p < @ ; and @ ( @-@ @ ) , p < @ , respectively .',\n",
              "  'total_lines': 12},\n",
              " {'line_number': 9,\n",
              "  'target': 'RESULTS',\n",
              "  'text': 'further , there was a clinically relevant reduction in the serum levels of il-@ , il-@ , tnf - , and hscrp at @ weeks in the intervention group when compared to the placebo group .',\n",
              "  'total_lines': 12},\n",
              " {'line_number': 10,\n",
              "  'target': 'RESULTS',\n",
              "  'text': 'these differences remained significant at @ weeks .',\n",
              "  'total_lines': 12},\n",
              " {'line_number': 11,\n",
              "  'target': 'RESULTS',\n",
              "  'text': 'the outcome measures in rheumatology clinical trials-osteoarthritis research society international responder rate was @ % in the intervention group and @ % in the placebo group ( p < @ ) .',\n",
              "  'total_lines': 12},\n",
              " {'line_number': 12,\n",
              "  'target': 'CONCLUSIONS',\n",
              "  'text': 'low-dose oral prednisolone had both a short-term and a longer sustained effect resulting in less knee pain , better physical function , and attenuation of systemic inflammation in older patients with knee oa ( clinicaltrials.gov identifier nct@ ) .',\n",
              "  'total_lines': 12},\n",
              " {'line_number': 1,\n",
              "  'target': 'BACKGROUND',\n",
              "  'text': 'emotional eating is associated with overeating and the development of obesity .',\n",
              "  'total_lines': 11},\n",
              " {'line_number': 2,\n",
              "  'target': 'BACKGROUND',\n",
              "  'text': 'yet , empirical evidence for individual ( trait ) differences in emotional eating and cognitive mechanisms that contribute to eating during sad mood remain equivocal .',\n",
              "  'total_lines': 11},\n",
              " {'line_number': 3,\n",
              "  'target': 'OBJECTIVE',\n",
              "  'text': 'the aim of this study was to test if attention bias for food moderates the effect of self-reported emotional eating during sad mood ( vs neutral mood ) on actual food intake .',\n",
              "  'total_lines': 11}]"
            ]
          },
          "execution_count": 10,
          "metadata": {},
          "output_type": "execute_result"
        }
      ],
      "source": [
        "train_samples = preprocess_lines(f\"{data_dir}/train.txt\")\n",
        "val_samples = preprocess_lines(f\"{data_dir}/dev.txt\")\n",
        "test_samples = preprocess_lines(f\"{data_dir}/test.txt\")\n",
        "train_samples[:15]"
      ]
    },
    {
      "cell_type": "code",
      "execution_count": null,
      "metadata": {
        "colab": {
          "base_uri": "https://localhost:8080/"
        },
        "id": "ZIRmhkpr_VnK",
        "outputId": "5dcb30b5-a3b0-4337-f4bd-0ca126f3c79b"
      },
      "outputs": [
        {
          "data": {
            "text/plain": [
              "(180040, 30212, 30135)"
            ]
          },
          "execution_count": 11,
          "metadata": {},
          "output_type": "execute_result"
        }
      ],
      "source": [
        "len(train_samples),len(val_samples),len(test_samples)"
      ]
    },
    {
      "cell_type": "markdown",
      "metadata": {
        "id": "C5y1wxToODAj"
      },
      "source": [
        "### Further Visualizing Data"
      ]
    },
    {
      "cell_type": "code",
      "execution_count": null,
      "metadata": {
        "colab": {
          "base_uri": "https://localhost:8080/"
        },
        "id": "6hGTsLNEBHEJ",
        "outputId": "4d7cb78b-f9f3-4226-b8bb-1d45d9b07edc"
      },
      "outputs": [
        {
          "data": {
            "text/html": [
              "\n",
              "  <div id=\"df-5c7c6dea-3909-4859-b71f-9305c967a48d\">\n",
              "    <div class=\"colab-df-container\">\n",
              "      <div>\n",
              "<style scoped>\n",
              "    .dataframe tbody tr th:only-of-type {\n",
              "        vertical-align: middle;\n",
              "    }\n",
              "\n",
              "    .dataframe tbody tr th {\n",
              "        vertical-align: top;\n",
              "    }\n",
              "\n",
              "    .dataframe thead th {\n",
              "        text-align: right;\n",
              "    }\n",
              "</style>\n",
              "<table border=\"1\" class=\"dataframe\">\n",
              "  <thead>\n",
              "    <tr style=\"text-align: right;\">\n",
              "      <th></th>\n",
              "      <th>line_number</th>\n",
              "      <th>target</th>\n",
              "      <th>text</th>\n",
              "      <th>total_lines</th>\n",
              "    </tr>\n",
              "  </thead>\n",
              "  <tbody>\n",
              "    <tr>\n",
              "      <th>0</th>\n",
              "      <td>1</td>\n",
              "      <td>OBJECTIVE</td>\n",
              "      <td>to investigate the efficacy of @ weeks of dail...</td>\n",
              "      <td>12</td>\n",
              "    </tr>\n",
              "    <tr>\n",
              "      <th>1</th>\n",
              "      <td>2</td>\n",
              "      <td>METHODS</td>\n",
              "      <td>a total of @ patients with primary knee oa wer...</td>\n",
              "      <td>12</td>\n",
              "    </tr>\n",
              "    <tr>\n",
              "      <th>2</th>\n",
              "      <td>3</td>\n",
              "      <td>METHODS</td>\n",
              "      <td>outcome measures included pain reduction and i...</td>\n",
              "      <td>12</td>\n",
              "    </tr>\n",
              "    <tr>\n",
              "      <th>3</th>\n",
              "      <td>4</td>\n",
              "      <td>METHODS</td>\n",
              "      <td>pain was assessed using the visual analog pain...</td>\n",
              "      <td>12</td>\n",
              "    </tr>\n",
              "    <tr>\n",
              "      <th>4</th>\n",
              "      <td>5</td>\n",
              "      <td>METHODS</td>\n",
              "      <td>secondary outcome measures included the wester...</td>\n",
              "      <td>12</td>\n",
              "    </tr>\n",
              "  </tbody>\n",
              "</table>\n",
              "</div>\n",
              "      <button class=\"colab-df-convert\" onclick=\"convertToInteractive('df-5c7c6dea-3909-4859-b71f-9305c967a48d')\"\n",
              "              title=\"Convert this dataframe to an interactive table.\"\n",
              "              style=\"display:none;\">\n",
              "        \n",
              "  <svg xmlns=\"http://www.w3.org/2000/svg\" height=\"24px\"viewBox=\"0 0 24 24\"\n",
              "       width=\"24px\">\n",
              "    <path d=\"M0 0h24v24H0V0z\" fill=\"none\"/>\n",
              "    <path d=\"M18.56 5.44l.94 2.06.94-2.06 2.06-.94-2.06-.94-.94-2.06-.94 2.06-2.06.94zm-11 1L8.5 8.5l.94-2.06 2.06-.94-2.06-.94L8.5 2.5l-.94 2.06-2.06.94zm10 10l.94 2.06.94-2.06 2.06-.94-2.06-.94-.94-2.06-.94 2.06-2.06.94z\"/><path d=\"M17.41 7.96l-1.37-1.37c-.4-.4-.92-.59-1.43-.59-.52 0-1.04.2-1.43.59L10.3 9.45l-7.72 7.72c-.78.78-.78 2.05 0 2.83L4 21.41c.39.39.9.59 1.41.59.51 0 1.02-.2 1.41-.59l7.78-7.78 2.81-2.81c.8-.78.8-2.07 0-2.86zM5.41 20L4 18.59l7.72-7.72 1.47 1.35L5.41 20z\"/>\n",
              "  </svg>\n",
              "      </button>\n",
              "      \n",
              "  <style>\n",
              "    .colab-df-container {\n",
              "      display:flex;\n",
              "      flex-wrap:wrap;\n",
              "      gap: 12px;\n",
              "    }\n",
              "\n",
              "    .colab-df-convert {\n",
              "      background-color: #E8F0FE;\n",
              "      border: none;\n",
              "      border-radius: 50%;\n",
              "      cursor: pointer;\n",
              "      display: none;\n",
              "      fill: #1967D2;\n",
              "      height: 32px;\n",
              "      padding: 0 0 0 0;\n",
              "      width: 32px;\n",
              "    }\n",
              "\n",
              "    .colab-df-convert:hover {\n",
              "      background-color: #E2EBFA;\n",
              "      box-shadow: 0px 1px 2px rgba(60, 64, 67, 0.3), 0px 1px 3px 1px rgba(60, 64, 67, 0.15);\n",
              "      fill: #174EA6;\n",
              "    }\n",
              "\n",
              "    [theme=dark] .colab-df-convert {\n",
              "      background-color: #3B4455;\n",
              "      fill: #D2E3FC;\n",
              "    }\n",
              "\n",
              "    [theme=dark] .colab-df-convert:hover {\n",
              "      background-color: #434B5C;\n",
              "      box-shadow: 0px 1px 3px 1px rgba(0, 0, 0, 0.15);\n",
              "      filter: drop-shadow(0px 1px 2px rgba(0, 0, 0, 0.3));\n",
              "      fill: #FFFFFF;\n",
              "    }\n",
              "  </style>\n",
              "\n",
              "      <script>\n",
              "        const buttonEl =\n",
              "          document.querySelector('#df-5c7c6dea-3909-4859-b71f-9305c967a48d button.colab-df-convert');\n",
              "        buttonEl.style.display =\n",
              "          google.colab.kernel.accessAllowed ? 'block' : 'none';\n",
              "\n",
              "        async function convertToInteractive(key) {\n",
              "          const element = document.querySelector('#df-5c7c6dea-3909-4859-b71f-9305c967a48d');\n",
              "          const dataTable =\n",
              "            await google.colab.kernel.invokeFunction('convertToInteractive',\n",
              "                                                     [key], {});\n",
              "          if (!dataTable) return;\n",
              "\n",
              "          const docLinkHtml = 'Like what you see? Visit the ' +\n",
              "            '<a target=\"_blank\" href=https://colab.research.google.com/notebooks/data_table.ipynb>data table notebook</a>'\n",
              "            + ' to learn more about interactive tables.';\n",
              "          element.innerHTML = '';\n",
              "          dataTable['output_type'] = 'display_data';\n",
              "          await google.colab.output.renderOutput(dataTable, element);\n",
              "          const docLink = document.createElement('div');\n",
              "          docLink.innerHTML = docLinkHtml;\n",
              "          element.appendChild(docLink);\n",
              "        }\n",
              "      </script>\n",
              "    </div>\n",
              "  </div>\n",
              "  "
            ],
            "text/plain": [
              "   line_number     target                                               text  \\\n",
              "0            1  OBJECTIVE  to investigate the efficacy of @ weeks of dail...   \n",
              "1            2    METHODS  a total of @ patients with primary knee oa wer...   \n",
              "2            3    METHODS  outcome measures included pain reduction and i...   \n",
              "3            4    METHODS  pain was assessed using the visual analog pain...   \n",
              "4            5    METHODS  secondary outcome measures included the wester...   \n",
              "\n",
              "   total_lines  \n",
              "0           12  \n",
              "1           12  \n",
              "2           12  \n",
              "3           12  \n",
              "4           12  "
            ]
          },
          "execution_count": 12,
          "metadata": {},
          "output_type": "execute_result"
        }
      ],
      "source": [
        "import pandas as pd\n",
        "train_df = pd.DataFrame(train_samples)\n",
        "val_df = pd.DataFrame(val_samples)\n",
        "test_df = pd.DataFrame(test_samples)\n",
        "train_df.head()"
      ]
    },
    {
      "cell_type": "code",
      "execution_count": null,
      "metadata": {
        "colab": {
          "base_uri": "https://localhost:8080/"
        },
        "id": "xCjjIdPUOKtR",
        "outputId": "c2652235-4f26-41ff-c68f-2b9df04ffa84"
      },
      "outputs": [
        {
          "data": {
            "text/plain": [
              "METHODS        59353\n",
              "RESULTS        57953\n",
              "CONCLUSIONS    27168\n",
              "BACKGROUND     21727\n",
              "OBJECTIVE      13839\n",
              "Name: target, dtype: int64"
            ]
          },
          "execution_count": 13,
          "metadata": {},
          "output_type": "execute_result"
        }
      ],
      "source": [
        "train_df.target.value_counts()"
      ]
    },
    {
      "cell_type": "code",
      "execution_count": null,
      "metadata": {
        "colab": {
          "base_uri": "https://localhost:8080/"
        },
        "id": "P5pZY_d4OWTR",
        "outputId": "bb1804f6-a415-4dd1-d79a-1010856675e8"
      },
      "outputs": [
        {
          "data": {
            "text/plain": [
              "METHODS        9897\n",
              "RESULTS        9713\n",
              "CONCLUSIONS    4571\n",
              "BACKGROUND     3621\n",
              "OBJECTIVE      2333\n",
              "Name: target, dtype: int64"
            ]
          },
          "execution_count": 14,
          "metadata": {},
          "output_type": "execute_result"
        }
      ],
      "source": [
        "test_df.target.value_counts()"
      ]
    },
    {
      "cell_type": "code",
      "execution_count": null,
      "metadata": {
        "colab": {
          "base_uri": "https://localhost:8080/"
        },
        "id": "ARu7ClQoOcyz",
        "outputId": "db353728-c54e-4878-ea37-c175d463c3ec"
      },
      "outputs": [
        {
          "data": {
            "text/plain": [
              "<matplotlib.axes._subplots.AxesSubplot at 0x7fe5601f4bb0>"
            ]
          },
          "execution_count": 15,
          "metadata": {},
          "output_type": "execute_result"
        },
        {
          "data": {
            "image/png": "[encoded data removed]",
            "text/plain": [
              "<Figure size 432x288 with 1 Axes>"
            ]
          },
          "metadata": {},
          "output_type": "display_data"
        }
      ],
      "source": [
        "# sample length frequency\n",
        "train_df.total_lines.plot.hist()"
      ]
    },
    {
      "cell_type": "markdown",
      "metadata": {
        "id": "s8Yys-m-Os-E"
      },
      "source": [
        "### Convert to Array of Sentences"
      ]
    },
    {
      "cell_type": "code",
      "execution_count": null,
      "metadata": {
        "colab": {
          "base_uri": "https://localhost:8080/"
        },
        "id": "lTb52QuUOjk8",
        "outputId": "60cc133c-b82b-4a25-ea7d-ae707c15c646"
      },
      "outputs": [
        {
          "data": {
            "text/plain": [
              "['to investigate the efficacy of @ weeks of daily low-dose oral prednisolone in improving pain , mobility , and systemic low-grade inflammation in the short term and whether the effect would be sustained at @ weeks in older adults with moderate to severe knee osteoarthritis ( oa ) .',\n",
              " 'a total of @ patients with primary knee oa were randomized @:@ ; @ received @ mg/day of prednisolone and @ received placebo for @ weeks .',\n",
              " 'outcome measures included pain reduction and improvement in function scores and systemic inflammation markers .']"
            ]
          },
          "execution_count": 16,
          "metadata": {},
          "output_type": "execute_result"
        }
      ],
      "source": [
        "convert = lambda sentences: sentences.tolist()\n",
        "train_sentences = convert(train_df[\"text\"])\n",
        "val_sentences = convert(val_df[\"text\"])\n",
        "test_sentences = convert(test_df[\"text\"])\n",
        "train_sentences[:3]"
      ]
    },
    {
      "cell_type": "markdown",
      "metadata": {
        "id": "QgpVuhvNFUlc"
      },
      "source": [
        "### Creating Numeric Lables"
      ]
    },
    {
      "cell_type": "code",
      "execution_count": null,
      "metadata": {
        "colab": {
          "base_uri": "https://localhost:8080/"
        },
        "id": "LvQ3bsc4O_Xs",
        "outputId": "45ae655c-ab8e-43b3-eab1-6489f4cc1c9d"
      },
      "outputs": [
        {
          "data": {
            "text/plain": [
              "<tf.Tensor: shape=(180040, 5), dtype=float64, numpy=\n",
              "array([[0., 0., 0., 1., 0.],\n",
              "       [0., 0., 1., 0., 0.],\n",
              "       [0., 0., 1., 0., 0.],\n",
              "       ...,\n",
              "       [0., 0., 0., 0., 1.],\n",
              "       [0., 1., 0., 0., 0.],\n",
              "       [0., 1., 0., 0., 0.]])>"
            ]
          },
          "execution_count": 17,
          "metadata": {},
          "output_type": "execute_result"
        }
      ],
      "source": [
        "#use one-hot encoding (could use label encoding as an alternative as well)\n",
        "from sklearn.preprocessing import OneHotEncoder\n",
        "import tensorflow as tf\n",
        "\n",
        "one_hot_encoder = OneHotEncoder(sparse=False)\n",
        "\n",
        "train_labels_one_hot = one_hot_encoder.fit_transform(train_df[\"target\"] \\\n",
        "                                                     .to_numpy() \\\n",
        "                                                     .reshape(-1, 1))\n",
        "val_labels_one_hot = one_hot_encoder.fit_transform(val_df[\"target\"] \\\n",
        "                                                     .to_numpy() \\\n",
        "                                                     .reshape(-1, 1))\n",
        "test_labels_one_hot = one_hot_encoder.fit_transform(test_df[\"target\"] \\\n",
        "                                                     .to_numpy() \\\n",
        "                                                     .reshape(-1, 1))\n",
        "\n",
        "tf.constant(train_labels_one_hot)"
      ]
    },
    {
      "cell_type": "markdown",
      "metadata": {
        "id": "KRGXGG4GwrjI"
      },
      "source": [
        "### Label Encode Labels"
      ]
    },
    {
      "cell_type": "code",
      "execution_count": null,
      "metadata": {
        "colab": {
          "base_uri": "https://localhost:8080/"
        },
        "id": "v7jMvuKRwvAG",
        "outputId": "41e24f9c-d3cc-4e54-801b-d0dee1886659"
      },
      "outputs": [
        {
          "data": {
            "text/plain": [
              "array([3, 2, 2, 2, 2])"
            ]
          },
          "execution_count": 18,
          "metadata": {},
          "output_type": "execute_result"
        }
      ],
      "source": [
        "#encode the target columns (labels) into integers\n",
        "from sklearn.preprocessing import LabelEncoder\n",
        "label_encoder = LabelEncoder()\n",
        "train_labels_encoded = label_encoder.fit_transform(train_df[\"target\"].to_numpy())\n",
        "val_labels_encoded = label_encoder.fit_transform(val_df[\"target\"].to_numpy())\n",
        "test_labels_encoded = label_encoder.fit_transform(test_df[\"target\"].to_numpy())\n",
        "\n",
        "train_labels_encoded[:5]"
      ]
    },
    {
      "cell_type": "code",
      "execution_count": null,
      "metadata": {
        "colab": {
          "base_uri": "https://localhost:8080/"
        },
        "id": "xbqnmSjKxUOF",
        "outputId": "e6690374-110c-4064-b2ac-c372d7082670"
      },
      "outputs": [
        {
          "data": {
            "text/plain": [
              "array(['BACKGROUND', 'CONCLUSIONS', 'METHODS', 'OBJECTIVE', 'RESULTS'],\n",
              "      dtype=object)"
            ]
          },
          "execution_count": 19,
          "metadata": {},
          "output_type": "execute_result"
        }
      ],
      "source": [
        "class_names = label_encoder.classes_\n",
        "num_classes = len(class_names)\n",
        "class_names"
      ]
    },
    {
      "cell_type": "markdown",
      "metadata": {
        "id": "kzYZBcxxvYIn"
      },
      "source": [
        "## Testing Various Model\n"
      ]
    },
    {
      "cell_type": "markdown",
      "metadata": {
        "id": "O66li5nR0YOy"
      },
      "source": [
        "### Model 1 🤖: Baseline (TF-IDF multinomial Naive Bayes)"
      ]
    },
    {
      "cell_type": "code",
      "execution_count": null,
      "metadata": {
        "colab": {
          "base_uri": "https://localhost:8080/"
        },
        "id": "tfbMBYggGafP",
        "outputId": "9226a847-1a79-4120-8225-0e7c538b907b"
      },
      "outputs": [
        {
          "data": {
            "text/plain": [
              "Pipeline(steps=[('tf-idf', TfidfVectorizer()), ('clf', MultinomialNB())])"
            ]
          },
          "execution_count": 20,
          "metadata": {},
          "output_type": "execute_result"
        }
      ],
      "source": [
        "from pandas.core.reshape.merge import MultiIndex\n",
        "from sklearn.feature_extraction.text import TfidfVectorizer\n",
        "from sklearn.naive_bayes import MultinomialNB\n",
        "from sklearn.pipeline import Pipeline\n",
        "\n",
        "model_1 = Pipeline([\n",
        "    (\"tf-idf\", TfidfVectorizer()),\n",
        "    (\"clf\", MultinomialNB())\n",
        "])\n",
        "\n",
        "model_1.fit(X=train_sentences, y=train_labels_encoded)"
      ]
    },
    {
      "cell_type": "code",
      "execution_count": null,
      "metadata": {
        "colab": {
          "base_uri": "https://localhost:8080/"
        },
        "id": "maOqZysRxsbz",
        "outputId": "cad129d7-8f31-4a74-ddc9-9d3950441a35"
      },
      "outputs": [
        {
          "data": {
            "text/plain": [
              "0.7218323844829869"
            ]
          },
          "execution_count": 21,
          "metadata": {},
          "output_type": "execute_result"
        }
      ],
      "source": [
        "#evaluate baseline on validation set\n",
        "model_1.score(X=val_sentences, y=val_labels_encoded)"
      ]
    },
    {
      "cell_type": "code",
      "execution_count": null,
      "metadata": {
        "id": "139mOCKdzA7o"
      },
      "outputs": [],
      "source": [
        "from sklearn.metrics import accuracy_score, precision_recall_fscore_support\n",
        "def calculate_results(y_true, y_pred):\n",
        "  \"\"\"\n",
        "  Calculates model accuracy, precision, recall and f1 score of a binary classification model.\n",
        "  Args:\n",
        "      y_true: true labels in the form of a 1D array\n",
        "      y_pred: predicted labels in the form of a 1D array\n",
        "  Returns a dictionary of accuracy, precision, recall, f1-score.\n",
        "  \"\"\"\n",
        "  # Calculate model accuracy\n",
        "  model_accuracy = accuracy_score(y_true, y_pred) * 100\n",
        "  # Calculate model precision, recall and f1 score using \"weighted average\n",
        "  model_precision, model_recall, model_f1, _ = precision_recall_fscore_support(y_true, y_pred, average=\"weighted\")\n",
        "  model_results = {\"accuracy\": model_accuracy,\n",
        "                  \"precision\": model_precision,\n",
        "                  \"recall\": model_recall,\n",
        "                  \"f1\": model_f1}\n",
        "  return model_results"
      ]
    },
    {
      "cell_type": "code",
      "execution_count": null,
      "metadata": {
        "colab": {
          "base_uri": "https://localhost:8080/"
        },
        "id": "Q_lLkMniycOB",
        "outputId": "9c3cf3b4-761e-4425-a715-23da9974b682"
      },
      "outputs": [
        {
          "data": {
            "text/plain": [
              "{'accuracy': 72.1832384482987,\n",
              " 'precision': 0.7186466952323352,\n",
              " 'recall': 0.7218323844829869,\n",
              " 'f1': 0.6989250353450294}"
            ]
          },
          "execution_count": 23,
          "metadata": {},
          "output_type": "execute_result"
        }
      ],
      "source": [
        "baseline_preds = model_1.predict(val_sentences)\n",
        "baseline_results = calculate_results(y_true=val_labels_encoded, y_pred=baseline_preds)\n",
        "baseline_results"
      ]
    },
    {
      "cell_type": "markdown",
      "metadata": {
        "id": "jo1VWBFZ6fYO"
      },
      "source": [
        "### Preparing the Text for Deep Sequence Models"
      ]
    },
    {
      "cell_type": "code",
      "execution_count": null,
      "metadata": {
        "colab": {
          "base_uri": "https://localhost:8080/",
          "height": 298
        },
        "id": "kHGmQgbNyhy_",
        "outputId": "080abc14-8a2b-4af2-8927-5f0066700152"
      },
      "outputs": [
        {
          "data": {
            "text/plain": [
              "Text(0.5, 1.0, 'Sentence Length Distribution')"
            ]
          },
          "execution_count": 24,
          "metadata": {},
          "output_type": "execute_result"
        },
        {
          "data": {
            "image/png": "[encoded data removed]",
            "text/plain": [
              "<Figure size 432x288 with 1 Axes>"
            ]
          },
          "metadata": {},
          "output_type": "display_data"
        }
      ],
      "source": [
        "#prepare info for creating embedding and vectorization layers prior to building neural networks\n",
        "\n",
        "import numpy as np\n",
        "import tensorflow as tf\n",
        "from tensorflow.keras import layers\n",
        "import matplotlib.pyplot as plt\n",
        "\n",
        "lengths = [len(x.split(' ')) for x in train_sentences]\n",
        "AVG_SENT_LEN = np.mean(lengths)\n",
        "\n",
        "plt.hist(lengths, bins=20)\n",
        "plt.title(\"Sentence Length Distribution\")"
      ]
    },
    {
      "cell_type": "code",
      "execution_count": null,
      "metadata": {
        "colab": {
          "base_uri": "https://localhost:8080/"
        },
        "id": "gIb5zeQi8_4P",
        "outputId": "08ca9ad4-976f-4e92-9e9c-870410bbf74f"
      },
      "outputs": [
        {
          "data": {
            "text/plain": [
              "55"
            ]
          },
          "execution_count": 25,
          "metadata": {},
          "output_type": "execute_result"
        }
      ],
      "source": [
        "#determine padding cutoff (enough length to fully cover 95% of sentences)\n",
        "\n",
        "seq_len = int(np.percentile(lengths, 95))\n",
        "seq_len"
      ]
    },
    {
      "cell_type": "code",
      "execution_count": null,
      "metadata": {
        "id": "8KxP9b8M_TpM"
      },
      "outputs": [],
      "source": [
        "#vectorizer layer\n",
        "\n",
        "from tensorflow.keras.layers.experimental.preprocessing import TextVectorization\n",
        "\n",
        "max_tokens = 68000 #source: https://arxiv.org/pdf/1710.06071.pdf, table 2\n",
        "text_vectorizer = TextVectorization(max_tokens=max_tokens,\n",
        "                                    output_sequence_length=seq_len)\n",
        "\n",
        "#adapt to training sentences only (prevent data leakage)\n",
        "text_vectorizer.adapt(train_sentences)"
      ]
    },
    {
      "cell_type": "code",
      "execution_count": null,
      "metadata": {
        "colab": {
          "base_uri": "https://localhost:8080/"
        },
        "id": "gbgg0iZ79Qob",
        "outputId": "4b4e7f60-7c6d-493e-af9b-a936b1f8c52c"
      },
      "outputs": [
        {
          "name": "stdout",
          "output_type": "stream",
          "text": [
            "Top 10 Most Common Words:\n",
            " ['', '[UNK]', 'the', 'and', 'of', 'in', 'to', 'with', 'a', 'were']\n",
            "\n",
            "Top 10 Least Common Words:\n",
            " ['aarm', 'aaqol', 'aaq', 'aanhui', 'aana', 'aainduced', 'aaigroup', 'aachener', 'aachen', 'aaacp']\n"
          ]
        }
      ],
      "source": [
        "rct_20k_vocab = text_vectorizer.get_vocabulary()\n",
        "print(f\"Top 10 Most Common Words:\\n {rct_20k_vocab[:10]}\\n\")\n",
        "print(f\"Top 10 Least Common Words:\\n {rct_20k_vocab[-10:]}\")"
      ]
    },
    {
      "cell_type": "code",
      "execution_count": null,
      "metadata": {
        "colab": {
          "base_uri": "https://localhost:8080/"
        },
        "id": "dOO9jKlk6g9Y",
        "outputId": "0849ddc5-d6e0-47d8-c471-53b10c47f56a"
      },
      "outputs": [
        {
          "name": "stdout",
          "output_type": "stream",
          "text": [
            "Sentence:\n",
            " the cv was @ for levobupivacaine and @ for ropivacaine ( p = @ ) .\n",
            "\n",
            "Vectorized Sentence:\n",
            " [[   2 1301   10   11 3033    3   11 1798   14    0    0    0    0    0\n",
            "     0    0    0    0    0    0    0    0    0    0    0    0    0    0\n",
            "     0    0    0    0    0    0    0    0    0    0    0    0    0    0\n",
            "     0    0    0    0    0    0    0    0    0    0    0    0    0]]\n"
          ]
        }
      ],
      "source": [
        "import random\n",
        "target_sentence = random.choice(train_sentences)\n",
        "print(f\"Sentence:\\n {target_sentence}\\n\")\n",
        "print(f\"Vectorized Sentence:\\n {text_vectorizer([target_sentence])}\")"
      ]
    },
    {
      "cell_type": "code",
      "execution_count": null,
      "metadata": {
        "id": "UXSRSFcv69qk"
      },
      "outputs": [],
      "source": [
        "#text embedding \n",
        "token_embed = layers.Embedding(input_dim=len(rct_20k_vocab), #the largest integer in the input should be no larger than the vocab. size\n",
        "                               output_dim=128,\n",
        "                               mask_zero=True, #similar to padding with 0s at the end\n",
        "                               name=\"token_embedding\")"
      ]
    },
    {
      "cell_type": "markdown",
      "metadata": {
        "id": "0nrn8E5sl1tc"
      },
      "source": [
        "### Creating Efficient Data Pipeline\n",
        "\n",
        "https://www.tensorflow.org/guide/data_performance"
      ]
    },
    {
      "cell_type": "code",
      "execution_count": null,
      "metadata": {
        "colab": {
          "base_uri": "https://localhost:8080/"
        },
        "id": "X0o48tfH4UED",
        "outputId": "fd2d8cdd-6ca0-49d6-8f66-13f3dc2517b0"
      },
      "outputs": [
        {
          "data": {
            "text/plain": [
              "<TensorSliceDataset element_spec=(TensorSpec(shape=(), dtype=tf.string, name=None), TensorSpec(shape=(5,), dtype=tf.float64, name=None))>"
            ]
          },
          "execution_count": 30,
          "metadata": {},
          "output_type": "execute_result"
        }
      ],
      "source": [
        "#use tf.data API to turn data to tf datasets (faster via parallel loading at cost of memory)\n",
        "train_dataset = tf.data.Dataset.from_tensor_slices((train_sentences, train_labels_one_hot))\n",
        "val_dataset = tf.data.Dataset.from_tensor_slices((val_sentences, val_labels_one_hot))\n",
        "test_dataset= tf.data.Dataset.from_tensor_slices((test_sentences, test_labels_one_hot))\n",
        "\n",
        "train_dataset"
      ]
    },
    {
      "cell_type": "code",
      "execution_count": null,
      "metadata": {
        "colab": {
          "base_uri": "https://localhost:8080/"
        },
        "id": "70uqS5IjmLXB",
        "outputId": "8d219ac4-2697-4ec6-97b0-f6b01a4cc1fa"
      },
      "outputs": [
        {
          "data": {
            "text/plain": [
              "<PrefetchDataset element_spec=(TensorSpec(shape=(None,), dtype=tf.string, name=None), TensorSpec(shape=(None, 5), dtype=tf.float64, name=None))>"
            ]
          },
          "execution_count": 31,
          "metadata": {},
          "output_type": "execute_result"
        }
      ],
      "source": [
        "train_dataset = train_dataset.batch(32).prefetch(tf.data.AUTOTUNE)\n",
        "val_dataset = val_dataset.batch(32).prefetch(tf.data.AUTOTUNE)\n",
        "test_dataset = test_dataset.batch(32).prefetch(tf.data.AUTOTUNE)\n",
        "\n",
        "train_dataset"
      ]
    },
    {
      "cell_type": "markdown",
      "metadata": {
        "id": "-Mi1J7kAMyhS"
      },
      "source": [
        "### Model 2 🤖: Conv1D With Token Embedding"
      ]
    },
    {
      "cell_type": "code",
      "execution_count": null,
      "metadata": {
        "colab": {
          "base_uri": "https://localhost:8080/"
        },
        "id": "mU81joOBmma1",
        "outputId": "39d67587-ad9a-4c5b-d5ae-34a5d25f8abd"
      },
      "outputs": [
        {
          "name": "stdout",
          "output_type": "stream",
          "text": [
            "Model: \"model\"\n",
            "_________________________________________________________________\n",
            " Layer (type)                Output Shape              Param #   \n",
            "=================================================================\n",
            " input_1 (InputLayer)        [(None, 1)]               0         \n",
            "                                                                 \n",
            " text_vectorization (TextVec  (None, 55)               0         \n",
            " torization)                                                     \n",
            "                                                                 \n",
            " token_embedding (Embedding)  (None, 55, 128)          8299648   \n",
            "                                                                 \n",
            " conv1d (Conv1D)             (None, 55, 64)            41024     \n",
            "                                                                 \n",
            " global_average_pooling1d (G  (None, 64)               0         \n",
            " lobalAveragePooling1D)                                          \n",
            "                                                                 \n",
            " dense (Dense)               (None, 5)                 325       \n",
            "                                                                 \n",
            "=================================================================\n",
            "Total params: 8,340,997\n",
            "Trainable params: 8,340,997\n",
            "Non-trainable params: 0\n",
            "_________________________________________________________________\n"
          ]
        }
      ],
      "source": [
        "#setup model\n",
        "\n",
        "inputs = layers.Input(shape=(1,), dtype=tf.string)\n",
        "text_vectors = text_vectorizer(inputs)\n",
        "token_embedding = token_embed(text_vectors)\n",
        "x = layers.Conv1D(64, kernel_size=5, padding=\"same\", activation=\"relu\")(token_embedding)\n",
        "x = layers.GlobalAveragePooling1D()(x) #condense output of feature vector\n",
        "outputs = layers.Dense(len(class_names), activation=\"softmax\")(x)\n",
        "\n",
        "model_2 = tf.keras.Model(inputs, outputs)\n",
        "model_2.compile(loss=\"categorical_crossentropy\",\n",
        "                optimizer=tf.keras.optimizers.Adam(),\n",
        "                metrics=[\"accuracy\"])\n",
        "\n",
        "model_2.summary()"
      ]
    },
    {
      "cell_type": "code",
      "execution_count": null,
      "metadata": {
        "colab": {
          "base_uri": "https://localhost:8080/"
        },
        "id": "goZ6w6s-NeOa",
        "outputId": "42469ee7-3ea3-4925-b6dc-407516cfd66e"
      },
      "outputs": [
        {
          "name": "stdout",
          "output_type": "stream",
          "text": [
            "Epoch 1/3\n",
            "562/562 [==============================] - 14s 9ms/step - loss: 0.9247 - accuracy: 0.6332 - val_loss: 0.6876 - val_accuracy: 0.7317\n",
            "Epoch 2/3\n",
            "562/562 [==============================] - 5s 9ms/step - loss: 0.6590 - accuracy: 0.7566 - val_loss: 0.6366 - val_accuracy: 0.7696\n",
            "Epoch 3/3\n",
            "562/562 [==============================] - 5s 9ms/step - loss: 0.6168 - accuracy: 0.7750 - val_loss: 0.5976 - val_accuracy: 0.7852\n"
          ]
        }
      ],
      "source": [
        "#fit model (but only look at 10% of batch / epoch)\n",
        "\n",
        "history_model_2 = model_2.fit(train_dataset,\n",
        "                              steps_per_epoch=int(0.1*len(train_dataset)),\n",
        "                              epochs=3,\n",
        "                              validation_data=val_dataset,\n",
        "                              validation_steps=int(0.1*len(val_dataset)))"
      ]
    },
    {
      "cell_type": "code",
      "execution_count": null,
      "metadata": {
        "colab": {
          "base_uri": "https://localhost:8080/"
        },
        "id": "t4zij6-iPE1O",
        "outputId": "7988832e-8602-43ce-c001-23031f26ce1e"
      },
      "outputs": [
        {
          "name": "stdout",
          "output_type": "stream",
          "text": [
            "945/945 [==============================] - 4s 4ms/step - loss: 0.5981 - accuracy: 0.7870\n"
          ]
        },
        {
          "data": {
            "text/plain": [
              "[0.5980997085571289, 0.787038266658783]"
            ]
          },
          "execution_count": 34,
          "metadata": {},
          "output_type": "execute_result"
        }
      ],
      "source": [
        "#model evaluation\n",
        "\n",
        "model_2.evaluate(val_dataset)"
      ]
    },
    {
      "cell_type": "code",
      "execution_count": null,
      "metadata": {
        "colab": {
          "base_uri": "https://localhost:8080/"
        },
        "id": "fieHQ8UnQXST",
        "outputId": "7a31ff01-5d2f-4ea2-fe6f-bdb3a440b72a"
      },
      "outputs": [
        {
          "name": "stdout",
          "output_type": "stream",
          "text": [
            "945/945 [==============================] - 3s 3ms/step\n"
          ]
        },
        {
          "data": {
            "text/plain": [
              "array(['BACKGROUND', 'CONCLUSIONS', 'METHODS', 'OBJECTIVE', 'RESULTS'],\n",
              "      dtype=object)"
            ]
          },
          "execution_count": 35,
          "metadata": {},
          "output_type": "execute_result"
        }
      ],
      "source": [
        "model_2_preds = model_2.predict(val_dataset)\n",
        "conv_model_2_preds = [class_names[max([i for i in range(5)], key=lambda j:pred[j])] for pred in model_2_preds]\n",
        "\n",
        "class_names"
      ]
    },
    {
      "cell_type": "code",
      "execution_count": null,
      "metadata": {
        "colab": {
          "base_uri": "https://localhost:8080/"
        },
        "id": "WNGyblsVQoPz",
        "outputId": "97bf1aa6-7a9c-4a97-94d4-835a0cffb3be"
      },
      "outputs": [
        {
          "data": {
            "text/plain": [
              "['BACKGROUND', 'BACKGROUND', 'OBJECTIVE', 'METHODS', 'RESULTS']"
            ]
          },
          "execution_count": 36,
          "metadata": {},
          "output_type": "execute_result"
        }
      ],
      "source": [
        "conv_model_2_preds[:5]"
      ]
    },
    {
      "cell_type": "code",
      "execution_count": null,
      "metadata": {
        "colab": {
          "base_uri": "https://localhost:8080/"
        },
        "id": "WymNadRNRFEs",
        "outputId": "157ee48b-f845-480c-e908-d064d1ecaaee"
      },
      "outputs": [
        {
          "data": {
            "text/plain": [
              "{'accuracy': 78.70382629418773,\n",
              " 'precision': 0.7844155105263394,\n",
              " 'recall': 0.7870382629418774,\n",
              " 'f1': 0.7845570955528995}"
            ]
          },
          "execution_count": 37,
          "metadata": {},
          "output_type": "execute_result"
        }
      ],
      "source": [
        "model_2_results = calculate_results(val_labels_encoded,\n",
        "                                    tf.argmax(model_2_preds, axis=1))\n",
        "\n",
        "model_2_results"
      ]
    },
    {
      "cell_type": "markdown",
      "metadata": {
        "id": "GpGX3RlxSIVk"
      },
      "source": [
        "### Model 3 🤖: Pretrained Feature Extractor (Conv1D)\n",
        "\n",
        "*   universal sentence encoder v4\n",
        "\n"
      ]
    },
    {
      "cell_type": "code",
      "execution_count": null,
      "metadata": {
        "id": "-IoFp_4kRnN5"
      },
      "outputs": [],
      "source": [
        "import tensorflow_hub as hub\n",
        "\n",
        "extractor_layer = hub.KerasLayer(\"https://tfhub.dev/google/universal-sentence-encoder/4\",\n",
        "                                 trainable=False,\n",
        "                                 name=\"USE\")"
      ]
    },
    {
      "cell_type": "code",
      "execution_count": null,
      "metadata": {
        "colab": {
          "base_uri": "https://localhost:8080/"
        },
        "id": "GO8c4D08R8L6",
        "outputId": "0b5d3ec7-f526-4c41-9c50-ba74680a9d62"
      },
      "outputs": [
        {
          "name": "stdout",
          "output_type": "stream",
          "text": [
            "at the prescribed dosage , the statistical ranking of the four products in terms of increase in whole blood omega-@ fatty acid levels was concentrated rtg fish oil > ee fish oil > triglyceride tg salmon oil > pl krill oil .\n",
            "tf.Tensor(\n",
            "[[-7.01303827e-03 -4.79559079e-02  1.62686370e-02  2.99072247e-02\n",
            "   4.93121222e-02 -2.85431519e-02  2.29812451e-02 -1.77791379e-02\n",
            "   3.93003859e-02  3.28697413e-02  6.62921593e-02  8.18192121e-03\n",
            "  -5.72487488e-02  6.04672320e-02 -6.80142641e-02 -3.19814458e-02\n",
            "  -6.64444566e-02 -6.75076619e-02  6.41486496e-02  3.40847000e-02\n",
            "  -6.71316013e-02  8.88156137e-05 -5.69842160e-02  2.35189348e-02\n",
            "   4.91897911e-02  1.74276643e-02  2.56548990e-02 -9.86408349e-03\n",
            "  -1.43306013e-02 -5.06185442e-02 -6.69874921e-02  6.82244971e-02\n",
            "  -1.96321327e-02 -2.93834955e-02 -4.55642119e-02 -4.39622402e-02\n",
            "  -6.58246949e-02  2.11714320e-02  1.18163647e-03 -3.61287929e-02\n",
            "   5.68068065e-02  6.25003874e-02  1.69753656e-02  2.32772566e-02\n",
            "  -5.49902432e-02 -6.65175840e-02 -3.58636566e-02 -4.66817506e-02\n",
            "  -6.77222013e-02  6.55989908e-03 -4.69822250e-02  7.23439502e-03\n",
            "  -4.94268201e-02 -1.92337912e-02  1.79519095e-02  2.84861978e-02\n",
            "  -3.27162892e-02  8.27341899e-03  2.04923265e-02 -6.53471574e-02\n",
            "   4.07722183e-02 -1.11963172e-02  4.56934273e-02  4.45686430e-02\n",
            "  -5.70518374e-02 -3.53767141e-03  4.53037918e-02  4.81638312e-02\n",
            "  -6.64408803e-02  1.54184243e-02  3.47883329e-02  6.39915019e-02\n",
            "  -7.02617839e-02  6.64320067e-02  3.65546509e-03  2.27824301e-02\n",
            "   5.97344972e-02 -1.56743005e-02  6.39486611e-02 -1.54314088e-02\n",
            "   4.19154651e-02  6.88931495e-02 -1.70416443e-03  4.44674306e-02\n",
            "   1.85103100e-02  4.04401459e-02  4.11281455e-03  5.85506856e-02\n",
            "  -4.75266613e-02 -6.97675124e-02  5.09586446e-02  3.40928847e-04\n",
            "  -3.99848484e-02 -2.16301326e-02 -6.54972047e-02  2.88962629e-02\n",
            "  -1.30575597e-02 -4.12439071e-02 -1.04752639e-02 -5.96494833e-03\n",
            "  -5.47533929e-02  3.46418321e-02  4.45197895e-02 -2.24273950e-02\n",
            "   2.55556423e-02 -4.53088991e-02 -1.45444190e-02  2.79167555e-02\n",
            "  -8.44160188e-03 -3.75773460e-02  4.68077771e-02  9.13096592e-03\n",
            "  -2.04878338e-02  1.61150377e-02  5.23088127e-02 -1.23216202e-02\n",
            "   6.06996939e-02 -8.92185606e-03 -2.83340085e-02  5.99799789e-02\n",
            "   7.02987909e-02  6.12062067e-02 -2.69434620e-02 -3.26586068e-02\n",
            "  -5.96775338e-02  3.77957970e-02  5.74449450e-02  1.11721791e-02\n",
            "  -2.89570959e-03  5.63125387e-02  5.59275672e-02  7.02877641e-02\n",
            "   4.81351130e-02  5.99972792e-02  2.91714165e-02 -4.30544419e-03\n",
            "   4.20989431e-02  2.73535866e-03  1.28430305e-02  5.93348071e-02\n",
            "  -1.49285672e-02  4.21160460e-02 -4.90925089e-02 -2.23182910e-03\n",
            "   5.91706783e-02  9.84838977e-03  5.40688634e-02  2.44046003e-02\n",
            "  -4.20242874e-03 -3.29165272e-02 -3.05737816e-02  2.52598189e-02\n",
            "  -6.08306862e-02 -6.71722740e-02  7.02858716e-02  3.89129482e-02\n",
            "  -6.84291273e-02  6.14556372e-02  6.98862225e-02 -3.96839604e-02\n",
            "   3.15179816e-03 -1.03222076e-02 -3.69604677e-02  4.77414355e-02\n",
            "  -3.32125723e-02 -3.08558475e-02 -5.90565540e-02 -6.73983665e-03\n",
            "   1.69737283e-02 -3.08173969e-02 -1.90438628e-02  5.21766283e-02\n",
            "   1.38207879e-02  1.52533110e-02 -1.57722794e-02  3.93285640e-02\n",
            "  -5.70067950e-02  3.95394824e-02  6.26737922e-02  9.63776652e-03\n",
            "   2.20978018e-02  1.57769844e-02  3.12236156e-02 -5.62129579e-02\n",
            "   4.63626496e-02  2.34606527e-02  6.64714053e-02 -3.86213250e-02\n",
            "  -4.27531786e-02 -2.00863276e-02 -2.88669709e-02 -6.16631880e-02\n",
            "   1.65452976e-02  2.96682809e-02  5.79220876e-02  2.40512490e-02\n",
            "  -4.32455502e-02 -5.26765585e-02 -1.08844345e-03 -2.48018503e-02\n",
            "  -1.03287613e-02 -4.53359522e-02  3.81958596e-02  2.38117054e-02\n",
            "  -6.51014820e-02  1.02012036e-02 -4.82669584e-02  2.73666065e-02\n",
            "  -6.53852299e-02  5.25360778e-02  5.08818254e-02  6.68493137e-02\n",
            "  -1.76095590e-02 -3.62316668e-02 -2.12927014e-02 -2.90822983e-02\n",
            "   5.23243323e-02  4.24130745e-02  3.51996534e-02 -2.58896779e-02\n",
            "   6.50916770e-02  3.60330706e-03  4.29614969e-02 -4.27130423e-02\n",
            "   5.01888692e-02 -2.58794427e-02 -4.05834876e-02  1.37400161e-02\n",
            "  -4.43354845e-02 -7.02644438e-02 -7.53478426e-03  4.07678355e-03\n",
            "   5.32551343e-03 -6.79936707e-02 -2.49147590e-04 -3.62149999e-02\n",
            "   6.21185489e-02 -4.03411984e-02 -6.52955845e-02  2.65672486e-02\n",
            "  -2.00822912e-02  4.19575796e-02 -7.16232043e-03  3.82789634e-02\n",
            "   2.09054258e-02 -4.93827648e-02  6.68725446e-02  6.53613210e-02\n",
            "  -1.48776658e-02 -7.00268969e-02 -9.00294166e-03  3.08183916e-02\n",
            "   4.98855002e-02 -2.37459373e-02  4.32025716e-02  3.27123404e-02\n",
            "  -3.70280035e-02  6.93051070e-02  4.40482162e-02 -6.50059953e-02\n",
            "  -6.05691895e-02 -6.13341369e-02 -6.19052388e-02  6.32794201e-02\n",
            "  -1.85802337e-02  2.83253542e-03  6.28903359e-02  3.38765085e-02\n",
            "  -6.93313032e-02  1.33478800e-02 -2.37749722e-02  7.10575841e-03\n",
            "   2.13949438e-02 -6.90304190e-02  6.85266852e-02  6.96216971e-02\n",
            "   2.91255466e-03 -1.11066224e-02  1.89868938e-02  3.79112437e-02\n",
            "   2.50347294e-02  2.84723770e-02 -6.54828846e-02 -6.53999671e-02\n",
            "  -2.70481836e-02 -5.16286725e-03  8.97093501e-04  5.24819875e-03\n",
            "  -1.22952657e-02 -1.87592655e-02 -3.96722704e-02 -3.97015326e-02\n",
            "   6.98674172e-02 -2.24297475e-02 -5.26006036e-02  2.32542232e-02\n",
            "  -4.44244705e-02 -4.87814844e-02 -6.10449761e-02  5.30208386e-02\n",
            "   3.79080474e-02 -6.95996732e-02  4.20014869e-04 -3.40514444e-02\n",
            "   6.58721998e-02  1.28622549e-02 -4.34258133e-02  4.25960347e-02\n",
            "   2.80768331e-02 -6.84778541e-02  7.01252520e-02 -3.59667689e-02\n",
            "  -9.92178358e-03  5.70788793e-02  6.96387365e-02  3.53434607e-02\n",
            "  -4.97437976e-02 -5.44912033e-02 -5.03961891e-02 -6.94812313e-02\n",
            "  -1.43576087e-02  5.89052867e-03 -2.28152703e-03  6.74781278e-02\n",
            "   5.65949343e-02  7.09451130e-03  3.33599411e-02 -6.24173805e-02\n",
            "  -6.89370185e-02  5.36381453e-02  2.41738874e-02 -5.45141585e-02\n",
            "   5.61040528e-02  2.96836998e-02  2.20899917e-02 -7.01730251e-02\n",
            "  -2.73563601e-02 -5.76196536e-02  5.28087169e-02 -4.49584052e-02\n",
            "  -1.69565417e-02  4.01097685e-02  6.85157329e-02  4.27813753e-02\n",
            "  -2.94239298e-02 -7.03133121e-02  4.00578082e-02  3.46136726e-02\n",
            "  -3.89801688e-03 -2.08426248e-02 -8.70111492e-03 -2.22414117e-02\n",
            "  -6.89732805e-02  5.70088532e-03  5.62198125e-02  4.29148152e-02\n",
            "  -6.67676330e-02  6.86900690e-02  5.53932376e-02  2.18687411e-02\n",
            "   5.72014377e-02 -4.77393642e-02 -4.67445031e-02  3.32468860e-02\n",
            "  -2.94767413e-02 -3.56060788e-02  5.76628372e-02 -1.65218767e-02\n",
            "   5.72257228e-02  4.80183810e-02  6.03101663e-02 -6.07666560e-02\n",
            "  -4.64213565e-02 -7.01769888e-02 -2.67766733e-02  2.86218021e-02\n",
            "  -4.89120111e-02 -1.36644635e-02  1.23042287e-02 -6.37048110e-02\n",
            "  -3.88750806e-02 -3.66977341e-02 -3.81294414e-02  2.69450564e-02\n",
            "  -1.68218352e-02  6.43434897e-02  2.91883685e-02 -1.73463877e-02\n",
            "   5.99490590e-02  7.01405406e-02  5.87840155e-02  4.41778898e-02\n",
            "  -3.21615972e-02 -8.25528172e-04 -6.37565330e-02  4.15793359e-02\n",
            "  -3.09322327e-02  2.02622991e-02  2.26340760e-02 -4.74848934e-02\n",
            "   1.11368597e-02 -6.76191822e-02  4.41045202e-02  5.18646128e-02\n",
            "  -3.34350914e-02 -5.96775897e-02 -2.34134533e-02  4.62875515e-02\n",
            "   5.04994914e-02  6.64788634e-02 -1.34911155e-02  3.42913601e-03\n",
            "   6.05141595e-02 -2.44650096e-02  4.81388643e-02 -6.25208020e-02\n",
            "   6.52150735e-02  5.52541092e-02  6.26568720e-02  6.86543211e-02\n",
            "   6.75045699e-02  5.17979003e-02 -2.62585543e-02 -3.49850692e-02\n",
            "  -2.43060496e-02 -6.72926754e-02  1.41678890e-02  7.68216001e-03\n",
            "  -7.02637341e-03 -2.28423271e-02 -2.91959122e-02  6.67425469e-02\n",
            "  -3.01648919e-02 -6.00999705e-02 -2.17942987e-02 -1.82694141e-02\n",
            "  -5.17886169e-02 -1.56898666e-02  6.99581653e-02 -1.25005664e-02\n",
            "  -2.22651176e-02 -2.03515030e-03 -6.23566173e-02 -3.92005071e-02\n",
            "  -1.99226234e-02 -5.14801554e-02 -5.92731833e-02 -3.52837704e-02\n",
            "   5.04265167e-02 -6.86477646e-02  5.04296720e-02  3.53563912e-02\n",
            "  -3.17928642e-02  5.50305285e-02 -3.83986766e-03 -3.95449251e-02\n",
            "  -7.01367781e-02  6.32867366e-02  6.85467795e-02 -5.53244576e-02\n",
            "   5.78066148e-02 -4.47650328e-02  4.13836502e-02  3.11590284e-02\n",
            "  -5.40335625e-02 -6.20376654e-02 -6.08655177e-02 -5.01945913e-02\n",
            "  -2.44550966e-02  5.76190501e-02 -6.92693368e-02 -3.16067562e-02\n",
            "   3.03532798e-02 -6.84774965e-02 -4.20051739e-02 -3.34964581e-02\n",
            "   2.41027717e-02 -5.85724600e-02  5.27978614e-02  1.00596519e-02\n",
            "   6.84950575e-02  1.68234762e-02 -6.70811385e-02  6.42654300e-03\n",
            "   2.32708845e-02  8.85602552e-03  3.38009968e-02  5.24334759e-02\n",
            "  -6.97818920e-02 -8.73486977e-03  2.78690960e-02  5.69614358e-02\n",
            "   7.24786194e-03  3.93810049e-02 -2.80628018e-02  6.69228956e-02\n",
            "   2.04457510e-02 -6.52124882e-02  1.17637375e-02  6.12809509e-02\n",
            "  -1.36542199e-02 -3.03624701e-02  2.86865495e-02 -6.49044365e-02\n",
            "  -5.83934002e-02 -7.01751560e-02  5.36818020e-02 -6.34192005e-02\n",
            "   3.30942646e-02  6.10739887e-02 -3.09966896e-02 -6.25490546e-02]], shape=(1, 512), dtype=float32)\n"
          ]
        }
      ],
      "source": [
        "#test on arbitrary sentence\n",
        "sentence = random.choice(train_sentences)\n",
        "embedded_sentence = extractor_layer([sentence])\n",
        "print(sentence)\n",
        "print(embedded_sentence)"
      ]
    },
    {
      "cell_type": "code",
      "execution_count": null,
      "metadata": {
        "id": "1aOkoRzdTolo"
      },
      "outputs": [],
      "source": [
        "inputs = layers.Input(shape=[], dtype=tf.string)\n",
        "embedding = extractor_layer(inputs)\n",
        "x = layers.Dense(128, activation=\"relu\")(embedding)\n",
        "x = layers.Dense(64, activation=\"relu\")(x)\n",
        "outputs = layers.Dense(num_classes, activation=\"softmax\")(x)\n",
        "model_3 = tf.keras.Model(inputs=inputs,\n",
        "                         outputs=outputs,\n",
        "                         name=\"USE_feature_extractor\")\n",
        "\n",
        "model_3.compile(loss=\"categorical_crossentropy\",\n",
        "                optimizer=tf.keras.optimizers.Adam(),\n",
        "                metrics=[\"accuracy\"])"
      ]
    },
    {
      "cell_type": "code",
      "execution_count": null,
      "metadata": {
        "colab": {
          "base_uri": "https://localhost:8080/"
        },
        "id": "lCNENaour5Qm",
        "outputId": "37fe8798-64ea-451c-ebe9-56c7cf93e395"
      },
      "outputs": [
        {
          "name": "stdout",
          "output_type": "stream",
          "text": [
            "Epoch 1/3\n",
            "562/562 [==============================] - 11s 16ms/step - loss: 0.8897 - accuracy: 0.6526 - val_loss: 0.7784 - val_accuracy: 0.7028\n",
            "Epoch 2/3\n",
            "562/562 [==============================] - 8s 14ms/step - loss: 0.7422 - accuracy: 0.7117 - val_loss: 0.7129 - val_accuracy: 0.7221\n",
            "Epoch 3/3\n",
            "562/562 [==============================] - 8s 14ms/step - loss: 0.7119 - accuracy: 0.7266 - val_loss: 0.6840 - val_accuracy: 0.7377\n"
          ]
        }
      ],
      "source": [
        "history_model_3 = model_3.fit(train_dataset,\n",
        "                              steps_per_epoch=int(0.1*len(train_dataset)),\n",
        "                              epochs=3,\n",
        "                              validation_data=val_dataset,\n",
        "                              validation_steps=int(0.1*len(val_dataset)))"
      ]
    },
    {
      "cell_type": "code",
      "execution_count": null,
      "metadata": {
        "colab": {
          "base_uri": "https://localhost:8080/"
        },
        "id": "Ts_sj8oYuXQ0",
        "outputId": "0e66dd25-fcd6-4486-f239-5decb81fb5c8"
      },
      "outputs": [
        {
          "name": "stdout",
          "output_type": "stream",
          "text": [
            "945/945 [==============================] - 10s 11ms/step\n"
          ]
        },
        {
          "data": {
            "text/plain": [
              "{'accuracy': 73.37150801006223,\n",
              " 'precision': 0.7353794276995399,\n",
              " 'recall': 0.7337150801006223,\n",
              " 'f1': 0.7331357219055404}"
            ]
          },
          "execution_count": 42,
          "metadata": {},
          "output_type": "execute_result"
        }
      ],
      "source": [
        "model_3_preds = model_3.predict(val_dataset)\n",
        "conv_model_3_preds = [class_names[max([i for i in range(5)], key=lambda j:pred[j])] for pred in model_3_preds]\n",
        "model_3_results = calculate_results(val_labels_encoded,\n",
        "                                    tf.argmax(model_3_preds, axis=1))\n",
        "\n",
        "model_3_results"
      ]
    },
    {
      "cell_type": "markdown",
      "metadata": {
        "id": "C8VAqQY1DHUk"
      },
      "source": [
        "### Model 4 🤖: Character Embeddings (Conv1D)\n",
        "\n",
        "*   The paper being replicated used a combination of character and token/word embeddings\n",
        "*   All previously created embeddings were token embeddings\n",
        "\n",
        "\n",
        "\n"
      ]
    },
    {
      "cell_type": "markdown",
      "metadata": {
        "id": "OwsySXUk40_K"
      },
      "source": [
        "#### Preparing Necessary Layer"
      ]
    },
    {
      "cell_type": "code",
      "execution_count": null,
      "metadata": {
        "colab": {
          "base_uri": "https://localhost:8080/",
          "height": 122
        },
        "id": "yjRmTtBtuhWn",
        "outputId": "934d5096-dc07-4cfd-b443-236a8b896d13"
      },
      "outputs": [
        {
          "data": {
            "application/vnd.google.colaboratory.intrinsic+json": {
              "type": "string"
            },
            "text/plain": [
              "'t o   i n v e s t i g a t e   t h e   e f f i c a c y   o f   @   w e e k s   o f   d a i l y   l o w - d o s e   o r a l   p r e d n i s o l o n e   i n   i m p r o v i n g   p a i n   ,   m o b i l i t y   ,   a n d   s y s t e m i c   l o w - g r a d e   i n f l a m m a t i o n   i n   t h e   s h o r t   t e r m   a n d   w h e t h e r   t h e   e f f e c t   w o u l d   b e   s u s t a i n e d   a t   @   w e e k s   i n   o l d e r   a d u l t s   w i t h   m o d e r a t e   t o   s e v e r e   k n e e   o s t e o a r t h r i t i s   (   o a   )   .'"
            ]
          },
          "execution_count": 43,
          "metadata": {},
          "output_type": "execute_result"
        }
      ],
      "source": [
        "#first we need to create a character level tokenizer\n",
        "\n",
        "split_chars = lambda text: ' '.join(list(text))\n",
        "train_chars = [split_chars(x) for x in train_sentences]\n",
        "val_chars = [split_chars(x) for x in val_sentences]\n",
        "test_chars = [split_chars(x) for x in test_sentences]\n",
        "train_chars[0]"
      ]
    },
    {
      "cell_type": "code",
      "execution_count": null,
      "metadata": {
        "colab": {
          "base_uri": "https://localhost:8080/"
        },
        "id": "atwlyqDMEsDL",
        "outputId": "41d8ae6f-e9a2-4974-a095-8a3ca4bc1672"
      },
      "outputs": [
        {
          "data": {
            "text/plain": [
              "297.7325149966674"
            ]
          },
          "execution_count": 44,
          "metadata": {},
          "output_type": "execute_result"
        }
      ],
      "source": [
        "#average char length (to cut off sentences or pad with 0s)\n",
        "\n",
        "char_len = [len(x) for x in train_chars]\n",
        "avg_char_len = np.mean(char_len)\n",
        "avg_char_len"
      ]
    },
    {
      "cell_type": "code",
      "execution_count": null,
      "metadata": {
        "colab": {
          "base_uri": "https://localhost:8080/",
          "height": 298
        },
        "id": "Hfg3r3KvFdKv",
        "outputId": "21bef29b-2829-416c-ee1d-361351cc7bfb"
      },
      "outputs": [
        {
          "data": {
            "text/plain": [
              "Text(0.5, 1.0, 'Character Length Distribution')"
            ]
          },
          "execution_count": 45,
          "metadata": {},
          "output_type": "execute_result"
        },
        {
          "data": {
            "image/png": "[encoded data removed]",
            "text/plain": [
              "<Figure size 432x288 with 1 Axes>"
            ]
          },
          "metadata": {},
          "output_type": "display_data"
        }
      ],
      "source": [
        "plt.hist(char_len, bins=20)\n",
        "plt.title(\"Character Length Distribution\")"
      ]
    },
    {
      "cell_type": "code",
      "execution_count": null,
      "metadata": {
        "colab": {
          "base_uri": "https://localhost:8080/"
        },
        "id": "b_3EbKVuFsCb",
        "outputId": "ccfa7e48-ecf9-4acc-d3cc-c7e5d6244096"
      },
      "outputs": [
        {
          "data": {
            "text/plain": [
              "579"
            ]
          },
          "execution_count": 46,
          "metadata": {},
          "output_type": "execute_result"
        }
      ],
      "source": [
        "char_len_95 = int(np.percentile(char_len, 95))\n",
        "char_len_95"
      ]
    },
    {
      "cell_type": "code",
      "execution_count": null,
      "metadata": {
        "colab": {
          "base_uri": "https://localhost:8080/",
          "height": 35
        },
        "id": "nS2eHKCXF1sY",
        "outputId": "5d1c12e3-5bc5-4e8d-e059-672347504baf"
      },
      "outputs": [
        {
          "data": {
            "application/vnd.google.colaboratory.intrinsic+json": {
              "type": "string"
            },
            "text/plain": [
              "'abcdefghijklmnopqrstuvwxyz0123456789!\"#$%&\\'()*+,-./:;<=>?@[\\\\]^_`{|}~ U'"
            ]
          },
          "execution_count": 47,
          "metadata": {},
          "output_type": "execute_result"
        }
      ],
      "source": [
        "#all keyboard chars\n",
        "import string\n",
        "all_chars = string.ascii_lowercase + string.digits + string.punctuation + ' ' + 'U' #include space and unkown chars\n",
        "all_chars"
      ]
    },
    {
      "cell_type": "code",
      "execution_count": null,
      "metadata": {
        "id": "ng1KKbIuHbDp"
      },
      "outputs": [],
      "source": [
        "CHAR_TOKENS_LENGTH = len(all_chars)\n",
        "char_vectorizer = TextVectorization(max_tokens=CHAR_TOKENS_LENGTH,\n",
        "                                    output_sequence_length=char_len_95,\n",
        "                                    name=\"char_vectorizer\")\n",
        "char_vectorizer.adapt(train_chars)"
      ]
    },
    {
      "cell_type": "code",
      "execution_count": null,
      "metadata": {
        "colab": {
          "base_uri": "https://localhost:8080/"
        },
        "id": "hnesQlzXIVlL",
        "outputId": "a7be531e-7c98-4c7e-b647-a3ca54c70781"
      },
      "outputs": [
        {
          "data": {
            "text/plain": [
              "<tf.Tensor: shape=(1, 579), dtype=int64, numpy=\n",
              "array([[ 3, 13,  2, 18,  8,  7, 16, 14,  9, 20,  2,  8,  2, 15,  5,  3,\n",
              "        11, 13,  2, 10, 17,  7,  8,  5, 18,  2,  3,  4, 15,  2,  3,  7,\n",
              "         9, 16,  8, 18,  2,  8, 19,  4,  6, 27, 16,  8, 19, 15,  2, 11,\n",
              "        13,  5,  6,  4,  9, 15,  5,  6, 10,  3, 19, 14,  2,  7, 17,  9,\n",
              "        16,  8, 18,  2,  8, 19,  0,  0,  0,  0,  0,  0,  0,  0,  0,  0,\n",
              "         0,  0,  0,  0,  0,  0,  0,  0,  0,  0,  0,  0,  0,  0,  0,  0,\n",
              "         0,  0,  0,  0,  0,  0,  0,  0,  0,  0,  0,  0,  0,  0,  0,  0,\n",
              "         0,  0,  0,  0,  0,  0,  0,  0,  0,  0,  0,  0,  0,  0,  0,  0,\n",
              "         0,  0,  0,  0,  0,  0,  0,  0,  0,  0,  0,  0,  0,  0,  0,  0,\n",
              "         0,  0,  0,  0,  0,  0,  0,  0,  0,  0,  0,  0,  0,  0,  0,  0,\n",
              "         0,  0,  0,  0,  0,  0,  0,  0,  0,  0,  0,  0,  0,  0,  0,  0,\n",
              "         0,  0,  0,  0,  0,  0,  0,  0,  0,  0,  0,  0,  0,  0,  0,  0,\n",
              "         0,  0,  0,  0,  0,  0,  0,  0,  0,  0,  0,  0,  0,  0,  0,  0,\n",
              "         0,  0,  0,  0,  0,  0,  0,  0,  0,  0,  0,  0,  0,  0,  0,  0,\n",
              "         0,  0,  0,  0,  0,  0,  0,  0,  0,  0,  0,  0,  0,  0,  0,  0,\n",
              "         0,  0,  0,  0,  0,  0,  0,  0,  0,  0,  0,  0,  0,  0,  0,  0,\n",
              "         0,  0,  0,  0,  0,  0,  0,  0,  0,  0,  0,  0,  0,  0,  0,  0,\n",
              "         0,  0,  0,  0,  0,  0,  0,  0,  0,  0,  0,  0,  0,  0,  0,  0,\n",
              "         0,  0,  0,  0,  0,  0,  0,  0,  0,  0,  0,  0,  0,  0,  0,  0,\n",
              "         0,  0,  0,  0,  0,  0,  0,  0,  0,  0,  0,  0,  0,  0,  0,  0,\n",
              "         0,  0,  0,  0,  0,  0,  0,  0,  0,  0,  0,  0,  0,  0,  0,  0,\n",
              "         0,  0,  0,  0,  0,  0,  0,  0,  0,  0,  0,  0,  0,  0,  0,  0,\n",
              "         0,  0,  0,  0,  0,  0,  0,  0,  0,  0,  0,  0,  0,  0,  0,  0,\n",
              "         0,  0,  0,  0,  0,  0,  0,  0,  0,  0,  0,  0,  0,  0,  0,  0,\n",
              "         0,  0,  0,  0,  0,  0,  0,  0,  0,  0,  0,  0,  0,  0,  0,  0,\n",
              "         0,  0,  0,  0,  0,  0,  0,  0,  0,  0,  0,  0,  0,  0,  0,  0,\n",
              "         0,  0,  0,  0,  0,  0,  0,  0,  0,  0,  0,  0,  0,  0,  0,  0,\n",
              "         0,  0,  0,  0,  0,  0,  0,  0,  0,  0,  0,  0,  0,  0,  0,  0,\n",
              "         0,  0,  0,  0,  0,  0,  0,  0,  0,  0,  0,  0,  0,  0,  0,  0,\n",
              "         0,  0,  0,  0,  0,  0,  0,  0,  0,  0,  0,  0,  0,  0,  0,  0,\n",
              "         0,  0,  0,  0,  0,  0,  0,  0,  0,  0,  0,  0,  0,  0,  0,  0,\n",
              "         0,  0,  0,  0,  0,  0,  0,  0,  0,  0,  0,  0,  0,  0,  0,  0,\n",
              "         0,  0,  0,  0,  0,  0,  0,  0,  0,  0,  0,  0,  0,  0,  0,  0,\n",
              "         0,  0,  0,  0,  0,  0,  0,  0,  0,  0,  0,  0,  0,  0,  0,  0,\n",
              "         0,  0,  0,  0,  0,  0,  0,  0,  0,  0,  0,  0,  0,  0,  0,  0,\n",
              "         0,  0,  0,  0,  0,  0,  0,  0,  0,  0,  0,  0,  0,  0,  0,  0,\n",
              "         0,  0,  0]])>"
            ]
          },
          "execution_count": 49,
          "metadata": {},
          "output_type": "execute_result"
        }
      ],
      "source": [
        "random_train_chars = random.choice(train_chars)\n",
        "vectorized_chars = char_vectorizer([random_train_chars])\n",
        "vectorized_chars"
      ]
    },
    {
      "cell_type": "code",
      "execution_count": null,
      "metadata": {
        "id": "RDITpNyIINs2"
      },
      "outputs": [],
      "source": [
        "#creating character level embedding\n",
        "char_embed = layers.Embedding(input_dim=len(all_chars),\n",
        "                              output_dim=25, #output dim in paper\n",
        "                              mask_zero=True,\n",
        "                              name=\"char_embed\")"
      ]
    },
    {
      "cell_type": "code",
      "execution_count": null,
      "metadata": {
        "colab": {
          "base_uri": "https://localhost:8080/"
        },
        "id": "y_C1UYWd7V03",
        "outputId": "8c2d59af-b09f-46a5-a39e-52d9de5ac998"
      },
      "outputs": [
        {
          "name": "stdout",
          "output_type": "stream",
          "text": [
            "charified text:\n",
            " t h e   @   g r o u p s   w e r e   m a t c h e d   f o r   a g e   ,   t i m e   t o   s u r g e r y   ,   i n j u r y   m e c h a n i s m   ,   a n d   t y p e   o f   s u r g e r y   .\n",
            "\n",
            "embeded text:\n",
            " [[[-0.01752987 -0.03597971 -0.03649855 ... -0.00120698  0.00957365\n",
            "   -0.02593583]\n",
            "  [ 0.03872732  0.0131963   0.03867507 ...  0.01800362  0.04491712\n",
            "    0.036173  ]\n",
            "  [ 0.00826149 -0.03198946 -0.00743727 ... -0.00175805 -0.02386551\n",
            "   -0.04119539]\n",
            "  ...\n",
            "  [ 0.00236304  0.0443601   0.03722593 ... -0.01542373 -0.0433775\n",
            "    0.04072488]\n",
            "  [ 0.00236304  0.0443601   0.03722593 ... -0.01542373 -0.0433775\n",
            "    0.04072488]\n",
            "  [ 0.00236304  0.0443601   0.03722593 ... -0.01542373 -0.0433775\n",
            "    0.04072488]]]\n",
            "\n"
          ]
        },
        {
          "data": {
            "text/plain": [
              "TensorShape([1, 579, 25])"
            ]
          },
          "execution_count": 51,
          "metadata": {},
          "output_type": "execute_result"
        }
      ],
      "source": [
        "print(f\"charified text:\\n {random_train_chars}\\n\")\n",
        "embed = char_embed(char_vectorizer([random_train_chars]))\n",
        "print(f\"embeded text:\\n {embed}\\n\")\n",
        "embed.shape"
      ]
    },
    {
      "cell_type": "markdown",
      "metadata": {
        "id": "J7dY6wB645-K"
      },
      "source": [
        "#### Building the Model"
      ]
    },
    {
      "cell_type": "code",
      "execution_count": null,
      "metadata": {
        "id": "4H-Y40J67hTt"
      },
      "outputs": [],
      "source": [
        "inputs = layers.Input(shape=(1,), dtype=\"string\")\n",
        "char_vectors = char_vectorizer(inputs)\n",
        "char_embeddings = char_embed(char_vectors)\n",
        "x = layers.Conv1D(64, kernel_size=7, padding=\"same\", activation=\"relu\")(char_embeddings)\n",
        "x = layers.GlobalMaxPooling1D()(x)\n",
        "outputs = layers.Dense(num_classes, activation=\"softmax\")(x)\n",
        "\n",
        "model_4 = tf.keras.Model(inputs,outputs)"
      ]
    },
    {
      "cell_type": "code",
      "execution_count": null,
      "metadata": {
        "id": "GOeoUfYk1XS7"
      },
      "outputs": [],
      "source": [
        "model_4.compile(loss=\"categorical_crossentropy\",\n",
        "                optimizer=tf.keras.optimizers.Adam(),\n",
        "                metrics=[\"accuracy\"])\n"
      ]
    },
    {
      "cell_type": "code",
      "execution_count": null,
      "metadata": {
        "colab": {
          "base_uri": "https://localhost:8080/"
        },
        "id": "zMy1yc081vGC",
        "outputId": "cd994930-79ca-41a9-f5d6-eed9d5e67fc7"
      },
      "outputs": [
        {
          "name": "stdout",
          "output_type": "stream",
          "text": [
            "Model: \"model_1\"\n",
            "_________________________________________________________________\n",
            " Layer (type)                Output Shape              Param #   \n",
            "=================================================================\n",
            " input_3 (InputLayer)        [(None, 1)]               0         \n",
            "                                                                 \n",
            " char_vectorizer (TextVector  (None, 579)              0         \n",
            " ization)                                                        \n",
            "                                                                 \n",
            " char_embed (Embedding)      (None, 579, 25)           1750      \n",
            "                                                                 \n",
            " conv1d_1 (Conv1D)           (None, 579, 64)           11264     \n",
            "                                                                 \n",
            " global_max_pooling1d (Globa  (None, 64)               0         \n",
            " lMaxPooling1D)                                                  \n",
            "                                                                 \n",
            " dense_4 (Dense)             (None, 5)                 325       \n",
            "                                                                 \n",
            "=================================================================\n",
            "Total params: 13,339\n",
            "Trainable params: 13,339\n",
            "Non-trainable params: 0\n",
            "_________________________________________________________________\n"
          ]
        }
      ],
      "source": [
        "model_4.summary()"
      ]
    },
    {
      "cell_type": "code",
      "execution_count": null,
      "metadata": {
        "colab": {
          "base_uri": "https://localhost:8080/"
        },
        "id": "-lUgF28z1wEQ",
        "outputId": "485b3ea6-168a-4c91-962c-fd77838ba296"
      },
      "outputs": [
        {
          "data": {
            "text/plain": [
              "<PrefetchDataset element_spec=(TensorSpec(shape=(None,), dtype=tf.string, name=None), TensorSpec(shape=(None, 5), dtype=tf.float64, name=None))>"
            ]
          },
          "execution_count": 55,
          "metadata": {},
          "output_type": "execute_result"
        }
      ],
      "source": [
        "#char level datasets\n",
        "train_char_dataset = tf.data.Dataset.from_tensor_slices((train_chars, train_labels_one_hot)).batch(32).prefetch(tf.data.AUTOTUNE)\n",
        "val_char_dataset = tf.data.Dataset.from_tensor_slices((val_chars, val_labels_one_hot)).batch(32).prefetch(tf.data.AUTOTUNE)\n",
        "test_char_dataset = tf.data.Dataset.from_tensor_slices((test_chars, test_labels_one_hot)).batch(32).prefetch(tf.data.AUTOTUNE)\n",
        "\n",
        "train_char_dataset"
      ]
    },
    {
      "cell_type": "code",
      "execution_count": null,
      "metadata": {
        "colab": {
          "base_uri": "https://localhost:8080/"
        },
        "id": "2tHjn63X2WZT",
        "outputId": "f74a3957-2551-4bf9-d0d0-94c33c232522"
      },
      "outputs": [
        {
          "name": "stdout",
          "output_type": "stream",
          "text": [
            "Epoch 1/3\n",
            "562/562 [==============================] - 4s 7ms/step - loss: 1.2348 - accuracy: 0.4957 - val_loss: 1.0229 - val_accuracy: 0.6041\n",
            "Epoch 2/3\n",
            "562/562 [==============================] - 3s 6ms/step - loss: 0.9761 - accuracy: 0.6178 - val_loss: 0.9020 - val_accuracy: 0.6572\n",
            "Epoch 3/3\n",
            "562/562 [==============================] - 3s 6ms/step - loss: 0.8934 - accuracy: 0.6534 - val_loss: 0.8403 - val_accuracy: 0.6745\n"
          ]
        }
      ],
      "source": [
        "model_4_history = model_4.fit(train_char_dataset,\n",
        "                              steps_per_epoch=int(0.1*(len(train_char_dataset))),\n",
        "                              epochs=3,\n",
        "                              validation_data=val_char_dataset,\n",
        "                              validation_steps=int(0.1*len(val_char_dataset)))"
      ]
    },
    {
      "cell_type": "code",
      "execution_count": null,
      "metadata": {
        "colab": {
          "base_uri": "https://localhost:8080/"
        },
        "id": "AFfqS8Xq7TZb",
        "outputId": "6c1f85b6-8148-4d1e-9baf-ce2b2b8bf394"
      },
      "outputs": [
        {
          "name": "stdout",
          "output_type": "stream",
          "text": [
            "945/945 [==============================] - 3s 3ms/step\n"
          ]
        },
        {
          "data": {
            "text/plain": [
              "<tf.Tensor: shape=(30212,), dtype=int64, numpy=array([1, 1, 3, ..., 4, 2, 0])>"
            ]
          },
          "execution_count": 57,
          "metadata": {},
          "output_type": "execute_result"
        }
      ],
      "source": [
        "model_4_pred_probs = model_4.predict(val_char_dataset)\n",
        "model_4_preds = tf.argmax(model_4_pred_probs, axis=1)\n",
        "model_4_preds"
      ]
    },
    {
      "cell_type": "code",
      "execution_count": null,
      "metadata": {
        "colab": {
          "base_uri": "https://localhost:8080/"
        },
        "id": "yXGpQ4Cz4B93",
        "outputId": "fa732ced-18ed-4f2e-d622-b59a90db8f16"
      },
      "outputs": [
        {
          "data": {
            "text/plain": [
              "{'accuracy': 66.8012710181385,\n",
              " 'precision': 0.6640764509043318,\n",
              " 'recall': 0.6680127101813849,\n",
              " 'f1': 0.6588984694567125}"
            ]
          },
          "execution_count": 58,
          "metadata": {},
          "output_type": "execute_result"
        }
      ],
      "source": [
        "model_4_results = calculate_results(y_true=val_labels_encoded,\n",
        "                                    y_pred=model_4_preds)\n",
        "\n",
        "model_4_results"
      ]
    },
    {
      "cell_type": "markdown",
      "metadata": {
        "id": "8ImdqjJKsUZa"
      },
      "source": [
        "### Model 5 🤖: Combining Pretrained Token Embeddings and Character Embeddings (hybrid embedding layer)"
      ]
    },
    {
      "cell_type": "code",
      "execution_count": null,
      "metadata": {
        "id": "GNoVTJ9s7RTk"
      },
      "outputs": [],
      "source": [
        "#1. Create a token-level embedding model\n",
        "token_inputs = layers.Input(shape=[], dtype=tf.string, name=\"token_input\")\n",
        "token_embeddings = extractor_layer(token_inputs) #from model 3\n",
        "token_outputs = layers.Dense(300, activation=\"relu\")(token_embeddings)\n",
        "token_model = tf.keras.Model(token_inputs, token_outputs)"
      ]
    },
    {
      "cell_type": "code",
      "execution_count": null,
      "metadata": {
        "id": "JfgYudfAuJC9"
      },
      "outputs": [],
      "source": [
        "#2. Create a character level-model (similar to model 4 with slight modifications)\n",
        "char_inputs = layers.Input(shape=(1,), dtype=tf.string, name=\"char_inputs\")\n",
        "char_vectors = char_vectorizer(char_inputs)\n",
        "char_embeddings = char_embed(char_vectors)\n",
        "char_bilstm = layers.Bidirectional(layers.LSTM(25))(char_embeddings)\n",
        "char_model = tf.keras.Model(char_inputs, char_bilstm)"
      ]
    },
    {
      "cell_type": "code",
      "execution_count": null,
      "metadata": {
        "id": "tdvHMDYWu5Gd"
      },
      "outputs": [],
      "source": [
        "#3. we wish to concatenate the output of both models via layers.Concatenate\n",
        "token_char_concat = layers.Concatenate(name=\"token_char_hybrid\")([token_model.output,\n",
        "                                                                  char_model.output])"
      ]
    },
    {
      "cell_type": "code",
      "execution_count": null,
      "metadata": {
        "id": "CXIoSRydwdfe"
      },
      "outputs": [],
      "source": [
        "#4. build a sequence of output layers\n",
        "#randomly sets input units to 0 with a frequency of rate at each step during training time, which helps prevent overfitting. \n",
        "combined_dropout = layers.Dropout(0.5)(token_char_concat)\n",
        "combined_dense = layers.Dense(128, activation=\"relu\")(combined_dropout)\n",
        "final_dropout = layers.Dropout(0.5)(combined_dense)\n",
        "output_layer = layers.Dense(num_classes, activation=\"softmax\")(final_dropout)"
      ]
    },
    {
      "cell_type": "code",
      "execution_count": null,
      "metadata": {
        "colab": {
          "base_uri": "https://localhost:8080/"
        },
        "id": "kEsBaAGd2FsA",
        "outputId": "57cdfd0a-e400-4381-ede9-ed4cc8775a50"
      },
      "outputs": [
        {
          "name": "stdout",
          "output_type": "stream",
          "text": [
            "Model: \"model_4\"\n",
            "__________________________________________________________________________________________________\n",
            " Layer (type)                   Output Shape         Param #     Connected to                     \n",
            "==================================================================================================\n",
            " char_inputs (InputLayer)       [(None, 1)]          0           []                               \n",
            "                                                                                                  \n",
            " token_input (InputLayer)       [(None,)]            0           []                               \n",
            "                                                                                                  \n",
            " char_vectorizer (TextVectoriza  (None, 579)         0           ['char_inputs[0][0]']            \n",
            " tion)                                                                                            \n",
            "                                                                                                  \n",
            " USE (KerasLayer)               (None, 512)          256797824   ['token_input[0][0]']            \n",
            "                                                                                                  \n",
            " char_embed (Embedding)         (None, 579, 25)      1750        ['char_vectorizer[1][0]']        \n",
            "                                                                                                  \n",
            " dense_5 (Dense)                (None, 300)          153900      ['USE[1][0]']                    \n",
            "                                                                                                  \n",
            " bidirectional (Bidirectional)  (None, 50)           10200       ['char_embed[1][0]']             \n",
            "                                                                                                  \n",
            " token_char_hybrid (Concatenate  (None, 350)         0           ['dense_5[0][0]',                \n",
            " )                                                                'bidirectional[0][0]']          \n",
            "                                                                                                  \n",
            " dropout (Dropout)              (None, 350)          0           ['token_char_hybrid[0][0]']      \n",
            "                                                                                                  \n",
            " dense_6 (Dense)                (None, 128)          44928       ['dropout[0][0]']                \n",
            "                                                                                                  \n",
            " dropout_1 (Dropout)            (None, 128)          0           ['dense_6[0][0]']                \n",
            "                                                                                                  \n",
            " dense_7 (Dense)                (None, 5)            645         ['dropout_1[0][0]']              \n",
            "                                                                                                  \n",
            "==================================================================================================\n",
            "Total params: 257,009,247\n",
            "Trainable params: 211,423\n",
            "Non-trainable params: 256,797,824\n",
            "__________________________________________________________________________________________________\n"
          ]
        }
      ],
      "source": [
        "#5. construct model which takes token and character-level sequences as input and produces sequence label probabilities \n",
        "model_5 = tf.keras.Model(inputs=[token_model.input, char_model.input],\n",
        "                         outputs=output_layer)\n",
        "\n",
        "model_5.summary()"
      ]
    },
    {
      "cell_type": "code",
      "execution_count": null,
      "metadata": {
        "colab": {
          "base_uri": "https://localhost:8080/",
          "height": 856
        },
        "id": "Qf5uWIOe4Fpd",
        "outputId": "e12fea8d-258a-424f-c64d-7c381da1e5b9"
      },
      "outputs": [
        {
          "data": {
            "image/png": "[encoded data removed]",
            "text/plain": [
              "<IPython.core.display.Image object>"
            ]
          },
          "execution_count": 64,
          "metadata": {},
          "output_type": "execute_result"
        }
      ],
      "source": [
        "#Plot hybrid model\n",
        "from keras.utils import plot_model\n",
        "plot_model(model_5)"
      ]
    },
    {
      "cell_type": "code",
      "execution_count": null,
      "metadata": {
        "colab": {
          "base_uri": "https://localhost:8080/"
        },
        "id": "pzFc5zau0nOH",
        "outputId": "02bfc973-126e-425a-a47e-805d38861437"
      },
      "outputs": [
        {
          "data": {
            "text/plain": [
              "<PrefetchDataset element_spec=((TensorSpec(shape=(None,), dtype=tf.string, name=None), TensorSpec(shape=(None,), dtype=tf.string, name=None)), TensorSpec(shape=(None, 5), dtype=tf.float64, name=None))>"
            ]
          },
          "execution_count": 65,
          "metadata": {},
          "output_type": "execute_result"
        }
      ],
      "source": [
        "#combine token and character data into tf.data Dataset\n",
        "train_token_char_data = tf.data.Dataset.from_tensor_slices((train_sentences, train_chars)) #make sure grouping is in same order that input is passed\n",
        "train_token_char_labels = tf.data.Dataset.from_tensor_slices(train_labels_one_hot)\n",
        "train_char_token_dataset = tf.data.Dataset.zip((train_token_char_data, train_token_char_labels))\n",
        "train_char_token_dataset = train_char_token_dataset.batch(32).prefetch(tf.data.AUTOTUNE)\n",
        "\n",
        "val_token_char_data = tf.data.Dataset.from_tensor_slices((val_sentences, val_chars))\n",
        "val_token_char_labels = tf.data.Dataset.from_tensor_slices(val_labels_one_hot)\n",
        "val_char_token_dataset = tf.data.Dataset.zip((val_token_char_data, val_token_char_labels))\n",
        "val_char_token_dataset = val_char_token_dataset.batch(32).prefetch(tf.data.AUTOTUNE)\n",
        "\n",
        "test_token_char_data = tf.data.Dataset.from_tensor_slices((test_sentences, test_chars))\n",
        "test_token_char_labels = tf.data.Dataset.from_tensor_slices(test_labels_one_hot)\n",
        "test_char_token_dataset = tf.data.Dataset.zip((test_token_char_data, test_token_char_labels))\n",
        "test_char_token_dataset = test_char_token_dataset.batch(32).prefetch(tf.data.AUTOTUNE)\n",
        "\n",
        "train_char_token_dataset"
      ]
    },
    {
      "cell_type": "code",
      "execution_count": null,
      "metadata": {
        "id": "X-taksET75cj"
      },
      "outputs": [],
      "source": [
        "model_5.compile(loss=tf.keras.losses.CategoricalCrossentropy(label_smoothing=0.2), # add label smoothing (examples which are really confident get smoothed a little)\n",
        "                optimizer=tf.keras.optimizers.Adam(),\n",
        "                metrics=[\"accuracy\"])\n",
        "     "
      ]
    },
    {
      "cell_type": "code",
      "execution_count": null,
      "metadata": {
        "colab": {
          "base_uri": "https://localhost:8080/"
        },
        "id": "A4oBkuHrtvSM",
        "outputId": "a9e2f30f-a327-4f98-b63d-d4c8fa8068a4"
      },
      "outputs": [
        {
          "name": "stdout",
          "output_type": "stream",
          "text": [
            "Epoch 1/3\n",
            "562/562 [==============================] - 46s 67ms/step - loss: 1.2105 - accuracy: 0.6343 - val_loss: 1.0984 - val_accuracy: 0.7201\n",
            "Epoch 2/3\n",
            "562/562 [==============================] - 33s 60ms/step - loss: 1.1210 - accuracy: 0.7051 - val_loss: 1.0661 - val_accuracy: 0.7407\n",
            "Epoch 3/3\n",
            "562/562 [==============================] - 29s 51ms/step - loss: 1.1045 - accuracy: 0.7192 - val_loss: 1.0500 - val_accuracy: 0.7530\n"
          ]
        }
      ],
      "source": [
        "history_model_5 = model_5.fit(train_char_token_dataset,\n",
        "                              steps_per_epoch=int(0.1*len(train_char_token_dataset)),\n",
        "                              epochs=3,\n",
        "                              validation_data=val_char_token_dataset,\n",
        "                              validation_steps=int(0.1*len(val_char_token_dataset)))"
      ]
    },
    {
      "cell_type": "code",
      "execution_count": null,
      "metadata": {
        "colab": {
          "base_uri": "https://localhost:8080/"
        },
        "id": "f6L4Y4f17mCA",
        "outputId": "cd8a7342-e8cb-430f-ca1f-952472d9226c"
      },
      "outputs": [
        {
          "name": "stdout",
          "output_type": "stream",
          "text": [
            "945/945 [==============================] - 24s 26ms/step - loss: 1.0536 - accuracy: 0.7467\n"
          ]
        },
        {
          "data": {
            "text/plain": [
              "[1.0536212921142578, 0.7467231750488281]"
            ]
          },
          "execution_count": 68,
          "metadata": {},
          "output_type": "execute_result"
        }
      ],
      "source": [
        "model_5.evaluate(val_char_token_dataset)"
      ]
    },
    {
      "cell_type": "code",
      "execution_count": null,
      "metadata": {
        "colab": {
          "base_uri": "https://localhost:8080/"
        },
        "id": "j2AoGH2F8nZf",
        "outputId": "3f2ad72b-dc3e-4303-825d-4d6fbed5168d"
      },
      "outputs": [
        {
          "name": "stdout",
          "output_type": "stream",
          "text": [
            "945/945 [==============================] - 34s 32ms/step\n"
          ]
        }
      ],
      "source": [
        "model_5_pred_probs = model_5.predict(val_char_token_dataset)"
      ]
    },
    {
      "cell_type": "code",
      "execution_count": null,
      "metadata": {
        "colab": {
          "base_uri": "https://localhost:8080/"
        },
        "id": "e2lHtCld9N32",
        "outputId": "17a53d39-32bc-4dec-8df1-5b437e3fd32a"
      },
      "outputs": [
        {
          "data": {
            "text/plain": [
              "<tf.Tensor: shape=(30212,), dtype=int64, numpy=array([0, 1, 3, ..., 4, 4, 1])>"
            ]
          },
          "execution_count": 70,
          "metadata": {},
          "output_type": "execute_result"
        }
      ],
      "source": [
        "model_5_preds = tf.argmax(model_5_pred_probs, axis=1)\n",
        "model_5_preds"
      ]
    },
    {
      "cell_type": "code",
      "execution_count": null,
      "metadata": {
        "colab": {
          "base_uri": "https://localhost:8080/"
        },
        "id": "uXZdvbBx9rPL",
        "outputId": "fa6f3f4e-4646-47af-ea52-4f526a51fcee"
      },
      "outputs": [
        {
          "data": {
            "text/plain": [
              "{'accuracy': 74.67231563617106,\n",
              " 'precision': 0.7433095742534551,\n",
              " 'recall': 0.7467231563617106,\n",
              " 'f1': 0.7433238486579623}"
            ]
          },
          "execution_count": 71,
          "metadata": {},
          "output_type": "execute_result"
        }
      ],
      "source": [
        "model_5_results = calculate_results(val_labels_encoded, model_5_preds)\n",
        "model_5_results"
      ]
    },
    {
      "cell_type": "markdown",
      "metadata": {
        "id": "4I2dEHFf-Z0P"
      },
      "source": [
        "### Model 6 🤖: Combining Pretrained Token Embeddings, Character Embeddings, and Positional Embeddings (hybrid embedding layer and feature engineering)"
      ]
    },
    {
      "cell_type": "code",
      "execution_count": null,
      "metadata": {
        "colab": {
          "base_uri": "https://localhost:8080/",
          "height": 206
        },
        "id": "w561R2iV9wvT",
        "outputId": "06a3ab26-3c16-4d2d-e2cb-1ca965c2904f"
      },
      "outputs": [
        {
          "data": {
            "text/html": [
              "\n",
              "  <div id=\"df-cd5bca1d-7970-483f-9941-3c9fde1cc03d\">\n",
              "    <div class=\"colab-df-container\">\n",
              "      <div>\n",
              "<style scoped>\n",
              "    .dataframe tbody tr th:only-of-type {\n",
              "        vertical-align: middle;\n",
              "    }\n",
              "\n",
              "    .dataframe tbody tr th {\n",
              "        vertical-align: top;\n",
              "    }\n",
              "\n",
              "    .dataframe thead th {\n",
              "        text-align: right;\n",
              "    }\n",
              "</style>\n",
              "<table border=\"1\" class=\"dataframe\">\n",
              "  <thead>\n",
              "    <tr style=\"text-align: right;\">\n",
              "      <th></th>\n",
              "      <th>line_number</th>\n",
              "      <th>target</th>\n",
              "      <th>text</th>\n",
              "      <th>total_lines</th>\n",
              "    </tr>\n",
              "  </thead>\n",
              "  <tbody>\n",
              "    <tr>\n",
              "      <th>0</th>\n",
              "      <td>1</td>\n",
              "      <td>OBJECTIVE</td>\n",
              "      <td>to investigate the efficacy of @ weeks of dail...</td>\n",
              "      <td>12</td>\n",
              "    </tr>\n",
              "    <tr>\n",
              "      <th>1</th>\n",
              "      <td>2</td>\n",
              "      <td>METHODS</td>\n",
              "      <td>a total of @ patients with primary knee oa wer...</td>\n",
              "      <td>12</td>\n",
              "    </tr>\n",
              "    <tr>\n",
              "      <th>2</th>\n",
              "      <td>3</td>\n",
              "      <td>METHODS</td>\n",
              "      <td>outcome measures included pain reduction and i...</td>\n",
              "      <td>12</td>\n",
              "    </tr>\n",
              "    <tr>\n",
              "      <th>3</th>\n",
              "      <td>4</td>\n",
              "      <td>METHODS</td>\n",
              "      <td>pain was assessed using the visual analog pain...</td>\n",
              "      <td>12</td>\n",
              "    </tr>\n",
              "    <tr>\n",
              "      <th>4</th>\n",
              "      <td>5</td>\n",
              "      <td>METHODS</td>\n",
              "      <td>secondary outcome measures included the wester...</td>\n",
              "      <td>12</td>\n",
              "    </tr>\n",
              "  </tbody>\n",
              "</table>\n",
              "</div>\n",
              "      <button class=\"colab-df-convert\" onclick=\"convertToInteractive('df-cd5bca1d-7970-483f-9941-3c9fde1cc03d')\"\n",
              "              title=\"Convert this dataframe to an interactive table.\"\n",
              "              style=\"display:none;\">\n",
              "        \n",
              "  <svg xmlns=\"http://www.w3.org/2000/svg\" height=\"24px\"viewBox=\"0 0 24 24\"\n",
              "       width=\"24px\">\n",
              "    <path d=\"M0 0h24v24H0V0z\" fill=\"none\"/>\n",
              "    <path d=\"M18.56 5.44l.94 2.06.94-2.06 2.06-.94-2.06-.94-.94-2.06-.94 2.06-2.06.94zm-11 1L8.5 8.5l.94-2.06 2.06-.94-2.06-.94L8.5 2.5l-.94 2.06-2.06.94zm10 10l.94 2.06.94-2.06 2.06-.94-2.06-.94-.94-2.06-.94 2.06-2.06.94z\"/><path d=\"M17.41 7.96l-1.37-1.37c-.4-.4-.92-.59-1.43-.59-.52 0-1.04.2-1.43.59L10.3 9.45l-7.72 7.72c-.78.78-.78 2.05 0 2.83L4 21.41c.39.39.9.59 1.41.59.51 0 1.02-.2 1.41-.59l7.78-7.78 2.81-2.81c.8-.78.8-2.07 0-2.86zM5.41 20L4 18.59l7.72-7.72 1.47 1.35L5.41 20z\"/>\n",
              "  </svg>\n",
              "      </button>\n",
              "      \n",
              "  <style>\n",
              "    .colab-df-container {\n",
              "      display:flex;\n",
              "      flex-wrap:wrap;\n",
              "      gap: 12px;\n",
              "    }\n",
              "\n",
              "    .colab-df-convert {\n",
              "      background-color: #E8F0FE;\n",
              "      border: none;\n",
              "      border-radius: 50%;\n",
              "      cursor: pointer;\n",
              "      display: none;\n",
              "      fill: #1967D2;\n",
              "      height: 32px;\n",
              "      padding: 0 0 0 0;\n",
              "      width: 32px;\n",
              "    }\n",
              "\n",
              "    .colab-df-convert:hover {\n",
              "      background-color: #E2EBFA;\n",
              "      box-shadow: 0px 1px 2px rgba(60, 64, 67, 0.3), 0px 1px 3px 1px rgba(60, 64, 67, 0.15);\n",
              "      fill: #174EA6;\n",
              "    }\n",
              "\n",
              "    [theme=dark] .colab-df-convert {\n",
              "      background-color: #3B4455;\n",
              "      fill: #D2E3FC;\n",
              "    }\n",
              "\n",
              "    [theme=dark] .colab-df-convert:hover {\n",
              "      background-color: #434B5C;\n",
              "      box-shadow: 0px 1px 3px 1px rgba(0, 0, 0, 0.15);\n",
              "      filter: drop-shadow(0px 1px 2px rgba(0, 0, 0, 0.3));\n",
              "      fill: #FFFFFF;\n",
              "    }\n",
              "  </style>\n",
              "\n",
              "      <script>\n",
              "        const buttonEl =\n",
              "          document.querySelector('#df-cd5bca1d-7970-483f-9941-3c9fde1cc03d button.colab-df-convert');\n",
              "        buttonEl.style.display =\n",
              "          google.colab.kernel.accessAllowed ? 'block' : 'none';\n",
              "\n",
              "        async function convertToInteractive(key) {\n",
              "          const element = document.querySelector('#df-cd5bca1d-7970-483f-9941-3c9fde1cc03d');\n",
              "          const dataTable =\n",
              "            await google.colab.kernel.invokeFunction('convertToInteractive',\n",
              "                                                     [key], {});\n",
              "          if (!dataTable) return;\n",
              "\n",
              "          const docLinkHtml = 'Like what you see? Visit the ' +\n",
              "            '<a target=\"_blank\" href=https://colab.research.google.com/notebooks/data_table.ipynb>data table notebook</a>'\n",
              "            + ' to learn more about interactive tables.';\n",
              "          element.innerHTML = '';\n",
              "          dataTable['output_type'] = 'display_data';\n",
              "          await google.colab.output.renderOutput(dataTable, element);\n",
              "          const docLink = document.createElement('div');\n",
              "          docLink.innerHTML = docLinkHtml;\n",
              "          element.appendChild(docLink);\n",
              "        }\n",
              "      </script>\n",
              "    </div>\n",
              "  </div>\n",
              "  "
            ],
            "text/plain": [
              "   line_number     target                                               text  \\\n",
              "0            1  OBJECTIVE  to investigate the efficacy of @ weeks of dail...   \n",
              "1            2    METHODS  a total of @ patients with primary knee oa wer...   \n",
              "2            3    METHODS  outcome measures included pain reduction and i...   \n",
              "3            4    METHODS  pain was assessed using the visual analog pain...   \n",
              "4            5    METHODS  secondary outcome measures included the wester...   \n",
              "\n",
              "   total_lines  \n",
              "0           12  \n",
              "1           12  \n",
              "2           12  \n",
              "3           12  \n",
              "4           12  "
            ]
          },
          "execution_count": 72,
          "metadata": {},
          "output_type": "execute_result"
        }
      ],
      "source": [
        "#create positional embeddings\n",
        "train_df.head()"
      ]
    },
    {
      "cell_type": "code",
      "execution_count": null,
      "metadata": {
        "colab": {
          "base_uri": "https://localhost:8080/",
          "height": 298
        },
        "id": "NQl-5XEsfS4d",
        "outputId": "6e896b53-5080-4105-8994-914c63eb2631"
      },
      "outputs": [
        {
          "data": {
            "text/plain": [
              "<matplotlib.axes._subplots.AxesSubplot at 0x7fe497b11a60>"
            ]
          },
          "execution_count": 73,
          "metadata": {},
          "output_type": "execute_result"
        },
        {
          "data": {
            "image/png": "[encoded data removed]",
            "text/plain": [
              "<Figure size 432x288 with 1 Axes>"
            ]
          },
          "metadata": {},
          "output_type": "display_data"
        }
      ],
      "source": [
        "train_df[\"line_number\"].plot.hist(title=\"Line Number vs Frequency\")"
      ]
    },
    {
      "cell_type": "code",
      "execution_count": null,
      "metadata": {
        "colab": {
          "base_uri": "https://localhost:8080/"
        },
        "id": "Z5xhW5SCgfdk",
        "outputId": "ec98a8c8-da5e-4963-f099-aaffc0cb27fe"
      },
      "outputs": [
        {
          "data": {
            "text/plain": [
              "(<tf.Tensor: shape=(5, 14), dtype=float32, numpy=\n",
              " array([[0., 1., 0., 0., 0., 0., 0., 0., 0., 0., 0., 0., 0., 0.],\n",
              "        [0., 0., 1., 0., 0., 0., 0., 0., 0., 0., 0., 0., 0., 0.],\n",
              "        [0., 0., 0., 1., 0., 0., 0., 0., 0., 0., 0., 0., 0., 0.],\n",
              "        [0., 0., 0., 0., 1., 0., 0., 0., 0., 0., 0., 0., 0., 0.],\n",
              "        [0., 0., 0., 0., 0., 1., 0., 0., 0., 0., 0., 0., 0., 0.]],\n",
              "       dtype=float32)>, TensorShape([180040, 14]))"
            ]
          },
          "execution_count": 74,
          "metadata": {},
          "output_type": "execute_result"
        }
      ],
      "source": [
        "#use tf onehotencoder to limit possibilities to up to line 15\n",
        "line_limit = int(np.percentile(train_df[\"line_number\"], 95))\n",
        "train_line_numbers_one_hot = tf.one_hot(train_df[\"line_number\"].to_numpy(), depth=line_limit)\n",
        "val_line_numbers_one_hot = tf.one_hot(val_df[\"line_number\"].to_numpy(), depth=line_limit)\n",
        "test_line_numbers_one_hot = tf.one_hot(val_df[\"line_number\"].to_numpy(), depth=line_limit)\n",
        "train_line_numbers_one_hot[:5], train_line_numbers_one_hot.shape"
      ]
    },
    {
      "cell_type": "code",
      "execution_count": null,
      "metadata": {
        "colab": {
          "base_uri": "https://localhost:8080/"
        },
        "id": "Uil3e2exhQwz",
        "outputId": "528c002c-a4e8-48c2-a054-d8b8fc32d24a"
      },
      "outputs": [
        {
          "data": {
            "text/plain": [
              "12    24468\n",
              "11    23639\n",
              "13    22113\n",
              "10    19400\n",
              "14    18438\n",
              "15    14610\n",
              "9     12285\n",
              "16    10768\n",
              "8      7464\n",
              "17     7429\n",
              "18     5202\n",
              "7      3353\n",
              "19     3344\n",
              "20     2480\n",
              "21     1281\n",
              "6      1146\n",
              "22      770\n",
              "23      759\n",
              "24      264\n",
              "5       215\n",
              "25      200\n",
              "26      182\n",
              "27       81\n",
              "29       58\n",
              "4        32\n",
              "31       31\n",
              "28       28\n",
              "Name: total_lines, dtype: int64"
            ]
          },
          "execution_count": 75,
          "metadata": {},
          "output_type": "execute_result"
        }
      ],
      "source": [
        "#encode total lines feature\n",
        "train_df[\"total_lines\"].value_counts()"
      ]
    },
    {
      "cell_type": "code",
      "execution_count": null,
      "metadata": {
        "colab": {
          "base_uri": "https://localhost:8080/",
          "height": 298
        },
        "id": "7JHXHAElwXyn",
        "outputId": "8e1a5e5b-1a33-4a29-c121-97eb4ff90d70"
      },
      "outputs": [
        {
          "data": {
            "text/plain": [
              "<matplotlib.axes._subplots.AxesSubplot at 0x7fe49729aa90>"
            ]
          },
          "execution_count": 76,
          "metadata": {},
          "output_type": "execute_result"
        },
        {
          "data": {
            "image/png": "[encoded data removed]",
            "text/plain": [
              "<Figure size 432x288 with 1 Axes>"
            ]
          },
          "metadata": {},
          "output_type": "display_data"
        }
      ],
      "source": [
        "train_df[\"total_lines\"].plot.hist(title=\"Total Lines vs Frequency\")"
      ]
    },
    {
      "cell_type": "code",
      "execution_count": null,
      "metadata": {
        "id": "Mw_weoSkwnNY"
      },
      "outputs": [],
      "source": [
        "tot_line_limit = np.percentile(train_df[\"total_lines\"], 95)"
      ]
    },
    {
      "cell_type": "code",
      "execution_count": null,
      "metadata": {
        "colab": {
          "base_uri": "https://localhost:8080/"
        },
        "id": "Z06Fp9jhxEJj",
        "outputId": "a91e837e-5459-4059-971c-6a18e18c50b5"
      },
      "outputs": [
        {
          "data": {
            "text/plain": [
              "(<tf.Tensor: shape=(5, 19), dtype=float32, numpy=\n",
              " array([[0., 0., 0., 0., 0., 0., 0., 0., 0., 0., 0., 0., 1., 0., 0., 0.,\n",
              "         0., 0., 0.],\n",
              "        [0., 0., 0., 0., 0., 0., 0., 0., 0., 0., 0., 0., 1., 0., 0., 0.,\n",
              "         0., 0., 0.],\n",
              "        [0., 0., 0., 0., 0., 0., 0., 0., 0., 0., 0., 0., 1., 0., 0., 0.,\n",
              "         0., 0., 0.],\n",
              "        [0., 0., 0., 0., 0., 0., 0., 0., 0., 0., 0., 0., 1., 0., 0., 0.,\n",
              "         0., 0., 0.],\n",
              "        [0., 0., 0., 0., 0., 0., 0., 0., 0., 0., 0., 0., 1., 0., 0., 0.,\n",
              "         0., 0., 0.]], dtype=float32)>, TensorShape([180040, 19]))"
            ]
          },
          "execution_count": 78,
          "metadata": {},
          "output_type": "execute_result"
        }
      ],
      "source": [
        "train_tot_line_one_hot = tf.one_hot(train_df[\"total_lines\"].to_numpy(), depth=tot_line_limit)\n",
        "val_tot_line_one_hot = tf.one_hot(val_df[\"total_lines\"].to_numpy(), depth=tot_line_limit)\n",
        "test_tot_line_one_hot = tf.one_hot(val_df[\"total_lines\"].to_numpy(), depth=tot_line_limit)\n",
        "train_tot_line_one_hot[:5], train_tot_line_one_hot.shape"
      ]
    },
    {
      "cell_type": "markdown",
      "metadata": {
        "id": "LPx6AkXT2QD-"
      },
      "source": [
        "#### Tribrid Embeddings\n",
        "\n",
        "1. token-level model\n",
        "2. character-level model\n",
        "3. model for \"line_number\" feature\n",
        "4. model for \"total_lines\" feature\n",
        "5. combine outputs of 1 and 2\n",
        "6. combine outputs of 3,4,5\n",
        "7. create final output layer\n",
        "8. combine inputs of 1,2,3,4 and output of 7 into a full model"
      ]
    },
    {
      "cell_type": "code",
      "execution_count": null,
      "metadata": {
        "id": "LQmRBUMzx4dF"
      },
      "outputs": [],
      "source": [
        "#1. \n",
        "token_inputs = layers.Input(shape=[], dtype=tf.string, name=\"token_input\")\n",
        "token_embeddings = extractor_layer(token_inputs) #from model 3\n",
        "token_outputs = layers.Dense(300, activation=\"relu\")(token_embeddings)\n",
        "token_model = tf.keras.Model(token_inputs, token_outputs)"
      ]
    },
    {
      "cell_type": "code",
      "execution_count": null,
      "metadata": {
        "id": "r2jLlaOd4DqL"
      },
      "outputs": [],
      "source": [
        "#2. \n",
        "char_inputs = layers.Input(shape=(1,), dtype=tf.string, name=\"char_inputs\")\n",
        "char_vectors = char_vectorizer(char_inputs)\n",
        "char_embeddings = char_embed(char_vectors)\n",
        "char_bilstm = layers.Bidirectional(layers.LSTM(25))(char_embeddings)\n",
        "char_model = tf.keras.Model(char_inputs, char_bilstm)"
      ]
    },
    {
      "cell_type": "code",
      "execution_count": null,
      "metadata": {
        "id": "v0gCiYKo4dxC"
      },
      "outputs": [],
      "source": [
        "#3.\n",
        "line_number_inputs = layers.Input(shape=(14,), dtype=tf.float32, name=\"line_number_inputs\")\n",
        "x = layers.Dense(32, activation=\"relu\")(line_number_inputs)\n",
        "line_number_model = tf.keras.Model(line_number_inputs, x)"
      ]
    },
    {
      "cell_type": "code",
      "execution_count": null,
      "metadata": {
        "id": "kU-vJGbK7vXX"
      },
      "outputs": [],
      "source": [
        "#4.\n",
        "total_lines_inputs = layers.Input(shape=(19,), dtype=tf.float32, name=\"total_lines_inputs\")\n",
        "y = layers.Dense(32, activation=\"relu\")(total_lines_inputs)\n",
        "total_lines_model = tf.keras.Model(total_lines_inputs, y)"
      ]
    },
    {
      "cell_type": "code",
      "execution_count": null,
      "metadata": {
        "id": "D3RKLMdt8HLV"
      },
      "outputs": [],
      "source": [
        "#5. \n",
        "combined_embeddings = layers.Concatenate(name=\"char_token_hybrid_embedding\")([token_model.output, \n",
        "                                                                              char_model.output])\n",
        "z = layers.Dense(256, activation=\"relu\")(combined_embeddings)\n",
        "z = layers.Dropout(0.5)(z)"
      ]
    },
    {
      "cell_type": "code",
      "execution_count": null,
      "metadata": {
        "id": "3tdaRVgx8xTh"
      },
      "outputs": [],
      "source": [
        "#6. \n",
        "tribrid_embeddings = layers.Concatenate(name=\"tribrid_embedding\")([line_number_model.output, \n",
        "                                                                   total_lines_model.output,\n",
        "                                                                   z])"
      ]
    },
    {
      "cell_type": "code",
      "execution_count": null,
      "metadata": {
        "id": "S2mqLHhx9lQS"
      },
      "outputs": [],
      "source": [
        "#7. \n",
        "output_layer = layers.Dense(5, activation=\"softmax\", name=\"output_layer\")(tribrid_embeddings)"
      ]
    },
    {
      "cell_type": "code",
      "execution_count": null,
      "metadata": {
        "id": "BQa8tung-dum"
      },
      "outputs": [],
      "source": [
        "#8. \n",
        "model_6 = tf.keras.Model([line_number_model.inputs,\n",
        "                          total_lines_model.inputs,\n",
        "                          char_model.inputs,\n",
        "                          token_model.inputs], \n",
        "                         outputs=output_layer)"
      ]
    },
    {
      "cell_type": "code",
      "execution_count": null,
      "metadata": {
        "colab": {
          "base_uri": "https://localhost:8080/"
        },
        "id": "x387rVon-pK8",
        "outputId": "ceed2efa-e5e6-47bc-e33e-676c0d119a11"
      },
      "outputs": [
        {
          "name": "stdout",
          "output_type": "stream",
          "text": [
            "Model: \"model_21\"\n",
            "__________________________________________________________________________________________________\n",
            " Layer (type)                   Output Shape         Param #     Connected to                     \n",
            "==================================================================================================\n",
            " char_inputs (InputLayer)       [(None, 1)]          0           []                               \n",
            "                                                                                                  \n",
            " token_input (InputLayer)       [(None,)]            0           []                               \n",
            "                                                                                                  \n",
            " char_vectorizer (TextVectoriza  (None, 579)         0           ['char_inputs[0][0]']            \n",
            " tion)                                                                                            \n",
            "                                                                                                  \n",
            " USE (KerasLayer)               (None, 512)          256797824   ['token_input[0][0]']            \n",
            "                                                                                                  \n",
            " char_embed (Embedding)         (None, 579, 25)      1750        ['char_vectorizer[2][0]']        \n",
            "                                                                                                  \n",
            " dense_8 (Dense)                (None, 300)          153900      ['USE[2][0]']                    \n",
            "                                                                                                  \n",
            " bidirectional_1 (Bidirectional  (None, 50)          10200       ['char_embed[2][0]']             \n",
            " )                                                                                                \n",
            "                                                                                                  \n",
            " char_token_hybrid_embedding (C  (None, 350)         0           ['dense_8[0][0]',                \n",
            " oncatenate)                                                      'bidirectional_1[0][0]']        \n",
            "                                                                                                  \n",
            " line_number_inputs (InputLayer  [(None, 14)]        0           []                               \n",
            " )                                                                                                \n",
            "                                                                                                  \n",
            " total_lines_inputs (InputLayer  [(None, 19)]        0           []                               \n",
            " )                                                                                                \n",
            "                                                                                                  \n",
            " dense_16 (Dense)               (None, 256)          89856       ['char_token_hybrid_embedding[0][\n",
            "                                                                 0]']                             \n",
            "                                                                                                  \n",
            " dense_12 (Dense)               (None, 32)           480         ['line_number_inputs[0][0]']     \n",
            "                                                                                                  \n",
            " dense_15 (Dense)               (None, 32)           640         ['total_lines_inputs[0][0]']     \n",
            "                                                                                                  \n",
            " dropout_4 (Dropout)            (None, 256)          0           ['dense_16[0][0]']               \n",
            "                                                                                                  \n",
            " tribrid_embedding (Concatenate  (None, 320)         0           ['dense_12[0][0]',               \n",
            " )                                                                'dense_15[0][0]',               \n",
            "                                                                  'dropout_4[0][0]']              \n",
            "                                                                                                  \n",
            " output_layer (Dense)           (None, 5)            1605        ['tribrid_embedding[0][0]']      \n",
            "                                                                                                  \n",
            "==================================================================================================\n",
            "Total params: 257,056,255\n",
            "Trainable params: 258,431\n",
            "Non-trainable params: 256,797,824\n",
            "__________________________________________________________________________________________________\n"
          ]
        }
      ],
      "source": [
        "model_6.summary()"
      ]
    },
    {
      "cell_type": "code",
      "execution_count": null,
      "metadata": {
        "id": "hBQsK2seAf76"
      },
      "outputs": [],
      "source": [
        "#pipelines\n",
        "train_tribrid_data = tf.data.Dataset.from_tensor_slices((train_line_numbers_one_hot,\n",
        "                                                         train_tot_line_one_hot,\n",
        "                                                         train_sentences,\n",
        "                                                         train_chars)) #make sure grouping is in same order that input is passed\n",
        "train_tribrid_labels = tf.data.Dataset.from_tensor_slices(train_labels_one_hot)\n",
        "train_tribrid_dataset = tf.data.Dataset.zip((train_tribrid_data, train_tribrid_labels))\n",
        "train_tribrid_dataset = train_tribrid_dataset.batch(32).prefetch(tf.data.AUTOTUNE)\n",
        "\n",
        "val_tribrid_data = tf.data.Dataset.from_tensor_slices((val_line_numbers_one_hot,\n",
        "                                                         val_tot_line_one_hot,\n",
        "                                                         val_sentences,\n",
        "                                                         val_chars)) #make sure grouping is in same order that input is passed\n",
        "val_tribrid_labels = tf.data.Dataset.from_tensor_slices(val_labels_one_hot)\n",
        "val_tribrid_dataset = tf.data.Dataset.zip((val_tribrid_data, val_tribrid_labels))\n",
        "val_tribrid_dataset = val_tribrid_dataset.batch(32).prefetch(tf.data.AUTOTUNE)"
      ]
    },
    {
      "cell_type": "code",
      "execution_count": null,
      "metadata": {
        "id": "5Z4SnI_VBs5Y"
      },
      "outputs": [],
      "source": [
        "model_6.compile(loss=tf.keras.losses.CategoricalCrossentropy(label_smoothing=0.2), # add label smoothing (examples which are really confident get smoothed a little)\n",
        "                optimizer=tf.keras.optimizers.Adam(),\n",
        "                metrics=[\"accuracy\"])"
      ]
    },
    {
      "cell_type": "code",
      "execution_count": null,
      "metadata": {
        "colab": {
          "background_save": true,
          "base_uri": "https://localhost:8080/"
        },
        "id": "B9Qzk_wmCmT8",
        "outputId": "13aa57a0-d50b-4629-e479-804625f014bc"
      },
      "outputs": [
        {
          "name": "stdout",
          "output_type": "stream",
          "text": [
            "Epoch 1/3\n",
            "562/562 [==============================] - 46s 64ms/step - loss: 1.2252 - accuracy: 0.6085 - val_loss: 1.0863 - val_accuracy: 0.7134\n",
            "Epoch 2/3\n",
            "562/562 [==============================] - 30s 53ms/step - loss: 1.0819 - accuracy: 0.7120 - val_loss: 1.0532 - val_accuracy: 0.7380\n",
            "Epoch 3/3\n",
            "562/562 [==============================] - 25s 44ms/step - loss: 1.0548 - accuracy: 0.7334 - val_loss: 1.0345 - val_accuracy: 0.7533\n"
          ]
        }
      ],
      "source": [
        "history_model_6 = model_6.fit(train_tribrid_dataset,\n",
        "                              steps_per_epoch=int(0.1*len(train_tribrid_dataset)),\n",
        "                              epochs=3,\n",
        "                              validation_data=val_tribrid_dataset,\n",
        "                              validation_steps=int(0.1*len(val_tribrid_dataset)))"
      ]
    },
    {
      "cell_type": "code",
      "execution_count": null,
      "metadata": {
        "id": "-0sodT0gCwjE"
      },
      "outputs": [],
      "source": []
    }
  ],
  "metadata": {
    "accelerator": "GPU",
    "colab": {
      "collapsed_sections": [
        "C5y1wxToODAj",
        "s8Yys-m-Os-E",
        "QgpVuhvNFUlc",
        "KRGXGG4GwrjI",
        "GpGX3RlxSIVk"
      ],
      "provenance": [],
      "authorship_tag": "ABX9TyMmU7jXTU1UBEXCrWldd5bT",
      "include_colab_link": true
    },
    "gpuClass": "standard",
    "kernelspec": {
      "display_name": "Python 3",
      "name": "python3"
    },
    "language_info": {
      "name": "python"
    }
  },
  "nbformat": 4,
  "nbformat_minor": 0
}