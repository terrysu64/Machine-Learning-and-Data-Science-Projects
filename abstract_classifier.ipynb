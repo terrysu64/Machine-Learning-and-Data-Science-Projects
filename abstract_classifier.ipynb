{
  "cells": [
    {
      "cell_type": "markdown",
      "metadata": {
        "id": "view-in-github",
        "colab_type": "text"
      },
      "source": [
        "<a href=\"https://colab.research.google.com/github/terrysu64/Machine-Learning-and-Data-Science-Projects/blob/main/abstract_classifier.ipynb\" target=\"_parent\"><img src=\"https://colab.research.google.com/assets/colab-badge.svg\" alt=\"Open In Colab\"/></a>"
      ]
    },
    {
      "cell_type": "markdown",
      "metadata": {
        "id": "Qrdo5LEmXgtD"
      },
      "source": [
        "# Abstract Classifier 📝\n",
        "\n",
        "The objective of this notebook is to constrcut an NLP model that identifies sections of medical abstracts to enable easier reading. \n",
        "\n",
        "Dataset source: https://arxiv.org/abs/1710.06071"
      ]
    },
    {
      "cell_type": "code",
      "execution_count": 1,
      "metadata": {
        "colab": {
          "base_uri": "https://localhost:8080/"
        },
        "id": "oQj0xtkQXYIy",
        "outputId": "39289793-eadf-4325-b8d2-d22bc44e6ca9"
      },
      "outputs": [
        {
          "output_type": "stream",
          "name": "stdout",
          "text": [
            "Tue Nov 29 00:36:12 2022       \n",
            "+-----------------------------------------------------------------------------+\n",
            "| NVIDIA-SMI 460.32.03    Driver Version: 460.32.03    CUDA Version: 11.2     |\n",
            "|-------------------------------+----------------------+----------------------+\n",
            "| GPU  Name        Persistence-M| Bus-Id        Disp.A | Volatile Uncorr. ECC |\n",
            "| Fan  Temp  Perf  Pwr:Usage/Cap|         Memory-Usage | GPU-Util  Compute M. |\n",
            "|                               |                      |               MIG M. |\n",
            "|===============================+======================+======================|\n",
            "|   0  Tesla T4            Off  | 00000000:00:04.0 Off |                    0 |\n",
            "| N/A   39C    P8     9W /  70W |      0MiB / 15109MiB |      0%      Default |\n",
            "|                               |                      |                  N/A |\n",
            "+-------------------------------+----------------------+----------------------+\n",
            "                                                                               \n",
            "+-----------------------------------------------------------------------------+\n",
            "| Processes:                                                                  |\n",
            "|  GPU   GI   CI        PID   Type   Process name                  GPU Memory |\n",
            "|        ID   ID                                                   Usage      |\n",
            "|=============================================================================|\n",
            "|  No running processes found                                                 |\n",
            "+-----------------------------------------------------------------------------+\n"
          ]
        }
      ],
      "source": [
        "#connect to GPU\n",
        "!nvidia-smi"
      ]
    },
    {
      "cell_type": "markdown",
      "metadata": {
        "id": "LPp68R-iZUZ-"
      },
      "source": [
        "### Download Dataset"
      ]
    },
    {
      "cell_type": "code",
      "execution_count": 2,
      "metadata": {
        "colab": {
          "base_uri": "https://localhost:8080/"
        },
        "id": "DjrEAXnSY77f",
        "outputId": "9b275efe-5078-45c1-cab7-09880f975774"
      },
      "outputs": [
        {
          "output_type": "stream",
          "name": "stdout",
          "text": [
            "Cloning into 'pubmed-rct'...\n",
            "remote: Enumerating objects: 33, done.\u001b[K\n",
            "remote: Counting objects: 100% (8/8), done.\u001b[K\n",
            "remote: Compressing objects: 100% (3/3), done.\u001b[K\n",
            "remote: Total 33 (delta 5), reused 5 (delta 5), pack-reused 25\u001b[K\n",
            "Unpacking objects: 100% (33/33), done.\n",
            "PubMed_200k_RCT\n",
            "PubMed_200k_RCT_numbers_replaced_with_at_sign\n",
            "PubMed_20k_RCT\n",
            "PubMed_20k_RCT_numbers_replaced_with_at_sign\n",
            "README.md\n"
          ]
        }
      ],
      "source": [
        "#can be downloaded from PubMed 200k RCT repository\n",
        "!git clone https://github.com/Franck-Dernoncourt/pubmed-rct\n",
        "!ls pubmed-rct"
      ]
    },
    {
      "cell_type": "code",
      "execution_count": 3,
      "metadata": {
        "colab": {
          "base_uri": "https://localhost:8080/"
        },
        "id": "4o5ZlPO5Zjse",
        "outputId": "0323e523-b6f7-4086-f21c-1d57d79bf34c"
      },
      "outputs": [
        {
          "output_type": "stream",
          "name": "stdout",
          "text": [
            "dev.txt  test.txt  train.txt\n"
          ]
        }
      ],
      "source": [
        "!ls pubmed-rct/PubMed_20k_RCT_numbers_replaced_with_at_sign/\n",
        "\n",
        "#dev.txt = validation set"
      ]
    },
    {
      "cell_type": "code",
      "execution_count": 4,
      "metadata": {
        "id": "tfAkPSwZaWsp"
      },
      "outputs": [],
      "source": [
        "data_dir = '/content/pubmed-rct/PubMed_20k_RCT_numbers_replaced_with_at_sign'"
      ]
    },
    {
      "cell_type": "code",
      "execution_count": 5,
      "metadata": {
        "colab": {
          "base_uri": "https://localhost:8080/"
        },
        "id": "X0M6n1TObG9U",
        "outputId": "fd8d8599-9bbb-4443-a9d2-2107052a20c0"
      },
      "outputs": [
        {
          "output_type": "execute_result",
          "data": {
            "text/plain": [
              "['/content/pubmed-rct/PubMed_20k_RCT_numbers_replaced_with_at_sign/dev.txt',\n",
              " '/content/pubmed-rct/PubMed_20k_RCT_numbers_replaced_with_at_sign/train.txt',\n",
              " '/content/pubmed-rct/PubMed_20k_RCT_numbers_replaced_with_at_sign/test.txt']"
            ]
          },
          "metadata": {},
          "execution_count": 5
        }
      ],
      "source": [
        "#check filenames in data directory\n",
        "import os \n",
        "filenames = [f\"{data_dir}/{filename}\" for filename in os.listdir(data_dir)]\n",
        "filenames"
      ]
    },
    {
      "cell_type": "markdown",
      "metadata": {
        "id": "n9F0r_00ZhPy"
      },
      "source": [
        "### Preprocessing Data"
      ]
    },
    {
      "cell_type": "code",
      "execution_count": 6,
      "metadata": {
        "id": "aX_AoioKbfrG"
      },
      "outputs": [],
      "source": [
        "#read in all lines of text file\n",
        "def read_lines(file):\n",
        "  \"\"\"\n",
        "  reads file and returns the lines of text via an array\n",
        "  \"\"\"\n",
        "\n",
        "  with open(file, \"r\") as file: \n",
        "    return file.readlines()"
      ]
    },
    {
      "cell_type": "code",
      "execution_count": 7,
      "metadata": {
        "colab": {
          "base_uri": "https://localhost:8080/"
        },
        "id": "Y6Ghw9SQaWXg",
        "outputId": "5dedd348-59a3-4f1c-cee7-0165a602b19e"
      },
      "outputs": [
        {
          "output_type": "execute_result",
          "data": {
            "text/plain": [
              "['###24293578\\n',\n",
              " 'OBJECTIVE\\tTo investigate the efficacy of @ weeks of daily low-dose oral prednisolone in improving pain , mobility , and systemic low-grade inflammation in the short term and whether the effect would be sustained at @ weeks in older adults with moderate to severe knee osteoarthritis ( OA ) .\\n',\n",
              " 'METHODS\\tA total of @ patients with primary knee OA were randomized @:@ ; @ received @ mg/day of prednisolone and @ received placebo for @ weeks .\\n',\n",
              " 'METHODS\\tOutcome measures included pain reduction and improvement in function scores and systemic inflammation markers .\\n',\n",
              " 'METHODS\\tPain was assessed using the visual analog pain scale ( @-@ mm ) .\\n',\n",
              " 'METHODS\\tSecondary outcome measures included the Western Ontario and McMaster Universities Osteoarthritis Index scores , patient global assessment ( PGA ) of the severity of knee OA , and @-min walk distance ( @MWD ) .\\n',\n",
              " 'METHODS\\tSerum levels of interleukin @ ( IL-@ ) , IL-@ , tumor necrosis factor ( TNF ) - , and high-sensitivity C-reactive protein ( hsCRP ) were measured .\\n',\n",
              " 'RESULTS\\tThere was a clinically relevant reduction in the intervention group compared to the placebo group for knee pain , physical function , PGA , and @MWD at @ weeks .\\n',\n",
              " 'RESULTS\\tThe mean difference between treatment arms ( @ % CI ) was @ ( @-@ @ ) , p < @ ; @ ( @-@ @ ) , p < @ ; @ ( @-@ @ ) , p < @ ; and @ ( @-@ @ ) , p < @ , respectively .\\n',\n",
              " 'RESULTS\\tFurther , there was a clinically relevant reduction in the serum levels of IL-@ , IL-@ , TNF - , and hsCRP at @ weeks in the intervention group when compared to the placebo group .\\n',\n",
              " 'RESULTS\\tThese differences remained significant at @ weeks .\\n',\n",
              " 'RESULTS\\tThe Outcome Measures in Rheumatology Clinical Trials-Osteoarthritis Research Society International responder rate was @ % in the intervention group and @ % in the placebo group ( p < @ ) .\\n',\n",
              " 'CONCLUSIONS\\tLow-dose oral prednisolone had both a short-term and a longer sustained effect resulting in less knee pain , better physical function , and attenuation of systemic inflammation in older patients with knee OA ( ClinicalTrials.gov identifier NCT@ ) .\\n',\n",
              " '\\n',\n",
              " '###24854809\\n']"
            ]
          },
          "metadata": {},
          "execution_count": 7
        }
      ],
      "source": [
        "train_lines = read_lines(f\"{data_dir}/train.txt\")\n",
        "train_lines[:15]"
      ]
    },
    {
      "cell_type": "code",
      "execution_count": 8,
      "metadata": {
        "colab": {
          "base_uri": "https://localhost:8080/"
        },
        "id": "A-LzZVdaakNm",
        "outputId": "ce0846d9-e8ac-4314-a5ca-1b519a4e7917"
      },
      "outputs": [
        {
          "output_type": "execute_result",
          "data": {
            "text/plain": [
              "210040"
            ]
          },
          "metadata": {},
          "execution_count": 8
        }
      ],
      "source": [
        "len(train_lines)"
      ]
    },
    {
      "cell_type": "markdown",
      "metadata": {
        "id": "eU1NisucbHkQ"
      },
      "source": [
        "✅ **Ideal Representation**\n",
        "\n",
        "\n",
        "```\n",
        "for each abstract: \n",
        "[\n",
        "  {\n",
        "    line_number: ...,\n",
        "    target: ...,\n",
        "    text: ...,\n",
        "    total_lines: ...,\n",
        "  }\n",
        "]\n",
        "```\n",
        "\n",
        " "
      ]
    },
    {
      "cell_type": "code",
      "execution_count": 9,
      "metadata": {
        "id": "OSF8SIlLa_QV"
      },
      "outputs": [],
      "source": [
        "def preprocess_lines(file):\n",
        "  \"\"\"\n",
        "  returns array of hashmaps, preprocessed in the outlined form\n",
        "  \"\"\"\n",
        "\n",
        "  lines = read_lines(file)\n",
        "  curr_abstract = ''; abstracts = []\n",
        "  abstract_id = None\n",
        "\n",
        "  for line in lines:\n",
        "    if line.startswith('###'): abstract_id = line; curr_abstract = ''\n",
        "    elif line.isspace(): \n",
        "      \n",
        "      line_split = curr_abstract.splitlines()\n",
        "      for i,j in enumerate(line_split):\n",
        "        data={}\n",
        "        target,content = j.split('\\t')\n",
        "        data[\"line_number\"] = i+1\n",
        "        data[\"target\"] = target\n",
        "        data[\"text\"] = content.lower()\n",
        "        data[\"total_lines\"] = len(line_split)\n",
        "        abstracts += [data]\n",
        "        \n",
        "\n",
        "    else: curr_abstract += line\n",
        "\n",
        "\n",
        "  return abstracts"
      ]
    },
    {
      "cell_type": "code",
      "execution_count": 10,
      "metadata": {
        "colab": {
          "base_uri": "https://localhost:8080/"
        },
        "id": "4UsWnEfy_RX6",
        "outputId": "0c7a68ac-02be-4d2a-b8ef-cd1590f24db4"
      },
      "outputs": [
        {
          "output_type": "execute_result",
          "data": {
            "text/plain": [
              "[{'line_number': 1,\n",
              "  'target': 'OBJECTIVE',\n",
              "  'text': 'to investigate the efficacy of @ weeks of daily low-dose oral prednisolone in improving pain , mobility , and systemic low-grade inflammation in the short term and whether the effect would be sustained at @ weeks in older adults with moderate to severe knee osteoarthritis ( oa ) .',\n",
              "  'total_lines': 12},\n",
              " {'line_number': 2,\n",
              "  'target': 'METHODS',\n",
              "  'text': 'a total of @ patients with primary knee oa were randomized @:@ ; @ received @ mg/day of prednisolone and @ received placebo for @ weeks .',\n",
              "  'total_lines': 12},\n",
              " {'line_number': 3,\n",
              "  'target': 'METHODS',\n",
              "  'text': 'outcome measures included pain reduction and improvement in function scores and systemic inflammation markers .',\n",
              "  'total_lines': 12},\n",
              " {'line_number': 4,\n",
              "  'target': 'METHODS',\n",
              "  'text': 'pain was assessed using the visual analog pain scale ( @-@ mm ) .',\n",
              "  'total_lines': 12},\n",
              " {'line_number': 5,\n",
              "  'target': 'METHODS',\n",
              "  'text': 'secondary outcome measures included the western ontario and mcmaster universities osteoarthritis index scores , patient global assessment ( pga ) of the severity of knee oa , and @-min walk distance ( @mwd ) .',\n",
              "  'total_lines': 12},\n",
              " {'line_number': 6,\n",
              "  'target': 'METHODS',\n",
              "  'text': 'serum levels of interleukin @ ( il-@ ) , il-@ , tumor necrosis factor ( tnf ) - , and high-sensitivity c-reactive protein ( hscrp ) were measured .',\n",
              "  'total_lines': 12},\n",
              " {'line_number': 7,\n",
              "  'target': 'RESULTS',\n",
              "  'text': 'there was a clinically relevant reduction in the intervention group compared to the placebo group for knee pain , physical function , pga , and @mwd at @ weeks .',\n",
              "  'total_lines': 12},\n",
              " {'line_number': 8,\n",
              "  'target': 'RESULTS',\n",
              "  'text': 'the mean difference between treatment arms ( @ % ci ) was @ ( @-@ @ ) , p < @ ; @ ( @-@ @ ) , p < @ ; @ ( @-@ @ ) , p < @ ; and @ ( @-@ @ ) , p < @ , respectively .',\n",
              "  'total_lines': 12},\n",
              " {'line_number': 9,\n",
              "  'target': 'RESULTS',\n",
              "  'text': 'further , there was a clinically relevant reduction in the serum levels of il-@ , il-@ , tnf - , and hscrp at @ weeks in the intervention group when compared to the placebo group .',\n",
              "  'total_lines': 12},\n",
              " {'line_number': 10,\n",
              "  'target': 'RESULTS',\n",
              "  'text': 'these differences remained significant at @ weeks .',\n",
              "  'total_lines': 12},\n",
              " {'line_number': 11,\n",
              "  'target': 'RESULTS',\n",
              "  'text': 'the outcome measures in rheumatology clinical trials-osteoarthritis research society international responder rate was @ % in the intervention group and @ % in the placebo group ( p < @ ) .',\n",
              "  'total_lines': 12},\n",
              " {'line_number': 12,\n",
              "  'target': 'CONCLUSIONS',\n",
              "  'text': 'low-dose oral prednisolone had both a short-term and a longer sustained effect resulting in less knee pain , better physical function , and attenuation of systemic inflammation in older patients with knee oa ( clinicaltrials.gov identifier nct@ ) .',\n",
              "  'total_lines': 12},\n",
              " {'line_number': 1,\n",
              "  'target': 'BACKGROUND',\n",
              "  'text': 'emotional eating is associated with overeating and the development of obesity .',\n",
              "  'total_lines': 11},\n",
              " {'line_number': 2,\n",
              "  'target': 'BACKGROUND',\n",
              "  'text': 'yet , empirical evidence for individual ( trait ) differences in emotional eating and cognitive mechanisms that contribute to eating during sad mood remain equivocal .',\n",
              "  'total_lines': 11},\n",
              " {'line_number': 3,\n",
              "  'target': 'OBJECTIVE',\n",
              "  'text': 'the aim of this study was to test if attention bias for food moderates the effect of self-reported emotional eating during sad mood ( vs neutral mood ) on actual food intake .',\n",
              "  'total_lines': 11}]"
            ]
          },
          "metadata": {},
          "execution_count": 10
        }
      ],
      "source": [
        "train_samples = preprocess_lines(f\"{data_dir}/train.txt\")\n",
        "val_samples = preprocess_lines(f\"{data_dir}/dev.txt\")\n",
        "test_samples = preprocess_lines(f\"{data_dir}/test.txt\")\n",
        "train_samples[:15]"
      ]
    },
    {
      "cell_type": "code",
      "execution_count": 11,
      "metadata": {
        "colab": {
          "base_uri": "https://localhost:8080/"
        },
        "id": "ZIRmhkpr_VnK",
        "outputId": "a951ae7d-00f4-46ba-b7a6-20a89f392391"
      },
      "outputs": [
        {
          "output_type": "execute_result",
          "data": {
            "text/plain": [
              "(180040, 30212, 30135)"
            ]
          },
          "metadata": {},
          "execution_count": 11
        }
      ],
      "source": [
        "len(train_samples),len(val_samples),len(test_samples)"
      ]
    },
    {
      "cell_type": "markdown",
      "metadata": {
        "id": "C5y1wxToODAj"
      },
      "source": [
        "### Further Visualizing Data"
      ]
    },
    {
      "cell_type": "code",
      "execution_count": 12,
      "metadata": {
        "colab": {
          "base_uri": "https://localhost:8080/",
          "height": 0
        },
        "id": "6hGTsLNEBHEJ",
        "outputId": "3b4138f6-96fc-4a52-b301-a9fb20712de6"
      },
      "outputs": [
        {
          "output_type": "execute_result",
          "data": {
            "text/plain": [
              "   line_number     target                                               text  \\\n",
              "0            1  OBJECTIVE  to investigate the efficacy of @ weeks of dail...   \n",
              "1            2    METHODS  a total of @ patients with primary knee oa wer...   \n",
              "2            3    METHODS  outcome measures included pain reduction and i...   \n",
              "3            4    METHODS  pain was assessed using the visual analog pain...   \n",
              "4            5    METHODS  secondary outcome measures included the wester...   \n",
              "\n",
              "   total_lines  \n",
              "0           12  \n",
              "1           12  \n",
              "2           12  \n",
              "3           12  \n",
              "4           12  "
            ],
            "text/html": [
              "\n",
              "  <div id=\"df-ad6dc1f1-adf6-4951-8866-dee7e84b90f1\">\n",
              "    <div class=\"colab-df-container\">\n",
              "      <div>\n",
              "<style scoped>\n",
              "    .dataframe tbody tr th:only-of-type {\n",
              "        vertical-align: middle;\n",
              "    }\n",
              "\n",
              "    .dataframe tbody tr th {\n",
              "        vertical-align: top;\n",
              "    }\n",
              "\n",
              "    .dataframe thead th {\n",
              "        text-align: right;\n",
              "    }\n",
              "</style>\n",
              "<table border=\"1\" class=\"dataframe\">\n",
              "  <thead>\n",
              "    <tr style=\"text-align: right;\">\n",
              "      <th></th>\n",
              "      <th>line_number</th>\n",
              "      <th>target</th>\n",
              "      <th>text</th>\n",
              "      <th>total_lines</th>\n",
              "    </tr>\n",
              "  </thead>\n",
              "  <tbody>\n",
              "    <tr>\n",
              "      <th>0</th>\n",
              "      <td>1</td>\n",
              "      <td>OBJECTIVE</td>\n",
              "      <td>to investigate the efficacy of @ weeks of dail...</td>\n",
              "      <td>12</td>\n",
              "    </tr>\n",
              "    <tr>\n",
              "      <th>1</th>\n",
              "      <td>2</td>\n",
              "      <td>METHODS</td>\n",
              "      <td>a total of @ patients with primary knee oa wer...</td>\n",
              "      <td>12</td>\n",
              "    </tr>\n",
              "    <tr>\n",
              "      <th>2</th>\n",
              "      <td>3</td>\n",
              "      <td>METHODS</td>\n",
              "      <td>outcome measures included pain reduction and i...</td>\n",
              "      <td>12</td>\n",
              "    </tr>\n",
              "    <tr>\n",
              "      <th>3</th>\n",
              "      <td>4</td>\n",
              "      <td>METHODS</td>\n",
              "      <td>pain was assessed using the visual analog pain...</td>\n",
              "      <td>12</td>\n",
              "    </tr>\n",
              "    <tr>\n",
              "      <th>4</th>\n",
              "      <td>5</td>\n",
              "      <td>METHODS</td>\n",
              "      <td>secondary outcome measures included the wester...</td>\n",
              "      <td>12</td>\n",
              "    </tr>\n",
              "  </tbody>\n",
              "</table>\n",
              "</div>\n",
              "      <button class=\"colab-df-convert\" onclick=\"convertToInteractive('df-ad6dc1f1-adf6-4951-8866-dee7e84b90f1')\"\n",
              "              title=\"Convert this dataframe to an interactive table.\"\n",
              "              style=\"display:none;\">\n",
              "        \n",
              "  <svg xmlns=\"http://www.w3.org/2000/svg\" height=\"24px\"viewBox=\"0 0 24 24\"\n",
              "       width=\"24px\">\n",
              "    <path d=\"M0 0h24v24H0V0z\" fill=\"none\"/>\n",
              "    <path d=\"M18.56 5.44l.94 2.06.94-2.06 2.06-.94-2.06-.94-.94-2.06-.94 2.06-2.06.94zm-11 1L8.5 8.5l.94-2.06 2.06-.94-2.06-.94L8.5 2.5l-.94 2.06-2.06.94zm10 10l.94 2.06.94-2.06 2.06-.94-2.06-.94-.94-2.06-.94 2.06-2.06.94z\"/><path d=\"M17.41 7.96l-1.37-1.37c-.4-.4-.92-.59-1.43-.59-.52 0-1.04.2-1.43.59L10.3 9.45l-7.72 7.72c-.78.78-.78 2.05 0 2.83L4 21.41c.39.39.9.59 1.41.59.51 0 1.02-.2 1.41-.59l7.78-7.78 2.81-2.81c.8-.78.8-2.07 0-2.86zM5.41 20L4 18.59l7.72-7.72 1.47 1.35L5.41 20z\"/>\n",
              "  </svg>\n",
              "      </button>\n",
              "      \n",
              "  <style>\n",
              "    .colab-df-container {\n",
              "      display:flex;\n",
              "      flex-wrap:wrap;\n",
              "      gap: 12px;\n",
              "    }\n",
              "\n",
              "    .colab-df-convert {\n",
              "      background-color: #E8F0FE;\n",
              "      border: none;\n",
              "      border-radius: 50%;\n",
              "      cursor: pointer;\n",
              "      display: none;\n",
              "      fill: #1967D2;\n",
              "      height: 32px;\n",
              "      padding: 0 0 0 0;\n",
              "      width: 32px;\n",
              "    }\n",
              "\n",
              "    .colab-df-convert:hover {\n",
              "      background-color: #E2EBFA;\n",
              "      box-shadow: 0px 1px 2px rgba(60, 64, 67, 0.3), 0px 1px 3px 1px rgba(60, 64, 67, 0.15);\n",
              "      fill: #174EA6;\n",
              "    }\n",
              "\n",
              "    [theme=dark] .colab-df-convert {\n",
              "      background-color: #3B4455;\n",
              "      fill: #D2E3FC;\n",
              "    }\n",
              "\n",
              "    [theme=dark] .colab-df-convert:hover {\n",
              "      background-color: #434B5C;\n",
              "      box-shadow: 0px 1px 3px 1px rgba(0, 0, 0, 0.15);\n",
              "      filter: drop-shadow(0px 1px 2px rgba(0, 0, 0, 0.3));\n",
              "      fill: #FFFFFF;\n",
              "    }\n",
              "  </style>\n",
              "\n",
              "      <script>\n",
              "        const buttonEl =\n",
              "          document.querySelector('#df-ad6dc1f1-adf6-4951-8866-dee7e84b90f1 button.colab-df-convert');\n",
              "        buttonEl.style.display =\n",
              "          google.colab.kernel.accessAllowed ? 'block' : 'none';\n",
              "\n",
              "        async function convertToInteractive(key) {\n",
              "          const element = document.querySelector('#df-ad6dc1f1-adf6-4951-8866-dee7e84b90f1');\n",
              "          const dataTable =\n",
              "            await google.colab.kernel.invokeFunction('convertToInteractive',\n",
              "                                                     [key], {});\n",
              "          if (!dataTable) return;\n",
              "\n",
              "          const docLinkHtml = 'Like what you see? Visit the ' +\n",
              "            '<a target=\"_blank\" href=https://colab.research.google.com/notebooks/data_table.ipynb>data table notebook</a>'\n",
              "            + ' to learn more about interactive tables.';\n",
              "          element.innerHTML = '';\n",
              "          dataTable['output_type'] = 'display_data';\n",
              "          await google.colab.output.renderOutput(dataTable, element);\n",
              "          const docLink = document.createElement('div');\n",
              "          docLink.innerHTML = docLinkHtml;\n",
              "          element.appendChild(docLink);\n",
              "        }\n",
              "      </script>\n",
              "    </div>\n",
              "  </div>\n",
              "  "
            ]
          },
          "metadata": {},
          "execution_count": 12
        }
      ],
      "source": [
        "import pandas as pd\n",
        "train_df = pd.DataFrame(train_samples)\n",
        "val_df = pd.DataFrame(val_samples)\n",
        "test_df = pd.DataFrame(test_samples)\n",
        "train_df.head()"
      ]
    },
    {
      "cell_type": "code",
      "execution_count": 13,
      "metadata": {
        "colab": {
          "base_uri": "https://localhost:8080/"
        },
        "id": "xCjjIdPUOKtR",
        "outputId": "7892d7ed-9820-49b4-be59-0443e87f363c"
      },
      "outputs": [
        {
          "output_type": "execute_result",
          "data": {
            "text/plain": [
              "METHODS        59353\n",
              "RESULTS        57953\n",
              "CONCLUSIONS    27168\n",
              "BACKGROUND     21727\n",
              "OBJECTIVE      13839\n",
              "Name: target, dtype: int64"
            ]
          },
          "metadata": {},
          "execution_count": 13
        }
      ],
      "source": [
        "train_df.target.value_counts()"
      ]
    },
    {
      "cell_type": "code",
      "execution_count": 14,
      "metadata": {
        "colab": {
          "base_uri": "https://localhost:8080/"
        },
        "id": "P5pZY_d4OWTR",
        "outputId": "c727ad8c-2367-47fb-80f4-373d2795cbef"
      },
      "outputs": [
        {
          "output_type": "execute_result",
          "data": {
            "text/plain": [
              "METHODS        9897\n",
              "RESULTS        9713\n",
              "CONCLUSIONS    4571\n",
              "BACKGROUND     3621\n",
              "OBJECTIVE      2333\n",
              "Name: target, dtype: int64"
            ]
          },
          "metadata": {},
          "execution_count": 14
        }
      ],
      "source": [
        "test_df.target.value_counts()"
      ]
    },
    {
      "cell_type": "code",
      "execution_count": 15,
      "metadata": {
        "colab": {
          "base_uri": "https://localhost:8080/",
          "height": 0
        },
        "id": "ARu7ClQoOcyz",
        "outputId": "0cde4ba4-0905-46e7-90a6-21d33ec4d42f"
      },
      "outputs": [
        {
          "output_type": "execute_result",
          "data": {
            "text/plain": [
              "<matplotlib.axes._subplots.AxesSubplot at 0x7fabef784c90>"
            ]
          },
          "metadata": {},
          "execution_count": 15
        },
        {
          "output_type": "display_data",
          "data": {
            "text/plain": [
              "<Figure size 432x288 with 1 Axes>"
            ],
            "image/png": "[encoded data removed]"
          },
          "metadata": {
            "needs_background": "light"
          }
        }
      ],
      "source": [
        "# sample length frequency\n",
        "train_df.total_lines.plot.hist()"
      ]
    },
    {
      "cell_type": "markdown",
      "metadata": {
        "id": "s8Yys-m-Os-E"
      },
      "source": [
        "### Convert to Array of Sentences"
      ]
    },
    {
      "cell_type": "code",
      "execution_count": 16,
      "metadata": {
        "colab": {
          "base_uri": "https://localhost:8080/"
        },
        "id": "lTb52QuUOjk8",
        "outputId": "62ded0f8-394e-40a1-fcc0-eaafde7c6590"
      },
      "outputs": [
        {
          "output_type": "execute_result",
          "data": {
            "text/plain": [
              "['to investigate the efficacy of @ weeks of daily low-dose oral prednisolone in improving pain , mobility , and systemic low-grade inflammation in the short term and whether the effect would be sustained at @ weeks in older adults with moderate to severe knee osteoarthritis ( oa ) .',\n",
              " 'a total of @ patients with primary knee oa were randomized @:@ ; @ received @ mg/day of prednisolone and @ received placebo for @ weeks .',\n",
              " 'outcome measures included pain reduction and improvement in function scores and systemic inflammation markers .']"
            ]
          },
          "metadata": {},
          "execution_count": 16
        }
      ],
      "source": [
        "convert = lambda sentences: sentences.tolist()\n",
        "train_sentences = convert(train_df[\"text\"])\n",
        "val_sentences = convert(val_df[\"text\"])\n",
        "test_sentences = convert(test_df[\"text\"])\n",
        "train_sentences[:3]"
      ]
    },
    {
      "cell_type": "markdown",
      "metadata": {
        "id": "QgpVuhvNFUlc"
      },
      "source": [
        "### Creating Numeric Lables"
      ]
    },
    {
      "cell_type": "code",
      "execution_count": 17,
      "metadata": {
        "colab": {
          "base_uri": "https://localhost:8080/"
        },
        "id": "LvQ3bsc4O_Xs",
        "outputId": "d68cd40a-a785-4d70-fe2f-7b448e7fc19a"
      },
      "outputs": [
        {
          "output_type": "execute_result",
          "data": {
            "text/plain": [
              "<tf.Tensor: shape=(180040, 5), dtype=float64, numpy=\n",
              "array([[0., 0., 0., 1., 0.],\n",
              "       [0., 0., 1., 0., 0.],\n",
              "       [0., 0., 1., 0., 0.],\n",
              "       ...,\n",
              "       [0., 0., 0., 0., 1.],\n",
              "       [0., 1., 0., 0., 0.],\n",
              "       [0., 1., 0., 0., 0.]])>"
            ]
          },
          "metadata": {},
          "execution_count": 17
        }
      ],
      "source": [
        "#use one-hot encoding (could use label encoding as an alternative as well)\n",
        "from sklearn.preprocessing import OneHotEncoder\n",
        "import tensorflow as tf\n",
        "\n",
        "one_hot_encoder = OneHotEncoder(sparse=False)\n",
        "\n",
        "train_labels_one_hot = one_hot_encoder.fit_transform(train_df[\"target\"] \\\n",
        "                                                     .to_numpy() \\\n",
        "                                                     .reshape(-1, 1))\n",
        "val_labels_one_hot = one_hot_encoder.fit_transform(val_df[\"target\"] \\\n",
        "                                                     .to_numpy() \\\n",
        "                                                     .reshape(-1, 1))\n",
        "test_labels_one_hot = one_hot_encoder.fit_transform(test_df[\"target\"] \\\n",
        "                                                     .to_numpy() \\\n",
        "                                                     .reshape(-1, 1))\n",
        "\n",
        "tf.constant(train_labels_one_hot)"
      ]
    },
    {
      "cell_type": "markdown",
      "metadata": {
        "id": "KRGXGG4GwrjI"
      },
      "source": [
        "### Label Encode Labels"
      ]
    },
    {
      "cell_type": "code",
      "execution_count": 18,
      "metadata": {
        "colab": {
          "base_uri": "https://localhost:8080/"
        },
        "id": "v7jMvuKRwvAG",
        "outputId": "25768469-588c-479b-e70e-79096302e1e9"
      },
      "outputs": [
        {
          "output_type": "execute_result",
          "data": {
            "text/plain": [
              "array([3, 2, 2, 2, 2])"
            ]
          },
          "metadata": {},
          "execution_count": 18
        }
      ],
      "source": [
        "#encode the target columns (labels) into integers\n",
        "from sklearn.preprocessing import LabelEncoder\n",
        "label_encoder = LabelEncoder()\n",
        "train_labels_encoded = label_encoder.fit_transform(train_df[\"target\"].to_numpy())\n",
        "val_labels_encoded = label_encoder.fit_transform(val_df[\"target\"].to_numpy())\n",
        "test_labels_encoded = label_encoder.fit_transform(test_df[\"target\"].to_numpy())\n",
        "\n",
        "train_labels_encoded[:5]"
      ]
    },
    {
      "cell_type": "code",
      "execution_count": 19,
      "metadata": {
        "colab": {
          "base_uri": "https://localhost:8080/"
        },
        "id": "xbqnmSjKxUOF",
        "outputId": "6a7e9478-4c6a-4fac-8d37-89415928d874"
      },
      "outputs": [
        {
          "output_type": "execute_result",
          "data": {
            "text/plain": [
              "array(['BACKGROUND', 'CONCLUSIONS', 'METHODS', 'OBJECTIVE', 'RESULTS'],\n",
              "      dtype=object)"
            ]
          },
          "metadata": {},
          "execution_count": 19
        }
      ],
      "source": [
        "class_names = label_encoder.classes_\n",
        "num_classes = len(class_names)\n",
        "class_names"
      ]
    },
    {
      "cell_type": "markdown",
      "metadata": {
        "id": "kzYZBcxxvYIn"
      },
      "source": [
        "## Testing Various Model\n",
        "\n",
        "### Model 1 🤖: Baseline (TF-IDF multinomial Naive Bayes)"
      ]
    },
    {
      "cell_type": "code",
      "execution_count": 20,
      "metadata": {
        "colab": {
          "base_uri": "https://localhost:8080/"
        },
        "id": "tfbMBYggGafP",
        "outputId": "dcf96b6d-819d-41b8-d318-048eff7d8ddc"
      },
      "outputs": [
        {
          "output_type": "execute_result",
          "data": {
            "text/plain": [
              "Pipeline(steps=[('tf-idf', TfidfVectorizer()), ('clf', MultinomialNB())])"
            ]
          },
          "metadata": {},
          "execution_count": 20
        }
      ],
      "source": [
        "from pandas.core.reshape.merge import MultiIndex\n",
        "from sklearn.feature_extraction.text import TfidfVectorizer\n",
        "from sklearn.naive_bayes import MultinomialNB\n",
        "from sklearn.pipeline import Pipeline\n",
        "\n",
        "model_1 = Pipeline([\n",
        "    (\"tf-idf\", TfidfVectorizer()),\n",
        "    (\"clf\", MultinomialNB())\n",
        "])\n",
        "\n",
        "model_1.fit(X=train_sentences, y=train_labels_encoded)"
      ]
    },
    {
      "cell_type": "code",
      "execution_count": 21,
      "metadata": {
        "colab": {
          "base_uri": "https://localhost:8080/"
        },
        "id": "maOqZysRxsbz",
        "outputId": "37b86588-7ebc-4d3b-d13d-0d6a1743c17b"
      },
      "outputs": [
        {
          "output_type": "execute_result",
          "data": {
            "text/plain": [
              "0.7218323844829869"
            ]
          },
          "metadata": {},
          "execution_count": 21
        }
      ],
      "source": [
        "#evaluate baseline on validation set\n",
        "model_1.score(X=val_sentences, y=val_labels_encoded)"
      ]
    },
    {
      "cell_type": "code",
      "execution_count": 22,
      "metadata": {
        "id": "139mOCKdzA7o"
      },
      "outputs": [],
      "source": [
        "from sklearn.metrics import accuracy_score, precision_recall_fscore_support\n",
        "def calculate_results(y_true, y_pred):\n",
        "  \"\"\"\n",
        "  Calculates model accuracy, precision, recall and f1 score of a binary classification model.\n",
        "  Args:\n",
        "      y_true: true labels in the form of a 1D array\n",
        "      y_pred: predicted labels in the form of a 1D array\n",
        "  Returns a dictionary of accuracy, precision, recall, f1-score.\n",
        "  \"\"\"\n",
        "  # Calculate model accuracy\n",
        "  model_accuracy = accuracy_score(y_true, y_pred) * 100\n",
        "  # Calculate model precision, recall and f1 score using \"weighted average\n",
        "  model_precision, model_recall, model_f1, _ = precision_recall_fscore_support(y_true, y_pred, average=\"weighted\")\n",
        "  model_results = {\"accuracy\": model_accuracy,\n",
        "                  \"precision\": model_precision,\n",
        "                  \"recall\": model_recall,\n",
        "                  \"f1\": model_f1}\n",
        "  return model_results"
      ]
    },
    {
      "cell_type": "code",
      "execution_count": 23,
      "metadata": {
        "colab": {
          "base_uri": "https://localhost:8080/"
        },
        "id": "Q_lLkMniycOB",
        "outputId": "83aba791-8edf-4fe7-9b5e-ba34d0d8ee02"
      },
      "outputs": [
        {
          "output_type": "execute_result",
          "data": {
            "text/plain": [
              "{'accuracy': 72.1832384482987,\n",
              " 'precision': 0.7186466952323352,\n",
              " 'recall': 0.7218323844829869,\n",
              " 'f1': 0.6989250353450294}"
            ]
          },
          "metadata": {},
          "execution_count": 23
        }
      ],
      "source": [
        "baseline_preds = model_1.predict(val_sentences)\n",
        "baseline_results = calculate_results(y_true=val_labels_encoded, y_pred=baseline_preds)\n",
        "baseline_results"
      ]
    },
    {
      "cell_type": "markdown",
      "metadata": {
        "id": "jo1VWBFZ6fYO"
      },
      "source": [
        "### Preparing the Text for Deep Sequence Models"
      ]
    },
    {
      "cell_type": "code",
      "execution_count": 24,
      "metadata": {
        "colab": {
          "base_uri": "https://localhost:8080/",
          "height": 298
        },
        "id": "kHGmQgbNyhy_",
        "outputId": "eb12b7a7-06de-420e-9e7e-d708f068293e"
      },
      "outputs": [
        {
          "output_type": "execute_result",
          "data": {
            "text/plain": [
              "Text(0.5, 1.0, 'Sentence Length Distribution')"
            ]
          },
          "metadata": {},
          "execution_count": 24
        },
        {
          "output_type": "display_data",
          "data": {
            "text/plain": [
              "<Figure size 432x288 with 1 Axes>"
            ],
            "image/png": "[encoded data removed]"
          },
          "metadata": {
            "needs_background": "light"
          }
        }
      ],
      "source": [
        "#prepare info for creating embedding and vectorization layers prior to building neural networks\n",
        "\n",
        "import numpy as np\n",
        "import tensorflow as tf\n",
        "from tensorflow.keras import layers\n",
        "import matplotlib.pyplot as plt\n",
        "\n",
        "lengths = [len(x.split(' ')) for x in train_sentences]\n",
        "AVG_SENT_LEN = np.mean(lengths)\n",
        "\n",
        "plt.hist(lengths, bins=20)\n",
        "plt.title(\"Sentence Length Distribution\")"
      ]
    },
    {
      "cell_type": "code",
      "execution_count": 25,
      "metadata": {
        "colab": {
          "base_uri": "https://localhost:8080/"
        },
        "id": "gIb5zeQi8_4P",
        "outputId": "197ae32a-cd8c-4146-af11-ad943b4a0f6a"
      },
      "outputs": [
        {
          "output_type": "execute_result",
          "data": {
            "text/plain": [
              "55"
            ]
          },
          "metadata": {},
          "execution_count": 25
        }
      ],
      "source": [
        "#determine padding cutoff (enough length to fully cover 95% of sentences)\n",
        "\n",
        "seq_len = int(np.percentile(lengths, 95))\n",
        "seq_len"
      ]
    },
    {
      "cell_type": "code",
      "execution_count": 26,
      "metadata": {
        "id": "8KxP9b8M_TpM"
      },
      "outputs": [],
      "source": [
        "#vectorizer layer\n",
        "\n",
        "from tensorflow.keras.layers.experimental.preprocessing import TextVectorization\n",
        "\n",
        "max_tokens = 68000 #source: https://arxiv.org/pdf/1710.06071.pdf, table 2\n",
        "text_vectorizer = TextVectorization(max_tokens=max_tokens,\n",
        "                                    output_sequence_length=seq_len)\n",
        "\n",
        "#adapt to training sentences only (prevent data leakage)\n",
        "text_vectorizer.adapt(train_sentences)"
      ]
    },
    {
      "cell_type": "code",
      "execution_count": 27,
      "metadata": {
        "colab": {
          "base_uri": "https://localhost:8080/"
        },
        "id": "gbgg0iZ79Qob",
        "outputId": "a9a23668-ba4b-4a2c-e46f-0be391f439cf"
      },
      "outputs": [
        {
          "output_type": "stream",
          "name": "stdout",
          "text": [
            "Top 10 Most Common Words:\n",
            " ['', '[UNK]', 'the', 'and', 'of', 'in', 'to', 'with', 'a', 'were']\n",
            "\n",
            "Top 10 Least Common Words:\n",
            " ['aarm', 'aaqol', 'aaq', 'aanhui', 'aana', 'aainduced', 'aaigroup', 'aachener', 'aachen', 'aaacp']\n"
          ]
        }
      ],
      "source": [
        "rct_20k_vocab = text_vectorizer.get_vocabulary()\n",
        "print(f\"Top 10 Most Common Words:\\n {rct_20k_vocab[:10]}\\n\")\n",
        "print(f\"Top 10 Least Common Words:\\n {rct_20k_vocab[-10:]}\")"
      ]
    },
    {
      "cell_type": "code",
      "execution_count": 28,
      "metadata": {
        "colab": {
          "base_uri": "https://localhost:8080/"
        },
        "id": "dOO9jKlk6g9Y",
        "outputId": "ad4644ed-2e60-4499-aaf7-cfe276754bbb"
      },
      "outputs": [
        {
          "output_type": "stream",
          "name": "stdout",
          "text": [
            "Sentence:\n",
            " the aim of the intervention is to reduce such patients ' emergency department use , to improve their quality of life , and to reduce costs consequent on frequent use .\n",
            "\n",
            "Vectorized Sentence:\n",
            " [[    2   267     4     2    38    20     6   270   345    12   921  1047\n",
            "     87     6   218   120   141     4   195     3     6   270   577 11684\n",
            "     18   938    87     0     0     0     0     0     0     0     0     0\n",
            "      0     0     0     0     0     0     0     0     0     0     0     0\n",
            "      0     0     0     0     0     0     0]]\n"
          ]
        }
      ],
      "source": [
        "import random\n",
        "target_sentence = random.choice(train_sentences)\n",
        "print(f\"Sentence:\\n {target_sentence}\\n\")\n",
        "print(f\"Vectorized Sentence:\\n {text_vectorizer([target_sentence])}\")"
      ]
    },
    {
      "cell_type": "code",
      "execution_count": 29,
      "metadata": {
        "id": "UXSRSFcv69qk"
      },
      "outputs": [],
      "source": [
        "#text embedding \n",
        "token_embed = layers.Embedding(input_dim=len(rct_20k_vocab), #the largest integer in the input should be no larger than the vocab. size\n",
        "                               output_dim=128,\n",
        "                               mask_zero=True, #similar to padding with 0s at the end\n",
        "                               name=\"token_embedding\")"
      ]
    },
    {
      "cell_type": "markdown",
      "metadata": {
        "id": "0nrn8E5sl1tc"
      },
      "source": [
        "### Creating Efficient Data Pipeline\n",
        "\n",
        "https://www.tensorflow.org/guide/data_performance"
      ]
    },
    {
      "cell_type": "code",
      "execution_count": 61,
      "metadata": {
        "colab": {
          "base_uri": "https://localhost:8080/"
        },
        "id": "X0o48tfH4UED",
        "outputId": "e3d31e9e-c3f7-41d5-e14f-ec492fa02cb5"
      },
      "outputs": [
        {
          "output_type": "execute_result",
          "data": {
            "text/plain": [
              "<TensorSliceDataset element_spec=(TensorSpec(shape=(), dtype=tf.string, name=None), TensorSpec(shape=(5,), dtype=tf.float64, name=None))>"
            ]
          },
          "metadata": {},
          "execution_count": 61
        }
      ],
      "source": [
        "#use tf.data API to turn data to tf datasets (faster via parallel loading at cost of memory)\n",
        "train_dataset = tf.data.Dataset.from_tensor_slices((train_sentences, train_labels_one_hot))\n",
        "val_dataset = tf.data.Dataset.from_tensor_slices((val_sentences, val_labels_one_hot))\n",
        "test_dataset= tf.data.Dataset.from_tensor_slices((test_sentences, test_labels_one_hot))\n",
        "\n",
        "train_dataset"
      ]
    },
    {
      "cell_type": "code",
      "execution_count": 31,
      "metadata": {
        "colab": {
          "base_uri": "https://localhost:8080/"
        },
        "id": "70uqS5IjmLXB",
        "outputId": "12fa73b8-889b-4772-d87a-ac8f222c2a89"
      },
      "outputs": [
        {
          "output_type": "execute_result",
          "data": {
            "text/plain": [
              "<PrefetchDataset element_spec=(TensorSpec(shape=(None,), dtype=tf.string, name=None), TensorSpec(shape=(None, 5), dtype=tf.float64, name=None))>"
            ]
          },
          "metadata": {},
          "execution_count": 31
        }
      ],
      "source": [
        "train_dataset = train_dataset.batch(32).prefetch(tf.data.AUTOTUNE)\n",
        "val_dataset = val_dataset.batch(32).prefetch(tf.data.AUTOTUNE)\n",
        "test_dataset = test_dataset.batch(32).prefetch(tf.data.AUTOTUNE)\n",
        "\n",
        "train_dataset"
      ]
    },
    {
      "cell_type": "markdown",
      "source": [
        "### Model 2 🤖: Conv1D With Token Embedding"
      ],
      "metadata": {
        "id": "-Mi1J7kAMyhS"
      }
    },
    {
      "cell_type": "code",
      "execution_count": 32,
      "metadata": {
        "colab": {
          "base_uri": "https://localhost:8080/"
        },
        "id": "mU81joOBmma1",
        "outputId": "fbeeefbb-4562-4586-814c-c389472bf8b4"
      },
      "outputs": [
        {
          "output_type": "stream",
          "name": "stdout",
          "text": [
            "Model: \"model\"\n",
            "_________________________________________________________________\n",
            " Layer (type)                Output Shape              Param #   \n",
            "=================================================================\n",
            " input_1 (InputLayer)        [(None, 1)]               0         \n",
            "                                                                 \n",
            " text_vectorization (TextVec  (None, 55)               0         \n",
            " torization)                                                     \n",
            "                                                                 \n",
            " token_embedding (Embedding)  (None, 55, 128)          8299648   \n",
            "                                                                 \n",
            " conv1d (Conv1D)             (None, 55, 64)            41024     \n",
            "                                                                 \n",
            " global_average_pooling1d (G  (None, 64)               0         \n",
            " lobalAveragePooling1D)                                          \n",
            "                                                                 \n",
            " dense (Dense)               (None, 5)                 325       \n",
            "                                                                 \n",
            "=================================================================\n",
            "Total params: 8,340,997\n",
            "Trainable params: 8,340,997\n",
            "Non-trainable params: 0\n",
            "_________________________________________________________________\n"
          ]
        }
      ],
      "source": [
        "#setup model\n",
        "\n",
        "inputs = layers.Input(shape=(1,), dtype=tf.string)\n",
        "text_vectors = text_vectorizer(inputs)\n",
        "token_embedding = token_embed(text_vectors)\n",
        "x = layers.Conv1D(64, kernel_size=5, padding=\"same\", activation=\"relu\")(token_embedding)\n",
        "x = layers.GlobalAveragePooling1D()(x) #condense output of feature vector\n",
        "outputs = layers.Dense(len(class_names), activation=\"softmax\")(x)\n",
        "\n",
        "model_2 = tf.keras.Model(inputs, outputs)\n",
        "model_2.compile(loss=\"categorical_crossentropy\",\n",
        "                optimizer=tf.keras.optimizers.Adam(),\n",
        "                metrics=[\"accuracy\"])\n",
        "\n",
        "model_2.summary()"
      ]
    },
    {
      "cell_type": "code",
      "source": [
        "#fit model (but only look at 10% of batch / epoch)\n",
        "\n",
        "history_model_2 = model_2.fit(train_dataset,\n",
        "                              steps_per_epoch=int(0.1*len(train_dataset)),\n",
        "                              epochs=3,\n",
        "                              validation_data=val_dataset,\n",
        "                              validation_steps=int(0.1*len(val_dataset)))"
      ],
      "metadata": {
        "colab": {
          "base_uri": "https://localhost:8080/"
        },
        "id": "goZ6w6s-NeOa",
        "outputId": "8793e6e3-b479-42c2-c513-b05b9384b0a4"
      },
      "execution_count": 33,
      "outputs": [
        {
          "output_type": "stream",
          "name": "stdout",
          "text": [
            "Epoch 1/3\n",
            "562/562 [==============================] - 14s 9ms/step - loss: 0.9164 - accuracy: 0.6382 - val_loss: 0.6850 - val_accuracy: 0.7367\n",
            "Epoch 2/3\n",
            "562/562 [==============================] - 5s 9ms/step - loss: 0.6593 - accuracy: 0.7566 - val_loss: 0.6321 - val_accuracy: 0.7703\n",
            "Epoch 3/3\n",
            "562/562 [==============================] - 6s 11ms/step - loss: 0.6184 - accuracy: 0.7752 - val_loss: 0.5978 - val_accuracy: 0.7832\n"
          ]
        }
      ]
    },
    {
      "cell_type": "code",
      "source": [
        "#model evaluation\n",
        "\n",
        "model_2.evaluate(val_dataset)"
      ],
      "metadata": {
        "colab": {
          "base_uri": "https://localhost:8080/"
        },
        "id": "t4zij6-iPE1O",
        "outputId": "45b81b0f-a21d-474e-b4d9-d16c5c5d22f5"
      },
      "execution_count": 34,
      "outputs": [
        {
          "output_type": "stream",
          "name": "stdout",
          "text": [
            "945/945 [==============================] - 3s 3ms/step - loss: 0.5997 - accuracy: 0.7856\n"
          ]
        },
        {
          "output_type": "execute_result",
          "data": {
            "text/plain": [
              "[0.599702775478363, 0.7855818867683411]"
            ]
          },
          "metadata": {},
          "execution_count": 34
        }
      ]
    },
    {
      "cell_type": "code",
      "source": [
        "model_2_preds = model_2.predict(val_dataset)\n",
        "conv_model_2_preds = [class_names[max([i for i in range(5)], key=lambda j:pred[j])] for pred in model_2_preds]\n",
        "\n",
        "class_names"
      ],
      "metadata": {
        "colab": {
          "base_uri": "https://localhost:8080/"
        },
        "id": "fieHQ8UnQXST",
        "outputId": "e7b32bb5-96b2-421b-b961-c650ccb7f00a"
      },
      "execution_count": 35,
      "outputs": [
        {
          "output_type": "stream",
          "name": "stdout",
          "text": [
            "945/945 [==============================] - 2s 2ms/step\n"
          ]
        },
        {
          "output_type": "execute_result",
          "data": {
            "text/plain": [
              "array(['BACKGROUND', 'CONCLUSIONS', 'METHODS', 'OBJECTIVE', 'RESULTS'],\n",
              "      dtype=object)"
            ]
          },
          "metadata": {},
          "execution_count": 35
        }
      ]
    },
    {
      "cell_type": "code",
      "source": [
        "conv_model_2_preds[:5]"
      ],
      "metadata": {
        "colab": {
          "base_uri": "https://localhost:8080/"
        },
        "id": "WNGyblsVQoPz",
        "outputId": "3641e925-041d-4904-d670-ff93acb55230"
      },
      "execution_count": 36,
      "outputs": [
        {
          "output_type": "execute_result",
          "data": {
            "text/plain": [
              "['BACKGROUND', 'BACKGROUND', 'OBJECTIVE', 'METHODS', 'RESULTS']"
            ]
          },
          "metadata": {},
          "execution_count": 36
        }
      ]
    },
    {
      "cell_type": "code",
      "source": [
        "model_2_results = calculate_results(val_labels_encoded,\n",
        "                                    tf.argmax(model_2_preds, axis=1))\n",
        "\n",
        "model_2_results"
      ],
      "metadata": {
        "colab": {
          "base_uri": "https://localhost:8080/"
        },
        "id": "WymNadRNRFEs",
        "outputId": "8c79c12b-c1d0-453f-d00f-1864e754c71a"
      },
      "execution_count": 37,
      "outputs": [
        {
          "output_type": "execute_result",
          "data": {
            "text/plain": [
              "{'accuracy': 78.55818879915265,\n",
              " 'precision': 0.7829496372575726,\n",
              " 'recall': 0.7855818879915265,\n",
              " 'f1': 0.7834477148143775}"
            ]
          },
          "metadata": {},
          "execution_count": 37
        }
      ]
    },
    {
      "cell_type": "markdown",
      "source": [
        "### Model 3 🤖: Pretrained Feature Extractor (Conv1D)\n",
        "\n",
        "*   universal sentence encoder v4\n",
        "\n"
      ],
      "metadata": {
        "id": "GpGX3RlxSIVk"
      }
    },
    {
      "cell_type": "code",
      "source": [
        "import tensorflow_hub as hub\n",
        "\n",
        "extractor_layer = hub.KerasLayer(\"https://tfhub.dev/google/universal-sentence-encoder/4\",\n",
        "                                 trainable=False,\n",
        "                                 name=\"USE\")"
      ],
      "metadata": {
        "id": "-IoFp_4kRnN5"
      },
      "execution_count": 38,
      "outputs": []
    },
    {
      "cell_type": "code",
      "source": [
        "#test on arbitrary sentence\n",
        "sentence = random.choice(train_sentences)\n",
        "embedded_sentence = extractor_layer([sentence])\n",
        "print(sentence)\n",
        "print(embedded_sentence)"
      ],
      "metadata": {
        "id": "GO8c4D08R8L6",
        "colab": {
          "base_uri": "https://localhost:8080/"
        },
        "outputId": "fd50e637-a170-4b3f-e9dc-f433f2181a21"
      },
      "execution_count": 39,
      "outputs": [
        {
          "output_type": "stream",
          "name": "stdout",
          "text": [
            "four lipid-associated snps ( lpl rs@ , trib@ rs@ , cetp rs@ , and kctd@/mvk rs@ ) were associated with amd in african americans and mexican americans ( p < @ ) , but these associations did not survive strict corrections for multiple testing .\n",
            "tf.Tensor(\n",
            "[[-0.06298722 -0.04179734 -0.03507845 -0.04676126  0.04547403 -0.04571316\n",
            "  -0.03551132 -0.01052727 -0.07417542  0.00724101  0.0149443   0.01087045\n",
            "   0.03290072 -0.02558419  0.03455094 -0.02861264 -0.06369971  0.03833872\n",
            "   0.07895751  0.02101979  0.05047495 -0.05956012 -0.0194305  -0.01898614\n",
            "   0.00018447 -0.06515764 -0.05063475  0.06255727 -0.03403155 -0.01770939\n",
            "   0.02217564 -0.0261622   0.02999711 -0.06745418 -0.0530535   0.06840286\n",
            "  -0.01693168 -0.03974468  0.04259358 -0.01113257  0.01776137 -0.02187367\n",
            "  -0.05616966 -0.00523877  0.03141339  0.00678532  0.01854522 -0.07057894\n",
            "   0.03343691 -0.05578587 -0.0018462  -0.04289293 -0.05223938 -0.03752375\n",
            "   0.01686006  0.05432874 -0.05369921 -0.03323789 -0.01990197  0.00954796\n",
            "  -0.06354944 -0.07559464  0.06345908 -0.0095069  -0.06281176 -0.03535914\n",
            "   0.01194084  0.00237787  0.02531804  0.03759098 -0.03166565  0.04346672\n",
            "   0.02335919  0.04317802 -0.0744835   0.03703938  0.05820123  0.05672676\n",
            "  -0.02254705  0.06640309  0.02497665  0.07807308  0.03897071  0.04704161\n",
            "  -0.01423005  0.05033911 -0.02522398 -0.07157264  0.00087742 -0.04606083\n",
            "  -0.03615558  0.007554   -0.01321563  0.04998319  0.04832178  0.0092098\n",
            "  -0.029968    0.03728758 -0.01802862 -0.06225079  0.08064432 -0.03332251\n",
            "  -0.02065171  0.05266838  0.00477201 -0.0715175  -0.02883724 -0.00830529\n",
            "  -0.01797607 -0.07554405 -0.0001403  -0.0263404   0.00554513  0.00352581\n",
            "   0.06292742 -0.02814161  0.02033887 -0.04365879  0.01475478 -0.01297457\n",
            "  -0.01073545  0.03632117 -0.00216087  0.01335821  0.04325454  0.04493431\n",
            "   0.08139349  0.01033672 -0.01416196  0.05698305 -0.06449237  0.0023567\n",
            "   0.00509018 -0.02164679  0.02558223  0.04806238  0.06443038  0.00096604\n",
            "  -0.02266993 -0.03362925  0.06056431  0.07855004  0.00791042 -0.04223397\n",
            "  -0.03338134  0.05533049 -0.03112256 -0.03418365  0.0369147  -0.01993079\n",
            "   0.0021589  -0.0477249  -0.01044519  0.07703393 -0.03004071 -0.04994005\n",
            "   0.0781996  -0.02181814  0.00783429 -0.00695095 -0.05598467  0.06977665\n",
            "  -0.01882096  0.07286656 -0.01934117 -0.03459634 -0.0247381   0.05934906\n",
            "   0.0325814  -0.03838775  0.06753635 -0.05511874  0.00917169  0.01818689\n",
            "   0.03439531  0.02229396 -0.05438076 -0.0103167  -0.01930519  0.06167379\n",
            "   0.05039335  0.06843084  0.03398569  0.07357343 -0.07834442 -0.06992425\n",
            "   0.04049946 -0.04469243 -0.03528352  0.03958003  0.06525727  0.0255274\n",
            "   0.00089287  0.03752747  0.04465272 -0.00611246  0.00309523 -0.0177908\n",
            "  -0.06441236  0.02456127 -0.05515025  0.05705496 -0.03678033 -0.03236289\n",
            "   0.06173784  0.05307191  0.04469397  0.01439652  0.05764126 -0.03252387\n",
            "  -0.02993368  0.03073467  0.01897503  0.05969147 -0.02409067 -0.01443007\n",
            "   0.04433644  0.01838294 -0.02014886  0.01514979  0.05447666 -0.06229153\n",
            "   0.00963174  0.05684683 -0.06075593  0.01446592  0.04130588 -0.047943\n",
            "  -0.07365143  0.02645434  0.07382857  0.05080115  0.06117631 -0.07396678\n",
            "   0.04063329 -0.0488925  -0.05425325 -0.02359631  0.01289139 -0.01295113\n",
            "  -0.03413175 -0.06197639 -0.07937831 -0.01192295  0.01209623 -0.00821124\n",
            "  -0.00969391  0.0484544   0.03601353 -0.05190367 -0.01194494  0.00338831\n",
            "  -0.00746284 -0.01190065  0.04991526 -0.04679416 -0.02623551  0.07654845\n",
            "   0.03803517  0.04943148 -0.05711506  0.00066746 -0.06970003 -0.05044485\n",
            "  -0.03794669  0.06316634 -0.06368658 -0.00068179 -0.05749956  0.03140785\n",
            "  -0.05735779  0.0621825   0.06699938 -0.01730895  0.06687578  0.06093976\n",
            "   0.03002398  0.01720428 -0.01560764 -0.02190402  0.03441508  0.03813938\n",
            "   0.01684785  0.06836013 -0.05142519 -0.00164392  0.02990036 -0.0620258\n",
            "   0.06857871 -0.04152103  0.01135555 -0.01954835 -0.06182911  0.02510697\n",
            "  -0.04261488 -0.02178703 -0.00473245 -0.07836664 -0.0686074  -0.00244903\n",
            "  -0.0179433  -0.00716837  0.04458186  0.0438091  -0.07574979  0.05567557\n",
            "   0.04413735 -0.05688682 -0.0301898   0.04104751 -0.05044905 -0.03983283\n",
            "   0.06291981  0.05304809 -0.03992736 -0.05810907 -0.02820864  0.05152212\n",
            "   0.08080789  0.03783447 -0.07013127 -0.04144479  0.07235167 -0.03472901\n",
            "  -0.06842126 -0.00609242 -0.00584956 -0.06808633 -0.01056242  0.01226826\n",
            "   0.02787069 -0.04335751  0.03982723  0.03367737 -0.06980888 -0.03944072\n",
            "   0.00644458 -0.06695889 -0.06007126 -0.00072291 -0.00347304 -0.07173895\n",
            "  -0.01516091  0.05146639 -0.02834347  0.05337806  0.06177691 -0.00185041\n",
            "   0.03495124 -0.06910285 -0.07531852 -0.08108156 -0.04056538  0.03957366\n",
            "  -0.03244321 -0.01383512 -0.07447579  0.00881146  0.02286637 -0.06875069\n",
            "  -0.05402473 -0.07119222  0.02571916 -0.07301092  0.03841905 -0.05823714\n",
            "   0.06196026 -0.02094296  0.07251791 -0.00818869  0.0752187   0.02625495\n",
            "   0.07591411  0.00975139 -0.02664259  0.03530537  0.01947081  0.01511656\n",
            "   0.0367631  -0.05982213  0.00598879  0.03267357 -0.00172606 -0.06898898\n",
            "   0.0425973   0.0383196  -0.01416511 -0.022279    0.03729116  0.00731288\n",
            "   0.01781578 -0.05400766 -0.05800658 -0.06768616 -0.07059764 -0.01560253\n",
            "  -0.00807157 -0.01732774  0.01029539 -0.06558451  0.06854053  0.0446977\n",
            "   0.02982167 -0.05726796  0.00637737  0.00452077  0.02189662  0.07223082\n",
            "  -0.0512659  -0.07148229 -0.01557566  0.02167626  0.02483058 -0.00823566\n",
            "   0.02315524 -0.07369457  0.07160486 -0.00583786 -0.07314087 -0.04326603\n",
            "  -0.0271879  -0.03846221 -0.00597515  0.04742059  0.04679162  0.05824888\n",
            "  -0.03689349  0.01336872 -0.08029074  0.00509727  0.04151031 -0.06761676\n",
            "  -0.07394314  0.03724851 -0.04241636 -0.0292308  -0.02293778 -0.05222822\n",
            "   0.01014111  0.03895767 -0.0120773   0.0792611  -0.02310779  0.01751993\n",
            "  -0.04093367  0.07882812 -0.02841394 -0.02277952  0.03489035  0.07006282\n",
            "  -0.03608802  0.02046738  0.01503769  0.0765536  -0.00895349 -0.05031702\n",
            "  -0.04060532  0.03057368 -0.03550539  0.01675275  0.05001402  0.0698051\n",
            "   0.03512783 -0.00929767  0.02435366 -0.04683733 -0.07242693 -0.0498339\n",
            "   0.05323884  0.01073675  0.03102086 -0.01490929  0.04967344  0.02557182\n",
            "  -0.04333437 -0.03350693  0.04764934  0.00560001 -0.02277225  0.03658041\n",
            "   0.03615857  0.06206308  0.00747499 -0.02993663  0.06424201  0.03752148\n",
            "  -0.01899807  0.02835621 -0.0304977  -0.06112159  0.02510129  0.02741508\n",
            "   0.05779819 -0.03492209 -0.0313751  -0.05770925  0.04336317 -0.07170594\n",
            "   0.06396209  0.00450832 -0.0423579  -0.06076124 -0.04642419 -0.00836584\n",
            "   0.03115888 -0.00288484  0.06740391  0.05638306 -0.02560685  0.01193412\n",
            "  -0.03639959 -0.07347095]], shape=(1, 512), dtype=float32)\n"
          ]
        }
      ]
    },
    {
      "cell_type": "code",
      "source": [
        "inputs = layers.Input(shape=[], dtype=tf.string)\n",
        "embedding = extractor_layer(inputs)\n",
        "x = layers.Dense(128, activation=\"relu\")(embedding)\n",
        "x = layers.Dense(64, activation=\"relu\")(x)\n",
        "outputs = layers.Dense(num_classes, activation=\"softmax\")(x)\n",
        "model_3 = tf.keras.Model(inputs=inputs,\n",
        "                         outputs=outputs,\n",
        "                         name=\"USE_feature_extractor\")\n",
        "\n",
        "model_3.compile(loss=\"categorical_crossentropy\",\n",
        "                optimizer=tf.keras.optimizers.Adam(),\n",
        "                metrics=[\"accuracy\"])"
      ],
      "metadata": {
        "id": "1aOkoRzdTolo"
      },
      "execution_count": 40,
      "outputs": []
    },
    {
      "cell_type": "code",
      "source": [
        "history_model_3 = model_3.fit(train_dataset,\n",
        "                              steps_per_epoch=int(0.1*len(train_dataset)),\n",
        "                              epochs=3,\n",
        "                              validation_data=val_dataset,\n",
        "                              validation_steps=int(0.1*len(val_dataset)))"
      ],
      "metadata": {
        "colab": {
          "base_uri": "https://localhost:8080/"
        },
        "id": "lCNENaour5Qm",
        "outputId": "bc5c5f0a-3d05-4077-ca50-a00937fc5268"
      },
      "execution_count": 41,
      "outputs": [
        {
          "output_type": "stream",
          "name": "stdout",
          "text": [
            "Epoch 1/3\n",
            "562/562 [==============================] - 12s 16ms/step - loss: 0.8938 - accuracy: 0.6481 - val_loss: 0.7830 - val_accuracy: 0.6985\n",
            "Epoch 2/3\n",
            "562/562 [==============================] - 8s 15ms/step - loss: 0.7436 - accuracy: 0.7095 - val_loss: 0.7245 - val_accuracy: 0.7148\n",
            "Epoch 3/3\n",
            "562/562 [==============================] - 17s 30ms/step - loss: 0.7171 - accuracy: 0.7241 - val_loss: 0.6908 - val_accuracy: 0.7334\n"
          ]
        }
      ]
    },
    {
      "cell_type": "code",
      "source": [
        "model_3_preds = model_3.predict(val_dataset)\n",
        "conv_model_3_preds = [class_names[max([i for i in range(5)], key=lambda j:pred[j])] for pred in model_3_preds]\n",
        "model_3_results = calculate_results(val_labels_encoded,\n",
        "                                    tf.argmax(model_3_preds, axis=1))\n",
        "\n",
        "model_3_results"
      ],
      "metadata": {
        "colab": {
          "base_uri": "https://localhost:8080/"
        },
        "id": "Ts_sj8oYuXQ0",
        "outputId": "b7c3cfe6-50ef-4e74-f593-b2850bc9caf6"
      },
      "execution_count": 42,
      "outputs": [
        {
          "output_type": "stream",
          "name": "stdout",
          "text": [
            "945/945 [==============================] - 19s 19ms/step\n"
          ]
        },
        {
          "output_type": "execute_result",
          "data": {
            "text/plain": [
              "{'accuracy': 73.12326227988879,\n",
              " 'precision': 0.7317881891843718,\n",
              " 'recall': 0.7312326227988879,\n",
              " 'f1': 0.7302929196186316}"
            ]
          },
          "metadata": {},
          "execution_count": 42
        }
      ]
    },
    {
      "cell_type": "markdown",
      "source": [
        "### Model 3 🤖: Character Embeddings (Conv1D)\n",
        "\n",
        "*   The paper being replicated used a combination of character and token/word embeddings\n",
        "*   All previously created embeddings were token embeddings\n",
        "\n",
        "\n",
        "\n"
      ],
      "metadata": {
        "id": "C8VAqQY1DHUk"
      }
    },
    {
      "cell_type": "markdown",
      "source": [
        "#### Preparing Necessary Layer"
      ],
      "metadata": {
        "id": "OwsySXUk40_K"
      }
    },
    {
      "cell_type": "code",
      "source": [
        "#first we need to create a character level tokenizer\n",
        "\n",
        "split_chars = lambda text: ' '.join(list(text))\n",
        "train_chars = [split_chars(x) for x in train_sentences]\n",
        "val_chars = [split_chars(x) for x in val_sentences]\n",
        "test_chars = [split_chars(x) for x in test_sentences]\n",
        "train_chars[0]"
      ],
      "metadata": {
        "id": "yjRmTtBtuhWn",
        "colab": {
          "base_uri": "https://localhost:8080/",
          "height": 104
        },
        "outputId": "e5c8e641-83bb-431d-8ccb-afb4076c0323"
      },
      "execution_count": 43,
      "outputs": [
        {
          "output_type": "execute_result",
          "data": {
            "text/plain": [
              "'t o   i n v e s t i g a t e   t h e   e f f i c a c y   o f   @   w e e k s   o f   d a i l y   l o w - d o s e   o r a l   p r e d n i s o l o n e   i n   i m p r o v i n g   p a i n   ,   m o b i l i t y   ,   a n d   s y s t e m i c   l o w - g r a d e   i n f l a m m a t i o n   i n   t h e   s h o r t   t e r m   a n d   w h e t h e r   t h e   e f f e c t   w o u l d   b e   s u s t a i n e d   a t   @   w e e k s   i n   o l d e r   a d u l t s   w i t h   m o d e r a t e   t o   s e v e r e   k n e e   o s t e o a r t h r i t i s   (   o a   )   .'"
            ],
            "application/vnd.google.colaboratory.intrinsic+json": {
              "type": "string"
            }
          },
          "metadata": {},
          "execution_count": 43
        }
      ]
    },
    {
      "cell_type": "code",
      "source": [
        "#average char length (to cut off sentences or pad with 0s)\n",
        "\n",
        "char_len = [len(x) for x in train_chars]\n",
        "avg_char_len = np.mean(char_len)\n",
        "avg_char_len"
      ],
      "metadata": {
        "colab": {
          "base_uri": "https://localhost:8080/"
        },
        "id": "atwlyqDMEsDL",
        "outputId": "6635dd71-a85a-449f-a4d5-f378e43613e4"
      },
      "execution_count": 44,
      "outputs": [
        {
          "output_type": "execute_result",
          "data": {
            "text/plain": [
              "297.7325149966674"
            ]
          },
          "metadata": {},
          "execution_count": 44
        }
      ]
    },
    {
      "cell_type": "code",
      "source": [
        "plt.hist(char_len, bins=20)\n",
        "plt.title(\"Character Length Distribution\")"
      ],
      "metadata": {
        "colab": {
          "base_uri": "https://localhost:8080/",
          "height": 298
        },
        "id": "Hfg3r3KvFdKv",
        "outputId": "9f2fadac-9db8-4031-b4b0-d2089bb2d8bd"
      },
      "execution_count": 45,
      "outputs": [
        {
          "output_type": "execute_result",
          "data": {
            "text/plain": [
              "Text(0.5, 1.0, 'Character Length Distribution')"
            ]
          },
          "metadata": {},
          "execution_count": 45
        },
        {
          "output_type": "display_data",
          "data": {
            "text/plain": [
              "<Figure size 432x288 with 1 Axes>"
            ],
            "image/png": "[encoded data removed]"
          },
          "metadata": {
            "needs_background": "light"
          }
        }
      ]
    },
    {
      "cell_type": "code",
      "source": [
        "char_len_95 = int(np.percentile(char_len, 95))\n",
        "char_len_95"
      ],
      "metadata": {
        "colab": {
          "base_uri": "https://localhost:8080/"
        },
        "id": "b_3EbKVuFsCb",
        "outputId": "0632fb81-042a-477f-bc76-b30720de5d8e"
      },
      "execution_count": 46,
      "outputs": [
        {
          "output_type": "execute_result",
          "data": {
            "text/plain": [
              "579"
            ]
          },
          "metadata": {},
          "execution_count": 46
        }
      ]
    },
    {
      "cell_type": "code",
      "source": [
        "#all keyboard chars\n",
        "import string\n",
        "all_chars = string.ascii_lowercase + string.digits + string.punctuation + ' ' + 'U' #include space and unkown chars\n",
        "all_chars"
      ],
      "metadata": {
        "colab": {
          "base_uri": "https://localhost:8080/",
          "height": 35
        },
        "id": "nS2eHKCXF1sY",
        "outputId": "8c2263e5-f43b-4cb3-95c3-491065f1ec93"
      },
      "execution_count": 47,
      "outputs": [
        {
          "output_type": "execute_result",
          "data": {
            "text/plain": [
              "'abcdefghijklmnopqrstuvwxyz0123456789!\"#$%&\\'()*+,-./:;<=>?@[\\\\]^_`{|}~ U'"
            ],
            "application/vnd.google.colaboratory.intrinsic+json": {
              "type": "string"
            }
          },
          "metadata": {},
          "execution_count": 47
        }
      ]
    },
    {
      "cell_type": "code",
      "source": [
        "CHAR_TOKENS_LENGTH = len(all_chars)\n",
        "char_vectorizer = TextVectorization(max_tokens=CHAR_TOKENS_LENGTH,\n",
        "                                    output_sequence_length=char_len_95,\n",
        "                                    name=\"char_vectorizer\")\n",
        "char_vectorizer.adapt(train_chars)"
      ],
      "metadata": {
        "id": "ng1KKbIuHbDp"
      },
      "execution_count": 48,
      "outputs": []
    },
    {
      "cell_type": "code",
      "source": [
        "random_train_chars = random.choice(train_chars)\n",
        "vectorized_chars = char_vectorizer([random_train_chars])\n",
        "vectorized_chars"
      ],
      "metadata": {
        "colab": {
          "base_uri": "https://localhost:8080/"
        },
        "id": "hnesQlzXIVlL",
        "outputId": "06e67e93-c982-4156-f5a3-6ab2b4df92c3"
      },
      "execution_count": 49,
      "outputs": [
        {
          "output_type": "execute_result",
          "data": {
            "text/plain": [
              "<tf.Tensor: shape=(1, 579), dtype=int64, numpy=\n",
              "array([[ 3, 13,  2, 14,  5,  4,  6, 14,  8,  2,  9,  9, 16,  8,  2,  3,\n",
              "        13,  8,  2,  9, 13,  7, 12, 10, 14, 14,  3, 20,  4, 12, 12, 22,\n",
              "         2, 15,  2,  5,  9, 16,  8,  2, 10, 14,  5,  8,  5,  9, 14,  4,\n",
              "         6,  5, 12, 12, 19,  7,  6,  3, 13,  2,  3,  2,  6, 10,  2,  8,\n",
              "         9, 14,  7,  3, 22,  2,  9,  4, 10,  2,  3, 13,  2,  4,  6, 21,\n",
              "         7, 12, 21,  2, 10, 27,  7,  4,  6,  3, 22,  2, 17,  7,  8,  2,\n",
              "         5,  6, 10,  4, 15, 15,  2, 10,  4,  5,  3,  2, 12, 19,  5, 17,\n",
              "         3,  2,  8,  2,  5, 11, 13,  9, 15,  3,  8,  2,  5,  3, 15,  2,\n",
              "         6,  3,  0,  0,  0,  0,  0,  0,  0,  0,  0,  0,  0,  0,  0,  0,\n",
              "         0,  0,  0,  0,  0,  0,  0,  0,  0,  0,  0,  0,  0,  0,  0,  0,\n",
              "         0,  0,  0,  0,  0,  0,  0,  0,  0,  0,  0,  0,  0,  0,  0,  0,\n",
              "         0,  0,  0,  0,  0,  0,  0,  0,  0,  0,  0,  0,  0,  0,  0,  0,\n",
              "         0,  0,  0,  0,  0,  0,  0,  0,  0,  0,  0,  0,  0,  0,  0,  0,\n",
              "         0,  0,  0,  0,  0,  0,  0,  0,  0,  0,  0,  0,  0,  0,  0,  0,\n",
              "         0,  0,  0,  0,  0,  0,  0,  0,  0,  0,  0,  0,  0,  0,  0,  0,\n",
              "         0,  0,  0,  0,  0,  0,  0,  0,  0,  0,  0,  0,  0,  0,  0,  0,\n",
              "         0,  0,  0,  0,  0,  0,  0,  0,  0,  0,  0,  0,  0,  0,  0,  0,\n",
              "         0,  0,  0,  0,  0,  0,  0,  0,  0,  0,  0,  0,  0,  0,  0,  0,\n",
              "         0,  0,  0,  0,  0,  0,  0,  0,  0,  0,  0,  0,  0,  0,  0,  0,\n",
              "         0,  0,  0,  0,  0,  0,  0,  0,  0,  0,  0,  0,  0,  0,  0,  0,\n",
              "         0,  0,  0,  0,  0,  0,  0,  0,  0,  0,  0,  0,  0,  0,  0,  0,\n",
              "         0,  0,  0,  0,  0,  0,  0,  0,  0,  0,  0,  0,  0,  0,  0,  0,\n",
              "         0,  0,  0,  0,  0,  0,  0,  0,  0,  0,  0,  0,  0,  0,  0,  0,\n",
              "         0,  0,  0,  0,  0,  0,  0,  0,  0,  0,  0,  0,  0,  0,  0,  0,\n",
              "         0,  0,  0,  0,  0,  0,  0,  0,  0,  0,  0,  0,  0,  0,  0,  0,\n",
              "         0,  0,  0,  0,  0,  0,  0,  0,  0,  0,  0,  0,  0,  0,  0,  0,\n",
              "         0,  0,  0,  0,  0,  0,  0,  0,  0,  0,  0,  0,  0,  0,  0,  0,\n",
              "         0,  0,  0,  0,  0,  0,  0,  0,  0,  0,  0,  0,  0,  0,  0,  0,\n",
              "         0,  0,  0,  0,  0,  0,  0,  0,  0,  0,  0,  0,  0,  0,  0,  0,\n",
              "         0,  0,  0,  0,  0,  0,  0,  0,  0,  0,  0,  0,  0,  0,  0,  0,\n",
              "         0,  0,  0,  0,  0,  0,  0,  0,  0,  0,  0,  0,  0,  0,  0,  0,\n",
              "         0,  0,  0,  0,  0,  0,  0,  0,  0,  0,  0,  0,  0,  0,  0,  0,\n",
              "         0,  0,  0,  0,  0,  0,  0,  0,  0,  0,  0,  0,  0,  0,  0,  0,\n",
              "         0,  0,  0,  0,  0,  0,  0,  0,  0,  0,  0,  0,  0,  0,  0,  0,\n",
              "         0,  0,  0,  0,  0,  0,  0,  0,  0,  0,  0,  0,  0,  0,  0,  0,\n",
              "         0,  0,  0,  0,  0,  0,  0,  0,  0,  0,  0,  0,  0,  0,  0,  0,\n",
              "         0,  0,  0]])>"
            ]
          },
          "metadata": {},
          "execution_count": 49
        }
      ]
    },
    {
      "cell_type": "code",
      "source": [
        "#creating character level embedding\n",
        "char_embed = layers.Embedding(input_dim=len(all_chars),\n",
        "                              output_dim=25, #output dim in paper\n",
        "                              mask_zero=True,\n",
        "                              name=\"char_embed\")"
      ],
      "metadata": {
        "id": "RDITpNyIINs2"
      },
      "execution_count": 50,
      "outputs": []
    },
    {
      "cell_type": "code",
      "source": [
        "print(f\"charified text:\\n {random_train_chars}\\n\")\n",
        "embed = char_embed(char_vectorizer([random_train_chars]))\n",
        "print(f\"embeded text:\\n {embed}\\n\")\n",
        "embed.shape"
      ],
      "metadata": {
        "colab": {
          "base_uri": "https://localhost:8080/"
        },
        "id": "y_C1UYWd7V03",
        "outputId": "3d92272d-13aa-4af1-8659-0aa12a9b2041"
      },
      "execution_count": 51,
      "outputs": [
        {
          "output_type": "stream",
          "name": "stdout",
          "text": [
            "charified text:\n",
            " t h e   p a i n   p r e s s u r e   t h r e s h o l d   (   p p t   )   w i l l   b e   m e a s u r e d   p a r a s p i n a l l y   o n   t h e   t e n d e r   s p o t   b e s i d e   t h e   i n v o l v e d   j o i n t   b e f o r e   a n d   i m m e d i a t e l y   a f t e r   e a c h   s m   t r e a t m e n t   .\n",
            "\n",
            "embeded text:\n",
            " [[[ 0.04342718  0.04873673  0.00496036 ...  0.00891776  0.03933126\n",
            "    0.03817913]\n",
            "  [ 0.0287351   0.02143334 -0.02915816 ...  0.02544307 -0.02939098\n",
            "    0.01772596]\n",
            "  [-0.04697354  0.04601656 -0.02362752 ... -0.01186901  0.04617378\n",
            "   -0.00911131]\n",
            "  ...\n",
            "  [ 0.00162519 -0.03643958  0.03034535 ... -0.04894117 -0.02736755\n",
            "   -0.03335877]\n",
            "  [ 0.00162519 -0.03643958  0.03034535 ... -0.04894117 -0.02736755\n",
            "   -0.03335877]\n",
            "  [ 0.00162519 -0.03643958  0.03034535 ... -0.04894117 -0.02736755\n",
            "   -0.03335877]]]\n",
            "\n"
          ]
        },
        {
          "output_type": "execute_result",
          "data": {
            "text/plain": [
              "TensorShape([1, 579, 25])"
            ]
          },
          "metadata": {},
          "execution_count": 51
        }
      ]
    },
    {
      "cell_type": "markdown",
      "source": [
        "#### Building the Model"
      ],
      "metadata": {
        "id": "J7dY6wB645-K"
      }
    },
    {
      "cell_type": "code",
      "source": [
        "inputs = layers.Input(shape=(1,), dtype=\"string\")\n",
        "char_vectors = char_vectorizer(inputs)\n",
        "char_embeddings = char_embed(char_vectors)\n",
        "x = layers.Conv1D(64, kernel_size=7, padding=\"same\", activation=\"relu\")(char_embeddings)\n",
        "x = layers.GlobalMaxPooling1D()(x)\n",
        "outputs = layers.Dense(num_classes, activation=\"softmax\")(x)\n",
        "\n",
        "model_4 = tf.keras.Model(inputs,outputs)"
      ],
      "metadata": {
        "id": "4H-Y40J67hTt"
      },
      "execution_count": 90,
      "outputs": []
    },
    {
      "cell_type": "code",
      "source": [
        "model_4.compile(loss=\"categorical_crossentropy\",\n",
        "                optimizer=tf.keras.optimizers.Adam(),\n",
        "                metrics=[\"accuracy\"])\n"
      ],
      "metadata": {
        "id": "GOeoUfYk1XS7"
      },
      "execution_count": 91,
      "outputs": []
    },
    {
      "cell_type": "code",
      "source": [
        "model_4.summary()"
      ],
      "metadata": {
        "colab": {
          "base_uri": "https://localhost:8080/"
        },
        "id": "zMy1yc081vGC",
        "outputId": "8cb8b423-ec3e-4abf-e546-4fdf0f625ab5"
      },
      "execution_count": 92,
      "outputs": [
        {
          "output_type": "stream",
          "name": "stdout",
          "text": [
            "Model: \"model_4\"\n",
            "_________________________________________________________________\n",
            " Layer (type)                Output Shape              Param #   \n",
            "=================================================================\n",
            " input_8 (InputLayer)        [(None, 1)]               0         \n",
            "                                                                 \n",
            " char_vectorizer (TextVector  (None, 579)              0         \n",
            " ization)                                                        \n",
            "                                                                 \n",
            " char_embed (Embedding)      (None, 579, 25)           1750      \n",
            "                                                                 \n",
            " conv1d_6 (Conv1D)           (None, 579, 64)           11264     \n",
            "                                                                 \n",
            " global_max_pooling1d (Globa  (None, 64)               0         \n",
            " lMaxPooling1D)                                                  \n",
            "                                                                 \n",
            " dense_8 (Dense)             (None, 5)                 325       \n",
            "                                                                 \n",
            "=================================================================\n",
            "Total params: 13,339\n",
            "Trainable params: 13,339\n",
            "Non-trainable params: 0\n",
            "_________________________________________________________________\n"
          ]
        }
      ]
    },
    {
      "cell_type": "code",
      "source": [
        "#char level datasets\n",
        "train_char_dataset = tf.data.Dataset.from_tensor_slices((train_chars, train_labels_one_hot)).batch(32).prefetch(tf.data.AUTOTUNE)\n",
        "val_char_dataset = tf.data.Dataset.from_tensor_slices((val_chars, val_labels_one_hot)).batch(32).prefetch(tf.data.AUTOTUNE)\n",
        "test_char_dataset = tf.data.Dataset.from_tensor_slices((test_chars, test_labels_one_hot)).batch(32).prefetch(tf.data.AUTOTUNE)\n",
        "\n",
        "train_char_dataset"
      ],
      "metadata": {
        "colab": {
          "base_uri": "https://localhost:8080/"
        },
        "id": "-lUgF28z1wEQ",
        "outputId": "43ec4150-1244-4f38-c11b-457a6fed6537"
      },
      "execution_count": 93,
      "outputs": [
        {
          "output_type": "execute_result",
          "data": {
            "text/plain": [
              "<PrefetchDataset element_spec=(TensorSpec(shape=(None,), dtype=tf.string, name=None), TensorSpec(shape=(None, 5), dtype=tf.float64, name=None))>"
            ]
          },
          "metadata": {},
          "execution_count": 93
        }
      ]
    },
    {
      "cell_type": "code",
      "source": [
        "model_4_history = model_4.fit(train_char_dataset,\n",
        "                              steps_per_epoch=int(0.1*(len(train_char_dataset))),\n",
        "                              epochs=3,\n",
        "                              validation_data=val_char_dataset,\n",
        "                              validation_steps=int(0.1*len(val_char_dataset)))"
      ],
      "metadata": {
        "colab": {
          "base_uri": "https://localhost:8080/"
        },
        "id": "2tHjn63X2WZT",
        "outputId": "5c2a6594-7b79-4a7b-906b-9e9afcd236e4"
      },
      "execution_count": 94,
      "outputs": [
        {
          "output_type": "stream",
          "name": "stdout",
          "text": [
            "Epoch 1/3\n",
            "562/562 [==============================] - 4s 7ms/step - loss: 1.2374 - accuracy: 0.4963 - val_loss: 1.1024 - val_accuracy: 0.5622\n",
            "Epoch 2/3\n",
            "562/562 [==============================] - 3s 6ms/step - loss: 1.0549 - accuracy: 0.5748 - val_loss: 0.9667 - val_accuracy: 0.6187\n",
            "Epoch 3/3\n",
            "562/562 [==============================] - 3s 6ms/step - loss: 0.9569 - accuracy: 0.6259 - val_loss: 0.8976 - val_accuracy: 0.6523\n"
          ]
        }
      ]
    },
    {
      "cell_type": "code",
      "source": [
        "model_4_pred_probs = model_4.predict(val_char_dataset)\n",
        "model_4_preds = tf.argmax(model_4_pred_probs, axis=1)\n",
        "model_4_preds"
      ],
      "metadata": {
        "colab": {
          "base_uri": "https://localhost:8080/"
        },
        "id": "AFfqS8Xq7TZb",
        "outputId": "13321ad5-0031-434b-a2c1-9af13c7af2a8"
      },
      "execution_count": 97,
      "outputs": [
        {
          "output_type": "stream",
          "name": "stdout",
          "text": [
            "945/945 [==============================] - 4s 4ms/step\n"
          ]
        },
        {
          "output_type": "execute_result",
          "data": {
            "text/plain": [
              "<tf.Tensor: shape=(30212,), dtype=int64, numpy=array([3, 3, 3, ..., 4, 2, 1])>"
            ]
          },
          "metadata": {},
          "execution_count": 97
        }
      ]
    },
    {
      "cell_type": "code",
      "source": [
        "model_4_results = calculate_results(y_true=val_labels_encoded,\n",
        "                                    y_pred=model_4_preds)\n",
        "\n",
        "model_4_results"
      ],
      "metadata": {
        "colab": {
          "base_uri": "https://localhost:8080/"
        },
        "id": "yXGpQ4Cz4B93",
        "outputId": "4f816f22-739c-4d0b-d0a8-417bd80379f6"
      },
      "execution_count": 98,
      "outputs": [
        {
          "output_type": "execute_result",
          "data": {
            "text/plain": [
              "{'accuracy': 64.24268502581756,\n",
              " 'precision': 0.6474049244190789,\n",
              " 'recall': 0.6424268502581756,\n",
              " 'f1': 0.6311928916988597}"
            ]
          },
          "metadata": {},
          "execution_count": 98
        }
      ]
    },
    {
      "cell_type": "code",
      "source": [],
      "metadata": {
        "id": "GNoVTJ9s7RTk"
      },
      "execution_count": null,
      "outputs": []
    }
  ],
  "metadata": {
    "accelerator": "GPU",
    "colab": {
      "provenance": [],
      "collapsed_sections": [
        "C5y1wxToODAj",
        "s8Yys-m-Os-E",
        "QgpVuhvNFUlc",
        "KRGXGG4GwrjI",
        "GpGX3RlxSIVk"
      ],
      "authorship_tag": "ABX9TyMEFk9MC734l6JPffc78CNN",
      "include_colab_link": true
    },
    "gpuClass": "standard",
    "kernelspec": {
      "display_name": "Python 3",
      "name": "python3"
    },
    "language_info": {
      "name": "python"
    }
  },
  "nbformat": 4,
  "nbformat_minor": 0
}